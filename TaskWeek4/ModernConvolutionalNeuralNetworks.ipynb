{
  "cells": [
    {
      "cell_type": "markdown",
      "metadata": {
        "id": "view-in-github",
        "colab_type": "text"
      },
      "source": [
        "<a href=\"https://colab.research.google.com/github/keziammanuela/KomputasiIntelegensiaTasks/blob/main/TaskWeek4/ModernConvolutionalNeuralNetworks.ipynb\" target=\"_parent\"><img src=\"https://colab.research.google.com/assets/colab-badge.svg\" alt=\"Open In Colab\"/></a>"
      ]
    },
    {
      "cell_type": "markdown",
      "metadata": {
        "id": "9Fu9yHga6gAA"
      },
      "source": [
        "# **Task Week 4 Computational Intelligence**\n",
        "8. Modern Convolutional Neural Networks"
      ]
    },
    {
      "cell_type": "markdown",
      "metadata": {
        "id": "OUQ_lqdD7SNy"
      },
      "source": [
        "*   Open D2L chapter 8: Modern Convolutional Neural Networks here\n",
        "*   Run each code block with Google Colab and the exercises (8.1-8.8)\n",
        "\n",
        "Nama Kezia Emmanuela Bangun\n",
        "\n",
        "NPM: 2006572964"
      ]
    },
    {
      "cell_type": "markdown",
      "metadata": {
        "id": "Za7P9tl5_SMe"
      },
      "source": [
        "# 8.1. Deep Convolutional Neural Networks (AlexNet)"
      ]
    },
    {
      "cell_type": "code",
      "source": [
        "!pip install d2l"
      ],
      "metadata": {
        "colab": {
          "base_uri": "https://localhost:8080/",
          "height": 1000
        },
        "id": "gtegqoyI5y8y",
        "outputId": "9a9a07ac-0455-4648-8f15-fff9aaebfd29"
      },
      "execution_count": 3,
      "outputs": [
        {
          "output_type": "stream",
          "name": "stdout",
          "text": [
            "Collecting d2l\n",
            "  Downloading d2l-1.0.3-py3-none-any.whl.metadata (556 bytes)\n",
            "Collecting jupyter==1.0.0 (from d2l)\n",
            "  Downloading jupyter-1.0.0-py2.py3-none-any.whl.metadata (995 bytes)\n",
            "Collecting numpy==1.23.5 (from d2l)\n",
            "  Downloading numpy-1.23.5-cp310-cp310-manylinux_2_17_x86_64.manylinux2014_x86_64.whl.metadata (2.3 kB)\n",
            "Collecting matplotlib==3.7.2 (from d2l)\n",
            "  Downloading matplotlib-3.7.2-cp310-cp310-manylinux_2_17_x86_64.manylinux2014_x86_64.whl.metadata (5.6 kB)\n",
            "Collecting matplotlib-inline==0.1.6 (from d2l)\n",
            "  Downloading matplotlib_inline-0.1.6-py3-none-any.whl.metadata (2.8 kB)\n",
            "Collecting requests==2.31.0 (from d2l)\n",
            "  Downloading requests-2.31.0-py3-none-any.whl.metadata (4.6 kB)\n",
            "Collecting pandas==2.0.3 (from d2l)\n",
            "  Downloading pandas-2.0.3-cp310-cp310-manylinux_2_17_x86_64.manylinux2014_x86_64.whl.metadata (18 kB)\n",
            "Collecting scipy==1.10.1 (from d2l)\n",
            "  Downloading scipy-1.10.1-cp310-cp310-manylinux_2_17_x86_64.manylinux2014_x86_64.whl.metadata (58 kB)\n",
            "\u001b[2K     \u001b[90m━━━━━━━━━━━━━━━━━━━━━━━━━━━━━━━━━━━━━━━━\u001b[0m \u001b[32m58.9/58.9 kB\u001b[0m \u001b[31m3.8 MB/s\u001b[0m eta \u001b[36m0:00:00\u001b[0m\n",
            "\u001b[?25hRequirement already satisfied: notebook in /usr/local/lib/python3.10/dist-packages (from jupyter==1.0.0->d2l) (6.5.5)\n",
            "Collecting qtconsole (from jupyter==1.0.0->d2l)\n",
            "  Downloading qtconsole-5.6.0-py3-none-any.whl.metadata (5.0 kB)\n",
            "Requirement already satisfied: jupyter-console in /usr/local/lib/python3.10/dist-packages (from jupyter==1.0.0->d2l) (6.1.0)\n",
            "Requirement already satisfied: nbconvert in /usr/local/lib/python3.10/dist-packages (from jupyter==1.0.0->d2l) (6.5.4)\n",
            "Requirement already satisfied: ipykernel in /usr/local/lib/python3.10/dist-packages (from jupyter==1.0.0->d2l) (5.5.6)\n",
            "Requirement already satisfied: ipywidgets in /usr/local/lib/python3.10/dist-packages (from jupyter==1.0.0->d2l) (7.7.1)\n",
            "Requirement already satisfied: contourpy>=1.0.1 in /usr/local/lib/python3.10/dist-packages (from matplotlib==3.7.2->d2l) (1.3.0)\n",
            "Requirement already satisfied: cycler>=0.10 in /usr/local/lib/python3.10/dist-packages (from matplotlib==3.7.2->d2l) (0.12.1)\n",
            "Requirement already satisfied: fonttools>=4.22.0 in /usr/local/lib/python3.10/dist-packages (from matplotlib==3.7.2->d2l) (4.54.1)\n",
            "Requirement already satisfied: kiwisolver>=1.0.1 in /usr/local/lib/python3.10/dist-packages (from matplotlib==3.7.2->d2l) (1.4.7)\n",
            "Requirement already satisfied: packaging>=20.0 in /usr/local/lib/python3.10/dist-packages (from matplotlib==3.7.2->d2l) (24.1)\n",
            "Requirement already satisfied: pillow>=6.2.0 in /usr/local/lib/python3.10/dist-packages (from matplotlib==3.7.2->d2l) (10.4.0)\n",
            "Collecting pyparsing<3.1,>=2.3.1 (from matplotlib==3.7.2->d2l)\n",
            "  Downloading pyparsing-3.0.9-py3-none-any.whl.metadata (4.2 kB)\n",
            "Requirement already satisfied: python-dateutil>=2.7 in /usr/local/lib/python3.10/dist-packages (from matplotlib==3.7.2->d2l) (2.8.2)\n",
            "Requirement already satisfied: traitlets in /usr/local/lib/python3.10/dist-packages (from matplotlib-inline==0.1.6->d2l) (5.7.1)\n",
            "Requirement already satisfied: pytz>=2020.1 in /usr/local/lib/python3.10/dist-packages (from pandas==2.0.3->d2l) (2024.2)\n",
            "Requirement already satisfied: tzdata>=2022.1 in /usr/local/lib/python3.10/dist-packages (from pandas==2.0.3->d2l) (2024.2)\n",
            "Requirement already satisfied: charset-normalizer<4,>=2 in /usr/local/lib/python3.10/dist-packages (from requests==2.31.0->d2l) (3.3.2)\n",
            "Requirement already satisfied: idna<4,>=2.5 in /usr/local/lib/python3.10/dist-packages (from requests==2.31.0->d2l) (3.10)\n",
            "Requirement already satisfied: urllib3<3,>=1.21.1 in /usr/local/lib/python3.10/dist-packages (from requests==2.31.0->d2l) (2.2.3)\n",
            "Requirement already satisfied: certifi>=2017.4.17 in /usr/local/lib/python3.10/dist-packages (from requests==2.31.0->d2l) (2024.8.30)\n",
            "Requirement already satisfied: six>=1.5 in /usr/local/lib/python3.10/dist-packages (from python-dateutil>=2.7->matplotlib==3.7.2->d2l) (1.16.0)\n",
            "Requirement already satisfied: ipython-genutils in /usr/local/lib/python3.10/dist-packages (from ipykernel->jupyter==1.0.0->d2l) (0.2.0)\n",
            "Requirement already satisfied: ipython>=5.0.0 in /usr/local/lib/python3.10/dist-packages (from ipykernel->jupyter==1.0.0->d2l) (7.34.0)\n",
            "Requirement already satisfied: jupyter-client in /usr/local/lib/python3.10/dist-packages (from ipykernel->jupyter==1.0.0->d2l) (6.1.12)\n",
            "Requirement already satisfied: tornado>=4.2 in /usr/local/lib/python3.10/dist-packages (from ipykernel->jupyter==1.0.0->d2l) (6.3.3)\n",
            "Requirement already satisfied: widgetsnbextension~=3.6.0 in /usr/local/lib/python3.10/dist-packages (from ipywidgets->jupyter==1.0.0->d2l) (3.6.9)\n",
            "Requirement already satisfied: jupyterlab-widgets>=1.0.0 in /usr/local/lib/python3.10/dist-packages (from ipywidgets->jupyter==1.0.0->d2l) (3.0.13)\n",
            "Requirement already satisfied: prompt-toolkit!=3.0.0,!=3.0.1,<3.1.0,>=2.0.0 in /usr/local/lib/python3.10/dist-packages (from jupyter-console->jupyter==1.0.0->d2l) (3.0.48)\n",
            "Requirement already satisfied: pygments in /usr/local/lib/python3.10/dist-packages (from jupyter-console->jupyter==1.0.0->d2l) (2.18.0)\n",
            "Requirement already satisfied: lxml in /usr/local/lib/python3.10/dist-packages (from nbconvert->jupyter==1.0.0->d2l) (4.9.4)\n",
            "Requirement already satisfied: beautifulsoup4 in /usr/local/lib/python3.10/dist-packages (from nbconvert->jupyter==1.0.0->d2l) (4.12.3)\n",
            "Requirement already satisfied: bleach in /usr/local/lib/python3.10/dist-packages (from nbconvert->jupyter==1.0.0->d2l) (6.1.0)\n",
            "Requirement already satisfied: defusedxml in /usr/local/lib/python3.10/dist-packages (from nbconvert->jupyter==1.0.0->d2l) (0.7.1)\n",
            "Requirement already satisfied: entrypoints>=0.2.2 in /usr/local/lib/python3.10/dist-packages (from nbconvert->jupyter==1.0.0->d2l) (0.4)\n",
            "Requirement already satisfied: jinja2>=3.0 in /usr/local/lib/python3.10/dist-packages (from nbconvert->jupyter==1.0.0->d2l) (3.1.4)\n",
            "Requirement already satisfied: jupyter-core>=4.7 in /usr/local/lib/python3.10/dist-packages (from nbconvert->jupyter==1.0.0->d2l) (5.7.2)\n",
            "Requirement already satisfied: jupyterlab-pygments in /usr/local/lib/python3.10/dist-packages (from nbconvert->jupyter==1.0.0->d2l) (0.3.0)\n",
            "Requirement already satisfied: MarkupSafe>=2.0 in /usr/local/lib/python3.10/dist-packages (from nbconvert->jupyter==1.0.0->d2l) (2.1.5)\n",
            "Requirement already satisfied: mistune<2,>=0.8.1 in /usr/local/lib/python3.10/dist-packages (from nbconvert->jupyter==1.0.0->d2l) (0.8.4)\n",
            "Requirement already satisfied: nbclient>=0.5.0 in /usr/local/lib/python3.10/dist-packages (from nbconvert->jupyter==1.0.0->d2l) (0.10.0)\n",
            "Requirement already satisfied: nbformat>=5.1 in /usr/local/lib/python3.10/dist-packages (from nbconvert->jupyter==1.0.0->d2l) (5.10.4)\n",
            "Requirement already satisfied: pandocfilters>=1.4.1 in /usr/local/lib/python3.10/dist-packages (from nbconvert->jupyter==1.0.0->d2l) (1.5.1)\n",
            "Requirement already satisfied: tinycss2 in /usr/local/lib/python3.10/dist-packages (from nbconvert->jupyter==1.0.0->d2l) (1.3.0)\n",
            "Requirement already satisfied: pyzmq<25,>=17 in /usr/local/lib/python3.10/dist-packages (from notebook->jupyter==1.0.0->d2l) (24.0.1)\n",
            "Requirement already satisfied: argon2-cffi in /usr/local/lib/python3.10/dist-packages (from notebook->jupyter==1.0.0->d2l) (23.1.0)\n",
            "Requirement already satisfied: nest-asyncio>=1.5 in /usr/local/lib/python3.10/dist-packages (from notebook->jupyter==1.0.0->d2l) (1.6.0)\n",
            "Requirement already satisfied: Send2Trash>=1.8.0 in /usr/local/lib/python3.10/dist-packages (from notebook->jupyter==1.0.0->d2l) (1.8.3)\n",
            "Requirement already satisfied: terminado>=0.8.3 in /usr/local/lib/python3.10/dist-packages (from notebook->jupyter==1.0.0->d2l) (0.18.1)\n",
            "Requirement already satisfied: prometheus-client in /usr/local/lib/python3.10/dist-packages (from notebook->jupyter==1.0.0->d2l) (0.21.0)\n",
            "Requirement already satisfied: nbclassic>=0.4.7 in /usr/local/lib/python3.10/dist-packages (from notebook->jupyter==1.0.0->d2l) (1.1.0)\n",
            "Collecting qtpy>=2.4.0 (from qtconsole->jupyter==1.0.0->d2l)\n",
            "  Downloading QtPy-2.4.1-py3-none-any.whl.metadata (12 kB)\n",
            "Requirement already satisfied: setuptools>=18.5 in /usr/local/lib/python3.10/dist-packages (from ipython>=5.0.0->ipykernel->jupyter==1.0.0->d2l) (71.0.4)\n",
            "Collecting jedi>=0.16 (from ipython>=5.0.0->ipykernel->jupyter==1.0.0->d2l)\n",
            "  Using cached jedi-0.19.1-py2.py3-none-any.whl.metadata (22 kB)\n",
            "Requirement already satisfied: decorator in /usr/local/lib/python3.10/dist-packages (from ipython>=5.0.0->ipykernel->jupyter==1.0.0->d2l) (4.4.2)\n",
            "Requirement already satisfied: pickleshare in /usr/local/lib/python3.10/dist-packages (from ipython>=5.0.0->ipykernel->jupyter==1.0.0->d2l) (0.7.5)\n",
            "Requirement already satisfied: backcall in /usr/local/lib/python3.10/dist-packages (from ipython>=5.0.0->ipykernel->jupyter==1.0.0->d2l) (0.2.0)\n",
            "Requirement already satisfied: pexpect>4.3 in /usr/local/lib/python3.10/dist-packages (from ipython>=5.0.0->ipykernel->jupyter==1.0.0->d2l) (4.9.0)\n",
            "Requirement already satisfied: platformdirs>=2.5 in /usr/local/lib/python3.10/dist-packages (from jupyter-core>=4.7->nbconvert->jupyter==1.0.0->d2l) (4.3.6)\n",
            "Requirement already satisfied: notebook-shim>=0.2.3 in /usr/local/lib/python3.10/dist-packages (from nbclassic>=0.4.7->notebook->jupyter==1.0.0->d2l) (0.2.4)\n",
            "Requirement already satisfied: fastjsonschema>=2.15 in /usr/local/lib/python3.10/dist-packages (from nbformat>=5.1->nbconvert->jupyter==1.0.0->d2l) (2.20.0)\n",
            "Requirement already satisfied: jsonschema>=2.6 in /usr/local/lib/python3.10/dist-packages (from nbformat>=5.1->nbconvert->jupyter==1.0.0->d2l) (4.23.0)\n",
            "Requirement already satisfied: wcwidth in /usr/local/lib/python3.10/dist-packages (from prompt-toolkit!=3.0.0,!=3.0.1,<3.1.0,>=2.0.0->jupyter-console->jupyter==1.0.0->d2l) (0.2.13)\n",
            "Requirement already satisfied: ptyprocess in /usr/local/lib/python3.10/dist-packages (from terminado>=0.8.3->notebook->jupyter==1.0.0->d2l) (0.7.0)\n",
            "Requirement already satisfied: argon2-cffi-bindings in /usr/local/lib/python3.10/dist-packages (from argon2-cffi->notebook->jupyter==1.0.0->d2l) (21.2.0)\n",
            "Requirement already satisfied: soupsieve>1.2 in /usr/local/lib/python3.10/dist-packages (from beautifulsoup4->nbconvert->jupyter==1.0.0->d2l) (2.6)\n",
            "Requirement already satisfied: webencodings in /usr/local/lib/python3.10/dist-packages (from bleach->nbconvert->jupyter==1.0.0->d2l) (0.5.1)\n",
            "Requirement already satisfied: parso<0.9.0,>=0.8.3 in /usr/local/lib/python3.10/dist-packages (from jedi>=0.16->ipython>=5.0.0->ipykernel->jupyter==1.0.0->d2l) (0.8.4)\n",
            "Requirement already satisfied: attrs>=22.2.0 in /usr/local/lib/python3.10/dist-packages (from jsonschema>=2.6->nbformat>=5.1->nbconvert->jupyter==1.0.0->d2l) (24.2.0)\n",
            "Requirement already satisfied: jsonschema-specifications>=2023.03.6 in /usr/local/lib/python3.10/dist-packages (from jsonschema>=2.6->nbformat>=5.1->nbconvert->jupyter==1.0.0->d2l) (2023.12.1)\n",
            "Requirement already satisfied: referencing>=0.28.4 in /usr/local/lib/python3.10/dist-packages (from jsonschema>=2.6->nbformat>=5.1->nbconvert->jupyter==1.0.0->d2l) (0.35.1)\n",
            "Requirement already satisfied: rpds-py>=0.7.1 in /usr/local/lib/python3.10/dist-packages (from jsonschema>=2.6->nbformat>=5.1->nbconvert->jupyter==1.0.0->d2l) (0.20.0)\n",
            "Requirement already satisfied: jupyter-server<3,>=1.8 in /usr/local/lib/python3.10/dist-packages (from notebook-shim>=0.2.3->nbclassic>=0.4.7->notebook->jupyter==1.0.0->d2l) (1.24.0)\n",
            "Requirement already satisfied: cffi>=1.0.1 in /usr/local/lib/python3.10/dist-packages (from argon2-cffi-bindings->argon2-cffi->notebook->jupyter==1.0.0->d2l) (1.17.1)\n",
            "Requirement already satisfied: pycparser in /usr/local/lib/python3.10/dist-packages (from cffi>=1.0.1->argon2-cffi-bindings->argon2-cffi->notebook->jupyter==1.0.0->d2l) (2.22)\n",
            "Requirement already satisfied: anyio<4,>=3.1.0 in /usr/local/lib/python3.10/dist-packages (from jupyter-server<3,>=1.8->notebook-shim>=0.2.3->nbclassic>=0.4.7->notebook->jupyter==1.0.0->d2l) (3.7.1)\n",
            "Requirement already satisfied: websocket-client in /usr/local/lib/python3.10/dist-packages (from jupyter-server<3,>=1.8->notebook-shim>=0.2.3->nbclassic>=0.4.7->notebook->jupyter==1.0.0->d2l) (1.8.0)\n",
            "Requirement already satisfied: sniffio>=1.1 in /usr/local/lib/python3.10/dist-packages (from anyio<4,>=3.1.0->jupyter-server<3,>=1.8->notebook-shim>=0.2.3->nbclassic>=0.4.7->notebook->jupyter==1.0.0->d2l) (1.3.1)\n",
            "Requirement already satisfied: exceptiongroup in /usr/local/lib/python3.10/dist-packages (from anyio<4,>=3.1.0->jupyter-server<3,>=1.8->notebook-shim>=0.2.3->nbclassic>=0.4.7->notebook->jupyter==1.0.0->d2l) (1.2.2)\n",
            "Downloading d2l-1.0.3-py3-none-any.whl (111 kB)\n",
            "\u001b[2K   \u001b[90m━━━━━━━━━━━━━━━━━━━━━━━━━━━━━━━━━━━━━━━━\u001b[0m \u001b[32m111.7/111.7 kB\u001b[0m \u001b[31m7.0 MB/s\u001b[0m eta \u001b[36m0:00:00\u001b[0m\n",
            "\u001b[?25hDownloading jupyter-1.0.0-py2.py3-none-any.whl (2.7 kB)\n",
            "Downloading matplotlib-3.7.2-cp310-cp310-manylinux_2_17_x86_64.manylinux2014_x86_64.whl (11.6 MB)\n",
            "\u001b[2K   \u001b[90m━━━━━━━━━━━━━━━━━━━━━━━━━━━━━━━━━━━━━━━━\u001b[0m \u001b[32m11.6/11.6 MB\u001b[0m \u001b[31m107.6 MB/s\u001b[0m eta \u001b[36m0:00:00\u001b[0m\n",
            "\u001b[?25hDownloading matplotlib_inline-0.1.6-py3-none-any.whl (9.4 kB)\n",
            "Downloading numpy-1.23.5-cp310-cp310-manylinux_2_17_x86_64.manylinux2014_x86_64.whl (17.1 MB)\n",
            "\u001b[2K   \u001b[90m━━━━━━━━━━━━━━━━━━━━━━━━━━━━━━━━━━━━━━━━\u001b[0m \u001b[32m17.1/17.1 MB\u001b[0m \u001b[31m104.4 MB/s\u001b[0m eta \u001b[36m0:00:00\u001b[0m\n",
            "\u001b[?25hDownloading pandas-2.0.3-cp310-cp310-manylinux_2_17_x86_64.manylinux2014_x86_64.whl (12.3 MB)\n",
            "\u001b[2K   \u001b[90m━━━━━━━━━━━━━━━━━━━━━━━━━━━━━━━━━━━━━━━━\u001b[0m \u001b[32m12.3/12.3 MB\u001b[0m \u001b[31m110.4 MB/s\u001b[0m eta \u001b[36m0:00:00\u001b[0m\n",
            "\u001b[?25hDownloading requests-2.31.0-py3-none-any.whl (62 kB)\n",
            "\u001b[2K   \u001b[90m━━━━━━━━━━━━━━━━━━━━━━━━━━━━━━━━━━━━━━━━\u001b[0m \u001b[32m62.6/62.6 kB\u001b[0m \u001b[31m5.8 MB/s\u001b[0m eta \u001b[36m0:00:00\u001b[0m\n",
            "\u001b[?25hDownloading scipy-1.10.1-cp310-cp310-manylinux_2_17_x86_64.manylinux2014_x86_64.whl (34.4 MB)\n",
            "\u001b[2K   \u001b[90m━━━━━━━━━━━━━━━━━━━━━━━━━━━━━━━━━━━━━━━━\u001b[0m \u001b[32m34.4/34.4 MB\u001b[0m \u001b[31m13.8 MB/s\u001b[0m eta \u001b[36m0:00:00\u001b[0m\n",
            "\u001b[?25hDownloading pyparsing-3.0.9-py3-none-any.whl (98 kB)\n",
            "\u001b[2K   \u001b[90m━━━━━━━━━━━━━━━━━━━━━━━━━━━━━━━━━━━━━━━━\u001b[0m \u001b[32m98.3/98.3 kB\u001b[0m \u001b[31m9.6 MB/s\u001b[0m eta \u001b[36m0:00:00\u001b[0m\n",
            "\u001b[?25hDownloading qtconsole-5.6.0-py3-none-any.whl (124 kB)\n",
            "\u001b[2K   \u001b[90m━━━━━━━━━━━━━━━━━━━━━━━━━━━━━━━━━━━━━━━━\u001b[0m \u001b[32m124.7/124.7 kB\u001b[0m \u001b[31m12.9 MB/s\u001b[0m eta \u001b[36m0:00:00\u001b[0m\n",
            "\u001b[?25hDownloading QtPy-2.4.1-py3-none-any.whl (93 kB)\n",
            "\u001b[2K   \u001b[90m━━━━━━━━━━━━━━━━━━━━━━━━━━━━━━━━━━━━━━━━\u001b[0m \u001b[32m93.5/93.5 kB\u001b[0m \u001b[31m9.4 MB/s\u001b[0m eta \u001b[36m0:00:00\u001b[0m\n",
            "\u001b[?25hUsing cached jedi-0.19.1-py2.py3-none-any.whl (1.6 MB)\n",
            "Installing collected packages: requests, qtpy, pyparsing, numpy, matplotlib-inline, jedi, scipy, pandas, matplotlib, qtconsole, jupyter, d2l\n",
            "  Attempting uninstall: requests\n",
            "    Found existing installation: requests 2.32.3\n",
            "    Uninstalling requests-2.32.3:\n",
            "      Successfully uninstalled requests-2.32.3\n",
            "  Attempting uninstall: pyparsing\n",
            "    Found existing installation: pyparsing 3.1.4\n",
            "    Uninstalling pyparsing-3.1.4:\n",
            "      Successfully uninstalled pyparsing-3.1.4\n",
            "  Attempting uninstall: numpy\n",
            "    Found existing installation: numpy 1.26.4\n",
            "    Uninstalling numpy-1.26.4:\n",
            "      Successfully uninstalled numpy-1.26.4\n",
            "  Attempting uninstall: matplotlib-inline\n",
            "    Found existing installation: matplotlib-inline 0.1.7\n",
            "    Uninstalling matplotlib-inline-0.1.7:\n",
            "      Successfully uninstalled matplotlib-inline-0.1.7\n",
            "  Attempting uninstall: scipy\n",
            "    Found existing installation: scipy 1.13.1\n",
            "    Uninstalling scipy-1.13.1:\n",
            "      Successfully uninstalled scipy-1.13.1\n",
            "  Attempting uninstall: pandas\n",
            "    Found existing installation: pandas 2.2.2\n",
            "    Uninstalling pandas-2.2.2:\n",
            "      Successfully uninstalled pandas-2.2.2\n",
            "  Attempting uninstall: matplotlib\n",
            "    Found existing installation: matplotlib 3.7.1\n",
            "    Uninstalling matplotlib-3.7.1:\n",
            "      Successfully uninstalled matplotlib-3.7.1\n",
            "\u001b[31mERROR: pip's dependency resolver does not currently take into account all the packages that are installed. This behaviour is the source of the following dependency conflicts.\n",
            "albucore 0.0.16 requires numpy>=1.24, but you have numpy 1.23.5 which is incompatible.\n",
            "albumentations 1.4.15 requires numpy>=1.24.4, but you have numpy 1.23.5 which is incompatible.\n",
            "bigframes 1.19.0 requires numpy>=1.24.0, but you have numpy 1.23.5 which is incompatible.\n",
            "chex 0.1.87 requires numpy>=1.24.1, but you have numpy 1.23.5 which is incompatible.\n",
            "google-colab 1.0.0 requires pandas==2.2.2, but you have pandas 2.0.3 which is incompatible.\n",
            "google-colab 1.0.0 requires requests==2.32.3, but you have requests 2.31.0 which is incompatible.\n",
            "jax 0.4.33 requires numpy>=1.24, but you have numpy 1.23.5 which is incompatible.\n",
            "jaxlib 0.4.33 requires numpy>=1.24, but you have numpy 1.23.5 which is incompatible.\n",
            "mizani 0.11.4 requires pandas>=2.1.0, but you have pandas 2.0.3 which is incompatible.\n",
            "plotnine 0.13.6 requires pandas<3.0.0,>=2.1.0, but you have pandas 2.0.3 which is incompatible.\n",
            "xarray 2024.9.0 requires numpy>=1.24, but you have numpy 1.23.5 which is incompatible.\n",
            "xarray 2024.9.0 requires pandas>=2.1, but you have pandas 2.0.3 which is incompatible.\u001b[0m\u001b[31m\n",
            "\u001b[0mSuccessfully installed d2l-1.0.3 jedi-0.19.1 jupyter-1.0.0 matplotlib-3.7.2 matplotlib-inline-0.1.6 numpy-1.23.5 pandas-2.0.3 pyparsing-3.0.9 qtconsole-5.6.0 qtpy-2.4.1 requests-2.31.0 scipy-1.10.1\n"
          ]
        },
        {
          "output_type": "display_data",
          "data": {
            "application/vnd.colab-display-data+json": {
              "pip_warning": {
                "packages": [
                  "matplotlib",
                  "matplotlib_inline",
                  "mpl_toolkits",
                  "numpy"
                ]
              },
              "id": "92e70c1ed7744a99acb20f8f3f1db544"
            }
          },
          "metadata": {}
        }
      ]
    },
    {
      "cell_type": "code",
      "source": [
        "import torch\n",
        "from torch import nn\n",
        "from d2l import torch as d2l"
      ],
      "metadata": {
        "id": "-TIszLfEIY1S"
      },
      "execution_count": 1,
      "outputs": []
    },
    {
      "cell_type": "markdown",
      "metadata": {
        "id": "UWjc7FAY_cBl"
      },
      "source": [
        "## 8.1.2.3. Capacity Control and Preprocessing"
      ]
    },
    {
      "cell_type": "code",
      "execution_count": 2,
      "metadata": {
        "id": "lDJp-Ap76T3J"
      },
      "outputs": [],
      "source": [
        "class AlexNet(d2l.Classifier):\n",
        "    def __init__(self, lr=0.1, num_classes=10):\n",
        "        super().__init__()\n",
        "        self.save_hyperparameters()\n",
        "        self.net = nn.Sequential(\n",
        "            nn.LazyConv2d(96, kernel_size=11, stride=4, padding=1),\n",
        "            nn.ReLU(), nn.MaxPool2d(kernel_size=3, stride=2),\n",
        "            nn.LazyConv2d(256, kernel_size=5, padding=2), nn.ReLU(),\n",
        "            nn.MaxPool2d(kernel_size=3, stride=2),\n",
        "            nn.LazyConv2d(384, kernel_size=3, padding=1), nn.ReLU(),\n",
        "            nn.LazyConv2d(384, kernel_size=3, padding=1), nn.ReLU(),\n",
        "            nn.LazyConv2d(256, kernel_size=3, padding=1), nn.ReLU(),\n",
        "            nn.MaxPool2d(kernel_size=3, stride=2), nn.Flatten(),\n",
        "            nn.LazyLinear(4096), nn.ReLU(), nn.Dropout(p=0.5),\n",
        "            nn.LazyLinear(4096), nn.ReLU(),nn.Dropout(p=0.5),\n",
        "            nn.LazyLinear(num_classes))\n",
        "        self.net.apply(d2l.init_cnn)"
      ]
    },
    {
      "cell_type": "code",
      "source": [
        "AlexNet().layer_summary((1, 1, 224, 224))"
      ],
      "metadata": {
        "id": "f5aCRTdyjAxC",
        "colab": {
          "base_uri": "https://localhost:8080/"
        },
        "outputId": "b24f1d21-3e9e-4758-8c7a-ba141967a815"
      },
      "execution_count": 3,
      "outputs": [
        {
          "output_type": "stream",
          "name": "stdout",
          "text": [
            "Conv2d output shape:\t torch.Size([1, 96, 54, 54])\n",
            "ReLU output shape:\t torch.Size([1, 96, 54, 54])\n",
            "MaxPool2d output shape:\t torch.Size([1, 96, 26, 26])\n",
            "Conv2d output shape:\t torch.Size([1, 256, 26, 26])\n",
            "ReLU output shape:\t torch.Size([1, 256, 26, 26])\n",
            "MaxPool2d output shape:\t torch.Size([1, 256, 12, 12])\n",
            "Conv2d output shape:\t torch.Size([1, 384, 12, 12])\n",
            "ReLU output shape:\t torch.Size([1, 384, 12, 12])\n",
            "Conv2d output shape:\t torch.Size([1, 384, 12, 12])\n",
            "ReLU output shape:\t torch.Size([1, 384, 12, 12])\n",
            "Conv2d output shape:\t torch.Size([1, 256, 12, 12])\n",
            "ReLU output shape:\t torch.Size([1, 256, 12, 12])\n",
            "MaxPool2d output shape:\t torch.Size([1, 256, 5, 5])\n",
            "Flatten output shape:\t torch.Size([1, 6400])\n",
            "Linear output shape:\t torch.Size([1, 4096])\n",
            "ReLU output shape:\t torch.Size([1, 4096])\n",
            "Dropout output shape:\t torch.Size([1, 4096])\n",
            "Linear output shape:\t torch.Size([1, 4096])\n",
            "ReLU output shape:\t torch.Size([1, 4096])\n",
            "Dropout output shape:\t torch.Size([1, 4096])\n",
            "Linear output shape:\t torch.Size([1, 10])\n"
          ]
        }
      ]
    },
    {
      "cell_type": "markdown",
      "source": [
        "## 8.1.3. Training"
      ],
      "metadata": {
        "id": "plQYP9YCIhTH"
      }
    },
    {
      "cell_type": "code",
      "execution_count": 4,
      "metadata": {
        "id": "AfgOQaUlAT6v",
        "colab": {
          "base_uri": "https://localhost:8080/",
          "height": 265
        },
        "outputId": "40f6fccc-1fc9-40b3-a9e1-025b544e1b97"
      },
      "outputs": [
        {
          "output_type": "display_data",
          "data": {
            "text/plain": [
              "<Figure size 350x250 with 1 Axes>"
            ],
            "image/svg+xml": "<?xml version=\"1.0\" encoding=\"utf-8\" standalone=\"no\"?>\n<!DOCTYPE svg PUBLIC \"-//W3C//DTD SVG 1.1//EN\"\n  \"http://www.w3.org/Graphics/SVG/1.1/DTD/svg11.dtd\">\n<svg xmlns:xlink=\"http://www.w3.org/1999/xlink\" width=\"238.965625pt\" height=\"183.35625pt\" viewBox=\"0 0 238.965625 183.35625\" xmlns=\"http://www.w3.org/2000/svg\" version=\"1.1\">\n <metadata>\n  <rdf:RDF xmlns:dc=\"http://purl.org/dc/elements/1.1/\" xmlns:cc=\"http://creativecommons.org/ns#\" xmlns:rdf=\"http://www.w3.org/1999/02/22-rdf-syntax-ns#\">\n   <cc:Work>\n    <dc:type rdf:resource=\"http://purl.org/dc/dcmitype/StillImage\"/>\n    <dc:date>2024-10-05T13:50:51.173691</dc:date>\n    <dc:format>image/svg+xml</dc:format>\n    <dc:creator>\n     <cc:Agent>\n      <dc:title>Matplotlib v3.7.2, https://matplotlib.org/</dc:title>\n     </cc:Agent>\n    </dc:creator>\n   </cc:Work>\n  </rdf:RDF>\n </metadata>\n <defs>\n  <style type=\"text/css\">*{stroke-linejoin: round; stroke-linecap: butt}</style>\n </defs>\n <g id=\"figure_1\">\n  <g id=\"patch_1\">\n   <path d=\"M 0 183.35625 \nL 238.965625 183.35625 \nL 238.965625 0 \nL 0 0 \nz\n\" style=\"fill: #ffffff\"/>\n  </g>\n  <g id=\"axes_1\">\n   <g id=\"patch_2\">\n    <path d=\"M 30.103125 145.8 \nL 225.403125 145.8 \nL 225.403125 7.2 \nL 30.103125 7.2 \nz\n\" style=\"fill: #ffffff\"/>\n   </g>\n   <g id=\"matplotlib.axis_1\">\n    <g id=\"xtick_1\">\n     <g id=\"line2d_1\">\n      <defs>\n       <path id=\"m6b0bc3158c\" d=\"M 0 0 \nL 0 3.5 \n\" style=\"stroke: #000000; stroke-width: 0.8\"/>\n      </defs>\n      <g>\n       <use xlink:href=\"#m6b0bc3158c\" x=\"30.103125\" y=\"145.8\" style=\"stroke: #000000; stroke-width: 0.8\"/>\n      </g>\n     </g>\n     <g id=\"text_1\">\n      <!-- 0 -->\n      <g transform=\"translate(26.921875 160.398438) scale(0.1 -0.1)\">\n       <defs>\n        <path id=\"DejaVuSans-30\" d=\"M 2034 4250 \nQ 1547 4250 1301 3770 \nQ 1056 3291 1056 2328 \nQ 1056 1369 1301 889 \nQ 1547 409 2034 409 \nQ 2525 409 2770 889 \nQ 3016 1369 3016 2328 \nQ 3016 3291 2770 3770 \nQ 2525 4250 2034 4250 \nz\nM 2034 4750 \nQ 2819 4750 3233 4129 \nQ 3647 3509 3647 2328 \nQ 3647 1150 3233 529 \nQ 2819 -91 2034 -91 \nQ 1250 -91 836 529 \nQ 422 1150 422 2328 \nQ 422 3509 836 4129 \nQ 1250 4750 2034 4750 \nz\n\" transform=\"scale(0.015625)\"/>\n       </defs>\n       <use xlink:href=\"#DejaVuSans-30\"/>\n      </g>\n     </g>\n    </g>\n    <g id=\"xtick_2\">\n     <g id=\"line2d_2\">\n      <g>\n       <use xlink:href=\"#m6b0bc3158c\" x=\"69.163125\" y=\"145.8\" style=\"stroke: #000000; stroke-width: 0.8\"/>\n      </g>\n     </g>\n     <g id=\"text_2\">\n      <!-- 2 -->\n      <g transform=\"translate(65.981875 160.398438) scale(0.1 -0.1)\">\n       <defs>\n        <path id=\"DejaVuSans-32\" d=\"M 1228 531 \nL 3431 531 \nL 3431 0 \nL 469 0 \nL 469 531 \nQ 828 903 1448 1529 \nQ 2069 2156 2228 2338 \nQ 2531 2678 2651 2914 \nQ 2772 3150 2772 3378 \nQ 2772 3750 2511 3984 \nQ 2250 4219 1831 4219 \nQ 1534 4219 1204 4116 \nQ 875 4013 500 3803 \nL 500 4441 \nQ 881 4594 1212 4672 \nQ 1544 4750 1819 4750 \nQ 2544 4750 2975 4387 \nQ 3406 4025 3406 3419 \nQ 3406 3131 3298 2873 \nQ 3191 2616 2906 2266 \nQ 2828 2175 2409 1742 \nQ 1991 1309 1228 531 \nz\n\" transform=\"scale(0.015625)\"/>\n       </defs>\n       <use xlink:href=\"#DejaVuSans-32\"/>\n      </g>\n     </g>\n    </g>\n    <g id=\"xtick_3\">\n     <g id=\"line2d_3\">\n      <g>\n       <use xlink:href=\"#m6b0bc3158c\" x=\"108.223125\" y=\"145.8\" style=\"stroke: #000000; stroke-width: 0.8\"/>\n      </g>\n     </g>\n     <g id=\"text_3\">\n      <!-- 4 -->\n      <g transform=\"translate(105.041875 160.398438) scale(0.1 -0.1)\">\n       <defs>\n        <path id=\"DejaVuSans-34\" d=\"M 2419 4116 \nL 825 1625 \nL 2419 1625 \nL 2419 4116 \nz\nM 2253 4666 \nL 3047 4666 \nL 3047 1625 \nL 3713 1625 \nL 3713 1100 \nL 3047 1100 \nL 3047 0 \nL 2419 0 \nL 2419 1100 \nL 313 1100 \nL 313 1709 \nL 2253 4666 \nz\n\" transform=\"scale(0.015625)\"/>\n       </defs>\n       <use xlink:href=\"#DejaVuSans-34\"/>\n      </g>\n     </g>\n    </g>\n    <g id=\"xtick_4\">\n     <g id=\"line2d_4\">\n      <g>\n       <use xlink:href=\"#m6b0bc3158c\" x=\"147.283125\" y=\"145.8\" style=\"stroke: #000000; stroke-width: 0.8\"/>\n      </g>\n     </g>\n     <g id=\"text_4\">\n      <!-- 6 -->\n      <g transform=\"translate(144.101875 160.398438) scale(0.1 -0.1)\">\n       <defs>\n        <path id=\"DejaVuSans-36\" d=\"M 2113 2584 \nQ 1688 2584 1439 2293 \nQ 1191 2003 1191 1497 \nQ 1191 994 1439 701 \nQ 1688 409 2113 409 \nQ 2538 409 2786 701 \nQ 3034 994 3034 1497 \nQ 3034 2003 2786 2293 \nQ 2538 2584 2113 2584 \nz\nM 3366 4563 \nL 3366 3988 \nQ 3128 4100 2886 4159 \nQ 2644 4219 2406 4219 \nQ 1781 4219 1451 3797 \nQ 1122 3375 1075 2522 \nQ 1259 2794 1537 2939 \nQ 1816 3084 2150 3084 \nQ 2853 3084 3261 2657 \nQ 3669 2231 3669 1497 \nQ 3669 778 3244 343 \nQ 2819 -91 2113 -91 \nQ 1303 -91 875 529 \nQ 447 1150 447 2328 \nQ 447 3434 972 4092 \nQ 1497 4750 2381 4750 \nQ 2619 4750 2861 4703 \nQ 3103 4656 3366 4563 \nz\n\" transform=\"scale(0.015625)\"/>\n       </defs>\n       <use xlink:href=\"#DejaVuSans-36\"/>\n      </g>\n     </g>\n    </g>\n    <g id=\"xtick_5\">\n     <g id=\"line2d_5\">\n      <g>\n       <use xlink:href=\"#m6b0bc3158c\" x=\"186.343125\" y=\"145.8\" style=\"stroke: #000000; stroke-width: 0.8\"/>\n      </g>\n     </g>\n     <g id=\"text_5\">\n      <!-- 8 -->\n      <g transform=\"translate(183.161875 160.398438) scale(0.1 -0.1)\">\n       <defs>\n        <path id=\"DejaVuSans-38\" d=\"M 2034 2216 \nQ 1584 2216 1326 1975 \nQ 1069 1734 1069 1313 \nQ 1069 891 1326 650 \nQ 1584 409 2034 409 \nQ 2484 409 2743 651 \nQ 3003 894 3003 1313 \nQ 3003 1734 2745 1975 \nQ 2488 2216 2034 2216 \nz\nM 1403 2484 \nQ 997 2584 770 2862 \nQ 544 3141 544 3541 \nQ 544 4100 942 4425 \nQ 1341 4750 2034 4750 \nQ 2731 4750 3128 4425 \nQ 3525 4100 3525 3541 \nQ 3525 3141 3298 2862 \nQ 3072 2584 2669 2484 \nQ 3125 2378 3379 2068 \nQ 3634 1759 3634 1313 \nQ 3634 634 3220 271 \nQ 2806 -91 2034 -91 \nQ 1263 -91 848 271 \nQ 434 634 434 1313 \nQ 434 1759 690 2068 \nQ 947 2378 1403 2484 \nz\nM 1172 3481 \nQ 1172 3119 1398 2916 \nQ 1625 2713 2034 2713 \nQ 2441 2713 2670 2916 \nQ 2900 3119 2900 3481 \nQ 2900 3844 2670 4047 \nQ 2441 4250 2034 4250 \nQ 1625 4250 1398 4047 \nQ 1172 3844 1172 3481 \nz\n\" transform=\"scale(0.015625)\"/>\n       </defs>\n       <use xlink:href=\"#DejaVuSans-38\"/>\n      </g>\n     </g>\n    </g>\n    <g id=\"xtick_6\">\n     <g id=\"line2d_6\">\n      <g>\n       <use xlink:href=\"#m6b0bc3158c\" x=\"225.403125\" y=\"145.8\" style=\"stroke: #000000; stroke-width: 0.8\"/>\n      </g>\n     </g>\n     <g id=\"text_6\">\n      <!-- 10 -->\n      <g transform=\"translate(219.040625 160.398438) scale(0.1 -0.1)\">\n       <defs>\n        <path id=\"DejaVuSans-31\" d=\"M 794 531 \nL 1825 531 \nL 1825 4091 \nL 703 3866 \nL 703 4441 \nL 1819 4666 \nL 2450 4666 \nL 2450 531 \nL 3481 531 \nL 3481 0 \nL 794 0 \nL 794 531 \nz\n\" transform=\"scale(0.015625)\"/>\n       </defs>\n       <use xlink:href=\"#DejaVuSans-31\"/>\n       <use xlink:href=\"#DejaVuSans-30\" x=\"63.623047\"/>\n      </g>\n     </g>\n    </g>\n    <g id=\"text_7\">\n     <!-- epoch -->\n     <g transform=\"translate(112.525 174.076563) scale(0.1 -0.1)\">\n      <defs>\n       <path id=\"DejaVuSans-65\" d=\"M 3597 1894 \nL 3597 1613 \nL 953 1613 \nQ 991 1019 1311 708 \nQ 1631 397 2203 397 \nQ 2534 397 2845 478 \nQ 3156 559 3463 722 \nL 3463 178 \nQ 3153 47 2828 -22 \nQ 2503 -91 2169 -91 \nQ 1331 -91 842 396 \nQ 353 884 353 1716 \nQ 353 2575 817 3079 \nQ 1281 3584 2069 3584 \nQ 2775 3584 3186 3129 \nQ 3597 2675 3597 1894 \nz\nM 3022 2063 \nQ 3016 2534 2758 2815 \nQ 2500 3097 2075 3097 \nQ 1594 3097 1305 2825 \nQ 1016 2553 972 2059 \nL 3022 2063 \nz\n\" transform=\"scale(0.015625)\"/>\n       <path id=\"DejaVuSans-70\" d=\"M 1159 525 \nL 1159 -1331 \nL 581 -1331 \nL 581 3500 \nL 1159 3500 \nL 1159 2969 \nQ 1341 3281 1617 3432 \nQ 1894 3584 2278 3584 \nQ 2916 3584 3314 3078 \nQ 3713 2572 3713 1747 \nQ 3713 922 3314 415 \nQ 2916 -91 2278 -91 \nQ 1894 -91 1617 61 \nQ 1341 213 1159 525 \nz\nM 3116 1747 \nQ 3116 2381 2855 2742 \nQ 2594 3103 2138 3103 \nQ 1681 3103 1420 2742 \nQ 1159 2381 1159 1747 \nQ 1159 1113 1420 752 \nQ 1681 391 2138 391 \nQ 2594 391 2855 752 \nQ 3116 1113 3116 1747 \nz\n\" transform=\"scale(0.015625)\"/>\n       <path id=\"DejaVuSans-6f\" d=\"M 1959 3097 \nQ 1497 3097 1228 2736 \nQ 959 2375 959 1747 \nQ 959 1119 1226 758 \nQ 1494 397 1959 397 \nQ 2419 397 2687 759 \nQ 2956 1122 2956 1747 \nQ 2956 2369 2687 2733 \nQ 2419 3097 1959 3097 \nz\nM 1959 3584 \nQ 2709 3584 3137 3096 \nQ 3566 2609 3566 1747 \nQ 3566 888 3137 398 \nQ 2709 -91 1959 -91 \nQ 1206 -91 779 398 \nQ 353 888 353 1747 \nQ 353 2609 779 3096 \nQ 1206 3584 1959 3584 \nz\n\" transform=\"scale(0.015625)\"/>\n       <path id=\"DejaVuSans-63\" d=\"M 3122 3366 \nL 3122 2828 \nQ 2878 2963 2633 3030 \nQ 2388 3097 2138 3097 \nQ 1578 3097 1268 2742 \nQ 959 2388 959 1747 \nQ 959 1106 1268 751 \nQ 1578 397 2138 397 \nQ 2388 397 2633 464 \nQ 2878 531 3122 666 \nL 3122 134 \nQ 2881 22 2623 -34 \nQ 2366 -91 2075 -91 \nQ 1284 -91 818 406 \nQ 353 903 353 1747 \nQ 353 2603 823 3093 \nQ 1294 3584 2113 3584 \nQ 2378 3584 2631 3529 \nQ 2884 3475 3122 3366 \nz\n\" transform=\"scale(0.015625)\"/>\n       <path id=\"DejaVuSans-68\" d=\"M 3513 2113 \nL 3513 0 \nL 2938 0 \nL 2938 2094 \nQ 2938 2591 2744 2837 \nQ 2550 3084 2163 3084 \nQ 1697 3084 1428 2787 \nQ 1159 2491 1159 1978 \nL 1159 0 \nL 581 0 \nL 581 4863 \nL 1159 4863 \nL 1159 2956 \nQ 1366 3272 1645 3428 \nQ 1925 3584 2291 3584 \nQ 2894 3584 3203 3211 \nQ 3513 2838 3513 2113 \nz\n\" transform=\"scale(0.015625)\"/>\n      </defs>\n      <use xlink:href=\"#DejaVuSans-65\"/>\n      <use xlink:href=\"#DejaVuSans-70\" x=\"61.523438\"/>\n      <use xlink:href=\"#DejaVuSans-6f\" x=\"125\"/>\n      <use xlink:href=\"#DejaVuSans-63\" x=\"186.181641\"/>\n      <use xlink:href=\"#DejaVuSans-68\" x=\"241.162109\"/>\n     </g>\n    </g>\n   </g>\n   <g id=\"matplotlib.axis_2\">\n    <g id=\"ytick_1\">\n     <g id=\"line2d_7\">\n      <defs>\n       <path id=\"m357fb16781\" d=\"M 0 0 \nL -3.5 0 \n\" style=\"stroke: #000000; stroke-width: 0.8\"/>\n      </defs>\n      <g>\n       <use xlink:href=\"#m357fb16781\" x=\"30.103125\" y=\"128.974016\" style=\"stroke: #000000; stroke-width: 0.8\"/>\n      </g>\n     </g>\n     <g id=\"text_8\">\n      <!-- 0.5 -->\n      <g transform=\"translate(7.2 132.773235) scale(0.1 -0.1)\">\n       <defs>\n        <path id=\"DejaVuSans-2e\" d=\"M 684 794 \nL 1344 794 \nL 1344 0 \nL 684 0 \nL 684 794 \nz\n\" transform=\"scale(0.015625)\"/>\n        <path id=\"DejaVuSans-35\" d=\"M 691 4666 \nL 3169 4666 \nL 3169 4134 \nL 1269 4134 \nL 1269 2991 \nQ 1406 3038 1543 3061 \nQ 1681 3084 1819 3084 \nQ 2600 3084 3056 2656 \nQ 3513 2228 3513 1497 \nQ 3513 744 3044 326 \nQ 2575 -91 1722 -91 \nQ 1428 -91 1123 -41 \nQ 819 9 494 109 \nL 494 744 \nQ 775 591 1075 516 \nQ 1375 441 1709 441 \nQ 2250 441 2565 725 \nQ 2881 1009 2881 1497 \nQ 2881 1984 2565 2268 \nQ 2250 2553 1709 2553 \nQ 1456 2553 1204 2497 \nQ 953 2441 691 2322 \nL 691 4666 \nz\n\" transform=\"scale(0.015625)\"/>\n       </defs>\n       <use xlink:href=\"#DejaVuSans-30\"/>\n       <use xlink:href=\"#DejaVuSans-2e\" x=\"63.623047\"/>\n       <use xlink:href=\"#DejaVuSans-35\" x=\"95.410156\"/>\n      </g>\n     </g>\n    </g>\n    <g id=\"ytick_2\">\n     <g id=\"line2d_8\">\n      <g>\n       <use xlink:href=\"#m357fb16781\" x=\"30.103125\" y=\"96.933453\" style=\"stroke: #000000; stroke-width: 0.8\"/>\n      </g>\n     </g>\n     <g id=\"text_9\">\n      <!-- 1.0 -->\n      <g transform=\"translate(7.2 100.732671) scale(0.1 -0.1)\">\n       <use xlink:href=\"#DejaVuSans-31\"/>\n       <use xlink:href=\"#DejaVuSans-2e\" x=\"63.623047\"/>\n       <use xlink:href=\"#DejaVuSans-30\" x=\"95.410156\"/>\n      </g>\n     </g>\n    </g>\n    <g id=\"ytick_3\">\n     <g id=\"line2d_9\">\n      <g>\n       <use xlink:href=\"#m357fb16781\" x=\"30.103125\" y=\"64.89289\" style=\"stroke: #000000; stroke-width: 0.8\"/>\n      </g>\n     </g>\n     <g id=\"text_10\">\n      <!-- 1.5 -->\n      <g transform=\"translate(7.2 68.692108) scale(0.1 -0.1)\">\n       <use xlink:href=\"#DejaVuSans-31\"/>\n       <use xlink:href=\"#DejaVuSans-2e\" x=\"63.623047\"/>\n       <use xlink:href=\"#DejaVuSans-35\" x=\"95.410156\"/>\n      </g>\n     </g>\n    </g>\n    <g id=\"ytick_4\">\n     <g id=\"line2d_10\">\n      <g>\n       <use xlink:href=\"#m357fb16781\" x=\"30.103125\" y=\"32.852326\" style=\"stroke: #000000; stroke-width: 0.8\"/>\n      </g>\n     </g>\n     <g id=\"text_11\">\n      <!-- 2.0 -->\n      <g transform=\"translate(7.2 36.651545) scale(0.1 -0.1)\">\n       <use xlink:href=\"#DejaVuSans-32\"/>\n       <use xlink:href=\"#DejaVuSans-2e\" x=\"63.623047\"/>\n       <use xlink:href=\"#DejaVuSans-30\" x=\"95.410156\"/>\n      </g>\n     </g>\n    </g>\n   </g>\n   <g id=\"line2d_11\">\n    <path d=\"M 34.954394 13.5 \n\" clip-path=\"url(#p171775bf7c)\" style=\"fill: none; stroke: #1f77b4; stroke-width: 1.5; stroke-linecap: square\"/>\n   </g>\n   <g id=\"line2d_12\">\n    <path d=\"M 34.954394 13.5 \nL 44.698573 13.650909 \n\" clip-path=\"url(#p171775bf7c)\" style=\"fill: none; stroke: #1f77b4; stroke-width: 1.5; stroke-linecap: square\"/>\n   </g>\n   <g id=\"line2d_13\">\n    <path d=\"M 34.954394 13.5 \nL 44.698573 13.650909 \n\" clip-path=\"url(#p171775bf7c)\" style=\"fill: none; stroke: #1f77b4; stroke-width: 1.5; stroke-linecap: square\"/>\n   </g>\n   <g id=\"line2d_14\">\n    <path d=\"M 49.633125 13.849621 \n\" clip-path=\"url(#p171775bf7c)\" style=\"fill: none; stroke-dasharray: 5.55,2.4; stroke-dashoffset: 0; stroke: #ff7f0e; stroke-width: 1.5\"/>\n   </g>\n   <g id=\"line2d_15\"/>\n   <g id=\"line2d_16\">\n    <path d=\"M 34.954394 13.5 \nL 44.698573 13.650909 \n\" clip-path=\"url(#p171775bf7c)\" style=\"fill: none; stroke: #1f77b4; stroke-width: 1.5; stroke-linecap: square\"/>\n   </g>\n   <g id=\"line2d_17\">\n    <path d=\"M 49.633125 13.849621 \n\" clip-path=\"url(#p171775bf7c)\" style=\"fill: none; stroke-dasharray: 5.55,2.4; stroke-dashoffset: 0; stroke: #ff7f0e; stroke-width: 1.5\"/>\n   </g>\n   <g id=\"line2d_18\">\n    <path d=\"M 49.633125 139.5 \n\" clip-path=\"url(#p171775bf7c)\" style=\"fill: none; stroke-dasharray: 9.6,2.4,1.5,2.4; stroke-dashoffset: 0; stroke: #2ca02c; stroke-width: 1.5\"/>\n   </g>\n   <g id=\"line2d_19\">\n    <path d=\"M 34.954394 13.5 \nL 44.698573 13.650909 \nL 54.442752 14.985063 \n\" clip-path=\"url(#p171775bf7c)\" style=\"fill: none; stroke: #1f77b4; stroke-width: 1.5; stroke-linecap: square\"/>\n   </g>\n   <g id=\"line2d_20\">\n    <path d=\"M 49.633125 13.849621 \n\" clip-path=\"url(#p171775bf7c)\" style=\"fill: none; stroke-dasharray: 5.55,2.4; stroke-dashoffset: 0; stroke: #ff7f0e; stroke-width: 1.5\"/>\n   </g>\n   <g id=\"line2d_21\">\n    <path d=\"M 49.633125 139.5 \n\" clip-path=\"url(#p171775bf7c)\" style=\"fill: none; stroke-dasharray: 9.6,2.4,1.5,2.4; stroke-dashoffset: 0; stroke: #2ca02c; stroke-width: 1.5\"/>\n   </g>\n   <g id=\"line2d_22\">\n    <path d=\"M 34.954394 13.5 \nL 44.698573 13.650909 \nL 54.442752 14.985063 \nL 64.186931 76.053068 \n\" clip-path=\"url(#p171775bf7c)\" style=\"fill: none; stroke: #1f77b4; stroke-width: 1.5; stroke-linecap: square\"/>\n   </g>\n   <g id=\"line2d_23\">\n    <path d=\"M 49.633125 13.849621 \n\" clip-path=\"url(#p171775bf7c)\" style=\"fill: none; stroke-dasharray: 5.55,2.4; stroke-dashoffset: 0; stroke: #ff7f0e; stroke-width: 1.5\"/>\n   </g>\n   <g id=\"line2d_24\">\n    <path d=\"M 49.633125 139.5 \n\" clip-path=\"url(#p171775bf7c)\" style=\"fill: none; stroke-dasharray: 9.6,2.4,1.5,2.4; stroke-dashoffset: 0; stroke: #2ca02c; stroke-width: 1.5\"/>\n   </g>\n   <g id=\"line2d_25\">\n    <path d=\"M 34.954394 13.5 \nL 44.698573 13.650909 \nL 54.442752 14.985063 \nL 64.186931 76.053068 \n\" clip-path=\"url(#p171775bf7c)\" style=\"fill: none; stroke: #1f77b4; stroke-width: 1.5; stroke-linecap: square\"/>\n   </g>\n   <g id=\"line2d_26\">\n    <path d=\"M 49.633125 13.849621 \nL 69.163125 94.524649 \n\" clip-path=\"url(#p171775bf7c)\" style=\"fill: none; stroke-dasharray: 5.55,2.4; stroke-dashoffset: 0; stroke: #ff7f0e; stroke-width: 1.5\"/>\n   </g>\n   <g id=\"line2d_27\">\n    <path d=\"M 49.633125 139.5 \n\" clip-path=\"url(#p171775bf7c)\" style=\"fill: none; stroke-dasharray: 9.6,2.4,1.5,2.4; stroke-dashoffset: 0; stroke: #2ca02c; stroke-width: 1.5\"/>\n   </g>\n   <g id=\"line2d_28\">\n    <path d=\"M 34.954394 13.5 \nL 44.698573 13.650909 \nL 54.442752 14.985063 \nL 64.186931 76.053068 \n\" clip-path=\"url(#p171775bf7c)\" style=\"fill: none; stroke: #1f77b4; stroke-width: 1.5; stroke-linecap: square\"/>\n   </g>\n   <g id=\"line2d_29\">\n    <path d=\"M 49.633125 13.849621 \nL 69.163125 94.524649 \n\" clip-path=\"url(#p171775bf7c)\" style=\"fill: none; stroke-dasharray: 5.55,2.4; stroke-dashoffset: 0; stroke: #ff7f0e; stroke-width: 1.5\"/>\n   </g>\n   <g id=\"line2d_30\">\n    <path d=\"M 49.633125 139.5 \nL 69.163125 124.93726 \n\" clip-path=\"url(#p171775bf7c)\" style=\"fill: none; stroke-dasharray: 9.6,2.4,1.5,2.4; stroke-dashoffset: 0; stroke: #2ca02c; stroke-width: 1.5\"/>\n   </g>\n   <g id=\"line2d_31\">\n    <path d=\"M 34.954394 13.5 \nL 44.698573 13.650909 \nL 54.442752 14.985063 \nL 64.186931 76.053068 \nL 73.93111 97.844903 \n\" clip-path=\"url(#p171775bf7c)\" style=\"fill: none; stroke: #1f77b4; stroke-width: 1.5; stroke-linecap: square\"/>\n   </g>\n   <g id=\"line2d_32\">\n    <path d=\"M 49.633125 13.849621 \nL 69.163125 94.524649 \n\" clip-path=\"url(#p171775bf7c)\" style=\"fill: none; stroke-dasharray: 5.55,2.4; stroke-dashoffset: 0; stroke: #ff7f0e; stroke-width: 1.5\"/>\n   </g>\n   <g id=\"line2d_33\">\n    <path d=\"M 49.633125 139.5 \nL 69.163125 124.93726 \n\" clip-path=\"url(#p171775bf7c)\" style=\"fill: none; stroke-dasharray: 9.6,2.4,1.5,2.4; stroke-dashoffset: 0; stroke: #2ca02c; stroke-width: 1.5\"/>\n   </g>\n   <g id=\"line2d_34\">\n    <path d=\"M 34.954394 13.5 \nL 44.698573 13.650909 \nL 54.442752 14.985063 \nL 64.186931 76.053068 \nL 73.93111 97.844903 \nL 83.675289 103.956574 \n\" clip-path=\"url(#p171775bf7c)\" style=\"fill: none; stroke: #1f77b4; stroke-width: 1.5; stroke-linecap: square\"/>\n   </g>\n   <g id=\"line2d_35\">\n    <path d=\"M 49.633125 13.849621 \nL 69.163125 94.524649 \n\" clip-path=\"url(#p171775bf7c)\" style=\"fill: none; stroke-dasharray: 5.55,2.4; stroke-dashoffset: 0; stroke: #ff7f0e; stroke-width: 1.5\"/>\n   </g>\n   <g id=\"line2d_36\">\n    <path d=\"M 49.633125 139.5 \nL 69.163125 124.93726 \n\" clip-path=\"url(#p171775bf7c)\" style=\"fill: none; stroke-dasharray: 9.6,2.4,1.5,2.4; stroke-dashoffset: 0; stroke: #2ca02c; stroke-width: 1.5\"/>\n   </g>\n   <g id=\"line2d_37\">\n    <path d=\"M 34.954394 13.5 \nL 44.698573 13.650909 \nL 54.442752 14.985063 \nL 64.186931 76.053068 \nL 73.93111 97.844903 \nL 83.675289 103.956574 \n\" clip-path=\"url(#p171775bf7c)\" style=\"fill: none; stroke: #1f77b4; stroke-width: 1.5; stroke-linecap: square\"/>\n   </g>\n   <g id=\"line2d_38\">\n    <path d=\"M 49.633125 13.849621 \nL 69.163125 94.524649 \nL 88.693125 110.152894 \n\" clip-path=\"url(#p171775bf7c)\" style=\"fill: none; stroke-dasharray: 5.55,2.4; stroke-dashoffset: 0; stroke: #ff7f0e; stroke-width: 1.5\"/>\n   </g>\n   <g id=\"line2d_39\">\n    <path d=\"M 49.633125 139.5 \nL 69.163125 124.93726 \n\" clip-path=\"url(#p171775bf7c)\" style=\"fill: none; stroke-dasharray: 9.6,2.4,1.5,2.4; stroke-dashoffset: 0; stroke: #2ca02c; stroke-width: 1.5\"/>\n   </g>\n   <g id=\"line2d_40\">\n    <path d=\"M 34.954394 13.5 \nL 44.698573 13.650909 \nL 54.442752 14.985063 \nL 64.186931 76.053068 \nL 73.93111 97.844903 \nL 83.675289 103.956574 \n\" clip-path=\"url(#p171775bf7c)\" style=\"fill: none; stroke: #1f77b4; stroke-width: 1.5; stroke-linecap: square\"/>\n   </g>\n   <g id=\"line2d_41\">\n    <path d=\"M 49.633125 13.849621 \nL 69.163125 94.524649 \nL 88.693125 110.152894 \n\" clip-path=\"url(#p171775bf7c)\" style=\"fill: none; stroke-dasharray: 5.55,2.4; stroke-dashoffset: 0; stroke: #ff7f0e; stroke-width: 1.5\"/>\n   </g>\n   <g id=\"line2d_42\">\n    <path d=\"M 49.633125 139.5 \nL 69.163125 124.93726 \nL 88.693125 116.03992 \n\" clip-path=\"url(#p171775bf7c)\" style=\"fill: none; stroke-dasharray: 9.6,2.4,1.5,2.4; stroke-dashoffset: 0; stroke: #2ca02c; stroke-width: 1.5\"/>\n   </g>\n   <g id=\"line2d_43\">\n    <path d=\"M 34.954394 13.5 \nL 44.698573 13.650909 \nL 54.442752 14.985063 \nL 64.186931 76.053068 \nL 73.93111 97.844903 \nL 83.675289 103.956574 \nL 93.419468 108.173978 \n\" clip-path=\"url(#p171775bf7c)\" style=\"fill: none; stroke: #1f77b4; stroke-width: 1.5; stroke-linecap: square\"/>\n   </g>\n   <g id=\"line2d_44\">\n    <path d=\"M 49.633125 13.849621 \nL 69.163125 94.524649 \nL 88.693125 110.152894 \n\" clip-path=\"url(#p171775bf7c)\" style=\"fill: none; stroke-dasharray: 5.55,2.4; stroke-dashoffset: 0; stroke: #ff7f0e; stroke-width: 1.5\"/>\n   </g>\n   <g id=\"line2d_45\">\n    <path d=\"M 49.633125 139.5 \nL 69.163125 124.93726 \nL 88.693125 116.03992 \n\" clip-path=\"url(#p171775bf7c)\" style=\"fill: none; stroke-dasharray: 9.6,2.4,1.5,2.4; stroke-dashoffset: 0; stroke: #2ca02c; stroke-width: 1.5\"/>\n   </g>\n   <g id=\"line2d_46\">\n    <path d=\"M 34.954394 13.5 \nL 44.698573 13.650909 \nL 54.442752 14.985063 \nL 64.186931 76.053068 \nL 73.93111 97.844903 \nL 83.675289 103.956574 \nL 93.419468 108.173978 \nL 103.163647 112.536855 \n\" clip-path=\"url(#p171775bf7c)\" style=\"fill: none; stroke: #1f77b4; stroke-width: 1.5; stroke-linecap: square\"/>\n   </g>\n   <g id=\"line2d_47\">\n    <path d=\"M 49.633125 13.849621 \nL 69.163125 94.524649 \nL 88.693125 110.152894 \n\" clip-path=\"url(#p171775bf7c)\" style=\"fill: none; stroke-dasharray: 5.55,2.4; stroke-dashoffset: 0; stroke: #ff7f0e; stroke-width: 1.5\"/>\n   </g>\n   <g id=\"line2d_48\">\n    <path d=\"M 49.633125 139.5 \nL 69.163125 124.93726 \nL 88.693125 116.03992 \n\" clip-path=\"url(#p171775bf7c)\" style=\"fill: none; stroke-dasharray: 9.6,2.4,1.5,2.4; stroke-dashoffset: 0; stroke: #2ca02c; stroke-width: 1.5\"/>\n   </g>\n   <g id=\"line2d_49\">\n    <path d=\"M 34.954394 13.5 \nL 44.698573 13.650909 \nL 54.442752 14.985063 \nL 64.186931 76.053068 \nL 73.93111 97.844903 \nL 83.675289 103.956574 \nL 93.419468 108.173978 \nL 103.163647 112.536855 \n\" clip-path=\"url(#p171775bf7c)\" style=\"fill: none; stroke: #1f77b4; stroke-width: 1.5; stroke-linecap: square\"/>\n   </g>\n   <g id=\"line2d_50\">\n    <path d=\"M 49.633125 13.849621 \nL 69.163125 94.524649 \nL 88.693125 110.152894 \nL 108.223125 112.73509 \n\" clip-path=\"url(#p171775bf7c)\" style=\"fill: none; stroke-dasharray: 5.55,2.4; stroke-dashoffset: 0; stroke: #ff7f0e; stroke-width: 1.5\"/>\n   </g>\n   <g id=\"line2d_51\">\n    <path d=\"M 49.633125 139.5 \nL 69.163125 124.93726 \nL 88.693125 116.03992 \n\" clip-path=\"url(#p171775bf7c)\" style=\"fill: none; stroke-dasharray: 9.6,2.4,1.5,2.4; stroke-dashoffset: 0; stroke: #2ca02c; stroke-width: 1.5\"/>\n   </g>\n   <g id=\"line2d_52\">\n    <path d=\"M 34.954394 13.5 \nL 44.698573 13.650909 \nL 54.442752 14.985063 \nL 64.186931 76.053068 \nL 73.93111 97.844903 \nL 83.675289 103.956574 \nL 93.419468 108.173978 \nL 103.163647 112.536855 \n\" clip-path=\"url(#p171775bf7c)\" style=\"fill: none; stroke: #1f77b4; stroke-width: 1.5; stroke-linecap: square\"/>\n   </g>\n   <g id=\"line2d_53\">\n    <path d=\"M 49.633125 13.849621 \nL 69.163125 94.524649 \nL 88.693125 110.152894 \nL 108.223125 112.73509 \n\" clip-path=\"url(#p171775bf7c)\" style=\"fill: none; stroke-dasharray: 5.55,2.4; stroke-dashoffset: 0; stroke: #ff7f0e; stroke-width: 1.5\"/>\n   </g>\n   <g id=\"line2d_54\">\n    <path d=\"M 49.633125 139.5 \nL 69.163125 124.93726 \nL 88.693125 116.03992 \nL 108.223125 115.647017 \n\" clip-path=\"url(#p171775bf7c)\" style=\"fill: none; stroke-dasharray: 9.6,2.4,1.5,2.4; stroke-dashoffset: 0; stroke: #2ca02c; stroke-width: 1.5\"/>\n   </g>\n   <g id=\"line2d_55\">\n    <path d=\"M 34.954394 13.5 \nL 44.698573 13.650909 \nL 54.442752 14.985063 \nL 64.186931 76.053068 \nL 73.93111 97.844903 \nL 83.675289 103.956574 \nL 93.419468 108.173978 \nL 103.163647 112.536855 \nL 112.907826 114.997309 \n\" clip-path=\"url(#p171775bf7c)\" style=\"fill: none; stroke: #1f77b4; stroke-width: 1.5; stroke-linecap: square\"/>\n   </g>\n   <g id=\"line2d_56\">\n    <path d=\"M 49.633125 13.849621 \nL 69.163125 94.524649 \nL 88.693125 110.152894 \nL 108.223125 112.73509 \n\" clip-path=\"url(#p171775bf7c)\" style=\"fill: none; stroke-dasharray: 5.55,2.4; stroke-dashoffset: 0; stroke: #ff7f0e; stroke-width: 1.5\"/>\n   </g>\n   <g id=\"line2d_57\">\n    <path d=\"M 49.633125 139.5 \nL 69.163125 124.93726 \nL 88.693125 116.03992 \nL 108.223125 115.647017 \n\" clip-path=\"url(#p171775bf7c)\" style=\"fill: none; stroke-dasharray: 9.6,2.4,1.5,2.4; stroke-dashoffset: 0; stroke: #2ca02c; stroke-width: 1.5\"/>\n   </g>\n   <g id=\"line2d_58\">\n    <path d=\"M 34.954394 13.5 \nL 44.698573 13.650909 \nL 54.442752 14.985063 \nL 64.186931 76.053068 \nL 73.93111 97.844903 \nL 83.675289 103.956574 \nL 93.419468 108.173978 \nL 103.163647 112.536855 \nL 112.907826 114.997309 \nL 122.652006 118.489681 \n\" clip-path=\"url(#p171775bf7c)\" style=\"fill: none; stroke: #1f77b4; stroke-width: 1.5; stroke-linecap: square\"/>\n   </g>\n   <g id=\"line2d_59\">\n    <path d=\"M 49.633125 13.849621 \nL 69.163125 94.524649 \nL 88.693125 110.152894 \nL 108.223125 112.73509 \n\" clip-path=\"url(#p171775bf7c)\" style=\"fill: none; stroke-dasharray: 5.55,2.4; stroke-dashoffset: 0; stroke: #ff7f0e; stroke-width: 1.5\"/>\n   </g>\n   <g id=\"line2d_60\">\n    <path d=\"M 49.633125 139.5 \nL 69.163125 124.93726 \nL 88.693125 116.03992 \nL 108.223125 115.647017 \n\" clip-path=\"url(#p171775bf7c)\" style=\"fill: none; stroke-dasharray: 9.6,2.4,1.5,2.4; stroke-dashoffset: 0; stroke: #2ca02c; stroke-width: 1.5\"/>\n   </g>\n   <g id=\"line2d_61\">\n    <path d=\"M 34.954394 13.5 \nL 44.698573 13.650909 \nL 54.442752 14.985063 \nL 64.186931 76.053068 \nL 73.93111 97.844903 \nL 83.675289 103.956574 \nL 93.419468 108.173978 \nL 103.163647 112.536855 \nL 112.907826 114.997309 \nL 122.652006 118.489681 \n\" clip-path=\"url(#p171775bf7c)\" style=\"fill: none; stroke: #1f77b4; stroke-width: 1.5; stroke-linecap: square\"/>\n   </g>\n   <g id=\"line2d_62\">\n    <path d=\"M 49.633125 13.849621 \nL 69.163125 94.524649 \nL 88.693125 110.152894 \nL 108.223125 112.73509 \nL 127.753125 120.377844 \n\" clip-path=\"url(#p171775bf7c)\" style=\"fill: none; stroke-dasharray: 5.55,2.4; stroke-dashoffset: 0; stroke: #ff7f0e; stroke-width: 1.5\"/>\n   </g>\n   <g id=\"line2d_63\">\n    <path d=\"M 49.633125 139.5 \nL 69.163125 124.93726 \nL 88.693125 116.03992 \nL 108.223125 115.647017 \n\" clip-path=\"url(#p171775bf7c)\" style=\"fill: none; stroke-dasharray: 9.6,2.4,1.5,2.4; stroke-dashoffset: 0; stroke: #2ca02c; stroke-width: 1.5\"/>\n   </g>\n   <g id=\"line2d_64\">\n    <path d=\"M 34.954394 13.5 \nL 44.698573 13.650909 \nL 54.442752 14.985063 \nL 64.186931 76.053068 \nL 73.93111 97.844903 \nL 83.675289 103.956574 \nL 93.419468 108.173978 \nL 103.163647 112.536855 \nL 112.907826 114.997309 \nL 122.652006 118.489681 \n\" clip-path=\"url(#p171775bf7c)\" style=\"fill: none; stroke: #1f77b4; stroke-width: 1.5; stroke-linecap: square\"/>\n   </g>\n   <g id=\"line2d_65\">\n    <path d=\"M 49.633125 13.849621 \nL 69.163125 94.524649 \nL 88.693125 110.152894 \nL 108.223125 112.73509 \nL 127.753125 120.377844 \n\" clip-path=\"url(#p171775bf7c)\" style=\"fill: none; stroke-dasharray: 5.55,2.4; stroke-dashoffset: 0; stroke: #ff7f0e; stroke-width: 1.5\"/>\n   </g>\n   <g id=\"line2d_66\">\n    <path d=\"M 49.633125 139.5 \nL 69.163125 124.93726 \nL 88.693125 116.03992 \nL 108.223125 115.647017 \nL 127.753125 112.060198 \n\" clip-path=\"url(#p171775bf7c)\" style=\"fill: none; stroke-dasharray: 9.6,2.4,1.5,2.4; stroke-dashoffset: 0; stroke: #2ca02c; stroke-width: 1.5\"/>\n   </g>\n   <g id=\"line2d_67\">\n    <path d=\"M 34.954394 13.5 \nL 44.698573 13.650909 \nL 54.442752 14.985063 \nL 64.186931 76.053068 \nL 73.93111 97.844903 \nL 83.675289 103.956574 \nL 93.419468 108.173978 \nL 103.163647 112.536855 \nL 112.907826 114.997309 \nL 122.652006 118.489681 \nL 132.396185 119.986675 \n\" clip-path=\"url(#p171775bf7c)\" style=\"fill: none; stroke: #1f77b4; stroke-width: 1.5; stroke-linecap: square\"/>\n   </g>\n   <g id=\"line2d_68\">\n    <path d=\"M 49.633125 13.849621 \nL 69.163125 94.524649 \nL 88.693125 110.152894 \nL 108.223125 112.73509 \nL 127.753125 120.377844 \n\" clip-path=\"url(#p171775bf7c)\" style=\"fill: none; stroke-dasharray: 5.55,2.4; stroke-dashoffset: 0; stroke: #ff7f0e; stroke-width: 1.5\"/>\n   </g>\n   <g id=\"line2d_69\">\n    <path d=\"M 49.633125 139.5 \nL 69.163125 124.93726 \nL 88.693125 116.03992 \nL 108.223125 115.647017 \nL 127.753125 112.060198 \n\" clip-path=\"url(#p171775bf7c)\" style=\"fill: none; stroke-dasharray: 9.6,2.4,1.5,2.4; stroke-dashoffset: 0; stroke: #2ca02c; stroke-width: 1.5\"/>\n   </g>\n   <g id=\"line2d_70\">\n    <path d=\"M 34.954394 13.5 \nL 44.698573 13.650909 \nL 54.442752 14.985063 \nL 64.186931 76.053068 \nL 73.93111 97.844903 \nL 83.675289 103.956574 \nL 93.419468 108.173978 \nL 103.163647 112.536855 \nL 112.907826 114.997309 \nL 122.652006 118.489681 \nL 132.396185 119.986675 \nL 142.140364 123.269921 \n\" clip-path=\"url(#p171775bf7c)\" style=\"fill: none; stroke: #1f77b4; stroke-width: 1.5; stroke-linecap: square\"/>\n   </g>\n   <g id=\"line2d_71\">\n    <path d=\"M 49.633125 13.849621 \nL 69.163125 94.524649 \nL 88.693125 110.152894 \nL 108.223125 112.73509 \nL 127.753125 120.377844 \n\" clip-path=\"url(#p171775bf7c)\" style=\"fill: none; stroke-dasharray: 5.55,2.4; stroke-dashoffset: 0; stroke: #ff7f0e; stroke-width: 1.5\"/>\n   </g>\n   <g id=\"line2d_72\">\n    <path d=\"M 49.633125 139.5 \nL 69.163125 124.93726 \nL 88.693125 116.03992 \nL 108.223125 115.647017 \nL 127.753125 112.060198 \n\" clip-path=\"url(#p171775bf7c)\" style=\"fill: none; stroke-dasharray: 9.6,2.4,1.5,2.4; stroke-dashoffset: 0; stroke: #2ca02c; stroke-width: 1.5\"/>\n   </g>\n   <g id=\"line2d_73\">\n    <path d=\"M 34.954394 13.5 \nL 44.698573 13.650909 \nL 54.442752 14.985063 \nL 64.186931 76.053068 \nL 73.93111 97.844903 \nL 83.675289 103.956574 \nL 93.419468 108.173978 \nL 103.163647 112.536855 \nL 112.907826 114.997309 \nL 122.652006 118.489681 \nL 132.396185 119.986675 \nL 142.140364 123.269921 \n\" clip-path=\"url(#p171775bf7c)\" style=\"fill: none; stroke: #1f77b4; stroke-width: 1.5; stroke-linecap: square\"/>\n   </g>\n   <g id=\"line2d_74\">\n    <path d=\"M 49.633125 13.849621 \nL 69.163125 94.524649 \nL 88.693125 110.152894 \nL 108.223125 112.73509 \nL 127.753125 120.377844 \nL 147.283125 123.988323 \n\" clip-path=\"url(#p171775bf7c)\" style=\"fill: none; stroke-dasharray: 5.55,2.4; stroke-dashoffset: 0; stroke: #ff7f0e; stroke-width: 1.5\"/>\n   </g>\n   <g id=\"line2d_75\">\n    <path d=\"M 49.633125 139.5 \nL 69.163125 124.93726 \nL 88.693125 116.03992 \nL 108.223125 115.647017 \nL 127.753125 112.060198 \n\" clip-path=\"url(#p171775bf7c)\" style=\"fill: none; stroke-dasharray: 9.6,2.4,1.5,2.4; stroke-dashoffset: 0; stroke: #2ca02c; stroke-width: 1.5\"/>\n   </g>\n   <g id=\"line2d_76\">\n    <path d=\"M 34.954394 13.5 \nL 44.698573 13.650909 \nL 54.442752 14.985063 \nL 64.186931 76.053068 \nL 73.93111 97.844903 \nL 83.675289 103.956574 \nL 93.419468 108.173978 \nL 103.163647 112.536855 \nL 112.907826 114.997309 \nL 122.652006 118.489681 \nL 132.396185 119.986675 \nL 142.140364 123.269921 \n\" clip-path=\"url(#p171775bf7c)\" style=\"fill: none; stroke: #1f77b4; stroke-width: 1.5; stroke-linecap: square\"/>\n   </g>\n   <g id=\"line2d_77\">\n    <path d=\"M 49.633125 13.849621 \nL 69.163125 94.524649 \nL 88.693125 110.152894 \nL 108.223125 112.73509 \nL 127.753125 120.377844 \nL 147.283125 123.988323 \n\" clip-path=\"url(#p171775bf7c)\" style=\"fill: none; stroke-dasharray: 5.55,2.4; stroke-dashoffset: 0; stroke: #ff7f0e; stroke-width: 1.5\"/>\n   </g>\n   <g id=\"line2d_78\">\n    <path d=\"M 49.633125 139.5 \nL 69.163125 124.93726 \nL 88.693125 116.03992 \nL 108.223125 115.647017 \nL 127.753125 112.060198 \nL 147.283125 111.020908 \n\" clip-path=\"url(#p171775bf7c)\" style=\"fill: none; stroke-dasharray: 9.6,2.4,1.5,2.4; stroke-dashoffset: 0; stroke: #2ca02c; stroke-width: 1.5\"/>\n   </g>\n   <g id=\"line2d_79\">\n    <path d=\"M 34.954394 13.5 \nL 44.698573 13.650909 \nL 54.442752 14.985063 \nL 64.186931 76.053068 \nL 73.93111 97.844903 \nL 83.675289 103.956574 \nL 93.419468 108.173978 \nL 103.163647 112.536855 \nL 112.907826 114.997309 \nL 122.652006 118.489681 \nL 132.396185 119.986675 \nL 142.140364 123.269921 \nL 151.884543 124.312317 \n\" clip-path=\"url(#p171775bf7c)\" style=\"fill: none; stroke: #1f77b4; stroke-width: 1.5; stroke-linecap: square\"/>\n   </g>\n   <g id=\"line2d_80\">\n    <path d=\"M 49.633125 13.849621 \nL 69.163125 94.524649 \nL 88.693125 110.152894 \nL 108.223125 112.73509 \nL 127.753125 120.377844 \nL 147.283125 123.988323 \n\" clip-path=\"url(#p171775bf7c)\" style=\"fill: none; stroke-dasharray: 5.55,2.4; stroke-dashoffset: 0; stroke: #ff7f0e; stroke-width: 1.5\"/>\n   </g>\n   <g id=\"line2d_81\">\n    <path d=\"M 49.633125 139.5 \nL 69.163125 124.93726 \nL 88.693125 116.03992 \nL 108.223125 115.647017 \nL 127.753125 112.060198 \nL 147.283125 111.020908 \n\" clip-path=\"url(#p171775bf7c)\" style=\"fill: none; stroke-dasharray: 9.6,2.4,1.5,2.4; stroke-dashoffset: 0; stroke: #2ca02c; stroke-width: 1.5\"/>\n   </g>\n   <g id=\"line2d_82\">\n    <path d=\"M 34.954394 13.5 \nL 44.698573 13.650909 \nL 54.442752 14.985063 \nL 64.186931 76.053068 \nL 73.93111 97.844903 \nL 83.675289 103.956574 \nL 93.419468 108.173978 \nL 103.163647 112.536855 \nL 112.907826 114.997309 \nL 122.652006 118.489681 \nL 132.396185 119.986675 \nL 142.140364 123.269921 \nL 151.884543 124.312317 \nL 161.628722 125.81331 \n\" clip-path=\"url(#p171775bf7c)\" style=\"fill: none; stroke: #1f77b4; stroke-width: 1.5; stroke-linecap: square\"/>\n   </g>\n   <g id=\"line2d_83\">\n    <path d=\"M 49.633125 13.849621 \nL 69.163125 94.524649 \nL 88.693125 110.152894 \nL 108.223125 112.73509 \nL 127.753125 120.377844 \nL 147.283125 123.988323 \n\" clip-path=\"url(#p171775bf7c)\" style=\"fill: none; stroke-dasharray: 5.55,2.4; stroke-dashoffset: 0; stroke: #ff7f0e; stroke-width: 1.5\"/>\n   </g>\n   <g id=\"line2d_84\">\n    <path d=\"M 49.633125 139.5 \nL 69.163125 124.93726 \nL 88.693125 116.03992 \nL 108.223125 115.647017 \nL 127.753125 112.060198 \nL 147.283125 111.020908 \n\" clip-path=\"url(#p171775bf7c)\" style=\"fill: none; stroke-dasharray: 9.6,2.4,1.5,2.4; stroke-dashoffset: 0; stroke: #2ca02c; stroke-width: 1.5\"/>\n   </g>\n   <g id=\"line2d_85\">\n    <path d=\"M 34.954394 13.5 \nL 44.698573 13.650909 \nL 54.442752 14.985063 \nL 64.186931 76.053068 \nL 73.93111 97.844903 \nL 83.675289 103.956574 \nL 93.419468 108.173978 \nL 103.163647 112.536855 \nL 112.907826 114.997309 \nL 122.652006 118.489681 \nL 132.396185 119.986675 \nL 142.140364 123.269921 \nL 151.884543 124.312317 \nL 161.628722 125.81331 \n\" clip-path=\"url(#p171775bf7c)\" style=\"fill: none; stroke: #1f77b4; stroke-width: 1.5; stroke-linecap: square\"/>\n   </g>\n   <g id=\"line2d_86\">\n    <path d=\"M 49.633125 13.849621 \nL 69.163125 94.524649 \nL 88.693125 110.152894 \nL 108.223125 112.73509 \nL 127.753125 120.377844 \nL 147.283125 123.988323 \nL 166.813125 126.182504 \n\" clip-path=\"url(#p171775bf7c)\" style=\"fill: none; stroke-dasharray: 5.55,2.4; stroke-dashoffset: 0; stroke: #ff7f0e; stroke-width: 1.5\"/>\n   </g>\n   <g id=\"line2d_87\">\n    <path d=\"M 49.633125 139.5 \nL 69.163125 124.93726 \nL 88.693125 116.03992 \nL 108.223125 115.647017 \nL 127.753125 112.060198 \nL 147.283125 111.020908 \n\" clip-path=\"url(#p171775bf7c)\" style=\"fill: none; stroke-dasharray: 9.6,2.4,1.5,2.4; stroke-dashoffset: 0; stroke: #2ca02c; stroke-width: 1.5\"/>\n   </g>\n   <g id=\"line2d_88\">\n    <path d=\"M 34.954394 13.5 \nL 44.698573 13.650909 \nL 54.442752 14.985063 \nL 64.186931 76.053068 \nL 73.93111 97.844903 \nL 83.675289 103.956574 \nL 93.419468 108.173978 \nL 103.163647 112.536855 \nL 112.907826 114.997309 \nL 122.652006 118.489681 \nL 132.396185 119.986675 \nL 142.140364 123.269921 \nL 151.884543 124.312317 \nL 161.628722 125.81331 \n\" clip-path=\"url(#p171775bf7c)\" style=\"fill: none; stroke: #1f77b4; stroke-width: 1.5; stroke-linecap: square\"/>\n   </g>\n   <g id=\"line2d_89\">\n    <path d=\"M 49.633125 13.849621 \nL 69.163125 94.524649 \nL 88.693125 110.152894 \nL 108.223125 112.73509 \nL 127.753125 120.377844 \nL 147.283125 123.988323 \nL 166.813125 126.182504 \n\" clip-path=\"url(#p171775bf7c)\" style=\"fill: none; stroke-dasharray: 5.55,2.4; stroke-dashoffset: 0; stroke: #ff7f0e; stroke-width: 1.5\"/>\n   </g>\n   <g id=\"line2d_90\">\n    <path d=\"M 49.633125 139.5 \nL 69.163125 124.93726 \nL 88.693125 116.03992 \nL 108.223125 115.647017 \nL 127.753125 112.060198 \nL 147.283125 111.020908 \nL 166.813125 109.899234 \n\" clip-path=\"url(#p171775bf7c)\" style=\"fill: none; stroke-dasharray: 9.6,2.4,1.5,2.4; stroke-dashoffset: 0; stroke: #2ca02c; stroke-width: 1.5\"/>\n   </g>\n   <g id=\"line2d_91\">\n    <path d=\"M 34.954394 13.5 \nL 44.698573 13.650909 \nL 54.442752 14.985063 \nL 64.186931 76.053068 \nL 73.93111 97.844903 \nL 83.675289 103.956574 \nL 93.419468 108.173978 \nL 103.163647 112.536855 \nL 112.907826 114.997309 \nL 122.652006 118.489681 \nL 132.396185 119.986675 \nL 142.140364 123.269921 \nL 151.884543 124.312317 \nL 161.628722 125.81331 \nL 171.372901 127.074484 \n\" clip-path=\"url(#p171775bf7c)\" style=\"fill: none; stroke: #1f77b4; stroke-width: 1.5; stroke-linecap: square\"/>\n   </g>\n   <g id=\"line2d_92\">\n    <path d=\"M 49.633125 13.849621 \nL 69.163125 94.524649 \nL 88.693125 110.152894 \nL 108.223125 112.73509 \nL 127.753125 120.377844 \nL 147.283125 123.988323 \nL 166.813125 126.182504 \n\" clip-path=\"url(#p171775bf7c)\" style=\"fill: none; stroke-dasharray: 5.55,2.4; stroke-dashoffset: 0; stroke: #ff7f0e; stroke-width: 1.5\"/>\n   </g>\n   <g id=\"line2d_93\">\n    <path d=\"M 49.633125 139.5 \nL 69.163125 124.93726 \nL 88.693125 116.03992 \nL 108.223125 115.647017 \nL 127.753125 112.060198 \nL 147.283125 111.020908 \nL 166.813125 109.899234 \n\" clip-path=\"url(#p171775bf7c)\" style=\"fill: none; stroke-dasharray: 9.6,2.4,1.5,2.4; stroke-dashoffset: 0; stroke: #2ca02c; stroke-width: 1.5\"/>\n   </g>\n   <g id=\"line2d_94\">\n    <path d=\"M 34.954394 13.5 \nL 44.698573 13.650909 \nL 54.442752 14.985063 \nL 64.186931 76.053068 \nL 73.93111 97.844903 \nL 83.675289 103.956574 \nL 93.419468 108.173978 \nL 103.163647 112.536855 \nL 112.907826 114.997309 \nL 122.652006 118.489681 \nL 132.396185 119.986675 \nL 142.140364 123.269921 \nL 151.884543 124.312317 \nL 161.628722 125.81331 \nL 171.372901 127.074484 \nL 181.11708 128.923901 \n\" clip-path=\"url(#p171775bf7c)\" style=\"fill: none; stroke: #1f77b4; stroke-width: 1.5; stroke-linecap: square\"/>\n   </g>\n   <g id=\"line2d_95\">\n    <path d=\"M 49.633125 13.849621 \nL 69.163125 94.524649 \nL 88.693125 110.152894 \nL 108.223125 112.73509 \nL 127.753125 120.377844 \nL 147.283125 123.988323 \nL 166.813125 126.182504 \n\" clip-path=\"url(#p171775bf7c)\" style=\"fill: none; stroke-dasharray: 5.55,2.4; stroke-dashoffset: 0; stroke: #ff7f0e; stroke-width: 1.5\"/>\n   </g>\n   <g id=\"line2d_96\">\n    <path d=\"M 49.633125 139.5 \nL 69.163125 124.93726 \nL 88.693125 116.03992 \nL 108.223125 115.647017 \nL 127.753125 112.060198 \nL 147.283125 111.020908 \nL 166.813125 109.899234 \n\" clip-path=\"url(#p171775bf7c)\" style=\"fill: none; stroke-dasharray: 9.6,2.4,1.5,2.4; stroke-dashoffset: 0; stroke: #2ca02c; stroke-width: 1.5\"/>\n   </g>\n   <g id=\"line2d_97\">\n    <path d=\"M 34.954394 13.5 \nL 44.698573 13.650909 \nL 54.442752 14.985063 \nL 64.186931 76.053068 \nL 73.93111 97.844903 \nL 83.675289 103.956574 \nL 93.419468 108.173978 \nL 103.163647 112.536855 \nL 112.907826 114.997309 \nL 122.652006 118.489681 \nL 132.396185 119.986675 \nL 142.140364 123.269921 \nL 151.884543 124.312317 \nL 161.628722 125.81331 \nL 171.372901 127.074484 \nL 181.11708 128.923901 \n\" clip-path=\"url(#p171775bf7c)\" style=\"fill: none; stroke: #1f77b4; stroke-width: 1.5; stroke-linecap: square\"/>\n   </g>\n   <g id=\"line2d_98\">\n    <path d=\"M 49.633125 13.849621 \nL 69.163125 94.524649 \nL 88.693125 110.152894 \nL 108.223125 112.73509 \nL 127.753125 120.377844 \nL 147.283125 123.988323 \nL 166.813125 126.182504 \nL 186.343125 129.376002 \n\" clip-path=\"url(#p171775bf7c)\" style=\"fill: none; stroke-dasharray: 5.55,2.4; stroke-dashoffset: 0; stroke: #ff7f0e; stroke-width: 1.5\"/>\n   </g>\n   <g id=\"line2d_99\">\n    <path d=\"M 49.633125 139.5 \nL 69.163125 124.93726 \nL 88.693125 116.03992 \nL 108.223125 115.647017 \nL 127.753125 112.060198 \nL 147.283125 111.020908 \nL 166.813125 109.899234 \n\" clip-path=\"url(#p171775bf7c)\" style=\"fill: none; stroke-dasharray: 9.6,2.4,1.5,2.4; stroke-dashoffset: 0; stroke: #2ca02c; stroke-width: 1.5\"/>\n   </g>\n   <g id=\"line2d_100\">\n    <path d=\"M 34.954394 13.5 \nL 44.698573 13.650909 \nL 54.442752 14.985063 \nL 64.186931 76.053068 \nL 73.93111 97.844903 \nL 83.675289 103.956574 \nL 93.419468 108.173978 \nL 103.163647 112.536855 \nL 112.907826 114.997309 \nL 122.652006 118.489681 \nL 132.396185 119.986675 \nL 142.140364 123.269921 \nL 151.884543 124.312317 \nL 161.628722 125.81331 \nL 171.372901 127.074484 \nL 181.11708 128.923901 \n\" clip-path=\"url(#p171775bf7c)\" style=\"fill: none; stroke: #1f77b4; stroke-width: 1.5; stroke-linecap: square\"/>\n   </g>\n   <g id=\"line2d_101\">\n    <path d=\"M 49.633125 13.849621 \nL 69.163125 94.524649 \nL 88.693125 110.152894 \nL 108.223125 112.73509 \nL 127.753125 120.377844 \nL 147.283125 123.988323 \nL 166.813125 126.182504 \nL 186.343125 129.376002 \n\" clip-path=\"url(#p171775bf7c)\" style=\"fill: none; stroke-dasharray: 5.55,2.4; stroke-dashoffset: 0; stroke: #ff7f0e; stroke-width: 1.5\"/>\n   </g>\n   <g id=\"line2d_102\">\n    <path d=\"M 49.633125 139.5 \nL 69.163125 124.93726 \nL 88.693125 116.03992 \nL 108.223125 115.647017 \nL 127.753125 112.060198 \nL 147.283125 111.020908 \nL 166.813125 109.899234 \nL 186.343125 108.948664 \n\" clip-path=\"url(#p171775bf7c)\" style=\"fill: none; stroke-dasharray: 9.6,2.4,1.5,2.4; stroke-dashoffset: 0; stroke: #2ca02c; stroke-width: 1.5\"/>\n   </g>\n   <g id=\"line2d_103\">\n    <path d=\"M 34.954394 13.5 \nL 44.698573 13.650909 \nL 54.442752 14.985063 \nL 64.186931 76.053068 \nL 73.93111 97.844903 \nL 83.675289 103.956574 \nL 93.419468 108.173978 \nL 103.163647 112.536855 \nL 112.907826 114.997309 \nL 122.652006 118.489681 \nL 132.396185 119.986675 \nL 142.140364 123.269921 \nL 151.884543 124.312317 \nL 161.628722 125.81331 \nL 171.372901 127.074484 \nL 181.11708 128.923901 \nL 190.861259 129.4998 \n\" clip-path=\"url(#p171775bf7c)\" style=\"fill: none; stroke: #1f77b4; stroke-width: 1.5; stroke-linecap: square\"/>\n   </g>\n   <g id=\"line2d_104\">\n    <path d=\"M 49.633125 13.849621 \nL 69.163125 94.524649 \nL 88.693125 110.152894 \nL 108.223125 112.73509 \nL 127.753125 120.377844 \nL 147.283125 123.988323 \nL 166.813125 126.182504 \nL 186.343125 129.376002 \n\" clip-path=\"url(#p171775bf7c)\" style=\"fill: none; stroke-dasharray: 5.55,2.4; stroke-dashoffset: 0; stroke: #ff7f0e; stroke-width: 1.5\"/>\n   </g>\n   <g id=\"line2d_105\">\n    <path d=\"M 49.633125 139.5 \nL 69.163125 124.93726 \nL 88.693125 116.03992 \nL 108.223125 115.647017 \nL 127.753125 112.060198 \nL 147.283125 111.020908 \nL 166.813125 109.899234 \nL 186.343125 108.948664 \n\" clip-path=\"url(#p171775bf7c)\" style=\"fill: none; stroke-dasharray: 9.6,2.4,1.5,2.4; stroke-dashoffset: 0; stroke: #2ca02c; stroke-width: 1.5\"/>\n   </g>\n   <g id=\"line2d_106\">\n    <path d=\"M 34.954394 13.5 \nL 44.698573 13.650909 \nL 54.442752 14.985063 \nL 64.186931 76.053068 \nL 73.93111 97.844903 \nL 83.675289 103.956574 \nL 93.419468 108.173978 \nL 103.163647 112.536855 \nL 112.907826 114.997309 \nL 122.652006 118.489681 \nL 132.396185 119.986675 \nL 142.140364 123.269921 \nL 151.884543 124.312317 \nL 161.628722 125.81331 \nL 171.372901 127.074484 \nL 181.11708 128.923901 \nL 190.861259 129.4998 \nL 200.605438 130.870654 \n\" clip-path=\"url(#p171775bf7c)\" style=\"fill: none; stroke: #1f77b4; stroke-width: 1.5; stroke-linecap: square\"/>\n   </g>\n   <g id=\"line2d_107\">\n    <path d=\"M 49.633125 13.849621 \nL 69.163125 94.524649 \nL 88.693125 110.152894 \nL 108.223125 112.73509 \nL 127.753125 120.377844 \nL 147.283125 123.988323 \nL 166.813125 126.182504 \nL 186.343125 129.376002 \n\" clip-path=\"url(#p171775bf7c)\" style=\"fill: none; stroke-dasharray: 5.55,2.4; stroke-dashoffset: 0; stroke: #ff7f0e; stroke-width: 1.5\"/>\n   </g>\n   <g id=\"line2d_108\">\n    <path d=\"M 49.633125 139.5 \nL 69.163125 124.93726 \nL 88.693125 116.03992 \nL 108.223125 115.647017 \nL 127.753125 112.060198 \nL 147.283125 111.020908 \nL 166.813125 109.899234 \nL 186.343125 108.948664 \n\" clip-path=\"url(#p171775bf7c)\" style=\"fill: none; stroke-dasharray: 9.6,2.4,1.5,2.4; stroke-dashoffset: 0; stroke: #2ca02c; stroke-width: 1.5\"/>\n   </g>\n   <g id=\"line2d_109\">\n    <path d=\"M 34.954394 13.5 \nL 44.698573 13.650909 \nL 54.442752 14.985063 \nL 64.186931 76.053068 \nL 73.93111 97.844903 \nL 83.675289 103.956574 \nL 93.419468 108.173978 \nL 103.163647 112.536855 \nL 112.907826 114.997309 \nL 122.652006 118.489681 \nL 132.396185 119.986675 \nL 142.140364 123.269921 \nL 151.884543 124.312317 \nL 161.628722 125.81331 \nL 171.372901 127.074484 \nL 181.11708 128.923901 \nL 190.861259 129.4998 \nL 200.605438 130.870654 \n\" clip-path=\"url(#p171775bf7c)\" style=\"fill: none; stroke: #1f77b4; stroke-width: 1.5; stroke-linecap: square\"/>\n   </g>\n   <g id=\"line2d_110\">\n    <path d=\"M 49.633125 13.849621 \nL 69.163125 94.524649 \nL 88.693125 110.152894 \nL 108.223125 112.73509 \nL 127.753125 120.377844 \nL 147.283125 123.988323 \nL 166.813125 126.182504 \nL 186.343125 129.376002 \nL 205.873125 130.912738 \n\" clip-path=\"url(#p171775bf7c)\" style=\"fill: none; stroke-dasharray: 5.55,2.4; stroke-dashoffset: 0; stroke: #ff7f0e; stroke-width: 1.5\"/>\n   </g>\n   <g id=\"line2d_111\">\n    <path d=\"M 49.633125 139.5 \nL 69.163125 124.93726 \nL 88.693125 116.03992 \nL 108.223125 115.647017 \nL 127.753125 112.060198 \nL 147.283125 111.020908 \nL 166.813125 109.899234 \nL 186.343125 108.948664 \n\" clip-path=\"url(#p171775bf7c)\" style=\"fill: none; stroke-dasharray: 9.6,2.4,1.5,2.4; stroke-dashoffset: 0; stroke: #2ca02c; stroke-width: 1.5\"/>\n   </g>\n   <g id=\"line2d_112\">\n    <path d=\"M 34.954394 13.5 \nL 44.698573 13.650909 \nL 54.442752 14.985063 \nL 64.186931 76.053068 \nL 73.93111 97.844903 \nL 83.675289 103.956574 \nL 93.419468 108.173978 \nL 103.163647 112.536855 \nL 112.907826 114.997309 \nL 122.652006 118.489681 \nL 132.396185 119.986675 \nL 142.140364 123.269921 \nL 151.884543 124.312317 \nL 161.628722 125.81331 \nL 171.372901 127.074484 \nL 181.11708 128.923901 \nL 190.861259 129.4998 \nL 200.605438 130.870654 \n\" clip-path=\"url(#p171775bf7c)\" style=\"fill: none; stroke: #1f77b4; stroke-width: 1.5; stroke-linecap: square\"/>\n   </g>\n   <g id=\"line2d_113\">\n    <path d=\"M 49.633125 13.849621 \nL 69.163125 94.524649 \nL 88.693125 110.152894 \nL 108.223125 112.73509 \nL 127.753125 120.377844 \nL 147.283125 123.988323 \nL 166.813125 126.182504 \nL 186.343125 129.376002 \nL 205.873125 130.912738 \n\" clip-path=\"url(#p171775bf7c)\" style=\"fill: none; stroke-dasharray: 5.55,2.4; stroke-dashoffset: 0; stroke: #ff7f0e; stroke-width: 1.5\"/>\n   </g>\n   <g id=\"line2d_114\">\n    <path d=\"M 49.633125 139.5 \nL 69.163125 124.93726 \nL 88.693125 116.03992 \nL 108.223125 115.647017 \nL 127.753125 112.060198 \nL 147.283125 111.020908 \nL 166.813125 109.899234 \nL 186.343125 108.948664 \nL 205.873125 107.941059 \n\" clip-path=\"url(#p171775bf7c)\" style=\"fill: none; stroke-dasharray: 9.6,2.4,1.5,2.4; stroke-dashoffset: 0; stroke: #2ca02c; stroke-width: 1.5\"/>\n   </g>\n   <g id=\"line2d_115\">\n    <path d=\"M 34.954394 13.5 \nL 44.698573 13.650909 \nL 54.442752 14.985063 \nL 64.186931 76.053068 \nL 73.93111 97.844903 \nL 83.675289 103.956574 \nL 93.419468 108.173978 \nL 103.163647 112.536855 \nL 112.907826 114.997309 \nL 122.652006 118.489681 \nL 132.396185 119.986675 \nL 142.140364 123.269921 \nL 151.884543 124.312317 \nL 161.628722 125.81331 \nL 171.372901 127.074484 \nL 181.11708 128.923901 \nL 190.861259 129.4998 \nL 200.605438 130.870654 \nL 210.349618 132.047629 \n\" clip-path=\"url(#p171775bf7c)\" style=\"fill: none; stroke: #1f77b4; stroke-width: 1.5; stroke-linecap: square\"/>\n   </g>\n   <g id=\"line2d_116\">\n    <path d=\"M 49.633125 13.849621 \nL 69.163125 94.524649 \nL 88.693125 110.152894 \nL 108.223125 112.73509 \nL 127.753125 120.377844 \nL 147.283125 123.988323 \nL 166.813125 126.182504 \nL 186.343125 129.376002 \nL 205.873125 130.912738 \n\" clip-path=\"url(#p171775bf7c)\" style=\"fill: none; stroke-dasharray: 5.55,2.4; stroke-dashoffset: 0; stroke: #ff7f0e; stroke-width: 1.5\"/>\n   </g>\n   <g id=\"line2d_117\">\n    <path d=\"M 49.633125 139.5 \nL 69.163125 124.93726 \nL 88.693125 116.03992 \nL 108.223125 115.647017 \nL 127.753125 112.060198 \nL 147.283125 111.020908 \nL 166.813125 109.899234 \nL 186.343125 108.948664 \nL 205.873125 107.941059 \n\" clip-path=\"url(#p171775bf7c)\" style=\"fill: none; stroke-dasharray: 9.6,2.4,1.5,2.4; stroke-dashoffset: 0; stroke: #2ca02c; stroke-width: 1.5\"/>\n   </g>\n   <g id=\"line2d_118\">\n    <path d=\"M 34.954394 13.5 \nL 44.698573 13.650909 \nL 54.442752 14.985063 \nL 64.186931 76.053068 \nL 73.93111 97.844903 \nL 83.675289 103.956574 \nL 93.419468 108.173978 \nL 103.163647 112.536855 \nL 112.907826 114.997309 \nL 122.652006 118.489681 \nL 132.396185 119.986675 \nL 142.140364 123.269921 \nL 151.884543 124.312317 \nL 161.628722 125.81331 \nL 171.372901 127.074484 \nL 181.11708 128.923901 \nL 190.861259 129.4998 \nL 200.605438 130.870654 \nL 210.349618 132.047629 \nL 220.093797 132.372448 \n\" clip-path=\"url(#p171775bf7c)\" style=\"fill: none; stroke: #1f77b4; stroke-width: 1.5; stroke-linecap: square\"/>\n   </g>\n   <g id=\"line2d_119\">\n    <path d=\"M 49.633125 13.849621 \nL 69.163125 94.524649 \nL 88.693125 110.152894 \nL 108.223125 112.73509 \nL 127.753125 120.377844 \nL 147.283125 123.988323 \nL 166.813125 126.182504 \nL 186.343125 129.376002 \nL 205.873125 130.912738 \n\" clip-path=\"url(#p171775bf7c)\" style=\"fill: none; stroke-dasharray: 5.55,2.4; stroke-dashoffset: 0; stroke: #ff7f0e; stroke-width: 1.5\"/>\n   </g>\n   <g id=\"line2d_120\">\n    <path d=\"M 49.633125 139.5 \nL 69.163125 124.93726 \nL 88.693125 116.03992 \nL 108.223125 115.647017 \nL 127.753125 112.060198 \nL 147.283125 111.020908 \nL 166.813125 109.899234 \nL 186.343125 108.948664 \nL 205.873125 107.941059 \n\" clip-path=\"url(#p171775bf7c)\" style=\"fill: none; stroke-dasharray: 9.6,2.4,1.5,2.4; stroke-dashoffset: 0; stroke: #2ca02c; stroke-width: 1.5\"/>\n   </g>\n   <g id=\"line2d_121\">\n    <path d=\"M 34.954394 13.5 \nL 44.698573 13.650909 \nL 54.442752 14.985063 \nL 64.186931 76.053068 \nL 73.93111 97.844903 \nL 83.675289 103.956574 \nL 93.419468 108.173978 \nL 103.163647 112.536855 \nL 112.907826 114.997309 \nL 122.652006 118.489681 \nL 132.396185 119.986675 \nL 142.140364 123.269921 \nL 151.884543 124.312317 \nL 161.628722 125.81331 \nL 171.372901 127.074484 \nL 181.11708 128.923901 \nL 190.861259 129.4998 \nL 200.605438 130.870654 \nL 210.349618 132.047629 \nL 220.093797 132.372448 \n\" clip-path=\"url(#p171775bf7c)\" style=\"fill: none; stroke: #1f77b4; stroke-width: 1.5; stroke-linecap: square\"/>\n   </g>\n   <g id=\"line2d_122\">\n    <path d=\"M 49.633125 13.849621 \nL 69.163125 94.524649 \nL 88.693125 110.152894 \nL 108.223125 112.73509 \nL 127.753125 120.377844 \nL 147.283125 123.988323 \nL 166.813125 126.182504 \nL 186.343125 129.376002 \nL 205.873125 130.912738 \nL 225.403125 131.891637 \n\" clip-path=\"url(#p171775bf7c)\" style=\"fill: none; stroke-dasharray: 5.55,2.4; stroke-dashoffset: 0; stroke: #ff7f0e; stroke-width: 1.5\"/>\n   </g>\n   <g id=\"line2d_123\">\n    <path d=\"M 49.633125 139.5 \nL 69.163125 124.93726 \nL 88.693125 116.03992 \nL 108.223125 115.647017 \nL 127.753125 112.060198 \nL 147.283125 111.020908 \nL 166.813125 109.899234 \nL 186.343125 108.948664 \nL 205.873125 107.941059 \n\" clip-path=\"url(#p171775bf7c)\" style=\"fill: none; stroke-dasharray: 9.6,2.4,1.5,2.4; stroke-dashoffset: 0; stroke: #2ca02c; stroke-width: 1.5\"/>\n   </g>\n   <g id=\"line2d_124\">\n    <path d=\"M 34.954394 13.5 \nL 44.698573 13.650909 \nL 54.442752 14.985063 \nL 64.186931 76.053068 \nL 73.93111 97.844903 \nL 83.675289 103.956574 \nL 93.419468 108.173978 \nL 103.163647 112.536855 \nL 112.907826 114.997309 \nL 122.652006 118.489681 \nL 132.396185 119.986675 \nL 142.140364 123.269921 \nL 151.884543 124.312317 \nL 161.628722 125.81331 \nL 171.372901 127.074484 \nL 181.11708 128.923901 \nL 190.861259 129.4998 \nL 200.605438 130.870654 \nL 210.349618 132.047629 \nL 220.093797 132.372448 \n\" clip-path=\"url(#p171775bf7c)\" style=\"fill: none; stroke: #1f77b4; stroke-width: 1.5; stroke-linecap: square\"/>\n   </g>\n   <g id=\"line2d_125\">\n    <path d=\"M 49.633125 13.849621 \nL 69.163125 94.524649 \nL 88.693125 110.152894 \nL 108.223125 112.73509 \nL 127.753125 120.377844 \nL 147.283125 123.988323 \nL 166.813125 126.182504 \nL 186.343125 129.376002 \nL 205.873125 130.912738 \nL 225.403125 131.891637 \n\" clip-path=\"url(#p171775bf7c)\" style=\"fill: none; stroke-dasharray: 5.55,2.4; stroke-dashoffset: 0; stroke: #ff7f0e; stroke-width: 1.5\"/>\n   </g>\n   <g id=\"line2d_126\">\n    <path d=\"M 49.633125 139.5 \nL 69.163125 124.93726 \nL 88.693125 116.03992 \nL 108.223125 115.647017 \nL 127.753125 112.060198 \nL 147.283125 111.020908 \nL 166.813125 109.899234 \nL 186.343125 108.948664 \nL 205.873125 107.941059 \nL 225.403125 107.40874 \n\" clip-path=\"url(#p171775bf7c)\" style=\"fill: none; stroke-dasharray: 9.6,2.4,1.5,2.4; stroke-dashoffset: 0; stroke: #2ca02c; stroke-width: 1.5\"/>\n   </g>\n   <g id=\"patch_3\">\n    <path d=\"M 30.103125 145.8 \nL 30.103125 7.2 \n\" style=\"fill: none; stroke: #000000; stroke-width: 0.8; stroke-linejoin: miter; stroke-linecap: square\"/>\n   </g>\n   <g id=\"patch_4\">\n    <path d=\"M 225.403125 145.8 \nL 225.403125 7.2 \n\" style=\"fill: none; stroke: #000000; stroke-width: 0.8; stroke-linejoin: miter; stroke-linecap: square\"/>\n   </g>\n   <g id=\"patch_5\">\n    <path d=\"M 30.103125 145.8 \nL 225.403125 145.8 \n\" style=\"fill: none; stroke: #000000; stroke-width: 0.8; stroke-linejoin: miter; stroke-linecap: square\"/>\n   </g>\n   <g id=\"patch_6\">\n    <path d=\"M 30.103125 7.2 \nL 225.403125 7.2 \n\" style=\"fill: none; stroke: #000000; stroke-width: 0.8; stroke-linejoin: miter; stroke-linecap: square\"/>\n   </g>\n   <g id=\"legend_1\">\n    <g id=\"patch_7\">\n     <path d=\"M 138.8125 60.06875 \nL 218.403125 60.06875 \nQ 220.403125 60.06875 220.403125 58.06875 \nL 220.403125 14.2 \nQ 220.403125 12.2 218.403125 12.2 \nL 138.8125 12.2 \nQ 136.8125 12.2 136.8125 14.2 \nL 136.8125 58.06875 \nQ 136.8125 60.06875 138.8125 60.06875 \nz\n\" style=\"fill: #ffffff; opacity: 0.8; stroke: #cccccc; stroke-linejoin: miter\"/>\n    </g>\n    <g id=\"line2d_127\">\n     <path d=\"M 140.8125 20.298438 \nL 150.8125 20.298438 \nL 160.8125 20.298438 \n\" style=\"fill: none; stroke: #1f77b4; stroke-width: 1.5; stroke-linecap: square\"/>\n    </g>\n    <g id=\"text_12\">\n     <!-- train_loss -->\n     <g transform=\"translate(168.8125 23.798438) scale(0.1 -0.1)\">\n      <defs>\n       <path id=\"DejaVuSans-74\" d=\"M 1172 4494 \nL 1172 3500 \nL 2356 3500 \nL 2356 3053 \nL 1172 3053 \nL 1172 1153 \nQ 1172 725 1289 603 \nQ 1406 481 1766 481 \nL 2356 481 \nL 2356 0 \nL 1766 0 \nQ 1100 0 847 248 \nQ 594 497 594 1153 \nL 594 3053 \nL 172 3053 \nL 172 3500 \nL 594 3500 \nL 594 4494 \nL 1172 4494 \nz\n\" transform=\"scale(0.015625)\"/>\n       <path id=\"DejaVuSans-72\" d=\"M 2631 2963 \nQ 2534 3019 2420 3045 \nQ 2306 3072 2169 3072 \nQ 1681 3072 1420 2755 \nQ 1159 2438 1159 1844 \nL 1159 0 \nL 581 0 \nL 581 3500 \nL 1159 3500 \nL 1159 2956 \nQ 1341 3275 1631 3429 \nQ 1922 3584 2338 3584 \nQ 2397 3584 2469 3576 \nQ 2541 3569 2628 3553 \nL 2631 2963 \nz\n\" transform=\"scale(0.015625)\"/>\n       <path id=\"DejaVuSans-61\" d=\"M 2194 1759 \nQ 1497 1759 1228 1600 \nQ 959 1441 959 1056 \nQ 959 750 1161 570 \nQ 1363 391 1709 391 \nQ 2188 391 2477 730 \nQ 2766 1069 2766 1631 \nL 2766 1759 \nL 2194 1759 \nz\nM 3341 1997 \nL 3341 0 \nL 2766 0 \nL 2766 531 \nQ 2569 213 2275 61 \nQ 1981 -91 1556 -91 \nQ 1019 -91 701 211 \nQ 384 513 384 1019 \nQ 384 1609 779 1909 \nQ 1175 2209 1959 2209 \nL 2766 2209 \nL 2766 2266 \nQ 2766 2663 2505 2880 \nQ 2244 3097 1772 3097 \nQ 1472 3097 1187 3025 \nQ 903 2953 641 2809 \nL 641 3341 \nQ 956 3463 1253 3523 \nQ 1550 3584 1831 3584 \nQ 2591 3584 2966 3190 \nQ 3341 2797 3341 1997 \nz\n\" transform=\"scale(0.015625)\"/>\n       <path id=\"DejaVuSans-69\" d=\"M 603 3500 \nL 1178 3500 \nL 1178 0 \nL 603 0 \nL 603 3500 \nz\nM 603 4863 \nL 1178 4863 \nL 1178 4134 \nL 603 4134 \nL 603 4863 \nz\n\" transform=\"scale(0.015625)\"/>\n       <path id=\"DejaVuSans-6e\" d=\"M 3513 2113 \nL 3513 0 \nL 2938 0 \nL 2938 2094 \nQ 2938 2591 2744 2837 \nQ 2550 3084 2163 3084 \nQ 1697 3084 1428 2787 \nQ 1159 2491 1159 1978 \nL 1159 0 \nL 581 0 \nL 581 3500 \nL 1159 3500 \nL 1159 2956 \nQ 1366 3272 1645 3428 \nQ 1925 3584 2291 3584 \nQ 2894 3584 3203 3211 \nQ 3513 2838 3513 2113 \nz\n\" transform=\"scale(0.015625)\"/>\n       <path id=\"DejaVuSans-5f\" d=\"M 3263 -1063 \nL 3263 -1509 \nL -63 -1509 \nL -63 -1063 \nL 3263 -1063 \nz\n\" transform=\"scale(0.015625)\"/>\n       <path id=\"DejaVuSans-6c\" d=\"M 603 4863 \nL 1178 4863 \nL 1178 0 \nL 603 0 \nL 603 4863 \nz\n\" transform=\"scale(0.015625)\"/>\n       <path id=\"DejaVuSans-73\" d=\"M 2834 3397 \nL 2834 2853 \nQ 2591 2978 2328 3040 \nQ 2066 3103 1784 3103 \nQ 1356 3103 1142 2972 \nQ 928 2841 928 2578 \nQ 928 2378 1081 2264 \nQ 1234 2150 1697 2047 \nL 1894 2003 \nQ 2506 1872 2764 1633 \nQ 3022 1394 3022 966 \nQ 3022 478 2636 193 \nQ 2250 -91 1575 -91 \nQ 1294 -91 989 -36 \nQ 684 19 347 128 \nL 347 722 \nQ 666 556 975 473 \nQ 1284 391 1588 391 \nQ 1994 391 2212 530 \nQ 2431 669 2431 922 \nQ 2431 1156 2273 1281 \nQ 2116 1406 1581 1522 \nL 1381 1569 \nQ 847 1681 609 1914 \nQ 372 2147 372 2553 \nQ 372 3047 722 3315 \nQ 1072 3584 1716 3584 \nQ 2034 3584 2315 3537 \nQ 2597 3491 2834 3397 \nz\n\" transform=\"scale(0.015625)\"/>\n      </defs>\n      <use xlink:href=\"#DejaVuSans-74\"/>\n      <use xlink:href=\"#DejaVuSans-72\" x=\"39.208984\"/>\n      <use xlink:href=\"#DejaVuSans-61\" x=\"80.322266\"/>\n      <use xlink:href=\"#DejaVuSans-69\" x=\"141.601562\"/>\n      <use xlink:href=\"#DejaVuSans-6e\" x=\"169.384766\"/>\n      <use xlink:href=\"#DejaVuSans-5f\" x=\"232.763672\"/>\n      <use xlink:href=\"#DejaVuSans-6c\" x=\"282.763672\"/>\n      <use xlink:href=\"#DejaVuSans-6f\" x=\"310.546875\"/>\n      <use xlink:href=\"#DejaVuSans-73\" x=\"371.728516\"/>\n      <use xlink:href=\"#DejaVuSans-73\" x=\"423.828125\"/>\n     </g>\n    </g>\n    <g id=\"line2d_128\">\n     <path d=\"M 140.8125 35.254688 \nL 150.8125 35.254688 \nL 160.8125 35.254688 \n\" style=\"fill: none; stroke-dasharray: 5.55,2.4; stroke-dashoffset: 0; stroke: #ff7f0e; stroke-width: 1.5\"/>\n    </g>\n    <g id=\"text_13\">\n     <!-- val_loss -->\n     <g transform=\"translate(168.8125 38.754688) scale(0.1 -0.1)\">\n      <defs>\n       <path id=\"DejaVuSans-76\" d=\"M 191 3500 \nL 800 3500 \nL 1894 563 \nL 2988 3500 \nL 3597 3500 \nL 2284 0 \nL 1503 0 \nL 191 3500 \nz\n\" transform=\"scale(0.015625)\"/>\n      </defs>\n      <use xlink:href=\"#DejaVuSans-76\"/>\n      <use xlink:href=\"#DejaVuSans-61\" x=\"59.179688\"/>\n      <use xlink:href=\"#DejaVuSans-6c\" x=\"120.458984\"/>\n      <use xlink:href=\"#DejaVuSans-5f\" x=\"148.242188\"/>\n      <use xlink:href=\"#DejaVuSans-6c\" x=\"198.242188\"/>\n      <use xlink:href=\"#DejaVuSans-6f\" x=\"226.025391\"/>\n      <use xlink:href=\"#DejaVuSans-73\" x=\"287.207031\"/>\n      <use xlink:href=\"#DejaVuSans-73\" x=\"339.306641\"/>\n     </g>\n    </g>\n    <g id=\"line2d_129\">\n     <path d=\"M 140.8125 50.210938 \nL 150.8125 50.210938 \nL 160.8125 50.210938 \n\" style=\"fill: none; stroke-dasharray: 9.6,2.4,1.5,2.4; stroke-dashoffset: 0; stroke: #2ca02c; stroke-width: 1.5\"/>\n    </g>\n    <g id=\"text_14\">\n     <!-- val_acc -->\n     <g transform=\"translate(168.8125 53.710938) scale(0.1 -0.1)\">\n      <use xlink:href=\"#DejaVuSans-76\"/>\n      <use xlink:href=\"#DejaVuSans-61\" x=\"59.179688\"/>\n      <use xlink:href=\"#DejaVuSans-6c\" x=\"120.458984\"/>\n      <use xlink:href=\"#DejaVuSans-5f\" x=\"148.242188\"/>\n      <use xlink:href=\"#DejaVuSans-61\" x=\"198.242188\"/>\n      <use xlink:href=\"#DejaVuSans-63\" x=\"259.521484\"/>\n      <use xlink:href=\"#DejaVuSans-63\" x=\"314.501953\"/>\n     </g>\n    </g>\n   </g>\n  </g>\n </g>\n <defs>\n  <clipPath id=\"p171775bf7c\">\n   <rect x=\"30.103125\" y=\"7.2\" width=\"195.3\" height=\"138.6\"/>\n  </clipPath>\n </defs>\n</svg>\n"
          },
          "metadata": {}
        }
      ],
      "source": [
        "model = AlexNet(lr=0.01)\n",
        "data = d2l.FashionMNIST(batch_size=128, resize=(224, 224))\n",
        "trainer = d2l.Trainer(max_epochs=10, num_gpus=1)\n",
        "trainer.fit(model, data)"
      ]
    },
    {
      "cell_type": "markdown",
      "source": [
        "## 8.1.5. Exercises"
      ],
      "metadata": {
        "id": "8ukpdFgMIwFP"
      }
    },
    {
      "cell_type": "markdown",
      "source": [
        "**1.**   Following up on the discussion above, analyze the computational properties of AlexNet.\n",
        "\n",
        "**a.** Compute the memory footprint for convolutions and fully connected layers, respectively. Which one dominates?\n",
        "\n",
        "**ANSWER**\n",
        "\n",
        "* Convolutions: For a convolutional layer with\n",
        "𝐶\n",
        "​in\n",
        "  input channels,\n",
        "𝐶\n",
        "​out\n",
        "  output channels, and kernel size\n",
        "𝐾\n",
        "×\n",
        "𝐾, the number of parameters is:\n",
        "\n",
        "Parameters\n",
        "=\n",
        "𝐶in\n",
        "×\n",
        "𝐶out\n",
        "×\n",
        "𝐾\n",
        "×\n",
        "𝐾\n",
        "\n",
        "Where\n",
        "𝐶out are biases.\n",
        "\n",
        "* Fully Connected Layers: A fully connected layer with\n",
        "𝑁\n",
        "​in\n",
        "  input units and\n",
        "𝑁\n",
        "​out\n",
        "  output units requires:\n",
        "\n",
        "Parameters\n",
        "=\n",
        "𝑁\n",
        "in\n",
        "×\n",
        "𝑁\n",
        "out\n",
        "\n",
        "* In AlexNet, the fully connected layers (which have 4096 neurons each) dominate the memory footprint. Despite the fact that convolutional layers process more parameters spatially, the high number of connections in the fully connected layers takes up much more memory.\n",
        "\n",
        "Conclusion: Fully connected layers dominate the memory footprint."
      ],
      "metadata": {
        "id": "7cqiOifwKKSC"
      }
    },
    {
      "cell_type": "markdown",
      "source": [
        "**b.** Calculate the computational cost for the convolutions and the fully connected layers.\n",
        "\n",
        "**ANSWER**\n",
        "\n",
        "* Convolutional layers computational cost: The computational cost for each convolutional layer is proportional to the number of floating-point operations (FLOPs). For a convolutional layer, the FLOPs are computed as:\n",
        "\n",
        "FLOPs\n",
        "=\n",
        "2\n",
        "×\n",
        "𝐶\n",
        "in\n",
        "×\n",
        "𝐶\n",
        "out\n",
        "×\n",
        "𝐾\n",
        "×\n",
        "𝐾\n",
        "×\n",
        "𝐻\n",
        "×\n",
        "𝑊\n",
        "\n",
        "where\n",
        "𝐻\n",
        "×\n",
        "𝑊\n",
        " is the size of the output feature map.\n",
        "\n",
        "* Fully connected layers computational cost: The computational cost of a fully connected layer is:\n",
        "\n",
        "FLOPs\n",
        "=\n",
        "2\n",
        "×\n",
        "𝑁\n",
        "in\n",
        "×\n",
        "𝑁\n",
        "out\n",
        "\n",
        "* Conclusion: The convolutional layers dominate the computational cost due to the large spatial dimension processing, despite the fully connected layers being heavy in terms of parameters."
      ],
      "metadata": {
        "id": "UWg3z-VCRROA"
      }
    },
    {
      "cell_type": "markdown",
      "source": [
        "**c.** How does the memory (read and write bandwidth, latency, size) affect computation? Is there any difference in its effects for training and inference?\n",
        "\n",
        "**ANSWER**\n",
        "\n",
        "* Memory bandwidth: High memory bandwidth is crucial for transferring large amounts of data, especially when dealing with large convolutional layers. Memory access patterns can affect throughput, particularly if the data is not stored contiguously.\n",
        "\n",
        "* Latency: Memory latency (the time to access data) affects both training and inference, but it might impact training more due to the repeated backpropagation steps that involve accessing activations and gradients.\n",
        "\n",
        "* Size: Larger memory allows larger batch sizes, enabling better utilization of hardware during training. For inference, memory size is less critical, as it usually involves processing one or few images at a time.\n",
        "\n",
        "The differences in its effect for Training vs. Inference:\n",
        "\n",
        "* In training, additional memory is needed for storing intermediate activations, gradients, and optimizer states.\n",
        "* In inference, only forward activations need to be stored, reducing the overall memory requirement."
      ],
      "metadata": {
        "id": "uxqEc05NRUNt"
      }
    },
    {
      "cell_type": "markdown",
      "source": [
        "**2.**   You are a chip designer and need to trade off computation and memory bandwidth. For example, a faster chip requires more power and possibly a larger chip area. More memory bandwidth requires more pins and control logic, thus also more area. How do you optimize?\n",
        "\n",
        "**ANSWER**\n",
        "\n",
        "* Optimize for balance: One strategy is to balance computation with memory bandwidth by adjusting the size of layers and minimizing data transfer by fusing layers (reducing memory access).\n",
        "* Reduce precision: Lowering the precision (e.g., using 16-bit floats instead of 32-bit floats) can reduce memory bandwidth needs while maintaining adequate performance.\n",
        "* Memory hierarchy: Utilize on-chip cache more effectively to reduce reliance on slower external memory. This can speed up computation without excessively increasing power consumption or area."
      ],
      "metadata": {
        "id": "i070E2tPQZgw"
      }
    },
    {
      "cell_type": "markdown",
      "source": [
        "**3.** Why do engineers no longer report performance benchmarks on AlexNet?\n",
        "\n",
        "**ANSWER**\n",
        "\n",
        "* Outdated architecture: AlexNet is relatively old (introduced in 2012), and more modern architectures like ResNet, EfficientNet, and Vision Transformers outperform it in both accuracy and efficiency.\n",
        "* Benchmarks have evolved: Benchmarking has moved towards newer models that are more efficient in terms of both computation and memory usage, making AlexNet less relevant for modern deep learning tasks."
      ],
      "metadata": {
        "id": "zO9Py8TTQceX"
      }
    },
    {
      "cell_type": "markdown",
      "source": [
        "**4.** Try increasing the number of epochs when training AlexNet. Compared with LeNet, how do the results differ? Why?\n",
        "\n",
        "**ANSWER**\n",
        "\n",
        "* AlexNet may not significantly improve with more epochs on FashionMNIST due to the dataset being relatively simple and low-resolution (28x28 images). The architecture is overkill for this task.\n",
        "* LeNet is more suited for small datasets like FashionMNIST and may achieve similar performance with fewer epochs, as it is designed for low-resolution inputs."
      ],
      "metadata": {
        "id": "ACN8Iws-QflV"
      }
    },
    {
      "cell_type": "markdown",
      "source": [
        "**5.** AlexNet may be too complex for the Fashion-MNIST dataset, in particular due to the low resolution of the initial images.\n",
        "\n",
        "**a.** Try simplifying the model to make the training faster, while ensuring that the accuracy does not drop significantly.\n",
        "\n",
        "**b.** Design a better model that works directly on 28 x 28 images.\n",
        "\n",
        "**ANSWER**\n",
        "\n",
        "a. Simplify AlexNet:\n",
        "\n",
        "* Reduce the number of filters in each convolutional layer.\n",
        "* Replace fully connected layers with smaller ones or even a global average pooling layer to minimize overfitting.\n",
        "\n",
        "b. Model for 28x28 Images:\n",
        "\n",
        "* Start with a simpler model like LeNet-5, which is designed for low-resolution images.\n",
        "* Use fewer parameters and convolutional layers to avoid overfitting."
      ],
      "metadata": {
        "id": "lMbbaiqdQiC0"
      }
    },
    {
      "cell_type": "markdown",
      "source": [
        "**6.** Modify the batch size, and observe the changes in throughput (images/s), accuracy, and GPU memory.\n",
        "\n",
        "**ANSWER**\n",
        "* Larger batch size: Higher throughput (more images processed per second), but increased memory usage. It can lead to faster convergence due to smoother gradient estimates.\n",
        "* Smaller batch size: Lower throughput, but potentially better generalization. Training can become unstable with very small batch sizes."
      ],
      "metadata": {
        "id": "ki4ATtBSQk7b"
      }
    },
    {
      "cell_type": "markdown",
      "source": [
        "**7.** Apply dropout and ReLU to LeNet-5. Does it improve? Can you improve things further by preprocessing to take advantage of the invariances inherent in the images?\n",
        "\n",
        "**ANSWER**\n",
        "* Dropout can help prevent overfitting by randomly turning off neurons during training.\n",
        "* ReLU speeds up convergence compared to traditional activation functions like Sigmoid or Tanh.\n",
        "* Preprocessing (e.g., augmentations like flipping, rotating, or shifting) can further improve performance by allowing the network to learn invariances inherent in the dataset."
      ],
      "metadata": {
        "id": "qte3N0ssQnRg"
      }
    },
    {
      "cell_type": "markdown",
      "source": [
        "**8.** Can you make AlexNet overfit? Which feature do you need to remove or change to break training?\n",
        "\n",
        "**ANSWER**\n",
        "You can make AlexNet overfit by:\n",
        "* Removing dropout layers, which prevent overfitting by regularizing the network.\n",
        "* Using a very small dataset or an overly complex model for a simple task like FashionMNIST."
      ],
      "metadata": {
        "id": "PGxS4CQEQpt7"
      }
    },
    {
      "cell_type": "markdown",
      "source": [
        "# 8.2. Networks Using Blocks (VGG)"
      ],
      "metadata": {
        "id": "MgRdCwrpMFu5"
      }
    },
    {
      "cell_type": "markdown",
      "source": [
        "## 8.2.1. VGG Blocks"
      ],
      "metadata": {
        "id": "rKhrb2cUMJqI"
      }
    },
    {
      "cell_type": "code",
      "source": [
        "def vgg_block(num_convs, out_channels):\n",
        "    layers = []\n",
        "    for _ in range(num_convs):\n",
        "        layers.append(nn.LazyConv2d(out_channels, kernel_size=3, padding=1))\n",
        "        layers.append(nn.ReLU())\n",
        "    layers.append(nn.MaxPool2d(kernel_size=2,stride=2))\n",
        "    return nn.Sequential(*layers)"
      ],
      "metadata": {
        "id": "dmfFtslVIsEb"
      },
      "execution_count": 5,
      "outputs": []
    },
    {
      "cell_type": "markdown",
      "source": [
        "## 8.2.2. VGG Network"
      ],
      "metadata": {
        "id": "FhIvN0wTMQvE"
      }
    },
    {
      "cell_type": "code",
      "source": [
        "class VGG(d2l.Classifier):\n",
        "    def __init__(self, arch, lr=0.1, num_classes=10):\n",
        "        super().__init__()\n",
        "        self.save_hyperparameters()\n",
        "        conv_blks = []\n",
        "        for (num_convs, out_channels) in arch:\n",
        "            conv_blks.append(vgg_block(num_convs, out_channels))\n",
        "        self.net = nn.Sequential(\n",
        "            *conv_blks, nn.Flatten(),\n",
        "            nn.LazyLinear(4096), nn.ReLU(), nn.Dropout(0.5),\n",
        "            nn.LazyLinear(4096), nn.ReLU(), nn.Dropout(0.5),\n",
        "            nn.LazyLinear(num_classes))\n",
        "        self.net.apply(d2l.init_cnn)"
      ],
      "metadata": {
        "id": "SO0n2_fkMNs9"
      },
      "execution_count": 6,
      "outputs": []
    },
    {
      "cell_type": "code",
      "source": [
        "VGG(arch=((1, 64), (1, 128), (2, 256), (2, 512), (2, 512))).layer_summary(\n",
        "    (1, 1, 224, 224))"
      ],
      "metadata": {
        "id": "DrqDkmKhMU38",
        "colab": {
          "base_uri": "https://localhost:8080/"
        },
        "outputId": "40930fc8-40f4-43c0-efa0-0764e0c52f8b"
      },
      "execution_count": 7,
      "outputs": [
        {
          "output_type": "stream",
          "name": "stdout",
          "text": [
            "Sequential output shape:\t torch.Size([1, 64, 112, 112])\n",
            "Sequential output shape:\t torch.Size([1, 128, 56, 56])\n",
            "Sequential output shape:\t torch.Size([1, 256, 28, 28])\n",
            "Sequential output shape:\t torch.Size([1, 512, 14, 14])\n",
            "Sequential output shape:\t torch.Size([1, 512, 7, 7])\n",
            "Flatten output shape:\t torch.Size([1, 25088])\n",
            "Linear output shape:\t torch.Size([1, 4096])\n",
            "ReLU output shape:\t torch.Size([1, 4096])\n",
            "Dropout output shape:\t torch.Size([1, 4096])\n",
            "Linear output shape:\t torch.Size([1, 4096])\n",
            "ReLU output shape:\t torch.Size([1, 4096])\n",
            "Dropout output shape:\t torch.Size([1, 4096])\n",
            "Linear output shape:\t torch.Size([1, 10])\n"
          ]
        }
      ]
    },
    {
      "cell_type": "markdown",
      "source": [
        "## 8.2.3. Training"
      ],
      "metadata": {
        "id": "mxJoynp0MZGb"
      }
    },
    {
      "cell_type": "code",
      "source": [
        "model = VGG(arch=((1, 16), (1, 32), (2, 64), (2, 128), (2, 128)), lr=0.01)\n",
        "trainer = d2l.Trainer(max_epochs=10, num_gpus=1)\n",
        "data = d2l.FashionMNIST(batch_size=128, resize=(224, 224))\n",
        "model.apply_init([next(iter(data.get_dataloader(True)))[0]], d2l.init_cnn)\n",
        "trainer.fit(model, data)"
      ],
      "metadata": {
        "id": "_O0D96l6MaAy",
        "colab": {
          "base_uri": "https://localhost:8080/",
          "height": 265
        },
        "outputId": "3f941787-8958-4c35-cbbb-9a1d3dafd9c5"
      },
      "execution_count": 8,
      "outputs": [
        {
          "output_type": "display_data",
          "data": {
            "text/plain": [
              "<Figure size 350x250 with 1 Axes>"
            ],
            "image/svg+xml": "<?xml version=\"1.0\" encoding=\"utf-8\" standalone=\"no\"?>\n<!DOCTYPE svg PUBLIC \"-//W3C//DTD SVG 1.1//EN\"\n  \"http://www.w3.org/Graphics/SVG/1.1/DTD/svg11.dtd\">\n<svg xmlns:xlink=\"http://www.w3.org/1999/xlink\" width=\"238.965625pt\" height=\"183.35625pt\" viewBox=\"0 0 238.965625 183.35625\" xmlns=\"http://www.w3.org/2000/svg\" version=\"1.1\">\n <metadata>\n  <rdf:RDF xmlns:dc=\"http://purl.org/dc/elements/1.1/\" xmlns:cc=\"http://creativecommons.org/ns#\" xmlns:rdf=\"http://www.w3.org/1999/02/22-rdf-syntax-ns#\">\n   <cc:Work>\n    <dc:type rdf:resource=\"http://purl.org/dc/dcmitype/StillImage\"/>\n    <dc:date>2024-10-05T14:06:36.638734</dc:date>\n    <dc:format>image/svg+xml</dc:format>\n    <dc:creator>\n     <cc:Agent>\n      <dc:title>Matplotlib v3.7.2, https://matplotlib.org/</dc:title>\n     </cc:Agent>\n    </dc:creator>\n   </cc:Work>\n  </rdf:RDF>\n </metadata>\n <defs>\n  <style type=\"text/css\">*{stroke-linejoin: round; stroke-linecap: butt}</style>\n </defs>\n <g id=\"figure_1\">\n  <g id=\"patch_1\">\n   <path d=\"M 0 183.35625 \nL 238.965625 183.35625 \nL 238.965625 0 \nL 0 0 \nz\n\" style=\"fill: #ffffff\"/>\n  </g>\n  <g id=\"axes_1\">\n   <g id=\"patch_2\">\n    <path d=\"M 30.103125 145.8 \nL 225.403125 145.8 \nL 225.403125 7.2 \nL 30.103125 7.2 \nz\n\" style=\"fill: #ffffff\"/>\n   </g>\n   <g id=\"matplotlib.axis_1\">\n    <g id=\"xtick_1\">\n     <g id=\"line2d_1\">\n      <defs>\n       <path id=\"mf35f41f7a2\" d=\"M 0 0 \nL 0 3.5 \n\" style=\"stroke: #000000; stroke-width: 0.8\"/>\n      </defs>\n      <g>\n       <use xlink:href=\"#mf35f41f7a2\" x=\"30.103125\" y=\"145.8\" style=\"stroke: #000000; stroke-width: 0.8\"/>\n      </g>\n     </g>\n     <g id=\"text_1\">\n      <!-- 0 -->\n      <g transform=\"translate(26.921875 160.398438) scale(0.1 -0.1)\">\n       <defs>\n        <path id=\"DejaVuSans-30\" d=\"M 2034 4250 \nQ 1547 4250 1301 3770 \nQ 1056 3291 1056 2328 \nQ 1056 1369 1301 889 \nQ 1547 409 2034 409 \nQ 2525 409 2770 889 \nQ 3016 1369 3016 2328 \nQ 3016 3291 2770 3770 \nQ 2525 4250 2034 4250 \nz\nM 2034 4750 \nQ 2819 4750 3233 4129 \nQ 3647 3509 3647 2328 \nQ 3647 1150 3233 529 \nQ 2819 -91 2034 -91 \nQ 1250 -91 836 529 \nQ 422 1150 422 2328 \nQ 422 3509 836 4129 \nQ 1250 4750 2034 4750 \nz\n\" transform=\"scale(0.015625)\"/>\n       </defs>\n       <use xlink:href=\"#DejaVuSans-30\"/>\n      </g>\n     </g>\n    </g>\n    <g id=\"xtick_2\">\n     <g id=\"line2d_2\">\n      <g>\n       <use xlink:href=\"#mf35f41f7a2\" x=\"69.163125\" y=\"145.8\" style=\"stroke: #000000; stroke-width: 0.8\"/>\n      </g>\n     </g>\n     <g id=\"text_2\">\n      <!-- 2 -->\n      <g transform=\"translate(65.981875 160.398438) scale(0.1 -0.1)\">\n       <defs>\n        <path id=\"DejaVuSans-32\" d=\"M 1228 531 \nL 3431 531 \nL 3431 0 \nL 469 0 \nL 469 531 \nQ 828 903 1448 1529 \nQ 2069 2156 2228 2338 \nQ 2531 2678 2651 2914 \nQ 2772 3150 2772 3378 \nQ 2772 3750 2511 3984 \nQ 2250 4219 1831 4219 \nQ 1534 4219 1204 4116 \nQ 875 4013 500 3803 \nL 500 4441 \nQ 881 4594 1212 4672 \nQ 1544 4750 1819 4750 \nQ 2544 4750 2975 4387 \nQ 3406 4025 3406 3419 \nQ 3406 3131 3298 2873 \nQ 3191 2616 2906 2266 \nQ 2828 2175 2409 1742 \nQ 1991 1309 1228 531 \nz\n\" transform=\"scale(0.015625)\"/>\n       </defs>\n       <use xlink:href=\"#DejaVuSans-32\"/>\n      </g>\n     </g>\n    </g>\n    <g id=\"xtick_3\">\n     <g id=\"line2d_3\">\n      <g>\n       <use xlink:href=\"#mf35f41f7a2\" x=\"108.223125\" y=\"145.8\" style=\"stroke: #000000; stroke-width: 0.8\"/>\n      </g>\n     </g>\n     <g id=\"text_3\">\n      <!-- 4 -->\n      <g transform=\"translate(105.041875 160.398438) scale(0.1 -0.1)\">\n       <defs>\n        <path id=\"DejaVuSans-34\" d=\"M 2419 4116 \nL 825 1625 \nL 2419 1625 \nL 2419 4116 \nz\nM 2253 4666 \nL 3047 4666 \nL 3047 1625 \nL 3713 1625 \nL 3713 1100 \nL 3047 1100 \nL 3047 0 \nL 2419 0 \nL 2419 1100 \nL 313 1100 \nL 313 1709 \nL 2253 4666 \nz\n\" transform=\"scale(0.015625)\"/>\n       </defs>\n       <use xlink:href=\"#DejaVuSans-34\"/>\n      </g>\n     </g>\n    </g>\n    <g id=\"xtick_4\">\n     <g id=\"line2d_4\">\n      <g>\n       <use xlink:href=\"#mf35f41f7a2\" x=\"147.283125\" y=\"145.8\" style=\"stroke: #000000; stroke-width: 0.8\"/>\n      </g>\n     </g>\n     <g id=\"text_4\">\n      <!-- 6 -->\n      <g transform=\"translate(144.101875 160.398438) scale(0.1 -0.1)\">\n       <defs>\n        <path id=\"DejaVuSans-36\" d=\"M 2113 2584 \nQ 1688 2584 1439 2293 \nQ 1191 2003 1191 1497 \nQ 1191 994 1439 701 \nQ 1688 409 2113 409 \nQ 2538 409 2786 701 \nQ 3034 994 3034 1497 \nQ 3034 2003 2786 2293 \nQ 2538 2584 2113 2584 \nz\nM 3366 4563 \nL 3366 3988 \nQ 3128 4100 2886 4159 \nQ 2644 4219 2406 4219 \nQ 1781 4219 1451 3797 \nQ 1122 3375 1075 2522 \nQ 1259 2794 1537 2939 \nQ 1816 3084 2150 3084 \nQ 2853 3084 3261 2657 \nQ 3669 2231 3669 1497 \nQ 3669 778 3244 343 \nQ 2819 -91 2113 -91 \nQ 1303 -91 875 529 \nQ 447 1150 447 2328 \nQ 447 3434 972 4092 \nQ 1497 4750 2381 4750 \nQ 2619 4750 2861 4703 \nQ 3103 4656 3366 4563 \nz\n\" transform=\"scale(0.015625)\"/>\n       </defs>\n       <use xlink:href=\"#DejaVuSans-36\"/>\n      </g>\n     </g>\n    </g>\n    <g id=\"xtick_5\">\n     <g id=\"line2d_5\">\n      <g>\n       <use xlink:href=\"#mf35f41f7a2\" x=\"186.343125\" y=\"145.8\" style=\"stroke: #000000; stroke-width: 0.8\"/>\n      </g>\n     </g>\n     <g id=\"text_5\">\n      <!-- 8 -->\n      <g transform=\"translate(183.161875 160.398438) scale(0.1 -0.1)\">\n       <defs>\n        <path id=\"DejaVuSans-38\" d=\"M 2034 2216 \nQ 1584 2216 1326 1975 \nQ 1069 1734 1069 1313 \nQ 1069 891 1326 650 \nQ 1584 409 2034 409 \nQ 2484 409 2743 651 \nQ 3003 894 3003 1313 \nQ 3003 1734 2745 1975 \nQ 2488 2216 2034 2216 \nz\nM 1403 2484 \nQ 997 2584 770 2862 \nQ 544 3141 544 3541 \nQ 544 4100 942 4425 \nQ 1341 4750 2034 4750 \nQ 2731 4750 3128 4425 \nQ 3525 4100 3525 3541 \nQ 3525 3141 3298 2862 \nQ 3072 2584 2669 2484 \nQ 3125 2378 3379 2068 \nQ 3634 1759 3634 1313 \nQ 3634 634 3220 271 \nQ 2806 -91 2034 -91 \nQ 1263 -91 848 271 \nQ 434 634 434 1313 \nQ 434 1759 690 2068 \nQ 947 2378 1403 2484 \nz\nM 1172 3481 \nQ 1172 3119 1398 2916 \nQ 1625 2713 2034 2713 \nQ 2441 2713 2670 2916 \nQ 2900 3119 2900 3481 \nQ 2900 3844 2670 4047 \nQ 2441 4250 2034 4250 \nQ 1625 4250 1398 4047 \nQ 1172 3844 1172 3481 \nz\n\" transform=\"scale(0.015625)\"/>\n       </defs>\n       <use xlink:href=\"#DejaVuSans-38\"/>\n      </g>\n     </g>\n    </g>\n    <g id=\"xtick_6\">\n     <g id=\"line2d_6\">\n      <g>\n       <use xlink:href=\"#mf35f41f7a2\" x=\"225.403125\" y=\"145.8\" style=\"stroke: #000000; stroke-width: 0.8\"/>\n      </g>\n     </g>\n     <g id=\"text_6\">\n      <!-- 10 -->\n      <g transform=\"translate(219.040625 160.398438) scale(0.1 -0.1)\">\n       <defs>\n        <path id=\"DejaVuSans-31\" d=\"M 794 531 \nL 1825 531 \nL 1825 4091 \nL 703 3866 \nL 703 4441 \nL 1819 4666 \nL 2450 4666 \nL 2450 531 \nL 3481 531 \nL 3481 0 \nL 794 0 \nL 794 531 \nz\n\" transform=\"scale(0.015625)\"/>\n       </defs>\n       <use xlink:href=\"#DejaVuSans-31\"/>\n       <use xlink:href=\"#DejaVuSans-30\" x=\"63.623047\"/>\n      </g>\n     </g>\n    </g>\n    <g id=\"text_7\">\n     <!-- epoch -->\n     <g transform=\"translate(112.525 174.076563) scale(0.1 -0.1)\">\n      <defs>\n       <path id=\"DejaVuSans-65\" d=\"M 3597 1894 \nL 3597 1613 \nL 953 1613 \nQ 991 1019 1311 708 \nQ 1631 397 2203 397 \nQ 2534 397 2845 478 \nQ 3156 559 3463 722 \nL 3463 178 \nQ 3153 47 2828 -22 \nQ 2503 -91 2169 -91 \nQ 1331 -91 842 396 \nQ 353 884 353 1716 \nQ 353 2575 817 3079 \nQ 1281 3584 2069 3584 \nQ 2775 3584 3186 3129 \nQ 3597 2675 3597 1894 \nz\nM 3022 2063 \nQ 3016 2534 2758 2815 \nQ 2500 3097 2075 3097 \nQ 1594 3097 1305 2825 \nQ 1016 2553 972 2059 \nL 3022 2063 \nz\n\" transform=\"scale(0.015625)\"/>\n       <path id=\"DejaVuSans-70\" d=\"M 1159 525 \nL 1159 -1331 \nL 581 -1331 \nL 581 3500 \nL 1159 3500 \nL 1159 2969 \nQ 1341 3281 1617 3432 \nQ 1894 3584 2278 3584 \nQ 2916 3584 3314 3078 \nQ 3713 2572 3713 1747 \nQ 3713 922 3314 415 \nQ 2916 -91 2278 -91 \nQ 1894 -91 1617 61 \nQ 1341 213 1159 525 \nz\nM 3116 1747 \nQ 3116 2381 2855 2742 \nQ 2594 3103 2138 3103 \nQ 1681 3103 1420 2742 \nQ 1159 2381 1159 1747 \nQ 1159 1113 1420 752 \nQ 1681 391 2138 391 \nQ 2594 391 2855 752 \nQ 3116 1113 3116 1747 \nz\n\" transform=\"scale(0.015625)\"/>\n       <path id=\"DejaVuSans-6f\" d=\"M 1959 3097 \nQ 1497 3097 1228 2736 \nQ 959 2375 959 1747 \nQ 959 1119 1226 758 \nQ 1494 397 1959 397 \nQ 2419 397 2687 759 \nQ 2956 1122 2956 1747 \nQ 2956 2369 2687 2733 \nQ 2419 3097 1959 3097 \nz\nM 1959 3584 \nQ 2709 3584 3137 3096 \nQ 3566 2609 3566 1747 \nQ 3566 888 3137 398 \nQ 2709 -91 1959 -91 \nQ 1206 -91 779 398 \nQ 353 888 353 1747 \nQ 353 2609 779 3096 \nQ 1206 3584 1959 3584 \nz\n\" transform=\"scale(0.015625)\"/>\n       <path id=\"DejaVuSans-63\" d=\"M 3122 3366 \nL 3122 2828 \nQ 2878 2963 2633 3030 \nQ 2388 3097 2138 3097 \nQ 1578 3097 1268 2742 \nQ 959 2388 959 1747 \nQ 959 1106 1268 751 \nQ 1578 397 2138 397 \nQ 2388 397 2633 464 \nQ 2878 531 3122 666 \nL 3122 134 \nQ 2881 22 2623 -34 \nQ 2366 -91 2075 -91 \nQ 1284 -91 818 406 \nQ 353 903 353 1747 \nQ 353 2603 823 3093 \nQ 1294 3584 2113 3584 \nQ 2378 3584 2631 3529 \nQ 2884 3475 3122 3366 \nz\n\" transform=\"scale(0.015625)\"/>\n       <path id=\"DejaVuSans-68\" d=\"M 3513 2113 \nL 3513 0 \nL 2938 0 \nL 2938 2094 \nQ 2938 2591 2744 2837 \nQ 2550 3084 2163 3084 \nQ 1697 3084 1428 2787 \nQ 1159 2491 1159 1978 \nL 1159 0 \nL 581 0 \nL 581 4863 \nL 1159 4863 \nL 1159 2956 \nQ 1366 3272 1645 3428 \nQ 1925 3584 2291 3584 \nQ 2894 3584 3203 3211 \nQ 3513 2838 3513 2113 \nz\n\" transform=\"scale(0.015625)\"/>\n      </defs>\n      <use xlink:href=\"#DejaVuSans-65\"/>\n      <use xlink:href=\"#DejaVuSans-70\" x=\"61.523438\"/>\n      <use xlink:href=\"#DejaVuSans-6f\" x=\"125\"/>\n      <use xlink:href=\"#DejaVuSans-63\" x=\"186.181641\"/>\n      <use xlink:href=\"#DejaVuSans-68\" x=\"241.162109\"/>\n     </g>\n    </g>\n   </g>\n   <g id=\"matplotlib.axis_2\">\n    <g id=\"ytick_1\">\n     <g id=\"line2d_7\">\n      <defs>\n       <path id=\"m90c9ddba15\" d=\"M 0 0 \nL -3.5 0 \n\" style=\"stroke: #000000; stroke-width: 0.8\"/>\n      </defs>\n      <g>\n       <use xlink:href=\"#m90c9ddba15\" x=\"30.103125\" y=\"126.946748\" style=\"stroke: #000000; stroke-width: 0.8\"/>\n      </g>\n     </g>\n     <g id=\"text_8\">\n      <!-- 0.5 -->\n      <g transform=\"translate(7.2 130.745967) scale(0.1 -0.1)\">\n       <defs>\n        <path id=\"DejaVuSans-2e\" d=\"M 684 794 \nL 1344 794 \nL 1344 0 \nL 684 0 \nL 684 794 \nz\n\" transform=\"scale(0.015625)\"/>\n        <path id=\"DejaVuSans-35\" d=\"M 691 4666 \nL 3169 4666 \nL 3169 4134 \nL 1269 4134 \nL 1269 2991 \nQ 1406 3038 1543 3061 \nQ 1681 3084 1819 3084 \nQ 2600 3084 3056 2656 \nQ 3513 2228 3513 1497 \nQ 3513 744 3044 326 \nQ 2575 -91 1722 -91 \nQ 1428 -91 1123 -41 \nQ 819 9 494 109 \nL 494 744 \nQ 775 591 1075 516 \nQ 1375 441 1709 441 \nQ 2250 441 2565 725 \nQ 2881 1009 2881 1497 \nQ 2881 1984 2565 2268 \nQ 2250 2553 1709 2553 \nQ 1456 2553 1204 2497 \nQ 953 2441 691 2322 \nL 691 4666 \nz\n\" transform=\"scale(0.015625)\"/>\n       </defs>\n       <use xlink:href=\"#DejaVuSans-30\"/>\n       <use xlink:href=\"#DejaVuSans-2e\" x=\"63.623047\"/>\n       <use xlink:href=\"#DejaVuSans-35\" x=\"95.410156\"/>\n      </g>\n     </g>\n    </g>\n    <g id=\"ytick_2\">\n     <g id=\"line2d_8\">\n      <g>\n       <use xlink:href=\"#m90c9ddba15\" x=\"30.103125\" y=\"95.282138\" style=\"stroke: #000000; stroke-width: 0.8\"/>\n      </g>\n     </g>\n     <g id=\"text_9\">\n      <!-- 1.0 -->\n      <g transform=\"translate(7.2 99.081357) scale(0.1 -0.1)\">\n       <use xlink:href=\"#DejaVuSans-31\"/>\n       <use xlink:href=\"#DejaVuSans-2e\" x=\"63.623047\"/>\n       <use xlink:href=\"#DejaVuSans-30\" x=\"95.410156\"/>\n      </g>\n     </g>\n    </g>\n    <g id=\"ytick_3\">\n     <g id=\"line2d_9\">\n      <g>\n       <use xlink:href=\"#m90c9ddba15\" x=\"30.103125\" y=\"63.617527\" style=\"stroke: #000000; stroke-width: 0.8\"/>\n      </g>\n     </g>\n     <g id=\"text_10\">\n      <!-- 1.5 -->\n      <g transform=\"translate(7.2 67.416746) scale(0.1 -0.1)\">\n       <use xlink:href=\"#DejaVuSans-31\"/>\n       <use xlink:href=\"#DejaVuSans-2e\" x=\"63.623047\"/>\n       <use xlink:href=\"#DejaVuSans-35\" x=\"95.410156\"/>\n      </g>\n     </g>\n    </g>\n    <g id=\"ytick_4\">\n     <g id=\"line2d_10\">\n      <g>\n       <use xlink:href=\"#m90c9ddba15\" x=\"30.103125\" y=\"31.952916\" style=\"stroke: #000000; stroke-width: 0.8\"/>\n      </g>\n     </g>\n     <g id=\"text_11\">\n      <!-- 2.0 -->\n      <g transform=\"translate(7.2 35.752135) scale(0.1 -0.1)\">\n       <use xlink:href=\"#DejaVuSans-32\"/>\n       <use xlink:href=\"#DejaVuSans-2e\" x=\"63.623047\"/>\n       <use xlink:href=\"#DejaVuSans-30\" x=\"95.410156\"/>\n      </g>\n     </g>\n    </g>\n   </g>\n   <g id=\"line2d_11\">\n    <path d=\"M 34.954394 13.5 \n\" clip-path=\"url(#pf41034d46a)\" style=\"fill: none; stroke: #1f77b4; stroke-width: 1.5; stroke-linecap: square\"/>\n   </g>\n   <g id=\"line2d_12\">\n    <path d=\"M 34.954394 13.5 \nL 44.698573 73.948735 \n\" clip-path=\"url(#pf41034d46a)\" style=\"fill: none; stroke: #1f77b4; stroke-width: 1.5; stroke-linecap: square\"/>\n   </g>\n   <g id=\"line2d_13\">\n    <path d=\"M 34.954394 13.5 \nL 44.698573 73.948735 \n\" clip-path=\"url(#pf41034d46a)\" style=\"fill: none; stroke: #1f77b4; stroke-width: 1.5; stroke-linecap: square\"/>\n   </g>\n   <g id=\"line2d_14\">\n    <path d=\"M 49.633125 112.976777 \n\" clip-path=\"url(#pf41034d46a)\" style=\"fill: none; stroke-dasharray: 5.55,2.4; stroke-dashoffset: 0; stroke: #ff7f0e; stroke-width: 1.5\"/>\n   </g>\n   <g id=\"line2d_15\"/>\n   <g id=\"line2d_16\">\n    <path d=\"M 34.954394 13.5 \nL 44.698573 73.948735 \n\" clip-path=\"url(#pf41034d46a)\" style=\"fill: none; stroke: #1f77b4; stroke-width: 1.5; stroke-linecap: square\"/>\n   </g>\n   <g id=\"line2d_17\">\n    <path d=\"M 49.633125 112.976777 \n\" clip-path=\"url(#pf41034d46a)\" style=\"fill: none; stroke-dasharray: 5.55,2.4; stroke-dashoffset: 0; stroke: #ff7f0e; stroke-width: 1.5\"/>\n   </g>\n   <g id=\"line2d_18\">\n    <path d=\"M 49.633125 112.755291 \n\" clip-path=\"url(#pf41034d46a)\" style=\"fill: none; stroke-dasharray: 9.6,2.4,1.5,2.4; stroke-dashoffset: 0; stroke: #2ca02c; stroke-width: 1.5\"/>\n   </g>\n   <g id=\"line2d_19\">\n    <path d=\"M 34.954394 13.5 \nL 44.698573 73.948735 \nL 54.442752 113.018028 \n\" clip-path=\"url(#pf41034d46a)\" style=\"fill: none; stroke: #1f77b4; stroke-width: 1.5; stroke-linecap: square\"/>\n   </g>\n   <g id=\"line2d_20\">\n    <path d=\"M 49.633125 112.976777 \n\" clip-path=\"url(#pf41034d46a)\" style=\"fill: none; stroke-dasharray: 5.55,2.4; stroke-dashoffset: 0; stroke: #ff7f0e; stroke-width: 1.5\"/>\n   </g>\n   <g id=\"line2d_21\">\n    <path d=\"M 49.633125 112.755291 \n\" clip-path=\"url(#pf41034d46a)\" style=\"fill: none; stroke-dasharray: 9.6,2.4,1.5,2.4; stroke-dashoffset: 0; stroke: #2ca02c; stroke-width: 1.5\"/>\n   </g>\n   <g id=\"line2d_22\">\n    <path d=\"M 34.954394 13.5 \nL 44.698573 73.948735 \nL 54.442752 113.018028 \nL 64.186931 120.041875 \n\" clip-path=\"url(#pf41034d46a)\" style=\"fill: none; stroke: #1f77b4; stroke-width: 1.5; stroke-linecap: square\"/>\n   </g>\n   <g id=\"line2d_23\">\n    <path d=\"M 49.633125 112.976777 \n\" clip-path=\"url(#pf41034d46a)\" style=\"fill: none; stroke-dasharray: 5.55,2.4; stroke-dashoffset: 0; stroke: #ff7f0e; stroke-width: 1.5\"/>\n   </g>\n   <g id=\"line2d_24\">\n    <path d=\"M 49.633125 112.755291 \n\" clip-path=\"url(#pf41034d46a)\" style=\"fill: none; stroke-dasharray: 9.6,2.4,1.5,2.4; stroke-dashoffset: 0; stroke: #2ca02c; stroke-width: 1.5\"/>\n   </g>\n   <g id=\"line2d_25\">\n    <path d=\"M 34.954394 13.5 \nL 44.698573 73.948735 \nL 54.442752 113.018028 \nL 64.186931 120.041875 \n\" clip-path=\"url(#pf41034d46a)\" style=\"fill: none; stroke: #1f77b4; stroke-width: 1.5; stroke-linecap: square\"/>\n   </g>\n   <g id=\"line2d_26\">\n    <path d=\"M 49.633125 112.976777 \nL 69.163125 125.217167 \n\" clip-path=\"url(#pf41034d46a)\" style=\"fill: none; stroke-dasharray: 5.55,2.4; stroke-dashoffset: 0; stroke: #ff7f0e; stroke-width: 1.5\"/>\n   </g>\n   <g id=\"line2d_27\">\n    <path d=\"M 49.633125 112.755291 \n\" clip-path=\"url(#pf41034d46a)\" style=\"fill: none; stroke-dasharray: 9.6,2.4,1.5,2.4; stroke-dashoffset: 0; stroke: #2ca02c; stroke-width: 1.5\"/>\n   </g>\n   <g id=\"line2d_28\">\n    <path d=\"M 34.954394 13.5 \nL 44.698573 73.948735 \nL 54.442752 113.018028 \nL 64.186931 120.041875 \n\" clip-path=\"url(#pf41034d46a)\" style=\"fill: none; stroke: #1f77b4; stroke-width: 1.5; stroke-linecap: square\"/>\n   </g>\n   <g id=\"line2d_29\">\n    <path d=\"M 49.633125 112.976777 \nL 69.163125 125.217167 \n\" clip-path=\"url(#pf41034d46a)\" style=\"fill: none; stroke-dasharray: 5.55,2.4; stroke-dashoffset: 0; stroke: #ff7f0e; stroke-width: 1.5\"/>\n   </g>\n   <g id=\"line2d_30\">\n    <path d=\"M 49.633125 112.755291 \nL 69.163125 107.694966 \n\" clip-path=\"url(#pf41034d46a)\" style=\"fill: none; stroke-dasharray: 9.6,2.4,1.5,2.4; stroke-dashoffset: 0; stroke: #2ca02c; stroke-width: 1.5\"/>\n   </g>\n   <g id=\"line2d_31\">\n    <path d=\"M 34.954394 13.5 \nL 44.698573 73.948735 \nL 54.442752 113.018028 \nL 64.186931 120.041875 \nL 73.93111 124.342687 \n\" clip-path=\"url(#pf41034d46a)\" style=\"fill: none; stroke: #1f77b4; stroke-width: 1.5; stroke-linecap: square\"/>\n   </g>\n   <g id=\"line2d_32\">\n    <path d=\"M 49.633125 112.976777 \nL 69.163125 125.217167 \n\" clip-path=\"url(#pf41034d46a)\" style=\"fill: none; stroke-dasharray: 5.55,2.4; stroke-dashoffset: 0; stroke: #ff7f0e; stroke-width: 1.5\"/>\n   </g>\n   <g id=\"line2d_33\">\n    <path d=\"M 49.633125 112.755291 \nL 69.163125 107.694966 \n\" clip-path=\"url(#pf41034d46a)\" style=\"fill: none; stroke-dasharray: 9.6,2.4,1.5,2.4; stroke-dashoffset: 0; stroke: #2ca02c; stroke-width: 1.5\"/>\n   </g>\n   <g id=\"line2d_34\">\n    <path d=\"M 34.954394 13.5 \nL 44.698573 73.948735 \nL 54.442752 113.018028 \nL 64.186931 120.041875 \nL 73.93111 124.342687 \nL 83.675289 127.423863 \n\" clip-path=\"url(#pf41034d46a)\" style=\"fill: none; stroke: #1f77b4; stroke-width: 1.5; stroke-linecap: square\"/>\n   </g>\n   <g id=\"line2d_35\">\n    <path d=\"M 49.633125 112.976777 \nL 69.163125 125.217167 \n\" clip-path=\"url(#pf41034d46a)\" style=\"fill: none; stroke-dasharray: 5.55,2.4; stroke-dashoffset: 0; stroke: #ff7f0e; stroke-width: 1.5\"/>\n   </g>\n   <g id=\"line2d_36\">\n    <path d=\"M 49.633125 112.755291 \nL 69.163125 107.694966 \n\" clip-path=\"url(#pf41034d46a)\" style=\"fill: none; stroke-dasharray: 9.6,2.4,1.5,2.4; stroke-dashoffset: 0; stroke: #2ca02c; stroke-width: 1.5\"/>\n   </g>\n   <g id=\"line2d_37\">\n    <path d=\"M 34.954394 13.5 \nL 44.698573 73.948735 \nL 54.442752 113.018028 \nL 64.186931 120.041875 \nL 73.93111 124.342687 \nL 83.675289 127.423863 \n\" clip-path=\"url(#pf41034d46a)\" style=\"fill: none; stroke: #1f77b4; stroke-width: 1.5; stroke-linecap: square\"/>\n   </g>\n   <g id=\"line2d_38\">\n    <path d=\"M 49.633125 112.976777 \nL 69.163125 125.217167 \nL 88.693125 129.295052 \n\" clip-path=\"url(#pf41034d46a)\" style=\"fill: none; stroke-dasharray: 5.55,2.4; stroke-dashoffset: 0; stroke: #ff7f0e; stroke-width: 1.5\"/>\n   </g>\n   <g id=\"line2d_39\">\n    <path d=\"M 49.633125 112.755291 \nL 69.163125 107.694966 \n\" clip-path=\"url(#pf41034d46a)\" style=\"fill: none; stroke-dasharray: 9.6,2.4,1.5,2.4; stroke-dashoffset: 0; stroke: #2ca02c; stroke-width: 1.5\"/>\n   </g>\n   <g id=\"line2d_40\">\n    <path d=\"M 34.954394 13.5 \nL 44.698573 73.948735 \nL 54.442752 113.018028 \nL 64.186931 120.041875 \nL 73.93111 124.342687 \nL 83.675289 127.423863 \n\" clip-path=\"url(#pf41034d46a)\" style=\"fill: none; stroke: #1f77b4; stroke-width: 1.5; stroke-linecap: square\"/>\n   </g>\n   <g id=\"line2d_41\">\n    <path d=\"M 49.633125 112.976777 \nL 69.163125 125.217167 \nL 88.693125 129.295052 \n\" clip-path=\"url(#pf41034d46a)\" style=\"fill: none; stroke-dasharray: 5.55,2.4; stroke-dashoffset: 0; stroke: #ff7f0e; stroke-width: 1.5\"/>\n   </g>\n   <g id=\"line2d_42\">\n    <path d=\"M 49.633125 112.755291 \nL 69.163125 107.694966 \nL 88.693125 106.110483 \n\" clip-path=\"url(#pf41034d46a)\" style=\"fill: none; stroke-dasharray: 9.6,2.4,1.5,2.4; stroke-dashoffset: 0; stroke: #2ca02c; stroke-width: 1.5\"/>\n   </g>\n   <g id=\"line2d_43\">\n    <path d=\"M 34.954394 13.5 \nL 44.698573 73.948735 \nL 54.442752 113.018028 \nL 64.186931 120.041875 \nL 73.93111 124.342687 \nL 83.675289 127.423863 \nL 93.419468 128.9739 \n\" clip-path=\"url(#pf41034d46a)\" style=\"fill: none; stroke: #1f77b4; stroke-width: 1.5; stroke-linecap: square\"/>\n   </g>\n   <g id=\"line2d_44\">\n    <path d=\"M 49.633125 112.976777 \nL 69.163125 125.217167 \nL 88.693125 129.295052 \n\" clip-path=\"url(#pf41034d46a)\" style=\"fill: none; stroke-dasharray: 5.55,2.4; stroke-dashoffset: 0; stroke: #ff7f0e; stroke-width: 1.5\"/>\n   </g>\n   <g id=\"line2d_45\">\n    <path d=\"M 49.633125 112.755291 \nL 69.163125 107.694966 \nL 88.693125 106.110483 \n\" clip-path=\"url(#pf41034d46a)\" style=\"fill: none; stroke-dasharray: 9.6,2.4,1.5,2.4; stroke-dashoffset: 0; stroke: #2ca02c; stroke-width: 1.5\"/>\n   </g>\n   <g id=\"line2d_46\">\n    <path d=\"M 34.954394 13.5 \nL 44.698573 73.948735 \nL 54.442752 113.018028 \nL 64.186931 120.041875 \nL 73.93111 124.342687 \nL 83.675289 127.423863 \nL 93.419468 128.9739 \nL 103.163647 131.278363 \n\" clip-path=\"url(#pf41034d46a)\" style=\"fill: none; stroke: #1f77b4; stroke-width: 1.5; stroke-linecap: square\"/>\n   </g>\n   <g id=\"line2d_47\">\n    <path d=\"M 49.633125 112.976777 \nL 69.163125 125.217167 \nL 88.693125 129.295052 \n\" clip-path=\"url(#pf41034d46a)\" style=\"fill: none; stroke-dasharray: 5.55,2.4; stroke-dashoffset: 0; stroke: #ff7f0e; stroke-width: 1.5\"/>\n   </g>\n   <g id=\"line2d_48\">\n    <path d=\"M 49.633125 112.755291 \nL 69.163125 107.694966 \nL 88.693125 106.110483 \n\" clip-path=\"url(#pf41034d46a)\" style=\"fill: none; stroke-dasharray: 9.6,2.4,1.5,2.4; stroke-dashoffset: 0; stroke: #2ca02c; stroke-width: 1.5\"/>\n   </g>\n   <g id=\"line2d_49\">\n    <path d=\"M 34.954394 13.5 \nL 44.698573 73.948735 \nL 54.442752 113.018028 \nL 64.186931 120.041875 \nL 73.93111 124.342687 \nL 83.675289 127.423863 \nL 93.419468 128.9739 \nL 103.163647 131.278363 \n\" clip-path=\"url(#pf41034d46a)\" style=\"fill: none; stroke: #1f77b4; stroke-width: 1.5; stroke-linecap: square\"/>\n   </g>\n   <g id=\"line2d_50\">\n    <path d=\"M 49.633125 112.976777 \nL 69.163125 125.217167 \nL 88.693125 129.295052 \nL 108.223125 133.320857 \n\" clip-path=\"url(#pf41034d46a)\" style=\"fill: none; stroke-dasharray: 5.55,2.4; stroke-dashoffset: 0; stroke: #ff7f0e; stroke-width: 1.5\"/>\n   </g>\n   <g id=\"line2d_51\">\n    <path d=\"M 49.633125 112.755291 \nL 69.163125 107.694966 \nL 88.693125 106.110483 \n\" clip-path=\"url(#pf41034d46a)\" style=\"fill: none; stroke-dasharray: 9.6,2.4,1.5,2.4; stroke-dashoffset: 0; stroke: #2ca02c; stroke-width: 1.5\"/>\n   </g>\n   <g id=\"line2d_52\">\n    <path d=\"M 34.954394 13.5 \nL 44.698573 73.948735 \nL 54.442752 113.018028 \nL 64.186931 120.041875 \nL 73.93111 124.342687 \nL 83.675289 127.423863 \nL 93.419468 128.9739 \nL 103.163647 131.278363 \n\" clip-path=\"url(#pf41034d46a)\" style=\"fill: none; stroke: #1f77b4; stroke-width: 1.5; stroke-linecap: square\"/>\n   </g>\n   <g id=\"line2d_53\">\n    <path d=\"M 49.633125 112.976777 \nL 69.163125 125.217167 \nL 88.693125 129.295052 \nL 108.223125 133.320857 \n\" clip-path=\"url(#pf41034d46a)\" style=\"fill: none; stroke-dasharray: 5.55,2.4; stroke-dashoffset: 0; stroke: #ff7f0e; stroke-width: 1.5\"/>\n   </g>\n   <g id=\"line2d_54\">\n    <path d=\"M 49.633125 112.755291 \nL 69.163125 107.694966 \nL 88.693125 106.110483 \nL 108.223125 104.557313 \n\" clip-path=\"url(#pf41034d46a)\" style=\"fill: none; stroke-dasharray: 9.6,2.4,1.5,2.4; stroke-dashoffset: 0; stroke: #2ca02c; stroke-width: 1.5\"/>\n   </g>\n   <g id=\"line2d_55\">\n    <path d=\"M 34.954394 13.5 \nL 44.698573 73.948735 \nL 54.442752 113.018028 \nL 64.186931 120.041875 \nL 73.93111 124.342687 \nL 83.675289 127.423863 \nL 93.419468 128.9739 \nL 103.163647 131.278363 \nL 112.907826 132.660742 \n\" clip-path=\"url(#pf41034d46a)\" style=\"fill: none; stroke: #1f77b4; stroke-width: 1.5; stroke-linecap: square\"/>\n   </g>\n   <g id=\"line2d_56\">\n    <path d=\"M 49.633125 112.976777 \nL 69.163125 125.217167 \nL 88.693125 129.295052 \nL 108.223125 133.320857 \n\" clip-path=\"url(#pf41034d46a)\" style=\"fill: none; stroke-dasharray: 5.55,2.4; stroke-dashoffset: 0; stroke: #ff7f0e; stroke-width: 1.5\"/>\n   </g>\n   <g id=\"line2d_57\">\n    <path d=\"M 49.633125 112.755291 \nL 69.163125 107.694966 \nL 88.693125 106.110483 \nL 108.223125 104.557313 \n\" clip-path=\"url(#pf41034d46a)\" style=\"fill: none; stroke-dasharray: 9.6,2.4,1.5,2.4; stroke-dashoffset: 0; stroke: #2ca02c; stroke-width: 1.5\"/>\n   </g>\n   <g id=\"line2d_58\">\n    <path d=\"M 34.954394 13.5 \nL 44.698573 73.948735 \nL 54.442752 113.018028 \nL 64.186931 120.041875 \nL 73.93111 124.342687 \nL 83.675289 127.423863 \nL 93.419468 128.9739 \nL 103.163647 131.278363 \nL 112.907826 132.660742 \nL 122.652006 133.268896 \n\" clip-path=\"url(#pf41034d46a)\" style=\"fill: none; stroke: #1f77b4; stroke-width: 1.5; stroke-linecap: square\"/>\n   </g>\n   <g id=\"line2d_59\">\n    <path d=\"M 49.633125 112.976777 \nL 69.163125 125.217167 \nL 88.693125 129.295052 \nL 108.223125 133.320857 \n\" clip-path=\"url(#pf41034d46a)\" style=\"fill: none; stroke-dasharray: 5.55,2.4; stroke-dashoffset: 0; stroke: #ff7f0e; stroke-width: 1.5\"/>\n   </g>\n   <g id=\"line2d_60\">\n    <path d=\"M 49.633125 112.755291 \nL 69.163125 107.694966 \nL 88.693125 106.110483 \nL 108.223125 104.557313 \n\" clip-path=\"url(#pf41034d46a)\" style=\"fill: none; stroke-dasharray: 9.6,2.4,1.5,2.4; stroke-dashoffset: 0; stroke: #2ca02c; stroke-width: 1.5\"/>\n   </g>\n   <g id=\"line2d_61\">\n    <path d=\"M 34.954394 13.5 \nL 44.698573 73.948735 \nL 54.442752 113.018028 \nL 64.186931 120.041875 \nL 73.93111 124.342687 \nL 83.675289 127.423863 \nL 93.419468 128.9739 \nL 103.163647 131.278363 \nL 112.907826 132.660742 \nL 122.652006 133.268896 \n\" clip-path=\"url(#pf41034d46a)\" style=\"fill: none; stroke: #1f77b4; stroke-width: 1.5; stroke-linecap: square\"/>\n   </g>\n   <g id=\"line2d_62\">\n    <path d=\"M 49.633125 112.976777 \nL 69.163125 125.217167 \nL 88.693125 129.295052 \nL 108.223125 133.320857 \nL 127.753125 134.287051 \n\" clip-path=\"url(#pf41034d46a)\" style=\"fill: none; stroke-dasharray: 5.55,2.4; stroke-dashoffset: 0; stroke: #ff7f0e; stroke-width: 1.5\"/>\n   </g>\n   <g id=\"line2d_63\">\n    <path d=\"M 49.633125 112.755291 \nL 69.163125 107.694966 \nL 88.693125 106.110483 \nL 108.223125 104.557313 \n\" clip-path=\"url(#pf41034d46a)\" style=\"fill: none; stroke-dasharray: 9.6,2.4,1.5,2.4; stroke-dashoffset: 0; stroke: #2ca02c; stroke-width: 1.5\"/>\n   </g>\n   <g id=\"line2d_64\">\n    <path d=\"M 34.954394 13.5 \nL 44.698573 73.948735 \nL 54.442752 113.018028 \nL 64.186931 120.041875 \nL 73.93111 124.342687 \nL 83.675289 127.423863 \nL 93.419468 128.9739 \nL 103.163647 131.278363 \nL 112.907826 132.660742 \nL 122.652006 133.268896 \n\" clip-path=\"url(#pf41034d46a)\" style=\"fill: none; stroke: #1f77b4; stroke-width: 1.5; stroke-linecap: square\"/>\n   </g>\n   <g id=\"line2d_65\">\n    <path d=\"M 49.633125 112.976777 \nL 69.163125 125.217167 \nL 88.693125 129.295052 \nL 108.223125 133.320857 \nL 127.753125 134.287051 \n\" clip-path=\"url(#pf41034d46a)\" style=\"fill: none; stroke-dasharray: 5.55,2.4; stroke-dashoffset: 0; stroke: #ff7f0e; stroke-width: 1.5\"/>\n   </g>\n   <g id=\"line2d_66\">\n    <path d=\"M 49.633125 112.755291 \nL 69.163125 107.694966 \nL 88.693125 106.110483 \nL 108.223125 104.557313 \nL 127.753125 104.100131 \n\" clip-path=\"url(#pf41034d46a)\" style=\"fill: none; stroke-dasharray: 9.6,2.4,1.5,2.4; stroke-dashoffset: 0; stroke: #2ca02c; stroke-width: 1.5\"/>\n   </g>\n   <g id=\"line2d_67\">\n    <path d=\"M 34.954394 13.5 \nL 44.698573 73.948735 \nL 54.442752 113.018028 \nL 64.186931 120.041875 \nL 73.93111 124.342687 \nL 83.675289 127.423863 \nL 93.419468 128.9739 \nL 103.163647 131.278363 \nL 112.907826 132.660742 \nL 122.652006 133.268896 \nL 132.396185 134.387769 \n\" clip-path=\"url(#pf41034d46a)\" style=\"fill: none; stroke: #1f77b4; stroke-width: 1.5; stroke-linecap: square\"/>\n   </g>\n   <g id=\"line2d_68\">\n    <path d=\"M 49.633125 112.976777 \nL 69.163125 125.217167 \nL 88.693125 129.295052 \nL 108.223125 133.320857 \nL 127.753125 134.287051 \n\" clip-path=\"url(#pf41034d46a)\" style=\"fill: none; stroke-dasharray: 5.55,2.4; stroke-dashoffset: 0; stroke: #ff7f0e; stroke-width: 1.5\"/>\n   </g>\n   <g id=\"line2d_69\">\n    <path d=\"M 49.633125 112.755291 \nL 69.163125 107.694966 \nL 88.693125 106.110483 \nL 108.223125 104.557313 \nL 127.753125 104.100131 \n\" clip-path=\"url(#pf41034d46a)\" style=\"fill: none; stroke-dasharray: 9.6,2.4,1.5,2.4; stroke-dashoffset: 0; stroke: #2ca02c; stroke-width: 1.5\"/>\n   </g>\n   <g id=\"line2d_70\">\n    <path d=\"M 34.954394 13.5 \nL 44.698573 73.948735 \nL 54.442752 113.018028 \nL 64.186931 120.041875 \nL 73.93111 124.342687 \nL 83.675289 127.423863 \nL 93.419468 128.9739 \nL 103.163647 131.278363 \nL 112.907826 132.660742 \nL 122.652006 133.268896 \nL 132.396185 134.387769 \nL 142.140364 135.248822 \n\" clip-path=\"url(#pf41034d46a)\" style=\"fill: none; stroke: #1f77b4; stroke-width: 1.5; stroke-linecap: square\"/>\n   </g>\n   <g id=\"line2d_71\">\n    <path d=\"M 49.633125 112.976777 \nL 69.163125 125.217167 \nL 88.693125 129.295052 \nL 108.223125 133.320857 \nL 127.753125 134.287051 \n\" clip-path=\"url(#pf41034d46a)\" style=\"fill: none; stroke-dasharray: 5.55,2.4; stroke-dashoffset: 0; stroke: #ff7f0e; stroke-width: 1.5\"/>\n   </g>\n   <g id=\"line2d_72\">\n    <path d=\"M 49.633125 112.755291 \nL 69.163125 107.694966 \nL 88.693125 106.110483 \nL 108.223125 104.557313 \nL 127.753125 104.100131 \n\" clip-path=\"url(#pf41034d46a)\" style=\"fill: none; stroke-dasharray: 9.6,2.4,1.5,2.4; stroke-dashoffset: 0; stroke: #2ca02c; stroke-width: 1.5\"/>\n   </g>\n   <g id=\"line2d_73\">\n    <path d=\"M 34.954394 13.5 \nL 44.698573 73.948735 \nL 54.442752 113.018028 \nL 64.186931 120.041875 \nL 73.93111 124.342687 \nL 83.675289 127.423863 \nL 93.419468 128.9739 \nL 103.163647 131.278363 \nL 112.907826 132.660742 \nL 122.652006 133.268896 \nL 132.396185 134.387769 \nL 142.140364 135.248822 \n\" clip-path=\"url(#pf41034d46a)\" style=\"fill: none; stroke: #1f77b4; stroke-width: 1.5; stroke-linecap: square\"/>\n   </g>\n   <g id=\"line2d_74\">\n    <path d=\"M 49.633125 112.976777 \nL 69.163125 125.217167 \nL 88.693125 129.295052 \nL 108.223125 133.320857 \nL 127.753125 134.287051 \nL 147.283125 135.956106 \n\" clip-path=\"url(#pf41034d46a)\" style=\"fill: none; stroke-dasharray: 5.55,2.4; stroke-dashoffset: 0; stroke: #ff7f0e; stroke-width: 1.5\"/>\n   </g>\n   <g id=\"line2d_75\">\n    <path d=\"M 49.633125 112.755291 \nL 69.163125 107.694966 \nL 88.693125 106.110483 \nL 108.223125 104.557313 \nL 127.753125 104.100131 \n\" clip-path=\"url(#pf41034d46a)\" style=\"fill: none; stroke-dasharray: 9.6,2.4,1.5,2.4; stroke-dashoffset: 0; stroke: #2ca02c; stroke-width: 1.5\"/>\n   </g>\n   <g id=\"line2d_76\">\n    <path d=\"M 34.954394 13.5 \nL 44.698573 73.948735 \nL 54.442752 113.018028 \nL 64.186931 120.041875 \nL 73.93111 124.342687 \nL 83.675289 127.423863 \nL 93.419468 128.9739 \nL 103.163647 131.278363 \nL 112.907826 132.660742 \nL 122.652006 133.268896 \nL 132.396185 134.387769 \nL 142.140364 135.248822 \n\" clip-path=\"url(#pf41034d46a)\" style=\"fill: none; stroke: #1f77b4; stroke-width: 1.5; stroke-linecap: square\"/>\n   </g>\n   <g id=\"line2d_77\">\n    <path d=\"M 49.633125 112.976777 \nL 69.163125 125.217167 \nL 88.693125 129.295052 \nL 108.223125 133.320857 \nL 127.753125 134.287051 \nL 147.283125 135.956106 \n\" clip-path=\"url(#pf41034d46a)\" style=\"fill: none; stroke-dasharray: 5.55,2.4; stroke-dashoffset: 0; stroke: #ff7f0e; stroke-width: 1.5\"/>\n   </g>\n   <g id=\"line2d_78\">\n    <path d=\"M 49.633125 112.755291 \nL 69.163125 107.694966 \nL 88.693125 106.110483 \nL 108.223125 104.557313 \nL 127.753125 104.100131 \nL 147.283125 103.536481 \n\" clip-path=\"url(#pf41034d46a)\" style=\"fill: none; stroke-dasharray: 9.6,2.4,1.5,2.4; stroke-dashoffset: 0; stroke: #2ca02c; stroke-width: 1.5\"/>\n   </g>\n   <g id=\"line2d_79\">\n    <path d=\"M 34.954394 13.5 \nL 44.698573 73.948735 \nL 54.442752 113.018028 \nL 64.186931 120.041875 \nL 73.93111 124.342687 \nL 83.675289 127.423863 \nL 93.419468 128.9739 \nL 103.163647 131.278363 \nL 112.907826 132.660742 \nL 122.652006 133.268896 \nL 132.396185 134.387769 \nL 142.140364 135.248822 \nL 151.884543 135.748877 \n\" clip-path=\"url(#pf41034d46a)\" style=\"fill: none; stroke: #1f77b4; stroke-width: 1.5; stroke-linecap: square\"/>\n   </g>\n   <g id=\"line2d_80\">\n    <path d=\"M 49.633125 112.976777 \nL 69.163125 125.217167 \nL 88.693125 129.295052 \nL 108.223125 133.320857 \nL 127.753125 134.287051 \nL 147.283125 135.956106 \n\" clip-path=\"url(#pf41034d46a)\" style=\"fill: none; stroke-dasharray: 5.55,2.4; stroke-dashoffset: 0; stroke: #ff7f0e; stroke-width: 1.5\"/>\n   </g>\n   <g id=\"line2d_81\">\n    <path d=\"M 49.633125 112.755291 \nL 69.163125 107.694966 \nL 88.693125 106.110483 \nL 108.223125 104.557313 \nL 127.753125 104.100131 \nL 147.283125 103.536481 \n\" clip-path=\"url(#pf41034d46a)\" style=\"fill: none; stroke-dasharray: 9.6,2.4,1.5,2.4; stroke-dashoffset: 0; stroke: #2ca02c; stroke-width: 1.5\"/>\n   </g>\n   <g id=\"line2d_82\">\n    <path d=\"M 34.954394 13.5 \nL 44.698573 73.948735 \nL 54.442752 113.018028 \nL 64.186931 120.041875 \nL 73.93111 124.342687 \nL 83.675289 127.423863 \nL 93.419468 128.9739 \nL 103.163647 131.278363 \nL 112.907826 132.660742 \nL 122.652006 133.268896 \nL 132.396185 134.387769 \nL 142.140364 135.248822 \nL 151.884543 135.748877 \nL 161.628722 136.545793 \n\" clip-path=\"url(#pf41034d46a)\" style=\"fill: none; stroke: #1f77b4; stroke-width: 1.5; stroke-linecap: square\"/>\n   </g>\n   <g id=\"line2d_83\">\n    <path d=\"M 49.633125 112.976777 \nL 69.163125 125.217167 \nL 88.693125 129.295052 \nL 108.223125 133.320857 \nL 127.753125 134.287051 \nL 147.283125 135.956106 \n\" clip-path=\"url(#pf41034d46a)\" style=\"fill: none; stroke-dasharray: 5.55,2.4; stroke-dashoffset: 0; stroke: #ff7f0e; stroke-width: 1.5\"/>\n   </g>\n   <g id=\"line2d_84\">\n    <path d=\"M 49.633125 112.755291 \nL 69.163125 107.694966 \nL 88.693125 106.110483 \nL 108.223125 104.557313 \nL 127.753125 104.100131 \nL 147.283125 103.536481 \n\" clip-path=\"url(#pf41034d46a)\" style=\"fill: none; stroke-dasharray: 9.6,2.4,1.5,2.4; stroke-dashoffset: 0; stroke: #2ca02c; stroke-width: 1.5\"/>\n   </g>\n   <g id=\"line2d_85\">\n    <path d=\"M 34.954394 13.5 \nL 44.698573 73.948735 \nL 54.442752 113.018028 \nL 64.186931 120.041875 \nL 73.93111 124.342687 \nL 83.675289 127.423863 \nL 93.419468 128.9739 \nL 103.163647 131.278363 \nL 112.907826 132.660742 \nL 122.652006 133.268896 \nL 132.396185 134.387769 \nL 142.140364 135.248822 \nL 151.884543 135.748877 \nL 161.628722 136.545793 \n\" clip-path=\"url(#pf41034d46a)\" style=\"fill: none; stroke: #1f77b4; stroke-width: 1.5; stroke-linecap: square\"/>\n   </g>\n   <g id=\"line2d_86\">\n    <path d=\"M 49.633125 112.976777 \nL 69.163125 125.217167 \nL 88.693125 129.295052 \nL 108.223125 133.320857 \nL 127.753125 134.287051 \nL 147.283125 135.956106 \nL 166.813125 137.547797 \n\" clip-path=\"url(#pf41034d46a)\" style=\"fill: none; stroke-dasharray: 5.55,2.4; stroke-dashoffset: 0; stroke: #ff7f0e; stroke-width: 1.5\"/>\n   </g>\n   <g id=\"line2d_87\">\n    <path d=\"M 49.633125 112.755291 \nL 69.163125 107.694966 \nL 88.693125 106.110483 \nL 108.223125 104.557313 \nL 127.753125 104.100131 \nL 147.283125 103.536481 \n\" clip-path=\"url(#pf41034d46a)\" style=\"fill: none; stroke-dasharray: 9.6,2.4,1.5,2.4; stroke-dashoffset: 0; stroke: #2ca02c; stroke-width: 1.5\"/>\n   </g>\n   <g id=\"line2d_88\">\n    <path d=\"M 34.954394 13.5 \nL 44.698573 73.948735 \nL 54.442752 113.018028 \nL 64.186931 120.041875 \nL 73.93111 124.342687 \nL 83.675289 127.423863 \nL 93.419468 128.9739 \nL 103.163647 131.278363 \nL 112.907826 132.660742 \nL 122.652006 133.268896 \nL 132.396185 134.387769 \nL 142.140364 135.248822 \nL 151.884543 135.748877 \nL 161.628722 136.545793 \n\" clip-path=\"url(#pf41034d46a)\" style=\"fill: none; stroke: #1f77b4; stroke-width: 1.5; stroke-linecap: square\"/>\n   </g>\n   <g id=\"line2d_89\">\n    <path d=\"M 49.633125 112.976777 \nL 69.163125 125.217167 \nL 88.693125 129.295052 \nL 108.223125 133.320857 \nL 127.753125 134.287051 \nL 147.283125 135.956106 \nL 166.813125 137.547797 \n\" clip-path=\"url(#pf41034d46a)\" style=\"fill: none; stroke-dasharray: 5.55,2.4; stroke-dashoffset: 0; stroke: #ff7f0e; stroke-width: 1.5\"/>\n   </g>\n   <g id=\"line2d_90\">\n    <path d=\"M 49.633125 112.755291 \nL 69.163125 107.694966 \nL 88.693125 106.110483 \nL 108.223125 104.557313 \nL 127.753125 104.100131 \nL 147.283125 103.536481 \nL 166.813125 102.872626 \n\" clip-path=\"url(#pf41034d46a)\" style=\"fill: none; stroke-dasharray: 9.6,2.4,1.5,2.4; stroke-dashoffset: 0; stroke: #2ca02c; stroke-width: 1.5\"/>\n   </g>\n   <g id=\"line2d_91\">\n    <path d=\"M 34.954394 13.5 \nL 44.698573 73.948735 \nL 54.442752 113.018028 \nL 64.186931 120.041875 \nL 73.93111 124.342687 \nL 83.675289 127.423863 \nL 93.419468 128.9739 \nL 103.163647 131.278363 \nL 112.907826 132.660742 \nL 122.652006 133.268896 \nL 132.396185 134.387769 \nL 142.140364 135.248822 \nL 151.884543 135.748877 \nL 161.628722 136.545793 \nL 171.372901 137.392967 \n\" clip-path=\"url(#pf41034d46a)\" style=\"fill: none; stroke: #1f77b4; stroke-width: 1.5; stroke-linecap: square\"/>\n   </g>\n   <g id=\"line2d_92\">\n    <path d=\"M 49.633125 112.976777 \nL 69.163125 125.217167 \nL 88.693125 129.295052 \nL 108.223125 133.320857 \nL 127.753125 134.287051 \nL 147.283125 135.956106 \nL 166.813125 137.547797 \n\" clip-path=\"url(#pf41034d46a)\" style=\"fill: none; stroke-dasharray: 5.55,2.4; stroke-dashoffset: 0; stroke: #ff7f0e; stroke-width: 1.5\"/>\n   </g>\n   <g id=\"line2d_93\">\n    <path d=\"M 49.633125 112.755291 \nL 69.163125 107.694966 \nL 88.693125 106.110483 \nL 108.223125 104.557313 \nL 127.753125 104.100131 \nL 147.283125 103.536481 \nL 166.813125 102.872626 \n\" clip-path=\"url(#pf41034d46a)\" style=\"fill: none; stroke-dasharray: 9.6,2.4,1.5,2.4; stroke-dashoffset: 0; stroke: #2ca02c; stroke-width: 1.5\"/>\n   </g>\n   <g id=\"line2d_94\">\n    <path d=\"M 34.954394 13.5 \nL 44.698573 73.948735 \nL 54.442752 113.018028 \nL 64.186931 120.041875 \nL 73.93111 124.342687 \nL 83.675289 127.423863 \nL 93.419468 128.9739 \nL 103.163647 131.278363 \nL 112.907826 132.660742 \nL 122.652006 133.268896 \nL 132.396185 134.387769 \nL 142.140364 135.248822 \nL 151.884543 135.748877 \nL 161.628722 136.545793 \nL 171.372901 137.392967 \nL 181.11708 137.412017 \n\" clip-path=\"url(#pf41034d46a)\" style=\"fill: none; stroke: #1f77b4; stroke-width: 1.5; stroke-linecap: square\"/>\n   </g>\n   <g id=\"line2d_95\">\n    <path d=\"M 49.633125 112.976777 \nL 69.163125 125.217167 \nL 88.693125 129.295052 \nL 108.223125 133.320857 \nL 127.753125 134.287051 \nL 147.283125 135.956106 \nL 166.813125 137.547797 \n\" clip-path=\"url(#pf41034d46a)\" style=\"fill: none; stroke-dasharray: 5.55,2.4; stroke-dashoffset: 0; stroke: #ff7f0e; stroke-width: 1.5\"/>\n   </g>\n   <g id=\"line2d_96\">\n    <path d=\"M 49.633125 112.755291 \nL 69.163125 107.694966 \nL 88.693125 106.110483 \nL 108.223125 104.557313 \nL 127.753125 104.100131 \nL 147.283125 103.536481 \nL 166.813125 102.872626 \n\" clip-path=\"url(#pf41034d46a)\" style=\"fill: none; stroke-dasharray: 9.6,2.4,1.5,2.4; stroke-dashoffset: 0; stroke: #2ca02c; stroke-width: 1.5\"/>\n   </g>\n   <g id=\"line2d_97\">\n    <path d=\"M 34.954394 13.5 \nL 44.698573 73.948735 \nL 54.442752 113.018028 \nL 64.186931 120.041875 \nL 73.93111 124.342687 \nL 83.675289 127.423863 \nL 93.419468 128.9739 \nL 103.163647 131.278363 \nL 112.907826 132.660742 \nL 122.652006 133.268896 \nL 132.396185 134.387769 \nL 142.140364 135.248822 \nL 151.884543 135.748877 \nL 161.628722 136.545793 \nL 171.372901 137.392967 \nL 181.11708 137.412017 \n\" clip-path=\"url(#pf41034d46a)\" style=\"fill: none; stroke: #1f77b4; stroke-width: 1.5; stroke-linecap: square\"/>\n   </g>\n   <g id=\"line2d_98\">\n    <path d=\"M 49.633125 112.976777 \nL 69.163125 125.217167 \nL 88.693125 129.295052 \nL 108.223125 133.320857 \nL 127.753125 134.287051 \nL 147.283125 135.956106 \nL 166.813125 137.547797 \nL 186.343125 138.082772 \n\" clip-path=\"url(#pf41034d46a)\" style=\"fill: none; stroke-dasharray: 5.55,2.4; stroke-dashoffset: 0; stroke: #ff7f0e; stroke-width: 1.5\"/>\n   </g>\n   <g id=\"line2d_99\">\n    <path d=\"M 49.633125 112.755291 \nL 69.163125 107.694966 \nL 88.693125 106.110483 \nL 108.223125 104.557313 \nL 127.753125 104.100131 \nL 147.283125 103.536481 \nL 166.813125 102.872626 \n\" clip-path=\"url(#pf41034d46a)\" style=\"fill: none; stroke-dasharray: 9.6,2.4,1.5,2.4; stroke-dashoffset: 0; stroke: #2ca02c; stroke-width: 1.5\"/>\n   </g>\n   <g id=\"line2d_100\">\n    <path d=\"M 34.954394 13.5 \nL 44.698573 73.948735 \nL 54.442752 113.018028 \nL 64.186931 120.041875 \nL 73.93111 124.342687 \nL 83.675289 127.423863 \nL 93.419468 128.9739 \nL 103.163647 131.278363 \nL 112.907826 132.660742 \nL 122.652006 133.268896 \nL 132.396185 134.387769 \nL 142.140364 135.248822 \nL 151.884543 135.748877 \nL 161.628722 136.545793 \nL 171.372901 137.392967 \nL 181.11708 137.412017 \n\" clip-path=\"url(#pf41034d46a)\" style=\"fill: none; stroke: #1f77b4; stroke-width: 1.5; stroke-linecap: square\"/>\n   </g>\n   <g id=\"line2d_101\">\n    <path d=\"M 49.633125 112.976777 \nL 69.163125 125.217167 \nL 88.693125 129.295052 \nL 108.223125 133.320857 \nL 127.753125 134.287051 \nL 147.283125 135.956106 \nL 166.813125 137.547797 \nL 186.343125 138.082772 \n\" clip-path=\"url(#pf41034d46a)\" style=\"fill: none; stroke-dasharray: 5.55,2.4; stroke-dashoffset: 0; stroke: #ff7f0e; stroke-width: 1.5\"/>\n   </g>\n   <g id=\"line2d_102\">\n    <path d=\"M 49.633125 112.755291 \nL 69.163125 107.694966 \nL 88.693125 106.110483 \nL 108.223125 104.557313 \nL 127.753125 104.100131 \nL 147.283125 103.536481 \nL 166.813125 102.872626 \nL 186.343125 102.759896 \n\" clip-path=\"url(#pf41034d46a)\" style=\"fill: none; stroke-dasharray: 9.6,2.4,1.5,2.4; stroke-dashoffset: 0; stroke: #2ca02c; stroke-width: 1.5\"/>\n   </g>\n   <g id=\"line2d_103\">\n    <path d=\"M 34.954394 13.5 \nL 44.698573 73.948735 \nL 54.442752 113.018028 \nL 64.186931 120.041875 \nL 73.93111 124.342687 \nL 83.675289 127.423863 \nL 93.419468 128.9739 \nL 103.163647 131.278363 \nL 112.907826 132.660742 \nL 122.652006 133.268896 \nL 132.396185 134.387769 \nL 142.140364 135.248822 \nL 151.884543 135.748877 \nL 161.628722 136.545793 \nL 171.372901 137.392967 \nL 181.11708 137.412017 \nL 190.861259 137.72888 \n\" clip-path=\"url(#pf41034d46a)\" style=\"fill: none; stroke: #1f77b4; stroke-width: 1.5; stroke-linecap: square\"/>\n   </g>\n   <g id=\"line2d_104\">\n    <path d=\"M 49.633125 112.976777 \nL 69.163125 125.217167 \nL 88.693125 129.295052 \nL 108.223125 133.320857 \nL 127.753125 134.287051 \nL 147.283125 135.956106 \nL 166.813125 137.547797 \nL 186.343125 138.082772 \n\" clip-path=\"url(#pf41034d46a)\" style=\"fill: none; stroke-dasharray: 5.55,2.4; stroke-dashoffset: 0; stroke: #ff7f0e; stroke-width: 1.5\"/>\n   </g>\n   <g id=\"line2d_105\">\n    <path d=\"M 49.633125 112.755291 \nL 69.163125 107.694966 \nL 88.693125 106.110483 \nL 108.223125 104.557313 \nL 127.753125 104.100131 \nL 147.283125 103.536481 \nL 166.813125 102.872626 \nL 186.343125 102.759896 \n\" clip-path=\"url(#pf41034d46a)\" style=\"fill: none; stroke-dasharray: 9.6,2.4,1.5,2.4; stroke-dashoffset: 0; stroke: #2ca02c; stroke-width: 1.5\"/>\n   </g>\n   <g id=\"line2d_106\">\n    <path d=\"M 34.954394 13.5 \nL 44.698573 73.948735 \nL 54.442752 113.018028 \nL 64.186931 120.041875 \nL 73.93111 124.342687 \nL 83.675289 127.423863 \nL 93.419468 128.9739 \nL 103.163647 131.278363 \nL 112.907826 132.660742 \nL 122.652006 133.268896 \nL 132.396185 134.387769 \nL 142.140364 135.248822 \nL 151.884543 135.748877 \nL 161.628722 136.545793 \nL 171.372901 137.392967 \nL 181.11708 137.412017 \nL 190.861259 137.72888 \nL 200.605438 138.76588 \n\" clip-path=\"url(#pf41034d46a)\" style=\"fill: none; stroke: #1f77b4; stroke-width: 1.5; stroke-linecap: square\"/>\n   </g>\n   <g id=\"line2d_107\">\n    <path d=\"M 49.633125 112.976777 \nL 69.163125 125.217167 \nL 88.693125 129.295052 \nL 108.223125 133.320857 \nL 127.753125 134.287051 \nL 147.283125 135.956106 \nL 166.813125 137.547797 \nL 186.343125 138.082772 \n\" clip-path=\"url(#pf41034d46a)\" style=\"fill: none; stroke-dasharray: 5.55,2.4; stroke-dashoffset: 0; stroke: #ff7f0e; stroke-width: 1.5\"/>\n   </g>\n   <g id=\"line2d_108\">\n    <path d=\"M 49.633125 112.755291 \nL 69.163125 107.694966 \nL 88.693125 106.110483 \nL 108.223125 104.557313 \nL 127.753125 104.100131 \nL 147.283125 103.536481 \nL 166.813125 102.872626 \nL 186.343125 102.759896 \n\" clip-path=\"url(#pf41034d46a)\" style=\"fill: none; stroke-dasharray: 9.6,2.4,1.5,2.4; stroke-dashoffset: 0; stroke: #2ca02c; stroke-width: 1.5\"/>\n   </g>\n   <g id=\"line2d_109\">\n    <path d=\"M 34.954394 13.5 \nL 44.698573 73.948735 \nL 54.442752 113.018028 \nL 64.186931 120.041875 \nL 73.93111 124.342687 \nL 83.675289 127.423863 \nL 93.419468 128.9739 \nL 103.163647 131.278363 \nL 112.907826 132.660742 \nL 122.652006 133.268896 \nL 132.396185 134.387769 \nL 142.140364 135.248822 \nL 151.884543 135.748877 \nL 161.628722 136.545793 \nL 171.372901 137.392967 \nL 181.11708 137.412017 \nL 190.861259 137.72888 \nL 200.605438 138.76588 \n\" clip-path=\"url(#pf41034d46a)\" style=\"fill: none; stroke: #1f77b4; stroke-width: 1.5; stroke-linecap: square\"/>\n   </g>\n   <g id=\"line2d_110\">\n    <path d=\"M 49.633125 112.976777 \nL 69.163125 125.217167 \nL 88.693125 129.295052 \nL 108.223125 133.320857 \nL 127.753125 134.287051 \nL 147.283125 135.956106 \nL 166.813125 137.547797 \nL 186.343125 138.082772 \nL 205.873125 139.15041 \n\" clip-path=\"url(#pf41034d46a)\" style=\"fill: none; stroke-dasharray: 5.55,2.4; stroke-dashoffset: 0; stroke: #ff7f0e; stroke-width: 1.5\"/>\n   </g>\n   <g id=\"line2d_111\">\n    <path d=\"M 49.633125 112.755291 \nL 69.163125 107.694966 \nL 88.693125 106.110483 \nL 108.223125 104.557313 \nL 127.753125 104.100131 \nL 147.283125 103.536481 \nL 166.813125 102.872626 \nL 186.343125 102.759896 \n\" clip-path=\"url(#pf41034d46a)\" style=\"fill: none; stroke-dasharray: 9.6,2.4,1.5,2.4; stroke-dashoffset: 0; stroke: #2ca02c; stroke-width: 1.5\"/>\n   </g>\n   <g id=\"line2d_112\">\n    <path d=\"M 34.954394 13.5 \nL 44.698573 73.948735 \nL 54.442752 113.018028 \nL 64.186931 120.041875 \nL 73.93111 124.342687 \nL 83.675289 127.423863 \nL 93.419468 128.9739 \nL 103.163647 131.278363 \nL 112.907826 132.660742 \nL 122.652006 133.268896 \nL 132.396185 134.387769 \nL 142.140364 135.248822 \nL 151.884543 135.748877 \nL 161.628722 136.545793 \nL 171.372901 137.392967 \nL 181.11708 137.412017 \nL 190.861259 137.72888 \nL 200.605438 138.76588 \n\" clip-path=\"url(#pf41034d46a)\" style=\"fill: none; stroke: #1f77b4; stroke-width: 1.5; stroke-linecap: square\"/>\n   </g>\n   <g id=\"line2d_113\">\n    <path d=\"M 49.633125 112.976777 \nL 69.163125 125.217167 \nL 88.693125 129.295052 \nL 108.223125 133.320857 \nL 127.753125 134.287051 \nL 147.283125 135.956106 \nL 166.813125 137.547797 \nL 186.343125 138.082772 \nL 205.873125 139.15041 \n\" clip-path=\"url(#pf41034d46a)\" style=\"fill: none; stroke-dasharray: 5.55,2.4; stroke-dashoffset: 0; stroke: #ff7f0e; stroke-width: 1.5\"/>\n   </g>\n   <g id=\"line2d_114\">\n    <path d=\"M 49.633125 112.755291 \nL 69.163125 107.694966 \nL 88.693125 106.110483 \nL 108.223125 104.557313 \nL 127.753125 104.100131 \nL 147.283125 103.536481 \nL 166.813125 102.872626 \nL 186.343125 102.759896 \nL 205.873125 102.302713 \n\" clip-path=\"url(#pf41034d46a)\" style=\"fill: none; stroke-dasharray: 9.6,2.4,1.5,2.4; stroke-dashoffset: 0; stroke: #2ca02c; stroke-width: 1.5\"/>\n   </g>\n   <g id=\"line2d_115\">\n    <path d=\"M 34.954394 13.5 \nL 44.698573 73.948735 \nL 54.442752 113.018028 \nL 64.186931 120.041875 \nL 73.93111 124.342687 \nL 83.675289 127.423863 \nL 93.419468 128.9739 \nL 103.163647 131.278363 \nL 112.907826 132.660742 \nL 122.652006 133.268896 \nL 132.396185 134.387769 \nL 142.140364 135.248822 \nL 151.884543 135.748877 \nL 161.628722 136.545793 \nL 171.372901 137.392967 \nL 181.11708 137.412017 \nL 190.861259 137.72888 \nL 200.605438 138.76588 \nL 210.349618 138.856802 \n\" clip-path=\"url(#pf41034d46a)\" style=\"fill: none; stroke: #1f77b4; stroke-width: 1.5; stroke-linecap: square\"/>\n   </g>\n   <g id=\"line2d_116\">\n    <path d=\"M 49.633125 112.976777 \nL 69.163125 125.217167 \nL 88.693125 129.295052 \nL 108.223125 133.320857 \nL 127.753125 134.287051 \nL 147.283125 135.956106 \nL 166.813125 137.547797 \nL 186.343125 138.082772 \nL 205.873125 139.15041 \n\" clip-path=\"url(#pf41034d46a)\" style=\"fill: none; stroke-dasharray: 5.55,2.4; stroke-dashoffset: 0; stroke: #ff7f0e; stroke-width: 1.5\"/>\n   </g>\n   <g id=\"line2d_117\">\n    <path d=\"M 49.633125 112.755291 \nL 69.163125 107.694966 \nL 88.693125 106.110483 \nL 108.223125 104.557313 \nL 127.753125 104.100131 \nL 147.283125 103.536481 \nL 166.813125 102.872626 \nL 186.343125 102.759896 \nL 205.873125 102.302713 \n\" clip-path=\"url(#pf41034d46a)\" style=\"fill: none; stroke-dasharray: 9.6,2.4,1.5,2.4; stroke-dashoffset: 0; stroke: #2ca02c; stroke-width: 1.5\"/>\n   </g>\n   <g id=\"line2d_118\">\n    <path d=\"M 34.954394 13.5 \nL 44.698573 73.948735 \nL 54.442752 113.018028 \nL 64.186931 120.041875 \nL 73.93111 124.342687 \nL 83.675289 127.423863 \nL 93.419468 128.9739 \nL 103.163647 131.278363 \nL 112.907826 132.660742 \nL 122.652006 133.268896 \nL 132.396185 134.387769 \nL 142.140364 135.248822 \nL 151.884543 135.748877 \nL 161.628722 136.545793 \nL 171.372901 137.392967 \nL 181.11708 137.412017 \nL 190.861259 137.72888 \nL 200.605438 138.76588 \nL 210.349618 138.856802 \nL 220.093797 139.5 \n\" clip-path=\"url(#pf41034d46a)\" style=\"fill: none; stroke: #1f77b4; stroke-width: 1.5; stroke-linecap: square\"/>\n   </g>\n   <g id=\"line2d_119\">\n    <path d=\"M 49.633125 112.976777 \nL 69.163125 125.217167 \nL 88.693125 129.295052 \nL 108.223125 133.320857 \nL 127.753125 134.287051 \nL 147.283125 135.956106 \nL 166.813125 137.547797 \nL 186.343125 138.082772 \nL 205.873125 139.15041 \n\" clip-path=\"url(#pf41034d46a)\" style=\"fill: none; stroke-dasharray: 5.55,2.4; stroke-dashoffset: 0; stroke: #ff7f0e; stroke-width: 1.5\"/>\n   </g>\n   <g id=\"line2d_120\">\n    <path d=\"M 49.633125 112.755291 \nL 69.163125 107.694966 \nL 88.693125 106.110483 \nL 108.223125 104.557313 \nL 127.753125 104.100131 \nL 147.283125 103.536481 \nL 166.813125 102.872626 \nL 186.343125 102.759896 \nL 205.873125 102.302713 \n\" clip-path=\"url(#pf41034d46a)\" style=\"fill: none; stroke-dasharray: 9.6,2.4,1.5,2.4; stroke-dashoffset: 0; stroke: #2ca02c; stroke-width: 1.5\"/>\n   </g>\n   <g id=\"line2d_121\">\n    <path d=\"M 34.954394 13.5 \nL 44.698573 73.948735 \nL 54.442752 113.018028 \nL 64.186931 120.041875 \nL 73.93111 124.342687 \nL 83.675289 127.423863 \nL 93.419468 128.9739 \nL 103.163647 131.278363 \nL 112.907826 132.660742 \nL 122.652006 133.268896 \nL 132.396185 134.387769 \nL 142.140364 135.248822 \nL 151.884543 135.748877 \nL 161.628722 136.545793 \nL 171.372901 137.392967 \nL 181.11708 137.412017 \nL 190.861259 137.72888 \nL 200.605438 138.76588 \nL 210.349618 138.856802 \nL 220.093797 139.5 \n\" clip-path=\"url(#pf41034d46a)\" style=\"fill: none; stroke: #1f77b4; stroke-width: 1.5; stroke-linecap: square\"/>\n   </g>\n   <g id=\"line2d_122\">\n    <path d=\"M 49.633125 112.976777 \nL 69.163125 125.217167 \nL 88.693125 129.295052 \nL 108.223125 133.320857 \nL 127.753125 134.287051 \nL 147.283125 135.956106 \nL 166.813125 137.547797 \nL 186.343125 138.082772 \nL 205.873125 139.15041 \nL 225.403125 139.178444 \n\" clip-path=\"url(#pf41034d46a)\" style=\"fill: none; stroke-dasharray: 5.55,2.4; stroke-dashoffset: 0; stroke: #ff7f0e; stroke-width: 1.5\"/>\n   </g>\n   <g id=\"line2d_123\">\n    <path d=\"M 49.633125 112.755291 \nL 69.163125 107.694966 \nL 88.693125 106.110483 \nL 108.223125 104.557313 \nL 127.753125 104.100131 \nL 147.283125 103.536481 \nL 166.813125 102.872626 \nL 186.343125 102.759896 \nL 205.873125 102.302713 \n\" clip-path=\"url(#pf41034d46a)\" style=\"fill: none; stroke-dasharray: 9.6,2.4,1.5,2.4; stroke-dashoffset: 0; stroke: #2ca02c; stroke-width: 1.5\"/>\n   </g>\n   <g id=\"line2d_124\">\n    <path d=\"M 34.954394 13.5 \nL 44.698573 73.948735 \nL 54.442752 113.018028 \nL 64.186931 120.041875 \nL 73.93111 124.342687 \nL 83.675289 127.423863 \nL 93.419468 128.9739 \nL 103.163647 131.278363 \nL 112.907826 132.660742 \nL 122.652006 133.268896 \nL 132.396185 134.387769 \nL 142.140364 135.248822 \nL 151.884543 135.748877 \nL 161.628722 136.545793 \nL 171.372901 137.392967 \nL 181.11708 137.412017 \nL 190.861259 137.72888 \nL 200.605438 138.76588 \nL 210.349618 138.856802 \nL 220.093797 139.5 \n\" clip-path=\"url(#pf41034d46a)\" style=\"fill: none; stroke: #1f77b4; stroke-width: 1.5; stroke-linecap: square\"/>\n   </g>\n   <g id=\"line2d_125\">\n    <path d=\"M 49.633125 112.976777 \nL 69.163125 125.217167 \nL 88.693125 129.295052 \nL 108.223125 133.320857 \nL 127.753125 134.287051 \nL 147.283125 135.956106 \nL 166.813125 137.547797 \nL 186.343125 138.082772 \nL 205.873125 139.15041 \nL 225.403125 139.178444 \n\" clip-path=\"url(#pf41034d46a)\" style=\"fill: none; stroke-dasharray: 5.55,2.4; stroke-dashoffset: 0; stroke: #ff7f0e; stroke-width: 1.5\"/>\n   </g>\n   <g id=\"line2d_126\">\n    <path d=\"M 49.633125 112.755291 \nL 69.163125 107.694966 \nL 88.693125 106.110483 \nL 108.223125 104.557313 \nL 127.753125 104.100131 \nL 147.283125 103.536481 \nL 166.813125 102.872626 \nL 186.343125 102.759896 \nL 205.873125 102.302713 \nL 225.403125 102.359078 \n\" clip-path=\"url(#pf41034d46a)\" style=\"fill: none; stroke-dasharray: 9.6,2.4,1.5,2.4; stroke-dashoffset: 0; stroke: #2ca02c; stroke-width: 1.5\"/>\n   </g>\n   <g id=\"patch_3\">\n    <path d=\"M 30.103125 145.8 \nL 30.103125 7.2 \n\" style=\"fill: none; stroke: #000000; stroke-width: 0.8; stroke-linejoin: miter; stroke-linecap: square\"/>\n   </g>\n   <g id=\"patch_4\">\n    <path d=\"M 225.403125 145.8 \nL 225.403125 7.2 \n\" style=\"fill: none; stroke: #000000; stroke-width: 0.8; stroke-linejoin: miter; stroke-linecap: square\"/>\n   </g>\n   <g id=\"patch_5\">\n    <path d=\"M 30.103125 145.8 \nL 225.403125 145.8 \n\" style=\"fill: none; stroke: #000000; stroke-width: 0.8; stroke-linejoin: miter; stroke-linecap: square\"/>\n   </g>\n   <g id=\"patch_6\">\n    <path d=\"M 30.103125 7.2 \nL 225.403125 7.2 \n\" style=\"fill: none; stroke: #000000; stroke-width: 0.8; stroke-linejoin: miter; stroke-linecap: square\"/>\n   </g>\n   <g id=\"legend_1\">\n    <g id=\"patch_7\">\n     <path d=\"M 138.8125 60.06875 \nL 218.403125 60.06875 \nQ 220.403125 60.06875 220.403125 58.06875 \nL 220.403125 14.2 \nQ 220.403125 12.2 218.403125 12.2 \nL 138.8125 12.2 \nQ 136.8125 12.2 136.8125 14.2 \nL 136.8125 58.06875 \nQ 136.8125 60.06875 138.8125 60.06875 \nz\n\" style=\"fill: #ffffff; opacity: 0.8; stroke: #cccccc; stroke-linejoin: miter\"/>\n    </g>\n    <g id=\"line2d_127\">\n     <path d=\"M 140.8125 20.298438 \nL 150.8125 20.298438 \nL 160.8125 20.298438 \n\" style=\"fill: none; stroke: #1f77b4; stroke-width: 1.5; stroke-linecap: square\"/>\n    </g>\n    <g id=\"text_12\">\n     <!-- train_loss -->\n     <g transform=\"translate(168.8125 23.798438) scale(0.1 -0.1)\">\n      <defs>\n       <path id=\"DejaVuSans-74\" d=\"M 1172 4494 \nL 1172 3500 \nL 2356 3500 \nL 2356 3053 \nL 1172 3053 \nL 1172 1153 \nQ 1172 725 1289 603 \nQ 1406 481 1766 481 \nL 2356 481 \nL 2356 0 \nL 1766 0 \nQ 1100 0 847 248 \nQ 594 497 594 1153 \nL 594 3053 \nL 172 3053 \nL 172 3500 \nL 594 3500 \nL 594 4494 \nL 1172 4494 \nz\n\" transform=\"scale(0.015625)\"/>\n       <path id=\"DejaVuSans-72\" d=\"M 2631 2963 \nQ 2534 3019 2420 3045 \nQ 2306 3072 2169 3072 \nQ 1681 3072 1420 2755 \nQ 1159 2438 1159 1844 \nL 1159 0 \nL 581 0 \nL 581 3500 \nL 1159 3500 \nL 1159 2956 \nQ 1341 3275 1631 3429 \nQ 1922 3584 2338 3584 \nQ 2397 3584 2469 3576 \nQ 2541 3569 2628 3553 \nL 2631 2963 \nz\n\" transform=\"scale(0.015625)\"/>\n       <path id=\"DejaVuSans-61\" d=\"M 2194 1759 \nQ 1497 1759 1228 1600 \nQ 959 1441 959 1056 \nQ 959 750 1161 570 \nQ 1363 391 1709 391 \nQ 2188 391 2477 730 \nQ 2766 1069 2766 1631 \nL 2766 1759 \nL 2194 1759 \nz\nM 3341 1997 \nL 3341 0 \nL 2766 0 \nL 2766 531 \nQ 2569 213 2275 61 \nQ 1981 -91 1556 -91 \nQ 1019 -91 701 211 \nQ 384 513 384 1019 \nQ 384 1609 779 1909 \nQ 1175 2209 1959 2209 \nL 2766 2209 \nL 2766 2266 \nQ 2766 2663 2505 2880 \nQ 2244 3097 1772 3097 \nQ 1472 3097 1187 3025 \nQ 903 2953 641 2809 \nL 641 3341 \nQ 956 3463 1253 3523 \nQ 1550 3584 1831 3584 \nQ 2591 3584 2966 3190 \nQ 3341 2797 3341 1997 \nz\n\" transform=\"scale(0.015625)\"/>\n       <path id=\"DejaVuSans-69\" d=\"M 603 3500 \nL 1178 3500 \nL 1178 0 \nL 603 0 \nL 603 3500 \nz\nM 603 4863 \nL 1178 4863 \nL 1178 4134 \nL 603 4134 \nL 603 4863 \nz\n\" transform=\"scale(0.015625)\"/>\n       <path id=\"DejaVuSans-6e\" d=\"M 3513 2113 \nL 3513 0 \nL 2938 0 \nL 2938 2094 \nQ 2938 2591 2744 2837 \nQ 2550 3084 2163 3084 \nQ 1697 3084 1428 2787 \nQ 1159 2491 1159 1978 \nL 1159 0 \nL 581 0 \nL 581 3500 \nL 1159 3500 \nL 1159 2956 \nQ 1366 3272 1645 3428 \nQ 1925 3584 2291 3584 \nQ 2894 3584 3203 3211 \nQ 3513 2838 3513 2113 \nz\n\" transform=\"scale(0.015625)\"/>\n       <path id=\"DejaVuSans-5f\" d=\"M 3263 -1063 \nL 3263 -1509 \nL -63 -1509 \nL -63 -1063 \nL 3263 -1063 \nz\n\" transform=\"scale(0.015625)\"/>\n       <path id=\"DejaVuSans-6c\" d=\"M 603 4863 \nL 1178 4863 \nL 1178 0 \nL 603 0 \nL 603 4863 \nz\n\" transform=\"scale(0.015625)\"/>\n       <path id=\"DejaVuSans-73\" d=\"M 2834 3397 \nL 2834 2853 \nQ 2591 2978 2328 3040 \nQ 2066 3103 1784 3103 \nQ 1356 3103 1142 2972 \nQ 928 2841 928 2578 \nQ 928 2378 1081 2264 \nQ 1234 2150 1697 2047 \nL 1894 2003 \nQ 2506 1872 2764 1633 \nQ 3022 1394 3022 966 \nQ 3022 478 2636 193 \nQ 2250 -91 1575 -91 \nQ 1294 -91 989 -36 \nQ 684 19 347 128 \nL 347 722 \nQ 666 556 975 473 \nQ 1284 391 1588 391 \nQ 1994 391 2212 530 \nQ 2431 669 2431 922 \nQ 2431 1156 2273 1281 \nQ 2116 1406 1581 1522 \nL 1381 1569 \nQ 847 1681 609 1914 \nQ 372 2147 372 2553 \nQ 372 3047 722 3315 \nQ 1072 3584 1716 3584 \nQ 2034 3584 2315 3537 \nQ 2597 3491 2834 3397 \nz\n\" transform=\"scale(0.015625)\"/>\n      </defs>\n      <use xlink:href=\"#DejaVuSans-74\"/>\n      <use xlink:href=\"#DejaVuSans-72\" x=\"39.208984\"/>\n      <use xlink:href=\"#DejaVuSans-61\" x=\"80.322266\"/>\n      <use xlink:href=\"#DejaVuSans-69\" x=\"141.601562\"/>\n      <use xlink:href=\"#DejaVuSans-6e\" x=\"169.384766\"/>\n      <use xlink:href=\"#DejaVuSans-5f\" x=\"232.763672\"/>\n      <use xlink:href=\"#DejaVuSans-6c\" x=\"282.763672\"/>\n      <use xlink:href=\"#DejaVuSans-6f\" x=\"310.546875\"/>\n      <use xlink:href=\"#DejaVuSans-73\" x=\"371.728516\"/>\n      <use xlink:href=\"#DejaVuSans-73\" x=\"423.828125\"/>\n     </g>\n    </g>\n    <g id=\"line2d_128\">\n     <path d=\"M 140.8125 35.254688 \nL 150.8125 35.254688 \nL 160.8125 35.254688 \n\" style=\"fill: none; stroke-dasharray: 5.55,2.4; stroke-dashoffset: 0; stroke: #ff7f0e; stroke-width: 1.5\"/>\n    </g>\n    <g id=\"text_13\">\n     <!-- val_loss -->\n     <g transform=\"translate(168.8125 38.754688) scale(0.1 -0.1)\">\n      <defs>\n       <path id=\"DejaVuSans-76\" d=\"M 191 3500 \nL 800 3500 \nL 1894 563 \nL 2988 3500 \nL 3597 3500 \nL 2284 0 \nL 1503 0 \nL 191 3500 \nz\n\" transform=\"scale(0.015625)\"/>\n      </defs>\n      <use xlink:href=\"#DejaVuSans-76\"/>\n      <use xlink:href=\"#DejaVuSans-61\" x=\"59.179688\"/>\n      <use xlink:href=\"#DejaVuSans-6c\" x=\"120.458984\"/>\n      <use xlink:href=\"#DejaVuSans-5f\" x=\"148.242188\"/>\n      <use xlink:href=\"#DejaVuSans-6c\" x=\"198.242188\"/>\n      <use xlink:href=\"#DejaVuSans-6f\" x=\"226.025391\"/>\n      <use xlink:href=\"#DejaVuSans-73\" x=\"287.207031\"/>\n      <use xlink:href=\"#DejaVuSans-73\" x=\"339.306641\"/>\n     </g>\n    </g>\n    <g id=\"line2d_129\">\n     <path d=\"M 140.8125 50.210938 \nL 150.8125 50.210938 \nL 160.8125 50.210938 \n\" style=\"fill: none; stroke-dasharray: 9.6,2.4,1.5,2.4; stroke-dashoffset: 0; stroke: #2ca02c; stroke-width: 1.5\"/>\n    </g>\n    <g id=\"text_14\">\n     <!-- val_acc -->\n     <g transform=\"translate(168.8125 53.710938) scale(0.1 -0.1)\">\n      <use xlink:href=\"#DejaVuSans-76\"/>\n      <use xlink:href=\"#DejaVuSans-61\" x=\"59.179688\"/>\n      <use xlink:href=\"#DejaVuSans-6c\" x=\"120.458984\"/>\n      <use xlink:href=\"#DejaVuSans-5f\" x=\"148.242188\"/>\n      <use xlink:href=\"#DejaVuSans-61\" x=\"198.242188\"/>\n      <use xlink:href=\"#DejaVuSans-63\" x=\"259.521484\"/>\n      <use xlink:href=\"#DejaVuSans-63\" x=\"314.501953\"/>\n     </g>\n    </g>\n   </g>\n  </g>\n </g>\n <defs>\n  <clipPath id=\"pf41034d46a\">\n   <rect x=\"30.103125\" y=\"7.2\" width=\"195.3\" height=\"138.6\"/>\n  </clipPath>\n </defs>\n</svg>\n"
          },
          "metadata": {}
        }
      ]
    },
    {
      "cell_type": "markdown",
      "source": [
        "## 8.2.5. Exercises"
      ],
      "metadata": {
        "id": "yHF4SF_fMc3Y"
      }
    },
    {
      "cell_type": "markdown",
      "source": [
        "**1.** Compared with AlexNet, VGG is much slower in terms of computation, and it also needs more GPU memory.\n",
        "\n",
        "**a.** Compare the number of parameters needed for AlexNet and VGG.\n",
        "\n",
        "**ANSWER**\n",
        "\n",
        "AlexNet has fewer parameters compared to VGG, primarily because AlexNet uses fewer convolutional layers and fewer filters in each layer. In contrast, VGG, especially in deeper versions like VGG-16 or VGG-19, uses more convolutional layers and more filters per layer, leading to a much larger number of parameters.\n",
        "\n",
        "AlexNet:\n",
        "\n",
        "* 5 convolutional layers + 3 fully connected layers.\n",
        "* The fully connected layers, especially the two 4096-unit layers, account for a significant portion of AlexNet’s parameters.\n",
        "\n",
        "VGG:\n",
        "\n",
        "* VGG has 8 convolutional layers and 3 fully connected layers.\n",
        "* The use of multiple 3x3 convolutions with more filters (128, 256, 512) at deeper layers drastically increases the number of parameters.\n",
        "\n",
        "**b.** Compare the number of floating point operations used in the convolutional layers and in the fully connected layers.\n",
        "\n",
        "**ANSWER**\n",
        "\n",
        " Convolutional layers:\n",
        "* Both models (AlexNet and VGG) are convolution-heavy, but VGG’s deeper architecture with more filters results in significantly more floating-point operations (FLOPs) in the convolutional layers. The deeper the network and the larger the filters, the more computations each convolution requires.\n",
        "\n",
        "Fully connected layers:\n",
        "* The fully connected layers in AlexNet are responsible for a substantial number of FLOPs due to the high number of units (4096).\n",
        "* In VGG, the fully connected layers have the same structure (two 4096-unit layers) but since VGG uses more convolutional layers, the proportion of FLOPs attributed to the fully connected layers is smaller compared to the convolutional layers.\n",
        "\n",
        "**c.** How could you reduce the computational cost created by the fully connected layers?\n",
        "\n",
        "**ANSWER**\n",
        "\n",
        "* Reduce the size of the fully connected layers: Instead of using two 4096-unit layers, you can reduce the number of units to something smaller, e.g., 2048 or 1024, without a significant loss in accuracy.\n",
        "* Global Average Pooling: Instead of flattening the entire feature map and using fully connected layers, you could replace them with a global average pooling layer, which reduces the dimensionality and requires fewer parameters.\n",
        "* Use depthwise separable convolutions: To reduce computation while preserving accuracy, depthwise separable convolutions (as in MobileNet) can reduce the complexity of the convolutional layers, indirectly reducing the size of fully connected layers."
      ],
      "metadata": {
        "id": "qunbJNfRMgWd"
      }
    },
    {
      "cell_type": "markdown",
      "source": [
        "**2.** When displaying the dimensions associated with the various layers of the network, we only see the information associated with eight blocks (plus some auxiliary transforms), even though the network has 11 layers. Where did the remaining three layers go?\n",
        "\n",
        "**ANSWER**\n",
        "\n",
        "* The remaining three layers are the fully connected layers at the end of the network:\n",
        "\n",
        "2 fully connected layers with 4096 units and 1 final output layer with the number of classes (10 in this case).\n",
        "* In terms of architectural design, these fully connected layers are often omitted from layer summaries of convolutional blocks since they come after the feature extraction portion of the network."
      ],
      "metadata": {
        "id": "RbI0v12fie1i"
      }
    },
    {
      "cell_type": "markdown",
      "source": [
        "**3.** Use Table 1 in the VGG paper (Simonyan and Zisserman, 2014) to construct other common models, such as VGG-16 or VGG-19.\n",
        "\n",
        "**ANSWER**\n",
        "\n",
        "VGG-16 consists of:\n",
        "\n",
        "* 13 convolutional layers: arranged as (2, 2, 3, 3, 3) convolutions per block.\n",
        "* 3 fully connected layers.\n",
        "You can modify the arch parameter in your VGG code to match this configuration:"
      ],
      "metadata": {
        "id": "U9qpfns4il8V"
      }
    },
    {
      "cell_type": "code",
      "source": [
        "VGG(arch=((2, 64), (2, 128), (3, 256), (3, 512), (3, 512)))"
      ],
      "metadata": {
        "colab": {
          "base_uri": "https://localhost:8080/"
        },
        "id": "SZSDNbzvl8tN",
        "outputId": "37567d76-d711-4e94-bb92-9a424615bdd8"
      },
      "execution_count": 68,
      "outputs": [
        {
          "output_type": "execute_result",
          "data": {
            "text/plain": [
              "VGG(\n",
              "  (net): Sequential(\n",
              "    (0): Sequential(\n",
              "      (0): LazyConv2d(0, 64, kernel_size=(3, 3), stride=(1, 1), padding=(1, 1))\n",
              "      (1): ReLU()\n",
              "      (2): LazyConv2d(0, 64, kernel_size=(3, 3), stride=(1, 1), padding=(1, 1))\n",
              "      (3): ReLU()\n",
              "      (4): MaxPool2d(kernel_size=2, stride=2, padding=0, dilation=1, ceil_mode=False)\n",
              "    )\n",
              "    (1): Sequential(\n",
              "      (0): LazyConv2d(0, 128, kernel_size=(3, 3), stride=(1, 1), padding=(1, 1))\n",
              "      (1): ReLU()\n",
              "      (2): LazyConv2d(0, 128, kernel_size=(3, 3), stride=(1, 1), padding=(1, 1))\n",
              "      (3): ReLU()\n",
              "      (4): MaxPool2d(kernel_size=2, stride=2, padding=0, dilation=1, ceil_mode=False)\n",
              "    )\n",
              "    (2): Sequential(\n",
              "      (0): LazyConv2d(0, 256, kernel_size=(3, 3), stride=(1, 1), padding=(1, 1))\n",
              "      (1): ReLU()\n",
              "      (2): LazyConv2d(0, 256, kernel_size=(3, 3), stride=(1, 1), padding=(1, 1))\n",
              "      (3): ReLU()\n",
              "      (4): LazyConv2d(0, 256, kernel_size=(3, 3), stride=(1, 1), padding=(1, 1))\n",
              "      (5): ReLU()\n",
              "      (6): MaxPool2d(kernel_size=2, stride=2, padding=0, dilation=1, ceil_mode=False)\n",
              "    )\n",
              "    (3): Sequential(\n",
              "      (0): LazyConv2d(0, 512, kernel_size=(3, 3), stride=(1, 1), padding=(1, 1))\n",
              "      (1): ReLU()\n",
              "      (2): LazyConv2d(0, 512, kernel_size=(3, 3), stride=(1, 1), padding=(1, 1))\n",
              "      (3): ReLU()\n",
              "      (4): LazyConv2d(0, 512, kernel_size=(3, 3), stride=(1, 1), padding=(1, 1))\n",
              "      (5): ReLU()\n",
              "      (6): MaxPool2d(kernel_size=2, stride=2, padding=0, dilation=1, ceil_mode=False)\n",
              "    )\n",
              "    (4): Sequential(\n",
              "      (0): LazyConv2d(0, 512, kernel_size=(3, 3), stride=(1, 1), padding=(1, 1))\n",
              "      (1): ReLU()\n",
              "      (2): LazyConv2d(0, 512, kernel_size=(3, 3), stride=(1, 1), padding=(1, 1))\n",
              "      (3): ReLU()\n",
              "      (4): LazyConv2d(0, 512, kernel_size=(3, 3), stride=(1, 1), padding=(1, 1))\n",
              "      (5): ReLU()\n",
              "      (6): MaxPool2d(kernel_size=2, stride=2, padding=0, dilation=1, ceil_mode=False)\n",
              "    )\n",
              "    (5): Flatten(start_dim=1, end_dim=-1)\n",
              "    (6): LazyLinear(in_features=0, out_features=4096, bias=True)\n",
              "    (7): ReLU()\n",
              "    (8): Dropout(p=0.5, inplace=False)\n",
              "    (9): LazyLinear(in_features=0, out_features=4096, bias=True)\n",
              "    (10): ReLU()\n",
              "    (11): Dropout(p=0.5, inplace=False)\n",
              "    (12): LazyLinear(in_features=0, out_features=10, bias=True)\n",
              "  )\n",
              ")"
            ]
          },
          "metadata": {},
          "execution_count": 68
        }
      ]
    },
    {
      "cell_type": "markdown",
      "source": [
        "VGG-19 has:\n",
        "\n",
        "* 16 convolutional layers: arranged as (2, 2, 4, 4, 4) convolutions per block."
      ],
      "metadata": {
        "id": "Yg67N5_bl-NH"
      }
    },
    {
      "cell_type": "code",
      "source": [
        "VGG(arch=((2, 64), (2, 128), (4, 256), (4, 512), (4, 512)))"
      ],
      "metadata": {
        "colab": {
          "base_uri": "https://localhost:8080/"
        },
        "id": "ElFBKKPSmDkt",
        "outputId": "19a1a10f-fae9-44ab-99a4-72af99401933"
      },
      "execution_count": 69,
      "outputs": [
        {
          "output_type": "execute_result",
          "data": {
            "text/plain": [
              "VGG(\n",
              "  (net): Sequential(\n",
              "    (0): Sequential(\n",
              "      (0): LazyConv2d(0, 64, kernel_size=(3, 3), stride=(1, 1), padding=(1, 1))\n",
              "      (1): ReLU()\n",
              "      (2): LazyConv2d(0, 64, kernel_size=(3, 3), stride=(1, 1), padding=(1, 1))\n",
              "      (3): ReLU()\n",
              "      (4): MaxPool2d(kernel_size=2, stride=2, padding=0, dilation=1, ceil_mode=False)\n",
              "    )\n",
              "    (1): Sequential(\n",
              "      (0): LazyConv2d(0, 128, kernel_size=(3, 3), stride=(1, 1), padding=(1, 1))\n",
              "      (1): ReLU()\n",
              "      (2): LazyConv2d(0, 128, kernel_size=(3, 3), stride=(1, 1), padding=(1, 1))\n",
              "      (3): ReLU()\n",
              "      (4): MaxPool2d(kernel_size=2, stride=2, padding=0, dilation=1, ceil_mode=False)\n",
              "    )\n",
              "    (2): Sequential(\n",
              "      (0): LazyConv2d(0, 256, kernel_size=(3, 3), stride=(1, 1), padding=(1, 1))\n",
              "      (1): ReLU()\n",
              "      (2): LazyConv2d(0, 256, kernel_size=(3, 3), stride=(1, 1), padding=(1, 1))\n",
              "      (3): ReLU()\n",
              "      (4): LazyConv2d(0, 256, kernel_size=(3, 3), stride=(1, 1), padding=(1, 1))\n",
              "      (5): ReLU()\n",
              "      (6): LazyConv2d(0, 256, kernel_size=(3, 3), stride=(1, 1), padding=(1, 1))\n",
              "      (7): ReLU()\n",
              "      (8): MaxPool2d(kernel_size=2, stride=2, padding=0, dilation=1, ceil_mode=False)\n",
              "    )\n",
              "    (3): Sequential(\n",
              "      (0): LazyConv2d(0, 512, kernel_size=(3, 3), stride=(1, 1), padding=(1, 1))\n",
              "      (1): ReLU()\n",
              "      (2): LazyConv2d(0, 512, kernel_size=(3, 3), stride=(1, 1), padding=(1, 1))\n",
              "      (3): ReLU()\n",
              "      (4): LazyConv2d(0, 512, kernel_size=(3, 3), stride=(1, 1), padding=(1, 1))\n",
              "      (5): ReLU()\n",
              "      (6): LazyConv2d(0, 512, kernel_size=(3, 3), stride=(1, 1), padding=(1, 1))\n",
              "      (7): ReLU()\n",
              "      (8): MaxPool2d(kernel_size=2, stride=2, padding=0, dilation=1, ceil_mode=False)\n",
              "    )\n",
              "    (4): Sequential(\n",
              "      (0): LazyConv2d(0, 512, kernel_size=(3, 3), stride=(1, 1), padding=(1, 1))\n",
              "      (1): ReLU()\n",
              "      (2): LazyConv2d(0, 512, kernel_size=(3, 3), stride=(1, 1), padding=(1, 1))\n",
              "      (3): ReLU()\n",
              "      (4): LazyConv2d(0, 512, kernel_size=(3, 3), stride=(1, 1), padding=(1, 1))\n",
              "      (5): ReLU()\n",
              "      (6): LazyConv2d(0, 512, kernel_size=(3, 3), stride=(1, 1), padding=(1, 1))\n",
              "      (7): ReLU()\n",
              "      (8): MaxPool2d(kernel_size=2, stride=2, padding=0, dilation=1, ceil_mode=False)\n",
              "    )\n",
              "    (5): Flatten(start_dim=1, end_dim=-1)\n",
              "    (6): LazyLinear(in_features=0, out_features=4096, bias=True)\n",
              "    (7): ReLU()\n",
              "    (8): Dropout(p=0.5, inplace=False)\n",
              "    (9): LazyLinear(in_features=0, out_features=4096, bias=True)\n",
              "    (10): ReLU()\n",
              "    (11): Dropout(p=0.5, inplace=False)\n",
              "    (12): LazyLinear(in_features=0, out_features=10, bias=True)\n",
              "  )\n",
              ")"
            ]
          },
          "metadata": {},
          "execution_count": 69
        }
      ]
    },
    {
      "cell_type": "markdown",
      "source": [
        "**4.** Upsampling the resolution in Fashion-MNIST eight-fold from 28 x 28 to 224 x 224 dimensions is very wasteful. Try modifying the network architecture and resolution conversion, e.g., to 56 or to 84 dimensions for its input instead. Can you do so without reducing the accuracy of the network? Consult the VGG paper (Simonyan and Zisserman, 2014) for ideas on adding more nonlinearities prior to downsampling.\n",
        "\n",
        "**ANSWER**\n",
        "\n",
        "* Upsampling from 28x28 to 224x224 is wasteful because The original FashionMNIST images are 28x28, and upsampling them to 224x224 introduces a lot of empty space and unnecessary computation without adding much value. This could hurt efficiency without boosting accuracy.\n",
        "* Instead you can use intermediate resolutions like 56x56 or 84x84 instead of 224x224.\n",
        "This would reduce the number of parameters and computations while maintaining sufficient detail in the images.\n",
        "* You can add more nonlinearities by following the VGG paper's strategy of stacking more non-linear layers before pooling to extract more complex features from lower-resolution inputs. For example, adding an extra ReLU or using a smaller stride in the initial layers might help retain information and avoid drastic downsampling too early.\n"
      ],
      "metadata": {
        "id": "6M_mb1hmisEc"
      }
    },
    {
      "cell_type": "markdown",
      "source": [
        "# 8.3. Network in Network (NiN)"
      ],
      "metadata": {
        "id": "RPJNXD_-NDst"
      }
    },
    {
      "cell_type": "markdown",
      "source": [
        "## 8.3.1. NiN Blocks"
      ],
      "metadata": {
        "id": "ubwdvCjUNIAg"
      }
    },
    {
      "cell_type": "code",
      "source": [
        "def nin_block(out_channels, kernel_size, strides, padding):\n",
        "    return nn.Sequential(\n",
        "        nn.LazyConv2d(out_channels, kernel_size, strides, padding), nn.ReLU(),\n",
        "        nn.LazyConv2d(out_channels, kernel_size=1), nn.ReLU(),\n",
        "        nn.LazyConv2d(out_channels, kernel_size=1), nn.ReLU())"
      ],
      "metadata": {
        "id": "36z0G0iSMfqb"
      },
      "execution_count": 9,
      "outputs": []
    },
    {
      "cell_type": "markdown",
      "source": [
        "## 8.3.2. NiN Model"
      ],
      "metadata": {
        "id": "zT5TQYvtNNp6"
      }
    },
    {
      "cell_type": "code",
      "source": [
        "class NiN(d2l.Classifier):\n",
        "    def __init__(self, lr=0.1, num_classes=10):\n",
        "        super().__init__()\n",
        "        self.save_hyperparameters()\n",
        "        self.net = nn.Sequential(\n",
        "            nin_block(96, kernel_size=11, strides=4, padding=0),\n",
        "            nn.MaxPool2d(3, stride=2),\n",
        "            nin_block(256, kernel_size=5, strides=1, padding=2),\n",
        "            nn.MaxPool2d(3, stride=2),\n",
        "            nin_block(384, kernel_size=3, strides=1, padding=1),\n",
        "            nn.MaxPool2d(3, stride=2),\n",
        "            nn.Dropout(0.5),\n",
        "            nin_block(num_classes, kernel_size=3, strides=1, padding=1),\n",
        "            nn.AdaptiveAvgPool2d((1, 1)),\n",
        "            nn.Flatten())\n",
        "        self.net.apply(d2l.init_cnn)"
      ],
      "metadata": {
        "id": "wJN6sxo9NPbf"
      },
      "execution_count": 10,
      "outputs": []
    },
    {
      "cell_type": "code",
      "source": [
        "NiN().layer_summary((1, 1, 224, 224))"
      ],
      "metadata": {
        "id": "_8RtIr8ANTzC",
        "colab": {
          "base_uri": "https://localhost:8080/"
        },
        "outputId": "b0d1e612-df67-4476-f973-c964d55b0cea"
      },
      "execution_count": 11,
      "outputs": [
        {
          "output_type": "stream",
          "name": "stdout",
          "text": [
            "Sequential output shape:\t torch.Size([1, 96, 54, 54])\n",
            "MaxPool2d output shape:\t torch.Size([1, 96, 26, 26])\n",
            "Sequential output shape:\t torch.Size([1, 256, 26, 26])\n",
            "MaxPool2d output shape:\t torch.Size([1, 256, 12, 12])\n",
            "Sequential output shape:\t torch.Size([1, 384, 12, 12])\n",
            "MaxPool2d output shape:\t torch.Size([1, 384, 5, 5])\n",
            "Dropout output shape:\t torch.Size([1, 384, 5, 5])\n",
            "Sequential output shape:\t torch.Size([1, 10, 5, 5])\n",
            "AdaptiveAvgPool2d output shape:\t torch.Size([1, 10, 1, 1])\n",
            "Flatten output shape:\t torch.Size([1, 10])\n"
          ]
        }
      ]
    },
    {
      "cell_type": "markdown",
      "source": [
        "## 8.3.3. Training"
      ],
      "metadata": {
        "id": "ynx0Cr7bNWUx"
      }
    },
    {
      "cell_type": "code",
      "source": [
        "model = NiN(lr=0.05)\n",
        "trainer = d2l.Trainer(max_epochs=10, num_gpus=1)\n",
        "data = d2l.FashionMNIST(batch_size=128, resize=(224, 224))\n",
        "model.apply_init([next(iter(data.get_dataloader(True)))[0]], d2l.init_cnn)\n",
        "trainer.fit(model, data)"
      ],
      "metadata": {
        "id": "UuYQ_gUbNXaL",
        "colab": {
          "base_uri": "https://localhost:8080/",
          "height": 265
        },
        "outputId": "ce4ef586-c32f-48ae-94a6-92818bc0e7cd"
      },
      "execution_count": 12,
      "outputs": [
        {
          "output_type": "display_data",
          "data": {
            "text/plain": [
              "<Figure size 350x250 with 1 Axes>"
            ],
            "image/svg+xml": "<?xml version=\"1.0\" encoding=\"utf-8\" standalone=\"no\"?>\n<!DOCTYPE svg PUBLIC \"-//W3C//DTD SVG 1.1//EN\"\n  \"http://www.w3.org/Graphics/SVG/1.1/DTD/svg11.dtd\">\n<svg xmlns:xlink=\"http://www.w3.org/1999/xlink\" width=\"238.965625pt\" height=\"183.35625pt\" viewBox=\"0 0 238.965625 183.35625\" xmlns=\"http://www.w3.org/2000/svg\" version=\"1.1\">\n <metadata>\n  <rdf:RDF xmlns:dc=\"http://purl.org/dc/elements/1.1/\" xmlns:cc=\"http://creativecommons.org/ns#\" xmlns:rdf=\"http://www.w3.org/1999/02/22-rdf-syntax-ns#\">\n   <cc:Work>\n    <dc:type rdf:resource=\"http://purl.org/dc/dcmitype/StillImage\"/>\n    <dc:date>2024-10-05T14:18:50.865372</dc:date>\n    <dc:format>image/svg+xml</dc:format>\n    <dc:creator>\n     <cc:Agent>\n      <dc:title>Matplotlib v3.7.2, https://matplotlib.org/</dc:title>\n     </cc:Agent>\n    </dc:creator>\n   </cc:Work>\n  </rdf:RDF>\n </metadata>\n <defs>\n  <style type=\"text/css\">*{stroke-linejoin: round; stroke-linecap: butt}</style>\n </defs>\n <g id=\"figure_1\">\n  <g id=\"patch_1\">\n   <path d=\"M 0 183.35625 \nL 238.965625 183.35625 \nL 238.965625 0 \nL 0 0 \nz\n\" style=\"fill: #ffffff\"/>\n  </g>\n  <g id=\"axes_1\">\n   <g id=\"patch_2\">\n    <path d=\"M 30.103125 145.8 \nL 225.403125 145.8 \nL 225.403125 7.2 \nL 30.103125 7.2 \nz\n\" style=\"fill: #ffffff\"/>\n   </g>\n   <g id=\"matplotlib.axis_1\">\n    <g id=\"xtick_1\">\n     <g id=\"line2d_1\">\n      <defs>\n       <path id=\"mede9d6763d\" d=\"M 0 0 \nL 0 3.5 \n\" style=\"stroke: #000000; stroke-width: 0.8\"/>\n      </defs>\n      <g>\n       <use xlink:href=\"#mede9d6763d\" x=\"30.103125\" y=\"145.8\" style=\"stroke: #000000; stroke-width: 0.8\"/>\n      </g>\n     </g>\n     <g id=\"text_1\">\n      <!-- 0 -->\n      <g transform=\"translate(26.921875 160.398438) scale(0.1 -0.1)\">\n       <defs>\n        <path id=\"DejaVuSans-30\" d=\"M 2034 4250 \nQ 1547 4250 1301 3770 \nQ 1056 3291 1056 2328 \nQ 1056 1369 1301 889 \nQ 1547 409 2034 409 \nQ 2525 409 2770 889 \nQ 3016 1369 3016 2328 \nQ 3016 3291 2770 3770 \nQ 2525 4250 2034 4250 \nz\nM 2034 4750 \nQ 2819 4750 3233 4129 \nQ 3647 3509 3647 2328 \nQ 3647 1150 3233 529 \nQ 2819 -91 2034 -91 \nQ 1250 -91 836 529 \nQ 422 1150 422 2328 \nQ 422 3509 836 4129 \nQ 1250 4750 2034 4750 \nz\n\" transform=\"scale(0.015625)\"/>\n       </defs>\n       <use xlink:href=\"#DejaVuSans-30\"/>\n      </g>\n     </g>\n    </g>\n    <g id=\"xtick_2\">\n     <g id=\"line2d_2\">\n      <g>\n       <use xlink:href=\"#mede9d6763d\" x=\"69.163125\" y=\"145.8\" style=\"stroke: #000000; stroke-width: 0.8\"/>\n      </g>\n     </g>\n     <g id=\"text_2\">\n      <!-- 2 -->\n      <g transform=\"translate(65.981875 160.398438) scale(0.1 -0.1)\">\n       <defs>\n        <path id=\"DejaVuSans-32\" d=\"M 1228 531 \nL 3431 531 \nL 3431 0 \nL 469 0 \nL 469 531 \nQ 828 903 1448 1529 \nQ 2069 2156 2228 2338 \nQ 2531 2678 2651 2914 \nQ 2772 3150 2772 3378 \nQ 2772 3750 2511 3984 \nQ 2250 4219 1831 4219 \nQ 1534 4219 1204 4116 \nQ 875 4013 500 3803 \nL 500 4441 \nQ 881 4594 1212 4672 \nQ 1544 4750 1819 4750 \nQ 2544 4750 2975 4387 \nQ 3406 4025 3406 3419 \nQ 3406 3131 3298 2873 \nQ 3191 2616 2906 2266 \nQ 2828 2175 2409 1742 \nQ 1991 1309 1228 531 \nz\n\" transform=\"scale(0.015625)\"/>\n       </defs>\n       <use xlink:href=\"#DejaVuSans-32\"/>\n      </g>\n     </g>\n    </g>\n    <g id=\"xtick_3\">\n     <g id=\"line2d_3\">\n      <g>\n       <use xlink:href=\"#mede9d6763d\" x=\"108.223125\" y=\"145.8\" style=\"stroke: #000000; stroke-width: 0.8\"/>\n      </g>\n     </g>\n     <g id=\"text_3\">\n      <!-- 4 -->\n      <g transform=\"translate(105.041875 160.398438) scale(0.1 -0.1)\">\n       <defs>\n        <path id=\"DejaVuSans-34\" d=\"M 2419 4116 \nL 825 1625 \nL 2419 1625 \nL 2419 4116 \nz\nM 2253 4666 \nL 3047 4666 \nL 3047 1625 \nL 3713 1625 \nL 3713 1100 \nL 3047 1100 \nL 3047 0 \nL 2419 0 \nL 2419 1100 \nL 313 1100 \nL 313 1709 \nL 2253 4666 \nz\n\" transform=\"scale(0.015625)\"/>\n       </defs>\n       <use xlink:href=\"#DejaVuSans-34\"/>\n      </g>\n     </g>\n    </g>\n    <g id=\"xtick_4\">\n     <g id=\"line2d_4\">\n      <g>\n       <use xlink:href=\"#mede9d6763d\" x=\"147.283125\" y=\"145.8\" style=\"stroke: #000000; stroke-width: 0.8\"/>\n      </g>\n     </g>\n     <g id=\"text_4\">\n      <!-- 6 -->\n      <g transform=\"translate(144.101875 160.398438) scale(0.1 -0.1)\">\n       <defs>\n        <path id=\"DejaVuSans-36\" d=\"M 2113 2584 \nQ 1688 2584 1439 2293 \nQ 1191 2003 1191 1497 \nQ 1191 994 1439 701 \nQ 1688 409 2113 409 \nQ 2538 409 2786 701 \nQ 3034 994 3034 1497 \nQ 3034 2003 2786 2293 \nQ 2538 2584 2113 2584 \nz\nM 3366 4563 \nL 3366 3988 \nQ 3128 4100 2886 4159 \nQ 2644 4219 2406 4219 \nQ 1781 4219 1451 3797 \nQ 1122 3375 1075 2522 \nQ 1259 2794 1537 2939 \nQ 1816 3084 2150 3084 \nQ 2853 3084 3261 2657 \nQ 3669 2231 3669 1497 \nQ 3669 778 3244 343 \nQ 2819 -91 2113 -91 \nQ 1303 -91 875 529 \nQ 447 1150 447 2328 \nQ 447 3434 972 4092 \nQ 1497 4750 2381 4750 \nQ 2619 4750 2861 4703 \nQ 3103 4656 3366 4563 \nz\n\" transform=\"scale(0.015625)\"/>\n       </defs>\n       <use xlink:href=\"#DejaVuSans-36\"/>\n      </g>\n     </g>\n    </g>\n    <g id=\"xtick_5\">\n     <g id=\"line2d_5\">\n      <g>\n       <use xlink:href=\"#mede9d6763d\" x=\"186.343125\" y=\"145.8\" style=\"stroke: #000000; stroke-width: 0.8\"/>\n      </g>\n     </g>\n     <g id=\"text_5\">\n      <!-- 8 -->\n      <g transform=\"translate(183.161875 160.398438) scale(0.1 -0.1)\">\n       <defs>\n        <path id=\"DejaVuSans-38\" d=\"M 2034 2216 \nQ 1584 2216 1326 1975 \nQ 1069 1734 1069 1313 \nQ 1069 891 1326 650 \nQ 1584 409 2034 409 \nQ 2484 409 2743 651 \nQ 3003 894 3003 1313 \nQ 3003 1734 2745 1975 \nQ 2488 2216 2034 2216 \nz\nM 1403 2484 \nQ 997 2584 770 2862 \nQ 544 3141 544 3541 \nQ 544 4100 942 4425 \nQ 1341 4750 2034 4750 \nQ 2731 4750 3128 4425 \nQ 3525 4100 3525 3541 \nQ 3525 3141 3298 2862 \nQ 3072 2584 2669 2484 \nQ 3125 2378 3379 2068 \nQ 3634 1759 3634 1313 \nQ 3634 634 3220 271 \nQ 2806 -91 2034 -91 \nQ 1263 -91 848 271 \nQ 434 634 434 1313 \nQ 434 1759 690 2068 \nQ 947 2378 1403 2484 \nz\nM 1172 3481 \nQ 1172 3119 1398 2916 \nQ 1625 2713 2034 2713 \nQ 2441 2713 2670 2916 \nQ 2900 3119 2900 3481 \nQ 2900 3844 2670 4047 \nQ 2441 4250 2034 4250 \nQ 1625 4250 1398 4047 \nQ 1172 3844 1172 3481 \nz\n\" transform=\"scale(0.015625)\"/>\n       </defs>\n       <use xlink:href=\"#DejaVuSans-38\"/>\n      </g>\n     </g>\n    </g>\n    <g id=\"xtick_6\">\n     <g id=\"line2d_6\">\n      <g>\n       <use xlink:href=\"#mede9d6763d\" x=\"225.403125\" y=\"145.8\" style=\"stroke: #000000; stroke-width: 0.8\"/>\n      </g>\n     </g>\n     <g id=\"text_6\">\n      <!-- 10 -->\n      <g transform=\"translate(219.040625 160.398438) scale(0.1 -0.1)\">\n       <defs>\n        <path id=\"DejaVuSans-31\" d=\"M 794 531 \nL 1825 531 \nL 1825 4091 \nL 703 3866 \nL 703 4441 \nL 1819 4666 \nL 2450 4666 \nL 2450 531 \nL 3481 531 \nL 3481 0 \nL 794 0 \nL 794 531 \nz\n\" transform=\"scale(0.015625)\"/>\n       </defs>\n       <use xlink:href=\"#DejaVuSans-31\"/>\n       <use xlink:href=\"#DejaVuSans-30\" x=\"63.623047\"/>\n      </g>\n     </g>\n    </g>\n    <g id=\"text_7\">\n     <!-- epoch -->\n     <g transform=\"translate(112.525 174.076563) scale(0.1 -0.1)\">\n      <defs>\n       <path id=\"DejaVuSans-65\" d=\"M 3597 1894 \nL 3597 1613 \nL 953 1613 \nQ 991 1019 1311 708 \nQ 1631 397 2203 397 \nQ 2534 397 2845 478 \nQ 3156 559 3463 722 \nL 3463 178 \nQ 3153 47 2828 -22 \nQ 2503 -91 2169 -91 \nQ 1331 -91 842 396 \nQ 353 884 353 1716 \nQ 353 2575 817 3079 \nQ 1281 3584 2069 3584 \nQ 2775 3584 3186 3129 \nQ 3597 2675 3597 1894 \nz\nM 3022 2063 \nQ 3016 2534 2758 2815 \nQ 2500 3097 2075 3097 \nQ 1594 3097 1305 2825 \nQ 1016 2553 972 2059 \nL 3022 2063 \nz\n\" transform=\"scale(0.015625)\"/>\n       <path id=\"DejaVuSans-70\" d=\"M 1159 525 \nL 1159 -1331 \nL 581 -1331 \nL 581 3500 \nL 1159 3500 \nL 1159 2969 \nQ 1341 3281 1617 3432 \nQ 1894 3584 2278 3584 \nQ 2916 3584 3314 3078 \nQ 3713 2572 3713 1747 \nQ 3713 922 3314 415 \nQ 2916 -91 2278 -91 \nQ 1894 -91 1617 61 \nQ 1341 213 1159 525 \nz\nM 3116 1747 \nQ 3116 2381 2855 2742 \nQ 2594 3103 2138 3103 \nQ 1681 3103 1420 2742 \nQ 1159 2381 1159 1747 \nQ 1159 1113 1420 752 \nQ 1681 391 2138 391 \nQ 2594 391 2855 752 \nQ 3116 1113 3116 1747 \nz\n\" transform=\"scale(0.015625)\"/>\n       <path id=\"DejaVuSans-6f\" d=\"M 1959 3097 \nQ 1497 3097 1228 2736 \nQ 959 2375 959 1747 \nQ 959 1119 1226 758 \nQ 1494 397 1959 397 \nQ 2419 397 2687 759 \nQ 2956 1122 2956 1747 \nQ 2956 2369 2687 2733 \nQ 2419 3097 1959 3097 \nz\nM 1959 3584 \nQ 2709 3584 3137 3096 \nQ 3566 2609 3566 1747 \nQ 3566 888 3137 398 \nQ 2709 -91 1959 -91 \nQ 1206 -91 779 398 \nQ 353 888 353 1747 \nQ 353 2609 779 3096 \nQ 1206 3584 1959 3584 \nz\n\" transform=\"scale(0.015625)\"/>\n       <path id=\"DejaVuSans-63\" d=\"M 3122 3366 \nL 3122 2828 \nQ 2878 2963 2633 3030 \nQ 2388 3097 2138 3097 \nQ 1578 3097 1268 2742 \nQ 959 2388 959 1747 \nQ 959 1106 1268 751 \nQ 1578 397 2138 397 \nQ 2388 397 2633 464 \nQ 2878 531 3122 666 \nL 3122 134 \nQ 2881 22 2623 -34 \nQ 2366 -91 2075 -91 \nQ 1284 -91 818 406 \nQ 353 903 353 1747 \nQ 353 2603 823 3093 \nQ 1294 3584 2113 3584 \nQ 2378 3584 2631 3529 \nQ 2884 3475 3122 3366 \nz\n\" transform=\"scale(0.015625)\"/>\n       <path id=\"DejaVuSans-68\" d=\"M 3513 2113 \nL 3513 0 \nL 2938 0 \nL 2938 2094 \nQ 2938 2591 2744 2837 \nQ 2550 3084 2163 3084 \nQ 1697 3084 1428 2787 \nQ 1159 2491 1159 1978 \nL 1159 0 \nL 581 0 \nL 581 4863 \nL 1159 4863 \nL 1159 2956 \nQ 1366 3272 1645 3428 \nQ 1925 3584 2291 3584 \nQ 2894 3584 3203 3211 \nQ 3513 2838 3513 2113 \nz\n\" transform=\"scale(0.015625)\"/>\n      </defs>\n      <use xlink:href=\"#DejaVuSans-65\"/>\n      <use xlink:href=\"#DejaVuSans-70\" x=\"61.523438\"/>\n      <use xlink:href=\"#DejaVuSans-6f\" x=\"125\"/>\n      <use xlink:href=\"#DejaVuSans-63\" x=\"186.181641\"/>\n      <use xlink:href=\"#DejaVuSans-68\" x=\"241.162109\"/>\n     </g>\n    </g>\n   </g>\n   <g id=\"matplotlib.axis_2\">\n    <g id=\"ytick_1\">\n     <g id=\"line2d_7\">\n      <defs>\n       <path id=\"m306792ecf4\" d=\"M 0 0 \nL -3.5 0 \n\" style=\"stroke: #000000; stroke-width: 0.8\"/>\n      </defs>\n      <g>\n       <use xlink:href=\"#m306792ecf4\" x=\"30.103125\" y=\"145.275764\" style=\"stroke: #000000; stroke-width: 0.8\"/>\n      </g>\n     </g>\n     <g id=\"text_8\">\n      <!-- 0.0 -->\n      <g transform=\"translate(7.2 149.074983) scale(0.1 -0.1)\">\n       <defs>\n        <path id=\"DejaVuSans-2e\" d=\"M 684 794 \nL 1344 794 \nL 1344 0 \nL 684 0 \nL 684 794 \nz\n\" transform=\"scale(0.015625)\"/>\n       </defs>\n       <use xlink:href=\"#DejaVuSans-30\"/>\n       <use xlink:href=\"#DejaVuSans-2e\" x=\"63.623047\"/>\n       <use xlink:href=\"#DejaVuSans-30\" x=\"95.410156\"/>\n      </g>\n     </g>\n    </g>\n    <g id=\"ytick_2\">\n     <g id=\"line2d_8\">\n      <g>\n       <use xlink:href=\"#m306792ecf4\" x=\"30.103125\" y=\"116.674134\" style=\"stroke: #000000; stroke-width: 0.8\"/>\n      </g>\n     </g>\n     <g id=\"text_9\">\n      <!-- 0.5 -->\n      <g transform=\"translate(7.2 120.473353) scale(0.1 -0.1)\">\n       <defs>\n        <path id=\"DejaVuSans-35\" d=\"M 691 4666 \nL 3169 4666 \nL 3169 4134 \nL 1269 4134 \nL 1269 2991 \nQ 1406 3038 1543 3061 \nQ 1681 3084 1819 3084 \nQ 2600 3084 3056 2656 \nQ 3513 2228 3513 1497 \nQ 3513 744 3044 326 \nQ 2575 -91 1722 -91 \nQ 1428 -91 1123 -41 \nQ 819 9 494 109 \nL 494 744 \nQ 775 591 1075 516 \nQ 1375 441 1709 441 \nQ 2250 441 2565 725 \nQ 2881 1009 2881 1497 \nQ 2881 1984 2565 2268 \nQ 2250 2553 1709 2553 \nQ 1456 2553 1204 2497 \nQ 953 2441 691 2322 \nL 691 4666 \nz\n\" transform=\"scale(0.015625)\"/>\n       </defs>\n       <use xlink:href=\"#DejaVuSans-30\"/>\n       <use xlink:href=\"#DejaVuSans-2e\" x=\"63.623047\"/>\n       <use xlink:href=\"#DejaVuSans-35\" x=\"95.410156\"/>\n      </g>\n     </g>\n    </g>\n    <g id=\"ytick_3\">\n     <g id=\"line2d_9\">\n      <g>\n       <use xlink:href=\"#m306792ecf4\" x=\"30.103125\" y=\"88.072504\" style=\"stroke: #000000; stroke-width: 0.8\"/>\n      </g>\n     </g>\n     <g id=\"text_10\">\n      <!-- 1.0 -->\n      <g transform=\"translate(7.2 91.871722) scale(0.1 -0.1)\">\n       <use xlink:href=\"#DejaVuSans-31\"/>\n       <use xlink:href=\"#DejaVuSans-2e\" x=\"63.623047\"/>\n       <use xlink:href=\"#DejaVuSans-30\" x=\"95.410156\"/>\n      </g>\n     </g>\n    </g>\n    <g id=\"ytick_4\">\n     <g id=\"line2d_10\">\n      <g>\n       <use xlink:href=\"#m306792ecf4\" x=\"30.103125\" y=\"59.470873\" style=\"stroke: #000000; stroke-width: 0.8\"/>\n      </g>\n     </g>\n     <g id=\"text_11\">\n      <!-- 1.5 -->\n      <g transform=\"translate(7.2 63.270092) scale(0.1 -0.1)\">\n       <use xlink:href=\"#DejaVuSans-31\"/>\n       <use xlink:href=\"#DejaVuSans-2e\" x=\"63.623047\"/>\n       <use xlink:href=\"#DejaVuSans-35\" x=\"95.410156\"/>\n      </g>\n     </g>\n    </g>\n    <g id=\"ytick_5\">\n     <g id=\"line2d_11\">\n      <g>\n       <use xlink:href=\"#m306792ecf4\" x=\"30.103125\" y=\"30.869243\" style=\"stroke: #000000; stroke-width: 0.8\"/>\n      </g>\n     </g>\n     <g id=\"text_12\">\n      <!-- 2.0 -->\n      <g transform=\"translate(7.2 34.668461) scale(0.1 -0.1)\">\n       <use xlink:href=\"#DejaVuSans-32\"/>\n       <use xlink:href=\"#DejaVuSans-2e\" x=\"63.623047\"/>\n       <use xlink:href=\"#DejaVuSans-30\" x=\"95.410156\"/>\n      </g>\n     </g>\n    </g>\n   </g>\n   <g id=\"line2d_12\">\n    <path d=\"M 34.954394 13.5 \n\" clip-path=\"url(#pca5bad1fd9)\" style=\"fill: none; stroke: #1f77b4; stroke-width: 1.5; stroke-linecap: square\"/>\n   </g>\n   <g id=\"line2d_13\">\n    <path d=\"M 34.954394 13.5 \nL 44.698573 13.559547 \n\" clip-path=\"url(#pca5bad1fd9)\" style=\"fill: none; stroke: #1f77b4; stroke-width: 1.5; stroke-linecap: square\"/>\n   </g>\n   <g id=\"line2d_14\">\n    <path d=\"M 34.954394 13.5 \nL 44.698573 13.559547 \n\" clip-path=\"url(#pca5bad1fd9)\" style=\"fill: none; stroke: #1f77b4; stroke-width: 1.5; stroke-linecap: square\"/>\n   </g>\n   <g id=\"line2d_15\">\n    <path d=\"M 49.633125 13.565412 \n\" clip-path=\"url(#pca5bad1fd9)\" style=\"fill: none; stroke-dasharray: 5.55,2.4; stroke-dashoffset: 0; stroke: #ff7f0e; stroke-width: 1.5\"/>\n   </g>\n   <g id=\"line2d_16\"/>\n   <g id=\"line2d_17\">\n    <path d=\"M 34.954394 13.5 \nL 44.698573 13.559547 \n\" clip-path=\"url(#pca5bad1fd9)\" style=\"fill: none; stroke: #1f77b4; stroke-width: 1.5; stroke-linecap: square\"/>\n   </g>\n   <g id=\"line2d_18\">\n    <path d=\"M 49.633125 13.565412 \n\" clip-path=\"url(#pca5bad1fd9)\" style=\"fill: none; stroke-dasharray: 5.55,2.4; stroke-dashoffset: 0; stroke: #ff7f0e; stroke-width: 1.5\"/>\n   </g>\n   <g id=\"line2d_19\">\n    <path d=\"M 49.633125 139.5 \n\" clip-path=\"url(#pca5bad1fd9)\" style=\"fill: none; stroke-dasharray: 9.6,2.4,1.5,2.4; stroke-dashoffset: 0; stroke: #2ca02c; stroke-width: 1.5\"/>\n   </g>\n   <g id=\"line2d_20\">\n    <path d=\"M 34.954394 13.5 \nL 44.698573 13.559547 \nL 54.442752 13.571503 \n\" clip-path=\"url(#pca5bad1fd9)\" style=\"fill: none; stroke: #1f77b4; stroke-width: 1.5; stroke-linecap: square\"/>\n   </g>\n   <g id=\"line2d_21\">\n    <path d=\"M 49.633125 13.565412 \n\" clip-path=\"url(#pca5bad1fd9)\" style=\"fill: none; stroke-dasharray: 5.55,2.4; stroke-dashoffset: 0; stroke: #ff7f0e; stroke-width: 1.5\"/>\n   </g>\n   <g id=\"line2d_22\">\n    <path d=\"M 49.633125 139.5 \n\" clip-path=\"url(#pca5bad1fd9)\" style=\"fill: none; stroke-dasharray: 9.6,2.4,1.5,2.4; stroke-dashoffset: 0; stroke: #2ca02c; stroke-width: 1.5\"/>\n   </g>\n   <g id=\"line2d_23\">\n    <path d=\"M 34.954394 13.5 \nL 44.698573 13.559547 \nL 54.442752 13.571503 \nL 64.186931 13.613262 \n\" clip-path=\"url(#pca5bad1fd9)\" style=\"fill: none; stroke: #1f77b4; stroke-width: 1.5; stroke-linecap: square\"/>\n   </g>\n   <g id=\"line2d_24\">\n    <path d=\"M 49.633125 13.565412 \n\" clip-path=\"url(#pca5bad1fd9)\" style=\"fill: none; stroke-dasharray: 5.55,2.4; stroke-dashoffset: 0; stroke: #ff7f0e; stroke-width: 1.5\"/>\n   </g>\n   <g id=\"line2d_25\">\n    <path d=\"M 49.633125 139.5 \n\" clip-path=\"url(#pca5bad1fd9)\" style=\"fill: none; stroke-dasharray: 9.6,2.4,1.5,2.4; stroke-dashoffset: 0; stroke: #2ca02c; stroke-width: 1.5\"/>\n   </g>\n   <g id=\"line2d_26\">\n    <path d=\"M 34.954394 13.5 \nL 44.698573 13.559547 \nL 54.442752 13.571503 \nL 64.186931 13.613262 \n\" clip-path=\"url(#pca5bad1fd9)\" style=\"fill: none; stroke: #1f77b4; stroke-width: 1.5; stroke-linecap: square\"/>\n   </g>\n   <g id=\"line2d_27\">\n    <path d=\"M 49.633125 13.565412 \nL 69.163125 13.731903 \n\" clip-path=\"url(#pca5bad1fd9)\" style=\"fill: none; stroke-dasharray: 5.55,2.4; stroke-dashoffset: 0; stroke: #ff7f0e; stroke-width: 1.5\"/>\n   </g>\n   <g id=\"line2d_28\">\n    <path d=\"M 49.633125 139.5 \n\" clip-path=\"url(#pca5bad1fd9)\" style=\"fill: none; stroke-dasharray: 9.6,2.4,1.5,2.4; stroke-dashoffset: 0; stroke: #2ca02c; stroke-width: 1.5\"/>\n   </g>\n   <g id=\"line2d_29\">\n    <path d=\"M 34.954394 13.5 \nL 44.698573 13.559547 \nL 54.442752 13.571503 \nL 64.186931 13.613262 \n\" clip-path=\"url(#pca5bad1fd9)\" style=\"fill: none; stroke: #1f77b4; stroke-width: 1.5; stroke-linecap: square\"/>\n   </g>\n   <g id=\"line2d_30\">\n    <path d=\"M 49.633125 13.565412 \nL 69.163125 13.731903 \n\" clip-path=\"url(#pca5bad1fd9)\" style=\"fill: none; stroke-dasharray: 5.55,2.4; stroke-dashoffset: 0; stroke: #ff7f0e; stroke-width: 1.5\"/>\n   </g>\n   <g id=\"line2d_31\">\n    <path d=\"M 49.633125 139.5 \nL 69.163125 136.914766 \n\" clip-path=\"url(#pca5bad1fd9)\" style=\"fill: none; stroke-dasharray: 9.6,2.4,1.5,2.4; stroke-dashoffset: 0; stroke: #2ca02c; stroke-width: 1.5\"/>\n   </g>\n   <g id=\"line2d_32\">\n    <path d=\"M 34.954394 13.5 \nL 44.698573 13.559547 \nL 54.442752 13.571503 \nL 64.186931 13.613262 \nL 73.93111 14.540522 \n\" clip-path=\"url(#pca5bad1fd9)\" style=\"fill: none; stroke: #1f77b4; stroke-width: 1.5; stroke-linecap: square\"/>\n   </g>\n   <g id=\"line2d_33\">\n    <path d=\"M 49.633125 13.565412 \nL 69.163125 13.731903 \n\" clip-path=\"url(#pca5bad1fd9)\" style=\"fill: none; stroke-dasharray: 5.55,2.4; stroke-dashoffset: 0; stroke: #ff7f0e; stroke-width: 1.5\"/>\n   </g>\n   <g id=\"line2d_34\">\n    <path d=\"M 49.633125 139.5 \nL 69.163125 136.914766 \n\" clip-path=\"url(#pca5bad1fd9)\" style=\"fill: none; stroke-dasharray: 9.6,2.4,1.5,2.4; stroke-dashoffset: 0; stroke: #2ca02c; stroke-width: 1.5\"/>\n   </g>\n   <g id=\"line2d_35\">\n    <path d=\"M 34.954394 13.5 \nL 44.698573 13.559547 \nL 54.442752 13.571503 \nL 64.186931 13.613262 \nL 73.93111 14.540522 \nL 83.675289 25.972934 \n\" clip-path=\"url(#pca5bad1fd9)\" style=\"fill: none; stroke: #1f77b4; stroke-width: 1.5; stroke-linecap: square\"/>\n   </g>\n   <g id=\"line2d_36\">\n    <path d=\"M 49.633125 13.565412 \nL 69.163125 13.731903 \n\" clip-path=\"url(#pca5bad1fd9)\" style=\"fill: none; stroke-dasharray: 5.55,2.4; stroke-dashoffset: 0; stroke: #ff7f0e; stroke-width: 1.5\"/>\n   </g>\n   <g id=\"line2d_37\">\n    <path d=\"M 49.633125 139.5 \nL 69.163125 136.914766 \n\" clip-path=\"url(#pca5bad1fd9)\" style=\"fill: none; stroke-dasharray: 9.6,2.4,1.5,2.4; stroke-dashoffset: 0; stroke: #2ca02c; stroke-width: 1.5\"/>\n   </g>\n   <g id=\"line2d_38\">\n    <path d=\"M 34.954394 13.5 \nL 44.698573 13.559547 \nL 54.442752 13.571503 \nL 64.186931 13.613262 \nL 73.93111 14.540522 \nL 83.675289 25.972934 \n\" clip-path=\"url(#pca5bad1fd9)\" style=\"fill: none; stroke: #1f77b4; stroke-width: 1.5; stroke-linecap: square\"/>\n   </g>\n   <g id=\"line2d_39\">\n    <path d=\"M 49.633125 13.565412 \nL 69.163125 13.731903 \nL 88.693125 41.119171 \n\" clip-path=\"url(#pca5bad1fd9)\" style=\"fill: none; stroke-dasharray: 5.55,2.4; stroke-dashoffset: 0; stroke: #ff7f0e; stroke-width: 1.5\"/>\n   </g>\n   <g id=\"line2d_40\">\n    <path d=\"M 49.633125 139.5 \nL 69.163125 136.914766 \n\" clip-path=\"url(#pca5bad1fd9)\" style=\"fill: none; stroke-dasharray: 9.6,2.4,1.5,2.4; stroke-dashoffset: 0; stroke: #2ca02c; stroke-width: 1.5\"/>\n   </g>\n   <g id=\"line2d_41\">\n    <path d=\"M 34.954394 13.5 \nL 44.698573 13.559547 \nL 54.442752 13.571503 \nL 64.186931 13.613262 \nL 73.93111 14.540522 \nL 83.675289 25.972934 \n\" clip-path=\"url(#pca5bad1fd9)\" style=\"fill: none; stroke: #1f77b4; stroke-width: 1.5; stroke-linecap: square\"/>\n   </g>\n   <g id=\"line2d_42\">\n    <path d=\"M 49.633125 13.565412 \nL 69.163125 13.731903 \nL 88.693125 41.119171 \n\" clip-path=\"url(#pca5bad1fd9)\" style=\"fill: none; stroke-dasharray: 5.55,2.4; stroke-dashoffset: 0; stroke: #ff7f0e; stroke-width: 1.5\"/>\n   </g>\n   <g id=\"line2d_43\">\n    <path d=\"M 49.633125 139.5 \nL 69.163125 136.914766 \nL 88.693125 125.1709 \n\" clip-path=\"url(#pca5bad1fd9)\" style=\"fill: none; stroke-dasharray: 9.6,2.4,1.5,2.4; stroke-dashoffset: 0; stroke: #2ca02c; stroke-width: 1.5\"/>\n   </g>\n   <g id=\"line2d_44\">\n    <path d=\"M 34.954394 13.5 \nL 44.698573 13.559547 \nL 54.442752 13.571503 \nL 64.186931 13.613262 \nL 73.93111 14.540522 \nL 83.675289 25.972934 \nL 93.419468 43.880995 \n\" clip-path=\"url(#pca5bad1fd9)\" style=\"fill: none; stroke: #1f77b4; stroke-width: 1.5; stroke-linecap: square\"/>\n   </g>\n   <g id=\"line2d_45\">\n    <path d=\"M 49.633125 13.565412 \nL 69.163125 13.731903 \nL 88.693125 41.119171 \n\" clip-path=\"url(#pca5bad1fd9)\" style=\"fill: none; stroke-dasharray: 5.55,2.4; stroke-dashoffset: 0; stroke: #ff7f0e; stroke-width: 1.5\"/>\n   </g>\n   <g id=\"line2d_46\">\n    <path d=\"M 49.633125 139.5 \nL 69.163125 136.914766 \nL 88.693125 125.1709 \n\" clip-path=\"url(#pca5bad1fd9)\" style=\"fill: none; stroke-dasharray: 9.6,2.4,1.5,2.4; stroke-dashoffset: 0; stroke: #2ca02c; stroke-width: 1.5\"/>\n   </g>\n   <g id=\"line2d_47\">\n    <path d=\"M 34.954394 13.5 \nL 44.698573 13.559547 \nL 54.442752 13.571503 \nL 64.186931 13.613262 \nL 73.93111 14.540522 \nL 83.675289 25.972934 \nL 93.419468 43.880995 \nL 103.163647 54.588303 \n\" clip-path=\"url(#pca5bad1fd9)\" style=\"fill: none; stroke: #1f77b4; stroke-width: 1.5; stroke-linecap: square\"/>\n   </g>\n   <g id=\"line2d_48\">\n    <path d=\"M 49.633125 13.565412 \nL 69.163125 13.731903 \nL 88.693125 41.119171 \n\" clip-path=\"url(#pca5bad1fd9)\" style=\"fill: none; stroke-dasharray: 5.55,2.4; stroke-dashoffset: 0; stroke: #ff7f0e; stroke-width: 1.5\"/>\n   </g>\n   <g id=\"line2d_49\">\n    <path d=\"M 49.633125 139.5 \nL 69.163125 136.914766 \nL 88.693125 125.1709 \n\" clip-path=\"url(#pca5bad1fd9)\" style=\"fill: none; stroke-dasharray: 9.6,2.4,1.5,2.4; stroke-dashoffset: 0; stroke: #2ca02c; stroke-width: 1.5\"/>\n   </g>\n   <g id=\"line2d_50\">\n    <path d=\"M 34.954394 13.5 \nL 44.698573 13.559547 \nL 54.442752 13.571503 \nL 64.186931 13.613262 \nL 73.93111 14.540522 \nL 83.675289 25.972934 \nL 93.419468 43.880995 \nL 103.163647 54.588303 \n\" clip-path=\"url(#pca5bad1fd9)\" style=\"fill: none; stroke: #1f77b4; stroke-width: 1.5; stroke-linecap: square\"/>\n   </g>\n   <g id=\"line2d_51\">\n    <path d=\"M 49.633125 13.565412 \nL 69.163125 13.731903 \nL 88.693125 41.119171 \nL 108.223125 69.430163 \n\" clip-path=\"url(#pca5bad1fd9)\" style=\"fill: none; stroke-dasharray: 5.55,2.4; stroke-dashoffset: 0; stroke: #ff7f0e; stroke-width: 1.5\"/>\n   </g>\n   <g id=\"line2d_52\">\n    <path d=\"M 49.633125 139.5 \nL 69.163125 136.914766 \nL 88.693125 125.1709 \n\" clip-path=\"url(#pca5bad1fd9)\" style=\"fill: none; stroke-dasharray: 9.6,2.4,1.5,2.4; stroke-dashoffset: 0; stroke: #2ca02c; stroke-width: 1.5\"/>\n   </g>\n   <g id=\"line2d_53\">\n    <path d=\"M 34.954394 13.5 \nL 44.698573 13.559547 \nL 54.442752 13.571503 \nL 64.186931 13.613262 \nL 73.93111 14.540522 \nL 83.675289 25.972934 \nL 93.419468 43.880995 \nL 103.163647 54.588303 \n\" clip-path=\"url(#pca5bad1fd9)\" style=\"fill: none; stroke: #1f77b4; stroke-width: 1.5; stroke-linecap: square\"/>\n   </g>\n   <g id=\"line2d_54\">\n    <path d=\"M 49.633125 13.565412 \nL 69.163125 13.731903 \nL 88.693125 41.119171 \nL 108.223125 69.430163 \n\" clip-path=\"url(#pca5bad1fd9)\" style=\"fill: none; stroke-dasharray: 5.55,2.4; stroke-dashoffset: 0; stroke: #ff7f0e; stroke-width: 1.5\"/>\n   </g>\n   <g id=\"line2d_55\">\n    <path d=\"M 49.633125 139.5 \nL 69.163125 136.914766 \nL 88.693125 125.1709 \nL 108.223125 114.247295 \n\" clip-path=\"url(#pca5bad1fd9)\" style=\"fill: none; stroke-dasharray: 9.6,2.4,1.5,2.4; stroke-dashoffset: 0; stroke: #2ca02c; stroke-width: 1.5\"/>\n   </g>\n   <g id=\"line2d_56\">\n    <path d=\"M 34.954394 13.5 \nL 44.698573 13.559547 \nL 54.442752 13.571503 \nL 64.186931 13.613262 \nL 73.93111 14.540522 \nL 83.675289 25.972934 \nL 93.419468 43.880995 \nL 103.163647 54.588303 \nL 112.907826 70.849408 \n\" clip-path=\"url(#pca5bad1fd9)\" style=\"fill: none; stroke: #1f77b4; stroke-width: 1.5; stroke-linecap: square\"/>\n   </g>\n   <g id=\"line2d_57\">\n    <path d=\"M 49.633125 13.565412 \nL 69.163125 13.731903 \nL 88.693125 41.119171 \nL 108.223125 69.430163 \n\" clip-path=\"url(#pca5bad1fd9)\" style=\"fill: none; stroke-dasharray: 5.55,2.4; stroke-dashoffset: 0; stroke: #ff7f0e; stroke-width: 1.5\"/>\n   </g>\n   <g id=\"line2d_58\">\n    <path d=\"M 49.633125 139.5 \nL 69.163125 136.914766 \nL 88.693125 125.1709 \nL 108.223125 114.247295 \n\" clip-path=\"url(#pca5bad1fd9)\" style=\"fill: none; stroke-dasharray: 9.6,2.4,1.5,2.4; stroke-dashoffset: 0; stroke: #2ca02c; stroke-width: 1.5\"/>\n   </g>\n   <g id=\"line2d_59\">\n    <path d=\"M 34.954394 13.5 \nL 44.698573 13.559547 \nL 54.442752 13.571503 \nL 64.186931 13.613262 \nL 73.93111 14.540522 \nL 83.675289 25.972934 \nL 93.419468 43.880995 \nL 103.163647 54.588303 \nL 112.907826 70.849408 \nL 122.652006 74.700368 \n\" clip-path=\"url(#pca5bad1fd9)\" style=\"fill: none; stroke: #1f77b4; stroke-width: 1.5; stroke-linecap: square\"/>\n   </g>\n   <g id=\"line2d_60\">\n    <path d=\"M 49.633125 13.565412 \nL 69.163125 13.731903 \nL 88.693125 41.119171 \nL 108.223125 69.430163 \n\" clip-path=\"url(#pca5bad1fd9)\" style=\"fill: none; stroke-dasharray: 5.55,2.4; stroke-dashoffset: 0; stroke: #ff7f0e; stroke-width: 1.5\"/>\n   </g>\n   <g id=\"line2d_61\">\n    <path d=\"M 49.633125 139.5 \nL 69.163125 136.914766 \nL 88.693125 125.1709 \nL 108.223125 114.247295 \n\" clip-path=\"url(#pca5bad1fd9)\" style=\"fill: none; stroke-dasharray: 9.6,2.4,1.5,2.4; stroke-dashoffset: 0; stroke: #2ca02c; stroke-width: 1.5\"/>\n   </g>\n   <g id=\"line2d_62\">\n    <path d=\"M 34.954394 13.5 \nL 44.698573 13.559547 \nL 54.442752 13.571503 \nL 64.186931 13.613262 \nL 73.93111 14.540522 \nL 83.675289 25.972934 \nL 93.419468 43.880995 \nL 103.163647 54.588303 \nL 112.907826 70.849408 \nL 122.652006 74.700368 \n\" clip-path=\"url(#pca5bad1fd9)\" style=\"fill: none; stroke: #1f77b4; stroke-width: 1.5; stroke-linecap: square\"/>\n   </g>\n   <g id=\"line2d_63\">\n    <path d=\"M 49.633125 13.565412 \nL 69.163125 13.731903 \nL 88.693125 41.119171 \nL 108.223125 69.430163 \nL 127.753125 71.593368 \n\" clip-path=\"url(#pca5bad1fd9)\" style=\"fill: none; stroke-dasharray: 5.55,2.4; stroke-dashoffset: 0; stroke: #ff7f0e; stroke-width: 1.5\"/>\n   </g>\n   <g id=\"line2d_64\">\n    <path d=\"M 49.633125 139.5 \nL 69.163125 136.914766 \nL 88.693125 125.1709 \nL 108.223125 114.247295 \n\" clip-path=\"url(#pca5bad1fd9)\" style=\"fill: none; stroke-dasharray: 9.6,2.4,1.5,2.4; stroke-dashoffset: 0; stroke: #2ca02c; stroke-width: 1.5\"/>\n   </g>\n   <g id=\"line2d_65\">\n    <path d=\"M 34.954394 13.5 \nL 44.698573 13.559547 \nL 54.442752 13.571503 \nL 64.186931 13.613262 \nL 73.93111 14.540522 \nL 83.675289 25.972934 \nL 93.419468 43.880995 \nL 103.163647 54.588303 \nL 112.907826 70.849408 \nL 122.652006 74.700368 \n\" clip-path=\"url(#pca5bad1fd9)\" style=\"fill: none; stroke: #1f77b4; stroke-width: 1.5; stroke-linecap: square\"/>\n   </g>\n   <g id=\"line2d_66\">\n    <path d=\"M 49.633125 13.565412 \nL 69.163125 13.731903 \nL 88.693125 41.119171 \nL 108.223125 69.430163 \nL 127.753125 71.593368 \n\" clip-path=\"url(#pca5bad1fd9)\" style=\"fill: none; stroke-dasharray: 5.55,2.4; stroke-dashoffset: 0; stroke: #ff7f0e; stroke-width: 1.5\"/>\n   </g>\n   <g id=\"line2d_67\">\n    <path d=\"M 49.633125 139.5 \nL 69.163125 136.914766 \nL 88.693125 125.1709 \nL 108.223125 114.247295 \nL 127.753125 114.213353 \n\" clip-path=\"url(#pca5bad1fd9)\" style=\"fill: none; stroke-dasharray: 9.6,2.4,1.5,2.4; stroke-dashoffset: 0; stroke: #2ca02c; stroke-width: 1.5\"/>\n   </g>\n   <g id=\"line2d_68\">\n    <path d=\"M 34.954394 13.5 \nL 44.698573 13.559547 \nL 54.442752 13.571503 \nL 64.186931 13.613262 \nL 73.93111 14.540522 \nL 83.675289 25.972934 \nL 93.419468 43.880995 \nL 103.163647 54.588303 \nL 112.907826 70.849408 \nL 122.652006 74.700368 \nL 132.396185 77.105612 \n\" clip-path=\"url(#pca5bad1fd9)\" style=\"fill: none; stroke: #1f77b4; stroke-width: 1.5; stroke-linecap: square\"/>\n   </g>\n   <g id=\"line2d_69\">\n    <path d=\"M 49.633125 13.565412 \nL 69.163125 13.731903 \nL 88.693125 41.119171 \nL 108.223125 69.430163 \nL 127.753125 71.593368 \n\" clip-path=\"url(#pca5bad1fd9)\" style=\"fill: none; stroke-dasharray: 5.55,2.4; stroke-dashoffset: 0; stroke: #ff7f0e; stroke-width: 1.5\"/>\n   </g>\n   <g id=\"line2d_70\">\n    <path d=\"M 49.633125 139.5 \nL 69.163125 136.914766 \nL 88.693125 125.1709 \nL 108.223125 114.247295 \nL 127.753125 114.213353 \n\" clip-path=\"url(#pca5bad1fd9)\" style=\"fill: none; stroke-dasharray: 9.6,2.4,1.5,2.4; stroke-dashoffset: 0; stroke: #2ca02c; stroke-width: 1.5\"/>\n   </g>\n   <g id=\"line2d_71\">\n    <path d=\"M 34.954394 13.5 \nL 44.698573 13.559547 \nL 54.442752 13.571503 \nL 64.186931 13.613262 \nL 73.93111 14.540522 \nL 83.675289 25.972934 \nL 93.419468 43.880995 \nL 103.163647 54.588303 \nL 112.907826 70.849408 \nL 122.652006 74.700368 \nL 132.396185 77.105612 \nL 142.140364 79.450894 \n\" clip-path=\"url(#pca5bad1fd9)\" style=\"fill: none; stroke: #1f77b4; stroke-width: 1.5; stroke-linecap: square\"/>\n   </g>\n   <g id=\"line2d_72\">\n    <path d=\"M 49.633125 13.565412 \nL 69.163125 13.731903 \nL 88.693125 41.119171 \nL 108.223125 69.430163 \nL 127.753125 71.593368 \n\" clip-path=\"url(#pca5bad1fd9)\" style=\"fill: none; stroke-dasharray: 5.55,2.4; stroke-dashoffset: 0; stroke: #ff7f0e; stroke-width: 1.5\"/>\n   </g>\n   <g id=\"line2d_73\">\n    <path d=\"M 49.633125 139.5 \nL 69.163125 136.914766 \nL 88.693125 125.1709 \nL 108.223125 114.247295 \nL 127.753125 114.213353 \n\" clip-path=\"url(#pca5bad1fd9)\" style=\"fill: none; stroke-dasharray: 9.6,2.4,1.5,2.4; stroke-dashoffset: 0; stroke: #2ca02c; stroke-width: 1.5\"/>\n   </g>\n   <g id=\"line2d_74\">\n    <path d=\"M 34.954394 13.5 \nL 44.698573 13.559547 \nL 54.442752 13.571503 \nL 64.186931 13.613262 \nL 73.93111 14.540522 \nL 83.675289 25.972934 \nL 93.419468 43.880995 \nL 103.163647 54.588303 \nL 112.907826 70.849408 \nL 122.652006 74.700368 \nL 132.396185 77.105612 \nL 142.140364 79.450894 \n\" clip-path=\"url(#pca5bad1fd9)\" style=\"fill: none; stroke: #1f77b4; stroke-width: 1.5; stroke-linecap: square\"/>\n   </g>\n   <g id=\"line2d_75\">\n    <path d=\"M 49.633125 13.565412 \nL 69.163125 13.731903 \nL 88.693125 41.119171 \nL 108.223125 69.430163 \nL 127.753125 71.593368 \nL 147.283125 82.440364 \n\" clip-path=\"url(#pca5bad1fd9)\" style=\"fill: none; stroke-dasharray: 5.55,2.4; stroke-dashoffset: 0; stroke: #ff7f0e; stroke-width: 1.5\"/>\n   </g>\n   <g id=\"line2d_76\">\n    <path d=\"M 49.633125 139.5 \nL 69.163125 136.914766 \nL 88.693125 125.1709 \nL 108.223125 114.247295 \nL 127.753125 114.213353 \n\" clip-path=\"url(#pca5bad1fd9)\" style=\"fill: none; stroke-dasharray: 9.6,2.4,1.5,2.4; stroke-dashoffset: 0; stroke: #2ca02c; stroke-width: 1.5\"/>\n   </g>\n   <g id=\"line2d_77\">\n    <path d=\"M 34.954394 13.5 \nL 44.698573 13.559547 \nL 54.442752 13.571503 \nL 64.186931 13.613262 \nL 73.93111 14.540522 \nL 83.675289 25.972934 \nL 93.419468 43.880995 \nL 103.163647 54.588303 \nL 112.907826 70.849408 \nL 122.652006 74.700368 \nL 132.396185 77.105612 \nL 142.140364 79.450894 \n\" clip-path=\"url(#pca5bad1fd9)\" style=\"fill: none; stroke: #1f77b4; stroke-width: 1.5; stroke-linecap: square\"/>\n   </g>\n   <g id=\"line2d_78\">\n    <path d=\"M 49.633125 13.565412 \nL 69.163125 13.731903 \nL 88.693125 41.119171 \nL 108.223125 69.430163 \nL 127.753125 71.593368 \nL 147.283125 82.440364 \n\" clip-path=\"url(#pca5bad1fd9)\" style=\"fill: none; stroke-dasharray: 5.55,2.4; stroke-dashoffset: 0; stroke: #ff7f0e; stroke-width: 1.5\"/>\n   </g>\n   <g id=\"line2d_79\">\n    <path d=\"M 49.633125 139.5 \nL 69.163125 136.914766 \nL 88.693125 125.1709 \nL 108.223125 114.247295 \nL 127.753125 114.213353 \nL 147.283125 108.646896 \n\" clip-path=\"url(#pca5bad1fd9)\" style=\"fill: none; stroke-dasharray: 9.6,2.4,1.5,2.4; stroke-dashoffset: 0; stroke: #2ca02c; stroke-width: 1.5\"/>\n   </g>\n   <g id=\"line2d_80\">\n    <path d=\"M 34.954394 13.5 \nL 44.698573 13.559547 \nL 54.442752 13.571503 \nL 64.186931 13.613262 \nL 73.93111 14.540522 \nL 83.675289 25.972934 \nL 93.419468 43.880995 \nL 103.163647 54.588303 \nL 112.907826 70.849408 \nL 122.652006 74.700368 \nL 132.396185 77.105612 \nL 142.140364 79.450894 \nL 151.884543 84.508748 \n\" clip-path=\"url(#pca5bad1fd9)\" style=\"fill: none; stroke: #1f77b4; stroke-width: 1.5; stroke-linecap: square\"/>\n   </g>\n   <g id=\"line2d_81\">\n    <path d=\"M 49.633125 13.565412 \nL 69.163125 13.731903 \nL 88.693125 41.119171 \nL 108.223125 69.430163 \nL 127.753125 71.593368 \nL 147.283125 82.440364 \n\" clip-path=\"url(#pca5bad1fd9)\" style=\"fill: none; stroke-dasharray: 5.55,2.4; stroke-dashoffset: 0; stroke: #ff7f0e; stroke-width: 1.5\"/>\n   </g>\n   <g id=\"line2d_82\">\n    <path d=\"M 49.633125 139.5 \nL 69.163125 136.914766 \nL 88.693125 125.1709 \nL 108.223125 114.247295 \nL 127.753125 114.213353 \nL 147.283125 108.646896 \n\" clip-path=\"url(#pca5bad1fd9)\" style=\"fill: none; stroke-dasharray: 9.6,2.4,1.5,2.4; stroke-dashoffset: 0; stroke: #2ca02c; stroke-width: 1.5\"/>\n   </g>\n   <g id=\"line2d_83\">\n    <path d=\"M 34.954394 13.5 \nL 44.698573 13.559547 \nL 54.442752 13.571503 \nL 64.186931 13.613262 \nL 73.93111 14.540522 \nL 83.675289 25.972934 \nL 93.419468 43.880995 \nL 103.163647 54.588303 \nL 112.907826 70.849408 \nL 122.652006 74.700368 \nL 132.396185 77.105612 \nL 142.140364 79.450894 \nL 151.884543 84.508748 \nL 161.628722 50.01794 \n\" clip-path=\"url(#pca5bad1fd9)\" style=\"fill: none; stroke: #1f77b4; stroke-width: 1.5; stroke-linecap: square\"/>\n   </g>\n   <g id=\"line2d_84\">\n    <path d=\"M 49.633125 13.565412 \nL 69.163125 13.731903 \nL 88.693125 41.119171 \nL 108.223125 69.430163 \nL 127.753125 71.593368 \nL 147.283125 82.440364 \n\" clip-path=\"url(#pca5bad1fd9)\" style=\"fill: none; stroke-dasharray: 5.55,2.4; stroke-dashoffset: 0; stroke: #ff7f0e; stroke-width: 1.5\"/>\n   </g>\n   <g id=\"line2d_85\">\n    <path d=\"M 49.633125 139.5 \nL 69.163125 136.914766 \nL 88.693125 125.1709 \nL 108.223125 114.247295 \nL 127.753125 114.213353 \nL 147.283125 108.646896 \n\" clip-path=\"url(#pca5bad1fd9)\" style=\"fill: none; stroke-dasharray: 9.6,2.4,1.5,2.4; stroke-dashoffset: 0; stroke: #2ca02c; stroke-width: 1.5\"/>\n   </g>\n   <g id=\"line2d_86\">\n    <path d=\"M 34.954394 13.5 \nL 44.698573 13.559547 \nL 54.442752 13.571503 \nL 64.186931 13.613262 \nL 73.93111 14.540522 \nL 83.675289 25.972934 \nL 93.419468 43.880995 \nL 103.163647 54.588303 \nL 112.907826 70.849408 \nL 122.652006 74.700368 \nL 132.396185 77.105612 \nL 142.140364 79.450894 \nL 151.884543 84.508748 \nL 161.628722 50.01794 \n\" clip-path=\"url(#pca5bad1fd9)\" style=\"fill: none; stroke: #1f77b4; stroke-width: 1.5; stroke-linecap: square\"/>\n   </g>\n   <g id=\"line2d_87\">\n    <path d=\"M 49.633125 13.565412 \nL 69.163125 13.731903 \nL 88.693125 41.119171 \nL 108.223125 69.430163 \nL 127.753125 71.593368 \nL 147.283125 82.440364 \nL 166.813125 47.116183 \n\" clip-path=\"url(#pca5bad1fd9)\" style=\"fill: none; stroke-dasharray: 5.55,2.4; stroke-dashoffset: 0; stroke: #ff7f0e; stroke-width: 1.5\"/>\n   </g>\n   <g id=\"line2d_88\">\n    <path d=\"M 49.633125 139.5 \nL 69.163125 136.914766 \nL 88.693125 125.1709 \nL 108.223125 114.247295 \nL 127.753125 114.213353 \nL 147.283125 108.646896 \n\" clip-path=\"url(#pca5bad1fd9)\" style=\"fill: none; stroke-dasharray: 9.6,2.4,1.5,2.4; stroke-dashoffset: 0; stroke: #2ca02c; stroke-width: 1.5\"/>\n   </g>\n   <g id=\"line2d_89\">\n    <path d=\"M 34.954394 13.5 \nL 44.698573 13.559547 \nL 54.442752 13.571503 \nL 64.186931 13.613262 \nL 73.93111 14.540522 \nL 83.675289 25.972934 \nL 93.419468 43.880995 \nL 103.163647 54.588303 \nL 112.907826 70.849408 \nL 122.652006 74.700368 \nL 132.396185 77.105612 \nL 142.140364 79.450894 \nL 151.884543 84.508748 \nL 161.628722 50.01794 \n\" clip-path=\"url(#pca5bad1fd9)\" style=\"fill: none; stroke: #1f77b4; stroke-width: 1.5; stroke-linecap: square\"/>\n   </g>\n   <g id=\"line2d_90\">\n    <path d=\"M 49.633125 13.565412 \nL 69.163125 13.731903 \nL 88.693125 41.119171 \nL 108.223125 69.430163 \nL 127.753125 71.593368 \nL 147.283125 82.440364 \nL 166.813125 47.116183 \n\" clip-path=\"url(#pca5bad1fd9)\" style=\"fill: none; stroke-dasharray: 5.55,2.4; stroke-dashoffset: 0; stroke: #ff7f0e; stroke-width: 1.5\"/>\n   </g>\n   <g id=\"line2d_91\">\n    <path d=\"M 49.633125 139.5 \nL 69.163125 136.914766 \nL 88.693125 125.1709 \nL 108.223125 114.247295 \nL 127.753125 114.213353 \nL 147.283125 108.646896 \nL 166.813125 127.015072 \n\" clip-path=\"url(#pca5bad1fd9)\" style=\"fill: none; stroke-dasharray: 9.6,2.4,1.5,2.4; stroke-dashoffset: 0; stroke: #2ca02c; stroke-width: 1.5\"/>\n   </g>\n   <g id=\"line2d_92\">\n    <path d=\"M 34.954394 13.5 \nL 44.698573 13.559547 \nL 54.442752 13.571503 \nL 64.186931 13.613262 \nL 73.93111 14.540522 \nL 83.675289 25.972934 \nL 93.419468 43.880995 \nL 103.163647 54.588303 \nL 112.907826 70.849408 \nL 122.652006 74.700368 \nL 132.396185 77.105612 \nL 142.140364 79.450894 \nL 151.884543 84.508748 \nL 161.628722 50.01794 \nL 171.372901 56.179276 \n\" clip-path=\"url(#pca5bad1fd9)\" style=\"fill: none; stroke: #1f77b4; stroke-width: 1.5; stroke-linecap: square\"/>\n   </g>\n   <g id=\"line2d_93\">\n    <path d=\"M 49.633125 13.565412 \nL 69.163125 13.731903 \nL 88.693125 41.119171 \nL 108.223125 69.430163 \nL 127.753125 71.593368 \nL 147.283125 82.440364 \nL 166.813125 47.116183 \n\" clip-path=\"url(#pca5bad1fd9)\" style=\"fill: none; stroke-dasharray: 5.55,2.4; stroke-dashoffset: 0; stroke: #ff7f0e; stroke-width: 1.5\"/>\n   </g>\n   <g id=\"line2d_94\">\n    <path d=\"M 49.633125 139.5 \nL 69.163125 136.914766 \nL 88.693125 125.1709 \nL 108.223125 114.247295 \nL 127.753125 114.213353 \nL 147.283125 108.646896 \nL 166.813125 127.015072 \n\" clip-path=\"url(#pca5bad1fd9)\" style=\"fill: none; stroke-dasharray: 9.6,2.4,1.5,2.4; stroke-dashoffset: 0; stroke: #2ca02c; stroke-width: 1.5\"/>\n   </g>\n   <g id=\"line2d_95\">\n    <path d=\"M 34.954394 13.5 \nL 44.698573 13.559547 \nL 54.442752 13.571503 \nL 64.186931 13.613262 \nL 73.93111 14.540522 \nL 83.675289 25.972934 \nL 93.419468 43.880995 \nL 103.163647 54.588303 \nL 112.907826 70.849408 \nL 122.652006 74.700368 \nL 132.396185 77.105612 \nL 142.140364 79.450894 \nL 151.884543 84.508748 \nL 161.628722 50.01794 \nL 171.372901 56.179276 \nL 181.11708 63.947236 \n\" clip-path=\"url(#pca5bad1fd9)\" style=\"fill: none; stroke: #1f77b4; stroke-width: 1.5; stroke-linecap: square\"/>\n   </g>\n   <g id=\"line2d_96\">\n    <path d=\"M 49.633125 13.565412 \nL 69.163125 13.731903 \nL 88.693125 41.119171 \nL 108.223125 69.430163 \nL 127.753125 71.593368 \nL 147.283125 82.440364 \nL 166.813125 47.116183 \n\" clip-path=\"url(#pca5bad1fd9)\" style=\"fill: none; stroke-dasharray: 5.55,2.4; stroke-dashoffset: 0; stroke: #ff7f0e; stroke-width: 1.5\"/>\n   </g>\n   <g id=\"line2d_97\">\n    <path d=\"M 49.633125 139.5 \nL 69.163125 136.914766 \nL 88.693125 125.1709 \nL 108.223125 114.247295 \nL 127.753125 114.213353 \nL 147.283125 108.646896 \nL 166.813125 127.015072 \n\" clip-path=\"url(#pca5bad1fd9)\" style=\"fill: none; stroke-dasharray: 9.6,2.4,1.5,2.4; stroke-dashoffset: 0; stroke: #2ca02c; stroke-width: 1.5\"/>\n   </g>\n   <g id=\"line2d_98\">\n    <path d=\"M 34.954394 13.5 \nL 44.698573 13.559547 \nL 54.442752 13.571503 \nL 64.186931 13.613262 \nL 73.93111 14.540522 \nL 83.675289 25.972934 \nL 93.419468 43.880995 \nL 103.163647 54.588303 \nL 112.907826 70.849408 \nL 122.652006 74.700368 \nL 132.396185 77.105612 \nL 142.140364 79.450894 \nL 151.884543 84.508748 \nL 161.628722 50.01794 \nL 171.372901 56.179276 \nL 181.11708 63.947236 \n\" clip-path=\"url(#pca5bad1fd9)\" style=\"fill: none; stroke: #1f77b4; stroke-width: 1.5; stroke-linecap: square\"/>\n   </g>\n   <g id=\"line2d_99\">\n    <path d=\"M 49.633125 13.565412 \nL 69.163125 13.731903 \nL 88.693125 41.119171 \nL 108.223125 69.430163 \nL 127.753125 71.593368 \nL 147.283125 82.440364 \nL 166.813125 47.116183 \nL 186.343125 66.702629 \n\" clip-path=\"url(#pca5bad1fd9)\" style=\"fill: none; stroke-dasharray: 5.55,2.4; stroke-dashoffset: 0; stroke: #ff7f0e; stroke-width: 1.5\"/>\n   </g>\n   <g id=\"line2d_100\">\n    <path d=\"M 49.633125 139.5 \nL 69.163125 136.914766 \nL 88.693125 125.1709 \nL 108.223125 114.247295 \nL 127.753125 114.213353 \nL 147.283125 108.646896 \nL 166.813125 127.015072 \n\" clip-path=\"url(#pca5bad1fd9)\" style=\"fill: none; stroke-dasharray: 9.6,2.4,1.5,2.4; stroke-dashoffset: 0; stroke: #2ca02c; stroke-width: 1.5\"/>\n   </g>\n   <g id=\"line2d_101\">\n    <path d=\"M 34.954394 13.5 \nL 44.698573 13.559547 \nL 54.442752 13.571503 \nL 64.186931 13.613262 \nL 73.93111 14.540522 \nL 83.675289 25.972934 \nL 93.419468 43.880995 \nL 103.163647 54.588303 \nL 112.907826 70.849408 \nL 122.652006 74.700368 \nL 132.396185 77.105612 \nL 142.140364 79.450894 \nL 151.884543 84.508748 \nL 161.628722 50.01794 \nL 171.372901 56.179276 \nL 181.11708 63.947236 \n\" clip-path=\"url(#pca5bad1fd9)\" style=\"fill: none; stroke: #1f77b4; stroke-width: 1.5; stroke-linecap: square\"/>\n   </g>\n   <g id=\"line2d_102\">\n    <path d=\"M 49.633125 13.565412 \nL 69.163125 13.731903 \nL 88.693125 41.119171 \nL 108.223125 69.430163 \nL 127.753125 71.593368 \nL 147.283125 82.440364 \nL 166.813125 47.116183 \nL 186.343125 66.702629 \n\" clip-path=\"url(#pca5bad1fd9)\" style=\"fill: none; stroke-dasharray: 5.55,2.4; stroke-dashoffset: 0; stroke: #ff7f0e; stroke-width: 1.5\"/>\n   </g>\n   <g id=\"line2d_103\">\n    <path d=\"M 49.633125 139.5 \nL 69.163125 136.914766 \nL 88.693125 125.1709 \nL 108.223125 114.247295 \nL 127.753125 114.213353 \nL 147.283125 108.646896 \nL 166.813125 127.015072 \nL 186.343125 116.589279 \n\" clip-path=\"url(#pca5bad1fd9)\" style=\"fill: none; stroke-dasharray: 9.6,2.4,1.5,2.4; stroke-dashoffset: 0; stroke: #2ca02c; stroke-width: 1.5\"/>\n   </g>\n   <g id=\"line2d_104\">\n    <path d=\"M 34.954394 13.5 \nL 44.698573 13.559547 \nL 54.442752 13.571503 \nL 64.186931 13.613262 \nL 73.93111 14.540522 \nL 83.675289 25.972934 \nL 93.419468 43.880995 \nL 103.163647 54.588303 \nL 112.907826 70.849408 \nL 122.652006 74.700368 \nL 132.396185 77.105612 \nL 142.140364 79.450894 \nL 151.884543 84.508748 \nL 161.628722 50.01794 \nL 171.372901 56.179276 \nL 181.11708 63.947236 \nL 190.861259 68.04347 \n\" clip-path=\"url(#pca5bad1fd9)\" style=\"fill: none; stroke: #1f77b4; stroke-width: 1.5; stroke-linecap: square\"/>\n   </g>\n   <g id=\"line2d_105\">\n    <path d=\"M 49.633125 13.565412 \nL 69.163125 13.731903 \nL 88.693125 41.119171 \nL 108.223125 69.430163 \nL 127.753125 71.593368 \nL 147.283125 82.440364 \nL 166.813125 47.116183 \nL 186.343125 66.702629 \n\" clip-path=\"url(#pca5bad1fd9)\" style=\"fill: none; stroke-dasharray: 5.55,2.4; stroke-dashoffset: 0; stroke: #ff7f0e; stroke-width: 1.5\"/>\n   </g>\n   <g id=\"line2d_106\">\n    <path d=\"M 49.633125 139.5 \nL 69.163125 136.914766 \nL 88.693125 125.1709 \nL 108.223125 114.247295 \nL 127.753125 114.213353 \nL 147.283125 108.646896 \nL 166.813125 127.015072 \nL 186.343125 116.589279 \n\" clip-path=\"url(#pca5bad1fd9)\" style=\"fill: none; stroke-dasharray: 9.6,2.4,1.5,2.4; stroke-dashoffset: 0; stroke: #2ca02c; stroke-width: 1.5\"/>\n   </g>\n   <g id=\"line2d_107\">\n    <path d=\"M 34.954394 13.5 \nL 44.698573 13.559547 \nL 54.442752 13.571503 \nL 64.186931 13.613262 \nL 73.93111 14.540522 \nL 83.675289 25.972934 \nL 93.419468 43.880995 \nL 103.163647 54.588303 \nL 112.907826 70.849408 \nL 122.652006 74.700368 \nL 132.396185 77.105612 \nL 142.140364 79.450894 \nL 151.884543 84.508748 \nL 161.628722 50.01794 \nL 171.372901 56.179276 \nL 181.11708 63.947236 \nL 190.861259 68.04347 \nL 200.605438 74.31409 \n\" clip-path=\"url(#pca5bad1fd9)\" style=\"fill: none; stroke: #1f77b4; stroke-width: 1.5; stroke-linecap: square\"/>\n   </g>\n   <g id=\"line2d_108\">\n    <path d=\"M 49.633125 13.565412 \nL 69.163125 13.731903 \nL 88.693125 41.119171 \nL 108.223125 69.430163 \nL 127.753125 71.593368 \nL 147.283125 82.440364 \nL 166.813125 47.116183 \nL 186.343125 66.702629 \n\" clip-path=\"url(#pca5bad1fd9)\" style=\"fill: none; stroke-dasharray: 5.55,2.4; stroke-dashoffset: 0; stroke: #ff7f0e; stroke-width: 1.5\"/>\n   </g>\n   <g id=\"line2d_109\">\n    <path d=\"M 49.633125 139.5 \nL 69.163125 136.914766 \nL 88.693125 125.1709 \nL 108.223125 114.247295 \nL 127.753125 114.213353 \nL 147.283125 108.646896 \nL 166.813125 127.015072 \nL 186.343125 116.589279 \n\" clip-path=\"url(#pca5bad1fd9)\" style=\"fill: none; stroke-dasharray: 9.6,2.4,1.5,2.4; stroke-dashoffset: 0; stroke: #2ca02c; stroke-width: 1.5\"/>\n   </g>\n   <g id=\"line2d_110\">\n    <path d=\"M 34.954394 13.5 \nL 44.698573 13.559547 \nL 54.442752 13.571503 \nL 64.186931 13.613262 \nL 73.93111 14.540522 \nL 83.675289 25.972934 \nL 93.419468 43.880995 \nL 103.163647 54.588303 \nL 112.907826 70.849408 \nL 122.652006 74.700368 \nL 132.396185 77.105612 \nL 142.140364 79.450894 \nL 151.884543 84.508748 \nL 161.628722 50.01794 \nL 171.372901 56.179276 \nL 181.11708 63.947236 \nL 190.861259 68.04347 \nL 200.605438 74.31409 \n\" clip-path=\"url(#pca5bad1fd9)\" style=\"fill: none; stroke: #1f77b4; stroke-width: 1.5; stroke-linecap: square\"/>\n   </g>\n   <g id=\"line2d_111\">\n    <path d=\"M 49.633125 13.565412 \nL 69.163125 13.731903 \nL 88.693125 41.119171 \nL 108.223125 69.430163 \nL 127.753125 71.593368 \nL 147.283125 82.440364 \nL 166.813125 47.116183 \nL 186.343125 66.702629 \nL 205.873125 76.769146 \n\" clip-path=\"url(#pca5bad1fd9)\" style=\"fill: none; stroke-dasharray: 5.55,2.4; stroke-dashoffset: 0; stroke: #ff7f0e; stroke-width: 1.5\"/>\n   </g>\n   <g id=\"line2d_112\">\n    <path d=\"M 49.633125 139.5 \nL 69.163125 136.914766 \nL 88.693125 125.1709 \nL 108.223125 114.247295 \nL 127.753125 114.213353 \nL 147.283125 108.646896 \nL 166.813125 127.015072 \nL 186.343125 116.589279 \n\" clip-path=\"url(#pca5bad1fd9)\" style=\"fill: none; stroke-dasharray: 9.6,2.4,1.5,2.4; stroke-dashoffset: 0; stroke: #2ca02c; stroke-width: 1.5\"/>\n   </g>\n   <g id=\"line2d_113\">\n    <path d=\"M 34.954394 13.5 \nL 44.698573 13.559547 \nL 54.442752 13.571503 \nL 64.186931 13.613262 \nL 73.93111 14.540522 \nL 83.675289 25.972934 \nL 93.419468 43.880995 \nL 103.163647 54.588303 \nL 112.907826 70.849408 \nL 122.652006 74.700368 \nL 132.396185 77.105612 \nL 142.140364 79.450894 \nL 151.884543 84.508748 \nL 161.628722 50.01794 \nL 171.372901 56.179276 \nL 181.11708 63.947236 \nL 190.861259 68.04347 \nL 200.605438 74.31409 \n\" clip-path=\"url(#pca5bad1fd9)\" style=\"fill: none; stroke: #1f77b4; stroke-width: 1.5; stroke-linecap: square\"/>\n   </g>\n   <g id=\"line2d_114\">\n    <path d=\"M 49.633125 13.565412 \nL 69.163125 13.731903 \nL 88.693125 41.119171 \nL 108.223125 69.430163 \nL 127.753125 71.593368 \nL 147.283125 82.440364 \nL 166.813125 47.116183 \nL 186.343125 66.702629 \nL 205.873125 76.769146 \n\" clip-path=\"url(#pca5bad1fd9)\" style=\"fill: none; stroke-dasharray: 5.55,2.4; stroke-dashoffset: 0; stroke: #ff7f0e; stroke-width: 1.5\"/>\n   </g>\n   <g id=\"line2d_115\">\n    <path d=\"M 49.633125 139.5 \nL 69.163125 136.914766 \nL 88.693125 125.1709 \nL 108.223125 114.247295 \nL 127.753125 114.213353 \nL 147.283125 108.646896 \nL 166.813125 127.015072 \nL 186.343125 116.589279 \nL 205.873125 111.826112 \n\" clip-path=\"url(#pca5bad1fd9)\" style=\"fill: none; stroke-dasharray: 9.6,2.4,1.5,2.4; stroke-dashoffset: 0; stroke: #2ca02c; stroke-width: 1.5\"/>\n   </g>\n   <g id=\"line2d_116\">\n    <path d=\"M 34.954394 13.5 \nL 44.698573 13.559547 \nL 54.442752 13.571503 \nL 64.186931 13.613262 \nL 73.93111 14.540522 \nL 83.675289 25.972934 \nL 93.419468 43.880995 \nL 103.163647 54.588303 \nL 112.907826 70.849408 \nL 122.652006 74.700368 \nL 132.396185 77.105612 \nL 142.140364 79.450894 \nL 151.884543 84.508748 \nL 161.628722 50.01794 \nL 171.372901 56.179276 \nL 181.11708 63.947236 \nL 190.861259 68.04347 \nL 200.605438 74.31409 \nL 210.349618 77.19595 \n\" clip-path=\"url(#pca5bad1fd9)\" style=\"fill: none; stroke: #1f77b4; stroke-width: 1.5; stroke-linecap: square\"/>\n   </g>\n   <g id=\"line2d_117\">\n    <path d=\"M 49.633125 13.565412 \nL 69.163125 13.731903 \nL 88.693125 41.119171 \nL 108.223125 69.430163 \nL 127.753125 71.593368 \nL 147.283125 82.440364 \nL 166.813125 47.116183 \nL 186.343125 66.702629 \nL 205.873125 76.769146 \n\" clip-path=\"url(#pca5bad1fd9)\" style=\"fill: none; stroke-dasharray: 5.55,2.4; stroke-dashoffset: 0; stroke: #ff7f0e; stroke-width: 1.5\"/>\n   </g>\n   <g id=\"line2d_118\">\n    <path d=\"M 49.633125 139.5 \nL 69.163125 136.914766 \nL 88.693125 125.1709 \nL 108.223125 114.247295 \nL 127.753125 114.213353 \nL 147.283125 108.646896 \nL 166.813125 127.015072 \nL 186.343125 116.589279 \nL 205.873125 111.826112 \n\" clip-path=\"url(#pca5bad1fd9)\" style=\"fill: none; stroke-dasharray: 9.6,2.4,1.5,2.4; stroke-dashoffset: 0; stroke: #2ca02c; stroke-width: 1.5\"/>\n   </g>\n   <g id=\"line2d_119\">\n    <path d=\"M 34.954394 13.5 \nL 44.698573 13.559547 \nL 54.442752 13.571503 \nL 64.186931 13.613262 \nL 73.93111 14.540522 \nL 83.675289 25.972934 \nL 93.419468 43.880995 \nL 103.163647 54.588303 \nL 112.907826 70.849408 \nL 122.652006 74.700368 \nL 132.396185 77.105612 \nL 142.140364 79.450894 \nL 151.884543 84.508748 \nL 161.628722 50.01794 \nL 171.372901 56.179276 \nL 181.11708 63.947236 \nL 190.861259 68.04347 \nL 200.605438 74.31409 \nL 210.349618 77.19595 \nL 220.093797 78.840296 \n\" clip-path=\"url(#pca5bad1fd9)\" style=\"fill: none; stroke: #1f77b4; stroke-width: 1.5; stroke-linecap: square\"/>\n   </g>\n   <g id=\"line2d_120\">\n    <path d=\"M 49.633125 13.565412 \nL 69.163125 13.731903 \nL 88.693125 41.119171 \nL 108.223125 69.430163 \nL 127.753125 71.593368 \nL 147.283125 82.440364 \nL 166.813125 47.116183 \nL 186.343125 66.702629 \nL 205.873125 76.769146 \n\" clip-path=\"url(#pca5bad1fd9)\" style=\"fill: none; stroke-dasharray: 5.55,2.4; stroke-dashoffset: 0; stroke: #ff7f0e; stroke-width: 1.5\"/>\n   </g>\n   <g id=\"line2d_121\">\n    <path d=\"M 49.633125 139.5 \nL 69.163125 136.914766 \nL 88.693125 125.1709 \nL 108.223125 114.247295 \nL 127.753125 114.213353 \nL 147.283125 108.646896 \nL 166.813125 127.015072 \nL 186.343125 116.589279 \nL 205.873125 111.826112 \n\" clip-path=\"url(#pca5bad1fd9)\" style=\"fill: none; stroke-dasharray: 9.6,2.4,1.5,2.4; stroke-dashoffset: 0; stroke: #2ca02c; stroke-width: 1.5\"/>\n   </g>\n   <g id=\"line2d_122\">\n    <path d=\"M 34.954394 13.5 \nL 44.698573 13.559547 \nL 54.442752 13.571503 \nL 64.186931 13.613262 \nL 73.93111 14.540522 \nL 83.675289 25.972934 \nL 93.419468 43.880995 \nL 103.163647 54.588303 \nL 112.907826 70.849408 \nL 122.652006 74.700368 \nL 132.396185 77.105612 \nL 142.140364 79.450894 \nL 151.884543 84.508748 \nL 161.628722 50.01794 \nL 171.372901 56.179276 \nL 181.11708 63.947236 \nL 190.861259 68.04347 \nL 200.605438 74.31409 \nL 210.349618 77.19595 \nL 220.093797 78.840296 \n\" clip-path=\"url(#pca5bad1fd9)\" style=\"fill: none; stroke: #1f77b4; stroke-width: 1.5; stroke-linecap: square\"/>\n   </g>\n   <g id=\"line2d_123\">\n    <path d=\"M 49.633125 13.565412 \nL 69.163125 13.731903 \nL 88.693125 41.119171 \nL 108.223125 69.430163 \nL 127.753125 71.593368 \nL 147.283125 82.440364 \nL 166.813125 47.116183 \nL 186.343125 66.702629 \nL 205.873125 76.769146 \nL 225.403125 78.476778 \n\" clip-path=\"url(#pca5bad1fd9)\" style=\"fill: none; stroke-dasharray: 5.55,2.4; stroke-dashoffset: 0; stroke: #ff7f0e; stroke-width: 1.5\"/>\n   </g>\n   <g id=\"line2d_124\">\n    <path d=\"M 49.633125 139.5 \nL 69.163125 136.914766 \nL 88.693125 125.1709 \nL 108.223125 114.247295 \nL 127.753125 114.213353 \nL 147.283125 108.646896 \nL 166.813125 127.015072 \nL 186.343125 116.589279 \nL 205.873125 111.826112 \n\" clip-path=\"url(#pca5bad1fd9)\" style=\"fill: none; stroke-dasharray: 9.6,2.4,1.5,2.4; stroke-dashoffset: 0; stroke: #2ca02c; stroke-width: 1.5\"/>\n   </g>\n   <g id=\"line2d_125\">\n    <path d=\"M 34.954394 13.5 \nL 44.698573 13.559547 \nL 54.442752 13.571503 \nL 64.186931 13.613262 \nL 73.93111 14.540522 \nL 83.675289 25.972934 \nL 93.419468 43.880995 \nL 103.163647 54.588303 \nL 112.907826 70.849408 \nL 122.652006 74.700368 \nL 132.396185 77.105612 \nL 142.140364 79.450894 \nL 151.884543 84.508748 \nL 161.628722 50.01794 \nL 171.372901 56.179276 \nL 181.11708 63.947236 \nL 190.861259 68.04347 \nL 200.605438 74.31409 \nL 210.349618 77.19595 \nL 220.093797 78.840296 \n\" clip-path=\"url(#pca5bad1fd9)\" style=\"fill: none; stroke: #1f77b4; stroke-width: 1.5; stroke-linecap: square\"/>\n   </g>\n   <g id=\"line2d_126\">\n    <path d=\"M 49.633125 13.565412 \nL 69.163125 13.731903 \nL 88.693125 41.119171 \nL 108.223125 69.430163 \nL 127.753125 71.593368 \nL 147.283125 82.440364 \nL 166.813125 47.116183 \nL 186.343125 66.702629 \nL 205.873125 76.769146 \nL 225.403125 78.476778 \n\" clip-path=\"url(#pca5bad1fd9)\" style=\"fill: none; stroke-dasharray: 5.55,2.4; stroke-dashoffset: 0; stroke: #ff7f0e; stroke-width: 1.5\"/>\n   </g>\n   <g id=\"line2d_127\">\n    <path d=\"M 49.633125 139.5 \nL 69.163125 136.914766 \nL 88.693125 125.1709 \nL 108.223125 114.247295 \nL 127.753125 114.213353 \nL 147.283125 108.646896 \nL 166.813125 127.015072 \nL 186.343125 116.589279 \nL 205.873125 111.826112 \nL 225.403125 110.97191 \n\" clip-path=\"url(#pca5bad1fd9)\" style=\"fill: none; stroke-dasharray: 9.6,2.4,1.5,2.4; stroke-dashoffset: 0; stroke: #2ca02c; stroke-width: 1.5\"/>\n   </g>\n   <g id=\"patch_3\">\n    <path d=\"M 30.103125 145.8 \nL 30.103125 7.2 \n\" style=\"fill: none; stroke: #000000; stroke-width: 0.8; stroke-linejoin: miter; stroke-linecap: square\"/>\n   </g>\n   <g id=\"patch_4\">\n    <path d=\"M 225.403125 145.8 \nL 225.403125 7.2 \n\" style=\"fill: none; stroke: #000000; stroke-width: 0.8; stroke-linejoin: miter; stroke-linecap: square\"/>\n   </g>\n   <g id=\"patch_5\">\n    <path d=\"M 30.103125 145.8 \nL 225.403125 145.8 \n\" style=\"fill: none; stroke: #000000; stroke-width: 0.8; stroke-linejoin: miter; stroke-linecap: square\"/>\n   </g>\n   <g id=\"patch_6\">\n    <path d=\"M 30.103125 7.2 \nL 225.403125 7.2 \n\" style=\"fill: none; stroke: #000000; stroke-width: 0.8; stroke-linejoin: miter; stroke-linecap: square\"/>\n   </g>\n   <g id=\"legend_1\">\n    <g id=\"patch_7\">\n     <path d=\"M 138.8125 140.8 \nL 218.403125 140.8 \nQ 220.403125 140.8 220.403125 138.8 \nL 220.403125 94.93125 \nQ 220.403125 92.93125 218.403125 92.93125 \nL 138.8125 92.93125 \nQ 136.8125 92.93125 136.8125 94.93125 \nL 136.8125 138.8 \nQ 136.8125 140.8 138.8125 140.8 \nz\n\" style=\"fill: #ffffff; opacity: 0.8; stroke: #cccccc; stroke-linejoin: miter\"/>\n    </g>\n    <g id=\"line2d_128\">\n     <path d=\"M 140.8125 101.029688 \nL 150.8125 101.029688 \nL 160.8125 101.029688 \n\" style=\"fill: none; stroke: #1f77b4; stroke-width: 1.5; stroke-linecap: square\"/>\n    </g>\n    <g id=\"text_13\">\n     <!-- train_loss -->\n     <g transform=\"translate(168.8125 104.529688) scale(0.1 -0.1)\">\n      <defs>\n       <path id=\"DejaVuSans-74\" d=\"M 1172 4494 \nL 1172 3500 \nL 2356 3500 \nL 2356 3053 \nL 1172 3053 \nL 1172 1153 \nQ 1172 725 1289 603 \nQ 1406 481 1766 481 \nL 2356 481 \nL 2356 0 \nL 1766 0 \nQ 1100 0 847 248 \nQ 594 497 594 1153 \nL 594 3053 \nL 172 3053 \nL 172 3500 \nL 594 3500 \nL 594 4494 \nL 1172 4494 \nz\n\" transform=\"scale(0.015625)\"/>\n       <path id=\"DejaVuSans-72\" d=\"M 2631 2963 \nQ 2534 3019 2420 3045 \nQ 2306 3072 2169 3072 \nQ 1681 3072 1420 2755 \nQ 1159 2438 1159 1844 \nL 1159 0 \nL 581 0 \nL 581 3500 \nL 1159 3500 \nL 1159 2956 \nQ 1341 3275 1631 3429 \nQ 1922 3584 2338 3584 \nQ 2397 3584 2469 3576 \nQ 2541 3569 2628 3553 \nL 2631 2963 \nz\n\" transform=\"scale(0.015625)\"/>\n       <path id=\"DejaVuSans-61\" d=\"M 2194 1759 \nQ 1497 1759 1228 1600 \nQ 959 1441 959 1056 \nQ 959 750 1161 570 \nQ 1363 391 1709 391 \nQ 2188 391 2477 730 \nQ 2766 1069 2766 1631 \nL 2766 1759 \nL 2194 1759 \nz\nM 3341 1997 \nL 3341 0 \nL 2766 0 \nL 2766 531 \nQ 2569 213 2275 61 \nQ 1981 -91 1556 -91 \nQ 1019 -91 701 211 \nQ 384 513 384 1019 \nQ 384 1609 779 1909 \nQ 1175 2209 1959 2209 \nL 2766 2209 \nL 2766 2266 \nQ 2766 2663 2505 2880 \nQ 2244 3097 1772 3097 \nQ 1472 3097 1187 3025 \nQ 903 2953 641 2809 \nL 641 3341 \nQ 956 3463 1253 3523 \nQ 1550 3584 1831 3584 \nQ 2591 3584 2966 3190 \nQ 3341 2797 3341 1997 \nz\n\" transform=\"scale(0.015625)\"/>\n       <path id=\"DejaVuSans-69\" d=\"M 603 3500 \nL 1178 3500 \nL 1178 0 \nL 603 0 \nL 603 3500 \nz\nM 603 4863 \nL 1178 4863 \nL 1178 4134 \nL 603 4134 \nL 603 4863 \nz\n\" transform=\"scale(0.015625)\"/>\n       <path id=\"DejaVuSans-6e\" d=\"M 3513 2113 \nL 3513 0 \nL 2938 0 \nL 2938 2094 \nQ 2938 2591 2744 2837 \nQ 2550 3084 2163 3084 \nQ 1697 3084 1428 2787 \nQ 1159 2491 1159 1978 \nL 1159 0 \nL 581 0 \nL 581 3500 \nL 1159 3500 \nL 1159 2956 \nQ 1366 3272 1645 3428 \nQ 1925 3584 2291 3584 \nQ 2894 3584 3203 3211 \nQ 3513 2838 3513 2113 \nz\n\" transform=\"scale(0.015625)\"/>\n       <path id=\"DejaVuSans-5f\" d=\"M 3263 -1063 \nL 3263 -1509 \nL -63 -1509 \nL -63 -1063 \nL 3263 -1063 \nz\n\" transform=\"scale(0.015625)\"/>\n       <path id=\"DejaVuSans-6c\" d=\"M 603 4863 \nL 1178 4863 \nL 1178 0 \nL 603 0 \nL 603 4863 \nz\n\" transform=\"scale(0.015625)\"/>\n       <path id=\"DejaVuSans-73\" d=\"M 2834 3397 \nL 2834 2853 \nQ 2591 2978 2328 3040 \nQ 2066 3103 1784 3103 \nQ 1356 3103 1142 2972 \nQ 928 2841 928 2578 \nQ 928 2378 1081 2264 \nQ 1234 2150 1697 2047 \nL 1894 2003 \nQ 2506 1872 2764 1633 \nQ 3022 1394 3022 966 \nQ 3022 478 2636 193 \nQ 2250 -91 1575 -91 \nQ 1294 -91 989 -36 \nQ 684 19 347 128 \nL 347 722 \nQ 666 556 975 473 \nQ 1284 391 1588 391 \nQ 1994 391 2212 530 \nQ 2431 669 2431 922 \nQ 2431 1156 2273 1281 \nQ 2116 1406 1581 1522 \nL 1381 1569 \nQ 847 1681 609 1914 \nQ 372 2147 372 2553 \nQ 372 3047 722 3315 \nQ 1072 3584 1716 3584 \nQ 2034 3584 2315 3537 \nQ 2597 3491 2834 3397 \nz\n\" transform=\"scale(0.015625)\"/>\n      </defs>\n      <use xlink:href=\"#DejaVuSans-74\"/>\n      <use xlink:href=\"#DejaVuSans-72\" x=\"39.208984\"/>\n      <use xlink:href=\"#DejaVuSans-61\" x=\"80.322266\"/>\n      <use xlink:href=\"#DejaVuSans-69\" x=\"141.601562\"/>\n      <use xlink:href=\"#DejaVuSans-6e\" x=\"169.384766\"/>\n      <use xlink:href=\"#DejaVuSans-5f\" x=\"232.763672\"/>\n      <use xlink:href=\"#DejaVuSans-6c\" x=\"282.763672\"/>\n      <use xlink:href=\"#DejaVuSans-6f\" x=\"310.546875\"/>\n      <use xlink:href=\"#DejaVuSans-73\" x=\"371.728516\"/>\n      <use xlink:href=\"#DejaVuSans-73\" x=\"423.828125\"/>\n     </g>\n    </g>\n    <g id=\"line2d_129\">\n     <path d=\"M 140.8125 115.985938 \nL 150.8125 115.985938 \nL 160.8125 115.985938 \n\" style=\"fill: none; stroke-dasharray: 5.55,2.4; stroke-dashoffset: 0; stroke: #ff7f0e; stroke-width: 1.5\"/>\n    </g>\n    <g id=\"text_14\">\n     <!-- val_loss -->\n     <g transform=\"translate(168.8125 119.485938) scale(0.1 -0.1)\">\n      <defs>\n       <path id=\"DejaVuSans-76\" d=\"M 191 3500 \nL 800 3500 \nL 1894 563 \nL 2988 3500 \nL 3597 3500 \nL 2284 0 \nL 1503 0 \nL 191 3500 \nz\n\" transform=\"scale(0.015625)\"/>\n      </defs>\n      <use xlink:href=\"#DejaVuSans-76\"/>\n      <use xlink:href=\"#DejaVuSans-61\" x=\"59.179688\"/>\n      <use xlink:href=\"#DejaVuSans-6c\" x=\"120.458984\"/>\n      <use xlink:href=\"#DejaVuSans-5f\" x=\"148.242188\"/>\n      <use xlink:href=\"#DejaVuSans-6c\" x=\"198.242188\"/>\n      <use xlink:href=\"#DejaVuSans-6f\" x=\"226.025391\"/>\n      <use xlink:href=\"#DejaVuSans-73\" x=\"287.207031\"/>\n      <use xlink:href=\"#DejaVuSans-73\" x=\"339.306641\"/>\n     </g>\n    </g>\n    <g id=\"line2d_130\">\n     <path d=\"M 140.8125 130.942188 \nL 150.8125 130.942188 \nL 160.8125 130.942188 \n\" style=\"fill: none; stroke-dasharray: 9.6,2.4,1.5,2.4; stroke-dashoffset: 0; stroke: #2ca02c; stroke-width: 1.5\"/>\n    </g>\n    <g id=\"text_15\">\n     <!-- val_acc -->\n     <g transform=\"translate(168.8125 134.442188) scale(0.1 -0.1)\">\n      <use xlink:href=\"#DejaVuSans-76\"/>\n      <use xlink:href=\"#DejaVuSans-61\" x=\"59.179688\"/>\n      <use xlink:href=\"#DejaVuSans-6c\" x=\"120.458984\"/>\n      <use xlink:href=\"#DejaVuSans-5f\" x=\"148.242188\"/>\n      <use xlink:href=\"#DejaVuSans-61\" x=\"198.242188\"/>\n      <use xlink:href=\"#DejaVuSans-63\" x=\"259.521484\"/>\n      <use xlink:href=\"#DejaVuSans-63\" x=\"314.501953\"/>\n     </g>\n    </g>\n   </g>\n  </g>\n </g>\n <defs>\n  <clipPath id=\"pca5bad1fd9\">\n   <rect x=\"30.103125\" y=\"7.2\" width=\"195.3\" height=\"138.6\"/>\n  </clipPath>\n </defs>\n</svg>\n"
          },
          "metadata": {}
        }
      ]
    },
    {
      "cell_type": "markdown",
      "source": [
        "## 8.3.5. Exercises"
      ],
      "metadata": {
        "id": "STwlvcuCNbtG"
      }
    },
    {
      "cell_type": "markdown",
      "source": [
        "**1.** Why are there two 1 x 1\n",
        " convolutional layers per NiN block? Increase their number to three. Reduce their number to one. What changes?\n",
        "\n",
        " **ANSWER**\n",
        "\n",
        " a. Purpose of 1x1 convolutions: The 1x1 convolutions are used to capture cross-channel interactions without affecting the spatial dimensions. They allow the model to perform complex transformations across the channel dimension while keeping the number of parameters and computations manageable. This helps improve the model's expressiveness and non-linearity.\n",
        "\n",
        "b. Increasing to three 1x1 convolutions:\n",
        "\n",
        "* Effect: Adding more 1x1 convolutions will increase the model's capacity by introducing more non-linear transformations between layers. However, it will also increase the number of parameters and computations.\n",
        "\n",
        "* Potential result: It might improve the model's performance on more complex tasks but could lead to overfitting for simpler datasets like FashionMNIST.\n",
        "\n",
        "c. Reducing to one 1x1 convolution:\n",
        "\n",
        "* Effect: Reducing the number of 1x1 convolutions limits the model's ability to capture complex cross-channel relationships. This would reduce the model's capacity and might lead to a performance drop, especially for more challenging datasets.\n",
        "\n",
        "* Potential result: While training would be faster and the model would consume less memory, the accuracy might decrease.\n"
      ],
      "metadata": {
        "id": "O2rhSy2COBjU"
      }
    },
    {
      "cell_type": "markdown",
      "source": [
        "**2.** What changes if you replace the 1 x 1\n",
        " convolutions by 3 x 3 convolutions?\n",
        "\n",
        " **ANSWER**\n",
        "\n",
        " a. Effect of 3x3 convolutions: Replacing the 1x1 convolutions with 3x3 convolutions would:\n",
        "\n",
        "* Increase the number of parameters and computation significantly since 3x3 kernels process more spatial information than 1x1 convolutions.\n",
        "* Increase the model's capacity to capture local spatial information (larger receptive field), but it would also make the model more prone to overfitting on small datasets.\n",
        "* Training will be slower due to the increased computation, and the model will require more memory.\n",
        "\n",
        "b. Potential result: It might improve performance on datasets with higher spatial complexity (e.g., ImageNet) but could lead to diminishing returns on simpler datasets like FashionMNIST, as the spatial resolution of input data is small."
      ],
      "metadata": {
        "id": "dTnf1BjVdaDF"
      }
    },
    {
      "cell_type": "markdown",
      "source": [
        "**3.** What happens if you replace the global average pooling by a fully connected layer (speed, accuracy, number of parameters)?\n",
        "\n",
        "**ANSWER**\n",
        "\n",
        "* Speed: Fully connected (FC) layers are more computationally expensive compared to global average pooling. Global average pooling reduces the spatial dimensions to 1x1, minimizing the amount of data passed to the final layer, while FC layers would introduce more computations.\n",
        "\n",
        "* Accuracy: Fully connected layers might improve the model's capacity, potentially leading to better accuracy if the dataset requires more complex decision boundaries. However, on simpler datasets, it could lead to overfitting.\n",
        "\n",
        "* Number of parameters: Fully connected layers significantly increase the number of parameters. For example, flattening the output of a convolutional layer with large spatial dimensions would result in a massive number of weights to be learned in the FC layer."
      ],
      "metadata": {
        "id": "ikEnlaNzdcg2"
      }
    },
    {
      "cell_type": "markdown",
      "source": [
        "**4.** Calculate the resource usage for NiN.\n",
        "\n",
        "**a.** What is the number of parameters?\n",
        "\n",
        "**ANSWER**\n",
        "\n",
        "The number of parameters is calculated as:\n",
        "\n",
        "Parameters\n",
        "=\n",
        "𝐶\n",
        "in\n",
        "×\n",
        "𝐶\n",
        "out\n",
        "×\n",
        "𝐾\n",
        "×\n",
        "𝐾\n",
        "\n",
        "where\n",
        "𝐶\n",
        "​in\n",
        "  is the number of input channels,\n",
        "𝐶\n",
        "​out\n",
        "  is the number of output channels, and\n",
        "𝐾\n",
        "×\n",
        "𝐾\n",
        "is the kernel size.\n",
        "\n",
        "Summing up the parameters for all layers would give you the total number of parameters.\n",
        "\n",
        "**b.** What is the amount of computation?\n",
        "\n",
        "**ANSWER**\n",
        "\n",
        "* The number of computation or FLOPs (floating-point operations) for each layer is proportional to the number of parameters and the size of the feature map:\n",
        "\n",
        "FLOPs for Conv2D\n",
        "=\n",
        "2\n",
        "×\n",
        "𝐶\n",
        "in\n",
        "×\n",
        "𝐶\n",
        "out\n",
        "×\n",
        "𝐾\n",
        "×\n",
        "𝐾\n",
        "×\n",
        "𝐻\n",
        "×\n",
        "𝑊\n",
        "\n",
        "where\n",
        "𝐻\n",
        "×\n",
        "𝑊\n",
        "is the size of the output feature map.\n",
        "\n",
        "* For fully connected layers:\n",
        "\n",
        "FLOPs for FC\n",
        "=\n",
        "2\n",
        "×\n",
        "𝑁\n",
        "in\n",
        "×\n",
        "𝑁\n",
        "out\n",
        "\n",
        "\n",
        "**c.** What is the amount of memory needed during training?\n",
        "\n",
        "**ANSWER**\n",
        "\n",
        "Memory during training depends on the number of parameters, activations (intermediate feature maps), and gradients. The memory usage can be approximated by:\n",
        "\n",
        "Memory during training\n",
        "=\n",
        "parameters\n",
        "+\n",
        "2\n",
        "×\n",
        "activations\n",
        "\n",
        "since both the activations and gradients need to be stored.\n",
        "\n",
        "**d.** What is the amount of memory needed during prediction?\n",
        "\n",
        "**ANSWER**\n",
        "\n",
        "During inference (prediction), you only need to store the activations:\n",
        "\n",
        "Memory during inference\n",
        "=\n",
        "parameters\n",
        "+\n",
        "activations\n"
      ],
      "metadata": {
        "id": "KpoamTeKdgeQ"
      }
    },
    {
      "cell_type": "markdown",
      "source": [
        "**5.** What are possible problems with reducing the 384 x 5 x 5 representation to a 10 x 5 x 5 representation in one step?\n",
        "\n",
        "**ANSWER**\n",
        "\n",
        "* Loss of information: Reducing from 384 channels to 10 channels in a single step may cause the network to lose critical information, making it harder for the model to capture fine-grained features.\n",
        "* Sudden compression: Drastically reducing the number of channels can act as a bottleneck, causing the model to underperform because of the abrupt decrease in capacity.\n",
        "* Solution: A gradual reduction in the number of channels over several layers would likely work better, preserving more information across the layers."
      ],
      "metadata": {
        "id": "gdoLBe3Ydi9F"
      }
    },
    {
      "cell_type": "markdown",
      "source": [
        "**6.** Use the structural design decisions in VGG that led to VGG-11, VGG-16, and VGG-19 to design a family of NiN-like networks.\n",
        "\n",
        "**ANSWER**\n",
        "\n",
        "a. VGG principles:\n",
        "\n",
        "* VGG networks (VGG-11, VGG-16, VGG-19) use a simple strategy of stacking multiple convolutional layers (typically 3x3 convolutions) followed by max pooling.\n",
        "* The number of filters doubles after each pooling layer, gradually increasing the model's capacity while reducing spatial dimensions.\n",
        "\n",
        "b. Designing NiN-like networks:\n",
        "\n",
        "* Start with small NiN blocks (e.g., 64 channels, 3x3 kernels) and increase the number of channels after each max pooling layer (e.g., 128, 256, 512 channels).\n",
        "* Use more nin_block layers for deeper networks like VGG-16 or VGG-19. For example:\n",
        "\n",
        "NiN-11: 3 nin_blocks followed by 3 pooling layers.\n",
        "\n",
        "NiN-16: 5 nin_blocks followed by 5 pooling layers.\n",
        "\n",
        "NiN-19: 7 nin_blocks with alternating pooling layers after every two blocks.\n",
        "\n",
        "c. Ensure that the final block applies global average pooling before classification.\n",
        "\n",
        "\n",
        "This approach mirrors the VGG family but incorporates NiN's cross-channel interactions through 1x1 convolutions."
      ],
      "metadata": {
        "id": "HBVK-QovdpVX"
      }
    },
    {
      "cell_type": "markdown",
      "source": [
        "# 8.4. Multi-Branch Networks (GoogLeNet)"
      ],
      "metadata": {
        "id": "51o1mAPiPBM6"
      }
    },
    {
      "cell_type": "code",
      "source": [
        "import torch\n",
        "from torch import nn\n",
        "from torch.nn import functional as F\n",
        "from d2l import torch as d2l"
      ],
      "metadata": {
        "id": "tqZbp61sDTpM"
      },
      "execution_count": 21,
      "outputs": []
    },
    {
      "cell_type": "markdown",
      "source": [
        "## 8.4.1. Inception Blocks"
      ],
      "metadata": {
        "id": "3Loy7EvKPFXY"
      }
    },
    {
      "cell_type": "code",
      "source": [
        "class Inception(nn.Module):\n",
        "    # c1--c4 are the number of output channels for each branch\n",
        "    def __init__(self, c1, c2, c3, c4, **kwargs):\n",
        "        super(Inception, self).__init__(**kwargs)\n",
        "        # Branch 1\n",
        "        self.b1_1 = nn.LazyConv2d(c1, kernel_size=1)\n",
        "        # Branch 2\n",
        "        self.b2_1 = nn.LazyConv2d(c2[0], kernel_size=1)\n",
        "        self.b2_2 = nn.LazyConv2d(c2[1], kernel_size=3, padding=1)\n",
        "        # Branch 3\n",
        "        self.b3_1 = nn.LazyConv2d(c3[0], kernel_size=1)\n",
        "        self.b3_2 = nn.LazyConv2d(c3[1], kernel_size=5, padding=2)\n",
        "        # Branch 4\n",
        "        self.b4_1 = nn.MaxPool2d(kernel_size=3, stride=1, padding=1)\n",
        "        self.b4_2 = nn.LazyConv2d(c4, kernel_size=1)\n",
        "\n",
        "    def forward(self, x):\n",
        "        b1 = F.relu(self.b1_1(x))\n",
        "        b2 = F.relu(self.b2_2(F.relu(self.b2_1(x))))\n",
        "        b3 = F.relu(self.b3_2(F.relu(self.b3_1(x))))\n",
        "        b4 = F.relu(self.b4_2(self.b4_1(x)))\n",
        "        return torch.cat((b1, b2, b3, b4), dim=1)"
      ],
      "metadata": {
        "id": "Pq4ZG2PPNcuu"
      },
      "execution_count": 22,
      "outputs": []
    },
    {
      "cell_type": "markdown",
      "source": [
        "## 8.4.2. GoogLeNet Model"
      ],
      "metadata": {
        "id": "KfC0fuU7PKDP"
      }
    },
    {
      "cell_type": "code",
      "source": [
        "class GoogleNet(d2l.Classifier):\n",
        "    def b1(self):\n",
        "        return nn.Sequential(\n",
        "            nn.LazyConv2d(64, kernel_size=7, stride=2, padding=3),\n",
        "            nn.ReLU(), nn.MaxPool2d(kernel_size=3, stride=2, padding=1))"
      ],
      "metadata": {
        "id": "E9wqf5rhPNei"
      },
      "execution_count": 23,
      "outputs": []
    },
    {
      "cell_type": "code",
      "source": [
        "@d2l.add_to_class(GoogleNet)\n",
        "def b2(self):\n",
        "    return nn.Sequential(\n",
        "        nn.LazyConv2d(64, kernel_size=1), nn.ReLU(),\n",
        "        nn.LazyConv2d(192, kernel_size=3, padding=1), nn.ReLU(),\n",
        "        nn.MaxPool2d(kernel_size=3, stride=2, padding=1))"
      ],
      "metadata": {
        "id": "UecBR8LpPPnZ"
      },
      "execution_count": 24,
      "outputs": []
    },
    {
      "cell_type": "code",
      "source": [
        "@d2l.add_to_class(GoogleNet)\n",
        "def b3(self):\n",
        "    return nn.Sequential(Inception(64, (96, 128), (16, 32), 32),\n",
        "                         Inception(128, (128, 192), (32, 96), 64),\n",
        "                         nn.MaxPool2d(kernel_size=3, stride=2, padding=1))"
      ],
      "metadata": {
        "id": "NY3tQRe0PTCo"
      },
      "execution_count": 25,
      "outputs": []
    },
    {
      "cell_type": "code",
      "source": [
        "@d2l.add_to_class(GoogleNet)\n",
        "def b4(self):\n",
        "    return nn.Sequential(Inception(192, (96, 208), (16, 48), 64),\n",
        "                         Inception(160, (112, 224), (24, 64), 64),\n",
        "                         Inception(128, (128, 256), (24, 64), 64),\n",
        "                         Inception(112, (144, 288), (32, 64), 64),\n",
        "                         Inception(256, (160, 320), (32, 128), 128),\n",
        "                         nn.MaxPool2d(kernel_size=3, stride=2, padding=1))"
      ],
      "metadata": {
        "id": "sacwV3pcPWI8"
      },
      "execution_count": 26,
      "outputs": []
    },
    {
      "cell_type": "code",
      "source": [
        "@d2l.add_to_class(GoogleNet)\n",
        "def b5(self):\n",
        "    return nn.Sequential(Inception(256, (160, 320), (32, 128), 128),\n",
        "                         Inception(384, (192, 384), (48, 128), 128),\n",
        "                         nn.AdaptiveAvgPool2d((1,1)), nn.Flatten())"
      ],
      "metadata": {
        "id": "q-hZuJ8GPW6x"
      },
      "execution_count": 27,
      "outputs": []
    },
    {
      "cell_type": "code",
      "source": [
        "@d2l.add_to_class(GoogleNet)\n",
        "def __init__(self, lr=0.1, num_classes=10):\n",
        "    super(GoogleNet, self).__init__()\n",
        "    self.save_hyperparameters()\n",
        "    self.net = nn.Sequential(self.b1(), self.b2(), self.b3(), self.b4(),\n",
        "                             self.b5(), nn.LazyLinear(num_classes))\n",
        "    self.net.apply(d2l.init_cnn)"
      ],
      "metadata": {
        "id": "30-ob1s0PZeX"
      },
      "execution_count": 28,
      "outputs": []
    },
    {
      "cell_type": "code",
      "source": [
        "model = GoogleNet().layer_summary((1, 1, 96, 96))"
      ],
      "metadata": {
        "id": "0iPmx29ePdz-",
        "colab": {
          "base_uri": "https://localhost:8080/"
        },
        "outputId": "1fd9e764-ba96-4d43-fbf4-a66d650e0c34"
      },
      "execution_count": 29,
      "outputs": [
        {
          "output_type": "stream",
          "name": "stdout",
          "text": [
            "Sequential output shape:\t torch.Size([1, 64, 24, 24])\n",
            "Sequential output shape:\t torch.Size([1, 192, 12, 12])\n",
            "Sequential output shape:\t torch.Size([1, 480, 6, 6])\n",
            "Sequential output shape:\t torch.Size([1, 832, 3, 3])\n",
            "Sequential output shape:\t torch.Size([1, 1024])\n",
            "Linear output shape:\t torch.Size([1, 10])\n"
          ]
        }
      ]
    },
    {
      "cell_type": "markdown",
      "source": [
        "## 8.4.3. Training"
      ],
      "metadata": {
        "id": "paxrJsPlPgME"
      }
    },
    {
      "cell_type": "code",
      "source": [
        "model = GoogleNet(lr=0.01)\n",
        "trainer = d2l.Trainer(max_epochs=10, num_gpus=1)\n",
        "data = d2l.FashionMNIST(batch_size=128, resize=(96, 96))\n",
        "model.apply_init([next(iter(data.get_dataloader(True)))[0]], d2l.init_cnn)\n",
        "trainer.fit(model, data)"
      ],
      "metadata": {
        "id": "VHx8szvbPhQb",
        "colab": {
          "base_uri": "https://localhost:8080/",
          "height": 265
        },
        "outputId": "3f2267a3-a419-41ed-a85e-5370a6f6740e"
      },
      "execution_count": 30,
      "outputs": [
        {
          "output_type": "display_data",
          "data": {
            "text/plain": [
              "<Figure size 350x250 with 1 Axes>"
            ],
            "image/svg+xml": "<?xml version=\"1.0\" encoding=\"utf-8\" standalone=\"no\"?>\n<!DOCTYPE svg PUBLIC \"-//W3C//DTD SVG 1.1//EN\"\n  \"http://www.w3.org/Graphics/SVG/1.1/DTD/svg11.dtd\">\n<svg xmlns:xlink=\"http://www.w3.org/1999/xlink\" width=\"238.965625pt\" height=\"183.35625pt\" viewBox=\"0 0 238.965625 183.35625\" xmlns=\"http://www.w3.org/2000/svg\" version=\"1.1\">\n <metadata>\n  <rdf:RDF xmlns:dc=\"http://purl.org/dc/elements/1.1/\" xmlns:cc=\"http://creativecommons.org/ns#\" xmlns:rdf=\"http://www.w3.org/1999/02/22-rdf-syntax-ns#\">\n   <cc:Work>\n    <dc:type rdf:resource=\"http://purl.org/dc/dcmitype/StillImage\"/>\n    <dc:date>2024-10-05T14:28:35.679634</dc:date>\n    <dc:format>image/svg+xml</dc:format>\n    <dc:creator>\n     <cc:Agent>\n      <dc:title>Matplotlib v3.7.2, https://matplotlib.org/</dc:title>\n     </cc:Agent>\n    </dc:creator>\n   </cc:Work>\n  </rdf:RDF>\n </metadata>\n <defs>\n  <style type=\"text/css\">*{stroke-linejoin: round; stroke-linecap: butt}</style>\n </defs>\n <g id=\"figure_1\">\n  <g id=\"patch_1\">\n   <path d=\"M 0 183.35625 \nL 238.965625 183.35625 \nL 238.965625 0 \nL 0 0 \nz\n\" style=\"fill: #ffffff\"/>\n  </g>\n  <g id=\"axes_1\">\n   <g id=\"patch_2\">\n    <path d=\"M 30.103125 145.8 \nL 225.403125 145.8 \nL 225.403125 7.2 \nL 30.103125 7.2 \nz\n\" style=\"fill: #ffffff\"/>\n   </g>\n   <g id=\"matplotlib.axis_1\">\n    <g id=\"xtick_1\">\n     <g id=\"line2d_1\">\n      <defs>\n       <path id=\"m7cd8a5acf5\" d=\"M 0 0 \nL 0 3.5 \n\" style=\"stroke: #000000; stroke-width: 0.8\"/>\n      </defs>\n      <g>\n       <use xlink:href=\"#m7cd8a5acf5\" x=\"30.103125\" y=\"145.8\" style=\"stroke: #000000; stroke-width: 0.8\"/>\n      </g>\n     </g>\n     <g id=\"text_1\">\n      <!-- 0 -->\n      <g transform=\"translate(26.921875 160.398438) scale(0.1 -0.1)\">\n       <defs>\n        <path id=\"DejaVuSans-30\" d=\"M 2034 4250 \nQ 1547 4250 1301 3770 \nQ 1056 3291 1056 2328 \nQ 1056 1369 1301 889 \nQ 1547 409 2034 409 \nQ 2525 409 2770 889 \nQ 3016 1369 3016 2328 \nQ 3016 3291 2770 3770 \nQ 2525 4250 2034 4250 \nz\nM 2034 4750 \nQ 2819 4750 3233 4129 \nQ 3647 3509 3647 2328 \nQ 3647 1150 3233 529 \nQ 2819 -91 2034 -91 \nQ 1250 -91 836 529 \nQ 422 1150 422 2328 \nQ 422 3509 836 4129 \nQ 1250 4750 2034 4750 \nz\n\" transform=\"scale(0.015625)\"/>\n       </defs>\n       <use xlink:href=\"#DejaVuSans-30\"/>\n      </g>\n     </g>\n    </g>\n    <g id=\"xtick_2\">\n     <g id=\"line2d_2\">\n      <g>\n       <use xlink:href=\"#m7cd8a5acf5\" x=\"69.163125\" y=\"145.8\" style=\"stroke: #000000; stroke-width: 0.8\"/>\n      </g>\n     </g>\n     <g id=\"text_2\">\n      <!-- 2 -->\n      <g transform=\"translate(65.981875 160.398438) scale(0.1 -0.1)\">\n       <defs>\n        <path id=\"DejaVuSans-32\" d=\"M 1228 531 \nL 3431 531 \nL 3431 0 \nL 469 0 \nL 469 531 \nQ 828 903 1448 1529 \nQ 2069 2156 2228 2338 \nQ 2531 2678 2651 2914 \nQ 2772 3150 2772 3378 \nQ 2772 3750 2511 3984 \nQ 2250 4219 1831 4219 \nQ 1534 4219 1204 4116 \nQ 875 4013 500 3803 \nL 500 4441 \nQ 881 4594 1212 4672 \nQ 1544 4750 1819 4750 \nQ 2544 4750 2975 4387 \nQ 3406 4025 3406 3419 \nQ 3406 3131 3298 2873 \nQ 3191 2616 2906 2266 \nQ 2828 2175 2409 1742 \nQ 1991 1309 1228 531 \nz\n\" transform=\"scale(0.015625)\"/>\n       </defs>\n       <use xlink:href=\"#DejaVuSans-32\"/>\n      </g>\n     </g>\n    </g>\n    <g id=\"xtick_3\">\n     <g id=\"line2d_3\">\n      <g>\n       <use xlink:href=\"#m7cd8a5acf5\" x=\"108.223125\" y=\"145.8\" style=\"stroke: #000000; stroke-width: 0.8\"/>\n      </g>\n     </g>\n     <g id=\"text_3\">\n      <!-- 4 -->\n      <g transform=\"translate(105.041875 160.398438) scale(0.1 -0.1)\">\n       <defs>\n        <path id=\"DejaVuSans-34\" d=\"M 2419 4116 \nL 825 1625 \nL 2419 1625 \nL 2419 4116 \nz\nM 2253 4666 \nL 3047 4666 \nL 3047 1625 \nL 3713 1625 \nL 3713 1100 \nL 3047 1100 \nL 3047 0 \nL 2419 0 \nL 2419 1100 \nL 313 1100 \nL 313 1709 \nL 2253 4666 \nz\n\" transform=\"scale(0.015625)\"/>\n       </defs>\n       <use xlink:href=\"#DejaVuSans-34\"/>\n      </g>\n     </g>\n    </g>\n    <g id=\"xtick_4\">\n     <g id=\"line2d_4\">\n      <g>\n       <use xlink:href=\"#m7cd8a5acf5\" x=\"147.283125\" y=\"145.8\" style=\"stroke: #000000; stroke-width: 0.8\"/>\n      </g>\n     </g>\n     <g id=\"text_4\">\n      <!-- 6 -->\n      <g transform=\"translate(144.101875 160.398438) scale(0.1 -0.1)\">\n       <defs>\n        <path id=\"DejaVuSans-36\" d=\"M 2113 2584 \nQ 1688 2584 1439 2293 \nQ 1191 2003 1191 1497 \nQ 1191 994 1439 701 \nQ 1688 409 2113 409 \nQ 2538 409 2786 701 \nQ 3034 994 3034 1497 \nQ 3034 2003 2786 2293 \nQ 2538 2584 2113 2584 \nz\nM 3366 4563 \nL 3366 3988 \nQ 3128 4100 2886 4159 \nQ 2644 4219 2406 4219 \nQ 1781 4219 1451 3797 \nQ 1122 3375 1075 2522 \nQ 1259 2794 1537 2939 \nQ 1816 3084 2150 3084 \nQ 2853 3084 3261 2657 \nQ 3669 2231 3669 1497 \nQ 3669 778 3244 343 \nQ 2819 -91 2113 -91 \nQ 1303 -91 875 529 \nQ 447 1150 447 2328 \nQ 447 3434 972 4092 \nQ 1497 4750 2381 4750 \nQ 2619 4750 2861 4703 \nQ 3103 4656 3366 4563 \nz\n\" transform=\"scale(0.015625)\"/>\n       </defs>\n       <use xlink:href=\"#DejaVuSans-36\"/>\n      </g>\n     </g>\n    </g>\n    <g id=\"xtick_5\">\n     <g id=\"line2d_5\">\n      <g>\n       <use xlink:href=\"#m7cd8a5acf5\" x=\"186.343125\" y=\"145.8\" style=\"stroke: #000000; stroke-width: 0.8\"/>\n      </g>\n     </g>\n     <g id=\"text_5\">\n      <!-- 8 -->\n      <g transform=\"translate(183.161875 160.398438) scale(0.1 -0.1)\">\n       <defs>\n        <path id=\"DejaVuSans-38\" d=\"M 2034 2216 \nQ 1584 2216 1326 1975 \nQ 1069 1734 1069 1313 \nQ 1069 891 1326 650 \nQ 1584 409 2034 409 \nQ 2484 409 2743 651 \nQ 3003 894 3003 1313 \nQ 3003 1734 2745 1975 \nQ 2488 2216 2034 2216 \nz\nM 1403 2484 \nQ 997 2584 770 2862 \nQ 544 3141 544 3541 \nQ 544 4100 942 4425 \nQ 1341 4750 2034 4750 \nQ 2731 4750 3128 4425 \nQ 3525 4100 3525 3541 \nQ 3525 3141 3298 2862 \nQ 3072 2584 2669 2484 \nQ 3125 2378 3379 2068 \nQ 3634 1759 3634 1313 \nQ 3634 634 3220 271 \nQ 2806 -91 2034 -91 \nQ 1263 -91 848 271 \nQ 434 634 434 1313 \nQ 434 1759 690 2068 \nQ 947 2378 1403 2484 \nz\nM 1172 3481 \nQ 1172 3119 1398 2916 \nQ 1625 2713 2034 2713 \nQ 2441 2713 2670 2916 \nQ 2900 3119 2900 3481 \nQ 2900 3844 2670 4047 \nQ 2441 4250 2034 4250 \nQ 1625 4250 1398 4047 \nQ 1172 3844 1172 3481 \nz\n\" transform=\"scale(0.015625)\"/>\n       </defs>\n       <use xlink:href=\"#DejaVuSans-38\"/>\n      </g>\n     </g>\n    </g>\n    <g id=\"xtick_6\">\n     <g id=\"line2d_6\">\n      <g>\n       <use xlink:href=\"#m7cd8a5acf5\" x=\"225.403125\" y=\"145.8\" style=\"stroke: #000000; stroke-width: 0.8\"/>\n      </g>\n     </g>\n     <g id=\"text_6\">\n      <!-- 10 -->\n      <g transform=\"translate(219.040625 160.398438) scale(0.1 -0.1)\">\n       <defs>\n        <path id=\"DejaVuSans-31\" d=\"M 794 531 \nL 1825 531 \nL 1825 4091 \nL 703 3866 \nL 703 4441 \nL 1819 4666 \nL 2450 4666 \nL 2450 531 \nL 3481 531 \nL 3481 0 \nL 794 0 \nL 794 531 \nz\n\" transform=\"scale(0.015625)\"/>\n       </defs>\n       <use xlink:href=\"#DejaVuSans-31\"/>\n       <use xlink:href=\"#DejaVuSans-30\" x=\"63.623047\"/>\n      </g>\n     </g>\n    </g>\n    <g id=\"text_7\">\n     <!-- epoch -->\n     <g transform=\"translate(112.525 174.076563) scale(0.1 -0.1)\">\n      <defs>\n       <path id=\"DejaVuSans-65\" d=\"M 3597 1894 \nL 3597 1613 \nL 953 1613 \nQ 991 1019 1311 708 \nQ 1631 397 2203 397 \nQ 2534 397 2845 478 \nQ 3156 559 3463 722 \nL 3463 178 \nQ 3153 47 2828 -22 \nQ 2503 -91 2169 -91 \nQ 1331 -91 842 396 \nQ 353 884 353 1716 \nQ 353 2575 817 3079 \nQ 1281 3584 2069 3584 \nQ 2775 3584 3186 3129 \nQ 3597 2675 3597 1894 \nz\nM 3022 2063 \nQ 3016 2534 2758 2815 \nQ 2500 3097 2075 3097 \nQ 1594 3097 1305 2825 \nQ 1016 2553 972 2059 \nL 3022 2063 \nz\n\" transform=\"scale(0.015625)\"/>\n       <path id=\"DejaVuSans-70\" d=\"M 1159 525 \nL 1159 -1331 \nL 581 -1331 \nL 581 3500 \nL 1159 3500 \nL 1159 2969 \nQ 1341 3281 1617 3432 \nQ 1894 3584 2278 3584 \nQ 2916 3584 3314 3078 \nQ 3713 2572 3713 1747 \nQ 3713 922 3314 415 \nQ 2916 -91 2278 -91 \nQ 1894 -91 1617 61 \nQ 1341 213 1159 525 \nz\nM 3116 1747 \nQ 3116 2381 2855 2742 \nQ 2594 3103 2138 3103 \nQ 1681 3103 1420 2742 \nQ 1159 2381 1159 1747 \nQ 1159 1113 1420 752 \nQ 1681 391 2138 391 \nQ 2594 391 2855 752 \nQ 3116 1113 3116 1747 \nz\n\" transform=\"scale(0.015625)\"/>\n       <path id=\"DejaVuSans-6f\" d=\"M 1959 3097 \nQ 1497 3097 1228 2736 \nQ 959 2375 959 1747 \nQ 959 1119 1226 758 \nQ 1494 397 1959 397 \nQ 2419 397 2687 759 \nQ 2956 1122 2956 1747 \nQ 2956 2369 2687 2733 \nQ 2419 3097 1959 3097 \nz\nM 1959 3584 \nQ 2709 3584 3137 3096 \nQ 3566 2609 3566 1747 \nQ 3566 888 3137 398 \nQ 2709 -91 1959 -91 \nQ 1206 -91 779 398 \nQ 353 888 353 1747 \nQ 353 2609 779 3096 \nQ 1206 3584 1959 3584 \nz\n\" transform=\"scale(0.015625)\"/>\n       <path id=\"DejaVuSans-63\" d=\"M 3122 3366 \nL 3122 2828 \nQ 2878 2963 2633 3030 \nQ 2388 3097 2138 3097 \nQ 1578 3097 1268 2742 \nQ 959 2388 959 1747 \nQ 959 1106 1268 751 \nQ 1578 397 2138 397 \nQ 2388 397 2633 464 \nQ 2878 531 3122 666 \nL 3122 134 \nQ 2881 22 2623 -34 \nQ 2366 -91 2075 -91 \nQ 1284 -91 818 406 \nQ 353 903 353 1747 \nQ 353 2603 823 3093 \nQ 1294 3584 2113 3584 \nQ 2378 3584 2631 3529 \nQ 2884 3475 3122 3366 \nz\n\" transform=\"scale(0.015625)\"/>\n       <path id=\"DejaVuSans-68\" d=\"M 3513 2113 \nL 3513 0 \nL 2938 0 \nL 2938 2094 \nQ 2938 2591 2744 2837 \nQ 2550 3084 2163 3084 \nQ 1697 3084 1428 2787 \nQ 1159 2491 1159 1978 \nL 1159 0 \nL 581 0 \nL 581 4863 \nL 1159 4863 \nL 1159 2956 \nQ 1366 3272 1645 3428 \nQ 1925 3584 2291 3584 \nQ 2894 3584 3203 3211 \nQ 3513 2838 3513 2113 \nz\n\" transform=\"scale(0.015625)\"/>\n      </defs>\n      <use xlink:href=\"#DejaVuSans-65\"/>\n      <use xlink:href=\"#DejaVuSans-70\" x=\"61.523438\"/>\n      <use xlink:href=\"#DejaVuSans-6f\" x=\"125\"/>\n      <use xlink:href=\"#DejaVuSans-63\" x=\"186.181641\"/>\n      <use xlink:href=\"#DejaVuSans-68\" x=\"241.162109\"/>\n     </g>\n    </g>\n   </g>\n   <g id=\"matplotlib.axis_2\">\n    <g id=\"ytick_1\">\n     <g id=\"line2d_7\">\n      <defs>\n       <path id=\"md3ea1f0be2\" d=\"M 0 0 \nL -3.5 0 \n\" style=\"stroke: #000000; stroke-width: 0.8\"/>\n      </defs>\n      <g>\n       <use xlink:href=\"#md3ea1f0be2\" x=\"30.103125\" y=\"145.19593\" style=\"stroke: #000000; stroke-width: 0.8\"/>\n      </g>\n     </g>\n     <g id=\"text_8\">\n      <!-- 0.0 -->\n      <g transform=\"translate(7.2 148.995149) scale(0.1 -0.1)\">\n       <defs>\n        <path id=\"DejaVuSans-2e\" d=\"M 684 794 \nL 1344 794 \nL 1344 0 \nL 684 0 \nL 684 794 \nz\n\" transform=\"scale(0.015625)\"/>\n       </defs>\n       <use xlink:href=\"#DejaVuSans-30\"/>\n       <use xlink:href=\"#DejaVuSans-2e\" x=\"63.623047\"/>\n       <use xlink:href=\"#DejaVuSans-30\" x=\"95.410156\"/>\n      </g>\n     </g>\n    </g>\n    <g id=\"ytick_2\">\n     <g id=\"line2d_8\">\n      <g>\n       <use xlink:href=\"#md3ea1f0be2\" x=\"30.103125\" y=\"116.597498\" style=\"stroke: #000000; stroke-width: 0.8\"/>\n      </g>\n     </g>\n     <g id=\"text_9\">\n      <!-- 0.5 -->\n      <g transform=\"translate(7.2 120.396716) scale(0.1 -0.1)\">\n       <defs>\n        <path id=\"DejaVuSans-35\" d=\"M 691 4666 \nL 3169 4666 \nL 3169 4134 \nL 1269 4134 \nL 1269 2991 \nQ 1406 3038 1543 3061 \nQ 1681 3084 1819 3084 \nQ 2600 3084 3056 2656 \nQ 3513 2228 3513 1497 \nQ 3513 744 3044 326 \nQ 2575 -91 1722 -91 \nQ 1428 -91 1123 -41 \nQ 819 9 494 109 \nL 494 744 \nQ 775 591 1075 516 \nQ 1375 441 1709 441 \nQ 2250 441 2565 725 \nQ 2881 1009 2881 1497 \nQ 2881 1984 2565 2268 \nQ 2250 2553 1709 2553 \nQ 1456 2553 1204 2497 \nQ 953 2441 691 2322 \nL 691 4666 \nz\n\" transform=\"scale(0.015625)\"/>\n       </defs>\n       <use xlink:href=\"#DejaVuSans-30\"/>\n       <use xlink:href=\"#DejaVuSans-2e\" x=\"63.623047\"/>\n       <use xlink:href=\"#DejaVuSans-35\" x=\"95.410156\"/>\n      </g>\n     </g>\n    </g>\n    <g id=\"ytick_3\">\n     <g id=\"line2d_9\">\n      <g>\n       <use xlink:href=\"#md3ea1f0be2\" x=\"30.103125\" y=\"87.999065\" style=\"stroke: #000000; stroke-width: 0.8\"/>\n      </g>\n     </g>\n     <g id=\"text_10\">\n      <!-- 1.0 -->\n      <g transform=\"translate(7.2 91.798284) scale(0.1 -0.1)\">\n       <use xlink:href=\"#DejaVuSans-31\"/>\n       <use xlink:href=\"#DejaVuSans-2e\" x=\"63.623047\"/>\n       <use xlink:href=\"#DejaVuSans-30\" x=\"95.410156\"/>\n      </g>\n     </g>\n    </g>\n    <g id=\"ytick_4\">\n     <g id=\"line2d_10\">\n      <g>\n       <use xlink:href=\"#md3ea1f0be2\" x=\"30.103125\" y=\"59.400633\" style=\"stroke: #000000; stroke-width: 0.8\"/>\n      </g>\n     </g>\n     <g id=\"text_11\">\n      <!-- 1.5 -->\n      <g transform=\"translate(7.2 63.199852) scale(0.1 -0.1)\">\n       <use xlink:href=\"#DejaVuSans-31\"/>\n       <use xlink:href=\"#DejaVuSans-2e\" x=\"63.623047\"/>\n       <use xlink:href=\"#DejaVuSans-35\" x=\"95.410156\"/>\n      </g>\n     </g>\n    </g>\n    <g id=\"ytick_5\">\n     <g id=\"line2d_11\">\n      <g>\n       <use xlink:href=\"#md3ea1f0be2\" x=\"30.103125\" y=\"30.802201\" style=\"stroke: #000000; stroke-width: 0.8\"/>\n      </g>\n     </g>\n     <g id=\"text_12\">\n      <!-- 2.0 -->\n      <g transform=\"translate(7.2 34.60142) scale(0.1 -0.1)\">\n       <use xlink:href=\"#DejaVuSans-32\"/>\n       <use xlink:href=\"#DejaVuSans-2e\" x=\"63.623047\"/>\n       <use xlink:href=\"#DejaVuSans-30\" x=\"95.410156\"/>\n      </g>\n     </g>\n    </g>\n   </g>\n   <g id=\"line2d_12\">\n    <path d=\"M 34.954394 13.5 \n\" clip-path=\"url(#pec4d2cc7ee)\" style=\"fill: none; stroke: #1f77b4; stroke-width: 1.5; stroke-linecap: square\"/>\n   </g>\n   <g id=\"line2d_13\">\n    <path d=\"M 34.954394 13.5 \nL 44.698573 13.547528 \n\" clip-path=\"url(#pec4d2cc7ee)\" style=\"fill: none; stroke: #1f77b4; stroke-width: 1.5; stroke-linecap: square\"/>\n   </g>\n   <g id=\"line2d_14\">\n    <path d=\"M 34.954394 13.5 \nL 44.698573 13.547528 \n\" clip-path=\"url(#pec4d2cc7ee)\" style=\"fill: none; stroke: #1f77b4; stroke-width: 1.5; stroke-linecap: square\"/>\n   </g>\n   <g id=\"line2d_15\">\n    <path d=\"M 49.633125 13.574012 \n\" clip-path=\"url(#pec4d2cc7ee)\" style=\"fill: none; stroke-dasharray: 5.55,2.4; stroke-dashoffset: 0; stroke: #ff7f0e; stroke-width: 1.5\"/>\n   </g>\n   <g id=\"line2d_16\"/>\n   <g id=\"line2d_17\">\n    <path d=\"M 34.954394 13.5 \nL 44.698573 13.547528 \n\" clip-path=\"url(#pec4d2cc7ee)\" style=\"fill: none; stroke: #1f77b4; stroke-width: 1.5; stroke-linecap: square\"/>\n   </g>\n   <g id=\"line2d_18\">\n    <path d=\"M 49.633125 13.574012 \n\" clip-path=\"url(#pec4d2cc7ee)\" style=\"fill: none; stroke-dasharray: 5.55,2.4; stroke-dashoffset: 0; stroke: #ff7f0e; stroke-width: 1.5\"/>\n   </g>\n   <g id=\"line2d_19\">\n    <path d=\"M 49.633125 139.5 \n\" clip-path=\"url(#pec4d2cc7ee)\" style=\"fill: none; stroke-dasharray: 9.6,2.4,1.5,2.4; stroke-dashoffset: 0; stroke: #2ca02c; stroke-width: 1.5\"/>\n   </g>\n   <g id=\"line2d_20\">\n    <path d=\"M 34.954394 13.5 \nL 44.698573 13.547528 \nL 54.442752 13.593891 \n\" clip-path=\"url(#pec4d2cc7ee)\" style=\"fill: none; stroke: #1f77b4; stroke-width: 1.5; stroke-linecap: square\"/>\n   </g>\n   <g id=\"line2d_21\">\n    <path d=\"M 49.633125 13.574012 \n\" clip-path=\"url(#pec4d2cc7ee)\" style=\"fill: none; stroke-dasharray: 5.55,2.4; stroke-dashoffset: 0; stroke: #ff7f0e; stroke-width: 1.5\"/>\n   </g>\n   <g id=\"line2d_22\">\n    <path d=\"M 49.633125 139.5 \n\" clip-path=\"url(#pec4d2cc7ee)\" style=\"fill: none; stroke-dasharray: 9.6,2.4,1.5,2.4; stroke-dashoffset: 0; stroke: #2ca02c; stroke-width: 1.5\"/>\n   </g>\n   <g id=\"line2d_23\">\n    <path d=\"M 34.954394 13.5 \nL 44.698573 13.547528 \nL 54.442752 13.593891 \nL 64.186931 13.637441 \n\" clip-path=\"url(#pec4d2cc7ee)\" style=\"fill: none; stroke: #1f77b4; stroke-width: 1.5; stroke-linecap: square\"/>\n   </g>\n   <g id=\"line2d_24\">\n    <path d=\"M 49.633125 13.574012 \n\" clip-path=\"url(#pec4d2cc7ee)\" style=\"fill: none; stroke-dasharray: 5.55,2.4; stroke-dashoffset: 0; stroke: #ff7f0e; stroke-width: 1.5\"/>\n   </g>\n   <g id=\"line2d_25\">\n    <path d=\"M 49.633125 139.5 \n\" clip-path=\"url(#pec4d2cc7ee)\" style=\"fill: none; stroke-dasharray: 9.6,2.4,1.5,2.4; stroke-dashoffset: 0; stroke: #2ca02c; stroke-width: 1.5\"/>\n   </g>\n   <g id=\"line2d_26\">\n    <path d=\"M 34.954394 13.5 \nL 44.698573 13.547528 \nL 54.442752 13.593891 \nL 64.186931 13.637441 \n\" clip-path=\"url(#pec4d2cc7ee)\" style=\"fill: none; stroke: #1f77b4; stroke-width: 1.5; stroke-linecap: square\"/>\n   </g>\n   <g id=\"line2d_27\">\n    <path d=\"M 49.633125 13.574012 \nL 69.163125 13.676404 \n\" clip-path=\"url(#pec4d2cc7ee)\" style=\"fill: none; stroke-dasharray: 5.55,2.4; stroke-dashoffset: 0; stroke: #ff7f0e; stroke-width: 1.5\"/>\n   </g>\n   <g id=\"line2d_28\">\n    <path d=\"M 49.633125 139.5 \n\" clip-path=\"url(#pec4d2cc7ee)\" style=\"fill: none; stroke-dasharray: 9.6,2.4,1.5,2.4; stroke-dashoffset: 0; stroke: #2ca02c; stroke-width: 1.5\"/>\n   </g>\n   <g id=\"line2d_29\">\n    <path d=\"M 34.954394 13.5 \nL 44.698573 13.547528 \nL 54.442752 13.593891 \nL 64.186931 13.637441 \n\" clip-path=\"url(#pec4d2cc7ee)\" style=\"fill: none; stroke: #1f77b4; stroke-width: 1.5; stroke-linecap: square\"/>\n   </g>\n   <g id=\"line2d_30\">\n    <path d=\"M 49.633125 13.574012 \nL 69.163125 13.676404 \n\" clip-path=\"url(#pec4d2cc7ee)\" style=\"fill: none; stroke-dasharray: 5.55,2.4; stroke-dashoffset: 0; stroke: #ff7f0e; stroke-width: 1.5\"/>\n   </g>\n   <g id=\"line2d_31\">\n    <path d=\"M 49.633125 139.5 \nL 69.163125 135.681974 \n\" clip-path=\"url(#pec4d2cc7ee)\" style=\"fill: none; stroke-dasharray: 9.6,2.4,1.5,2.4; stroke-dashoffset: 0; stroke: #2ca02c; stroke-width: 1.5\"/>\n   </g>\n   <g id=\"line2d_32\">\n    <path d=\"M 34.954394 13.5 \nL 44.698573 13.547528 \nL 54.442752 13.593891 \nL 64.186931 13.637441 \nL 73.93111 13.720065 \n\" clip-path=\"url(#pec4d2cc7ee)\" style=\"fill: none; stroke: #1f77b4; stroke-width: 1.5; stroke-linecap: square\"/>\n   </g>\n   <g id=\"line2d_33\">\n    <path d=\"M 49.633125 13.574012 \nL 69.163125 13.676404 \n\" clip-path=\"url(#pec4d2cc7ee)\" style=\"fill: none; stroke-dasharray: 5.55,2.4; stroke-dashoffset: 0; stroke: #ff7f0e; stroke-width: 1.5\"/>\n   </g>\n   <g id=\"line2d_34\">\n    <path d=\"M 49.633125 139.5 \nL 69.163125 135.681974 \n\" clip-path=\"url(#pec4d2cc7ee)\" style=\"fill: none; stroke-dasharray: 9.6,2.4,1.5,2.4; stroke-dashoffset: 0; stroke: #2ca02c; stroke-width: 1.5\"/>\n   </g>\n   <g id=\"line2d_35\">\n    <path d=\"M 34.954394 13.5 \nL 44.698573 13.547528 \nL 54.442752 13.593891 \nL 64.186931 13.637441 \nL 73.93111 13.720065 \nL 83.675289 13.8593 \n\" clip-path=\"url(#pec4d2cc7ee)\" style=\"fill: none; stroke: #1f77b4; stroke-width: 1.5; stroke-linecap: square\"/>\n   </g>\n   <g id=\"line2d_36\">\n    <path d=\"M 49.633125 13.574012 \nL 69.163125 13.676404 \n\" clip-path=\"url(#pec4d2cc7ee)\" style=\"fill: none; stroke-dasharray: 5.55,2.4; stroke-dashoffset: 0; stroke: #ff7f0e; stroke-width: 1.5\"/>\n   </g>\n   <g id=\"line2d_37\">\n    <path d=\"M 49.633125 139.5 \nL 69.163125 135.681974 \n\" clip-path=\"url(#pec4d2cc7ee)\" style=\"fill: none; stroke-dasharray: 9.6,2.4,1.5,2.4; stroke-dashoffset: 0; stroke: #2ca02c; stroke-width: 1.5\"/>\n   </g>\n   <g id=\"line2d_38\">\n    <path d=\"M 34.954394 13.5 \nL 44.698573 13.547528 \nL 54.442752 13.593891 \nL 64.186931 13.637441 \nL 73.93111 13.720065 \nL 83.675289 13.8593 \n\" clip-path=\"url(#pec4d2cc7ee)\" style=\"fill: none; stroke: #1f77b4; stroke-width: 1.5; stroke-linecap: square\"/>\n   </g>\n   <g id=\"line2d_39\">\n    <path d=\"M 49.633125 13.574012 \nL 69.163125 13.676404 \nL 88.693125 13.986669 \n\" clip-path=\"url(#pec4d2cc7ee)\" style=\"fill: none; stroke-dasharray: 5.55,2.4; stroke-dashoffset: 0; stroke: #ff7f0e; stroke-width: 1.5\"/>\n   </g>\n   <g id=\"line2d_40\">\n    <path d=\"M 49.633125 139.5 \nL 69.163125 135.681974 \n\" clip-path=\"url(#pec4d2cc7ee)\" style=\"fill: none; stroke-dasharray: 9.6,2.4,1.5,2.4; stroke-dashoffset: 0; stroke: #2ca02c; stroke-width: 1.5\"/>\n   </g>\n   <g id=\"line2d_41\">\n    <path d=\"M 34.954394 13.5 \nL 44.698573 13.547528 \nL 54.442752 13.593891 \nL 64.186931 13.637441 \nL 73.93111 13.720065 \nL 83.675289 13.8593 \n\" clip-path=\"url(#pec4d2cc7ee)\" style=\"fill: none; stroke: #1f77b4; stroke-width: 1.5; stroke-linecap: square\"/>\n   </g>\n   <g id=\"line2d_42\">\n    <path d=\"M 49.633125 13.574012 \nL 69.163125 13.676404 \nL 88.693125 13.986669 \n\" clip-path=\"url(#pec4d2cc7ee)\" style=\"fill: none; stroke-dasharray: 5.55,2.4; stroke-dashoffset: 0; stroke: #ff7f0e; stroke-width: 1.5\"/>\n   </g>\n   <g id=\"line2d_43\">\n    <path d=\"M 49.633125 139.5 \nL 69.163125 135.681974 \nL 88.693125 126.654462 \n\" clip-path=\"url(#pec4d2cc7ee)\" style=\"fill: none; stroke-dasharray: 9.6,2.4,1.5,2.4; stroke-dashoffset: 0; stroke: #2ca02c; stroke-width: 1.5\"/>\n   </g>\n   <g id=\"line2d_44\">\n    <path d=\"M 34.954394 13.5 \nL 44.698573 13.547528 \nL 54.442752 13.593891 \nL 64.186931 13.637441 \nL 73.93111 13.720065 \nL 83.675289 13.8593 \nL 93.419468 14.181201 \n\" clip-path=\"url(#pec4d2cc7ee)\" style=\"fill: none; stroke: #1f77b4; stroke-width: 1.5; stroke-linecap: square\"/>\n   </g>\n   <g id=\"line2d_45\">\n    <path d=\"M 49.633125 13.574012 \nL 69.163125 13.676404 \nL 88.693125 13.986669 \n\" clip-path=\"url(#pec4d2cc7ee)\" style=\"fill: none; stroke-dasharray: 5.55,2.4; stroke-dashoffset: 0; stroke: #ff7f0e; stroke-width: 1.5\"/>\n   </g>\n   <g id=\"line2d_46\">\n    <path d=\"M 49.633125 139.5 \nL 69.163125 135.681974 \nL 88.693125 126.654462 \n\" clip-path=\"url(#pec4d2cc7ee)\" style=\"fill: none; stroke-dasharray: 9.6,2.4,1.5,2.4; stroke-dashoffset: 0; stroke: #2ca02c; stroke-width: 1.5\"/>\n   </g>\n   <g id=\"line2d_47\">\n    <path d=\"M 34.954394 13.5 \nL 44.698573 13.547528 \nL 54.442752 13.593891 \nL 64.186931 13.637441 \nL 73.93111 13.720065 \nL 83.675289 13.8593 \nL 93.419468 14.181201 \nL 103.163647 15.182919 \n\" clip-path=\"url(#pec4d2cc7ee)\" style=\"fill: none; stroke: #1f77b4; stroke-width: 1.5; stroke-linecap: square\"/>\n   </g>\n   <g id=\"line2d_48\">\n    <path d=\"M 49.633125 13.574012 \nL 69.163125 13.676404 \nL 88.693125 13.986669 \n\" clip-path=\"url(#pec4d2cc7ee)\" style=\"fill: none; stroke-dasharray: 5.55,2.4; stroke-dashoffset: 0; stroke: #ff7f0e; stroke-width: 1.5\"/>\n   </g>\n   <g id=\"line2d_49\">\n    <path d=\"M 49.633125 139.5 \nL 69.163125 135.681974 \nL 88.693125 126.654462 \n\" clip-path=\"url(#pec4d2cc7ee)\" style=\"fill: none; stroke-dasharray: 9.6,2.4,1.5,2.4; stroke-dashoffset: 0; stroke: #2ca02c; stroke-width: 1.5\"/>\n   </g>\n   <g id=\"line2d_50\">\n    <path d=\"M 34.954394 13.5 \nL 44.698573 13.547528 \nL 54.442752 13.593891 \nL 64.186931 13.637441 \nL 73.93111 13.720065 \nL 83.675289 13.8593 \nL 93.419468 14.181201 \nL 103.163647 15.182919 \n\" clip-path=\"url(#pec4d2cc7ee)\" style=\"fill: none; stroke: #1f77b4; stroke-width: 1.5; stroke-linecap: square\"/>\n   </g>\n   <g id=\"line2d_51\">\n    <path d=\"M 49.633125 13.574012 \nL 69.163125 13.676404 \nL 88.693125 13.986669 \nL 108.223125 16.488561 \n\" clip-path=\"url(#pec4d2cc7ee)\" style=\"fill: none; stroke-dasharray: 5.55,2.4; stroke-dashoffset: 0; stroke: #ff7f0e; stroke-width: 1.5\"/>\n   </g>\n   <g id=\"line2d_52\">\n    <path d=\"M 49.633125 139.5 \nL 69.163125 135.681974 \nL 88.693125 126.654462 \n\" clip-path=\"url(#pec4d2cc7ee)\" style=\"fill: none; stroke-dasharray: 9.6,2.4,1.5,2.4; stroke-dashoffset: 0; stroke: #2ca02c; stroke-width: 1.5\"/>\n   </g>\n   <g id=\"line2d_53\">\n    <path d=\"M 34.954394 13.5 \nL 44.698573 13.547528 \nL 54.442752 13.593891 \nL 64.186931 13.637441 \nL 73.93111 13.720065 \nL 83.675289 13.8593 \nL 93.419468 14.181201 \nL 103.163647 15.182919 \n\" clip-path=\"url(#pec4d2cc7ee)\" style=\"fill: none; stroke: #1f77b4; stroke-width: 1.5; stroke-linecap: square\"/>\n   </g>\n   <g id=\"line2d_54\">\n    <path d=\"M 49.633125 13.574012 \nL 69.163125 13.676404 \nL 88.693125 13.986669 \nL 108.223125 16.488561 \n\" clip-path=\"url(#pec4d2cc7ee)\" style=\"fill: none; stroke-dasharray: 5.55,2.4; stroke-dashoffset: 0; stroke: #ff7f0e; stroke-width: 1.5\"/>\n   </g>\n   <g id=\"line2d_55\">\n    <path d=\"M 49.633125 139.5 \nL 69.163125 135.681974 \nL 88.693125 126.654462 \nL 108.223125 128.900027 \n\" clip-path=\"url(#pec4d2cc7ee)\" style=\"fill: none; stroke-dasharray: 9.6,2.4,1.5,2.4; stroke-dashoffset: 0; stroke: #2ca02c; stroke-width: 1.5\"/>\n   </g>\n   <g id=\"line2d_56\">\n    <path d=\"M 34.954394 13.5 \nL 44.698573 13.547528 \nL 54.442752 13.593891 \nL 64.186931 13.637441 \nL 73.93111 13.720065 \nL 83.675289 13.8593 \nL 93.419468 14.181201 \nL 103.163647 15.182919 \nL 112.907826 22.737285 \n\" clip-path=\"url(#pec4d2cc7ee)\" style=\"fill: none; stroke: #1f77b4; stroke-width: 1.5; stroke-linecap: square\"/>\n   </g>\n   <g id=\"line2d_57\">\n    <path d=\"M 49.633125 13.574012 \nL 69.163125 13.676404 \nL 88.693125 13.986669 \nL 108.223125 16.488561 \n\" clip-path=\"url(#pec4d2cc7ee)\" style=\"fill: none; stroke-dasharray: 5.55,2.4; stroke-dashoffset: 0; stroke: #ff7f0e; stroke-width: 1.5\"/>\n   </g>\n   <g id=\"line2d_58\">\n    <path d=\"M 49.633125 139.5 \nL 69.163125 135.681974 \nL 88.693125 126.654462 \nL 108.223125 128.900027 \n\" clip-path=\"url(#pec4d2cc7ee)\" style=\"fill: none; stroke-dasharray: 9.6,2.4,1.5,2.4; stroke-dashoffset: 0; stroke: #2ca02c; stroke-width: 1.5\"/>\n   </g>\n   <g id=\"line2d_59\">\n    <path d=\"M 34.954394 13.5 \nL 44.698573 13.547528 \nL 54.442752 13.593891 \nL 64.186931 13.637441 \nL 73.93111 13.720065 \nL 83.675289 13.8593 \nL 93.419468 14.181201 \nL 103.163647 15.182919 \nL 112.907826 22.737285 \nL 122.652006 45.505637 \n\" clip-path=\"url(#pec4d2cc7ee)\" style=\"fill: none; stroke: #1f77b4; stroke-width: 1.5; stroke-linecap: square\"/>\n   </g>\n   <g id=\"line2d_60\">\n    <path d=\"M 49.633125 13.574012 \nL 69.163125 13.676404 \nL 88.693125 13.986669 \nL 108.223125 16.488561 \n\" clip-path=\"url(#pec4d2cc7ee)\" style=\"fill: none; stroke-dasharray: 5.55,2.4; stroke-dashoffset: 0; stroke: #ff7f0e; stroke-width: 1.5\"/>\n   </g>\n   <g id=\"line2d_61\">\n    <path d=\"M 49.633125 139.5 \nL 69.163125 135.681974 \nL 88.693125 126.654462 \nL 108.223125 128.900027 \n\" clip-path=\"url(#pec4d2cc7ee)\" style=\"fill: none; stroke-dasharray: 9.6,2.4,1.5,2.4; stroke-dashoffset: 0; stroke: #2ca02c; stroke-width: 1.5\"/>\n   </g>\n   <g id=\"line2d_62\">\n    <path d=\"M 34.954394 13.5 \nL 44.698573 13.547528 \nL 54.442752 13.593891 \nL 64.186931 13.637441 \nL 73.93111 13.720065 \nL 83.675289 13.8593 \nL 93.419468 14.181201 \nL 103.163647 15.182919 \nL 112.907826 22.737285 \nL 122.652006 45.505637 \n\" clip-path=\"url(#pec4d2cc7ee)\" style=\"fill: none; stroke: #1f77b4; stroke-width: 1.5; stroke-linecap: square\"/>\n   </g>\n   <g id=\"line2d_63\">\n    <path d=\"M 49.633125 13.574012 \nL 69.163125 13.676404 \nL 88.693125 13.986669 \nL 108.223125 16.488561 \nL 127.753125 75.992208 \n\" clip-path=\"url(#pec4d2cc7ee)\" style=\"fill: none; stroke-dasharray: 5.55,2.4; stroke-dashoffset: 0; stroke: #ff7f0e; stroke-width: 1.5\"/>\n   </g>\n   <g id=\"line2d_64\">\n    <path d=\"M 49.633125 139.5 \nL 69.163125 135.681974 \nL 88.693125 126.654462 \nL 108.223125 128.900027 \n\" clip-path=\"url(#pec4d2cc7ee)\" style=\"fill: none; stroke-dasharray: 9.6,2.4,1.5,2.4; stroke-dashoffset: 0; stroke: #2ca02c; stroke-width: 1.5\"/>\n   </g>\n   <g id=\"line2d_65\">\n    <path d=\"M 34.954394 13.5 \nL 44.698573 13.547528 \nL 54.442752 13.593891 \nL 64.186931 13.637441 \nL 73.93111 13.720065 \nL 83.675289 13.8593 \nL 93.419468 14.181201 \nL 103.163647 15.182919 \nL 112.907826 22.737285 \nL 122.652006 45.505637 \n\" clip-path=\"url(#pec4d2cc7ee)\" style=\"fill: none; stroke: #1f77b4; stroke-width: 1.5; stroke-linecap: square\"/>\n   </g>\n   <g id=\"line2d_66\">\n    <path d=\"M 49.633125 13.574012 \nL 69.163125 13.676404 \nL 88.693125 13.986669 \nL 108.223125 16.488561 \nL 127.753125 75.992208 \n\" clip-path=\"url(#pec4d2cc7ee)\" style=\"fill: none; stroke-dasharray: 5.55,2.4; stroke-dashoffset: 0; stroke: #ff7f0e; stroke-width: 1.5\"/>\n   </g>\n   <g id=\"line2d_67\">\n    <path d=\"M 49.633125 139.5 \nL 69.163125 135.681974 \nL 88.693125 126.654462 \nL 108.223125 128.900027 \nL 127.753125 113.888113 \n\" clip-path=\"url(#pec4d2cc7ee)\" style=\"fill: none; stroke-dasharray: 9.6,2.4,1.5,2.4; stroke-dashoffset: 0; stroke: #2ca02c; stroke-width: 1.5\"/>\n   </g>\n   <g id=\"line2d_68\">\n    <path d=\"M 34.954394 13.5 \nL 44.698573 13.547528 \nL 54.442752 13.593891 \nL 64.186931 13.637441 \nL 73.93111 13.720065 \nL 83.675289 13.8593 \nL 93.419468 14.181201 \nL 103.163647 15.182919 \nL 112.907826 22.737285 \nL 122.652006 45.505637 \nL 132.396185 79.09906 \n\" clip-path=\"url(#pec4d2cc7ee)\" style=\"fill: none; stroke: #1f77b4; stroke-width: 1.5; stroke-linecap: square\"/>\n   </g>\n   <g id=\"line2d_69\">\n    <path d=\"M 49.633125 13.574012 \nL 69.163125 13.676404 \nL 88.693125 13.986669 \nL 108.223125 16.488561 \nL 127.753125 75.992208 \n\" clip-path=\"url(#pec4d2cc7ee)\" style=\"fill: none; stroke-dasharray: 5.55,2.4; stroke-dashoffset: 0; stroke: #ff7f0e; stroke-width: 1.5\"/>\n   </g>\n   <g id=\"line2d_70\">\n    <path d=\"M 49.633125 139.5 \nL 69.163125 135.681974 \nL 88.693125 126.654462 \nL 108.223125 128.900027 \nL 127.753125 113.888113 \n\" clip-path=\"url(#pec4d2cc7ee)\" style=\"fill: none; stroke-dasharray: 9.6,2.4,1.5,2.4; stroke-dashoffset: 0; stroke: #2ca02c; stroke-width: 1.5\"/>\n   </g>\n   <g id=\"line2d_71\">\n    <path d=\"M 34.954394 13.5 \nL 44.698573 13.547528 \nL 54.442752 13.593891 \nL 64.186931 13.637441 \nL 73.93111 13.720065 \nL 83.675289 13.8593 \nL 93.419468 14.181201 \nL 103.163647 15.182919 \nL 112.907826 22.737285 \nL 122.652006 45.505637 \nL 132.396185 79.09906 \nL 142.140364 91.283352 \n\" clip-path=\"url(#pec4d2cc7ee)\" style=\"fill: none; stroke: #1f77b4; stroke-width: 1.5; stroke-linecap: square\"/>\n   </g>\n   <g id=\"line2d_72\">\n    <path d=\"M 49.633125 13.574012 \nL 69.163125 13.676404 \nL 88.693125 13.986669 \nL 108.223125 16.488561 \nL 127.753125 75.992208 \n\" clip-path=\"url(#pec4d2cc7ee)\" style=\"fill: none; stroke-dasharray: 5.55,2.4; stroke-dashoffset: 0; stroke: #ff7f0e; stroke-width: 1.5\"/>\n   </g>\n   <g id=\"line2d_73\">\n    <path d=\"M 49.633125 139.5 \nL 69.163125 135.681974 \nL 88.693125 126.654462 \nL 108.223125 128.900027 \nL 127.753125 113.888113 \n\" clip-path=\"url(#pec4d2cc7ee)\" style=\"fill: none; stroke-dasharray: 9.6,2.4,1.5,2.4; stroke-dashoffset: 0; stroke: #2ca02c; stroke-width: 1.5\"/>\n   </g>\n   <g id=\"line2d_74\">\n    <path d=\"M 34.954394 13.5 \nL 44.698573 13.547528 \nL 54.442752 13.593891 \nL 64.186931 13.637441 \nL 73.93111 13.720065 \nL 83.675289 13.8593 \nL 93.419468 14.181201 \nL 103.163647 15.182919 \nL 112.907826 22.737285 \nL 122.652006 45.505637 \nL 132.396185 79.09906 \nL 142.140364 91.283352 \n\" clip-path=\"url(#pec4d2cc7ee)\" style=\"fill: none; stroke: #1f77b4; stroke-width: 1.5; stroke-linecap: square\"/>\n   </g>\n   <g id=\"line2d_75\">\n    <path d=\"M 49.633125 13.574012 \nL 69.163125 13.676404 \nL 88.693125 13.986669 \nL 108.223125 16.488561 \nL 127.753125 75.992208 \nL 147.283125 97.753558 \n\" clip-path=\"url(#pec4d2cc7ee)\" style=\"fill: none; stroke-dasharray: 5.55,2.4; stroke-dashoffset: 0; stroke: #ff7f0e; stroke-width: 1.5\"/>\n   </g>\n   <g id=\"line2d_76\">\n    <path d=\"M 49.633125 139.5 \nL 69.163125 135.681974 \nL 88.693125 126.654462 \nL 108.223125 128.900027 \nL 127.753125 113.888113 \n\" clip-path=\"url(#pec4d2cc7ee)\" style=\"fill: none; stroke-dasharray: 9.6,2.4,1.5,2.4; stroke-dashoffset: 0; stroke: #2ca02c; stroke-width: 1.5\"/>\n   </g>\n   <g id=\"line2d_77\">\n    <path d=\"M 34.954394 13.5 \nL 44.698573 13.547528 \nL 54.442752 13.593891 \nL 64.186931 13.637441 \nL 73.93111 13.720065 \nL 83.675289 13.8593 \nL 93.419468 14.181201 \nL 103.163647 15.182919 \nL 112.907826 22.737285 \nL 122.652006 45.505637 \nL 132.396185 79.09906 \nL 142.140364 91.283352 \n\" clip-path=\"url(#pec4d2cc7ee)\" style=\"fill: none; stroke: #1f77b4; stroke-width: 1.5; stroke-linecap: square\"/>\n   </g>\n   <g id=\"line2d_78\">\n    <path d=\"M 49.633125 13.574012 \nL 69.163125 13.676404 \nL 88.693125 13.986669 \nL 108.223125 16.488561 \nL 127.753125 75.992208 \nL 147.283125 97.753558 \n\" clip-path=\"url(#pec4d2cc7ee)\" style=\"fill: none; stroke-dasharray: 5.55,2.4; stroke-dashoffset: 0; stroke: #ff7f0e; stroke-width: 1.5\"/>\n   </g>\n   <g id=\"line2d_79\">\n    <path d=\"M 49.633125 139.5 \nL 69.163125 135.681974 \nL 88.693125 126.654462 \nL 108.223125 128.900027 \nL 127.753125 113.888113 \nL 147.283125 106.35953 \n\" clip-path=\"url(#pec4d2cc7ee)\" style=\"fill: none; stroke-dasharray: 9.6,2.4,1.5,2.4; stroke-dashoffset: 0; stroke: #2ca02c; stroke-width: 1.5\"/>\n   </g>\n   <g id=\"line2d_80\">\n    <path d=\"M 34.954394 13.5 \nL 44.698573 13.547528 \nL 54.442752 13.593891 \nL 64.186931 13.637441 \nL 73.93111 13.720065 \nL 83.675289 13.8593 \nL 93.419468 14.181201 \nL 103.163647 15.182919 \nL 112.907826 22.737285 \nL 122.652006 45.505637 \nL 132.396185 79.09906 \nL 142.140364 91.283352 \nL 151.884543 98.722827 \n\" clip-path=\"url(#pec4d2cc7ee)\" style=\"fill: none; stroke: #1f77b4; stroke-width: 1.5; stroke-linecap: square\"/>\n   </g>\n   <g id=\"line2d_81\">\n    <path d=\"M 49.633125 13.574012 \nL 69.163125 13.676404 \nL 88.693125 13.986669 \nL 108.223125 16.488561 \nL 127.753125 75.992208 \nL 147.283125 97.753558 \n\" clip-path=\"url(#pec4d2cc7ee)\" style=\"fill: none; stroke-dasharray: 5.55,2.4; stroke-dashoffset: 0; stroke: #ff7f0e; stroke-width: 1.5\"/>\n   </g>\n   <g id=\"line2d_82\">\n    <path d=\"M 49.633125 139.5 \nL 69.163125 135.681974 \nL 88.693125 126.654462 \nL 108.223125 128.900027 \nL 127.753125 113.888113 \nL 147.283125 106.35953 \n\" clip-path=\"url(#pec4d2cc7ee)\" style=\"fill: none; stroke-dasharray: 9.6,2.4,1.5,2.4; stroke-dashoffset: 0; stroke: #2ca02c; stroke-width: 1.5\"/>\n   </g>\n   <g id=\"line2d_83\">\n    <path d=\"M 34.954394 13.5 \nL 44.698573 13.547528 \nL 54.442752 13.593891 \nL 64.186931 13.637441 \nL 73.93111 13.720065 \nL 83.675289 13.8593 \nL 93.419468 14.181201 \nL 103.163647 15.182919 \nL 112.907826 22.737285 \nL 122.652006 45.505637 \nL 132.396185 79.09906 \nL 142.140364 91.283352 \nL 151.884543 98.722827 \nL 161.628722 104.771655 \n\" clip-path=\"url(#pec4d2cc7ee)\" style=\"fill: none; stroke: #1f77b4; stroke-width: 1.5; stroke-linecap: square\"/>\n   </g>\n   <g id=\"line2d_84\">\n    <path d=\"M 49.633125 13.574012 \nL 69.163125 13.676404 \nL 88.693125 13.986669 \nL 108.223125 16.488561 \nL 127.753125 75.992208 \nL 147.283125 97.753558 \n\" clip-path=\"url(#pec4d2cc7ee)\" style=\"fill: none; stroke-dasharray: 5.55,2.4; stroke-dashoffset: 0; stroke: #ff7f0e; stroke-width: 1.5\"/>\n   </g>\n   <g id=\"line2d_85\">\n    <path d=\"M 49.633125 139.5 \nL 69.163125 135.681974 \nL 88.693125 126.654462 \nL 108.223125 128.900027 \nL 127.753125 113.888113 \nL 147.283125 106.35953 \n\" clip-path=\"url(#pec4d2cc7ee)\" style=\"fill: none; stroke-dasharray: 9.6,2.4,1.5,2.4; stroke-dashoffset: 0; stroke: #2ca02c; stroke-width: 1.5\"/>\n   </g>\n   <g id=\"line2d_86\">\n    <path d=\"M 34.954394 13.5 \nL 44.698573 13.547528 \nL 54.442752 13.593891 \nL 64.186931 13.637441 \nL 73.93111 13.720065 \nL 83.675289 13.8593 \nL 93.419468 14.181201 \nL 103.163647 15.182919 \nL 112.907826 22.737285 \nL 122.652006 45.505637 \nL 132.396185 79.09906 \nL 142.140364 91.283352 \nL 151.884543 98.722827 \nL 161.628722 104.771655 \n\" clip-path=\"url(#pec4d2cc7ee)\" style=\"fill: none; stroke: #1f77b4; stroke-width: 1.5; stroke-linecap: square\"/>\n   </g>\n   <g id=\"line2d_87\">\n    <path d=\"M 49.633125 13.574012 \nL 69.163125 13.676404 \nL 88.693125 13.986669 \nL 108.223125 16.488561 \nL 127.753125 75.992208 \nL 147.283125 97.753558 \nL 166.813125 90.478381 \n\" clip-path=\"url(#pec4d2cc7ee)\" style=\"fill: none; stroke-dasharray: 5.55,2.4; stroke-dashoffset: 0; stroke: #ff7f0e; stroke-width: 1.5\"/>\n   </g>\n   <g id=\"line2d_88\">\n    <path d=\"M 49.633125 139.5 \nL 69.163125 135.681974 \nL 88.693125 126.654462 \nL 108.223125 128.900027 \nL 127.753125 113.888113 \nL 147.283125 106.35953 \n\" clip-path=\"url(#pec4d2cc7ee)\" style=\"fill: none; stroke-dasharray: 9.6,2.4,1.5,2.4; stroke-dashoffset: 0; stroke: #2ca02c; stroke-width: 1.5\"/>\n   </g>\n   <g id=\"line2d_89\">\n    <path d=\"M 34.954394 13.5 \nL 44.698573 13.547528 \nL 54.442752 13.593891 \nL 64.186931 13.637441 \nL 73.93111 13.720065 \nL 83.675289 13.8593 \nL 93.419468 14.181201 \nL 103.163647 15.182919 \nL 112.907826 22.737285 \nL 122.652006 45.505637 \nL 132.396185 79.09906 \nL 142.140364 91.283352 \nL 151.884543 98.722827 \nL 161.628722 104.771655 \n\" clip-path=\"url(#pec4d2cc7ee)\" style=\"fill: none; stroke: #1f77b4; stroke-width: 1.5; stroke-linecap: square\"/>\n   </g>\n   <g id=\"line2d_90\">\n    <path d=\"M 49.633125 13.574012 \nL 69.163125 13.676404 \nL 88.693125 13.986669 \nL 108.223125 16.488561 \nL 127.753125 75.992208 \nL 147.283125 97.753558 \nL 166.813125 90.478381 \n\" clip-path=\"url(#pec4d2cc7ee)\" style=\"fill: none; stroke-dasharray: 5.55,2.4; stroke-dashoffset: 0; stroke: #ff7f0e; stroke-width: 1.5\"/>\n   </g>\n   <g id=\"line2d_91\">\n    <path d=\"M 49.633125 139.5 \nL 69.163125 135.681974 \nL 88.693125 126.654462 \nL 108.223125 128.900027 \nL 127.753125 113.888113 \nL 147.283125 106.35953 \nL 166.813125 109.312138 \n\" clip-path=\"url(#pec4d2cc7ee)\" style=\"fill: none; stroke-dasharray: 9.6,2.4,1.5,2.4; stroke-dashoffset: 0; stroke: #2ca02c; stroke-width: 1.5\"/>\n   </g>\n   <g id=\"line2d_92\">\n    <path d=\"M 34.954394 13.5 \nL 44.698573 13.547528 \nL 54.442752 13.593891 \nL 64.186931 13.637441 \nL 73.93111 13.720065 \nL 83.675289 13.8593 \nL 93.419468 14.181201 \nL 103.163647 15.182919 \nL 112.907826 22.737285 \nL 122.652006 45.505637 \nL 132.396185 79.09906 \nL 142.140364 91.283352 \nL 151.884543 98.722827 \nL 161.628722 104.771655 \nL 171.372901 107.791121 \n\" clip-path=\"url(#pec4d2cc7ee)\" style=\"fill: none; stroke: #1f77b4; stroke-width: 1.5; stroke-linecap: square\"/>\n   </g>\n   <g id=\"line2d_93\">\n    <path d=\"M 49.633125 13.574012 \nL 69.163125 13.676404 \nL 88.693125 13.986669 \nL 108.223125 16.488561 \nL 127.753125 75.992208 \nL 147.283125 97.753558 \nL 166.813125 90.478381 \n\" clip-path=\"url(#pec4d2cc7ee)\" style=\"fill: none; stroke-dasharray: 5.55,2.4; stroke-dashoffset: 0; stroke: #ff7f0e; stroke-width: 1.5\"/>\n   </g>\n   <g id=\"line2d_94\">\n    <path d=\"M 49.633125 139.5 \nL 69.163125 135.681974 \nL 88.693125 126.654462 \nL 108.223125 128.900027 \nL 127.753125 113.888113 \nL 147.283125 106.35953 \nL 166.813125 109.312138 \n\" clip-path=\"url(#pec4d2cc7ee)\" style=\"fill: none; stroke-dasharray: 9.6,2.4,1.5,2.4; stroke-dashoffset: 0; stroke: #2ca02c; stroke-width: 1.5\"/>\n   </g>\n   <g id=\"line2d_95\">\n    <path d=\"M 34.954394 13.5 \nL 44.698573 13.547528 \nL 54.442752 13.593891 \nL 64.186931 13.637441 \nL 73.93111 13.720065 \nL 83.675289 13.8593 \nL 93.419468 14.181201 \nL 103.163647 15.182919 \nL 112.907826 22.737285 \nL 122.652006 45.505637 \nL 132.396185 79.09906 \nL 142.140364 91.283352 \nL 151.884543 98.722827 \nL 161.628722 104.771655 \nL 171.372901 107.791121 \nL 181.11708 110.409145 \n\" clip-path=\"url(#pec4d2cc7ee)\" style=\"fill: none; stroke: #1f77b4; stroke-width: 1.5; stroke-linecap: square\"/>\n   </g>\n   <g id=\"line2d_96\">\n    <path d=\"M 49.633125 13.574012 \nL 69.163125 13.676404 \nL 88.693125 13.986669 \nL 108.223125 16.488561 \nL 127.753125 75.992208 \nL 147.283125 97.753558 \nL 166.813125 90.478381 \n\" clip-path=\"url(#pec4d2cc7ee)\" style=\"fill: none; stroke-dasharray: 5.55,2.4; stroke-dashoffset: 0; stroke: #ff7f0e; stroke-width: 1.5\"/>\n   </g>\n   <g id=\"line2d_97\">\n    <path d=\"M 49.633125 139.5 \nL 69.163125 135.681974 \nL 88.693125 126.654462 \nL 108.223125 128.900027 \nL 127.753125 113.888113 \nL 147.283125 106.35953 \nL 166.813125 109.312138 \n\" clip-path=\"url(#pec4d2cc7ee)\" style=\"fill: none; stroke-dasharray: 9.6,2.4,1.5,2.4; stroke-dashoffset: 0; stroke: #2ca02c; stroke-width: 1.5\"/>\n   </g>\n   <g id=\"line2d_98\">\n    <path d=\"M 34.954394 13.5 \nL 44.698573 13.547528 \nL 54.442752 13.593891 \nL 64.186931 13.637441 \nL 73.93111 13.720065 \nL 83.675289 13.8593 \nL 93.419468 14.181201 \nL 103.163647 15.182919 \nL 112.907826 22.737285 \nL 122.652006 45.505637 \nL 132.396185 79.09906 \nL 142.140364 91.283352 \nL 151.884543 98.722827 \nL 161.628722 104.771655 \nL 171.372901 107.791121 \nL 181.11708 110.409145 \n\" clip-path=\"url(#pec4d2cc7ee)\" style=\"fill: none; stroke: #1f77b4; stroke-width: 1.5; stroke-linecap: square\"/>\n   </g>\n   <g id=\"line2d_99\">\n    <path d=\"M 49.633125 13.574012 \nL 69.163125 13.676404 \nL 88.693125 13.986669 \nL 108.223125 16.488561 \nL 127.753125 75.992208 \nL 147.283125 97.753558 \nL 166.813125 90.478381 \nL 186.343125 108.251703 \n\" clip-path=\"url(#pec4d2cc7ee)\" style=\"fill: none; stroke-dasharray: 5.55,2.4; stroke-dashoffset: 0; stroke: #ff7f0e; stroke-width: 1.5\"/>\n   </g>\n   <g id=\"line2d_100\">\n    <path d=\"M 49.633125 139.5 \nL 69.163125 135.681974 \nL 88.693125 126.654462 \nL 108.223125 128.900027 \nL 127.753125 113.888113 \nL 147.283125 106.35953 \nL 166.813125 109.312138 \n\" clip-path=\"url(#pec4d2cc7ee)\" style=\"fill: none; stroke-dasharray: 9.6,2.4,1.5,2.4; stroke-dashoffset: 0; stroke: #2ca02c; stroke-width: 1.5\"/>\n   </g>\n   <g id=\"line2d_101\">\n    <path d=\"M 34.954394 13.5 \nL 44.698573 13.547528 \nL 54.442752 13.593891 \nL 64.186931 13.637441 \nL 73.93111 13.720065 \nL 83.675289 13.8593 \nL 93.419468 14.181201 \nL 103.163647 15.182919 \nL 112.907826 22.737285 \nL 122.652006 45.505637 \nL 132.396185 79.09906 \nL 142.140364 91.283352 \nL 151.884543 98.722827 \nL 161.628722 104.771655 \nL 171.372901 107.791121 \nL 181.11708 110.409145 \n\" clip-path=\"url(#pec4d2cc7ee)\" style=\"fill: none; stroke: #1f77b4; stroke-width: 1.5; stroke-linecap: square\"/>\n   </g>\n   <g id=\"line2d_102\">\n    <path d=\"M 49.633125 13.574012 \nL 69.163125 13.676404 \nL 88.693125 13.986669 \nL 108.223125 16.488561 \nL 127.753125 75.992208 \nL 147.283125 97.753558 \nL 166.813125 90.478381 \nL 186.343125 108.251703 \n\" clip-path=\"url(#pec4d2cc7ee)\" style=\"fill: none; stroke-dasharray: 5.55,2.4; stroke-dashoffset: 0; stroke: #ff7f0e; stroke-width: 1.5\"/>\n   </g>\n   <g id=\"line2d_103\">\n    <path d=\"M 49.633125 139.5 \nL 69.163125 135.681974 \nL 88.693125 126.654462 \nL 108.223125 128.900027 \nL 127.753125 113.888113 \nL 147.283125 106.35953 \nL 166.813125 109.312138 \nL 186.343125 101.63649 \n\" clip-path=\"url(#pec4d2cc7ee)\" style=\"fill: none; stroke-dasharray: 9.6,2.4,1.5,2.4; stroke-dashoffset: 0; stroke: #2ca02c; stroke-width: 1.5\"/>\n   </g>\n   <g id=\"line2d_104\">\n    <path d=\"M 34.954394 13.5 \nL 44.698573 13.547528 \nL 54.442752 13.593891 \nL 64.186931 13.637441 \nL 73.93111 13.720065 \nL 83.675289 13.8593 \nL 93.419468 14.181201 \nL 103.163647 15.182919 \nL 112.907826 22.737285 \nL 122.652006 45.505637 \nL 132.396185 79.09906 \nL 142.140364 91.283352 \nL 151.884543 98.722827 \nL 161.628722 104.771655 \nL 171.372901 107.791121 \nL 181.11708 110.409145 \nL 190.861259 112.901546 \n\" clip-path=\"url(#pec4d2cc7ee)\" style=\"fill: none; stroke: #1f77b4; stroke-width: 1.5; stroke-linecap: square\"/>\n   </g>\n   <g id=\"line2d_105\">\n    <path d=\"M 49.633125 13.574012 \nL 69.163125 13.676404 \nL 88.693125 13.986669 \nL 108.223125 16.488561 \nL 127.753125 75.992208 \nL 147.283125 97.753558 \nL 166.813125 90.478381 \nL 186.343125 108.251703 \n\" clip-path=\"url(#pec4d2cc7ee)\" style=\"fill: none; stroke-dasharray: 5.55,2.4; stroke-dashoffset: 0; stroke: #ff7f0e; stroke-width: 1.5\"/>\n   </g>\n   <g id=\"line2d_106\">\n    <path d=\"M 49.633125 139.5 \nL 69.163125 135.681974 \nL 88.693125 126.654462 \nL 108.223125 128.900027 \nL 127.753125 113.888113 \nL 147.283125 106.35953 \nL 166.813125 109.312138 \nL 186.343125 101.63649 \n\" clip-path=\"url(#pec4d2cc7ee)\" style=\"fill: none; stroke-dasharray: 9.6,2.4,1.5,2.4; stroke-dashoffset: 0; stroke: #2ca02c; stroke-width: 1.5\"/>\n   </g>\n   <g id=\"line2d_107\">\n    <path d=\"M 34.954394 13.5 \nL 44.698573 13.547528 \nL 54.442752 13.593891 \nL 64.186931 13.637441 \nL 73.93111 13.720065 \nL 83.675289 13.8593 \nL 93.419468 14.181201 \nL 103.163647 15.182919 \nL 112.907826 22.737285 \nL 122.652006 45.505637 \nL 132.396185 79.09906 \nL 142.140364 91.283352 \nL 151.884543 98.722827 \nL 161.628722 104.771655 \nL 171.372901 107.791121 \nL 181.11708 110.409145 \nL 190.861259 112.901546 \nL 200.605438 114.290911 \n\" clip-path=\"url(#pec4d2cc7ee)\" style=\"fill: none; stroke: #1f77b4; stroke-width: 1.5; stroke-linecap: square\"/>\n   </g>\n   <g id=\"line2d_108\">\n    <path d=\"M 49.633125 13.574012 \nL 69.163125 13.676404 \nL 88.693125 13.986669 \nL 108.223125 16.488561 \nL 127.753125 75.992208 \nL 147.283125 97.753558 \nL 166.813125 90.478381 \nL 186.343125 108.251703 \n\" clip-path=\"url(#pec4d2cc7ee)\" style=\"fill: none; stroke-dasharray: 5.55,2.4; stroke-dashoffset: 0; stroke: #ff7f0e; stroke-width: 1.5\"/>\n   </g>\n   <g id=\"line2d_109\">\n    <path d=\"M 49.633125 139.5 \nL 69.163125 135.681974 \nL 88.693125 126.654462 \nL 108.223125 128.900027 \nL 127.753125 113.888113 \nL 147.283125 106.35953 \nL 166.813125 109.312138 \nL 186.343125 101.63649 \n\" clip-path=\"url(#pec4d2cc7ee)\" style=\"fill: none; stroke-dasharray: 9.6,2.4,1.5,2.4; stroke-dashoffset: 0; stroke: #2ca02c; stroke-width: 1.5\"/>\n   </g>\n   <g id=\"line2d_110\">\n    <path d=\"M 34.954394 13.5 \nL 44.698573 13.547528 \nL 54.442752 13.593891 \nL 64.186931 13.637441 \nL 73.93111 13.720065 \nL 83.675289 13.8593 \nL 93.419468 14.181201 \nL 103.163647 15.182919 \nL 112.907826 22.737285 \nL 122.652006 45.505637 \nL 132.396185 79.09906 \nL 142.140364 91.283352 \nL 151.884543 98.722827 \nL 161.628722 104.771655 \nL 171.372901 107.791121 \nL 181.11708 110.409145 \nL 190.861259 112.901546 \nL 200.605438 114.290911 \n\" clip-path=\"url(#pec4d2cc7ee)\" style=\"fill: none; stroke: #1f77b4; stroke-width: 1.5; stroke-linecap: square\"/>\n   </g>\n   <g id=\"line2d_111\">\n    <path d=\"M 49.633125 13.574012 \nL 69.163125 13.676404 \nL 88.693125 13.986669 \nL 108.223125 16.488561 \nL 127.753125 75.992208 \nL 147.283125 97.753558 \nL 166.813125 90.478381 \nL 186.343125 108.251703 \nL 205.873125 113.961093 \n\" clip-path=\"url(#pec4d2cc7ee)\" style=\"fill: none; stroke-dasharray: 5.55,2.4; stroke-dashoffset: 0; stroke: #ff7f0e; stroke-width: 1.5\"/>\n   </g>\n   <g id=\"line2d_112\">\n    <path d=\"M 49.633125 139.5 \nL 69.163125 135.681974 \nL 88.693125 126.654462 \nL 108.223125 128.900027 \nL 127.753125 113.888113 \nL 147.283125 106.35953 \nL 166.813125 109.312138 \nL 186.343125 101.63649 \n\" clip-path=\"url(#pec4d2cc7ee)\" style=\"fill: none; stroke-dasharray: 9.6,2.4,1.5,2.4; stroke-dashoffset: 0; stroke: #2ca02c; stroke-width: 1.5\"/>\n   </g>\n   <g id=\"line2d_113\">\n    <path d=\"M 34.954394 13.5 \nL 44.698573 13.547528 \nL 54.442752 13.593891 \nL 64.186931 13.637441 \nL 73.93111 13.720065 \nL 83.675289 13.8593 \nL 93.419468 14.181201 \nL 103.163647 15.182919 \nL 112.907826 22.737285 \nL 122.652006 45.505637 \nL 132.396185 79.09906 \nL 142.140364 91.283352 \nL 151.884543 98.722827 \nL 161.628722 104.771655 \nL 171.372901 107.791121 \nL 181.11708 110.409145 \nL 190.861259 112.901546 \nL 200.605438 114.290911 \n\" clip-path=\"url(#pec4d2cc7ee)\" style=\"fill: none; stroke: #1f77b4; stroke-width: 1.5; stroke-linecap: square\"/>\n   </g>\n   <g id=\"line2d_114\">\n    <path d=\"M 49.633125 13.574012 \nL 69.163125 13.676404 \nL 88.693125 13.986669 \nL 108.223125 16.488561 \nL 127.753125 75.992208 \nL 147.283125 97.753558 \nL 166.813125 90.478381 \nL 186.343125 108.251703 \nL 205.873125 113.961093 \n\" clip-path=\"url(#pec4d2cc7ee)\" style=\"fill: none; stroke-dasharray: 5.55,2.4; stroke-dashoffset: 0; stroke: #ff7f0e; stroke-width: 1.5\"/>\n   </g>\n   <g id=\"line2d_115\">\n    <path d=\"M 49.633125 139.5 \nL 69.163125 135.681974 \nL 88.693125 126.654462 \nL 108.223125 128.900027 \nL 127.753125 113.888113 \nL 147.283125 106.35953 \nL 166.813125 109.312138 \nL 186.343125 101.63649 \nL 205.873125 99.967871 \n\" clip-path=\"url(#pec4d2cc7ee)\" style=\"fill: none; stroke-dasharray: 9.6,2.4,1.5,2.4; stroke-dashoffset: 0; stroke: #2ca02c; stroke-width: 1.5\"/>\n   </g>\n   <g id=\"line2d_116\">\n    <path d=\"M 34.954394 13.5 \nL 44.698573 13.547528 \nL 54.442752 13.593891 \nL 64.186931 13.637441 \nL 73.93111 13.720065 \nL 83.675289 13.8593 \nL 93.419468 14.181201 \nL 103.163647 15.182919 \nL 112.907826 22.737285 \nL 122.652006 45.505637 \nL 132.396185 79.09906 \nL 142.140364 91.283352 \nL 151.884543 98.722827 \nL 161.628722 104.771655 \nL 171.372901 107.791121 \nL 181.11708 110.409145 \nL 190.861259 112.901546 \nL 200.605438 114.290911 \nL 210.349618 116.276413 \n\" clip-path=\"url(#pec4d2cc7ee)\" style=\"fill: none; stroke: #1f77b4; stroke-width: 1.5; stroke-linecap: square\"/>\n   </g>\n   <g id=\"line2d_117\">\n    <path d=\"M 49.633125 13.574012 \nL 69.163125 13.676404 \nL 88.693125 13.986669 \nL 108.223125 16.488561 \nL 127.753125 75.992208 \nL 147.283125 97.753558 \nL 166.813125 90.478381 \nL 186.343125 108.251703 \nL 205.873125 113.961093 \n\" clip-path=\"url(#pec4d2cc7ee)\" style=\"fill: none; stroke-dasharray: 5.55,2.4; stroke-dashoffset: 0; stroke: #ff7f0e; stroke-width: 1.5\"/>\n   </g>\n   <g id=\"line2d_118\">\n    <path d=\"M 49.633125 139.5 \nL 69.163125 135.681974 \nL 88.693125 126.654462 \nL 108.223125 128.900027 \nL 127.753125 113.888113 \nL 147.283125 106.35953 \nL 166.813125 109.312138 \nL 186.343125 101.63649 \nL 205.873125 99.967871 \n\" clip-path=\"url(#pec4d2cc7ee)\" style=\"fill: none; stroke-dasharray: 9.6,2.4,1.5,2.4; stroke-dashoffset: 0; stroke: #2ca02c; stroke-width: 1.5\"/>\n   </g>\n   <g id=\"line2d_119\">\n    <path d=\"M 34.954394 13.5 \nL 44.698573 13.547528 \nL 54.442752 13.593891 \nL 64.186931 13.637441 \nL 73.93111 13.720065 \nL 83.675289 13.8593 \nL 93.419468 14.181201 \nL 103.163647 15.182919 \nL 112.907826 22.737285 \nL 122.652006 45.505637 \nL 132.396185 79.09906 \nL 142.140364 91.283352 \nL 151.884543 98.722827 \nL 161.628722 104.771655 \nL 171.372901 107.791121 \nL 181.11708 110.409145 \nL 190.861259 112.901546 \nL 200.605438 114.290911 \nL 210.349618 116.276413 \nL 220.093797 107.535791 \n\" clip-path=\"url(#pec4d2cc7ee)\" style=\"fill: none; stroke: #1f77b4; stroke-width: 1.5; stroke-linecap: square\"/>\n   </g>\n   <g id=\"line2d_120\">\n    <path d=\"M 49.633125 13.574012 \nL 69.163125 13.676404 \nL 88.693125 13.986669 \nL 108.223125 16.488561 \nL 127.753125 75.992208 \nL 147.283125 97.753558 \nL 166.813125 90.478381 \nL 186.343125 108.251703 \nL 205.873125 113.961093 \n\" clip-path=\"url(#pec4d2cc7ee)\" style=\"fill: none; stroke-dasharray: 5.55,2.4; stroke-dashoffset: 0; stroke: #ff7f0e; stroke-width: 1.5\"/>\n   </g>\n   <g id=\"line2d_121\">\n    <path d=\"M 49.633125 139.5 \nL 69.163125 135.681974 \nL 88.693125 126.654462 \nL 108.223125 128.900027 \nL 127.753125 113.888113 \nL 147.283125 106.35953 \nL 166.813125 109.312138 \nL 186.343125 101.63649 \nL 205.873125 99.967871 \n\" clip-path=\"url(#pec4d2cc7ee)\" style=\"fill: none; stroke-dasharray: 9.6,2.4,1.5,2.4; stroke-dashoffset: 0; stroke: #2ca02c; stroke-width: 1.5\"/>\n   </g>\n   <g id=\"line2d_122\">\n    <path d=\"M 34.954394 13.5 \nL 44.698573 13.547528 \nL 54.442752 13.593891 \nL 64.186931 13.637441 \nL 73.93111 13.720065 \nL 83.675289 13.8593 \nL 93.419468 14.181201 \nL 103.163647 15.182919 \nL 112.907826 22.737285 \nL 122.652006 45.505637 \nL 132.396185 79.09906 \nL 142.140364 91.283352 \nL 151.884543 98.722827 \nL 161.628722 104.771655 \nL 171.372901 107.791121 \nL 181.11708 110.409145 \nL 190.861259 112.901546 \nL 200.605438 114.290911 \nL 210.349618 116.276413 \nL 220.093797 107.535791 \n\" clip-path=\"url(#pec4d2cc7ee)\" style=\"fill: none; stroke: #1f77b4; stroke-width: 1.5; stroke-linecap: square\"/>\n   </g>\n   <g id=\"line2d_123\">\n    <path d=\"M 49.633125 13.574012 \nL 69.163125 13.676404 \nL 88.693125 13.986669 \nL 108.223125 16.488561 \nL 127.753125 75.992208 \nL 147.283125 97.753558 \nL 166.813125 90.478381 \nL 186.343125 108.251703 \nL 205.873125 113.961093 \nL 225.403125 111.697405 \n\" clip-path=\"url(#pec4d2cc7ee)\" style=\"fill: none; stroke-dasharray: 5.55,2.4; stroke-dashoffset: 0; stroke: #ff7f0e; stroke-width: 1.5\"/>\n   </g>\n   <g id=\"line2d_124\">\n    <path d=\"M 49.633125 139.5 \nL 69.163125 135.681974 \nL 88.693125 126.654462 \nL 108.223125 128.900027 \nL 127.753125 113.888113 \nL 147.283125 106.35953 \nL 166.813125 109.312138 \nL 186.343125 101.63649 \nL 205.873125 99.967871 \n\" clip-path=\"url(#pec4d2cc7ee)\" style=\"fill: none; stroke-dasharray: 9.6,2.4,1.5,2.4; stroke-dashoffset: 0; stroke: #2ca02c; stroke-width: 1.5\"/>\n   </g>\n   <g id=\"line2d_125\">\n    <path d=\"M 34.954394 13.5 \nL 44.698573 13.547528 \nL 54.442752 13.593891 \nL 64.186931 13.637441 \nL 73.93111 13.720065 \nL 83.675289 13.8593 \nL 93.419468 14.181201 \nL 103.163647 15.182919 \nL 112.907826 22.737285 \nL 122.652006 45.505637 \nL 132.396185 79.09906 \nL 142.140364 91.283352 \nL 151.884543 98.722827 \nL 161.628722 104.771655 \nL 171.372901 107.791121 \nL 181.11708 110.409145 \nL 190.861259 112.901546 \nL 200.605438 114.290911 \nL 210.349618 116.276413 \nL 220.093797 107.535791 \n\" clip-path=\"url(#pec4d2cc7ee)\" style=\"fill: none; stroke: #1f77b4; stroke-width: 1.5; stroke-linecap: square\"/>\n   </g>\n   <g id=\"line2d_126\">\n    <path d=\"M 49.633125 13.574012 \nL 69.163125 13.676404 \nL 88.693125 13.986669 \nL 108.223125 16.488561 \nL 127.753125 75.992208 \nL 147.283125 97.753558 \nL 166.813125 90.478381 \nL 186.343125 108.251703 \nL 205.873125 113.961093 \nL 225.403125 111.697405 \n\" clip-path=\"url(#pec4d2cc7ee)\" style=\"fill: none; stroke-dasharray: 5.55,2.4; stroke-dashoffset: 0; stroke: #ff7f0e; stroke-width: 1.5\"/>\n   </g>\n   <g id=\"line2d_127\">\n    <path d=\"M 49.633125 139.5 \nL 69.163125 135.681974 \nL 88.693125 126.654462 \nL 108.223125 128.900027 \nL 127.753125 113.888113 \nL 147.283125 106.35953 \nL 166.813125 109.312138 \nL 186.343125 101.63649 \nL 205.873125 99.967871 \nL 225.403125 100.821978 \n\" clip-path=\"url(#pec4d2cc7ee)\" style=\"fill: none; stroke-dasharray: 9.6,2.4,1.5,2.4; stroke-dashoffset: 0; stroke: #2ca02c; stroke-width: 1.5\"/>\n   </g>\n   <g id=\"patch_3\">\n    <path d=\"M 30.103125 145.8 \nL 30.103125 7.2 \n\" style=\"fill: none; stroke: #000000; stroke-width: 0.8; stroke-linejoin: miter; stroke-linecap: square\"/>\n   </g>\n   <g id=\"patch_4\">\n    <path d=\"M 225.403125 145.8 \nL 225.403125 7.2 \n\" style=\"fill: none; stroke: #000000; stroke-width: 0.8; stroke-linejoin: miter; stroke-linecap: square\"/>\n   </g>\n   <g id=\"patch_5\">\n    <path d=\"M 30.103125 145.8 \nL 225.403125 145.8 \n\" style=\"fill: none; stroke: #000000; stroke-width: 0.8; stroke-linejoin: miter; stroke-linecap: square\"/>\n   </g>\n   <g id=\"patch_6\">\n    <path d=\"M 30.103125 7.2 \nL 225.403125 7.2 \n\" style=\"fill: none; stroke: #000000; stroke-width: 0.8; stroke-linejoin: miter; stroke-linecap: square\"/>\n   </g>\n   <g id=\"legend_1\">\n    <g id=\"patch_7\">\n     <path d=\"M 138.8125 60.06875 \nL 218.403125 60.06875 \nQ 220.403125 60.06875 220.403125 58.06875 \nL 220.403125 14.2 \nQ 220.403125 12.2 218.403125 12.2 \nL 138.8125 12.2 \nQ 136.8125 12.2 136.8125 14.2 \nL 136.8125 58.06875 \nQ 136.8125 60.06875 138.8125 60.06875 \nz\n\" style=\"fill: #ffffff; opacity: 0.8; stroke: #cccccc; stroke-linejoin: miter\"/>\n    </g>\n    <g id=\"line2d_128\">\n     <path d=\"M 140.8125 20.298438 \nL 150.8125 20.298438 \nL 160.8125 20.298438 \n\" style=\"fill: none; stroke: #1f77b4; stroke-width: 1.5; stroke-linecap: square\"/>\n    </g>\n    <g id=\"text_13\">\n     <!-- train_loss -->\n     <g transform=\"translate(168.8125 23.798438) scale(0.1 -0.1)\">\n      <defs>\n       <path id=\"DejaVuSans-74\" d=\"M 1172 4494 \nL 1172 3500 \nL 2356 3500 \nL 2356 3053 \nL 1172 3053 \nL 1172 1153 \nQ 1172 725 1289 603 \nQ 1406 481 1766 481 \nL 2356 481 \nL 2356 0 \nL 1766 0 \nQ 1100 0 847 248 \nQ 594 497 594 1153 \nL 594 3053 \nL 172 3053 \nL 172 3500 \nL 594 3500 \nL 594 4494 \nL 1172 4494 \nz\n\" transform=\"scale(0.015625)\"/>\n       <path id=\"DejaVuSans-72\" d=\"M 2631 2963 \nQ 2534 3019 2420 3045 \nQ 2306 3072 2169 3072 \nQ 1681 3072 1420 2755 \nQ 1159 2438 1159 1844 \nL 1159 0 \nL 581 0 \nL 581 3500 \nL 1159 3500 \nL 1159 2956 \nQ 1341 3275 1631 3429 \nQ 1922 3584 2338 3584 \nQ 2397 3584 2469 3576 \nQ 2541 3569 2628 3553 \nL 2631 2963 \nz\n\" transform=\"scale(0.015625)\"/>\n       <path id=\"DejaVuSans-61\" d=\"M 2194 1759 \nQ 1497 1759 1228 1600 \nQ 959 1441 959 1056 \nQ 959 750 1161 570 \nQ 1363 391 1709 391 \nQ 2188 391 2477 730 \nQ 2766 1069 2766 1631 \nL 2766 1759 \nL 2194 1759 \nz\nM 3341 1997 \nL 3341 0 \nL 2766 0 \nL 2766 531 \nQ 2569 213 2275 61 \nQ 1981 -91 1556 -91 \nQ 1019 -91 701 211 \nQ 384 513 384 1019 \nQ 384 1609 779 1909 \nQ 1175 2209 1959 2209 \nL 2766 2209 \nL 2766 2266 \nQ 2766 2663 2505 2880 \nQ 2244 3097 1772 3097 \nQ 1472 3097 1187 3025 \nQ 903 2953 641 2809 \nL 641 3341 \nQ 956 3463 1253 3523 \nQ 1550 3584 1831 3584 \nQ 2591 3584 2966 3190 \nQ 3341 2797 3341 1997 \nz\n\" transform=\"scale(0.015625)\"/>\n       <path id=\"DejaVuSans-69\" d=\"M 603 3500 \nL 1178 3500 \nL 1178 0 \nL 603 0 \nL 603 3500 \nz\nM 603 4863 \nL 1178 4863 \nL 1178 4134 \nL 603 4134 \nL 603 4863 \nz\n\" transform=\"scale(0.015625)\"/>\n       <path id=\"DejaVuSans-6e\" d=\"M 3513 2113 \nL 3513 0 \nL 2938 0 \nL 2938 2094 \nQ 2938 2591 2744 2837 \nQ 2550 3084 2163 3084 \nQ 1697 3084 1428 2787 \nQ 1159 2491 1159 1978 \nL 1159 0 \nL 581 0 \nL 581 3500 \nL 1159 3500 \nL 1159 2956 \nQ 1366 3272 1645 3428 \nQ 1925 3584 2291 3584 \nQ 2894 3584 3203 3211 \nQ 3513 2838 3513 2113 \nz\n\" transform=\"scale(0.015625)\"/>\n       <path id=\"DejaVuSans-5f\" d=\"M 3263 -1063 \nL 3263 -1509 \nL -63 -1509 \nL -63 -1063 \nL 3263 -1063 \nz\n\" transform=\"scale(0.015625)\"/>\n       <path id=\"DejaVuSans-6c\" d=\"M 603 4863 \nL 1178 4863 \nL 1178 0 \nL 603 0 \nL 603 4863 \nz\n\" transform=\"scale(0.015625)\"/>\n       <path id=\"DejaVuSans-73\" d=\"M 2834 3397 \nL 2834 2853 \nQ 2591 2978 2328 3040 \nQ 2066 3103 1784 3103 \nQ 1356 3103 1142 2972 \nQ 928 2841 928 2578 \nQ 928 2378 1081 2264 \nQ 1234 2150 1697 2047 \nL 1894 2003 \nQ 2506 1872 2764 1633 \nQ 3022 1394 3022 966 \nQ 3022 478 2636 193 \nQ 2250 -91 1575 -91 \nQ 1294 -91 989 -36 \nQ 684 19 347 128 \nL 347 722 \nQ 666 556 975 473 \nQ 1284 391 1588 391 \nQ 1994 391 2212 530 \nQ 2431 669 2431 922 \nQ 2431 1156 2273 1281 \nQ 2116 1406 1581 1522 \nL 1381 1569 \nQ 847 1681 609 1914 \nQ 372 2147 372 2553 \nQ 372 3047 722 3315 \nQ 1072 3584 1716 3584 \nQ 2034 3584 2315 3537 \nQ 2597 3491 2834 3397 \nz\n\" transform=\"scale(0.015625)\"/>\n      </defs>\n      <use xlink:href=\"#DejaVuSans-74\"/>\n      <use xlink:href=\"#DejaVuSans-72\" x=\"39.208984\"/>\n      <use xlink:href=\"#DejaVuSans-61\" x=\"80.322266\"/>\n      <use xlink:href=\"#DejaVuSans-69\" x=\"141.601562\"/>\n      <use xlink:href=\"#DejaVuSans-6e\" x=\"169.384766\"/>\n      <use xlink:href=\"#DejaVuSans-5f\" x=\"232.763672\"/>\n      <use xlink:href=\"#DejaVuSans-6c\" x=\"282.763672\"/>\n      <use xlink:href=\"#DejaVuSans-6f\" x=\"310.546875\"/>\n      <use xlink:href=\"#DejaVuSans-73\" x=\"371.728516\"/>\n      <use xlink:href=\"#DejaVuSans-73\" x=\"423.828125\"/>\n     </g>\n    </g>\n    <g id=\"line2d_129\">\n     <path d=\"M 140.8125 35.254688 \nL 150.8125 35.254688 \nL 160.8125 35.254688 \n\" style=\"fill: none; stroke-dasharray: 5.55,2.4; stroke-dashoffset: 0; stroke: #ff7f0e; stroke-width: 1.5\"/>\n    </g>\n    <g id=\"text_14\">\n     <!-- val_loss -->\n     <g transform=\"translate(168.8125 38.754688) scale(0.1 -0.1)\">\n      <defs>\n       <path id=\"DejaVuSans-76\" d=\"M 191 3500 \nL 800 3500 \nL 1894 563 \nL 2988 3500 \nL 3597 3500 \nL 2284 0 \nL 1503 0 \nL 191 3500 \nz\n\" transform=\"scale(0.015625)\"/>\n      </defs>\n      <use xlink:href=\"#DejaVuSans-76\"/>\n      <use xlink:href=\"#DejaVuSans-61\" x=\"59.179688\"/>\n      <use xlink:href=\"#DejaVuSans-6c\" x=\"120.458984\"/>\n      <use xlink:href=\"#DejaVuSans-5f\" x=\"148.242188\"/>\n      <use xlink:href=\"#DejaVuSans-6c\" x=\"198.242188\"/>\n      <use xlink:href=\"#DejaVuSans-6f\" x=\"226.025391\"/>\n      <use xlink:href=\"#DejaVuSans-73\" x=\"287.207031\"/>\n      <use xlink:href=\"#DejaVuSans-73\" x=\"339.306641\"/>\n     </g>\n    </g>\n    <g id=\"line2d_130\">\n     <path d=\"M 140.8125 50.210938 \nL 150.8125 50.210938 \nL 160.8125 50.210938 \n\" style=\"fill: none; stroke-dasharray: 9.6,2.4,1.5,2.4; stroke-dashoffset: 0; stroke: #2ca02c; stroke-width: 1.5\"/>\n    </g>\n    <g id=\"text_15\">\n     <!-- val_acc -->\n     <g transform=\"translate(168.8125 53.710938) scale(0.1 -0.1)\">\n      <use xlink:href=\"#DejaVuSans-76\"/>\n      <use xlink:href=\"#DejaVuSans-61\" x=\"59.179688\"/>\n      <use xlink:href=\"#DejaVuSans-6c\" x=\"120.458984\"/>\n      <use xlink:href=\"#DejaVuSans-5f\" x=\"148.242188\"/>\n      <use xlink:href=\"#DejaVuSans-61\" x=\"198.242188\"/>\n      <use xlink:href=\"#DejaVuSans-63\" x=\"259.521484\"/>\n      <use xlink:href=\"#DejaVuSans-63\" x=\"314.501953\"/>\n     </g>\n    </g>\n   </g>\n  </g>\n </g>\n <defs>\n  <clipPath id=\"pec4d2cc7ee\">\n   <rect x=\"30.103125\" y=\"7.2\" width=\"195.3\" height=\"138.6\"/>\n  </clipPath>\n </defs>\n</svg>\n"
          },
          "metadata": {}
        }
      ]
    },
    {
      "cell_type": "markdown",
      "source": [
        "## 8.4.5. Exercises"
      ],
      "metadata": {
        "id": "X_7hahByPmIO"
      }
    },
    {
      "cell_type": "markdown",
      "source": [
        "**1.** GoogLeNet was so successful that it went through a number of iterations, progressively improving speed and accuracy. Try to implement and run some of them. They include the following:\n",
        "\n",
        "**a.** Add a batch normalization layer (Ioffe and Szegedy, 2015), as described later in Section 8.5.\n",
        "\n",
        "**ANSWER**\n",
        "\n",
        "Batch normalization helps to stabilize training and improve the speed and accuracy of deep networks."
      ],
      "metadata": {
        "id": "r05YYs3ZPoiJ"
      }
    },
    {
      "cell_type": "code",
      "source": [
        "import torch.nn as nn\n",
        "class InceptionBN(nn.Module):\n",
        "    def __init__(self, c1, c2, c3, c4):\n",
        "        super(InceptionBN, self).__init__()\n",
        "        self.b1_1 = nn.Sequential(\n",
        "            nn.LazyConv2d(c1, kernel_size=1),\n",
        "            nn.BatchNorm2d(c1),\n",
        "            nn.ReLU())\n",
        "        self.b2_1 = nn.Sequential(\n",
        "            nn.LazyConv2d(c2[0], kernel_size=1),\n",
        "            nn.BatchNorm2d(c2[0]),\n",
        "            nn.ReLU())\n",
        "        self.b2_2 = nn.Sequential(\n",
        "            nn.LazyConv2d(c2[1], kernel_size=3, padding=1),\n",
        "            nn.BatchNorm2d(c2[1]),\n",
        "            nn.ReLU())\n",
        "        self.b3_1 = nn.Sequential(\n",
        "            nn.LazyConv2d(c3[0], kernel_size=1),\n",
        "            nn.BatchNorm2d(c3[0]),\n",
        "            nn.ReLU())\n",
        "        self.b3_2 = nn.Sequential(\n",
        "            nn.LazyConv2d(c3[1], kernel_size=5, padding=2),\n",
        "            nn.BatchNorm2d(c3[1]),\n",
        "            nn.ReLU())\n",
        "        self.b4_1 = nn.MaxPool2d(kernel_size=3, stride=1, padding=1)\n",
        "        self.b4_2 = nn.Sequential(\n",
        "            nn.LazyConv2d(c4, kernel_size=1),\n",
        "            nn.BatchNorm2d(c4),\n",
        "            nn.ReLU())\n",
        "\n",
        "    def forward(self, x):\n",
        "        b1 = self.b1_1(x)\n",
        "        b2 = self.b2_2(self.b2_1(x))\n",
        "        b3 = self.b3_2(self.b3_1(x))\n",
        "        b4 = self.b4_2(self.b4_1(x))\n",
        "        return torch.cat((b1, b2, b3, b4), dim=1)"
      ],
      "metadata": {
        "id": "hI3vAajzx3qg"
      },
      "execution_count": 2,
      "outputs": []
    },
    {
      "cell_type": "markdown",
      "source": [
        "**b.** Make adjustments to the Inception block (width, choice and order of convolutions), as described in Szegedy et al. (2016).\n",
        "\n",
        "**ANSWER**\n",
        "\n",
        "To adjust the width and convolution order, try modifying the Inception block to experiment with asymmetric convolutions such as using 1x3 and 3x1 convolutions instead of 3x3. This was a key improvement introduced in Inception-v3:"
      ],
      "metadata": {
        "id": "to-7bYc0xspp"
      }
    },
    {
      "cell_type": "code",
      "source": [
        "# Adjusted Inception block with asymmetric convolutions\n",
        "self.b2_2a = nn.LazyConv2d(c2[1], kernel_size=(1, 3), padding=(0, 1))\n",
        "self.b2_2b = nn.LazyConv2d(c2[1], kernel_size=(3, 1), padding=(1, 0))"
      ],
      "metadata": {
        "id": "M7wcOJLYyerF"
      },
      "execution_count": null,
      "outputs": []
    },
    {
      "cell_type": "markdown",
      "source": [
        "Asymmetric convolutions help to reduce the computational cost while maintaining the receptive field."
      ],
      "metadata": {
        "id": "2x6ikCKnylPT"
      }
    },
    {
      "cell_type": "markdown",
      "source": [
        "**c.** Use label smoothing for model regularization, as described in Szegedy et al. (2016).\n",
        "\n",
        "**ANSWER**\n",
        "\n",
        "Label smoothing is used to regularize the model by softening the ground truth labels. This will help in regularizing the model by preventing overconfidence in predictions."
      ],
      "metadata": {
        "id": "KIZ7QL-Ixu-P"
      }
    },
    {
      "cell_type": "code",
      "source": [
        "class LabelSmoothingCrossEntropy(nn.Module):\n",
        "    def __init__(self, smoothing=0.1):\n",
        "        super(LabelSmoothingCrossEntropy, self).__init__()\n",
        "        self.smoothing = smoothing\n",
        "\n",
        "    def forward(self, predictions, targets):\n",
        "        num_classes = predictions.size(1)\n",
        "        log_probs = F.log_softmax(predictions, dim=-1)\n",
        "        targets = torch.zeros_like(log_probs).scatter_(1, targets.unsqueeze(1), 1)\n",
        "        targets = (1 - self.smoothing) * targets + self.smoothing / num_classes\n",
        "        return -(targets * log_probs).sum(dim=-1).mean()"
      ],
      "metadata": {
        "id": "FcUQKJ3_ygVC"
      },
      "execution_count": null,
      "outputs": []
    },
    {
      "cell_type": "markdown",
      "source": [
        "**d.** Make further adjustments to the Inception block by adding residual connection (Szegedy et al., 2017), as described later in Section 8.6.\n",
        "\n",
        "**ANSWER**\n",
        "\n",
        "Adding a residual connection to the Inception module, as in Inception-ResNet, helps with better gradient flow and avoids vanishing gradients. This technique allows the network to learn identity mappings, which simplifies the optimization process."
      ],
      "metadata": {
        "id": "Y5eHXe-9xw_x"
      }
    },
    {
      "cell_type": "code",
      "source": [
        "class InceptionResNet(nn.Module):\n",
        "    def __init__(self, c1, c2, c3, c4):\n",
        "        super(InceptionResNet, self).__init__()\n",
        "        self.inception_block = Inception(c1, c2, c3, c4)\n",
        "\n",
        "    def forward(self, x):\n",
        "        return x + self.inception_block(x)  # Residual connection"
      ],
      "metadata": {
        "id": "0E7K9DxYzNbn"
      },
      "execution_count": null,
      "outputs": []
    },
    {
      "cell_type": "markdown",
      "source": [
        "**2.** What is the minimum image size needed for GoogLeNet to work?\n",
        "\n",
        "**ANSWER**\n",
        "\n",
        "The minimum image size for GoogLeNet depends on the downsampling applied by convolution and pooling layers. Each pooling layer reduces the resolution by half. Starting from the input image size, you need to ensure that after all downsampling, the spatial dimensions are still positive.\n",
        "\n",
        "For GoogLeNet, based on its architecture:\n",
        "\n",
        "7x7 convolution with stride 2, followed by three max-pooling layers (stride 2), will reduce the input size by a factor of 32. Hence, the minimum input size should be at least 32x32 pixels.\n"
      ],
      "metadata": {
        "id": "BBGWnIT9oC9x"
      }
    },
    {
      "cell_type": "markdown",
      "source": [
        "**3.** Can you design a variant of GoogLeNet that works on Fashion-MNIST’s native resolution of 28 x 28\n",
        " pixels? How would you need to change the stem, the body, and the head of the network, if anything at all?\n",
        "\n",
        "** ANSWER**\n",
        "\n",
        "Since the input resolution of Fashion-MNIST is 28x28, which is much smaller than the typical 224x224 input for GoogLeNet, the network be can adjust as follows:\n",
        "\n",
        "* Stem: Replace the initial 7x7 convolution with a smaller 3x3 convolution to avoid excessive downsampling early on.\n",
        "* Body: Keep the Inception blocks, but reduce the number of pooling layers to avoid excessive reduction in resolution.\n",
        "* Head: Since the spatial dimensions will be small, replace the global average pooling with fully connected layers or reduce the depth of the network.\n",
        "\n"
      ],
      "metadata": {
        "id": "c7f_PdqXoGCd"
      }
    },
    {
      "cell_type": "code",
      "source": [
        "class GoogleNetMNIST(d2l.Classifier):\n",
        "    def b1(self):\n",
        "        return nn.Sequential(\n",
        "            nn.LazyConv2d(32, kernel_size=3, stride=1, padding=1),  # Smaller kernel\n",
        "            nn.ReLU(), nn.MaxPool2d(kernel_size=2, stride=2))\n",
        "\n",
        "    def b2(self):\n",
        "        # Smaller convolution kernels and no aggressive downsampling\n",
        "        return nn.Sequential(\n",
        "            nn.LazyConv2d(64, kernel_size=1), nn.ReLU(),\n",
        "            nn.LazyConv2d(128, kernel_size=3, padding=1), nn.ReLU(),\n",
        "            nn.MaxPool2d(kernel_size=2, stride=2))"
      ],
      "metadata": {
        "id": "Gj811eiczrwY"
      },
      "execution_count": null,
      "outputs": []
    },
    {
      "cell_type": "markdown",
      "source": [
        "This variant will keep the spatial dimensions reasonable while fitting the lower resolution of Fashion-MNIST."
      ],
      "metadata": {
        "id": "Tzz8fD5UztBj"
      }
    },
    {
      "cell_type": "markdown",
      "source": [
        "**4.** Compare the model parameter sizes of AlexNet, VGG, NiN, and GoogLeNet. How do the latter two network architectures significantly reduce the model parameter size?\n",
        "\n",
        "**ANSWER**\n",
        "\n",
        "Network\tNumber of Parameters:\n",
        "* AlexNet: \t~60 million\n",
        "* VGG: \t~138 million\n",
        "* NiN:\t~8 million\n",
        "* GoogLeNet: \t~6.8 million\n",
        "\n",
        "How GoogLeNet and NiN reduce parameter sizes:\n",
        "- GoogLeNet: Uses 1x1 convolutions for dimensionality reduction before larger convolutions (3x3, 5x5), significantly reducing the number of parameters.\n",
        "- NiN (Network in Network): Replaces fully connected layers with global average pooling, drastically reducing the number of parameters in the final layers.\n",
        "\n"
      ],
      "metadata": {
        "id": "6Jyg7lVPoIZy"
      }
    },
    {
      "cell_type": "markdown",
      "source": [
        "**5.** Compare the amount of computation needed in GoogLeNet and AlexNet. How does this affect the design of an accelerator chip, e.g., in terms of memory size, memory bandwidth, cache size, the amount of computation, and the benefit of specialized operations?\n",
        "\n",
        "**ANSWER**\n",
        "\n",
        "Computation Comparison Between GoogLeNet and AlexNet\n",
        "- AlexNet\t~1.5 billion FLOPs\n",
        "- GoogLeNet\t~1.43 billion FLOPs\n",
        "\n",
        "\n",
        "Impact on Hardware Accelerator Design:\n",
        "- Memory size: GoogLeNet's Inception blocks use fewer parameters than AlexNet, leading to smaller memory requirements.\n",
        "- Memory bandwidth: The use of 1x1 convolutions in GoogLeNet reduces the amount of data transferred between layers, improving bandwidth efficiency.\n",
        "- Cache size: With fewer parameters, GoogLeNet requires less caching, which may simplify accelerator design.\n",
        "- Specialized operations: GoogLeNet's reliance on smaller convolutions (1x1) makes it more efficient on hardware that supports convolution acceleration, such as GPUs and TPUs."
      ],
      "metadata": {
        "id": "WDAKLUgUoK2q"
      }
    },
    {
      "cell_type": "markdown",
      "source": [
        "# 8.5. Batch Normalization"
      ],
      "metadata": {
        "id": "E2RFiPhcQLTt"
      }
    },
    {
      "cell_type": "code",
      "source": [
        "import torch\n",
        "from torch import nn\n",
        "from d2l import torch as d2l"
      ],
      "metadata": {
        "id": "KRS8hrJwFmQH"
      },
      "execution_count": 31,
      "outputs": []
    },
    {
      "cell_type": "markdown",
      "source": [
        "## 8.5.3. Implementation from Scratch"
      ],
      "metadata": {
        "id": "II1cmwo8QTEk"
      }
    },
    {
      "cell_type": "code",
      "source": [
        "def batch_norm(X, gamma, beta, moving_mean, moving_var, eps, momentum):\n",
        "    # Use is_grad_enabled to determine whether we are in training mode\n",
        "    if not torch.is_grad_enabled():\n",
        "        # In prediction mode, use mean and variance obtained by moving average\n",
        "        X_hat = (X - moving_mean) / torch.sqrt(moving_var + eps)\n",
        "    else:\n",
        "        assert len(X.shape) in (2, 4)\n",
        "        if len(X.shape) == 2:\n",
        "            # When using a fully connected layer, calculate the mean and\n",
        "            # variance on the feature dimension\n",
        "            mean = X.mean(dim=0)\n",
        "            var = ((X - mean) ** 2).mean(dim=0)\n",
        "        else:\n",
        "            # When using a two-dimensional convolutional layer, calculate the\n",
        "            # mean and variance on the channel dimension (axis=1). Here we\n",
        "            # need to maintain the shape of X, so that the broadcasting\n",
        "            # operation can be carried out later\n",
        "            mean = X.mean(dim=(0, 2, 3), keepdim=True)\n",
        "            var = ((X - mean) ** 2).mean(dim=(0, 2, 3), keepdim=True)\n",
        "        # In training mode, the current mean and variance are used\n",
        "        X_hat = (X - mean) / torch.sqrt(var + eps)\n",
        "        # Update the mean and variance using moving average\n",
        "        moving_mean = (1.0 - momentum) * moving_mean + momentum * mean\n",
        "        moving_var = (1.0 - momentum) * moving_var + momentum * var\n",
        "    Y = gamma * X_hat + beta  # Scale and shift\n",
        "    return Y, moving_mean.data, moving_var.data"
      ],
      "metadata": {
        "id": "7OX4JzXBPnIP"
      },
      "execution_count": 32,
      "outputs": []
    },
    {
      "cell_type": "code",
      "source": [
        "class BatchNorm(nn.Module):\n",
        "    # num_features: the number of outputs for a fully connected layer or the\n",
        "    # number of output channels for a convolutional layer. num_dims: 2 for a\n",
        "    # fully connected layer and 4 for a convolutional layer\n",
        "    def __init__(self, num_features, num_dims):\n",
        "        super().__init__()\n",
        "        if num_dims == 2:\n",
        "            shape = (1, num_features)\n",
        "        else:\n",
        "            shape = (1, num_features, 1, 1)\n",
        "        # The scale parameter and the shift parameter (model parameters) are\n",
        "        # initialized to 1 and 0, respectively\n",
        "        self.gamma = nn.Parameter(torch.ones(shape))\n",
        "        self.beta = nn.Parameter(torch.zeros(shape))\n",
        "        # The variables that are not model parameters are initialized to 0 and\n",
        "        # 1\n",
        "        self.moving_mean = torch.zeros(shape)\n",
        "        self.moving_var = torch.ones(shape)\n",
        "\n",
        "    def forward(self, X):\n",
        "        # If X is not on the main memory, copy moving_mean and moving_var to\n",
        "        # the device where X is located\n",
        "        if self.moving_mean.device != X.device:\n",
        "            self.moving_mean = self.moving_mean.to(X.device)\n",
        "            self.moving_var = self.moving_var.to(X.device)\n",
        "        # Save the updated moving_mean and moving_var\n",
        "        Y, self.moving_mean, self.moving_var = batch_norm(\n",
        "            X, self.gamma, self.beta, self.moving_mean,\n",
        "            self.moving_var, eps=1e-5, momentum=0.1)\n",
        "        return Y"
      ],
      "metadata": {
        "id": "as3pfz8gQjPa"
      },
      "execution_count": 33,
      "outputs": []
    },
    {
      "cell_type": "markdown",
      "source": [
        "## 8.5.4. LeNet with Batch Normalization"
      ],
      "metadata": {
        "id": "7eaIB1o7QnwJ"
      }
    },
    {
      "cell_type": "code",
      "source": [
        "class BNLeNetScratch(d2l.Classifier):\n",
        "    def __init__(self, lr=0.1, num_classes=10):\n",
        "        super().__init__()\n",
        "        self.save_hyperparameters()\n",
        "        self.net = nn.Sequential(\n",
        "            nn.LazyConv2d(6, kernel_size=5), BatchNorm(6, num_dims=4),\n",
        "            nn.Sigmoid(), nn.AvgPool2d(kernel_size=2, stride=2),\n",
        "            nn.LazyConv2d(16, kernel_size=5), BatchNorm(16, num_dims=4),\n",
        "            nn.Sigmoid(), nn.AvgPool2d(kernel_size=2, stride=2),\n",
        "            nn.Flatten(), nn.LazyLinear(120),\n",
        "            BatchNorm(120, num_dims=2), nn.Sigmoid(), nn.LazyLinear(84),\n",
        "            BatchNorm(84, num_dims=2), nn.Sigmoid(),\n",
        "            nn.LazyLinear(num_classes))"
      ],
      "metadata": {
        "id": "7PXQOHUkQo1w"
      },
      "execution_count": 34,
      "outputs": []
    },
    {
      "cell_type": "code",
      "source": [
        "trainer = d2l.Trainer(max_epochs=10, num_gpus=1)\n",
        "data = d2l.FashionMNIST(batch_size=128)\n",
        "model = BNLeNetScratch(lr=0.1)\n",
        "model.apply_init([next(iter(data.get_dataloader(True)))[0]], d2l.init_cnn)\n",
        "trainer.fit(model, data)"
      ],
      "metadata": {
        "id": "AzPnUg-MQq3n",
        "colab": {
          "base_uri": "https://localhost:8080/",
          "height": 265
        },
        "outputId": "01bf856b-2494-4727-c5b6-b4ef3f780d5d"
      },
      "execution_count": 35,
      "outputs": [
        {
          "output_type": "display_data",
          "data": {
            "text/plain": [
              "<Figure size 350x250 with 1 Axes>"
            ],
            "image/svg+xml": "<?xml version=\"1.0\" encoding=\"utf-8\" standalone=\"no\"?>\n<!DOCTYPE svg PUBLIC \"-//W3C//DTD SVG 1.1//EN\"\n  \"http://www.w3.org/Graphics/SVG/1.1/DTD/svg11.dtd\">\n<svg xmlns:xlink=\"http://www.w3.org/1999/xlink\" width=\"238.965625pt\" height=\"183.35625pt\" viewBox=\"0 0 238.965625 183.35625\" xmlns=\"http://www.w3.org/2000/svg\" version=\"1.1\">\n <metadata>\n  <rdf:RDF xmlns:dc=\"http://purl.org/dc/elements/1.1/\" xmlns:cc=\"http://creativecommons.org/ns#\" xmlns:rdf=\"http://www.w3.org/1999/02/22-rdf-syntax-ns#\">\n   <cc:Work>\n    <dc:type rdf:resource=\"http://purl.org/dc/dcmitype/StillImage\"/>\n    <dc:date>2024-10-05T14:32:41.691796</dc:date>\n    <dc:format>image/svg+xml</dc:format>\n    <dc:creator>\n     <cc:Agent>\n      <dc:title>Matplotlib v3.7.2, https://matplotlib.org/</dc:title>\n     </cc:Agent>\n    </dc:creator>\n   </cc:Work>\n  </rdf:RDF>\n </metadata>\n <defs>\n  <style type=\"text/css\">*{stroke-linejoin: round; stroke-linecap: butt}</style>\n </defs>\n <g id=\"figure_1\">\n  <g id=\"patch_1\">\n   <path d=\"M 0 183.35625 \nL 238.965625 183.35625 \nL 238.965625 0 \nL 0 0 \nz\n\" style=\"fill: #ffffff\"/>\n  </g>\n  <g id=\"axes_1\">\n   <g id=\"patch_2\">\n    <path d=\"M 30.103125 145.8 \nL 225.403125 145.8 \nL 225.403125 7.2 \nL 30.103125 7.2 \nz\n\" style=\"fill: #ffffff\"/>\n   </g>\n   <g id=\"matplotlib.axis_1\">\n    <g id=\"xtick_1\">\n     <g id=\"line2d_1\">\n      <defs>\n       <path id=\"mcb2005eef2\" d=\"M 0 0 \nL 0 3.5 \n\" style=\"stroke: #000000; stroke-width: 0.8\"/>\n      </defs>\n      <g>\n       <use xlink:href=\"#mcb2005eef2\" x=\"30.103125\" y=\"145.8\" style=\"stroke: #000000; stroke-width: 0.8\"/>\n      </g>\n     </g>\n     <g id=\"text_1\">\n      <!-- 0 -->\n      <g transform=\"translate(26.921875 160.398438) scale(0.1 -0.1)\">\n       <defs>\n        <path id=\"DejaVuSans-30\" d=\"M 2034 4250 \nQ 1547 4250 1301 3770 \nQ 1056 3291 1056 2328 \nQ 1056 1369 1301 889 \nQ 1547 409 2034 409 \nQ 2525 409 2770 889 \nQ 3016 1369 3016 2328 \nQ 3016 3291 2770 3770 \nQ 2525 4250 2034 4250 \nz\nM 2034 4750 \nQ 2819 4750 3233 4129 \nQ 3647 3509 3647 2328 \nQ 3647 1150 3233 529 \nQ 2819 -91 2034 -91 \nQ 1250 -91 836 529 \nQ 422 1150 422 2328 \nQ 422 3509 836 4129 \nQ 1250 4750 2034 4750 \nz\n\" transform=\"scale(0.015625)\"/>\n       </defs>\n       <use xlink:href=\"#DejaVuSans-30\"/>\n      </g>\n     </g>\n    </g>\n    <g id=\"xtick_2\">\n     <g id=\"line2d_2\">\n      <g>\n       <use xlink:href=\"#mcb2005eef2\" x=\"69.163125\" y=\"145.8\" style=\"stroke: #000000; stroke-width: 0.8\"/>\n      </g>\n     </g>\n     <g id=\"text_2\">\n      <!-- 2 -->\n      <g transform=\"translate(65.981875 160.398438) scale(0.1 -0.1)\">\n       <defs>\n        <path id=\"DejaVuSans-32\" d=\"M 1228 531 \nL 3431 531 \nL 3431 0 \nL 469 0 \nL 469 531 \nQ 828 903 1448 1529 \nQ 2069 2156 2228 2338 \nQ 2531 2678 2651 2914 \nQ 2772 3150 2772 3378 \nQ 2772 3750 2511 3984 \nQ 2250 4219 1831 4219 \nQ 1534 4219 1204 4116 \nQ 875 4013 500 3803 \nL 500 4441 \nQ 881 4594 1212 4672 \nQ 1544 4750 1819 4750 \nQ 2544 4750 2975 4387 \nQ 3406 4025 3406 3419 \nQ 3406 3131 3298 2873 \nQ 3191 2616 2906 2266 \nQ 2828 2175 2409 1742 \nQ 1991 1309 1228 531 \nz\n\" transform=\"scale(0.015625)\"/>\n       </defs>\n       <use xlink:href=\"#DejaVuSans-32\"/>\n      </g>\n     </g>\n    </g>\n    <g id=\"xtick_3\">\n     <g id=\"line2d_3\">\n      <g>\n       <use xlink:href=\"#mcb2005eef2\" x=\"108.223125\" y=\"145.8\" style=\"stroke: #000000; stroke-width: 0.8\"/>\n      </g>\n     </g>\n     <g id=\"text_3\">\n      <!-- 4 -->\n      <g transform=\"translate(105.041875 160.398438) scale(0.1 -0.1)\">\n       <defs>\n        <path id=\"DejaVuSans-34\" d=\"M 2419 4116 \nL 825 1625 \nL 2419 1625 \nL 2419 4116 \nz\nM 2253 4666 \nL 3047 4666 \nL 3047 1625 \nL 3713 1625 \nL 3713 1100 \nL 3047 1100 \nL 3047 0 \nL 2419 0 \nL 2419 1100 \nL 313 1100 \nL 313 1709 \nL 2253 4666 \nz\n\" transform=\"scale(0.015625)\"/>\n       </defs>\n       <use xlink:href=\"#DejaVuSans-34\"/>\n      </g>\n     </g>\n    </g>\n    <g id=\"xtick_4\">\n     <g id=\"line2d_4\">\n      <g>\n       <use xlink:href=\"#mcb2005eef2\" x=\"147.283125\" y=\"145.8\" style=\"stroke: #000000; stroke-width: 0.8\"/>\n      </g>\n     </g>\n     <g id=\"text_4\">\n      <!-- 6 -->\n      <g transform=\"translate(144.101875 160.398438) scale(0.1 -0.1)\">\n       <defs>\n        <path id=\"DejaVuSans-36\" d=\"M 2113 2584 \nQ 1688 2584 1439 2293 \nQ 1191 2003 1191 1497 \nQ 1191 994 1439 701 \nQ 1688 409 2113 409 \nQ 2538 409 2786 701 \nQ 3034 994 3034 1497 \nQ 3034 2003 2786 2293 \nQ 2538 2584 2113 2584 \nz\nM 3366 4563 \nL 3366 3988 \nQ 3128 4100 2886 4159 \nQ 2644 4219 2406 4219 \nQ 1781 4219 1451 3797 \nQ 1122 3375 1075 2522 \nQ 1259 2794 1537 2939 \nQ 1816 3084 2150 3084 \nQ 2853 3084 3261 2657 \nQ 3669 2231 3669 1497 \nQ 3669 778 3244 343 \nQ 2819 -91 2113 -91 \nQ 1303 -91 875 529 \nQ 447 1150 447 2328 \nQ 447 3434 972 4092 \nQ 1497 4750 2381 4750 \nQ 2619 4750 2861 4703 \nQ 3103 4656 3366 4563 \nz\n\" transform=\"scale(0.015625)\"/>\n       </defs>\n       <use xlink:href=\"#DejaVuSans-36\"/>\n      </g>\n     </g>\n    </g>\n    <g id=\"xtick_5\">\n     <g id=\"line2d_5\">\n      <g>\n       <use xlink:href=\"#mcb2005eef2\" x=\"186.343125\" y=\"145.8\" style=\"stroke: #000000; stroke-width: 0.8\"/>\n      </g>\n     </g>\n     <g id=\"text_5\">\n      <!-- 8 -->\n      <g transform=\"translate(183.161875 160.398438) scale(0.1 -0.1)\">\n       <defs>\n        <path id=\"DejaVuSans-38\" d=\"M 2034 2216 \nQ 1584 2216 1326 1975 \nQ 1069 1734 1069 1313 \nQ 1069 891 1326 650 \nQ 1584 409 2034 409 \nQ 2484 409 2743 651 \nQ 3003 894 3003 1313 \nQ 3003 1734 2745 1975 \nQ 2488 2216 2034 2216 \nz\nM 1403 2484 \nQ 997 2584 770 2862 \nQ 544 3141 544 3541 \nQ 544 4100 942 4425 \nQ 1341 4750 2034 4750 \nQ 2731 4750 3128 4425 \nQ 3525 4100 3525 3541 \nQ 3525 3141 3298 2862 \nQ 3072 2584 2669 2484 \nQ 3125 2378 3379 2068 \nQ 3634 1759 3634 1313 \nQ 3634 634 3220 271 \nQ 2806 -91 2034 -91 \nQ 1263 -91 848 271 \nQ 434 634 434 1313 \nQ 434 1759 690 2068 \nQ 947 2378 1403 2484 \nz\nM 1172 3481 \nQ 1172 3119 1398 2916 \nQ 1625 2713 2034 2713 \nQ 2441 2713 2670 2916 \nQ 2900 3119 2900 3481 \nQ 2900 3844 2670 4047 \nQ 2441 4250 2034 4250 \nQ 1625 4250 1398 4047 \nQ 1172 3844 1172 3481 \nz\n\" transform=\"scale(0.015625)\"/>\n       </defs>\n       <use xlink:href=\"#DejaVuSans-38\"/>\n      </g>\n     </g>\n    </g>\n    <g id=\"xtick_6\">\n     <g id=\"line2d_6\">\n      <g>\n       <use xlink:href=\"#mcb2005eef2\" x=\"225.403125\" y=\"145.8\" style=\"stroke: #000000; stroke-width: 0.8\"/>\n      </g>\n     </g>\n     <g id=\"text_6\">\n      <!-- 10 -->\n      <g transform=\"translate(219.040625 160.398438) scale(0.1 -0.1)\">\n       <defs>\n        <path id=\"DejaVuSans-31\" d=\"M 794 531 \nL 1825 531 \nL 1825 4091 \nL 703 3866 \nL 703 4441 \nL 1819 4666 \nL 2450 4666 \nL 2450 531 \nL 3481 531 \nL 3481 0 \nL 794 0 \nL 794 531 \nz\n\" transform=\"scale(0.015625)\"/>\n       </defs>\n       <use xlink:href=\"#DejaVuSans-31\"/>\n       <use xlink:href=\"#DejaVuSans-30\" x=\"63.623047\"/>\n      </g>\n     </g>\n    </g>\n    <g id=\"text_7\">\n     <!-- epoch -->\n     <g transform=\"translate(112.525 174.076563) scale(0.1 -0.1)\">\n      <defs>\n       <path id=\"DejaVuSans-65\" d=\"M 3597 1894 \nL 3597 1613 \nL 953 1613 \nQ 991 1019 1311 708 \nQ 1631 397 2203 397 \nQ 2534 397 2845 478 \nQ 3156 559 3463 722 \nL 3463 178 \nQ 3153 47 2828 -22 \nQ 2503 -91 2169 -91 \nQ 1331 -91 842 396 \nQ 353 884 353 1716 \nQ 353 2575 817 3079 \nQ 1281 3584 2069 3584 \nQ 2775 3584 3186 3129 \nQ 3597 2675 3597 1894 \nz\nM 3022 2063 \nQ 3016 2534 2758 2815 \nQ 2500 3097 2075 3097 \nQ 1594 3097 1305 2825 \nQ 1016 2553 972 2059 \nL 3022 2063 \nz\n\" transform=\"scale(0.015625)\"/>\n       <path id=\"DejaVuSans-70\" d=\"M 1159 525 \nL 1159 -1331 \nL 581 -1331 \nL 581 3500 \nL 1159 3500 \nL 1159 2969 \nQ 1341 3281 1617 3432 \nQ 1894 3584 2278 3584 \nQ 2916 3584 3314 3078 \nQ 3713 2572 3713 1747 \nQ 3713 922 3314 415 \nQ 2916 -91 2278 -91 \nQ 1894 -91 1617 61 \nQ 1341 213 1159 525 \nz\nM 3116 1747 \nQ 3116 2381 2855 2742 \nQ 2594 3103 2138 3103 \nQ 1681 3103 1420 2742 \nQ 1159 2381 1159 1747 \nQ 1159 1113 1420 752 \nQ 1681 391 2138 391 \nQ 2594 391 2855 752 \nQ 3116 1113 3116 1747 \nz\n\" transform=\"scale(0.015625)\"/>\n       <path id=\"DejaVuSans-6f\" d=\"M 1959 3097 \nQ 1497 3097 1228 2736 \nQ 959 2375 959 1747 \nQ 959 1119 1226 758 \nQ 1494 397 1959 397 \nQ 2419 397 2687 759 \nQ 2956 1122 2956 1747 \nQ 2956 2369 2687 2733 \nQ 2419 3097 1959 3097 \nz\nM 1959 3584 \nQ 2709 3584 3137 3096 \nQ 3566 2609 3566 1747 \nQ 3566 888 3137 398 \nQ 2709 -91 1959 -91 \nQ 1206 -91 779 398 \nQ 353 888 353 1747 \nQ 353 2609 779 3096 \nQ 1206 3584 1959 3584 \nz\n\" transform=\"scale(0.015625)\"/>\n       <path id=\"DejaVuSans-63\" d=\"M 3122 3366 \nL 3122 2828 \nQ 2878 2963 2633 3030 \nQ 2388 3097 2138 3097 \nQ 1578 3097 1268 2742 \nQ 959 2388 959 1747 \nQ 959 1106 1268 751 \nQ 1578 397 2138 397 \nQ 2388 397 2633 464 \nQ 2878 531 3122 666 \nL 3122 134 \nQ 2881 22 2623 -34 \nQ 2366 -91 2075 -91 \nQ 1284 -91 818 406 \nQ 353 903 353 1747 \nQ 353 2603 823 3093 \nQ 1294 3584 2113 3584 \nQ 2378 3584 2631 3529 \nQ 2884 3475 3122 3366 \nz\n\" transform=\"scale(0.015625)\"/>\n       <path id=\"DejaVuSans-68\" d=\"M 3513 2113 \nL 3513 0 \nL 2938 0 \nL 2938 2094 \nQ 2938 2591 2744 2837 \nQ 2550 3084 2163 3084 \nQ 1697 3084 1428 2787 \nQ 1159 2491 1159 1978 \nL 1159 0 \nL 581 0 \nL 581 4863 \nL 1159 4863 \nL 1159 2956 \nQ 1366 3272 1645 3428 \nQ 1925 3584 2291 3584 \nQ 2894 3584 3203 3211 \nQ 3513 2838 3513 2113 \nz\n\" transform=\"scale(0.015625)\"/>\n      </defs>\n      <use xlink:href=\"#DejaVuSans-65\"/>\n      <use xlink:href=\"#DejaVuSans-70\" x=\"61.523438\"/>\n      <use xlink:href=\"#DejaVuSans-6f\" x=\"125\"/>\n      <use xlink:href=\"#DejaVuSans-63\" x=\"186.181641\"/>\n      <use xlink:href=\"#DejaVuSans-68\" x=\"241.162109\"/>\n     </g>\n    </g>\n   </g>\n   <g id=\"matplotlib.axis_2\">\n    <g id=\"ytick_1\">\n     <g id=\"line2d_7\">\n      <defs>\n       <path id=\"m910c178b40\" d=\"M 0 0 \nL -3.5 0 \n\" style=\"stroke: #000000; stroke-width: 0.8\"/>\n      </defs>\n      <g>\n       <use xlink:href=\"#m910c178b40\" x=\"30.103125\" y=\"119.777401\" style=\"stroke: #000000; stroke-width: 0.8\"/>\n      </g>\n     </g>\n     <g id=\"text_8\">\n      <!-- 0.4 -->\n      <g transform=\"translate(7.2 123.57662) scale(0.1 -0.1)\">\n       <defs>\n        <path id=\"DejaVuSans-2e\" d=\"M 684 794 \nL 1344 794 \nL 1344 0 \nL 684 0 \nL 684 794 \nz\n\" transform=\"scale(0.015625)\"/>\n       </defs>\n       <use xlink:href=\"#DejaVuSans-30\"/>\n       <use xlink:href=\"#DejaVuSans-2e\" x=\"63.623047\"/>\n       <use xlink:href=\"#DejaVuSans-34\" x=\"95.410156\"/>\n      </g>\n     </g>\n    </g>\n    <g id=\"ytick_2\">\n     <g id=\"line2d_8\">\n      <g>\n       <use xlink:href=\"#m910c178b40\" x=\"30.103125\" y=\"81.498625\" style=\"stroke: #000000; stroke-width: 0.8\"/>\n      </g>\n     </g>\n     <g id=\"text_9\">\n      <!-- 0.6 -->\n      <g transform=\"translate(7.2 85.297843) scale(0.1 -0.1)\">\n       <use xlink:href=\"#DejaVuSans-30\"/>\n       <use xlink:href=\"#DejaVuSans-2e\" x=\"63.623047\"/>\n       <use xlink:href=\"#DejaVuSans-36\" x=\"95.410156\"/>\n      </g>\n     </g>\n    </g>\n    <g id=\"ytick_3\">\n     <g id=\"line2d_9\">\n      <g>\n       <use xlink:href=\"#m910c178b40\" x=\"30.103125\" y=\"43.219848\" style=\"stroke: #000000; stroke-width: 0.8\"/>\n      </g>\n     </g>\n     <g id=\"text_10\">\n      <!-- 0.8 -->\n      <g transform=\"translate(7.2 47.019067) scale(0.1 -0.1)\">\n       <use xlink:href=\"#DejaVuSans-30\"/>\n       <use xlink:href=\"#DejaVuSans-2e\" x=\"63.623047\"/>\n       <use xlink:href=\"#DejaVuSans-38\" x=\"95.410156\"/>\n      </g>\n     </g>\n    </g>\n   </g>\n   <g id=\"line2d_10\">\n    <path d=\"M 34.954394 13.5 \n\" clip-path=\"url(#pebca638d44)\" style=\"fill: none; stroke: #1f77b4; stroke-width: 1.5; stroke-linecap: square\"/>\n   </g>\n   <g id=\"line2d_11\">\n    <path d=\"M 34.954394 13.5 \nL 44.698573 80.091773 \n\" clip-path=\"url(#pebca638d44)\" style=\"fill: none; stroke: #1f77b4; stroke-width: 1.5; stroke-linecap: square\"/>\n   </g>\n   <g id=\"line2d_12\">\n    <path d=\"M 34.954394 13.5 \nL 44.698573 80.091773 \n\" clip-path=\"url(#pebca638d44)\" style=\"fill: none; stroke: #1f77b4; stroke-width: 1.5; stroke-linecap: square\"/>\n   </g>\n   <g id=\"line2d_13\">\n    <path d=\"M 49.633125 78.683641 \n\" clip-path=\"url(#pebca638d44)\" style=\"fill: none; stroke-dasharray: 5.55,2.4; stroke-dashoffset: 0; stroke: #ff7f0e; stroke-width: 1.5\"/>\n   </g>\n   <g id=\"line2d_14\"/>\n   <g id=\"line2d_15\">\n    <path d=\"M 34.954394 13.5 \nL 44.698573 80.091773 \n\" clip-path=\"url(#pebca638d44)\" style=\"fill: none; stroke: #1f77b4; stroke-width: 1.5; stroke-linecap: square\"/>\n   </g>\n   <g id=\"line2d_16\">\n    <path d=\"M 49.633125 78.683641 \n\" clip-path=\"url(#pebca638d44)\" style=\"fill: none; stroke-dasharray: 5.55,2.4; stroke-dashoffset: 0; stroke: #ff7f0e; stroke-width: 1.5\"/>\n   </g>\n   <g id=\"line2d_17\">\n    <path d=\"M 49.633125 45.161799 \n\" clip-path=\"url(#pebca638d44)\" style=\"fill: none; stroke-dasharray: 9.6,2.4,1.5,2.4; stroke-dashoffset: 0; stroke: #2ca02c; stroke-width: 1.5\"/>\n   </g>\n   <g id=\"line2d_18\">\n    <path d=\"M 34.954394 13.5 \nL 44.698573 80.091773 \nL 54.442752 95.754023 \n\" clip-path=\"url(#pebca638d44)\" style=\"fill: none; stroke: #1f77b4; stroke-width: 1.5; stroke-linecap: square\"/>\n   </g>\n   <g id=\"line2d_19\">\n    <path d=\"M 49.633125 78.683641 \n\" clip-path=\"url(#pebca638d44)\" style=\"fill: none; stroke-dasharray: 5.55,2.4; stroke-dashoffset: 0; stroke: #ff7f0e; stroke-width: 1.5\"/>\n   </g>\n   <g id=\"line2d_20\">\n    <path d=\"M 49.633125 45.161799 \n\" clip-path=\"url(#pebca638d44)\" style=\"fill: none; stroke-dasharray: 9.6,2.4,1.5,2.4; stroke-dashoffset: 0; stroke: #2ca02c; stroke-width: 1.5\"/>\n   </g>\n   <g id=\"line2d_21\">\n    <path d=\"M 34.954394 13.5 \nL 44.698573 80.091773 \nL 54.442752 95.754023 \nL 64.186931 104.783219 \n\" clip-path=\"url(#pebca638d44)\" style=\"fill: none; stroke: #1f77b4; stroke-width: 1.5; stroke-linecap: square\"/>\n   </g>\n   <g id=\"line2d_22\">\n    <path d=\"M 49.633125 78.683641 \n\" clip-path=\"url(#pebca638d44)\" style=\"fill: none; stroke-dasharray: 5.55,2.4; stroke-dashoffset: 0; stroke: #ff7f0e; stroke-width: 1.5\"/>\n   </g>\n   <g id=\"line2d_23\">\n    <path d=\"M 49.633125 45.161799 \n\" clip-path=\"url(#pebca638d44)\" style=\"fill: none; stroke-dasharray: 9.6,2.4,1.5,2.4; stroke-dashoffset: 0; stroke: #2ca02c; stroke-width: 1.5\"/>\n   </g>\n   <g id=\"line2d_24\">\n    <path d=\"M 34.954394 13.5 \nL 44.698573 80.091773 \nL 54.442752 95.754023 \nL 64.186931 104.783219 \n\" clip-path=\"url(#pebca638d44)\" style=\"fill: none; stroke: #1f77b4; stroke-width: 1.5; stroke-linecap: square\"/>\n   </g>\n   <g id=\"line2d_25\">\n    <path d=\"M 49.633125 78.683641 \nL 69.163125 87.16479 \n\" clip-path=\"url(#pebca638d44)\" style=\"fill: none; stroke-dasharray: 5.55,2.4; stroke-dashoffset: 0; stroke: #ff7f0e; stroke-width: 1.5\"/>\n   </g>\n   <g id=\"line2d_26\">\n    <path d=\"M 49.633125 45.161799 \n\" clip-path=\"url(#pebca638d44)\" style=\"fill: none; stroke-dasharray: 9.6,2.4,1.5,2.4; stroke-dashoffset: 0; stroke: #2ca02c; stroke-width: 1.5\"/>\n   </g>\n   <g id=\"line2d_27\">\n    <path d=\"M 34.954394 13.5 \nL 44.698573 80.091773 \nL 54.442752 95.754023 \nL 64.186931 104.783219 \n\" clip-path=\"url(#pebca638d44)\" style=\"fill: none; stroke: #1f77b4; stroke-width: 1.5; stroke-linecap: square\"/>\n   </g>\n   <g id=\"line2d_28\">\n    <path d=\"M 49.633125 78.683641 \nL 69.163125 87.16479 \n\" clip-path=\"url(#pebca638d44)\" style=\"fill: none; stroke-dasharray: 5.55,2.4; stroke-dashoffset: 0; stroke: #ff7f0e; stroke-width: 1.5\"/>\n   </g>\n   <g id=\"line2d_29\">\n    <path d=\"M 49.633125 45.161799 \nL 69.163125 42.758019 \n\" clip-path=\"url(#pebca638d44)\" style=\"fill: none; stroke-dasharray: 9.6,2.4,1.5,2.4; stroke-dashoffset: 0; stroke: #2ca02c; stroke-width: 1.5\"/>\n   </g>\n   <g id=\"line2d_30\">\n    <path d=\"M 34.954394 13.5 \nL 44.698573 80.091773 \nL 54.442752 95.754023 \nL 64.186931 104.783219 \nL 73.93111 110.545114 \n\" clip-path=\"url(#pebca638d44)\" style=\"fill: none; stroke: #1f77b4; stroke-width: 1.5; stroke-linecap: square\"/>\n   </g>\n   <g id=\"line2d_31\">\n    <path d=\"M 49.633125 78.683641 \nL 69.163125 87.16479 \n\" clip-path=\"url(#pebca638d44)\" style=\"fill: none; stroke-dasharray: 5.55,2.4; stroke-dashoffset: 0; stroke: #ff7f0e; stroke-width: 1.5\"/>\n   </g>\n   <g id=\"line2d_32\">\n    <path d=\"M 49.633125 45.161799 \nL 69.163125 42.758019 \n\" clip-path=\"url(#pebca638d44)\" style=\"fill: none; stroke-dasharray: 9.6,2.4,1.5,2.4; stroke-dashoffset: 0; stroke: #2ca02c; stroke-width: 1.5\"/>\n   </g>\n   <g id=\"line2d_33\">\n    <path d=\"M 34.954394 13.5 \nL 44.698573 80.091773 \nL 54.442752 95.754023 \nL 64.186931 104.783219 \nL 73.93111 110.545114 \nL 83.675289 114.492535 \n\" clip-path=\"url(#pebca638d44)\" style=\"fill: none; stroke: #1f77b4; stroke-width: 1.5; stroke-linecap: square\"/>\n   </g>\n   <g id=\"line2d_34\">\n    <path d=\"M 49.633125 78.683641 \nL 69.163125 87.16479 \n\" clip-path=\"url(#pebca638d44)\" style=\"fill: none; stroke-dasharray: 5.55,2.4; stroke-dashoffset: 0; stroke: #ff7f0e; stroke-width: 1.5\"/>\n   </g>\n   <g id=\"line2d_35\">\n    <path d=\"M 49.633125 45.161799 \nL 69.163125 42.758019 \n\" clip-path=\"url(#pebca638d44)\" style=\"fill: none; stroke-dasharray: 9.6,2.4,1.5,2.4; stroke-dashoffset: 0; stroke: #2ca02c; stroke-width: 1.5\"/>\n   </g>\n   <g id=\"line2d_36\">\n    <path d=\"M 34.954394 13.5 \nL 44.698573 80.091773 \nL 54.442752 95.754023 \nL 64.186931 104.783219 \nL 73.93111 110.545114 \nL 83.675289 114.492535 \n\" clip-path=\"url(#pebca638d44)\" style=\"fill: none; stroke: #1f77b4; stroke-width: 1.5; stroke-linecap: square\"/>\n   </g>\n   <g id=\"line2d_37\">\n    <path d=\"M 49.633125 78.683641 \nL 69.163125 87.16479 \nL 88.693125 110.855385 \n\" clip-path=\"url(#pebca638d44)\" style=\"fill: none; stroke-dasharray: 5.55,2.4; stroke-dashoffset: 0; stroke: #ff7f0e; stroke-width: 1.5\"/>\n   </g>\n   <g id=\"line2d_38\">\n    <path d=\"M 49.633125 45.161799 \nL 69.163125 42.758019 \n\" clip-path=\"url(#pebca638d44)\" style=\"fill: none; stroke-dasharray: 9.6,2.4,1.5,2.4; stroke-dashoffset: 0; stroke: #2ca02c; stroke-width: 1.5\"/>\n   </g>\n   <g id=\"line2d_39\">\n    <path d=\"M 34.954394 13.5 \nL 44.698573 80.091773 \nL 54.442752 95.754023 \nL 64.186931 104.783219 \nL 73.93111 110.545114 \nL 83.675289 114.492535 \n\" clip-path=\"url(#pebca638d44)\" style=\"fill: none; stroke: #1f77b4; stroke-width: 1.5; stroke-linecap: square\"/>\n   </g>\n   <g id=\"line2d_40\">\n    <path d=\"M 49.633125 78.683641 \nL 69.163125 87.16479 \nL 88.693125 110.855385 \n\" clip-path=\"url(#pebca638d44)\" style=\"fill: none; stroke-dasharray: 5.55,2.4; stroke-dashoffset: 0; stroke: #ff7f0e; stroke-width: 1.5\"/>\n   </g>\n   <g id=\"line2d_41\">\n    <path d=\"M 49.633125 45.161799 \nL 69.163125 42.758019 \nL 88.693125 34.95993 \n\" clip-path=\"url(#pebca638d44)\" style=\"fill: none; stroke-dasharray: 9.6,2.4,1.5,2.4; stroke-dashoffset: 0; stroke: #2ca02c; stroke-width: 1.5\"/>\n   </g>\n   <g id=\"line2d_42\">\n    <path d=\"M 34.954394 13.5 \nL 44.698573 80.091773 \nL 54.442752 95.754023 \nL 64.186931 104.783219 \nL 73.93111 110.545114 \nL 83.675289 114.492535 \nL 93.419468 118.164847 \n\" clip-path=\"url(#pebca638d44)\" style=\"fill: none; stroke: #1f77b4; stroke-width: 1.5; stroke-linecap: square\"/>\n   </g>\n   <g id=\"line2d_43\">\n    <path d=\"M 49.633125 78.683641 \nL 69.163125 87.16479 \nL 88.693125 110.855385 \n\" clip-path=\"url(#pebca638d44)\" style=\"fill: none; stroke-dasharray: 5.55,2.4; stroke-dashoffset: 0; stroke: #ff7f0e; stroke-width: 1.5\"/>\n   </g>\n   <g id=\"line2d_44\">\n    <path d=\"M 49.633125 45.161799 \nL 69.163125 42.758019 \nL 88.693125 34.95993 \n\" clip-path=\"url(#pebca638d44)\" style=\"fill: none; stroke-dasharray: 9.6,2.4,1.5,2.4; stroke-dashoffset: 0; stroke: #2ca02c; stroke-width: 1.5\"/>\n   </g>\n   <g id=\"line2d_45\">\n    <path d=\"M 34.954394 13.5 \nL 44.698573 80.091773 \nL 54.442752 95.754023 \nL 64.186931 104.783219 \nL 73.93111 110.545114 \nL 83.675289 114.492535 \nL 93.419468 118.164847 \nL 103.163647 122.043173 \n\" clip-path=\"url(#pebca638d44)\" style=\"fill: none; stroke: #1f77b4; stroke-width: 1.5; stroke-linecap: square\"/>\n   </g>\n   <g id=\"line2d_46\">\n    <path d=\"M 49.633125 78.683641 \nL 69.163125 87.16479 \nL 88.693125 110.855385 \n\" clip-path=\"url(#pebca638d44)\" style=\"fill: none; stroke-dasharray: 5.55,2.4; stroke-dashoffset: 0; stroke: #ff7f0e; stroke-width: 1.5\"/>\n   </g>\n   <g id=\"line2d_47\">\n    <path d=\"M 49.633125 45.161799 \nL 69.163125 42.758019 \nL 88.693125 34.95993 \n\" clip-path=\"url(#pebca638d44)\" style=\"fill: none; stroke-dasharray: 9.6,2.4,1.5,2.4; stroke-dashoffset: 0; stroke: #2ca02c; stroke-width: 1.5\"/>\n   </g>\n   <g id=\"line2d_48\">\n    <path d=\"M 34.954394 13.5 \nL 44.698573 80.091773 \nL 54.442752 95.754023 \nL 64.186931 104.783219 \nL 73.93111 110.545114 \nL 83.675289 114.492535 \nL 93.419468 118.164847 \nL 103.163647 122.043173 \n\" clip-path=\"url(#pebca638d44)\" style=\"fill: none; stroke: #1f77b4; stroke-width: 1.5; stroke-linecap: square\"/>\n   </g>\n   <g id=\"line2d_49\">\n    <path d=\"M 49.633125 78.683641 \nL 69.163125 87.16479 \nL 88.693125 110.855385 \nL 108.223125 118.27068 \n\" clip-path=\"url(#pebca638d44)\" style=\"fill: none; stroke-dasharray: 5.55,2.4; stroke-dashoffset: 0; stroke: #ff7f0e; stroke-width: 1.5\"/>\n   </g>\n   <g id=\"line2d_50\">\n    <path d=\"M 49.633125 45.161799 \nL 69.163125 42.758019 \nL 88.693125 34.95993 \n\" clip-path=\"url(#pebca638d44)\" style=\"fill: none; stroke-dasharray: 9.6,2.4,1.5,2.4; stroke-dashoffset: 0; stroke: #2ca02c; stroke-width: 1.5\"/>\n   </g>\n   <g id=\"line2d_51\">\n    <path d=\"M 34.954394 13.5 \nL 44.698573 80.091773 \nL 54.442752 95.754023 \nL 64.186931 104.783219 \nL 73.93111 110.545114 \nL 83.675289 114.492535 \nL 93.419468 118.164847 \nL 103.163647 122.043173 \n\" clip-path=\"url(#pebca638d44)\" style=\"fill: none; stroke: #1f77b4; stroke-width: 1.5; stroke-linecap: square\"/>\n   </g>\n   <g id=\"line2d_52\">\n    <path d=\"M 49.633125 78.683641 \nL 69.163125 87.16479 \nL 88.693125 110.855385 \nL 108.223125 118.27068 \n\" clip-path=\"url(#pebca638d44)\" style=\"fill: none; stroke-dasharray: 5.55,2.4; stroke-dashoffset: 0; stroke: #ff7f0e; stroke-width: 1.5\"/>\n   </g>\n   <g id=\"line2d_53\">\n    <path d=\"M 49.633125 45.161799 \nL 69.163125 42.758019 \nL 88.693125 34.95993 \nL 108.223125 32.272239 \n\" clip-path=\"url(#pebca638d44)\" style=\"fill: none; stroke-dasharray: 9.6,2.4,1.5,2.4; stroke-dashoffset: 0; stroke: #2ca02c; stroke-width: 1.5\"/>\n   </g>\n   <g id=\"line2d_54\">\n    <path d=\"M 34.954394 13.5 \nL 44.698573 80.091773 \nL 54.442752 95.754023 \nL 64.186931 104.783219 \nL 73.93111 110.545114 \nL 83.675289 114.492535 \nL 93.419468 118.164847 \nL 103.163647 122.043173 \nL 112.907826 124.736969 \n\" clip-path=\"url(#pebca638d44)\" style=\"fill: none; stroke: #1f77b4; stroke-width: 1.5; stroke-linecap: square\"/>\n   </g>\n   <g id=\"line2d_55\">\n    <path d=\"M 49.633125 78.683641 \nL 69.163125 87.16479 \nL 88.693125 110.855385 \nL 108.223125 118.27068 \n\" clip-path=\"url(#pebca638d44)\" style=\"fill: none; stroke-dasharray: 5.55,2.4; stroke-dashoffset: 0; stroke: #ff7f0e; stroke-width: 1.5\"/>\n   </g>\n   <g id=\"line2d_56\">\n    <path d=\"M 49.633125 45.161799 \nL 69.163125 42.758019 \nL 88.693125 34.95993 \nL 108.223125 32.272239 \n\" clip-path=\"url(#pebca638d44)\" style=\"fill: none; stroke-dasharray: 9.6,2.4,1.5,2.4; stroke-dashoffset: 0; stroke: #2ca02c; stroke-width: 1.5\"/>\n   </g>\n   <g id=\"line2d_57\">\n    <path d=\"M 34.954394 13.5 \nL 44.698573 80.091773 \nL 54.442752 95.754023 \nL 64.186931 104.783219 \nL 73.93111 110.545114 \nL 83.675289 114.492535 \nL 93.419468 118.164847 \nL 103.163647 122.043173 \nL 112.907826 124.736969 \nL 122.652006 125.823742 \n\" clip-path=\"url(#pebca638d44)\" style=\"fill: none; stroke: #1f77b4; stroke-width: 1.5; stroke-linecap: square\"/>\n   </g>\n   <g id=\"line2d_58\">\n    <path d=\"M 49.633125 78.683641 \nL 69.163125 87.16479 \nL 88.693125 110.855385 \nL 108.223125 118.27068 \n\" clip-path=\"url(#pebca638d44)\" style=\"fill: none; stroke-dasharray: 5.55,2.4; stroke-dashoffset: 0; stroke: #ff7f0e; stroke-width: 1.5\"/>\n   </g>\n   <g id=\"line2d_59\">\n    <path d=\"M 49.633125 45.161799 \nL 69.163125 42.758019 \nL 88.693125 34.95993 \nL 108.223125 32.272239 \n\" clip-path=\"url(#pebca638d44)\" style=\"fill: none; stroke-dasharray: 9.6,2.4,1.5,2.4; stroke-dashoffset: 0; stroke: #2ca02c; stroke-width: 1.5\"/>\n   </g>\n   <g id=\"line2d_60\">\n    <path d=\"M 34.954394 13.5 \nL 44.698573 80.091773 \nL 54.442752 95.754023 \nL 64.186931 104.783219 \nL 73.93111 110.545114 \nL 83.675289 114.492535 \nL 93.419468 118.164847 \nL 103.163647 122.043173 \nL 112.907826 124.736969 \nL 122.652006 125.823742 \n\" clip-path=\"url(#pebca638d44)\" style=\"fill: none; stroke: #1f77b4; stroke-width: 1.5; stroke-linecap: square\"/>\n   </g>\n   <g id=\"line2d_61\">\n    <path d=\"M 49.633125 78.683641 \nL 69.163125 87.16479 \nL 88.693125 110.855385 \nL 108.223125 118.27068 \nL 127.753125 120.05064 \n\" clip-path=\"url(#pebca638d44)\" style=\"fill: none; stroke-dasharray: 5.55,2.4; stroke-dashoffset: 0; stroke: #ff7f0e; stroke-width: 1.5\"/>\n   </g>\n   <g id=\"line2d_62\">\n    <path d=\"M 49.633125 45.161799 \nL 69.163125 42.758019 \nL 88.693125 34.95993 \nL 108.223125 32.272239 \n\" clip-path=\"url(#pebca638d44)\" style=\"fill: none; stroke-dasharray: 9.6,2.4,1.5,2.4; stroke-dashoffset: 0; stroke: #2ca02c; stroke-width: 1.5\"/>\n   </g>\n   <g id=\"line2d_63\">\n    <path d=\"M 34.954394 13.5 \nL 44.698573 80.091773 \nL 54.442752 95.754023 \nL 64.186931 104.783219 \nL 73.93111 110.545114 \nL 83.675289 114.492535 \nL 93.419468 118.164847 \nL 103.163647 122.043173 \nL 112.907826 124.736969 \nL 122.652006 125.823742 \n\" clip-path=\"url(#pebca638d44)\" style=\"fill: none; stroke: #1f77b4; stroke-width: 1.5; stroke-linecap: square\"/>\n   </g>\n   <g id=\"line2d_64\">\n    <path d=\"M 49.633125 78.683641 \nL 69.163125 87.16479 \nL 88.693125 110.855385 \nL 108.223125 118.27068 \nL 127.753125 120.05064 \n\" clip-path=\"url(#pebca638d44)\" style=\"fill: none; stroke-dasharray: 5.55,2.4; stroke-dashoffset: 0; stroke: #ff7f0e; stroke-width: 1.5\"/>\n   </g>\n   <g id=\"line2d_65\">\n    <path d=\"M 49.633125 45.161799 \nL 69.163125 42.758019 \nL 88.693125 34.95993 \nL 108.223125 32.272239 \nL 127.753125 32.158675 \n\" clip-path=\"url(#pebca638d44)\" style=\"fill: none; stroke-dasharray: 9.6,2.4,1.5,2.4; stroke-dashoffset: 0; stroke: #2ca02c; stroke-width: 1.5\"/>\n   </g>\n   <g id=\"line2d_66\">\n    <path d=\"M 34.954394 13.5 \nL 44.698573 80.091773 \nL 54.442752 95.754023 \nL 64.186931 104.783219 \nL 73.93111 110.545114 \nL 83.675289 114.492535 \nL 93.419468 118.164847 \nL 103.163647 122.043173 \nL 112.907826 124.736969 \nL 122.652006 125.823742 \nL 132.396185 127.976389 \n\" clip-path=\"url(#pebca638d44)\" style=\"fill: none; stroke: #1f77b4; stroke-width: 1.5; stroke-linecap: square\"/>\n   </g>\n   <g id=\"line2d_67\">\n    <path d=\"M 49.633125 78.683641 \nL 69.163125 87.16479 \nL 88.693125 110.855385 \nL 108.223125 118.27068 \nL 127.753125 120.05064 \n\" clip-path=\"url(#pebca638d44)\" style=\"fill: none; stroke-dasharray: 5.55,2.4; stroke-dashoffset: 0; stroke: #ff7f0e; stroke-width: 1.5\"/>\n   </g>\n   <g id=\"line2d_68\">\n    <path d=\"M 49.633125 45.161799 \nL 69.163125 42.758019 \nL 88.693125 34.95993 \nL 108.223125 32.272239 \nL 127.753125 32.158675 \n\" clip-path=\"url(#pebca638d44)\" style=\"fill: none; stroke-dasharray: 9.6,2.4,1.5,2.4; stroke-dashoffset: 0; stroke: #2ca02c; stroke-width: 1.5\"/>\n   </g>\n   <g id=\"line2d_69\">\n    <path d=\"M 34.954394 13.5 \nL 44.698573 80.091773 \nL 54.442752 95.754023 \nL 64.186931 104.783219 \nL 73.93111 110.545114 \nL 83.675289 114.492535 \nL 93.419468 118.164847 \nL 103.163647 122.043173 \nL 112.907826 124.736969 \nL 122.652006 125.823742 \nL 132.396185 127.976389 \nL 142.140364 130.181414 \n\" clip-path=\"url(#pebca638d44)\" style=\"fill: none; stroke: #1f77b4; stroke-width: 1.5; stroke-linecap: square\"/>\n   </g>\n   <g id=\"line2d_70\">\n    <path d=\"M 49.633125 78.683641 \nL 69.163125 87.16479 \nL 88.693125 110.855385 \nL 108.223125 118.27068 \nL 127.753125 120.05064 \n\" clip-path=\"url(#pebca638d44)\" style=\"fill: none; stroke-dasharray: 5.55,2.4; stroke-dashoffset: 0; stroke: #ff7f0e; stroke-width: 1.5\"/>\n   </g>\n   <g id=\"line2d_71\">\n    <path d=\"M 49.633125 45.161799 \nL 69.163125 42.758019 \nL 88.693125 34.95993 \nL 108.223125 32.272239 \nL 127.753125 32.158675 \n\" clip-path=\"url(#pebca638d44)\" style=\"fill: none; stroke-dasharray: 9.6,2.4,1.5,2.4; stroke-dashoffset: 0; stroke: #2ca02c; stroke-width: 1.5\"/>\n   </g>\n   <g id=\"line2d_72\">\n    <path d=\"M 34.954394 13.5 \nL 44.698573 80.091773 \nL 54.442752 95.754023 \nL 64.186931 104.783219 \nL 73.93111 110.545114 \nL 83.675289 114.492535 \nL 93.419468 118.164847 \nL 103.163647 122.043173 \nL 112.907826 124.736969 \nL 122.652006 125.823742 \nL 132.396185 127.976389 \nL 142.140364 130.181414 \n\" clip-path=\"url(#pebca638d44)\" style=\"fill: none; stroke: #1f77b4; stroke-width: 1.5; stroke-linecap: square\"/>\n   </g>\n   <g id=\"line2d_73\">\n    <path d=\"M 49.633125 78.683641 \nL 69.163125 87.16479 \nL 88.693125 110.855385 \nL 108.223125 118.27068 \nL 127.753125 120.05064 \nL 147.283125 115.743453 \n\" clip-path=\"url(#pebca638d44)\" style=\"fill: none; stroke-dasharray: 5.55,2.4; stroke-dashoffset: 0; stroke: #ff7f0e; stroke-width: 1.5\"/>\n   </g>\n   <g id=\"line2d_74\">\n    <path d=\"M 49.633125 45.161799 \nL 69.163125 42.758019 \nL 88.693125 34.95993 \nL 108.223125 32.272239 \nL 127.753125 32.158675 \n\" clip-path=\"url(#pebca638d44)\" style=\"fill: none; stroke-dasharray: 9.6,2.4,1.5,2.4; stroke-dashoffset: 0; stroke: #2ca02c; stroke-width: 1.5\"/>\n   </g>\n   <g id=\"line2d_75\">\n    <path d=\"M 34.954394 13.5 \nL 44.698573 80.091773 \nL 54.442752 95.754023 \nL 64.186931 104.783219 \nL 73.93111 110.545114 \nL 83.675289 114.492535 \nL 93.419468 118.164847 \nL 103.163647 122.043173 \nL 112.907826 124.736969 \nL 122.652006 125.823742 \nL 132.396185 127.976389 \nL 142.140364 130.181414 \n\" clip-path=\"url(#pebca638d44)\" style=\"fill: none; stroke: #1f77b4; stroke-width: 1.5; stroke-linecap: square\"/>\n   </g>\n   <g id=\"line2d_76\">\n    <path d=\"M 49.633125 78.683641 \nL 69.163125 87.16479 \nL 88.693125 110.855385 \nL 108.223125 118.27068 \nL 127.753125 120.05064 \nL 147.283125 115.743453 \n\" clip-path=\"url(#pebca638d44)\" style=\"fill: none; stroke-dasharray: 5.55,2.4; stroke-dashoffset: 0; stroke: #ff7f0e; stroke-width: 1.5\"/>\n   </g>\n   <g id=\"line2d_77\">\n    <path d=\"M 49.633125 45.161799 \nL 69.163125 42.758019 \nL 88.693125 34.95993 \nL 108.223125 32.272239 \nL 127.753125 32.158675 \nL 147.283125 32.594005 \n\" clip-path=\"url(#pebca638d44)\" style=\"fill: none; stroke-dasharray: 9.6,2.4,1.5,2.4; stroke-dashoffset: 0; stroke: #2ca02c; stroke-width: 1.5\"/>\n   </g>\n   <g id=\"line2d_78\">\n    <path d=\"M 34.954394 13.5 \nL 44.698573 80.091773 \nL 54.442752 95.754023 \nL 64.186931 104.783219 \nL 73.93111 110.545114 \nL 83.675289 114.492535 \nL 93.419468 118.164847 \nL 103.163647 122.043173 \nL 112.907826 124.736969 \nL 122.652006 125.823742 \nL 132.396185 127.976389 \nL 142.140364 130.181414 \nL 151.884543 132.473117 \n\" clip-path=\"url(#pebca638d44)\" style=\"fill: none; stroke: #1f77b4; stroke-width: 1.5; stroke-linecap: square\"/>\n   </g>\n   <g id=\"line2d_79\">\n    <path d=\"M 49.633125 78.683641 \nL 69.163125 87.16479 \nL 88.693125 110.855385 \nL 108.223125 118.27068 \nL 127.753125 120.05064 \nL 147.283125 115.743453 \n\" clip-path=\"url(#pebca638d44)\" style=\"fill: none; stroke-dasharray: 5.55,2.4; stroke-dashoffset: 0; stroke: #ff7f0e; stroke-width: 1.5\"/>\n   </g>\n   <g id=\"line2d_80\">\n    <path d=\"M 49.633125 45.161799 \nL 69.163125 42.758019 \nL 88.693125 34.95993 \nL 108.223125 32.272239 \nL 127.753125 32.158675 \nL 147.283125 32.594005 \n\" clip-path=\"url(#pebca638d44)\" style=\"fill: none; stroke-dasharray: 9.6,2.4,1.5,2.4; stroke-dashoffset: 0; stroke: #2ca02c; stroke-width: 1.5\"/>\n   </g>\n   <g id=\"line2d_81\">\n    <path d=\"M 34.954394 13.5 \nL 44.698573 80.091773 \nL 54.442752 95.754023 \nL 64.186931 104.783219 \nL 73.93111 110.545114 \nL 83.675289 114.492535 \nL 93.419468 118.164847 \nL 103.163647 122.043173 \nL 112.907826 124.736969 \nL 122.652006 125.823742 \nL 132.396185 127.976389 \nL 142.140364 130.181414 \nL 151.884543 132.473117 \nL 161.628722 132.187714 \n\" clip-path=\"url(#pebca638d44)\" style=\"fill: none; stroke: #1f77b4; stroke-width: 1.5; stroke-linecap: square\"/>\n   </g>\n   <g id=\"line2d_82\">\n    <path d=\"M 49.633125 78.683641 \nL 69.163125 87.16479 \nL 88.693125 110.855385 \nL 108.223125 118.27068 \nL 127.753125 120.05064 \nL 147.283125 115.743453 \n\" clip-path=\"url(#pebca638d44)\" style=\"fill: none; stroke-dasharray: 5.55,2.4; stroke-dashoffset: 0; stroke: #ff7f0e; stroke-width: 1.5\"/>\n   </g>\n   <g id=\"line2d_83\">\n    <path d=\"M 49.633125 45.161799 \nL 69.163125 42.758019 \nL 88.693125 34.95993 \nL 108.223125 32.272239 \nL 127.753125 32.158675 \nL 147.283125 32.594005 \n\" clip-path=\"url(#pebca638d44)\" style=\"fill: none; stroke-dasharray: 9.6,2.4,1.5,2.4; stroke-dashoffset: 0; stroke: #2ca02c; stroke-width: 1.5\"/>\n   </g>\n   <g id=\"line2d_84\">\n    <path d=\"M 34.954394 13.5 \nL 44.698573 80.091773 \nL 54.442752 95.754023 \nL 64.186931 104.783219 \nL 73.93111 110.545114 \nL 83.675289 114.492535 \nL 93.419468 118.164847 \nL 103.163647 122.043173 \nL 112.907826 124.736969 \nL 122.652006 125.823742 \nL 132.396185 127.976389 \nL 142.140364 130.181414 \nL 151.884543 132.473117 \nL 161.628722 132.187714 \n\" clip-path=\"url(#pebca638d44)\" style=\"fill: none; stroke: #1f77b4; stroke-width: 1.5; stroke-linecap: square\"/>\n   </g>\n   <g id=\"line2d_85\">\n    <path d=\"M 49.633125 78.683641 \nL 69.163125 87.16479 \nL 88.693125 110.855385 \nL 108.223125 118.27068 \nL 127.753125 120.05064 \nL 147.283125 115.743453 \nL 166.813125 130.509139 \n\" clip-path=\"url(#pebca638d44)\" style=\"fill: none; stroke-dasharray: 5.55,2.4; stroke-dashoffset: 0; stroke: #ff7f0e; stroke-width: 1.5\"/>\n   </g>\n   <g id=\"line2d_86\">\n    <path d=\"M 49.633125 45.161799 \nL 69.163125 42.758019 \nL 88.693125 34.95993 \nL 108.223125 32.272239 \nL 127.753125 32.158675 \nL 147.283125 32.594005 \n\" clip-path=\"url(#pebca638d44)\" style=\"fill: none; stroke-dasharray: 9.6,2.4,1.5,2.4; stroke-dashoffset: 0; stroke: #2ca02c; stroke-width: 1.5\"/>\n   </g>\n   <g id=\"line2d_87\">\n    <path d=\"M 34.954394 13.5 \nL 44.698573 80.091773 \nL 54.442752 95.754023 \nL 64.186931 104.783219 \nL 73.93111 110.545114 \nL 83.675289 114.492535 \nL 93.419468 118.164847 \nL 103.163647 122.043173 \nL 112.907826 124.736969 \nL 122.652006 125.823742 \nL 132.396185 127.976389 \nL 142.140364 130.181414 \nL 151.884543 132.473117 \nL 161.628722 132.187714 \n\" clip-path=\"url(#pebca638d44)\" style=\"fill: none; stroke: #1f77b4; stroke-width: 1.5; stroke-linecap: square\"/>\n   </g>\n   <g id=\"line2d_88\">\n    <path d=\"M 49.633125 78.683641 \nL 69.163125 87.16479 \nL 88.693125 110.855385 \nL 108.223125 118.27068 \nL 127.753125 120.05064 \nL 147.283125 115.743453 \nL 166.813125 130.509139 \n\" clip-path=\"url(#pebca638d44)\" style=\"fill: none; stroke-dasharray: 5.55,2.4; stroke-dashoffset: 0; stroke: #ff7f0e; stroke-width: 1.5\"/>\n   </g>\n   <g id=\"line2d_89\">\n    <path d=\"M 49.633125 45.161799 \nL 69.163125 42.758019 \nL 88.693125 34.95993 \nL 108.223125 32.272239 \nL 127.753125 32.158675 \nL 147.283125 32.594005 \nL 166.813125 28.429977 \n\" clip-path=\"url(#pebca638d44)\" style=\"fill: none; stroke-dasharray: 9.6,2.4,1.5,2.4; stroke-dashoffset: 0; stroke: #2ca02c; stroke-width: 1.5\"/>\n   </g>\n   <g id=\"line2d_90\">\n    <path d=\"M 34.954394 13.5 \nL 44.698573 80.091773 \nL 54.442752 95.754023 \nL 64.186931 104.783219 \nL 73.93111 110.545114 \nL 83.675289 114.492535 \nL 93.419468 118.164847 \nL 103.163647 122.043173 \nL 112.907826 124.736969 \nL 122.652006 125.823742 \nL 132.396185 127.976389 \nL 142.140364 130.181414 \nL 151.884543 132.473117 \nL 161.628722 132.187714 \nL 171.372901 134.952886 \n\" clip-path=\"url(#pebca638d44)\" style=\"fill: none; stroke: #1f77b4; stroke-width: 1.5; stroke-linecap: square\"/>\n   </g>\n   <g id=\"line2d_91\">\n    <path d=\"M 49.633125 78.683641 \nL 69.163125 87.16479 \nL 88.693125 110.855385 \nL 108.223125 118.27068 \nL 127.753125 120.05064 \nL 147.283125 115.743453 \nL 166.813125 130.509139 \n\" clip-path=\"url(#pebca638d44)\" style=\"fill: none; stroke-dasharray: 5.55,2.4; stroke-dashoffset: 0; stroke: #ff7f0e; stroke-width: 1.5\"/>\n   </g>\n   <g id=\"line2d_92\">\n    <path d=\"M 49.633125 45.161799 \nL 69.163125 42.758019 \nL 88.693125 34.95993 \nL 108.223125 32.272239 \nL 127.753125 32.158675 \nL 147.283125 32.594005 \nL 166.813125 28.429977 \n\" clip-path=\"url(#pebca638d44)\" style=\"fill: none; stroke-dasharray: 9.6,2.4,1.5,2.4; stroke-dashoffset: 0; stroke: #2ca02c; stroke-width: 1.5\"/>\n   </g>\n   <g id=\"line2d_93\">\n    <path d=\"M 34.954394 13.5 \nL 44.698573 80.091773 \nL 54.442752 95.754023 \nL 64.186931 104.783219 \nL 73.93111 110.545114 \nL 83.675289 114.492535 \nL 93.419468 118.164847 \nL 103.163647 122.043173 \nL 112.907826 124.736969 \nL 122.652006 125.823742 \nL 132.396185 127.976389 \nL 142.140364 130.181414 \nL 151.884543 132.473117 \nL 161.628722 132.187714 \nL 171.372901 134.952886 \nL 181.11708 135.842145 \n\" clip-path=\"url(#pebca638d44)\" style=\"fill: none; stroke: #1f77b4; stroke-width: 1.5; stroke-linecap: square\"/>\n   </g>\n   <g id=\"line2d_94\">\n    <path d=\"M 49.633125 78.683641 \nL 69.163125 87.16479 \nL 88.693125 110.855385 \nL 108.223125 118.27068 \nL 127.753125 120.05064 \nL 147.283125 115.743453 \nL 166.813125 130.509139 \n\" clip-path=\"url(#pebca638d44)\" style=\"fill: none; stroke-dasharray: 5.55,2.4; stroke-dashoffset: 0; stroke: #ff7f0e; stroke-width: 1.5\"/>\n   </g>\n   <g id=\"line2d_95\">\n    <path d=\"M 49.633125 45.161799 \nL 69.163125 42.758019 \nL 88.693125 34.95993 \nL 108.223125 32.272239 \nL 127.753125 32.158675 \nL 147.283125 32.594005 \nL 166.813125 28.429977 \n\" clip-path=\"url(#pebca638d44)\" style=\"fill: none; stroke-dasharray: 9.6,2.4,1.5,2.4; stroke-dashoffset: 0; stroke: #2ca02c; stroke-width: 1.5\"/>\n   </g>\n   <g id=\"line2d_96\">\n    <path d=\"M 34.954394 13.5 \nL 44.698573 80.091773 \nL 54.442752 95.754023 \nL 64.186931 104.783219 \nL 73.93111 110.545114 \nL 83.675289 114.492535 \nL 93.419468 118.164847 \nL 103.163647 122.043173 \nL 112.907826 124.736969 \nL 122.652006 125.823742 \nL 132.396185 127.976389 \nL 142.140364 130.181414 \nL 151.884543 132.473117 \nL 161.628722 132.187714 \nL 171.372901 134.952886 \nL 181.11708 135.842145 \n\" clip-path=\"url(#pebca638d44)\" style=\"fill: none; stroke: #1f77b4; stroke-width: 1.5; stroke-linecap: square\"/>\n   </g>\n   <g id=\"line2d_97\">\n    <path d=\"M 49.633125 78.683641 \nL 69.163125 87.16479 \nL 88.693125 110.855385 \nL 108.223125 118.27068 \nL 127.753125 120.05064 \nL 147.283125 115.743453 \nL 166.813125 130.509139 \nL 186.343125 119.64682 \n\" clip-path=\"url(#pebca638d44)\" style=\"fill: none; stroke-dasharray: 5.55,2.4; stroke-dashoffset: 0; stroke: #ff7f0e; stroke-width: 1.5\"/>\n   </g>\n   <g id=\"line2d_98\">\n    <path d=\"M 49.633125 45.161799 \nL 69.163125 42.758019 \nL 88.693125 34.95993 \nL 108.223125 32.272239 \nL 127.753125 32.158675 \nL 147.283125 32.594005 \nL 166.813125 28.429977 \n\" clip-path=\"url(#pebca638d44)\" style=\"fill: none; stroke-dasharray: 9.6,2.4,1.5,2.4; stroke-dashoffset: 0; stroke: #2ca02c; stroke-width: 1.5\"/>\n   </g>\n   <g id=\"line2d_99\">\n    <path d=\"M 34.954394 13.5 \nL 44.698573 80.091773 \nL 54.442752 95.754023 \nL 64.186931 104.783219 \nL 73.93111 110.545114 \nL 83.675289 114.492535 \nL 93.419468 118.164847 \nL 103.163647 122.043173 \nL 112.907826 124.736969 \nL 122.652006 125.823742 \nL 132.396185 127.976389 \nL 142.140364 130.181414 \nL 151.884543 132.473117 \nL 161.628722 132.187714 \nL 171.372901 134.952886 \nL 181.11708 135.842145 \n\" clip-path=\"url(#pebca638d44)\" style=\"fill: none; stroke: #1f77b4; stroke-width: 1.5; stroke-linecap: square\"/>\n   </g>\n   <g id=\"line2d_100\">\n    <path d=\"M 49.633125 78.683641 \nL 69.163125 87.16479 \nL 88.693125 110.855385 \nL 108.223125 118.27068 \nL 127.753125 120.05064 \nL 147.283125 115.743453 \nL 166.813125 130.509139 \nL 186.343125 119.64682 \n\" clip-path=\"url(#pebca638d44)\" style=\"fill: none; stroke-dasharray: 5.55,2.4; stroke-dashoffset: 0; stroke: #ff7f0e; stroke-width: 1.5\"/>\n   </g>\n   <g id=\"line2d_101\">\n    <path d=\"M 49.633125 45.161799 \nL 69.163125 42.758019 \nL 88.693125 34.95993 \nL 108.223125 32.272239 \nL 127.753125 32.158675 \nL 147.283125 32.594005 \nL 166.813125 28.429977 \nL 186.343125 33.1429 \n\" clip-path=\"url(#pebca638d44)\" style=\"fill: none; stroke-dasharray: 9.6,2.4,1.5,2.4; stroke-dashoffset: 0; stroke: #2ca02c; stroke-width: 1.5\"/>\n   </g>\n   <g id=\"line2d_102\">\n    <path d=\"M 34.954394 13.5 \nL 44.698573 80.091773 \nL 54.442752 95.754023 \nL 64.186931 104.783219 \nL 73.93111 110.545114 \nL 83.675289 114.492535 \nL 93.419468 118.164847 \nL 103.163647 122.043173 \nL 112.907826 124.736969 \nL 122.652006 125.823742 \nL 132.396185 127.976389 \nL 142.140364 130.181414 \nL 151.884543 132.473117 \nL 161.628722 132.187714 \nL 171.372901 134.952886 \nL 181.11708 135.842145 \nL 190.861259 136.621701 \n\" clip-path=\"url(#pebca638d44)\" style=\"fill: none; stroke: #1f77b4; stroke-width: 1.5; stroke-linecap: square\"/>\n   </g>\n   <g id=\"line2d_103\">\n    <path d=\"M 49.633125 78.683641 \nL 69.163125 87.16479 \nL 88.693125 110.855385 \nL 108.223125 118.27068 \nL 127.753125 120.05064 \nL 147.283125 115.743453 \nL 166.813125 130.509139 \nL 186.343125 119.64682 \n\" clip-path=\"url(#pebca638d44)\" style=\"fill: none; stroke-dasharray: 5.55,2.4; stroke-dashoffset: 0; stroke: #ff7f0e; stroke-width: 1.5\"/>\n   </g>\n   <g id=\"line2d_104\">\n    <path d=\"M 49.633125 45.161799 \nL 69.163125 42.758019 \nL 88.693125 34.95993 \nL 108.223125 32.272239 \nL 127.753125 32.158675 \nL 147.283125 32.594005 \nL 166.813125 28.429977 \nL 186.343125 33.1429 \n\" clip-path=\"url(#pebca638d44)\" style=\"fill: none; stroke-dasharray: 9.6,2.4,1.5,2.4; stroke-dashoffset: 0; stroke: #2ca02c; stroke-width: 1.5\"/>\n   </g>\n   <g id=\"line2d_105\">\n    <path d=\"M 34.954394 13.5 \nL 44.698573 80.091773 \nL 54.442752 95.754023 \nL 64.186931 104.783219 \nL 73.93111 110.545114 \nL 83.675289 114.492535 \nL 93.419468 118.164847 \nL 103.163647 122.043173 \nL 112.907826 124.736969 \nL 122.652006 125.823742 \nL 132.396185 127.976389 \nL 142.140364 130.181414 \nL 151.884543 132.473117 \nL 161.628722 132.187714 \nL 171.372901 134.952886 \nL 181.11708 135.842145 \nL 190.861259 136.621701 \nL 200.605438 137.488911 \n\" clip-path=\"url(#pebca638d44)\" style=\"fill: none; stroke: #1f77b4; stroke-width: 1.5; stroke-linecap: square\"/>\n   </g>\n   <g id=\"line2d_106\">\n    <path d=\"M 49.633125 78.683641 \nL 69.163125 87.16479 \nL 88.693125 110.855385 \nL 108.223125 118.27068 \nL 127.753125 120.05064 \nL 147.283125 115.743453 \nL 166.813125 130.509139 \nL 186.343125 119.64682 \n\" clip-path=\"url(#pebca638d44)\" style=\"fill: none; stroke-dasharray: 5.55,2.4; stroke-dashoffset: 0; stroke: #ff7f0e; stroke-width: 1.5\"/>\n   </g>\n   <g id=\"line2d_107\">\n    <path d=\"M 49.633125 45.161799 \nL 69.163125 42.758019 \nL 88.693125 34.95993 \nL 108.223125 32.272239 \nL 127.753125 32.158675 \nL 147.283125 32.594005 \nL 166.813125 28.429977 \nL 186.343125 33.1429 \n\" clip-path=\"url(#pebca638d44)\" style=\"fill: none; stroke-dasharray: 9.6,2.4,1.5,2.4; stroke-dashoffset: 0; stroke: #2ca02c; stroke-width: 1.5\"/>\n   </g>\n   <g id=\"line2d_108\">\n    <path d=\"M 34.954394 13.5 \nL 44.698573 80.091773 \nL 54.442752 95.754023 \nL 64.186931 104.783219 \nL 73.93111 110.545114 \nL 83.675289 114.492535 \nL 93.419468 118.164847 \nL 103.163647 122.043173 \nL 112.907826 124.736969 \nL 122.652006 125.823742 \nL 132.396185 127.976389 \nL 142.140364 130.181414 \nL 151.884543 132.473117 \nL 161.628722 132.187714 \nL 171.372901 134.952886 \nL 181.11708 135.842145 \nL 190.861259 136.621701 \nL 200.605438 137.488911 \n\" clip-path=\"url(#pebca638d44)\" style=\"fill: none; stroke: #1f77b4; stroke-width: 1.5; stroke-linecap: square\"/>\n   </g>\n   <g id=\"line2d_109\">\n    <path d=\"M 49.633125 78.683641 \nL 69.163125 87.16479 \nL 88.693125 110.855385 \nL 108.223125 118.27068 \nL 127.753125 120.05064 \nL 147.283125 115.743453 \nL 166.813125 130.509139 \nL 186.343125 119.64682 \nL 205.873125 132.755695 \n\" clip-path=\"url(#pebca638d44)\" style=\"fill: none; stroke-dasharray: 5.55,2.4; stroke-dashoffset: 0; stroke: #ff7f0e; stroke-width: 1.5\"/>\n   </g>\n   <g id=\"line2d_110\">\n    <path d=\"M 49.633125 45.161799 \nL 69.163125 42.758019 \nL 88.693125 34.95993 \nL 108.223125 32.272239 \nL 127.753125 32.158675 \nL 147.283125 32.594005 \nL 166.813125 28.429977 \nL 186.343125 33.1429 \n\" clip-path=\"url(#pebca638d44)\" style=\"fill: none; stroke-dasharray: 9.6,2.4,1.5,2.4; stroke-dashoffset: 0; stroke: #2ca02c; stroke-width: 1.5\"/>\n   </g>\n   <g id=\"line2d_111\">\n    <path d=\"M 34.954394 13.5 \nL 44.698573 80.091773 \nL 54.442752 95.754023 \nL 64.186931 104.783219 \nL 73.93111 110.545114 \nL 83.675289 114.492535 \nL 93.419468 118.164847 \nL 103.163647 122.043173 \nL 112.907826 124.736969 \nL 122.652006 125.823742 \nL 132.396185 127.976389 \nL 142.140364 130.181414 \nL 151.884543 132.473117 \nL 161.628722 132.187714 \nL 171.372901 134.952886 \nL 181.11708 135.842145 \nL 190.861259 136.621701 \nL 200.605438 137.488911 \n\" clip-path=\"url(#pebca638d44)\" style=\"fill: none; stroke: #1f77b4; stroke-width: 1.5; stroke-linecap: square\"/>\n   </g>\n   <g id=\"line2d_112\">\n    <path d=\"M 49.633125 78.683641 \nL 69.163125 87.16479 \nL 88.693125 110.855385 \nL 108.223125 118.27068 \nL 127.753125 120.05064 \nL 147.283125 115.743453 \nL 166.813125 130.509139 \nL 186.343125 119.64682 \nL 205.873125 132.755695 \n\" clip-path=\"url(#pebca638d44)\" style=\"fill: none; stroke-dasharray: 5.55,2.4; stroke-dashoffset: 0; stroke: #ff7f0e; stroke-width: 1.5\"/>\n   </g>\n   <g id=\"line2d_113\">\n    <path d=\"M 49.633125 45.161799 \nL 69.163125 42.758019 \nL 88.693125 34.95993 \nL 108.223125 32.272239 \nL 127.753125 32.158675 \nL 147.283125 32.594005 \nL 166.813125 28.429977 \nL 186.343125 33.1429 \nL 205.873125 27.048276 \n\" clip-path=\"url(#pebca638d44)\" style=\"fill: none; stroke-dasharray: 9.6,2.4,1.5,2.4; stroke-dashoffset: 0; stroke: #2ca02c; stroke-width: 1.5\"/>\n   </g>\n   <g id=\"line2d_114\">\n    <path d=\"M 34.954394 13.5 \nL 44.698573 80.091773 \nL 54.442752 95.754023 \nL 64.186931 104.783219 \nL 73.93111 110.545114 \nL 83.675289 114.492535 \nL 93.419468 118.164847 \nL 103.163647 122.043173 \nL 112.907826 124.736969 \nL 122.652006 125.823742 \nL 132.396185 127.976389 \nL 142.140364 130.181414 \nL 151.884543 132.473117 \nL 161.628722 132.187714 \nL 171.372901 134.952886 \nL 181.11708 135.842145 \nL 190.861259 136.621701 \nL 200.605438 137.488911 \nL 210.349618 138.891099 \n\" clip-path=\"url(#pebca638d44)\" style=\"fill: none; stroke: #1f77b4; stroke-width: 1.5; stroke-linecap: square\"/>\n   </g>\n   <g id=\"line2d_115\">\n    <path d=\"M 49.633125 78.683641 \nL 69.163125 87.16479 \nL 88.693125 110.855385 \nL 108.223125 118.27068 \nL 127.753125 120.05064 \nL 147.283125 115.743453 \nL 166.813125 130.509139 \nL 186.343125 119.64682 \nL 205.873125 132.755695 \n\" clip-path=\"url(#pebca638d44)\" style=\"fill: none; stroke-dasharray: 5.55,2.4; stroke-dashoffset: 0; stroke: #ff7f0e; stroke-width: 1.5\"/>\n   </g>\n   <g id=\"line2d_116\">\n    <path d=\"M 49.633125 45.161799 \nL 69.163125 42.758019 \nL 88.693125 34.95993 \nL 108.223125 32.272239 \nL 127.753125 32.158675 \nL 147.283125 32.594005 \nL 166.813125 28.429977 \nL 186.343125 33.1429 \nL 205.873125 27.048276 \n\" clip-path=\"url(#pebca638d44)\" style=\"fill: none; stroke-dasharray: 9.6,2.4,1.5,2.4; stroke-dashoffset: 0; stroke: #2ca02c; stroke-width: 1.5\"/>\n   </g>\n   <g id=\"line2d_117\">\n    <path d=\"M 34.954394 13.5 \nL 44.698573 80.091773 \nL 54.442752 95.754023 \nL 64.186931 104.783219 \nL 73.93111 110.545114 \nL 83.675289 114.492535 \nL 93.419468 118.164847 \nL 103.163647 122.043173 \nL 112.907826 124.736969 \nL 122.652006 125.823742 \nL 132.396185 127.976389 \nL 142.140364 130.181414 \nL 151.884543 132.473117 \nL 161.628722 132.187714 \nL 171.372901 134.952886 \nL 181.11708 135.842145 \nL 190.861259 136.621701 \nL 200.605438 137.488911 \nL 210.349618 138.891099 \nL 220.093797 139.5 \n\" clip-path=\"url(#pebca638d44)\" style=\"fill: none; stroke: #1f77b4; stroke-width: 1.5; stroke-linecap: square\"/>\n   </g>\n   <g id=\"line2d_118\">\n    <path d=\"M 49.633125 78.683641 \nL 69.163125 87.16479 \nL 88.693125 110.855385 \nL 108.223125 118.27068 \nL 127.753125 120.05064 \nL 147.283125 115.743453 \nL 166.813125 130.509139 \nL 186.343125 119.64682 \nL 205.873125 132.755695 \n\" clip-path=\"url(#pebca638d44)\" style=\"fill: none; stroke-dasharray: 5.55,2.4; stroke-dashoffset: 0; stroke: #ff7f0e; stroke-width: 1.5\"/>\n   </g>\n   <g id=\"line2d_119\">\n    <path d=\"M 49.633125 45.161799 \nL 69.163125 42.758019 \nL 88.693125 34.95993 \nL 108.223125 32.272239 \nL 127.753125 32.158675 \nL 147.283125 32.594005 \nL 166.813125 28.429977 \nL 186.343125 33.1429 \nL 205.873125 27.048276 \n\" clip-path=\"url(#pebca638d44)\" style=\"fill: none; stroke-dasharray: 9.6,2.4,1.5,2.4; stroke-dashoffset: 0; stroke: #2ca02c; stroke-width: 1.5\"/>\n   </g>\n   <g id=\"line2d_120\">\n    <path d=\"M 34.954394 13.5 \nL 44.698573 80.091773 \nL 54.442752 95.754023 \nL 64.186931 104.783219 \nL 73.93111 110.545114 \nL 83.675289 114.492535 \nL 93.419468 118.164847 \nL 103.163647 122.043173 \nL 112.907826 124.736969 \nL 122.652006 125.823742 \nL 132.396185 127.976389 \nL 142.140364 130.181414 \nL 151.884543 132.473117 \nL 161.628722 132.187714 \nL 171.372901 134.952886 \nL 181.11708 135.842145 \nL 190.861259 136.621701 \nL 200.605438 137.488911 \nL 210.349618 138.891099 \nL 220.093797 139.5 \n\" clip-path=\"url(#pebca638d44)\" style=\"fill: none; stroke: #1f77b4; stroke-width: 1.5; stroke-linecap: square\"/>\n   </g>\n   <g id=\"line2d_121\">\n    <path d=\"M 49.633125 78.683641 \nL 69.163125 87.16479 \nL 88.693125 110.855385 \nL 108.223125 118.27068 \nL 127.753125 120.05064 \nL 147.283125 115.743453 \nL 166.813125 130.509139 \nL 186.343125 119.64682 \nL 205.873125 132.755695 \nL 225.403125 120.7672 \n\" clip-path=\"url(#pebca638d44)\" style=\"fill: none; stroke-dasharray: 5.55,2.4; stroke-dashoffset: 0; stroke: #ff7f0e; stroke-width: 1.5\"/>\n   </g>\n   <g id=\"line2d_122\">\n    <path d=\"M 49.633125 45.161799 \nL 69.163125 42.758019 \nL 88.693125 34.95993 \nL 108.223125 32.272239 \nL 127.753125 32.158675 \nL 147.283125 32.594005 \nL 166.813125 28.429977 \nL 186.343125 33.1429 \nL 205.873125 27.048276 \n\" clip-path=\"url(#pebca638d44)\" style=\"fill: none; stroke-dasharray: 9.6,2.4,1.5,2.4; stroke-dashoffset: 0; stroke: #2ca02c; stroke-width: 1.5\"/>\n   </g>\n   <g id=\"line2d_123\">\n    <path d=\"M 34.954394 13.5 \nL 44.698573 80.091773 \nL 54.442752 95.754023 \nL 64.186931 104.783219 \nL 73.93111 110.545114 \nL 83.675289 114.492535 \nL 93.419468 118.164847 \nL 103.163647 122.043173 \nL 112.907826 124.736969 \nL 122.652006 125.823742 \nL 132.396185 127.976389 \nL 142.140364 130.181414 \nL 151.884543 132.473117 \nL 161.628722 132.187714 \nL 171.372901 134.952886 \nL 181.11708 135.842145 \nL 190.861259 136.621701 \nL 200.605438 137.488911 \nL 210.349618 138.891099 \nL 220.093797 139.5 \n\" clip-path=\"url(#pebca638d44)\" style=\"fill: none; stroke: #1f77b4; stroke-width: 1.5; stroke-linecap: square\"/>\n   </g>\n   <g id=\"line2d_124\">\n    <path d=\"M 49.633125 78.683641 \nL 69.163125 87.16479 \nL 88.693125 110.855385 \nL 108.223125 118.27068 \nL 127.753125 120.05064 \nL 147.283125 115.743453 \nL 166.813125 130.509139 \nL 186.343125 119.64682 \nL 205.873125 132.755695 \nL 225.403125 120.7672 \n\" clip-path=\"url(#pebca638d44)\" style=\"fill: none; stroke-dasharray: 5.55,2.4; stroke-dashoffset: 0; stroke: #ff7f0e; stroke-width: 1.5\"/>\n   </g>\n   <g id=\"line2d_125\">\n    <path d=\"M 49.633125 45.161799 \nL 69.163125 42.758019 \nL 88.693125 34.95993 \nL 108.223125 32.272239 \nL 127.753125 32.158675 \nL 147.283125 32.594005 \nL 166.813125 28.429977 \nL 186.343125 33.1429 \nL 205.873125 27.048276 \nL 225.403125 32.63186 \n\" clip-path=\"url(#pebca638d44)\" style=\"fill: none; stroke-dasharray: 9.6,2.4,1.5,2.4; stroke-dashoffset: 0; stroke: #2ca02c; stroke-width: 1.5\"/>\n   </g>\n   <g id=\"patch_3\">\n    <path d=\"M 30.103125 145.8 \nL 30.103125 7.2 \n\" style=\"fill: none; stroke: #000000; stroke-width: 0.8; stroke-linejoin: miter; stroke-linecap: square\"/>\n   </g>\n   <g id=\"patch_4\">\n    <path d=\"M 225.403125 145.8 \nL 225.403125 7.2 \n\" style=\"fill: none; stroke: #000000; stroke-width: 0.8; stroke-linejoin: miter; stroke-linecap: square\"/>\n   </g>\n   <g id=\"patch_5\">\n    <path d=\"M 30.103125 145.8 \nL 225.403125 145.8 \n\" style=\"fill: none; stroke: #000000; stroke-width: 0.8; stroke-linejoin: miter; stroke-linecap: square\"/>\n   </g>\n   <g id=\"patch_6\">\n    <path d=\"M 30.103125 7.2 \nL 225.403125 7.2 \n\" style=\"fill: none; stroke: #000000; stroke-width: 0.8; stroke-linejoin: miter; stroke-linecap: square\"/>\n   </g>\n   <g id=\"legend_1\">\n    <g id=\"patch_7\">\n     <path d=\"M 138.8125 100.434375 \nL 218.403125 100.434375 \nQ 220.403125 100.434375 220.403125 98.434375 \nL 220.403125 54.565625 \nQ 220.403125 52.565625 218.403125 52.565625 \nL 138.8125 52.565625 \nQ 136.8125 52.565625 136.8125 54.565625 \nL 136.8125 98.434375 \nQ 136.8125 100.434375 138.8125 100.434375 \nz\n\" style=\"fill: #ffffff; opacity: 0.8; stroke: #cccccc; stroke-linejoin: miter\"/>\n    </g>\n    <g id=\"line2d_126\">\n     <path d=\"M 140.8125 60.664063 \nL 150.8125 60.664063 \nL 160.8125 60.664063 \n\" style=\"fill: none; stroke: #1f77b4; stroke-width: 1.5; stroke-linecap: square\"/>\n    </g>\n    <g id=\"text_11\">\n     <!-- train_loss -->\n     <g transform=\"translate(168.8125 64.164063) scale(0.1 -0.1)\">\n      <defs>\n       <path id=\"DejaVuSans-74\" d=\"M 1172 4494 \nL 1172 3500 \nL 2356 3500 \nL 2356 3053 \nL 1172 3053 \nL 1172 1153 \nQ 1172 725 1289 603 \nQ 1406 481 1766 481 \nL 2356 481 \nL 2356 0 \nL 1766 0 \nQ 1100 0 847 248 \nQ 594 497 594 1153 \nL 594 3053 \nL 172 3053 \nL 172 3500 \nL 594 3500 \nL 594 4494 \nL 1172 4494 \nz\n\" transform=\"scale(0.015625)\"/>\n       <path id=\"DejaVuSans-72\" d=\"M 2631 2963 \nQ 2534 3019 2420 3045 \nQ 2306 3072 2169 3072 \nQ 1681 3072 1420 2755 \nQ 1159 2438 1159 1844 \nL 1159 0 \nL 581 0 \nL 581 3500 \nL 1159 3500 \nL 1159 2956 \nQ 1341 3275 1631 3429 \nQ 1922 3584 2338 3584 \nQ 2397 3584 2469 3576 \nQ 2541 3569 2628 3553 \nL 2631 2963 \nz\n\" transform=\"scale(0.015625)\"/>\n       <path id=\"DejaVuSans-61\" d=\"M 2194 1759 \nQ 1497 1759 1228 1600 \nQ 959 1441 959 1056 \nQ 959 750 1161 570 \nQ 1363 391 1709 391 \nQ 2188 391 2477 730 \nQ 2766 1069 2766 1631 \nL 2766 1759 \nL 2194 1759 \nz\nM 3341 1997 \nL 3341 0 \nL 2766 0 \nL 2766 531 \nQ 2569 213 2275 61 \nQ 1981 -91 1556 -91 \nQ 1019 -91 701 211 \nQ 384 513 384 1019 \nQ 384 1609 779 1909 \nQ 1175 2209 1959 2209 \nL 2766 2209 \nL 2766 2266 \nQ 2766 2663 2505 2880 \nQ 2244 3097 1772 3097 \nQ 1472 3097 1187 3025 \nQ 903 2953 641 2809 \nL 641 3341 \nQ 956 3463 1253 3523 \nQ 1550 3584 1831 3584 \nQ 2591 3584 2966 3190 \nQ 3341 2797 3341 1997 \nz\n\" transform=\"scale(0.015625)\"/>\n       <path id=\"DejaVuSans-69\" d=\"M 603 3500 \nL 1178 3500 \nL 1178 0 \nL 603 0 \nL 603 3500 \nz\nM 603 4863 \nL 1178 4863 \nL 1178 4134 \nL 603 4134 \nL 603 4863 \nz\n\" transform=\"scale(0.015625)\"/>\n       <path id=\"DejaVuSans-6e\" d=\"M 3513 2113 \nL 3513 0 \nL 2938 0 \nL 2938 2094 \nQ 2938 2591 2744 2837 \nQ 2550 3084 2163 3084 \nQ 1697 3084 1428 2787 \nQ 1159 2491 1159 1978 \nL 1159 0 \nL 581 0 \nL 581 3500 \nL 1159 3500 \nL 1159 2956 \nQ 1366 3272 1645 3428 \nQ 1925 3584 2291 3584 \nQ 2894 3584 3203 3211 \nQ 3513 2838 3513 2113 \nz\n\" transform=\"scale(0.015625)\"/>\n       <path id=\"DejaVuSans-5f\" d=\"M 3263 -1063 \nL 3263 -1509 \nL -63 -1509 \nL -63 -1063 \nL 3263 -1063 \nz\n\" transform=\"scale(0.015625)\"/>\n       <path id=\"DejaVuSans-6c\" d=\"M 603 4863 \nL 1178 4863 \nL 1178 0 \nL 603 0 \nL 603 4863 \nz\n\" transform=\"scale(0.015625)\"/>\n       <path id=\"DejaVuSans-73\" d=\"M 2834 3397 \nL 2834 2853 \nQ 2591 2978 2328 3040 \nQ 2066 3103 1784 3103 \nQ 1356 3103 1142 2972 \nQ 928 2841 928 2578 \nQ 928 2378 1081 2264 \nQ 1234 2150 1697 2047 \nL 1894 2003 \nQ 2506 1872 2764 1633 \nQ 3022 1394 3022 966 \nQ 3022 478 2636 193 \nQ 2250 -91 1575 -91 \nQ 1294 -91 989 -36 \nQ 684 19 347 128 \nL 347 722 \nQ 666 556 975 473 \nQ 1284 391 1588 391 \nQ 1994 391 2212 530 \nQ 2431 669 2431 922 \nQ 2431 1156 2273 1281 \nQ 2116 1406 1581 1522 \nL 1381 1569 \nQ 847 1681 609 1914 \nQ 372 2147 372 2553 \nQ 372 3047 722 3315 \nQ 1072 3584 1716 3584 \nQ 2034 3584 2315 3537 \nQ 2597 3491 2834 3397 \nz\n\" transform=\"scale(0.015625)\"/>\n      </defs>\n      <use xlink:href=\"#DejaVuSans-74\"/>\n      <use xlink:href=\"#DejaVuSans-72\" x=\"39.208984\"/>\n      <use xlink:href=\"#DejaVuSans-61\" x=\"80.322266\"/>\n      <use xlink:href=\"#DejaVuSans-69\" x=\"141.601562\"/>\n      <use xlink:href=\"#DejaVuSans-6e\" x=\"169.384766\"/>\n      <use xlink:href=\"#DejaVuSans-5f\" x=\"232.763672\"/>\n      <use xlink:href=\"#DejaVuSans-6c\" x=\"282.763672\"/>\n      <use xlink:href=\"#DejaVuSans-6f\" x=\"310.546875\"/>\n      <use xlink:href=\"#DejaVuSans-73\" x=\"371.728516\"/>\n      <use xlink:href=\"#DejaVuSans-73\" x=\"423.828125\"/>\n     </g>\n    </g>\n    <g id=\"line2d_127\">\n     <path d=\"M 140.8125 75.620313 \nL 150.8125 75.620313 \nL 160.8125 75.620313 \n\" style=\"fill: none; stroke-dasharray: 5.55,2.4; stroke-dashoffset: 0; stroke: #ff7f0e; stroke-width: 1.5\"/>\n    </g>\n    <g id=\"text_12\">\n     <!-- val_loss -->\n     <g transform=\"translate(168.8125 79.120313) scale(0.1 -0.1)\">\n      <defs>\n       <path id=\"DejaVuSans-76\" d=\"M 191 3500 \nL 800 3500 \nL 1894 563 \nL 2988 3500 \nL 3597 3500 \nL 2284 0 \nL 1503 0 \nL 191 3500 \nz\n\" transform=\"scale(0.015625)\"/>\n      </defs>\n      <use xlink:href=\"#DejaVuSans-76\"/>\n      <use xlink:href=\"#DejaVuSans-61\" x=\"59.179688\"/>\n      <use xlink:href=\"#DejaVuSans-6c\" x=\"120.458984\"/>\n      <use xlink:href=\"#DejaVuSans-5f\" x=\"148.242188\"/>\n      <use xlink:href=\"#DejaVuSans-6c\" x=\"198.242188\"/>\n      <use xlink:href=\"#DejaVuSans-6f\" x=\"226.025391\"/>\n      <use xlink:href=\"#DejaVuSans-73\" x=\"287.207031\"/>\n      <use xlink:href=\"#DejaVuSans-73\" x=\"339.306641\"/>\n     </g>\n    </g>\n    <g id=\"line2d_128\">\n     <path d=\"M 140.8125 90.576563 \nL 150.8125 90.576563 \nL 160.8125 90.576563 \n\" style=\"fill: none; stroke-dasharray: 9.6,2.4,1.5,2.4; stroke-dashoffset: 0; stroke: #2ca02c; stroke-width: 1.5\"/>\n    </g>\n    <g id=\"text_13\">\n     <!-- val_acc -->\n     <g transform=\"translate(168.8125 94.076563) scale(0.1 -0.1)\">\n      <use xlink:href=\"#DejaVuSans-76\"/>\n      <use xlink:href=\"#DejaVuSans-61\" x=\"59.179688\"/>\n      <use xlink:href=\"#DejaVuSans-6c\" x=\"120.458984\"/>\n      <use xlink:href=\"#DejaVuSans-5f\" x=\"148.242188\"/>\n      <use xlink:href=\"#DejaVuSans-61\" x=\"198.242188\"/>\n      <use xlink:href=\"#DejaVuSans-63\" x=\"259.521484\"/>\n      <use xlink:href=\"#DejaVuSans-63\" x=\"314.501953\"/>\n     </g>\n    </g>\n   </g>\n  </g>\n </g>\n <defs>\n  <clipPath id=\"pebca638d44\">\n   <rect x=\"30.103125\" y=\"7.2\" width=\"195.3\" height=\"138.6\"/>\n  </clipPath>\n </defs>\n</svg>\n"
          },
          "metadata": {}
        }
      ]
    },
    {
      "cell_type": "code",
      "source": [
        "model.net[1].gamma.reshape((-1,)), model.net[1].beta.reshape((-1,))"
      ],
      "metadata": {
        "id": "eMutA2dcQs8r",
        "colab": {
          "base_uri": "https://localhost:8080/"
        },
        "outputId": "9d7ffe43-6f0a-4f54-93e0-fbc583faaf68"
      },
      "execution_count": 36,
      "outputs": [
        {
          "output_type": "execute_result",
          "data": {
            "text/plain": [
              "(tensor([1.4379, 2.4269, 1.6851, 2.3251, 1.8462, 1.3565], device='cuda:0',\n",
              "        grad_fn=<ViewBackward0>),\n",
              " tensor([-0.8771,  1.6162,  1.6694, -1.2388, -0.9956,  0.0127], device='cuda:0',\n",
              "        grad_fn=<ViewBackward0>))"
            ]
          },
          "metadata": {},
          "execution_count": 36
        }
      ]
    },
    {
      "cell_type": "markdown",
      "source": [
        "## 8.5.5. Concise Implementation"
      ],
      "metadata": {
        "id": "ZZoxQASyQx0o"
      }
    },
    {
      "cell_type": "code",
      "source": [
        "class BNLeNet(d2l.Classifier):\n",
        "    def __init__(self, lr=0.1, num_classes=10):\n",
        "        super().__init__()\n",
        "        self.save_hyperparameters()\n",
        "        self.net = nn.Sequential(\n",
        "            nn.LazyConv2d(6, kernel_size=5), nn.LazyBatchNorm2d(),\n",
        "            nn.Sigmoid(), nn.AvgPool2d(kernel_size=2, stride=2),\n",
        "            nn.LazyConv2d(16, kernel_size=5), nn.LazyBatchNorm2d(),\n",
        "            nn.Sigmoid(), nn.AvgPool2d(kernel_size=2, stride=2),\n",
        "            nn.Flatten(), nn.LazyLinear(120), nn.LazyBatchNorm1d(),\n",
        "            nn.Sigmoid(), nn.LazyLinear(84), nn.LazyBatchNorm1d(),\n",
        "            nn.Sigmoid(), nn.LazyLinear(num_classes))"
      ],
      "metadata": {
        "id": "VJH7bldRQzMv"
      },
      "execution_count": 37,
      "outputs": []
    },
    {
      "cell_type": "code",
      "source": [
        "trainer = d2l.Trainer(max_epochs=10, num_gpus=1)\n",
        "data = d2l.FashionMNIST(batch_size=128)\n",
        "model = BNLeNet(lr=0.1)\n",
        "model.apply_init([next(iter(data.get_dataloader(True)))[0]], d2l.init_cnn)\n",
        "trainer.fit(model, data)"
      ],
      "metadata": {
        "id": "Y82hWNaHQ1mI",
        "colab": {
          "base_uri": "https://localhost:8080/",
          "height": 265
        },
        "outputId": "6f17477f-722e-4712-ba55-554c44361484"
      },
      "execution_count": 38,
      "outputs": [
        {
          "output_type": "display_data",
          "data": {
            "text/plain": [
              "<Figure size 350x250 with 1 Axes>"
            ],
            "image/svg+xml": "<?xml version=\"1.0\" encoding=\"utf-8\" standalone=\"no\"?>\n<!DOCTYPE svg PUBLIC \"-//W3C//DTD SVG 1.1//EN\"\n  \"http://www.w3.org/Graphics/SVG/1.1/DTD/svg11.dtd\">\n<svg xmlns:xlink=\"http://www.w3.org/1999/xlink\" width=\"238.965625pt\" height=\"183.35625pt\" viewBox=\"0 0 238.965625 183.35625\" xmlns=\"http://www.w3.org/2000/svg\" version=\"1.1\">\n <metadata>\n  <rdf:RDF xmlns:dc=\"http://purl.org/dc/elements/1.1/\" xmlns:cc=\"http://creativecommons.org/ns#\" xmlns:rdf=\"http://www.w3.org/1999/02/22-rdf-syntax-ns#\">\n   <cc:Work>\n    <dc:type rdf:resource=\"http://purl.org/dc/dcmitype/StillImage\"/>\n    <dc:date>2024-10-05T14:35:18.246915</dc:date>\n    <dc:format>image/svg+xml</dc:format>\n    <dc:creator>\n     <cc:Agent>\n      <dc:title>Matplotlib v3.7.2, https://matplotlib.org/</dc:title>\n     </cc:Agent>\n    </dc:creator>\n   </cc:Work>\n  </rdf:RDF>\n </metadata>\n <defs>\n  <style type=\"text/css\">*{stroke-linejoin: round; stroke-linecap: butt}</style>\n </defs>\n <g id=\"figure_1\">\n  <g id=\"patch_1\">\n   <path d=\"M 0 183.35625 \nL 238.965625 183.35625 \nL 238.965625 0 \nL 0 0 \nz\n\" style=\"fill: #ffffff\"/>\n  </g>\n  <g id=\"axes_1\">\n   <g id=\"patch_2\">\n    <path d=\"M 30.103125 145.8 \nL 225.403125 145.8 \nL 225.403125 7.2 \nL 30.103125 7.2 \nz\n\" style=\"fill: #ffffff\"/>\n   </g>\n   <g id=\"matplotlib.axis_1\">\n    <g id=\"xtick_1\">\n     <g id=\"line2d_1\">\n      <defs>\n       <path id=\"m155dac7b6a\" d=\"M 0 0 \nL 0 3.5 \n\" style=\"stroke: #000000; stroke-width: 0.8\"/>\n      </defs>\n      <g>\n       <use xlink:href=\"#m155dac7b6a\" x=\"30.103125\" y=\"145.8\" style=\"stroke: #000000; stroke-width: 0.8\"/>\n      </g>\n     </g>\n     <g id=\"text_1\">\n      <!-- 0 -->\n      <g transform=\"translate(26.921875 160.398438) scale(0.1 -0.1)\">\n       <defs>\n        <path id=\"DejaVuSans-30\" d=\"M 2034 4250 \nQ 1547 4250 1301 3770 \nQ 1056 3291 1056 2328 \nQ 1056 1369 1301 889 \nQ 1547 409 2034 409 \nQ 2525 409 2770 889 \nQ 3016 1369 3016 2328 \nQ 3016 3291 2770 3770 \nQ 2525 4250 2034 4250 \nz\nM 2034 4750 \nQ 2819 4750 3233 4129 \nQ 3647 3509 3647 2328 \nQ 3647 1150 3233 529 \nQ 2819 -91 2034 -91 \nQ 1250 -91 836 529 \nQ 422 1150 422 2328 \nQ 422 3509 836 4129 \nQ 1250 4750 2034 4750 \nz\n\" transform=\"scale(0.015625)\"/>\n       </defs>\n       <use xlink:href=\"#DejaVuSans-30\"/>\n      </g>\n     </g>\n    </g>\n    <g id=\"xtick_2\">\n     <g id=\"line2d_2\">\n      <g>\n       <use xlink:href=\"#m155dac7b6a\" x=\"69.163125\" y=\"145.8\" style=\"stroke: #000000; stroke-width: 0.8\"/>\n      </g>\n     </g>\n     <g id=\"text_2\">\n      <!-- 2 -->\n      <g transform=\"translate(65.981875 160.398438) scale(0.1 -0.1)\">\n       <defs>\n        <path id=\"DejaVuSans-32\" d=\"M 1228 531 \nL 3431 531 \nL 3431 0 \nL 469 0 \nL 469 531 \nQ 828 903 1448 1529 \nQ 2069 2156 2228 2338 \nQ 2531 2678 2651 2914 \nQ 2772 3150 2772 3378 \nQ 2772 3750 2511 3984 \nQ 2250 4219 1831 4219 \nQ 1534 4219 1204 4116 \nQ 875 4013 500 3803 \nL 500 4441 \nQ 881 4594 1212 4672 \nQ 1544 4750 1819 4750 \nQ 2544 4750 2975 4387 \nQ 3406 4025 3406 3419 \nQ 3406 3131 3298 2873 \nQ 3191 2616 2906 2266 \nQ 2828 2175 2409 1742 \nQ 1991 1309 1228 531 \nz\n\" transform=\"scale(0.015625)\"/>\n       </defs>\n       <use xlink:href=\"#DejaVuSans-32\"/>\n      </g>\n     </g>\n    </g>\n    <g id=\"xtick_3\">\n     <g id=\"line2d_3\">\n      <g>\n       <use xlink:href=\"#m155dac7b6a\" x=\"108.223125\" y=\"145.8\" style=\"stroke: #000000; stroke-width: 0.8\"/>\n      </g>\n     </g>\n     <g id=\"text_3\">\n      <!-- 4 -->\n      <g transform=\"translate(105.041875 160.398438) scale(0.1 -0.1)\">\n       <defs>\n        <path id=\"DejaVuSans-34\" d=\"M 2419 4116 \nL 825 1625 \nL 2419 1625 \nL 2419 4116 \nz\nM 2253 4666 \nL 3047 4666 \nL 3047 1625 \nL 3713 1625 \nL 3713 1100 \nL 3047 1100 \nL 3047 0 \nL 2419 0 \nL 2419 1100 \nL 313 1100 \nL 313 1709 \nL 2253 4666 \nz\n\" transform=\"scale(0.015625)\"/>\n       </defs>\n       <use xlink:href=\"#DejaVuSans-34\"/>\n      </g>\n     </g>\n    </g>\n    <g id=\"xtick_4\">\n     <g id=\"line2d_4\">\n      <g>\n       <use xlink:href=\"#m155dac7b6a\" x=\"147.283125\" y=\"145.8\" style=\"stroke: #000000; stroke-width: 0.8\"/>\n      </g>\n     </g>\n     <g id=\"text_4\">\n      <!-- 6 -->\n      <g transform=\"translate(144.101875 160.398438) scale(0.1 -0.1)\">\n       <defs>\n        <path id=\"DejaVuSans-36\" d=\"M 2113 2584 \nQ 1688 2584 1439 2293 \nQ 1191 2003 1191 1497 \nQ 1191 994 1439 701 \nQ 1688 409 2113 409 \nQ 2538 409 2786 701 \nQ 3034 994 3034 1497 \nQ 3034 2003 2786 2293 \nQ 2538 2584 2113 2584 \nz\nM 3366 4563 \nL 3366 3988 \nQ 3128 4100 2886 4159 \nQ 2644 4219 2406 4219 \nQ 1781 4219 1451 3797 \nQ 1122 3375 1075 2522 \nQ 1259 2794 1537 2939 \nQ 1816 3084 2150 3084 \nQ 2853 3084 3261 2657 \nQ 3669 2231 3669 1497 \nQ 3669 778 3244 343 \nQ 2819 -91 2113 -91 \nQ 1303 -91 875 529 \nQ 447 1150 447 2328 \nQ 447 3434 972 4092 \nQ 1497 4750 2381 4750 \nQ 2619 4750 2861 4703 \nQ 3103 4656 3366 4563 \nz\n\" transform=\"scale(0.015625)\"/>\n       </defs>\n       <use xlink:href=\"#DejaVuSans-36\"/>\n      </g>\n     </g>\n    </g>\n    <g id=\"xtick_5\">\n     <g id=\"line2d_5\">\n      <g>\n       <use xlink:href=\"#m155dac7b6a\" x=\"186.343125\" y=\"145.8\" style=\"stroke: #000000; stroke-width: 0.8\"/>\n      </g>\n     </g>\n     <g id=\"text_5\">\n      <!-- 8 -->\n      <g transform=\"translate(183.161875 160.398438) scale(0.1 -0.1)\">\n       <defs>\n        <path id=\"DejaVuSans-38\" d=\"M 2034 2216 \nQ 1584 2216 1326 1975 \nQ 1069 1734 1069 1313 \nQ 1069 891 1326 650 \nQ 1584 409 2034 409 \nQ 2484 409 2743 651 \nQ 3003 894 3003 1313 \nQ 3003 1734 2745 1975 \nQ 2488 2216 2034 2216 \nz\nM 1403 2484 \nQ 997 2584 770 2862 \nQ 544 3141 544 3541 \nQ 544 4100 942 4425 \nQ 1341 4750 2034 4750 \nQ 2731 4750 3128 4425 \nQ 3525 4100 3525 3541 \nQ 3525 3141 3298 2862 \nQ 3072 2584 2669 2484 \nQ 3125 2378 3379 2068 \nQ 3634 1759 3634 1313 \nQ 3634 634 3220 271 \nQ 2806 -91 2034 -91 \nQ 1263 -91 848 271 \nQ 434 634 434 1313 \nQ 434 1759 690 2068 \nQ 947 2378 1403 2484 \nz\nM 1172 3481 \nQ 1172 3119 1398 2916 \nQ 1625 2713 2034 2713 \nQ 2441 2713 2670 2916 \nQ 2900 3119 2900 3481 \nQ 2900 3844 2670 4047 \nQ 2441 4250 2034 4250 \nQ 1625 4250 1398 4047 \nQ 1172 3844 1172 3481 \nz\n\" transform=\"scale(0.015625)\"/>\n       </defs>\n       <use xlink:href=\"#DejaVuSans-38\"/>\n      </g>\n     </g>\n    </g>\n    <g id=\"xtick_6\">\n     <g id=\"line2d_6\">\n      <g>\n       <use xlink:href=\"#m155dac7b6a\" x=\"225.403125\" y=\"145.8\" style=\"stroke: #000000; stroke-width: 0.8\"/>\n      </g>\n     </g>\n     <g id=\"text_6\">\n      <!-- 10 -->\n      <g transform=\"translate(219.040625 160.398438) scale(0.1 -0.1)\">\n       <defs>\n        <path id=\"DejaVuSans-31\" d=\"M 794 531 \nL 1825 531 \nL 1825 4091 \nL 703 3866 \nL 703 4441 \nL 1819 4666 \nL 2450 4666 \nL 2450 531 \nL 3481 531 \nL 3481 0 \nL 794 0 \nL 794 531 \nz\n\" transform=\"scale(0.015625)\"/>\n       </defs>\n       <use xlink:href=\"#DejaVuSans-31\"/>\n       <use xlink:href=\"#DejaVuSans-30\" x=\"63.623047\"/>\n      </g>\n     </g>\n    </g>\n    <g id=\"text_7\">\n     <!-- epoch -->\n     <g transform=\"translate(112.525 174.076563) scale(0.1 -0.1)\">\n      <defs>\n       <path id=\"DejaVuSans-65\" d=\"M 3597 1894 \nL 3597 1613 \nL 953 1613 \nQ 991 1019 1311 708 \nQ 1631 397 2203 397 \nQ 2534 397 2845 478 \nQ 3156 559 3463 722 \nL 3463 178 \nQ 3153 47 2828 -22 \nQ 2503 -91 2169 -91 \nQ 1331 -91 842 396 \nQ 353 884 353 1716 \nQ 353 2575 817 3079 \nQ 1281 3584 2069 3584 \nQ 2775 3584 3186 3129 \nQ 3597 2675 3597 1894 \nz\nM 3022 2063 \nQ 3016 2534 2758 2815 \nQ 2500 3097 2075 3097 \nQ 1594 3097 1305 2825 \nQ 1016 2553 972 2059 \nL 3022 2063 \nz\n\" transform=\"scale(0.015625)\"/>\n       <path id=\"DejaVuSans-70\" d=\"M 1159 525 \nL 1159 -1331 \nL 581 -1331 \nL 581 3500 \nL 1159 3500 \nL 1159 2969 \nQ 1341 3281 1617 3432 \nQ 1894 3584 2278 3584 \nQ 2916 3584 3314 3078 \nQ 3713 2572 3713 1747 \nQ 3713 922 3314 415 \nQ 2916 -91 2278 -91 \nQ 1894 -91 1617 61 \nQ 1341 213 1159 525 \nz\nM 3116 1747 \nQ 3116 2381 2855 2742 \nQ 2594 3103 2138 3103 \nQ 1681 3103 1420 2742 \nQ 1159 2381 1159 1747 \nQ 1159 1113 1420 752 \nQ 1681 391 2138 391 \nQ 2594 391 2855 752 \nQ 3116 1113 3116 1747 \nz\n\" transform=\"scale(0.015625)\"/>\n       <path id=\"DejaVuSans-6f\" d=\"M 1959 3097 \nQ 1497 3097 1228 2736 \nQ 959 2375 959 1747 \nQ 959 1119 1226 758 \nQ 1494 397 1959 397 \nQ 2419 397 2687 759 \nQ 2956 1122 2956 1747 \nQ 2956 2369 2687 2733 \nQ 2419 3097 1959 3097 \nz\nM 1959 3584 \nQ 2709 3584 3137 3096 \nQ 3566 2609 3566 1747 \nQ 3566 888 3137 398 \nQ 2709 -91 1959 -91 \nQ 1206 -91 779 398 \nQ 353 888 353 1747 \nQ 353 2609 779 3096 \nQ 1206 3584 1959 3584 \nz\n\" transform=\"scale(0.015625)\"/>\n       <path id=\"DejaVuSans-63\" d=\"M 3122 3366 \nL 3122 2828 \nQ 2878 2963 2633 3030 \nQ 2388 3097 2138 3097 \nQ 1578 3097 1268 2742 \nQ 959 2388 959 1747 \nQ 959 1106 1268 751 \nQ 1578 397 2138 397 \nQ 2388 397 2633 464 \nQ 2878 531 3122 666 \nL 3122 134 \nQ 2881 22 2623 -34 \nQ 2366 -91 2075 -91 \nQ 1284 -91 818 406 \nQ 353 903 353 1747 \nQ 353 2603 823 3093 \nQ 1294 3584 2113 3584 \nQ 2378 3584 2631 3529 \nQ 2884 3475 3122 3366 \nz\n\" transform=\"scale(0.015625)\"/>\n       <path id=\"DejaVuSans-68\" d=\"M 3513 2113 \nL 3513 0 \nL 2938 0 \nL 2938 2094 \nQ 2938 2591 2744 2837 \nQ 2550 3084 2163 3084 \nQ 1697 3084 1428 2787 \nQ 1159 2491 1159 1978 \nL 1159 0 \nL 581 0 \nL 581 4863 \nL 1159 4863 \nL 1159 2956 \nQ 1366 3272 1645 3428 \nQ 1925 3584 2291 3584 \nQ 2894 3584 3203 3211 \nQ 3513 2838 3513 2113 \nz\n\" transform=\"scale(0.015625)\"/>\n      </defs>\n      <use xlink:href=\"#DejaVuSans-65\"/>\n      <use xlink:href=\"#DejaVuSans-70\" x=\"61.523438\"/>\n      <use xlink:href=\"#DejaVuSans-6f\" x=\"125\"/>\n      <use xlink:href=\"#DejaVuSans-63\" x=\"186.181641\"/>\n      <use xlink:href=\"#DejaVuSans-68\" x=\"241.162109\"/>\n     </g>\n    </g>\n   </g>\n   <g id=\"matplotlib.axis_2\">\n    <g id=\"ytick_1\">\n     <g id=\"line2d_7\">\n      <defs>\n       <path id=\"m513c1be83e\" d=\"M 0 0 \nL -3.5 0 \n\" style=\"stroke: #000000; stroke-width: 0.8\"/>\n      </defs>\n      <g>\n       <use xlink:href=\"#m513c1be83e\" x=\"30.103125\" y=\"119.283869\" style=\"stroke: #000000; stroke-width: 0.8\"/>\n      </g>\n     </g>\n     <g id=\"text_8\">\n      <!-- 0.4 -->\n      <g transform=\"translate(7.2 123.083088) scale(0.1 -0.1)\">\n       <defs>\n        <path id=\"DejaVuSans-2e\" d=\"M 684 794 \nL 1344 794 \nL 1344 0 \nL 684 0 \nL 684 794 \nz\n\" transform=\"scale(0.015625)\"/>\n       </defs>\n       <use xlink:href=\"#DejaVuSans-30\"/>\n       <use xlink:href=\"#DejaVuSans-2e\" x=\"63.623047\"/>\n       <use xlink:href=\"#DejaVuSans-34\" x=\"95.410156\"/>\n      </g>\n     </g>\n    </g>\n    <g id=\"ytick_2\">\n     <g id=\"line2d_8\">\n      <g>\n       <use xlink:href=\"#m513c1be83e\" x=\"30.103125\" y=\"78.347413\" style=\"stroke: #000000; stroke-width: 0.8\"/>\n      </g>\n     </g>\n     <g id=\"text_9\">\n      <!-- 0.6 -->\n      <g transform=\"translate(7.2 82.146632) scale(0.1 -0.1)\">\n       <use xlink:href=\"#DejaVuSans-30\"/>\n       <use xlink:href=\"#DejaVuSans-2e\" x=\"63.623047\"/>\n       <use xlink:href=\"#DejaVuSans-36\" x=\"95.410156\"/>\n      </g>\n     </g>\n    </g>\n    <g id=\"ytick_3\">\n     <g id=\"line2d_9\">\n      <g>\n       <use xlink:href=\"#m513c1be83e\" x=\"30.103125\" y=\"37.410956\" style=\"stroke: #000000; stroke-width: 0.8\"/>\n      </g>\n     </g>\n     <g id=\"text_10\">\n      <!-- 0.8 -->\n      <g transform=\"translate(7.2 41.210175) scale(0.1 -0.1)\">\n       <use xlink:href=\"#DejaVuSans-30\"/>\n       <use xlink:href=\"#DejaVuSans-2e\" x=\"63.623047\"/>\n       <use xlink:href=\"#DejaVuSans-38\" x=\"95.410156\"/>\n      </g>\n     </g>\n    </g>\n   </g>\n   <g id=\"line2d_10\">\n    <path d=\"M 34.954394 13.5 \n\" clip-path=\"url(#pdce7f5ea59)\" style=\"fill: none; stroke: #1f77b4; stroke-width: 1.5; stroke-linecap: square\"/>\n   </g>\n   <g id=\"line2d_11\">\n    <path d=\"M 34.954394 13.5 \nL 44.698573 77.771129 \n\" clip-path=\"url(#pdce7f5ea59)\" style=\"fill: none; stroke: #1f77b4; stroke-width: 1.5; stroke-linecap: square\"/>\n   </g>\n   <g id=\"line2d_12\">\n    <path d=\"M 34.954394 13.5 \nL 44.698573 77.771129 \n\" clip-path=\"url(#pdce7f5ea59)\" style=\"fill: none; stroke: #1f77b4; stroke-width: 1.5; stroke-linecap: square\"/>\n   </g>\n   <g id=\"line2d_13\">\n    <path d=\"M 49.633125 80.129867 \n\" clip-path=\"url(#pdce7f5ea59)\" style=\"fill: none; stroke-dasharray: 5.55,2.4; stroke-dashoffset: 0; stroke: #ff7f0e; stroke-width: 1.5\"/>\n   </g>\n   <g id=\"line2d_14\"/>\n   <g id=\"line2d_15\">\n    <path d=\"M 34.954394 13.5 \nL 44.698573 77.771129 \n\" clip-path=\"url(#pdce7f5ea59)\" style=\"fill: none; stroke: #1f77b4; stroke-width: 1.5; stroke-linecap: square\"/>\n   </g>\n   <g id=\"line2d_16\">\n    <path d=\"M 49.633125 80.129867 \n\" clip-path=\"url(#pdce7f5ea59)\" style=\"fill: none; stroke-dasharray: 5.55,2.4; stroke-dashoffset: 0; stroke: #ff7f0e; stroke-width: 1.5\"/>\n   </g>\n   <g id=\"line2d_17\">\n    <path d=\"M 49.633125 39.730635 \n\" clip-path=\"url(#pdce7f5ea59)\" style=\"fill: none; stroke-dasharray: 9.6,2.4,1.5,2.4; stroke-dashoffset: 0; stroke: #2ca02c; stroke-width: 1.5\"/>\n   </g>\n   <g id=\"line2d_18\">\n    <path d=\"M 34.954394 13.5 \nL 44.698573 77.771129 \nL 54.442752 94.991104 \n\" clip-path=\"url(#pdce7f5ea59)\" style=\"fill: none; stroke: #1f77b4; stroke-width: 1.5; stroke-linecap: square\"/>\n   </g>\n   <g id=\"line2d_19\">\n    <path d=\"M 49.633125 80.129867 \n\" clip-path=\"url(#pdce7f5ea59)\" style=\"fill: none; stroke-dasharray: 5.55,2.4; stroke-dashoffset: 0; stroke: #ff7f0e; stroke-width: 1.5\"/>\n   </g>\n   <g id=\"line2d_20\">\n    <path d=\"M 49.633125 39.730635 \n\" clip-path=\"url(#pdce7f5ea59)\" style=\"fill: none; stroke-dasharray: 9.6,2.4,1.5,2.4; stroke-dashoffset: 0; stroke: #2ca02c; stroke-width: 1.5\"/>\n   </g>\n   <g id=\"line2d_21\">\n    <path d=\"M 34.954394 13.5 \nL 44.698573 77.771129 \nL 54.442752 94.991104 \nL 64.186931 102.742332 \n\" clip-path=\"url(#pdce7f5ea59)\" style=\"fill: none; stroke: #1f77b4; stroke-width: 1.5; stroke-linecap: square\"/>\n   </g>\n   <g id=\"line2d_22\">\n    <path d=\"M 49.633125 80.129867 \n\" clip-path=\"url(#pdce7f5ea59)\" style=\"fill: none; stroke-dasharray: 5.55,2.4; stroke-dashoffset: 0; stroke: #ff7f0e; stroke-width: 1.5\"/>\n   </g>\n   <g id=\"line2d_23\">\n    <path d=\"M 49.633125 39.730635 \n\" clip-path=\"url(#pdce7f5ea59)\" style=\"fill: none; stroke-dasharray: 9.6,2.4,1.5,2.4; stroke-dashoffset: 0; stroke: #2ca02c; stroke-width: 1.5\"/>\n   </g>\n   <g id=\"line2d_24\">\n    <path d=\"M 34.954394 13.5 \nL 44.698573 77.771129 \nL 54.442752 94.991104 \nL 64.186931 102.742332 \n\" clip-path=\"url(#pdce7f5ea59)\" style=\"fill: none; stroke: #1f77b4; stroke-width: 1.5; stroke-linecap: square\"/>\n   </g>\n   <g id=\"line2d_25\">\n    <path d=\"M 49.633125 80.129867 \nL 69.163125 93.617318 \n\" clip-path=\"url(#pdce7f5ea59)\" style=\"fill: none; stroke-dasharray: 5.55,2.4; stroke-dashoffset: 0; stroke: #ff7f0e; stroke-width: 1.5\"/>\n   </g>\n   <g id=\"line2d_26\">\n    <path d=\"M 49.633125 39.730635 \n\" clip-path=\"url(#pdce7f5ea59)\" style=\"fill: none; stroke-dasharray: 9.6,2.4,1.5,2.4; stroke-dashoffset: 0; stroke: #2ca02c; stroke-width: 1.5\"/>\n   </g>\n   <g id=\"line2d_27\">\n    <path d=\"M 34.954394 13.5 \nL 44.698573 77.771129 \nL 54.442752 94.991104 \nL 64.186931 102.742332 \n\" clip-path=\"url(#pdce7f5ea59)\" style=\"fill: none; stroke: #1f77b4; stroke-width: 1.5; stroke-linecap: square\"/>\n   </g>\n   <g id=\"line2d_28\">\n    <path d=\"M 49.633125 80.129867 \nL 69.163125 93.617318 \n\" clip-path=\"url(#pdce7f5ea59)\" style=\"fill: none; stroke-dasharray: 5.55,2.4; stroke-dashoffset: 0; stroke: #ff7f0e; stroke-width: 1.5\"/>\n   </g>\n   <g id=\"line2d_29\">\n    <path d=\"M 49.633125 39.730635 \nL 69.163125 33.982042 \n\" clip-path=\"url(#pdce7f5ea59)\" style=\"fill: none; stroke-dasharray: 9.6,2.4,1.5,2.4; stroke-dashoffset: 0; stroke: #2ca02c; stroke-width: 1.5\"/>\n   </g>\n   <g id=\"line2d_30\">\n    <path d=\"M 34.954394 13.5 \nL 44.698573 77.771129 \nL 54.442752 94.991104 \nL 64.186931 102.742332 \nL 73.93111 109.168701 \n\" clip-path=\"url(#pdce7f5ea59)\" style=\"fill: none; stroke: #1f77b4; stroke-width: 1.5; stroke-linecap: square\"/>\n   </g>\n   <g id=\"line2d_31\">\n    <path d=\"M 49.633125 80.129867 \nL 69.163125 93.617318 \n\" clip-path=\"url(#pdce7f5ea59)\" style=\"fill: none; stroke-dasharray: 5.55,2.4; stroke-dashoffset: 0; stroke: #ff7f0e; stroke-width: 1.5\"/>\n   </g>\n   <g id=\"line2d_32\">\n    <path d=\"M 49.633125 39.730635 \nL 69.163125 33.982042 \n\" clip-path=\"url(#pdce7f5ea59)\" style=\"fill: none; stroke-dasharray: 9.6,2.4,1.5,2.4; stroke-dashoffset: 0; stroke: #2ca02c; stroke-width: 1.5\"/>\n   </g>\n   <g id=\"line2d_33\">\n    <path d=\"M 34.954394 13.5 \nL 44.698573 77.771129 \nL 54.442752 94.991104 \nL 64.186931 102.742332 \nL 73.93111 109.168701 \nL 83.675289 114.094804 \n\" clip-path=\"url(#pdce7f5ea59)\" style=\"fill: none; stroke: #1f77b4; stroke-width: 1.5; stroke-linecap: square\"/>\n   </g>\n   <g id=\"line2d_34\">\n    <path d=\"M 49.633125 80.129867 \nL 69.163125 93.617318 \n\" clip-path=\"url(#pdce7f5ea59)\" style=\"fill: none; stroke-dasharray: 5.55,2.4; stroke-dashoffset: 0; stroke: #ff7f0e; stroke-width: 1.5\"/>\n   </g>\n   <g id=\"line2d_35\">\n    <path d=\"M 49.633125 39.730635 \nL 69.163125 33.982042 \n\" clip-path=\"url(#pdce7f5ea59)\" style=\"fill: none; stroke-dasharray: 9.6,2.4,1.5,2.4; stroke-dashoffset: 0; stroke: #2ca02c; stroke-width: 1.5\"/>\n   </g>\n   <g id=\"line2d_36\">\n    <path d=\"M 34.954394 13.5 \nL 44.698573 77.771129 \nL 54.442752 94.991104 \nL 64.186931 102.742332 \nL 73.93111 109.168701 \nL 83.675289 114.094804 \n\" clip-path=\"url(#pdce7f5ea59)\" style=\"fill: none; stroke: #1f77b4; stroke-width: 1.5; stroke-linecap: square\"/>\n   </g>\n   <g id=\"line2d_37\">\n    <path d=\"M 49.633125 80.129867 \nL 69.163125 93.617318 \nL 88.693125 101.800479 \n\" clip-path=\"url(#pdce7f5ea59)\" style=\"fill: none; stroke-dasharray: 5.55,2.4; stroke-dashoffset: 0; stroke: #ff7f0e; stroke-width: 1.5\"/>\n   </g>\n   <g id=\"line2d_38\">\n    <path d=\"M 49.633125 39.730635 \nL 69.163125 33.982042 \n\" clip-path=\"url(#pdce7f5ea59)\" style=\"fill: none; stroke-dasharray: 9.6,2.4,1.5,2.4; stroke-dashoffset: 0; stroke: #2ca02c; stroke-width: 1.5\"/>\n   </g>\n   <g id=\"line2d_39\">\n    <path d=\"M 34.954394 13.5 \nL 44.698573 77.771129 \nL 54.442752 94.991104 \nL 64.186931 102.742332 \nL 73.93111 109.168701 \nL 83.675289 114.094804 \n\" clip-path=\"url(#pdce7f5ea59)\" style=\"fill: none; stroke: #1f77b4; stroke-width: 1.5; stroke-linecap: square\"/>\n   </g>\n   <g id=\"line2d_40\">\n    <path d=\"M 49.633125 80.129867 \nL 69.163125 93.617318 \nL 88.693125 101.800479 \n\" clip-path=\"url(#pdce7f5ea59)\" style=\"fill: none; stroke-dasharray: 5.55,2.4; stroke-dashoffset: 0; stroke: #ff7f0e; stroke-width: 1.5\"/>\n   </g>\n   <g id=\"line2d_41\">\n    <path d=\"M 49.633125 39.730635 \nL 69.163125 33.982042 \nL 88.693125 32.787792 \n\" clip-path=\"url(#pdce7f5ea59)\" style=\"fill: none; stroke-dasharray: 9.6,2.4,1.5,2.4; stroke-dashoffset: 0; stroke: #2ca02c; stroke-width: 1.5\"/>\n   </g>\n   <g id=\"line2d_42\">\n    <path d=\"M 34.954394 13.5 \nL 44.698573 77.771129 \nL 54.442752 94.991104 \nL 64.186931 102.742332 \nL 73.93111 109.168701 \nL 83.675289 114.094804 \nL 93.419468 119.230452 \n\" clip-path=\"url(#pdce7f5ea59)\" style=\"fill: none; stroke: #1f77b4; stroke-width: 1.5; stroke-linecap: square\"/>\n   </g>\n   <g id=\"line2d_43\">\n    <path d=\"M 49.633125 80.129867 \nL 69.163125 93.617318 \nL 88.693125 101.800479 \n\" clip-path=\"url(#pdce7f5ea59)\" style=\"fill: none; stroke-dasharray: 5.55,2.4; stroke-dashoffset: 0; stroke: #ff7f0e; stroke-width: 1.5\"/>\n   </g>\n   <g id=\"line2d_44\">\n    <path d=\"M 49.633125 39.730635 \nL 69.163125 33.982042 \nL 88.693125 32.787792 \n\" clip-path=\"url(#pdce7f5ea59)\" style=\"fill: none; stroke-dasharray: 9.6,2.4,1.5,2.4; stroke-dashoffset: 0; stroke: #2ca02c; stroke-width: 1.5\"/>\n   </g>\n   <g id=\"line2d_45\">\n    <path d=\"M 34.954394 13.5 \nL 44.698573 77.771129 \nL 54.442752 94.991104 \nL 64.186931 102.742332 \nL 73.93111 109.168701 \nL 83.675289 114.094804 \nL 93.419468 119.230452 \nL 103.163647 119.068453 \n\" clip-path=\"url(#pdce7f5ea59)\" style=\"fill: none; stroke: #1f77b4; stroke-width: 1.5; stroke-linecap: square\"/>\n   </g>\n   <g id=\"line2d_46\">\n    <path d=\"M 49.633125 80.129867 \nL 69.163125 93.617318 \nL 88.693125 101.800479 \n\" clip-path=\"url(#pdce7f5ea59)\" style=\"fill: none; stroke-dasharray: 5.55,2.4; stroke-dashoffset: 0; stroke: #ff7f0e; stroke-width: 1.5\"/>\n   </g>\n   <g id=\"line2d_47\">\n    <path d=\"M 49.633125 39.730635 \nL 69.163125 33.982042 \nL 88.693125 32.787792 \n\" clip-path=\"url(#pdce7f5ea59)\" style=\"fill: none; stroke-dasharray: 9.6,2.4,1.5,2.4; stroke-dashoffset: 0; stroke: #2ca02c; stroke-width: 1.5\"/>\n   </g>\n   <g id=\"line2d_48\">\n    <path d=\"M 34.954394 13.5 \nL 44.698573 77.771129 \nL 54.442752 94.991104 \nL 64.186931 102.742332 \nL 73.93111 109.168701 \nL 83.675289 114.094804 \nL 93.419468 119.230452 \nL 103.163647 119.068453 \n\" clip-path=\"url(#pdce7f5ea59)\" style=\"fill: none; stroke: #1f77b4; stroke-width: 1.5; stroke-linecap: square\"/>\n   </g>\n   <g id=\"line2d_49\">\n    <path d=\"M 49.633125 80.129867 \nL 69.163125 93.617318 \nL 88.693125 101.800479 \nL 108.223125 99.878595 \n\" clip-path=\"url(#pdce7f5ea59)\" style=\"fill: none; stroke-dasharray: 5.55,2.4; stroke-dashoffset: 0; stroke: #ff7f0e; stroke-width: 1.5\"/>\n   </g>\n   <g id=\"line2d_50\">\n    <path d=\"M 49.633125 39.730635 \nL 69.163125 33.982042 \nL 88.693125 32.787792 \n\" clip-path=\"url(#pdce7f5ea59)\" style=\"fill: none; stroke-dasharray: 9.6,2.4,1.5,2.4; stroke-dashoffset: 0; stroke: #2ca02c; stroke-width: 1.5\"/>\n   </g>\n   <g id=\"line2d_51\">\n    <path d=\"M 34.954394 13.5 \nL 44.698573 77.771129 \nL 54.442752 94.991104 \nL 64.186931 102.742332 \nL 73.93111 109.168701 \nL 83.675289 114.094804 \nL 93.419468 119.230452 \nL 103.163647 119.068453 \n\" clip-path=\"url(#pdce7f5ea59)\" style=\"fill: none; stroke: #1f77b4; stroke-width: 1.5; stroke-linecap: square\"/>\n   </g>\n   <g id=\"line2d_52\">\n    <path d=\"M 49.633125 80.129867 \nL 69.163125 93.617318 \nL 88.693125 101.800479 \nL 108.223125 99.878595 \n\" clip-path=\"url(#pdce7f5ea59)\" style=\"fill: none; stroke-dasharray: 5.55,2.4; stroke-dashoffset: 0; stroke: #ff7f0e; stroke-width: 1.5\"/>\n   </g>\n   <g id=\"line2d_53\">\n    <path d=\"M 49.633125 39.730635 \nL 69.163125 33.982042 \nL 88.693125 32.787792 \nL 108.223125 32.585377 \n\" clip-path=\"url(#pdce7f5ea59)\" style=\"fill: none; stroke-dasharray: 9.6,2.4,1.5,2.4; stroke-dashoffset: 0; stroke: #2ca02c; stroke-width: 1.5\"/>\n   </g>\n   <g id=\"line2d_54\">\n    <path d=\"M 34.954394 13.5 \nL 44.698573 77.771129 \nL 54.442752 94.991104 \nL 64.186931 102.742332 \nL 73.93111 109.168701 \nL 83.675289 114.094804 \nL 93.419468 119.230452 \nL 103.163647 119.068453 \nL 112.907826 125.103096 \n\" clip-path=\"url(#pdce7f5ea59)\" style=\"fill: none; stroke: #1f77b4; stroke-width: 1.5; stroke-linecap: square\"/>\n   </g>\n   <g id=\"line2d_55\">\n    <path d=\"M 49.633125 80.129867 \nL 69.163125 93.617318 \nL 88.693125 101.800479 \nL 108.223125 99.878595 \n\" clip-path=\"url(#pdce7f5ea59)\" style=\"fill: none; stroke-dasharray: 5.55,2.4; stroke-dashoffset: 0; stroke: #ff7f0e; stroke-width: 1.5\"/>\n   </g>\n   <g id=\"line2d_56\">\n    <path d=\"M 49.633125 39.730635 \nL 69.163125 33.982042 \nL 88.693125 32.787792 \nL 108.223125 32.585377 \n\" clip-path=\"url(#pdce7f5ea59)\" style=\"fill: none; stroke-dasharray: 9.6,2.4,1.5,2.4; stroke-dashoffset: 0; stroke: #2ca02c; stroke-width: 1.5\"/>\n   </g>\n   <g id=\"line2d_57\">\n    <path d=\"M 34.954394 13.5 \nL 44.698573 77.771129 \nL 54.442752 94.991104 \nL 64.186931 102.742332 \nL 73.93111 109.168701 \nL 83.675289 114.094804 \nL 93.419468 119.230452 \nL 103.163647 119.068453 \nL 112.907826 125.103096 \nL 122.652006 125.119211 \n\" clip-path=\"url(#pdce7f5ea59)\" style=\"fill: none; stroke: #1f77b4; stroke-width: 1.5; stroke-linecap: square\"/>\n   </g>\n   <g id=\"line2d_58\">\n    <path d=\"M 49.633125 80.129867 \nL 69.163125 93.617318 \nL 88.693125 101.800479 \nL 108.223125 99.878595 \n\" clip-path=\"url(#pdce7f5ea59)\" style=\"fill: none; stroke-dasharray: 5.55,2.4; stroke-dashoffset: 0; stroke: #ff7f0e; stroke-width: 1.5\"/>\n   </g>\n   <g id=\"line2d_59\">\n    <path d=\"M 49.633125 39.730635 \nL 69.163125 33.982042 \nL 88.693125 32.787792 \nL 108.223125 32.585377 \n\" clip-path=\"url(#pdce7f5ea59)\" style=\"fill: none; stroke-dasharray: 9.6,2.4,1.5,2.4; stroke-dashoffset: 0; stroke: #2ca02c; stroke-width: 1.5\"/>\n   </g>\n   <g id=\"line2d_60\">\n    <path d=\"M 34.954394 13.5 \nL 44.698573 77.771129 \nL 54.442752 94.991104 \nL 64.186931 102.742332 \nL 73.93111 109.168701 \nL 83.675289 114.094804 \nL 93.419468 119.230452 \nL 103.163647 119.068453 \nL 112.907826 125.103096 \nL 122.652006 125.119211 \n\" clip-path=\"url(#pdce7f5ea59)\" style=\"fill: none; stroke: #1f77b4; stroke-width: 1.5; stroke-linecap: square\"/>\n   </g>\n   <g id=\"line2d_61\">\n    <path d=\"M 49.633125 80.129867 \nL 69.163125 93.617318 \nL 88.693125 101.800479 \nL 108.223125 99.878595 \nL 127.753125 100.448307 \n\" clip-path=\"url(#pdce7f5ea59)\" style=\"fill: none; stroke-dasharray: 5.55,2.4; stroke-dashoffset: 0; stroke: #ff7f0e; stroke-width: 1.5\"/>\n   </g>\n   <g id=\"line2d_62\">\n    <path d=\"M 49.633125 39.730635 \nL 69.163125 33.982042 \nL 88.693125 32.787792 \nL 108.223125 32.585377 \n\" clip-path=\"url(#pdce7f5ea59)\" style=\"fill: none; stroke-dasharray: 9.6,2.4,1.5,2.4; stroke-dashoffset: 0; stroke: #2ca02c; stroke-width: 1.5\"/>\n   </g>\n   <g id=\"line2d_63\">\n    <path d=\"M 34.954394 13.5 \nL 44.698573 77.771129 \nL 54.442752 94.991104 \nL 64.186931 102.742332 \nL 73.93111 109.168701 \nL 83.675289 114.094804 \nL 93.419468 119.230452 \nL 103.163647 119.068453 \nL 112.907826 125.103096 \nL 122.652006 125.119211 \n\" clip-path=\"url(#pdce7f5ea59)\" style=\"fill: none; stroke: #1f77b4; stroke-width: 1.5; stroke-linecap: square\"/>\n   </g>\n   <g id=\"line2d_64\">\n    <path d=\"M 49.633125 80.129867 \nL 69.163125 93.617318 \nL 88.693125 101.800479 \nL 108.223125 99.878595 \nL 127.753125 100.448307 \n\" clip-path=\"url(#pdce7f5ea59)\" style=\"fill: none; stroke-dasharray: 5.55,2.4; stroke-dashoffset: 0; stroke: #ff7f0e; stroke-width: 1.5\"/>\n   </g>\n   <g id=\"line2d_65\">\n    <path d=\"M 49.633125 39.730635 \nL 69.163125 33.982042 \nL 88.693125 32.787792 \nL 108.223125 32.585377 \nL 127.753125 32.544894 \n\" clip-path=\"url(#pdce7f5ea59)\" style=\"fill: none; stroke-dasharray: 9.6,2.4,1.5,2.4; stroke-dashoffset: 0; stroke: #2ca02c; stroke-width: 1.5\"/>\n   </g>\n   <g id=\"line2d_66\">\n    <path d=\"M 34.954394 13.5 \nL 44.698573 77.771129 \nL 54.442752 94.991104 \nL 64.186931 102.742332 \nL 73.93111 109.168701 \nL 83.675289 114.094804 \nL 93.419468 119.230452 \nL 103.163647 119.068453 \nL 112.907826 125.103096 \nL 122.652006 125.119211 \nL 132.396185 127.460615 \n\" clip-path=\"url(#pdce7f5ea59)\" style=\"fill: none; stroke: #1f77b4; stroke-width: 1.5; stroke-linecap: square\"/>\n   </g>\n   <g id=\"line2d_67\">\n    <path d=\"M 49.633125 80.129867 \nL 69.163125 93.617318 \nL 88.693125 101.800479 \nL 108.223125 99.878595 \nL 127.753125 100.448307 \n\" clip-path=\"url(#pdce7f5ea59)\" style=\"fill: none; stroke-dasharray: 5.55,2.4; stroke-dashoffset: 0; stroke: #ff7f0e; stroke-width: 1.5\"/>\n   </g>\n   <g id=\"line2d_68\">\n    <path d=\"M 49.633125 39.730635 \nL 69.163125 33.982042 \nL 88.693125 32.787792 \nL 108.223125 32.585377 \nL 127.753125 32.544894 \n\" clip-path=\"url(#pdce7f5ea59)\" style=\"fill: none; stroke-dasharray: 9.6,2.4,1.5,2.4; stroke-dashoffset: 0; stroke: #2ca02c; stroke-width: 1.5\"/>\n   </g>\n   <g id=\"line2d_69\">\n    <path d=\"M 34.954394 13.5 \nL 44.698573 77.771129 \nL 54.442752 94.991104 \nL 64.186931 102.742332 \nL 73.93111 109.168701 \nL 83.675289 114.094804 \nL 93.419468 119.230452 \nL 103.163647 119.068453 \nL 112.907826 125.103096 \nL 122.652006 125.119211 \nL 132.396185 127.460615 \nL 142.140364 130.109577 \n\" clip-path=\"url(#pdce7f5ea59)\" style=\"fill: none; stroke: #1f77b4; stroke-width: 1.5; stroke-linecap: square\"/>\n   </g>\n   <g id=\"line2d_70\">\n    <path d=\"M 49.633125 80.129867 \nL 69.163125 93.617318 \nL 88.693125 101.800479 \nL 108.223125 99.878595 \nL 127.753125 100.448307 \n\" clip-path=\"url(#pdce7f5ea59)\" style=\"fill: none; stroke-dasharray: 5.55,2.4; stroke-dashoffset: 0; stroke: #ff7f0e; stroke-width: 1.5\"/>\n   </g>\n   <g id=\"line2d_71\">\n    <path d=\"M 49.633125 39.730635 \nL 69.163125 33.982042 \nL 88.693125 32.787792 \nL 108.223125 32.585377 \nL 127.753125 32.544894 \n\" clip-path=\"url(#pdce7f5ea59)\" style=\"fill: none; stroke-dasharray: 9.6,2.4,1.5,2.4; stroke-dashoffset: 0; stroke: #2ca02c; stroke-width: 1.5\"/>\n   </g>\n   <g id=\"line2d_72\">\n    <path d=\"M 34.954394 13.5 \nL 44.698573 77.771129 \nL 54.442752 94.991104 \nL 64.186931 102.742332 \nL 73.93111 109.168701 \nL 83.675289 114.094804 \nL 93.419468 119.230452 \nL 103.163647 119.068453 \nL 112.907826 125.103096 \nL 122.652006 125.119211 \nL 132.396185 127.460615 \nL 142.140364 130.109577 \n\" clip-path=\"url(#pdce7f5ea59)\" style=\"fill: none; stroke: #1f77b4; stroke-width: 1.5; stroke-linecap: square\"/>\n   </g>\n   <g id=\"line2d_73\">\n    <path d=\"M 49.633125 80.129867 \nL 69.163125 93.617318 \nL 88.693125 101.800479 \nL 108.223125 99.878595 \nL 127.753125 100.448307 \nL 147.283125 92.750035 \n\" clip-path=\"url(#pdce7f5ea59)\" style=\"fill: none; stroke-dasharray: 5.55,2.4; stroke-dashoffset: 0; stroke: #ff7f0e; stroke-width: 1.5\"/>\n   </g>\n   <g id=\"line2d_74\">\n    <path d=\"M 49.633125 39.730635 \nL 69.163125 33.982042 \nL 88.693125 32.787792 \nL 108.223125 32.585377 \nL 127.753125 32.544894 \n\" clip-path=\"url(#pdce7f5ea59)\" style=\"fill: none; stroke-dasharray: 9.6,2.4,1.5,2.4; stroke-dashoffset: 0; stroke: #2ca02c; stroke-width: 1.5\"/>\n   </g>\n   <g id=\"line2d_75\">\n    <path d=\"M 34.954394 13.5 \nL 44.698573 77.771129 \nL 54.442752 94.991104 \nL 64.186931 102.742332 \nL 73.93111 109.168701 \nL 83.675289 114.094804 \nL 93.419468 119.230452 \nL 103.163647 119.068453 \nL 112.907826 125.103096 \nL 122.652006 125.119211 \nL 132.396185 127.460615 \nL 142.140364 130.109577 \n\" clip-path=\"url(#pdce7f5ea59)\" style=\"fill: none; stroke: #1f77b4; stroke-width: 1.5; stroke-linecap: square\"/>\n   </g>\n   <g id=\"line2d_76\">\n    <path d=\"M 49.633125 80.129867 \nL 69.163125 93.617318 \nL 88.693125 101.800479 \nL 108.223125 99.878595 \nL 127.753125 100.448307 \nL 147.283125 92.750035 \n\" clip-path=\"url(#pdce7f5ea59)\" style=\"fill: none; stroke-dasharray: 5.55,2.4; stroke-dashoffset: 0; stroke: #ff7f0e; stroke-width: 1.5\"/>\n   </g>\n   <g id=\"line2d_77\">\n    <path d=\"M 49.633125 39.730635 \nL 69.163125 33.982042 \nL 88.693125 32.787792 \nL 108.223125 32.585377 \nL 127.753125 32.544894 \nL 147.283125 38.050588 \n\" clip-path=\"url(#pdce7f5ea59)\" style=\"fill: none; stroke-dasharray: 9.6,2.4,1.5,2.4; stroke-dashoffset: 0; stroke: #2ca02c; stroke-width: 1.5\"/>\n   </g>\n   <g id=\"line2d_78\">\n    <path d=\"M 34.954394 13.5 \nL 44.698573 77.771129 \nL 54.442752 94.991104 \nL 64.186931 102.742332 \nL 73.93111 109.168701 \nL 83.675289 114.094804 \nL 93.419468 119.230452 \nL 103.163647 119.068453 \nL 112.907826 125.103096 \nL 122.652006 125.119211 \nL 132.396185 127.460615 \nL 142.140364 130.109577 \nL 151.884543 132.082905 \n\" clip-path=\"url(#pdce7f5ea59)\" style=\"fill: none; stroke: #1f77b4; stroke-width: 1.5; stroke-linecap: square\"/>\n   </g>\n   <g id=\"line2d_79\">\n    <path d=\"M 49.633125 80.129867 \nL 69.163125 93.617318 \nL 88.693125 101.800479 \nL 108.223125 99.878595 \nL 127.753125 100.448307 \nL 147.283125 92.750035 \n\" clip-path=\"url(#pdce7f5ea59)\" style=\"fill: none; stroke-dasharray: 5.55,2.4; stroke-dashoffset: 0; stroke: #ff7f0e; stroke-width: 1.5\"/>\n   </g>\n   <g id=\"line2d_80\">\n    <path d=\"M 49.633125 39.730635 \nL 69.163125 33.982042 \nL 88.693125 32.787792 \nL 108.223125 32.585377 \nL 127.753125 32.544894 \nL 147.283125 38.050588 \n\" clip-path=\"url(#pdce7f5ea59)\" style=\"fill: none; stroke-dasharray: 9.6,2.4,1.5,2.4; stroke-dashoffset: 0; stroke: #2ca02c; stroke-width: 1.5\"/>\n   </g>\n   <g id=\"line2d_81\">\n    <path d=\"M 34.954394 13.5 \nL 44.698573 77.771129 \nL 54.442752 94.991104 \nL 64.186931 102.742332 \nL 73.93111 109.168701 \nL 83.675289 114.094804 \nL 93.419468 119.230452 \nL 103.163647 119.068453 \nL 112.907826 125.103096 \nL 122.652006 125.119211 \nL 132.396185 127.460615 \nL 142.140364 130.109577 \nL 151.884543 132.082905 \nL 161.628722 132.699703 \n\" clip-path=\"url(#pdce7f5ea59)\" style=\"fill: none; stroke: #1f77b4; stroke-width: 1.5; stroke-linecap: square\"/>\n   </g>\n   <g id=\"line2d_82\">\n    <path d=\"M 49.633125 80.129867 \nL 69.163125 93.617318 \nL 88.693125 101.800479 \nL 108.223125 99.878595 \nL 127.753125 100.448307 \nL 147.283125 92.750035 \n\" clip-path=\"url(#pdce7f5ea59)\" style=\"fill: none; stroke-dasharray: 5.55,2.4; stroke-dashoffset: 0; stroke: #ff7f0e; stroke-width: 1.5\"/>\n   </g>\n   <g id=\"line2d_83\">\n    <path d=\"M 49.633125 39.730635 \nL 69.163125 33.982042 \nL 88.693125 32.787792 \nL 108.223125 32.585377 \nL 127.753125 32.544894 \nL 147.283125 38.050588 \n\" clip-path=\"url(#pdce7f5ea59)\" style=\"fill: none; stroke-dasharray: 9.6,2.4,1.5,2.4; stroke-dashoffset: 0; stroke: #2ca02c; stroke-width: 1.5\"/>\n   </g>\n   <g id=\"line2d_84\">\n    <path d=\"M 34.954394 13.5 \nL 44.698573 77.771129 \nL 54.442752 94.991104 \nL 64.186931 102.742332 \nL 73.93111 109.168701 \nL 83.675289 114.094804 \nL 93.419468 119.230452 \nL 103.163647 119.068453 \nL 112.907826 125.103096 \nL 122.652006 125.119211 \nL 132.396185 127.460615 \nL 142.140364 130.109577 \nL 151.884543 132.082905 \nL 161.628722 132.699703 \n\" clip-path=\"url(#pdce7f5ea59)\" style=\"fill: none; stroke: #1f77b4; stroke-width: 1.5; stroke-linecap: square\"/>\n   </g>\n   <g id=\"line2d_85\">\n    <path d=\"M 49.633125 80.129867 \nL 69.163125 93.617318 \nL 88.693125 101.800479 \nL 108.223125 99.878595 \nL 127.753125 100.448307 \nL 147.283125 92.750035 \nL 166.813125 126.572353 \n\" clip-path=\"url(#pdce7f5ea59)\" style=\"fill: none; stroke-dasharray: 5.55,2.4; stroke-dashoffset: 0; stroke: #ff7f0e; stroke-width: 1.5\"/>\n   </g>\n   <g id=\"line2d_86\">\n    <path d=\"M 49.633125 39.730635 \nL 69.163125 33.982042 \nL 88.693125 32.787792 \nL 108.223125 32.585377 \nL 127.753125 32.544894 \nL 147.283125 38.050588 \n\" clip-path=\"url(#pdce7f5ea59)\" style=\"fill: none; stroke-dasharray: 9.6,2.4,1.5,2.4; stroke-dashoffset: 0; stroke: #2ca02c; stroke-width: 1.5\"/>\n   </g>\n   <g id=\"line2d_87\">\n    <path d=\"M 34.954394 13.5 \nL 44.698573 77.771129 \nL 54.442752 94.991104 \nL 64.186931 102.742332 \nL 73.93111 109.168701 \nL 83.675289 114.094804 \nL 93.419468 119.230452 \nL 103.163647 119.068453 \nL 112.907826 125.103096 \nL 122.652006 125.119211 \nL 132.396185 127.460615 \nL 142.140364 130.109577 \nL 151.884543 132.082905 \nL 161.628722 132.699703 \n\" clip-path=\"url(#pdce7f5ea59)\" style=\"fill: none; stroke: #1f77b4; stroke-width: 1.5; stroke-linecap: square\"/>\n   </g>\n   <g id=\"line2d_88\">\n    <path d=\"M 49.633125 80.129867 \nL 69.163125 93.617318 \nL 88.693125 101.800479 \nL 108.223125 99.878595 \nL 127.753125 100.448307 \nL 147.283125 92.750035 \nL 166.813125 126.572353 \n\" clip-path=\"url(#pdce7f5ea59)\" style=\"fill: none; stroke-dasharray: 5.55,2.4; stroke-dashoffset: 0; stroke: #ff7f0e; stroke-width: 1.5\"/>\n   </g>\n   <g id=\"line2d_89\">\n    <path d=\"M 49.633125 39.730635 \nL 69.163125 33.982042 \nL 88.693125 32.787792 \nL 108.223125 32.585377 \nL 127.753125 32.544894 \nL 147.283125 38.050588 \nL 166.813125 23.071861 \n\" clip-path=\"url(#pdce7f5ea59)\" style=\"fill: none; stroke-dasharray: 9.6,2.4,1.5,2.4; stroke-dashoffset: 0; stroke: #2ca02c; stroke-width: 1.5\"/>\n   </g>\n   <g id=\"line2d_90\">\n    <path d=\"M 34.954394 13.5 \nL 44.698573 77.771129 \nL 54.442752 94.991104 \nL 64.186931 102.742332 \nL 73.93111 109.168701 \nL 83.675289 114.094804 \nL 93.419468 119.230452 \nL 103.163647 119.068453 \nL 112.907826 125.103096 \nL 122.652006 125.119211 \nL 132.396185 127.460615 \nL 142.140364 130.109577 \nL 151.884543 132.082905 \nL 161.628722 132.699703 \nL 171.372901 134.312976 \n\" clip-path=\"url(#pdce7f5ea59)\" style=\"fill: none; stroke: #1f77b4; stroke-width: 1.5; stroke-linecap: square\"/>\n   </g>\n   <g id=\"line2d_91\">\n    <path d=\"M 49.633125 80.129867 \nL 69.163125 93.617318 \nL 88.693125 101.800479 \nL 108.223125 99.878595 \nL 127.753125 100.448307 \nL 147.283125 92.750035 \nL 166.813125 126.572353 \n\" clip-path=\"url(#pdce7f5ea59)\" style=\"fill: none; stroke-dasharray: 5.55,2.4; stroke-dashoffset: 0; stroke: #ff7f0e; stroke-width: 1.5\"/>\n   </g>\n   <g id=\"line2d_92\">\n    <path d=\"M 49.633125 39.730635 \nL 69.163125 33.982042 \nL 88.693125 32.787792 \nL 108.223125 32.585377 \nL 127.753125 32.544894 \nL 147.283125 38.050588 \nL 166.813125 23.071861 \n\" clip-path=\"url(#pdce7f5ea59)\" style=\"fill: none; stroke-dasharray: 9.6,2.4,1.5,2.4; stroke-dashoffset: 0; stroke: #2ca02c; stroke-width: 1.5\"/>\n   </g>\n   <g id=\"line2d_93\">\n    <path d=\"M 34.954394 13.5 \nL 44.698573 77.771129 \nL 54.442752 94.991104 \nL 64.186931 102.742332 \nL 73.93111 109.168701 \nL 83.675289 114.094804 \nL 93.419468 119.230452 \nL 103.163647 119.068453 \nL 112.907826 125.103096 \nL 122.652006 125.119211 \nL 132.396185 127.460615 \nL 142.140364 130.109577 \nL 151.884543 132.082905 \nL 161.628722 132.699703 \nL 171.372901 134.312976 \nL 181.11708 135.722778 \n\" clip-path=\"url(#pdce7f5ea59)\" style=\"fill: none; stroke: #1f77b4; stroke-width: 1.5; stroke-linecap: square\"/>\n   </g>\n   <g id=\"line2d_94\">\n    <path d=\"M 49.633125 80.129867 \nL 69.163125 93.617318 \nL 88.693125 101.800479 \nL 108.223125 99.878595 \nL 127.753125 100.448307 \nL 147.283125 92.750035 \nL 166.813125 126.572353 \n\" clip-path=\"url(#pdce7f5ea59)\" style=\"fill: none; stroke-dasharray: 5.55,2.4; stroke-dashoffset: 0; stroke: #ff7f0e; stroke-width: 1.5\"/>\n   </g>\n   <g id=\"line2d_95\">\n    <path d=\"M 49.633125 39.730635 \nL 69.163125 33.982042 \nL 88.693125 32.787792 \nL 108.223125 32.585377 \nL 127.753125 32.544894 \nL 147.283125 38.050588 \nL 166.813125 23.071861 \n\" clip-path=\"url(#pdce7f5ea59)\" style=\"fill: none; stroke-dasharray: 9.6,2.4,1.5,2.4; stroke-dashoffset: 0; stroke: #2ca02c; stroke-width: 1.5\"/>\n   </g>\n   <g id=\"line2d_96\">\n    <path d=\"M 34.954394 13.5 \nL 44.698573 77.771129 \nL 54.442752 94.991104 \nL 64.186931 102.742332 \nL 73.93111 109.168701 \nL 83.675289 114.094804 \nL 93.419468 119.230452 \nL 103.163647 119.068453 \nL 112.907826 125.103096 \nL 122.652006 125.119211 \nL 132.396185 127.460615 \nL 142.140364 130.109577 \nL 151.884543 132.082905 \nL 161.628722 132.699703 \nL 171.372901 134.312976 \nL 181.11708 135.722778 \n\" clip-path=\"url(#pdce7f5ea59)\" style=\"fill: none; stroke: #1f77b4; stroke-width: 1.5; stroke-linecap: square\"/>\n   </g>\n   <g id=\"line2d_97\">\n    <path d=\"M 49.633125 80.129867 \nL 69.163125 93.617318 \nL 88.693125 101.800479 \nL 108.223125 99.878595 \nL 127.753125 100.448307 \nL 147.283125 92.750035 \nL 166.813125 126.572353 \nL 186.343125 105.895477 \n\" clip-path=\"url(#pdce7f5ea59)\" style=\"fill: none; stroke-dasharray: 5.55,2.4; stroke-dashoffset: 0; stroke: #ff7f0e; stroke-width: 1.5\"/>\n   </g>\n   <g id=\"line2d_98\">\n    <path d=\"M 49.633125 39.730635 \nL 69.163125 33.982042 \nL 88.693125 32.787792 \nL 108.223125 32.585377 \nL 127.753125 32.544894 \nL 147.283125 38.050588 \nL 166.813125 23.071861 \n\" clip-path=\"url(#pdce7f5ea59)\" style=\"fill: none; stroke-dasharray: 9.6,2.4,1.5,2.4; stroke-dashoffset: 0; stroke: #2ca02c; stroke-width: 1.5\"/>\n   </g>\n   <g id=\"line2d_99\">\n    <path d=\"M 34.954394 13.5 \nL 44.698573 77.771129 \nL 54.442752 94.991104 \nL 64.186931 102.742332 \nL 73.93111 109.168701 \nL 83.675289 114.094804 \nL 93.419468 119.230452 \nL 103.163647 119.068453 \nL 112.907826 125.103096 \nL 122.652006 125.119211 \nL 132.396185 127.460615 \nL 142.140364 130.109577 \nL 151.884543 132.082905 \nL 161.628722 132.699703 \nL 171.372901 134.312976 \nL 181.11708 135.722778 \n\" clip-path=\"url(#pdce7f5ea59)\" style=\"fill: none; stroke: #1f77b4; stroke-width: 1.5; stroke-linecap: square\"/>\n   </g>\n   <g id=\"line2d_100\">\n    <path d=\"M 49.633125 80.129867 \nL 69.163125 93.617318 \nL 88.693125 101.800479 \nL 108.223125 99.878595 \nL 127.753125 100.448307 \nL 147.283125 92.750035 \nL 166.813125 126.572353 \nL 186.343125 105.895477 \n\" clip-path=\"url(#pdce7f5ea59)\" style=\"fill: none; stroke-dasharray: 5.55,2.4; stroke-dashoffset: 0; stroke: #ff7f0e; stroke-width: 1.5\"/>\n   </g>\n   <g id=\"line2d_101\">\n    <path d=\"M 49.633125 39.730635 \nL 69.163125 33.982042 \nL 88.693125 32.787792 \nL 108.223125 32.585377 \nL 127.753125 32.544894 \nL 147.283125 38.050588 \nL 166.813125 23.071861 \nL 186.343125 31.107746 \n\" clip-path=\"url(#pdce7f5ea59)\" style=\"fill: none; stroke-dasharray: 9.6,2.4,1.5,2.4; stroke-dashoffset: 0; stroke: #2ca02c; stroke-width: 1.5\"/>\n   </g>\n   <g id=\"line2d_102\">\n    <path d=\"M 34.954394 13.5 \nL 44.698573 77.771129 \nL 54.442752 94.991104 \nL 64.186931 102.742332 \nL 73.93111 109.168701 \nL 83.675289 114.094804 \nL 93.419468 119.230452 \nL 103.163647 119.068453 \nL 112.907826 125.103096 \nL 122.652006 125.119211 \nL 132.396185 127.460615 \nL 142.140364 130.109577 \nL 151.884543 132.082905 \nL 161.628722 132.699703 \nL 171.372901 134.312976 \nL 181.11708 135.722778 \nL 190.861259 138.322626 \n\" clip-path=\"url(#pdce7f5ea59)\" style=\"fill: none; stroke: #1f77b4; stroke-width: 1.5; stroke-linecap: square\"/>\n   </g>\n   <g id=\"line2d_103\">\n    <path d=\"M 49.633125 80.129867 \nL 69.163125 93.617318 \nL 88.693125 101.800479 \nL 108.223125 99.878595 \nL 127.753125 100.448307 \nL 147.283125 92.750035 \nL 166.813125 126.572353 \nL 186.343125 105.895477 \n\" clip-path=\"url(#pdce7f5ea59)\" style=\"fill: none; stroke-dasharray: 5.55,2.4; stroke-dashoffset: 0; stroke: #ff7f0e; stroke-width: 1.5\"/>\n   </g>\n   <g id=\"line2d_104\">\n    <path d=\"M 49.633125 39.730635 \nL 69.163125 33.982042 \nL 88.693125 32.787792 \nL 108.223125 32.585377 \nL 127.753125 32.544894 \nL 147.283125 38.050588 \nL 166.813125 23.071861 \nL 186.343125 31.107746 \n\" clip-path=\"url(#pdce7f5ea59)\" style=\"fill: none; stroke-dasharray: 9.6,2.4,1.5,2.4; stroke-dashoffset: 0; stroke: #2ca02c; stroke-width: 1.5\"/>\n   </g>\n   <g id=\"line2d_105\">\n    <path d=\"M 34.954394 13.5 \nL 44.698573 77.771129 \nL 54.442752 94.991104 \nL 64.186931 102.742332 \nL 73.93111 109.168701 \nL 83.675289 114.094804 \nL 93.419468 119.230452 \nL 103.163647 119.068453 \nL 112.907826 125.103096 \nL 122.652006 125.119211 \nL 132.396185 127.460615 \nL 142.140364 130.109577 \nL 151.884543 132.082905 \nL 161.628722 132.699703 \nL 171.372901 134.312976 \nL 181.11708 135.722778 \nL 190.861259 138.322626 \nL 200.605438 136.373182 \n\" clip-path=\"url(#pdce7f5ea59)\" style=\"fill: none; stroke: #1f77b4; stroke-width: 1.5; stroke-linecap: square\"/>\n   </g>\n   <g id=\"line2d_106\">\n    <path d=\"M 49.633125 80.129867 \nL 69.163125 93.617318 \nL 88.693125 101.800479 \nL 108.223125 99.878595 \nL 127.753125 100.448307 \nL 147.283125 92.750035 \nL 166.813125 126.572353 \nL 186.343125 105.895477 \n\" clip-path=\"url(#pdce7f5ea59)\" style=\"fill: none; stroke-dasharray: 5.55,2.4; stroke-dashoffset: 0; stroke: #ff7f0e; stroke-width: 1.5\"/>\n   </g>\n   <g id=\"line2d_107\">\n    <path d=\"M 49.633125 39.730635 \nL 69.163125 33.982042 \nL 88.693125 32.787792 \nL 108.223125 32.585377 \nL 127.753125 32.544894 \nL 147.283125 38.050588 \nL 166.813125 23.071861 \nL 186.343125 31.107746 \n\" clip-path=\"url(#pdce7f5ea59)\" style=\"fill: none; stroke-dasharray: 9.6,2.4,1.5,2.4; stroke-dashoffset: 0; stroke: #2ca02c; stroke-width: 1.5\"/>\n   </g>\n   <g id=\"line2d_108\">\n    <path d=\"M 34.954394 13.5 \nL 44.698573 77.771129 \nL 54.442752 94.991104 \nL 64.186931 102.742332 \nL 73.93111 109.168701 \nL 83.675289 114.094804 \nL 93.419468 119.230452 \nL 103.163647 119.068453 \nL 112.907826 125.103096 \nL 122.652006 125.119211 \nL 132.396185 127.460615 \nL 142.140364 130.109577 \nL 151.884543 132.082905 \nL 161.628722 132.699703 \nL 171.372901 134.312976 \nL 181.11708 135.722778 \nL 190.861259 138.322626 \nL 200.605438 136.373182 \n\" clip-path=\"url(#pdce7f5ea59)\" style=\"fill: none; stroke: #1f77b4; stroke-width: 1.5; stroke-linecap: square\"/>\n   </g>\n   <g id=\"line2d_109\">\n    <path d=\"M 49.633125 80.129867 \nL 69.163125 93.617318 \nL 88.693125 101.800479 \nL 108.223125 99.878595 \nL 127.753125 100.448307 \nL 147.283125 92.750035 \nL 166.813125 126.572353 \nL 186.343125 105.895477 \nL 205.873125 120.459343 \n\" clip-path=\"url(#pdce7f5ea59)\" style=\"fill: none; stroke-dasharray: 5.55,2.4; stroke-dashoffset: 0; stroke: #ff7f0e; stroke-width: 1.5\"/>\n   </g>\n   <g id=\"line2d_110\">\n    <path d=\"M 49.633125 39.730635 \nL 69.163125 33.982042 \nL 88.693125 32.787792 \nL 108.223125 32.585377 \nL 127.753125 32.544894 \nL 147.283125 38.050588 \nL 166.813125 23.071861 \nL 186.343125 31.107746 \n\" clip-path=\"url(#pdce7f5ea59)\" style=\"fill: none; stroke-dasharray: 9.6,2.4,1.5,2.4; stroke-dashoffset: 0; stroke: #2ca02c; stroke-width: 1.5\"/>\n   </g>\n   <g id=\"line2d_111\">\n    <path d=\"M 34.954394 13.5 \nL 44.698573 77.771129 \nL 54.442752 94.991104 \nL 64.186931 102.742332 \nL 73.93111 109.168701 \nL 83.675289 114.094804 \nL 93.419468 119.230452 \nL 103.163647 119.068453 \nL 112.907826 125.103096 \nL 122.652006 125.119211 \nL 132.396185 127.460615 \nL 142.140364 130.109577 \nL 151.884543 132.082905 \nL 161.628722 132.699703 \nL 171.372901 134.312976 \nL 181.11708 135.722778 \nL 190.861259 138.322626 \nL 200.605438 136.373182 \n\" clip-path=\"url(#pdce7f5ea59)\" style=\"fill: none; stroke: #1f77b4; stroke-width: 1.5; stroke-linecap: square\"/>\n   </g>\n   <g id=\"line2d_112\">\n    <path d=\"M 49.633125 80.129867 \nL 69.163125 93.617318 \nL 88.693125 101.800479 \nL 108.223125 99.878595 \nL 127.753125 100.448307 \nL 147.283125 92.750035 \nL 166.813125 126.572353 \nL 186.343125 105.895477 \nL 205.873125 120.459343 \n\" clip-path=\"url(#pdce7f5ea59)\" style=\"fill: none; stroke-dasharray: 5.55,2.4; stroke-dashoffset: 0; stroke: #ff7f0e; stroke-width: 1.5\"/>\n   </g>\n   <g id=\"line2d_113\">\n    <path d=\"M 49.633125 39.730635 \nL 69.163125 33.982042 \nL 88.693125 32.787792 \nL 108.223125 32.585377 \nL 127.753125 32.544894 \nL 147.283125 38.050588 \nL 166.813125 23.071861 \nL 186.343125 31.107746 \nL 205.873125 25.622293 \n\" clip-path=\"url(#pdce7f5ea59)\" style=\"fill: none; stroke-dasharray: 9.6,2.4,1.5,2.4; stroke-dashoffset: 0; stroke: #2ca02c; stroke-width: 1.5\"/>\n   </g>\n   <g id=\"line2d_114\">\n    <path d=\"M 34.954394 13.5 \nL 44.698573 77.771129 \nL 54.442752 94.991104 \nL 64.186931 102.742332 \nL 73.93111 109.168701 \nL 83.675289 114.094804 \nL 93.419468 119.230452 \nL 103.163647 119.068453 \nL 112.907826 125.103096 \nL 122.652006 125.119211 \nL 132.396185 127.460615 \nL 142.140364 130.109577 \nL 151.884543 132.082905 \nL 161.628722 132.699703 \nL 171.372901 134.312976 \nL 181.11708 135.722778 \nL 190.861259 138.322626 \nL 200.605438 136.373182 \nL 210.349618 138.918415 \n\" clip-path=\"url(#pdce7f5ea59)\" style=\"fill: none; stroke: #1f77b4; stroke-width: 1.5; stroke-linecap: square\"/>\n   </g>\n   <g id=\"line2d_115\">\n    <path d=\"M 49.633125 80.129867 \nL 69.163125 93.617318 \nL 88.693125 101.800479 \nL 108.223125 99.878595 \nL 127.753125 100.448307 \nL 147.283125 92.750035 \nL 166.813125 126.572353 \nL 186.343125 105.895477 \nL 205.873125 120.459343 \n\" clip-path=\"url(#pdce7f5ea59)\" style=\"fill: none; stroke-dasharray: 5.55,2.4; stroke-dashoffset: 0; stroke: #ff7f0e; stroke-width: 1.5\"/>\n   </g>\n   <g id=\"line2d_116\">\n    <path d=\"M 49.633125 39.730635 \nL 69.163125 33.982042 \nL 88.693125 32.787792 \nL 108.223125 32.585377 \nL 127.753125 32.544894 \nL 147.283125 38.050588 \nL 166.813125 23.071861 \nL 186.343125 31.107746 \nL 205.873125 25.622293 \n\" clip-path=\"url(#pdce7f5ea59)\" style=\"fill: none; stroke-dasharray: 9.6,2.4,1.5,2.4; stroke-dashoffset: 0; stroke: #2ca02c; stroke-width: 1.5\"/>\n   </g>\n   <g id=\"line2d_117\">\n    <path d=\"M 34.954394 13.5 \nL 44.698573 77.771129 \nL 54.442752 94.991104 \nL 64.186931 102.742332 \nL 73.93111 109.168701 \nL 83.675289 114.094804 \nL 93.419468 119.230452 \nL 103.163647 119.068453 \nL 112.907826 125.103096 \nL 122.652006 125.119211 \nL 132.396185 127.460615 \nL 142.140364 130.109577 \nL 151.884543 132.082905 \nL 161.628722 132.699703 \nL 171.372901 134.312976 \nL 181.11708 135.722778 \nL 190.861259 138.322626 \nL 200.605438 136.373182 \nL 210.349618 138.918415 \nL 220.093797 139.5 \n\" clip-path=\"url(#pdce7f5ea59)\" style=\"fill: none; stroke: #1f77b4; stroke-width: 1.5; stroke-linecap: square\"/>\n   </g>\n   <g id=\"line2d_118\">\n    <path d=\"M 49.633125 80.129867 \nL 69.163125 93.617318 \nL 88.693125 101.800479 \nL 108.223125 99.878595 \nL 127.753125 100.448307 \nL 147.283125 92.750035 \nL 166.813125 126.572353 \nL 186.343125 105.895477 \nL 205.873125 120.459343 \n\" clip-path=\"url(#pdce7f5ea59)\" style=\"fill: none; stroke-dasharray: 5.55,2.4; stroke-dashoffset: 0; stroke: #ff7f0e; stroke-width: 1.5\"/>\n   </g>\n   <g id=\"line2d_119\">\n    <path d=\"M 49.633125 39.730635 \nL 69.163125 33.982042 \nL 88.693125 32.787792 \nL 108.223125 32.585377 \nL 127.753125 32.544894 \nL 147.283125 38.050588 \nL 166.813125 23.071861 \nL 186.343125 31.107746 \nL 205.873125 25.622293 \n\" clip-path=\"url(#pdce7f5ea59)\" style=\"fill: none; stroke-dasharray: 9.6,2.4,1.5,2.4; stroke-dashoffset: 0; stroke: #2ca02c; stroke-width: 1.5\"/>\n   </g>\n   <g id=\"line2d_120\">\n    <path d=\"M 34.954394 13.5 \nL 44.698573 77.771129 \nL 54.442752 94.991104 \nL 64.186931 102.742332 \nL 73.93111 109.168701 \nL 83.675289 114.094804 \nL 93.419468 119.230452 \nL 103.163647 119.068453 \nL 112.907826 125.103096 \nL 122.652006 125.119211 \nL 132.396185 127.460615 \nL 142.140364 130.109577 \nL 151.884543 132.082905 \nL 161.628722 132.699703 \nL 171.372901 134.312976 \nL 181.11708 135.722778 \nL 190.861259 138.322626 \nL 200.605438 136.373182 \nL 210.349618 138.918415 \nL 220.093797 139.5 \n\" clip-path=\"url(#pdce7f5ea59)\" style=\"fill: none; stroke: #1f77b4; stroke-width: 1.5; stroke-linecap: square\"/>\n   </g>\n   <g id=\"line2d_121\">\n    <path d=\"M 49.633125 80.129867 \nL 69.163125 93.617318 \nL 88.693125 101.800479 \nL 108.223125 99.878595 \nL 127.753125 100.448307 \nL 147.283125 92.750035 \nL 166.813125 126.572353 \nL 186.343125 105.895477 \nL 205.873125 120.459343 \nL 225.403125 128.936259 \n\" clip-path=\"url(#pdce7f5ea59)\" style=\"fill: none; stroke-dasharray: 5.55,2.4; stroke-dashoffset: 0; stroke: #ff7f0e; stroke-width: 1.5\"/>\n   </g>\n   <g id=\"line2d_122\">\n    <path d=\"M 49.633125 39.730635 \nL 69.163125 33.982042 \nL 88.693125 32.787792 \nL 108.223125 32.585377 \nL 127.753125 32.544894 \nL 147.283125 38.050588 \nL 166.813125 23.071861 \nL 186.343125 31.107746 \nL 205.873125 25.622293 \n\" clip-path=\"url(#pdce7f5ea59)\" style=\"fill: none; stroke-dasharray: 9.6,2.4,1.5,2.4; stroke-dashoffset: 0; stroke: #2ca02c; stroke-width: 1.5\"/>\n   </g>\n   <g id=\"line2d_123\">\n    <path d=\"M 34.954394 13.5 \nL 44.698573 77.771129 \nL 54.442752 94.991104 \nL 64.186931 102.742332 \nL 73.93111 109.168701 \nL 83.675289 114.094804 \nL 93.419468 119.230452 \nL 103.163647 119.068453 \nL 112.907826 125.103096 \nL 122.652006 125.119211 \nL 132.396185 127.460615 \nL 142.140364 130.109577 \nL 151.884543 132.082905 \nL 161.628722 132.699703 \nL 171.372901 134.312976 \nL 181.11708 135.722778 \nL 190.861259 138.322626 \nL 200.605438 136.373182 \nL 210.349618 138.918415 \nL 220.093797 139.5 \n\" clip-path=\"url(#pdce7f5ea59)\" style=\"fill: none; stroke: #1f77b4; stroke-width: 1.5; stroke-linecap: square\"/>\n   </g>\n   <g id=\"line2d_124\">\n    <path d=\"M 49.633125 80.129867 \nL 69.163125 93.617318 \nL 88.693125 101.800479 \nL 108.223125 99.878595 \nL 127.753125 100.448307 \nL 147.283125 92.750035 \nL 166.813125 126.572353 \nL 186.343125 105.895477 \nL 205.873125 120.459343 \nL 225.403125 128.936259 \n\" clip-path=\"url(#pdce7f5ea59)\" style=\"fill: none; stroke-dasharray: 5.55,2.4; stroke-dashoffset: 0; stroke: #ff7f0e; stroke-width: 1.5\"/>\n   </g>\n   <g id=\"line2d_125\">\n    <path d=\"M 49.633125 39.730635 \nL 69.163125 33.982042 \nL 88.693125 32.787792 \nL 108.223125 32.585377 \nL 127.753125 32.544894 \nL 147.283125 38.050588 \nL 166.813125 23.071861 \nL 186.343125 31.107746 \nL 205.873125 25.622293 \nL 225.403125 22.930171 \n\" clip-path=\"url(#pdce7f5ea59)\" style=\"fill: none; stroke-dasharray: 9.6,2.4,1.5,2.4; stroke-dashoffset: 0; stroke: #2ca02c; stroke-width: 1.5\"/>\n   </g>\n   <g id=\"patch_3\">\n    <path d=\"M 30.103125 145.8 \nL 30.103125 7.2 \n\" style=\"fill: none; stroke: #000000; stroke-width: 0.8; stroke-linejoin: miter; stroke-linecap: square\"/>\n   </g>\n   <g id=\"patch_4\">\n    <path d=\"M 225.403125 145.8 \nL 225.403125 7.2 \n\" style=\"fill: none; stroke: #000000; stroke-width: 0.8; stroke-linejoin: miter; stroke-linecap: square\"/>\n   </g>\n   <g id=\"patch_5\">\n    <path d=\"M 30.103125 145.8 \nL 225.403125 145.8 \n\" style=\"fill: none; stroke: #000000; stroke-width: 0.8; stroke-linejoin: miter; stroke-linecap: square\"/>\n   </g>\n   <g id=\"patch_6\">\n    <path d=\"M 30.103125 7.2 \nL 225.403125 7.2 \n\" style=\"fill: none; stroke: #000000; stroke-width: 0.8; stroke-linejoin: miter; stroke-linecap: square\"/>\n   </g>\n   <g id=\"legend_1\">\n    <g id=\"patch_7\">\n     <path d=\"M 138.8125 100.434375 \nL 218.403125 100.434375 \nQ 220.403125 100.434375 220.403125 98.434375 \nL 220.403125 54.565625 \nQ 220.403125 52.565625 218.403125 52.565625 \nL 138.8125 52.565625 \nQ 136.8125 52.565625 136.8125 54.565625 \nL 136.8125 98.434375 \nQ 136.8125 100.434375 138.8125 100.434375 \nz\n\" style=\"fill: #ffffff; opacity: 0.8; stroke: #cccccc; stroke-linejoin: miter\"/>\n    </g>\n    <g id=\"line2d_126\">\n     <path d=\"M 140.8125 60.664063 \nL 150.8125 60.664063 \nL 160.8125 60.664063 \n\" style=\"fill: none; stroke: #1f77b4; stroke-width: 1.5; stroke-linecap: square\"/>\n    </g>\n    <g id=\"text_11\">\n     <!-- train_loss -->\n     <g transform=\"translate(168.8125 64.164063) scale(0.1 -0.1)\">\n      <defs>\n       <path id=\"DejaVuSans-74\" d=\"M 1172 4494 \nL 1172 3500 \nL 2356 3500 \nL 2356 3053 \nL 1172 3053 \nL 1172 1153 \nQ 1172 725 1289 603 \nQ 1406 481 1766 481 \nL 2356 481 \nL 2356 0 \nL 1766 0 \nQ 1100 0 847 248 \nQ 594 497 594 1153 \nL 594 3053 \nL 172 3053 \nL 172 3500 \nL 594 3500 \nL 594 4494 \nL 1172 4494 \nz\n\" transform=\"scale(0.015625)\"/>\n       <path id=\"DejaVuSans-72\" d=\"M 2631 2963 \nQ 2534 3019 2420 3045 \nQ 2306 3072 2169 3072 \nQ 1681 3072 1420 2755 \nQ 1159 2438 1159 1844 \nL 1159 0 \nL 581 0 \nL 581 3500 \nL 1159 3500 \nL 1159 2956 \nQ 1341 3275 1631 3429 \nQ 1922 3584 2338 3584 \nQ 2397 3584 2469 3576 \nQ 2541 3569 2628 3553 \nL 2631 2963 \nz\n\" transform=\"scale(0.015625)\"/>\n       <path id=\"DejaVuSans-61\" d=\"M 2194 1759 \nQ 1497 1759 1228 1600 \nQ 959 1441 959 1056 \nQ 959 750 1161 570 \nQ 1363 391 1709 391 \nQ 2188 391 2477 730 \nQ 2766 1069 2766 1631 \nL 2766 1759 \nL 2194 1759 \nz\nM 3341 1997 \nL 3341 0 \nL 2766 0 \nL 2766 531 \nQ 2569 213 2275 61 \nQ 1981 -91 1556 -91 \nQ 1019 -91 701 211 \nQ 384 513 384 1019 \nQ 384 1609 779 1909 \nQ 1175 2209 1959 2209 \nL 2766 2209 \nL 2766 2266 \nQ 2766 2663 2505 2880 \nQ 2244 3097 1772 3097 \nQ 1472 3097 1187 3025 \nQ 903 2953 641 2809 \nL 641 3341 \nQ 956 3463 1253 3523 \nQ 1550 3584 1831 3584 \nQ 2591 3584 2966 3190 \nQ 3341 2797 3341 1997 \nz\n\" transform=\"scale(0.015625)\"/>\n       <path id=\"DejaVuSans-69\" d=\"M 603 3500 \nL 1178 3500 \nL 1178 0 \nL 603 0 \nL 603 3500 \nz\nM 603 4863 \nL 1178 4863 \nL 1178 4134 \nL 603 4134 \nL 603 4863 \nz\n\" transform=\"scale(0.015625)\"/>\n       <path id=\"DejaVuSans-6e\" d=\"M 3513 2113 \nL 3513 0 \nL 2938 0 \nL 2938 2094 \nQ 2938 2591 2744 2837 \nQ 2550 3084 2163 3084 \nQ 1697 3084 1428 2787 \nQ 1159 2491 1159 1978 \nL 1159 0 \nL 581 0 \nL 581 3500 \nL 1159 3500 \nL 1159 2956 \nQ 1366 3272 1645 3428 \nQ 1925 3584 2291 3584 \nQ 2894 3584 3203 3211 \nQ 3513 2838 3513 2113 \nz\n\" transform=\"scale(0.015625)\"/>\n       <path id=\"DejaVuSans-5f\" d=\"M 3263 -1063 \nL 3263 -1509 \nL -63 -1509 \nL -63 -1063 \nL 3263 -1063 \nz\n\" transform=\"scale(0.015625)\"/>\n       <path id=\"DejaVuSans-6c\" d=\"M 603 4863 \nL 1178 4863 \nL 1178 0 \nL 603 0 \nL 603 4863 \nz\n\" transform=\"scale(0.015625)\"/>\n       <path id=\"DejaVuSans-73\" d=\"M 2834 3397 \nL 2834 2853 \nQ 2591 2978 2328 3040 \nQ 2066 3103 1784 3103 \nQ 1356 3103 1142 2972 \nQ 928 2841 928 2578 \nQ 928 2378 1081 2264 \nQ 1234 2150 1697 2047 \nL 1894 2003 \nQ 2506 1872 2764 1633 \nQ 3022 1394 3022 966 \nQ 3022 478 2636 193 \nQ 2250 -91 1575 -91 \nQ 1294 -91 989 -36 \nQ 684 19 347 128 \nL 347 722 \nQ 666 556 975 473 \nQ 1284 391 1588 391 \nQ 1994 391 2212 530 \nQ 2431 669 2431 922 \nQ 2431 1156 2273 1281 \nQ 2116 1406 1581 1522 \nL 1381 1569 \nQ 847 1681 609 1914 \nQ 372 2147 372 2553 \nQ 372 3047 722 3315 \nQ 1072 3584 1716 3584 \nQ 2034 3584 2315 3537 \nQ 2597 3491 2834 3397 \nz\n\" transform=\"scale(0.015625)\"/>\n      </defs>\n      <use xlink:href=\"#DejaVuSans-74\"/>\n      <use xlink:href=\"#DejaVuSans-72\" x=\"39.208984\"/>\n      <use xlink:href=\"#DejaVuSans-61\" x=\"80.322266\"/>\n      <use xlink:href=\"#DejaVuSans-69\" x=\"141.601562\"/>\n      <use xlink:href=\"#DejaVuSans-6e\" x=\"169.384766\"/>\n      <use xlink:href=\"#DejaVuSans-5f\" x=\"232.763672\"/>\n      <use xlink:href=\"#DejaVuSans-6c\" x=\"282.763672\"/>\n      <use xlink:href=\"#DejaVuSans-6f\" x=\"310.546875\"/>\n      <use xlink:href=\"#DejaVuSans-73\" x=\"371.728516\"/>\n      <use xlink:href=\"#DejaVuSans-73\" x=\"423.828125\"/>\n     </g>\n    </g>\n    <g id=\"line2d_127\">\n     <path d=\"M 140.8125 75.620313 \nL 150.8125 75.620313 \nL 160.8125 75.620313 \n\" style=\"fill: none; stroke-dasharray: 5.55,2.4; stroke-dashoffset: 0; stroke: #ff7f0e; stroke-width: 1.5\"/>\n    </g>\n    <g id=\"text_12\">\n     <!-- val_loss -->\n     <g transform=\"translate(168.8125 79.120313) scale(0.1 -0.1)\">\n      <defs>\n       <path id=\"DejaVuSans-76\" d=\"M 191 3500 \nL 800 3500 \nL 1894 563 \nL 2988 3500 \nL 3597 3500 \nL 2284 0 \nL 1503 0 \nL 191 3500 \nz\n\" transform=\"scale(0.015625)\"/>\n      </defs>\n      <use xlink:href=\"#DejaVuSans-76\"/>\n      <use xlink:href=\"#DejaVuSans-61\" x=\"59.179688\"/>\n      <use xlink:href=\"#DejaVuSans-6c\" x=\"120.458984\"/>\n      <use xlink:href=\"#DejaVuSans-5f\" x=\"148.242188\"/>\n      <use xlink:href=\"#DejaVuSans-6c\" x=\"198.242188\"/>\n      <use xlink:href=\"#DejaVuSans-6f\" x=\"226.025391\"/>\n      <use xlink:href=\"#DejaVuSans-73\" x=\"287.207031\"/>\n      <use xlink:href=\"#DejaVuSans-73\" x=\"339.306641\"/>\n     </g>\n    </g>\n    <g id=\"line2d_128\">\n     <path d=\"M 140.8125 90.576563 \nL 150.8125 90.576563 \nL 160.8125 90.576563 \n\" style=\"fill: none; stroke-dasharray: 9.6,2.4,1.5,2.4; stroke-dashoffset: 0; stroke: #2ca02c; stroke-width: 1.5\"/>\n    </g>\n    <g id=\"text_13\">\n     <!-- val_acc -->\n     <g transform=\"translate(168.8125 94.076563) scale(0.1 -0.1)\">\n      <use xlink:href=\"#DejaVuSans-76\"/>\n      <use xlink:href=\"#DejaVuSans-61\" x=\"59.179688\"/>\n      <use xlink:href=\"#DejaVuSans-6c\" x=\"120.458984\"/>\n      <use xlink:href=\"#DejaVuSans-5f\" x=\"148.242188\"/>\n      <use xlink:href=\"#DejaVuSans-61\" x=\"198.242188\"/>\n      <use xlink:href=\"#DejaVuSans-63\" x=\"259.521484\"/>\n      <use xlink:href=\"#DejaVuSans-63\" x=\"314.501953\"/>\n     </g>\n    </g>\n   </g>\n  </g>\n </g>\n <defs>\n  <clipPath id=\"pdce7f5ea59\">\n   <rect x=\"30.103125\" y=\"7.2\" width=\"195.3\" height=\"138.6\"/>\n  </clipPath>\n </defs>\n</svg>\n"
          },
          "metadata": {}
        }
      ]
    },
    {
      "cell_type": "markdown",
      "source": [
        "## 8.5.7. Exercises"
      ],
      "metadata": {
        "id": "2jjGfUxeQ7x8"
      }
    },
    {
      "cell_type": "markdown",
      "source": [
        "**1.** Should we remove the bias parameter from the fully connected layer or the convolutional layer before the batch normalization? Why?\n",
        "\n",
        "**ANSWER**\n",
        "\n",
        "Yes, we should remove the bias parameter from the fully connected layer or the convolutional layer before applying batch normalization. The reason is that batch normalization itself adds a learned shift (the beta parameter) and a scale (the gamma parameter) to the normalized output. If a bias is also included in the layer, it can lead to redundancy, potentially complicating the optimization and learning process. Removing the bias helps streamline the model and allows batch normalization to control the mean and variance effectively."
      ],
      "metadata": {
        "id": "r77Q6YhrQ_ex"
      }
    },
    {
      "cell_type": "markdown",
      "source": [
        "**2.** Compare the learning rates for LeNet with and without batch normalization.\n",
        "\n",
        "**a.** Plot the increase in validation accuracy.\n",
        "\n",
        "**ANSWER**\n",
        "\n",
        "To compare the learning rates for LeNet with and without batch normalization, you would typically implement both versions and track validation accuracy over several epochs.\n"
      ],
      "metadata": {
        "id": "XKhq2inlEZSH"
      }
    },
    {
      "cell_type": "code",
      "source": [
        "import matplotlib.pyplot as plt\n",
        "\n",
        "# Assuming you have a function `train_and_validate` that returns accuracy history\n",
        "def train_and_validate(model, data, lr, num_epochs):\n",
        "    # Initialize trainer and train the model\n",
        "    trainer = d2l.Trainer(max_epochs=num_epochs, num_gpus=1)\n",
        "    history = []\n",
        "    for epoch in range(num_epochs):\n",
        "        trainer.fit(model, data)\n",
        "        # Record validation accuracy for this epoch\n",
        "        accuracy = evaluate_model(model, data)  # Use the earlier evaluate function\n",
        "        history.append(accuracy)\n",
        "    return history\n",
        "\n",
        "# Parameters\n",
        "num_epochs = 10\n",
        "data = d2l.FashionMNIST(batch_size=128)\n",
        "\n",
        "# Models\n",
        "model_bn = BNLeNet(lr=0.1)  # with BatchNorm\n",
        "model_no_bn = BNLeNetScratch(lr=0.1)  # without BatchNorm\n",
        "\n",
        "# Train and validate both models\n",
        "accuracy_bn = train_and_validate(model_bn, data, lr=0.1, num_epochs=num_epochs)\n",
        "accuracy_no_bn = train_and_validate(model_no_bn, data, lr=0.1, num_epochs=num_epochs)\n",
        "\n",
        "# Plotting\n",
        "plt.plot(range(1, num_epochs + 1), accuracy_bn, label='With Batch Norm')\n",
        "plt.plot(range(1, num_epochs + 1), accuracy_no_bn, label='Without Batch Norm')\n",
        "plt.xlabel('Epochs')\n",
        "plt.ylabel('Validation Accuracy')\n",
        "plt.legend()\n",
        "plt.title('Validation Accuracy with and without Batch Normalization')\n",
        "plt.show()"
      ],
      "metadata": {
        "id": "b_DGak1sGgzI"
      },
      "execution_count": null,
      "outputs": []
    },
    {
      "cell_type": "markdown",
      "source": [
        "**b.** How large can you make the learning rate before the optimization fails in both cases?\n",
        "\n",
        "**ANSWER**\n",
        "\n",
        "You can experiment with different learning rates in your training loop. Generally, batch normalization allows you to use higher learning rates because it stabilizes the training process."
      ],
      "metadata": {
        "id": "ooVb04-zGhJ-"
      }
    },
    {
      "cell_type": "code",
      "source": [
        "def find_max_lr(model, data):\n",
        "    max_lr = 1.0  # Starting value\n",
        "    while True:\n",
        "        try:\n",
        "            model = BNLeNet(lr=max_lr)\n",
        "            history = train_and_validate(model, data, lr=max_lr, num_epochs=1)  # Just run 1 epoch\n",
        "            print(f'Success with learning rate: {max_lr}')\n",
        "            max_lr *= 2  # Increase the learning rate\n",
        "        except Exception as e:\n",
        "            print(f'Failed with learning rate: {max_lr}. Error: {str(e)}')\n",
        "            break\n",
        "    return max_lr\n",
        "\n",
        "# Find maximum learning rate for both models\n",
        "max_lr_bn = find_max_lr(model_bn, data)\n",
        "max_lr_no_bn = find_max_lr(model_no_bn, data)\n",
        "\n",
        "print(f'Max learning rate with BatchNorm: {max_lr_bn}')\n",
        "print(f'Max learning rate without BatchNorm: {max_lr_no_bn}')"
      ],
      "metadata": {
        "id": "o8WifNCZGiWX"
      },
      "execution_count": null,
      "outputs": []
    },
    {
      "cell_type": "markdown",
      "source": [
        "**3.** Do we need batch normalization in every layer? Experiment with it.\n",
        "\n",
        "**ANSWER**\n",
        "\n",
        "No, we do not necessarily need batch normalization in every layer. Experimenting with different configurations can provide insights into optimal placements. For example, you might place it after certain layers (e.g., convolutional layers) but skip it after activation functions like ReLU.\n",
        "\n",
        "You could create multiple models, some with batch normalization in every layer and others with it selectively, and compare their performances to see how this impacts accuracy and training speed.\n"
      ],
      "metadata": {
        "id": "iDKl6dvvEfA1"
      }
    },
    {
      "cell_type": "markdown",
      "source": [
        "**4.** Implement a “lite” version of batch normalization that only removes the mean, or alternatively one that only removes the variance. How does it behave?\n",
        "\n",
        "**ANSWER**\n",
        "\n",
        "You can implement a \"lite\" version of batch normalization by only removing the mean or only removing the variance. Here’s how you can implement these variations."
      ],
      "metadata": {
        "id": "E_KKStNYEhlJ"
      }
    },
    {
      "cell_type": "markdown",
      "source": [
        "a. Only Remove Mean"
      ],
      "metadata": {
        "id": "LRhGUCbNFrTM"
      }
    },
    {
      "cell_type": "code",
      "source": [
        "def lite_batch_norm_mean(X, beta, gamma, eps):\n",
        "    mean = X.mean(dim=0, keepdim=True)\n",
        "    X_hat = X - mean  # Only remove mean\n",
        "    return gamma * X_hat + beta\n",
        "\n",
        "# Example use in a layer\n",
        "class LiteBNMean(nn.Module):\n",
        "    def __init__(self, num_features):\n",
        "        super().__init__()\n",
        "        self.gamma = nn.Parameter(torch.ones(num_features))\n",
        "        self.beta = nn.Parameter(torch.zeros(num_features))\n",
        "\n",
        "    def forward(self, X):\n",
        "        return lite_batch_norm_mean(X, self.beta, self.gamma, eps=1e-5)"
      ],
      "metadata": {
        "id": "e_59OSv6Fw9V"
      },
      "execution_count": null,
      "outputs": []
    },
    {
      "cell_type": "markdown",
      "source": [
        "b. Only Remove Variance"
      ],
      "metadata": {
        "id": "lzB80D61Fz5A"
      }
    },
    {
      "cell_type": "code",
      "source": [
        "def lite_batch_norm_variance(X, beta, gamma, eps):\n",
        "    var = X.var(dim=0, keepdim=True)\n",
        "    X_hat = X / torch.sqrt(var + eps)  # Only remove variance\n",
        "    return gamma * X_hat + beta\n",
        "\n",
        "# Example use in a layer\n",
        "class LiteBNVariance(nn.Module):\n",
        "    def __init__(self, num_features):\n",
        "        super().__init__()\n",
        "        self.gamma = nn.Parameter(torch.ones(num_features))\n",
        "        self.beta = nn.Parameter(torch.zeros(num_features))\n",
        "\n",
        "    def forward(self, X):\n",
        "        return lite_batch_norm_variance(X, self.beta, self.gamma, eps=1e-5)"
      ],
      "metadata": {
        "id": "6N6d8rDpF3qy"
      },
      "execution_count": null,
      "outputs": []
    },
    {
      "cell_type": "markdown",
      "source": [
        "You can test the performance of these \"lite\" versions and compare them with standard batch normalization."
      ],
      "metadata": {
        "id": "nBP3SRk3F59G"
      }
    },
    {
      "cell_type": "markdown",
      "source": [
        "**5.** Fix the parameters beta and gamma. Observe and analyze the results.\n",
        "\n",
        "**ANSWER**\n",
        "\n",
        "You can fix the parameters beta and gamma to analyze the impact on model performance. For example, if you set beta=0 and gamma=1, you're essentially just normalizing the input without any scaling or shifting."
      ],
      "metadata": {
        "id": "Q5rZ0mlsEkEp"
      }
    },
    {
      "cell_type": "code",
      "source": [
        "class FixedBatchNorm(nn.Module):\n",
        "    def __init__(self, num_features):\n",
        "        super().__init__()\n",
        "        self.moving_mean = nn.Parameter(torch.zeros(num_features), requires_grad=False)\n",
        "        self.moving_var = nn.Parameter(torch.ones(num_features), requires_grad=False)\n",
        "\n",
        "    def forward(self, X):\n",
        "        X_hat = (X - self.moving_mean) / torch.sqrt(self.moving_var + 1e-5)\n",
        "        return X_hat  # No scaling or shifting\n",
        "\n",
        "# Test model performance with fixed parameters\n",
        "model_fixed_bn = BNLeNet(lr=0.1, fixed=True)  # Adjust BN class to accept fixed parameters\n",
        "trainer.fit(model_fixed_bn, data)"
      ],
      "metadata": {
        "id": "SOpr6KuQFeug"
      },
      "execution_count": null,
      "outputs": []
    },
    {
      "cell_type": "markdown",
      "source": [
        "**6.** Can you replace dropout by batch normalization? How does the behavior change?\n",
        "\n",
        "**ANSWER**\n",
        "\n",
        "You can replace dropout with batch normalization, but they serve different purposes. Dropout is a regularization technique that randomly zeros some of the activations during training to prevent overfitting. Batch normalization normalizes activations and stabilizes training.\n",
        "\n",
        "If you replace dropout with batch normalization, you may notice different behaviors:\n",
        "\n",
        "- Batch normalization may allow for higher learning rates and faster convergence.\n",
        "- If overfitting occurs, you might want to reintroduce dropout or adjust the model architecture."
      ],
      "metadata": {
        "id": "E9oxvzE5Emf2"
      }
    },
    {
      "cell_type": "markdown",
      "source": [
        "**7.** Research ideas: think of other normalization transforms that you can apply:\n",
        "\n",
        "**a.** Can you apply the probability integral transform?\n",
        "\n",
        "**ANSWER**\n",
        "\n",
        "Yes, you can apply the probability integral transform. This involves transforming the features into a uniform distribution, which can stabilize training. However, this transformation might not be ideal for all types of data and could affect interpretability.\n",
        "\n",
        "**b.** Can you use a full-rank covariance estimate? Why should you probably not do that?\n",
        "\n",
        "**ANSWER**\n",
        "\n",
        "Using a full-rank covariance estimate can increase computational complexity and memory usage. It's generally not recommended for large datasets or networks due to this overhead.\n",
        "\n",
        "**c.** Can you use other compact matrix variants (block-diagonal, low-displacement rank, Monarch, etc.)?\n",
        "\n",
        "**ANSWER**\n",
        "\n",
        "Using compact matrix variants like block-diagonal or low-rank approximations can reduce computational complexity and memory usage while retaining essential features of the data. However, careful evaluation is needed to ensure performance is not compromised.\n",
        "\n",
        "**d.** Does a sparsification compression act as a regularizer?\n",
        "\n",
        "**ANSWER**\n",
        "\n",
        "Yes, sparsification can act as a regularizer by encouraging weight sparsity, thus reducing overfitting. However, it may also lead to loss of important information if not carefully applied.\n",
        "\n",
        "**e.** Are there other projections (e.g., convex cone, symmetry group-specific transforms) that you can use?\n",
        "\n",
        "**ANSWER**\n",
        "\n",
        "Other projections like convex cones or symmetry group-specific transforms can be applied, but the effectiveness may vary depending on the specific architecture and task. These methods can introduce additional computational complexity, so careful consideration is required."
      ],
      "metadata": {
        "id": "7UIXGoeEEouo"
      }
    },
    {
      "cell_type": "markdown",
      "source": [
        "# 8.6. Residual Networks (ResNet) and ResNeXt"
      ],
      "metadata": {
        "id": "5AiJ5-5zWu14"
      }
    },
    {
      "cell_type": "code",
      "source": [
        "import torch\n",
        "from torch import nn\n",
        "from torch.nn import functional as F\n",
        "from d2l import torch as d2l"
      ],
      "metadata": {
        "id": "htaqb7k2XBaF"
      },
      "execution_count": 39,
      "outputs": []
    },
    {
      "cell_type": "markdown",
      "source": [
        "## 8.6.2. Residual Blocks"
      ],
      "metadata": {
        "id": "YKCes0wcW075"
      }
    },
    {
      "cell_type": "code",
      "source": [
        "class Residual(nn.Module):  #@save\n",
        "    \"\"\"The Residual block of ResNet models.\"\"\"\n",
        "    def __init__(self, num_channels, use_1x1conv=False, strides=1):\n",
        "        super().__init__()\n",
        "        self.conv1 = nn.LazyConv2d(num_channels, kernel_size=3, padding=1,\n",
        "                                   stride=strides)\n",
        "        self.conv2 = nn.LazyConv2d(num_channels, kernel_size=3, padding=1)\n",
        "        if use_1x1conv:\n",
        "            self.conv3 = nn.LazyConv2d(num_channels, kernel_size=1,\n",
        "                                       stride=strides)\n",
        "        else:\n",
        "            self.conv3 = None\n",
        "        self.bn1 = nn.LazyBatchNorm2d()\n",
        "        self.bn2 = nn.LazyBatchNorm2d()\n",
        "\n",
        "    def forward(self, X):\n",
        "        Y = F.relu(self.bn1(self.conv1(X)))\n",
        "        Y = self.bn2(self.conv2(Y))\n",
        "        if self.conv3:\n",
        "            X = self.conv3(X)\n",
        "        Y += X\n",
        "        return F.relu(Y)"
      ],
      "metadata": {
        "id": "YFVyG4kNQ-eC"
      },
      "execution_count": 40,
      "outputs": []
    },
    {
      "cell_type": "code",
      "source": [
        "blk = Residual(3)\n",
        "X = torch.randn(4, 3, 6, 6)\n",
        "blk(X).shape"
      ],
      "metadata": {
        "id": "RtWbLdteW9Ed",
        "colab": {
          "base_uri": "https://localhost:8080/"
        },
        "outputId": "dd1481f8-ef36-483c-de8e-f35584d3b857"
      },
      "execution_count": 41,
      "outputs": [
        {
          "output_type": "execute_result",
          "data": {
            "text/plain": [
              "torch.Size([4, 3, 6, 6])"
            ]
          },
          "metadata": {},
          "execution_count": 41
        }
      ]
    },
    {
      "cell_type": "code",
      "source": [
        "blk = Residual(6, use_1x1conv=True, strides=2)\n",
        "blk(X).shape"
      ],
      "metadata": {
        "id": "1Yae_NGnXFiN",
        "colab": {
          "base_uri": "https://localhost:8080/"
        },
        "outputId": "0c4d219d-6e7c-478b-894d-cf2eff0acd19"
      },
      "execution_count": 42,
      "outputs": [
        {
          "output_type": "execute_result",
          "data": {
            "text/plain": [
              "torch.Size([4, 6, 3, 3])"
            ]
          },
          "metadata": {},
          "execution_count": 42
        }
      ]
    },
    {
      "cell_type": "markdown",
      "source": [
        "## 8.6.3. ResNet Model"
      ],
      "metadata": {
        "id": "BCYELshgW4DV"
      }
    },
    {
      "cell_type": "code",
      "source": [
        "class ResNet(d2l.Classifier):\n",
        "    def b1(self):\n",
        "        return nn.Sequential(\n",
        "            nn.LazyConv2d(64, kernel_size=7, stride=2, padding=3),\n",
        "            nn.LazyBatchNorm2d(), nn.ReLU(),\n",
        "            nn.MaxPool2d(kernel_size=3, stride=2, padding=1))"
      ],
      "metadata": {
        "id": "hSPR_QJzXJqf"
      },
      "execution_count": 43,
      "outputs": []
    },
    {
      "cell_type": "code",
      "source": [
        "@d2l.add_to_class(ResNet)\n",
        "def block(self, num_residuals, num_channels, first_block=False):\n",
        "    blk = []\n",
        "    for i in range(num_residuals):\n",
        "        if i == 0 and not first_block:\n",
        "            blk.append(Residual(num_channels, use_1x1conv=True, strides=2))\n",
        "        else:\n",
        "            blk.append(Residual(num_channels))\n",
        "    return nn.Sequential(*blk)"
      ],
      "metadata": {
        "id": "UMqmT6wgXLxm"
      },
      "execution_count": 44,
      "outputs": []
    },
    {
      "cell_type": "code",
      "source": [
        "@d2l.add_to_class(ResNet)\n",
        "def __init__(self, arch, lr=0.1, num_classes=10):\n",
        "    super(ResNet, self).__init__()\n",
        "    self.save_hyperparameters()\n",
        "    self.net = nn.Sequential(self.b1())\n",
        "    for i, b in enumerate(arch):\n",
        "        self.net.add_module(f'b{i+2}', self.block(*b, first_block=(i==0)))\n",
        "    self.net.add_module('last', nn.Sequential(\n",
        "        nn.AdaptiveAvgPool2d((1, 1)), nn.Flatten(),\n",
        "        nn.LazyLinear(num_classes)))\n",
        "    self.net.apply(d2l.init_cnn)"
      ],
      "metadata": {
        "id": "MV_lNxBjXN-Q"
      },
      "execution_count": 45,
      "outputs": []
    },
    {
      "cell_type": "code",
      "source": [
        "class ResNet18(ResNet):\n",
        "    def __init__(self, lr=0.1, num_classes=10):\n",
        "        super().__init__(((2, 64), (2, 128), (2, 256), (2, 512)),\n",
        "                       lr, num_classes)\n",
        "\n",
        "ResNet18().layer_summary((1, 1, 96, 96))"
      ],
      "metadata": {
        "id": "lzXyyt-mXWEI",
        "colab": {
          "base_uri": "https://localhost:8080/"
        },
        "outputId": "ce3cf33c-bec2-40f3-a12d-0abfae104b7e"
      },
      "execution_count": 46,
      "outputs": [
        {
          "output_type": "stream",
          "name": "stdout",
          "text": [
            "Sequential output shape:\t torch.Size([1, 64, 24, 24])\n",
            "Sequential output shape:\t torch.Size([1, 64, 24, 24])\n",
            "Sequential output shape:\t torch.Size([1, 128, 12, 12])\n",
            "Sequential output shape:\t torch.Size([1, 256, 6, 6])\n",
            "Sequential output shape:\t torch.Size([1, 512, 3, 3])\n",
            "Sequential output shape:\t torch.Size([1, 10])\n"
          ]
        }
      ]
    },
    {
      "cell_type": "markdown",
      "source": [
        "## 8.6.4. Training"
      ],
      "metadata": {
        "id": "0zm9F0dGXbAO"
      }
    },
    {
      "cell_type": "code",
      "source": [
        "model = ResNet18(lr=0.01)\n",
        "trainer = d2l.Trainer(max_epochs=10, num_gpus=1)\n",
        "data = d2l.FashionMNIST(batch_size=128, resize=(96, 96))\n",
        "model.apply_init([next(iter(data.get_dataloader(True)))[0]], d2l.init_cnn)\n",
        "trainer.fit(model, data)"
      ],
      "metadata": {
        "id": "frzn7sy8Xb_P",
        "colab": {
          "base_uri": "https://localhost:8080/",
          "height": 265
        },
        "outputId": "b0e04ed4-40ee-4615-ee09-aa7f61563692"
      },
      "execution_count": 47,
      "outputs": [
        {
          "output_type": "display_data",
          "data": {
            "text/plain": [
              "<Figure size 350x250 with 1 Axes>"
            ],
            "image/svg+xml": "<?xml version=\"1.0\" encoding=\"utf-8\" standalone=\"no\"?>\n<!DOCTYPE svg PUBLIC \"-//W3C//DTD SVG 1.1//EN\"\n  \"http://www.w3.org/Graphics/SVG/1.1/DTD/svg11.dtd\">\n<svg xmlns:xlink=\"http://www.w3.org/1999/xlink\" width=\"238.965625pt\" height=\"183.35625pt\" viewBox=\"0 0 238.965625 183.35625\" xmlns=\"http://www.w3.org/2000/svg\" version=\"1.1\">\n <metadata>\n  <rdf:RDF xmlns:dc=\"http://purl.org/dc/elements/1.1/\" xmlns:cc=\"http://creativecommons.org/ns#\" xmlns:rdf=\"http://www.w3.org/1999/02/22-rdf-syntax-ns#\">\n   <cc:Work>\n    <dc:type rdf:resource=\"http://purl.org/dc/dcmitype/StillImage\"/>\n    <dc:date>2024-10-05T14:45:03.082083</dc:date>\n    <dc:format>image/svg+xml</dc:format>\n    <dc:creator>\n     <cc:Agent>\n      <dc:title>Matplotlib v3.7.2, https://matplotlib.org/</dc:title>\n     </cc:Agent>\n    </dc:creator>\n   </cc:Work>\n  </rdf:RDF>\n </metadata>\n <defs>\n  <style type=\"text/css\">*{stroke-linejoin: round; stroke-linecap: butt}</style>\n </defs>\n <g id=\"figure_1\">\n  <g id=\"patch_1\">\n   <path d=\"M 0 183.35625 \nL 238.965625 183.35625 \nL 238.965625 0 \nL 0 0 \nz\n\" style=\"fill: #ffffff\"/>\n  </g>\n  <g id=\"axes_1\">\n   <g id=\"patch_2\">\n    <path d=\"M 30.103125 145.8 \nL 225.403125 145.8 \nL 225.403125 7.2 \nL 30.103125 7.2 \nz\n\" style=\"fill: #ffffff\"/>\n   </g>\n   <g id=\"matplotlib.axis_1\">\n    <g id=\"xtick_1\">\n     <g id=\"line2d_1\">\n      <defs>\n       <path id=\"mb4f3ac8c3d\" d=\"M 0 0 \nL 0 3.5 \n\" style=\"stroke: #000000; stroke-width: 0.8\"/>\n      </defs>\n      <g>\n       <use xlink:href=\"#mb4f3ac8c3d\" x=\"30.103125\" y=\"145.8\" style=\"stroke: #000000; stroke-width: 0.8\"/>\n      </g>\n     </g>\n     <g id=\"text_1\">\n      <!-- 0 -->\n      <g transform=\"translate(26.921875 160.398438) scale(0.1 -0.1)\">\n       <defs>\n        <path id=\"DejaVuSans-30\" d=\"M 2034 4250 \nQ 1547 4250 1301 3770 \nQ 1056 3291 1056 2328 \nQ 1056 1369 1301 889 \nQ 1547 409 2034 409 \nQ 2525 409 2770 889 \nQ 3016 1369 3016 2328 \nQ 3016 3291 2770 3770 \nQ 2525 4250 2034 4250 \nz\nM 2034 4750 \nQ 2819 4750 3233 4129 \nQ 3647 3509 3647 2328 \nQ 3647 1150 3233 529 \nQ 2819 -91 2034 -91 \nQ 1250 -91 836 529 \nQ 422 1150 422 2328 \nQ 422 3509 836 4129 \nQ 1250 4750 2034 4750 \nz\n\" transform=\"scale(0.015625)\"/>\n       </defs>\n       <use xlink:href=\"#DejaVuSans-30\"/>\n      </g>\n     </g>\n    </g>\n    <g id=\"xtick_2\">\n     <g id=\"line2d_2\">\n      <g>\n       <use xlink:href=\"#mb4f3ac8c3d\" x=\"69.163125\" y=\"145.8\" style=\"stroke: #000000; stroke-width: 0.8\"/>\n      </g>\n     </g>\n     <g id=\"text_2\">\n      <!-- 2 -->\n      <g transform=\"translate(65.981875 160.398438) scale(0.1 -0.1)\">\n       <defs>\n        <path id=\"DejaVuSans-32\" d=\"M 1228 531 \nL 3431 531 \nL 3431 0 \nL 469 0 \nL 469 531 \nQ 828 903 1448 1529 \nQ 2069 2156 2228 2338 \nQ 2531 2678 2651 2914 \nQ 2772 3150 2772 3378 \nQ 2772 3750 2511 3984 \nQ 2250 4219 1831 4219 \nQ 1534 4219 1204 4116 \nQ 875 4013 500 3803 \nL 500 4441 \nQ 881 4594 1212 4672 \nQ 1544 4750 1819 4750 \nQ 2544 4750 2975 4387 \nQ 3406 4025 3406 3419 \nQ 3406 3131 3298 2873 \nQ 3191 2616 2906 2266 \nQ 2828 2175 2409 1742 \nQ 1991 1309 1228 531 \nz\n\" transform=\"scale(0.015625)\"/>\n       </defs>\n       <use xlink:href=\"#DejaVuSans-32\"/>\n      </g>\n     </g>\n    </g>\n    <g id=\"xtick_3\">\n     <g id=\"line2d_3\">\n      <g>\n       <use xlink:href=\"#mb4f3ac8c3d\" x=\"108.223125\" y=\"145.8\" style=\"stroke: #000000; stroke-width: 0.8\"/>\n      </g>\n     </g>\n     <g id=\"text_3\">\n      <!-- 4 -->\n      <g transform=\"translate(105.041875 160.398438) scale(0.1 -0.1)\">\n       <defs>\n        <path id=\"DejaVuSans-34\" d=\"M 2419 4116 \nL 825 1625 \nL 2419 1625 \nL 2419 4116 \nz\nM 2253 4666 \nL 3047 4666 \nL 3047 1625 \nL 3713 1625 \nL 3713 1100 \nL 3047 1100 \nL 3047 0 \nL 2419 0 \nL 2419 1100 \nL 313 1100 \nL 313 1709 \nL 2253 4666 \nz\n\" transform=\"scale(0.015625)\"/>\n       </defs>\n       <use xlink:href=\"#DejaVuSans-34\"/>\n      </g>\n     </g>\n    </g>\n    <g id=\"xtick_4\">\n     <g id=\"line2d_4\">\n      <g>\n       <use xlink:href=\"#mb4f3ac8c3d\" x=\"147.283125\" y=\"145.8\" style=\"stroke: #000000; stroke-width: 0.8\"/>\n      </g>\n     </g>\n     <g id=\"text_4\">\n      <!-- 6 -->\n      <g transform=\"translate(144.101875 160.398438) scale(0.1 -0.1)\">\n       <defs>\n        <path id=\"DejaVuSans-36\" d=\"M 2113 2584 \nQ 1688 2584 1439 2293 \nQ 1191 2003 1191 1497 \nQ 1191 994 1439 701 \nQ 1688 409 2113 409 \nQ 2538 409 2786 701 \nQ 3034 994 3034 1497 \nQ 3034 2003 2786 2293 \nQ 2538 2584 2113 2584 \nz\nM 3366 4563 \nL 3366 3988 \nQ 3128 4100 2886 4159 \nQ 2644 4219 2406 4219 \nQ 1781 4219 1451 3797 \nQ 1122 3375 1075 2522 \nQ 1259 2794 1537 2939 \nQ 1816 3084 2150 3084 \nQ 2853 3084 3261 2657 \nQ 3669 2231 3669 1497 \nQ 3669 778 3244 343 \nQ 2819 -91 2113 -91 \nQ 1303 -91 875 529 \nQ 447 1150 447 2328 \nQ 447 3434 972 4092 \nQ 1497 4750 2381 4750 \nQ 2619 4750 2861 4703 \nQ 3103 4656 3366 4563 \nz\n\" transform=\"scale(0.015625)\"/>\n       </defs>\n       <use xlink:href=\"#DejaVuSans-36\"/>\n      </g>\n     </g>\n    </g>\n    <g id=\"xtick_5\">\n     <g id=\"line2d_5\">\n      <g>\n       <use xlink:href=\"#mb4f3ac8c3d\" x=\"186.343125\" y=\"145.8\" style=\"stroke: #000000; stroke-width: 0.8\"/>\n      </g>\n     </g>\n     <g id=\"text_5\">\n      <!-- 8 -->\n      <g transform=\"translate(183.161875 160.398438) scale(0.1 -0.1)\">\n       <defs>\n        <path id=\"DejaVuSans-38\" d=\"M 2034 2216 \nQ 1584 2216 1326 1975 \nQ 1069 1734 1069 1313 \nQ 1069 891 1326 650 \nQ 1584 409 2034 409 \nQ 2484 409 2743 651 \nQ 3003 894 3003 1313 \nQ 3003 1734 2745 1975 \nQ 2488 2216 2034 2216 \nz\nM 1403 2484 \nQ 997 2584 770 2862 \nQ 544 3141 544 3541 \nQ 544 4100 942 4425 \nQ 1341 4750 2034 4750 \nQ 2731 4750 3128 4425 \nQ 3525 4100 3525 3541 \nQ 3525 3141 3298 2862 \nQ 3072 2584 2669 2484 \nQ 3125 2378 3379 2068 \nQ 3634 1759 3634 1313 \nQ 3634 634 3220 271 \nQ 2806 -91 2034 -91 \nQ 1263 -91 848 271 \nQ 434 634 434 1313 \nQ 434 1759 690 2068 \nQ 947 2378 1403 2484 \nz\nM 1172 3481 \nQ 1172 3119 1398 2916 \nQ 1625 2713 2034 2713 \nQ 2441 2713 2670 2916 \nQ 2900 3119 2900 3481 \nQ 2900 3844 2670 4047 \nQ 2441 4250 2034 4250 \nQ 1625 4250 1398 4047 \nQ 1172 3844 1172 3481 \nz\n\" transform=\"scale(0.015625)\"/>\n       </defs>\n       <use xlink:href=\"#DejaVuSans-38\"/>\n      </g>\n     </g>\n    </g>\n    <g id=\"xtick_6\">\n     <g id=\"line2d_6\">\n      <g>\n       <use xlink:href=\"#mb4f3ac8c3d\" x=\"225.403125\" y=\"145.8\" style=\"stroke: #000000; stroke-width: 0.8\"/>\n      </g>\n     </g>\n     <g id=\"text_6\">\n      <!-- 10 -->\n      <g transform=\"translate(219.040625 160.398438) scale(0.1 -0.1)\">\n       <defs>\n        <path id=\"DejaVuSans-31\" d=\"M 794 531 \nL 1825 531 \nL 1825 4091 \nL 703 3866 \nL 703 4441 \nL 1819 4666 \nL 2450 4666 \nL 2450 531 \nL 3481 531 \nL 3481 0 \nL 794 0 \nL 794 531 \nz\n\" transform=\"scale(0.015625)\"/>\n       </defs>\n       <use xlink:href=\"#DejaVuSans-31\"/>\n       <use xlink:href=\"#DejaVuSans-30\" x=\"63.623047\"/>\n      </g>\n     </g>\n    </g>\n    <g id=\"text_7\">\n     <!-- epoch -->\n     <g transform=\"translate(112.525 174.076563) scale(0.1 -0.1)\">\n      <defs>\n       <path id=\"DejaVuSans-65\" d=\"M 3597 1894 \nL 3597 1613 \nL 953 1613 \nQ 991 1019 1311 708 \nQ 1631 397 2203 397 \nQ 2534 397 2845 478 \nQ 3156 559 3463 722 \nL 3463 178 \nQ 3153 47 2828 -22 \nQ 2503 -91 2169 -91 \nQ 1331 -91 842 396 \nQ 353 884 353 1716 \nQ 353 2575 817 3079 \nQ 1281 3584 2069 3584 \nQ 2775 3584 3186 3129 \nQ 3597 2675 3597 1894 \nz\nM 3022 2063 \nQ 3016 2534 2758 2815 \nQ 2500 3097 2075 3097 \nQ 1594 3097 1305 2825 \nQ 1016 2553 972 2059 \nL 3022 2063 \nz\n\" transform=\"scale(0.015625)\"/>\n       <path id=\"DejaVuSans-70\" d=\"M 1159 525 \nL 1159 -1331 \nL 581 -1331 \nL 581 3500 \nL 1159 3500 \nL 1159 2969 \nQ 1341 3281 1617 3432 \nQ 1894 3584 2278 3584 \nQ 2916 3584 3314 3078 \nQ 3713 2572 3713 1747 \nQ 3713 922 3314 415 \nQ 2916 -91 2278 -91 \nQ 1894 -91 1617 61 \nQ 1341 213 1159 525 \nz\nM 3116 1747 \nQ 3116 2381 2855 2742 \nQ 2594 3103 2138 3103 \nQ 1681 3103 1420 2742 \nQ 1159 2381 1159 1747 \nQ 1159 1113 1420 752 \nQ 1681 391 2138 391 \nQ 2594 391 2855 752 \nQ 3116 1113 3116 1747 \nz\n\" transform=\"scale(0.015625)\"/>\n       <path id=\"DejaVuSans-6f\" d=\"M 1959 3097 \nQ 1497 3097 1228 2736 \nQ 959 2375 959 1747 \nQ 959 1119 1226 758 \nQ 1494 397 1959 397 \nQ 2419 397 2687 759 \nQ 2956 1122 2956 1747 \nQ 2956 2369 2687 2733 \nQ 2419 3097 1959 3097 \nz\nM 1959 3584 \nQ 2709 3584 3137 3096 \nQ 3566 2609 3566 1747 \nQ 3566 888 3137 398 \nQ 2709 -91 1959 -91 \nQ 1206 -91 779 398 \nQ 353 888 353 1747 \nQ 353 2609 779 3096 \nQ 1206 3584 1959 3584 \nz\n\" transform=\"scale(0.015625)\"/>\n       <path id=\"DejaVuSans-63\" d=\"M 3122 3366 \nL 3122 2828 \nQ 2878 2963 2633 3030 \nQ 2388 3097 2138 3097 \nQ 1578 3097 1268 2742 \nQ 959 2388 959 1747 \nQ 959 1106 1268 751 \nQ 1578 397 2138 397 \nQ 2388 397 2633 464 \nQ 2878 531 3122 666 \nL 3122 134 \nQ 2881 22 2623 -34 \nQ 2366 -91 2075 -91 \nQ 1284 -91 818 406 \nQ 353 903 353 1747 \nQ 353 2603 823 3093 \nQ 1294 3584 2113 3584 \nQ 2378 3584 2631 3529 \nQ 2884 3475 3122 3366 \nz\n\" transform=\"scale(0.015625)\"/>\n       <path id=\"DejaVuSans-68\" d=\"M 3513 2113 \nL 3513 0 \nL 2938 0 \nL 2938 2094 \nQ 2938 2591 2744 2837 \nQ 2550 3084 2163 3084 \nQ 1697 3084 1428 2787 \nQ 1159 2491 1159 1978 \nL 1159 0 \nL 581 0 \nL 581 4863 \nL 1159 4863 \nL 1159 2956 \nQ 1366 3272 1645 3428 \nQ 1925 3584 2291 3584 \nQ 2894 3584 3203 3211 \nQ 3513 2838 3513 2113 \nz\n\" transform=\"scale(0.015625)\"/>\n      </defs>\n      <use xlink:href=\"#DejaVuSans-65\"/>\n      <use xlink:href=\"#DejaVuSans-70\" x=\"61.523438\"/>\n      <use xlink:href=\"#DejaVuSans-6f\" x=\"125\"/>\n      <use xlink:href=\"#DejaVuSans-63\" x=\"186.181641\"/>\n      <use xlink:href=\"#DejaVuSans-68\" x=\"241.162109\"/>\n     </g>\n    </g>\n   </g>\n   <g id=\"matplotlib.axis_2\">\n    <g id=\"ytick_1\">\n     <g id=\"line2d_7\">\n      <defs>\n       <path id=\"m41fb1d2a92\" d=\"M 0 0 \nL -3.5 0 \n\" style=\"stroke: #000000; stroke-width: 0.8\"/>\n      </defs>\n      <g>\n       <use xlink:href=\"#m41fb1d2a92\" x=\"30.103125\" y=\"142.936717\" style=\"stroke: #000000; stroke-width: 0.8\"/>\n      </g>\n     </g>\n     <g id=\"text_8\">\n      <!-- 0.0 -->\n      <g transform=\"translate(7.2 146.735935) scale(0.1 -0.1)\">\n       <defs>\n        <path id=\"DejaVuSans-2e\" d=\"M 684 794 \nL 1344 794 \nL 1344 0 \nL 684 0 \nL 684 794 \nz\n\" transform=\"scale(0.015625)\"/>\n       </defs>\n       <use xlink:href=\"#DejaVuSans-30\"/>\n       <use xlink:href=\"#DejaVuSans-2e\" x=\"63.623047\"/>\n       <use xlink:href=\"#DejaVuSans-30\" x=\"95.410156\"/>\n      </g>\n     </g>\n    </g>\n    <g id=\"ytick_2\">\n     <g id=\"line2d_8\">\n      <g>\n       <use xlink:href=\"#m41fb1d2a92\" x=\"30.103125\" y=\"114.640012\" style=\"stroke: #000000; stroke-width: 0.8\"/>\n      </g>\n     </g>\n     <g id=\"text_9\">\n      <!-- 0.2 -->\n      <g transform=\"translate(7.2 118.439231) scale(0.1 -0.1)\">\n       <use xlink:href=\"#DejaVuSans-30\"/>\n       <use xlink:href=\"#DejaVuSans-2e\" x=\"63.623047\"/>\n       <use xlink:href=\"#DejaVuSans-32\" x=\"95.410156\"/>\n      </g>\n     </g>\n    </g>\n    <g id=\"ytick_3\">\n     <g id=\"line2d_9\">\n      <g>\n       <use xlink:href=\"#m41fb1d2a92\" x=\"30.103125\" y=\"86.343307\" style=\"stroke: #000000; stroke-width: 0.8\"/>\n      </g>\n     </g>\n     <g id=\"text_10\">\n      <!-- 0.4 -->\n      <g transform=\"translate(7.2 90.142526) scale(0.1 -0.1)\">\n       <use xlink:href=\"#DejaVuSans-30\"/>\n       <use xlink:href=\"#DejaVuSans-2e\" x=\"63.623047\"/>\n       <use xlink:href=\"#DejaVuSans-34\" x=\"95.410156\"/>\n      </g>\n     </g>\n    </g>\n    <g id=\"ytick_4\">\n     <g id=\"line2d_10\">\n      <g>\n       <use xlink:href=\"#m41fb1d2a92\" x=\"30.103125\" y=\"58.046602\" style=\"stroke: #000000; stroke-width: 0.8\"/>\n      </g>\n     </g>\n     <g id=\"text_11\">\n      <!-- 0.6 -->\n      <g transform=\"translate(7.2 61.845821) scale(0.1 -0.1)\">\n       <use xlink:href=\"#DejaVuSans-30\"/>\n       <use xlink:href=\"#DejaVuSans-2e\" x=\"63.623047\"/>\n       <use xlink:href=\"#DejaVuSans-36\" x=\"95.410156\"/>\n      </g>\n     </g>\n    </g>\n    <g id=\"ytick_5\">\n     <g id=\"line2d_11\">\n      <g>\n       <use xlink:href=\"#m41fb1d2a92\" x=\"30.103125\" y=\"29.749898\" style=\"stroke: #000000; stroke-width: 0.8\"/>\n      </g>\n     </g>\n     <g id=\"text_12\">\n      <!-- 0.8 -->\n      <g transform=\"translate(7.2 33.549116) scale(0.1 -0.1)\">\n       <use xlink:href=\"#DejaVuSans-30\"/>\n       <use xlink:href=\"#DejaVuSans-2e\" x=\"63.623047\"/>\n       <use xlink:href=\"#DejaVuSans-38\" x=\"95.410156\"/>\n      </g>\n     </g>\n    </g>\n   </g>\n   <g id=\"line2d_12\">\n    <path d=\"M 34.954394 65.440157 \n\" clip-path=\"url(#pb23c2b4ada)\" style=\"fill: none; stroke: #1f77b4; stroke-width: 1.5; stroke-linecap: square\"/>\n   </g>\n   <g id=\"line2d_13\">\n    <path d=\"M 34.954394 65.440157 \nL 44.698573 94.134861 \n\" clip-path=\"url(#pb23c2b4ada)\" style=\"fill: none; stroke: #1f77b4; stroke-width: 1.5; stroke-linecap: square\"/>\n   </g>\n   <g id=\"line2d_14\">\n    <path d=\"M 34.954394 65.440157 \nL 44.698573 94.134861 \n\" clip-path=\"url(#pb23c2b4ada)\" style=\"fill: none; stroke: #1f77b4; stroke-width: 1.5; stroke-linecap: square\"/>\n   </g>\n   <g id=\"line2d_15\">\n    <path d=\"M 49.633125 94.685512 \n\" clip-path=\"url(#pb23c2b4ada)\" style=\"fill: none; stroke-dasharray: 5.55,2.4; stroke-dashoffset: 0; stroke: #ff7f0e; stroke-width: 1.5\"/>\n   </g>\n   <g id=\"line2d_16\"/>\n   <g id=\"line2d_17\">\n    <path d=\"M 34.954394 65.440157 \nL 44.698573 94.134861 \n\" clip-path=\"url(#pb23c2b4ada)\" style=\"fill: none; stroke: #1f77b4; stroke-width: 1.5; stroke-linecap: square\"/>\n   </g>\n   <g id=\"line2d_18\">\n    <path d=\"M 49.633125 94.685512 \n\" clip-path=\"url(#pb23c2b4ada)\" style=\"fill: none; stroke-dasharray: 5.55,2.4; stroke-dashoffset: 0; stroke: #ff7f0e; stroke-width: 1.5\"/>\n   </g>\n   <g id=\"line2d_19\">\n    <path d=\"M 49.633125 18.928759 \n\" clip-path=\"url(#pb23c2b4ada)\" style=\"fill: none; stroke-dasharray: 9.6,2.4,1.5,2.4; stroke-dashoffset: 0; stroke: #2ca02c; stroke-width: 1.5\"/>\n   </g>\n   <g id=\"line2d_20\">\n    <path d=\"M 34.954394 65.440157 \nL 44.698573 94.134861 \nL 54.442752 104.282859 \n\" clip-path=\"url(#pb23c2b4ada)\" style=\"fill: none; stroke: #1f77b4; stroke-width: 1.5; stroke-linecap: square\"/>\n   </g>\n   <g id=\"line2d_21\">\n    <path d=\"M 49.633125 94.685512 \n\" clip-path=\"url(#pb23c2b4ada)\" style=\"fill: none; stroke-dasharray: 5.55,2.4; stroke-dashoffset: 0; stroke: #ff7f0e; stroke-width: 1.5\"/>\n   </g>\n   <g id=\"line2d_22\">\n    <path d=\"M 49.633125 18.928759 \n\" clip-path=\"url(#pb23c2b4ada)\" style=\"fill: none; stroke-dasharray: 9.6,2.4,1.5,2.4; stroke-dashoffset: 0; stroke: #2ca02c; stroke-width: 1.5\"/>\n   </g>\n   <g id=\"line2d_23\">\n    <path d=\"M 34.954394 65.440157 \nL 44.698573 94.134861 \nL 54.442752 104.282859 \nL 64.186931 105.57892 \n\" clip-path=\"url(#pb23c2b4ada)\" style=\"fill: none; stroke: #1f77b4; stroke-width: 1.5; stroke-linecap: square\"/>\n   </g>\n   <g id=\"line2d_24\">\n    <path d=\"M 49.633125 94.685512 \n\" clip-path=\"url(#pb23c2b4ada)\" style=\"fill: none; stroke-dasharray: 5.55,2.4; stroke-dashoffset: 0; stroke: #ff7f0e; stroke-width: 1.5\"/>\n   </g>\n   <g id=\"line2d_25\">\n    <path d=\"M 49.633125 18.928759 \n\" clip-path=\"url(#pb23c2b4ada)\" style=\"fill: none; stroke-dasharray: 9.6,2.4,1.5,2.4; stroke-dashoffset: 0; stroke: #2ca02c; stroke-width: 1.5\"/>\n   </g>\n   <g id=\"line2d_26\">\n    <path d=\"M 34.954394 65.440157 \nL 44.698573 94.134861 \nL 54.442752 104.282859 \nL 64.186931 105.57892 \n\" clip-path=\"url(#pb23c2b4ada)\" style=\"fill: none; stroke: #1f77b4; stroke-width: 1.5; stroke-linecap: square\"/>\n   </g>\n   <g id=\"line2d_27\">\n    <path d=\"M 49.633125 94.685512 \nL 69.163125 85.566735 \n\" clip-path=\"url(#pb23c2b4ada)\" style=\"fill: none; stroke-dasharray: 5.55,2.4; stroke-dashoffset: 0; stroke: #ff7f0e; stroke-width: 1.5\"/>\n   </g>\n   <g id=\"line2d_28\">\n    <path d=\"M 49.633125 18.928759 \n\" clip-path=\"url(#pb23c2b4ada)\" style=\"fill: none; stroke-dasharray: 9.6,2.4,1.5,2.4; stroke-dashoffset: 0; stroke: #2ca02c; stroke-width: 1.5\"/>\n   </g>\n   <g id=\"line2d_29\">\n    <path d=\"M 34.954394 65.440157 \nL 44.698573 94.134861 \nL 54.442752 104.282859 \nL 64.186931 105.57892 \n\" clip-path=\"url(#pb23c2b4ada)\" style=\"fill: none; stroke: #1f77b4; stroke-width: 1.5; stroke-linecap: square\"/>\n   </g>\n   <g id=\"line2d_30\">\n    <path d=\"M 49.633125 94.685512 \nL 69.163125 85.566735 \n\" clip-path=\"url(#pb23c2b4ada)\" style=\"fill: none; stroke-dasharray: 5.55,2.4; stroke-dashoffset: 0; stroke: #ff7f0e; stroke-width: 1.5\"/>\n   </g>\n   <g id=\"line2d_31\">\n    <path d=\"M 49.633125 18.928759 \nL 69.163125 22.888394 \n\" clip-path=\"url(#pb23c2b4ada)\" style=\"fill: none; stroke-dasharray: 9.6,2.4,1.5,2.4; stroke-dashoffset: 0; stroke: #2ca02c; stroke-width: 1.5\"/>\n   </g>\n   <g id=\"line2d_32\">\n    <path d=\"M 34.954394 65.440157 \nL 44.698573 94.134861 \nL 54.442752 104.282859 \nL 64.186931 105.57892 \nL 73.93111 112.563965 \n\" clip-path=\"url(#pb23c2b4ada)\" style=\"fill: none; stroke: #1f77b4; stroke-width: 1.5; stroke-linecap: square\"/>\n   </g>\n   <g id=\"line2d_33\">\n    <path d=\"M 49.633125 94.685512 \nL 69.163125 85.566735 \n\" clip-path=\"url(#pb23c2b4ada)\" style=\"fill: none; stroke-dasharray: 5.55,2.4; stroke-dashoffset: 0; stroke: #ff7f0e; stroke-width: 1.5\"/>\n   </g>\n   <g id=\"line2d_34\">\n    <path d=\"M 49.633125 18.928759 \nL 69.163125 22.888394 \n\" clip-path=\"url(#pb23c2b4ada)\" style=\"fill: none; stroke-dasharray: 9.6,2.4,1.5,2.4; stroke-dashoffset: 0; stroke: #2ca02c; stroke-width: 1.5\"/>\n   </g>\n   <g id=\"line2d_35\">\n    <path d=\"M 34.954394 65.440157 \nL 44.698573 94.134861 \nL 54.442752 104.282859 \nL 64.186931 105.57892 \nL 73.93111 112.563965 \nL 83.675289 112.888802 \n\" clip-path=\"url(#pb23c2b4ada)\" style=\"fill: none; stroke: #1f77b4; stroke-width: 1.5; stroke-linecap: square\"/>\n   </g>\n   <g id=\"line2d_36\">\n    <path d=\"M 49.633125 94.685512 \nL 69.163125 85.566735 \n\" clip-path=\"url(#pb23c2b4ada)\" style=\"fill: none; stroke-dasharray: 5.55,2.4; stroke-dashoffset: 0; stroke: #ff7f0e; stroke-width: 1.5\"/>\n   </g>\n   <g id=\"line2d_37\">\n    <path d=\"M 49.633125 18.928759 \nL 69.163125 22.888394 \n\" clip-path=\"url(#pb23c2b4ada)\" style=\"fill: none; stroke-dasharray: 9.6,2.4,1.5,2.4; stroke-dashoffset: 0; stroke: #2ca02c; stroke-width: 1.5\"/>\n   </g>\n   <g id=\"line2d_38\">\n    <path d=\"M 34.954394 65.440157 \nL 44.698573 94.134861 \nL 54.442752 104.282859 \nL 64.186931 105.57892 \nL 73.93111 112.563965 \nL 83.675289 112.888802 \n\" clip-path=\"url(#pb23c2b4ada)\" style=\"fill: none; stroke: #1f77b4; stroke-width: 1.5; stroke-linecap: square\"/>\n   </g>\n   <g id=\"line2d_39\">\n    <path d=\"M 49.633125 94.685512 \nL 69.163125 85.566735 \nL 88.693125 100.720837 \n\" clip-path=\"url(#pb23c2b4ada)\" style=\"fill: none; stroke-dasharray: 5.55,2.4; stroke-dashoffset: 0; stroke: #ff7f0e; stroke-width: 1.5\"/>\n   </g>\n   <g id=\"line2d_40\">\n    <path d=\"M 49.633125 18.928759 \nL 69.163125 22.888394 \n\" clip-path=\"url(#pb23c2b4ada)\" style=\"fill: none; stroke-dasharray: 9.6,2.4,1.5,2.4; stroke-dashoffset: 0; stroke: #2ca02c; stroke-width: 1.5\"/>\n   </g>\n   <g id=\"line2d_41\">\n    <path d=\"M 34.954394 65.440157 \nL 44.698573 94.134861 \nL 54.442752 104.282859 \nL 64.186931 105.57892 \nL 73.93111 112.563965 \nL 83.675289 112.888802 \n\" clip-path=\"url(#pb23c2b4ada)\" style=\"fill: none; stroke: #1f77b4; stroke-width: 1.5; stroke-linecap: square\"/>\n   </g>\n   <g id=\"line2d_42\">\n    <path d=\"M 49.633125 94.685512 \nL 69.163125 85.566735 \nL 88.693125 100.720837 \n\" clip-path=\"url(#pb23c2b4ada)\" style=\"fill: none; stroke-dasharray: 5.55,2.4; stroke-dashoffset: 0; stroke: #ff7f0e; stroke-width: 1.5\"/>\n   </g>\n   <g id=\"line2d_43\">\n    <path d=\"M 49.633125 18.928759 \nL 69.163125 22.888394 \nL 88.693125 17.053878 \n\" clip-path=\"url(#pb23c2b4ada)\" style=\"fill: none; stroke-dasharray: 9.6,2.4,1.5,2.4; stroke-dashoffset: 0; stroke: #2ca02c; stroke-width: 1.5\"/>\n   </g>\n   <g id=\"line2d_44\">\n    <path d=\"M 34.954394 65.440157 \nL 44.698573 94.134861 \nL 54.442752 104.282859 \nL 64.186931 105.57892 \nL 73.93111 112.563965 \nL 83.675289 112.888802 \nL 93.419468 119.37079 \n\" clip-path=\"url(#pb23c2b4ada)\" style=\"fill: none; stroke: #1f77b4; stroke-width: 1.5; stroke-linecap: square\"/>\n   </g>\n   <g id=\"line2d_45\">\n    <path d=\"M 49.633125 94.685512 \nL 69.163125 85.566735 \nL 88.693125 100.720837 \n\" clip-path=\"url(#pb23c2b4ada)\" style=\"fill: none; stroke-dasharray: 5.55,2.4; stroke-dashoffset: 0; stroke: #ff7f0e; stroke-width: 1.5\"/>\n   </g>\n   <g id=\"line2d_46\">\n    <path d=\"M 49.633125 18.928759 \nL 69.163125 22.888394 \nL 88.693125 17.053878 \n\" clip-path=\"url(#pb23c2b4ada)\" style=\"fill: none; stroke-dasharray: 9.6,2.4,1.5,2.4; stroke-dashoffset: 0; stroke: #2ca02c; stroke-width: 1.5\"/>\n   </g>\n   <g id=\"line2d_47\">\n    <path d=\"M 34.954394 65.440157 \nL 44.698573 94.134861 \nL 54.442752 104.282859 \nL 64.186931 105.57892 \nL 73.93111 112.563965 \nL 83.675289 112.888802 \nL 93.419468 119.37079 \nL 103.163647 118.737886 \n\" clip-path=\"url(#pb23c2b4ada)\" style=\"fill: none; stroke: #1f77b4; stroke-width: 1.5; stroke-linecap: square\"/>\n   </g>\n   <g id=\"line2d_48\">\n    <path d=\"M 49.633125 94.685512 \nL 69.163125 85.566735 \nL 88.693125 100.720837 \n\" clip-path=\"url(#pb23c2b4ada)\" style=\"fill: none; stroke-dasharray: 5.55,2.4; stroke-dashoffset: 0; stroke: #ff7f0e; stroke-width: 1.5\"/>\n   </g>\n   <g id=\"line2d_49\">\n    <path d=\"M 49.633125 18.928759 \nL 69.163125 22.888394 \nL 88.693125 17.053878 \n\" clip-path=\"url(#pb23c2b4ada)\" style=\"fill: none; stroke-dasharray: 9.6,2.4,1.5,2.4; stroke-dashoffset: 0; stroke: #2ca02c; stroke-width: 1.5\"/>\n   </g>\n   <g id=\"line2d_50\">\n    <path d=\"M 34.954394 65.440157 \nL 44.698573 94.134861 \nL 54.442752 104.282859 \nL 64.186931 105.57892 \nL 73.93111 112.563965 \nL 83.675289 112.888802 \nL 93.419468 119.37079 \nL 103.163647 118.737886 \n\" clip-path=\"url(#pb23c2b4ada)\" style=\"fill: none; stroke: #1f77b4; stroke-width: 1.5; stroke-linecap: square\"/>\n   </g>\n   <g id=\"line2d_51\">\n    <path d=\"M 49.633125 94.685512 \nL 69.163125 85.566735 \nL 88.693125 100.720837 \nL 108.223125 91.834575 \n\" clip-path=\"url(#pb23c2b4ada)\" style=\"fill: none; stroke-dasharray: 5.55,2.4; stroke-dashoffset: 0; stroke: #ff7f0e; stroke-width: 1.5\"/>\n   </g>\n   <g id=\"line2d_52\">\n    <path d=\"M 49.633125 18.928759 \nL 69.163125 22.888394 \nL 88.693125 17.053878 \n\" clip-path=\"url(#pb23c2b4ada)\" style=\"fill: none; stroke-dasharray: 9.6,2.4,1.5,2.4; stroke-dashoffset: 0; stroke: #2ca02c; stroke-width: 1.5\"/>\n   </g>\n   <g id=\"line2d_53\">\n    <path d=\"M 34.954394 65.440157 \nL 44.698573 94.134861 \nL 54.442752 104.282859 \nL 64.186931 105.57892 \nL 73.93111 112.563965 \nL 83.675289 112.888802 \nL 93.419468 119.37079 \nL 103.163647 118.737886 \n\" clip-path=\"url(#pb23c2b4ada)\" style=\"fill: none; stroke: #1f77b4; stroke-width: 1.5; stroke-linecap: square\"/>\n   </g>\n   <g id=\"line2d_54\">\n    <path d=\"M 49.633125 94.685512 \nL 69.163125 85.566735 \nL 88.693125 100.720837 \nL 108.223125 91.834575 \n\" clip-path=\"url(#pb23c2b4ada)\" style=\"fill: none; stroke-dasharray: 5.55,2.4; stroke-dashoffset: 0; stroke: #ff7f0e; stroke-width: 1.5\"/>\n   </g>\n   <g id=\"line2d_55\">\n    <path d=\"M 49.633125 18.928759 \nL 69.163125 22.888394 \nL 88.693125 17.053878 \nL 108.223125 19.684308 \n\" clip-path=\"url(#pb23c2b4ada)\" style=\"fill: none; stroke-dasharray: 9.6,2.4,1.5,2.4; stroke-dashoffset: 0; stroke: #2ca02c; stroke-width: 1.5\"/>\n   </g>\n   <g id=\"line2d_56\">\n    <path d=\"M 34.954394 65.440157 \nL 44.698573 94.134861 \nL 54.442752 104.282859 \nL 64.186931 105.57892 \nL 73.93111 112.563965 \nL 83.675289 112.888802 \nL 93.419468 119.37079 \nL 103.163647 118.737886 \nL 112.907826 124.306645 \n\" clip-path=\"url(#pb23c2b4ada)\" style=\"fill: none; stroke: #1f77b4; stroke-width: 1.5; stroke-linecap: square\"/>\n   </g>\n   <g id=\"line2d_57\">\n    <path d=\"M 49.633125 94.685512 \nL 69.163125 85.566735 \nL 88.693125 100.720837 \nL 108.223125 91.834575 \n\" clip-path=\"url(#pb23c2b4ada)\" style=\"fill: none; stroke-dasharray: 5.55,2.4; stroke-dashoffset: 0; stroke: #ff7f0e; stroke-width: 1.5\"/>\n   </g>\n   <g id=\"line2d_58\">\n    <path d=\"M 49.633125 18.928759 \nL 69.163125 22.888394 \nL 88.693125 17.053878 \nL 108.223125 19.684308 \n\" clip-path=\"url(#pb23c2b4ada)\" style=\"fill: none; stroke-dasharray: 9.6,2.4,1.5,2.4; stroke-dashoffset: 0; stroke: #2ca02c; stroke-width: 1.5\"/>\n   </g>\n   <g id=\"line2d_59\">\n    <path d=\"M 34.954394 65.440157 \nL 44.698573 94.134861 \nL 54.442752 104.282859 \nL 64.186931 105.57892 \nL 73.93111 112.563965 \nL 83.675289 112.888802 \nL 93.419468 119.37079 \nL 103.163647 118.737886 \nL 112.907826 124.306645 \nL 122.652006 123.901654 \n\" clip-path=\"url(#pb23c2b4ada)\" style=\"fill: none; stroke: #1f77b4; stroke-width: 1.5; stroke-linecap: square\"/>\n   </g>\n   <g id=\"line2d_60\">\n    <path d=\"M 49.633125 94.685512 \nL 69.163125 85.566735 \nL 88.693125 100.720837 \nL 108.223125 91.834575 \n\" clip-path=\"url(#pb23c2b4ada)\" style=\"fill: none; stroke-dasharray: 5.55,2.4; stroke-dashoffset: 0; stroke: #ff7f0e; stroke-width: 1.5\"/>\n   </g>\n   <g id=\"line2d_61\">\n    <path d=\"M 49.633125 18.928759 \nL 69.163125 22.888394 \nL 88.693125 17.053878 \nL 108.223125 19.684308 \n\" clip-path=\"url(#pb23c2b4ada)\" style=\"fill: none; stroke-dasharray: 9.6,2.4,1.5,2.4; stroke-dashoffset: 0; stroke: #2ca02c; stroke-width: 1.5\"/>\n   </g>\n   <g id=\"line2d_62\">\n    <path d=\"M 34.954394 65.440157 \nL 44.698573 94.134861 \nL 54.442752 104.282859 \nL 64.186931 105.57892 \nL 73.93111 112.563965 \nL 83.675289 112.888802 \nL 93.419468 119.37079 \nL 103.163647 118.737886 \nL 112.907826 124.306645 \nL 122.652006 123.901654 \n\" clip-path=\"url(#pb23c2b4ada)\" style=\"fill: none; stroke: #1f77b4; stroke-width: 1.5; stroke-linecap: square\"/>\n   </g>\n   <g id=\"line2d_63\">\n    <path d=\"M 49.633125 94.685512 \nL 69.163125 85.566735 \nL 88.693125 100.720837 \nL 108.223125 91.834575 \nL 127.753125 103.720757 \n\" clip-path=\"url(#pb23c2b4ada)\" style=\"fill: none; stroke-dasharray: 5.55,2.4; stroke-dashoffset: 0; stroke: #ff7f0e; stroke-width: 1.5\"/>\n   </g>\n   <g id=\"line2d_64\">\n    <path d=\"M 49.633125 18.928759 \nL 69.163125 22.888394 \nL 88.693125 17.053878 \nL 108.223125 19.684308 \n\" clip-path=\"url(#pb23c2b4ada)\" style=\"fill: none; stroke-dasharray: 9.6,2.4,1.5,2.4; stroke-dashoffset: 0; stroke: #2ca02c; stroke-width: 1.5\"/>\n   </g>\n   <g id=\"line2d_65\">\n    <path d=\"M 34.954394 65.440157 \nL 44.698573 94.134861 \nL 54.442752 104.282859 \nL 64.186931 105.57892 \nL 73.93111 112.563965 \nL 83.675289 112.888802 \nL 93.419468 119.37079 \nL 103.163647 118.737886 \nL 112.907826 124.306645 \nL 122.652006 123.901654 \n\" clip-path=\"url(#pb23c2b4ada)\" style=\"fill: none; stroke: #1f77b4; stroke-width: 1.5; stroke-linecap: square\"/>\n   </g>\n   <g id=\"line2d_66\">\n    <path d=\"M 49.633125 94.685512 \nL 69.163125 85.566735 \nL 88.693125 100.720837 \nL 108.223125 91.834575 \nL 127.753125 103.720757 \n\" clip-path=\"url(#pb23c2b4ada)\" style=\"fill: none; stroke-dasharray: 5.55,2.4; stroke-dashoffset: 0; stroke: #ff7f0e; stroke-width: 1.5\"/>\n   </g>\n   <g id=\"line2d_67\">\n    <path d=\"M 49.633125 18.928759 \nL 69.163125 22.888394 \nL 88.693125 17.053878 \nL 108.223125 19.684308 \nL 127.753125 15.137023 \n\" clip-path=\"url(#pb23c2b4ada)\" style=\"fill: none; stroke-dasharray: 9.6,2.4,1.5,2.4; stroke-dashoffset: 0; stroke: #2ca02c; stroke-width: 1.5\"/>\n   </g>\n   <g id=\"line2d_68\">\n    <path d=\"M 34.954394 65.440157 \nL 44.698573 94.134861 \nL 54.442752 104.282859 \nL 64.186931 105.57892 \nL 73.93111 112.563965 \nL 83.675289 112.888802 \nL 93.419468 119.37079 \nL 103.163647 118.737886 \nL 112.907826 124.306645 \nL 122.652006 123.901654 \nL 132.396185 128.984755 \n\" clip-path=\"url(#pb23c2b4ada)\" style=\"fill: none; stroke: #1f77b4; stroke-width: 1.5; stroke-linecap: square\"/>\n   </g>\n   <g id=\"line2d_69\">\n    <path d=\"M 49.633125 94.685512 \nL 69.163125 85.566735 \nL 88.693125 100.720837 \nL 108.223125 91.834575 \nL 127.753125 103.720757 \n\" clip-path=\"url(#pb23c2b4ada)\" style=\"fill: none; stroke-dasharray: 5.55,2.4; stroke-dashoffset: 0; stroke: #ff7f0e; stroke-width: 1.5\"/>\n   </g>\n   <g id=\"line2d_70\">\n    <path d=\"M 49.633125 18.928759 \nL 69.163125 22.888394 \nL 88.693125 17.053878 \nL 108.223125 19.684308 \nL 127.753125 15.137023 \n\" clip-path=\"url(#pb23c2b4ada)\" style=\"fill: none; stroke-dasharray: 9.6,2.4,1.5,2.4; stroke-dashoffset: 0; stroke: #2ca02c; stroke-width: 1.5\"/>\n   </g>\n   <g id=\"line2d_71\">\n    <path d=\"M 34.954394 65.440157 \nL 44.698573 94.134861 \nL 54.442752 104.282859 \nL 64.186931 105.57892 \nL 73.93111 112.563965 \nL 83.675289 112.888802 \nL 93.419468 119.37079 \nL 103.163647 118.737886 \nL 112.907826 124.306645 \nL 122.652006 123.901654 \nL 132.396185 128.984755 \nL 142.140364 128.082016 \n\" clip-path=\"url(#pb23c2b4ada)\" style=\"fill: none; stroke: #1f77b4; stroke-width: 1.5; stroke-linecap: square\"/>\n   </g>\n   <g id=\"line2d_72\">\n    <path d=\"M 49.633125 94.685512 \nL 69.163125 85.566735 \nL 88.693125 100.720837 \nL 108.223125 91.834575 \nL 127.753125 103.720757 \n\" clip-path=\"url(#pb23c2b4ada)\" style=\"fill: none; stroke-dasharray: 5.55,2.4; stroke-dashoffset: 0; stroke: #ff7f0e; stroke-width: 1.5\"/>\n   </g>\n   <g id=\"line2d_73\">\n    <path d=\"M 49.633125 18.928759 \nL 69.163125 22.888394 \nL 88.693125 17.053878 \nL 108.223125 19.684308 \nL 127.753125 15.137023 \n\" clip-path=\"url(#pb23c2b4ada)\" style=\"fill: none; stroke-dasharray: 9.6,2.4,1.5,2.4; stroke-dashoffset: 0; stroke: #2ca02c; stroke-width: 1.5\"/>\n   </g>\n   <g id=\"line2d_74\">\n    <path d=\"M 34.954394 65.440157 \nL 44.698573 94.134861 \nL 54.442752 104.282859 \nL 64.186931 105.57892 \nL 73.93111 112.563965 \nL 83.675289 112.888802 \nL 93.419468 119.37079 \nL 103.163647 118.737886 \nL 112.907826 124.306645 \nL 122.652006 123.901654 \nL 132.396185 128.984755 \nL 142.140364 128.082016 \n\" clip-path=\"url(#pb23c2b4ada)\" style=\"fill: none; stroke: #1f77b4; stroke-width: 1.5; stroke-linecap: square\"/>\n   </g>\n   <g id=\"line2d_75\">\n    <path d=\"M 49.633125 94.685512 \nL 69.163125 85.566735 \nL 88.693125 100.720837 \nL 108.223125 91.834575 \nL 127.753125 103.720757 \nL 147.283125 104.119011 \n\" clip-path=\"url(#pb23c2b4ada)\" style=\"fill: none; stroke-dasharray: 5.55,2.4; stroke-dashoffset: 0; stroke: #ff7f0e; stroke-width: 1.5\"/>\n   </g>\n   <g id=\"line2d_76\">\n    <path d=\"M 49.633125 18.928759 \nL 69.163125 22.888394 \nL 88.693125 17.053878 \nL 108.223125 19.684308 \nL 127.753125 15.137023 \n\" clip-path=\"url(#pb23c2b4ada)\" style=\"fill: none; stroke-dasharray: 9.6,2.4,1.5,2.4; stroke-dashoffset: 0; stroke: #2ca02c; stroke-width: 1.5\"/>\n   </g>\n   <g id=\"line2d_77\">\n    <path d=\"M 34.954394 65.440157 \nL 44.698573 94.134861 \nL 54.442752 104.282859 \nL 64.186931 105.57892 \nL 73.93111 112.563965 \nL 83.675289 112.888802 \nL 93.419468 119.37079 \nL 103.163647 118.737886 \nL 112.907826 124.306645 \nL 122.652006 123.901654 \nL 132.396185 128.984755 \nL 142.140364 128.082016 \n\" clip-path=\"url(#pb23c2b4ada)\" style=\"fill: none; stroke: #1f77b4; stroke-width: 1.5; stroke-linecap: square\"/>\n   </g>\n   <g id=\"line2d_78\">\n    <path d=\"M 49.633125 94.685512 \nL 69.163125 85.566735 \nL 88.693125 100.720837 \nL 108.223125 91.834575 \nL 127.753125 103.720757 \nL 147.283125 104.119011 \n\" clip-path=\"url(#pb23c2b4ada)\" style=\"fill: none; stroke-dasharray: 5.55,2.4; stroke-dashoffset: 0; stroke: #ff7f0e; stroke-width: 1.5\"/>\n   </g>\n   <g id=\"line2d_79\">\n    <path d=\"M 49.633125 18.928759 \nL 69.163125 22.888394 \nL 88.693125 17.053878 \nL 108.223125 19.684308 \nL 127.753125 15.137023 \nL 147.283125 14.227566 \n\" clip-path=\"url(#pb23c2b4ada)\" style=\"fill: none; stroke-dasharray: 9.6,2.4,1.5,2.4; stroke-dashoffset: 0; stroke: #2ca02c; stroke-width: 1.5\"/>\n   </g>\n   <g id=\"line2d_80\">\n    <path d=\"M 34.954394 65.440157 \nL 44.698573 94.134861 \nL 54.442752 104.282859 \nL 64.186931 105.57892 \nL 73.93111 112.563965 \nL 83.675289 112.888802 \nL 93.419468 119.37079 \nL 103.163647 118.737886 \nL 112.907826 124.306645 \nL 122.652006 123.901654 \nL 132.396185 128.984755 \nL 142.140364 128.082016 \nL 151.884543 132.89704 \n\" clip-path=\"url(#pb23c2b4ada)\" style=\"fill: none; stroke: #1f77b4; stroke-width: 1.5; stroke-linecap: square\"/>\n   </g>\n   <g id=\"line2d_81\">\n    <path d=\"M 49.633125 94.685512 \nL 69.163125 85.566735 \nL 88.693125 100.720837 \nL 108.223125 91.834575 \nL 127.753125 103.720757 \nL 147.283125 104.119011 \n\" clip-path=\"url(#pb23c2b4ada)\" style=\"fill: none; stroke-dasharray: 5.55,2.4; stroke-dashoffset: 0; stroke: #ff7f0e; stroke-width: 1.5\"/>\n   </g>\n   <g id=\"line2d_82\">\n    <path d=\"M 49.633125 18.928759 \nL 69.163125 22.888394 \nL 88.693125 17.053878 \nL 108.223125 19.684308 \nL 127.753125 15.137023 \nL 147.283125 14.227566 \n\" clip-path=\"url(#pb23c2b4ada)\" style=\"fill: none; stroke-dasharray: 9.6,2.4,1.5,2.4; stroke-dashoffset: 0; stroke: #2ca02c; stroke-width: 1.5\"/>\n   </g>\n   <g id=\"line2d_83\">\n    <path d=\"M 34.954394 65.440157 \nL 44.698573 94.134861 \nL 54.442752 104.282859 \nL 64.186931 105.57892 \nL 73.93111 112.563965 \nL 83.675289 112.888802 \nL 93.419468 119.37079 \nL 103.163647 118.737886 \nL 112.907826 124.306645 \nL 122.652006 123.901654 \nL 132.396185 128.984755 \nL 142.140364 128.082016 \nL 151.884543 132.89704 \nL 161.628722 131.588102 \n\" clip-path=\"url(#pb23c2b4ada)\" style=\"fill: none; stroke: #1f77b4; stroke-width: 1.5; stroke-linecap: square\"/>\n   </g>\n   <g id=\"line2d_84\">\n    <path d=\"M 49.633125 94.685512 \nL 69.163125 85.566735 \nL 88.693125 100.720837 \nL 108.223125 91.834575 \nL 127.753125 103.720757 \nL 147.283125 104.119011 \n\" clip-path=\"url(#pb23c2b4ada)\" style=\"fill: none; stroke-dasharray: 5.55,2.4; stroke-dashoffset: 0; stroke: #ff7f0e; stroke-width: 1.5\"/>\n   </g>\n   <g id=\"line2d_85\">\n    <path d=\"M 49.633125 18.928759 \nL 69.163125 22.888394 \nL 88.693125 17.053878 \nL 108.223125 19.684308 \nL 127.753125 15.137023 \nL 147.283125 14.227566 \n\" clip-path=\"url(#pb23c2b4ada)\" style=\"fill: none; stroke-dasharray: 9.6,2.4,1.5,2.4; stroke-dashoffset: 0; stroke: #2ca02c; stroke-width: 1.5\"/>\n   </g>\n   <g id=\"line2d_86\">\n    <path d=\"M 34.954394 65.440157 \nL 44.698573 94.134861 \nL 54.442752 104.282859 \nL 64.186931 105.57892 \nL 73.93111 112.563965 \nL 83.675289 112.888802 \nL 93.419468 119.37079 \nL 103.163647 118.737886 \nL 112.907826 124.306645 \nL 122.652006 123.901654 \nL 132.396185 128.984755 \nL 142.140364 128.082016 \nL 151.884543 132.89704 \nL 161.628722 131.588102 \n\" clip-path=\"url(#pb23c2b4ada)\" style=\"fill: none; stroke: #1f77b4; stroke-width: 1.5; stroke-linecap: square\"/>\n   </g>\n   <g id=\"line2d_87\">\n    <path d=\"M 49.633125 94.685512 \nL 69.163125 85.566735 \nL 88.693125 100.720837 \nL 108.223125 91.834575 \nL 127.753125 103.720757 \nL 147.283125 104.119011 \nL 166.813125 103.285541 \n\" clip-path=\"url(#pb23c2b4ada)\" style=\"fill: none; stroke-dasharray: 5.55,2.4; stroke-dashoffset: 0; stroke: #ff7f0e; stroke-width: 1.5\"/>\n   </g>\n   <g id=\"line2d_88\">\n    <path d=\"M 49.633125 18.928759 \nL 69.163125 22.888394 \nL 88.693125 17.053878 \nL 108.223125 19.684308 \nL 127.753125 15.137023 \nL 147.283125 14.227566 \n\" clip-path=\"url(#pb23c2b4ada)\" style=\"fill: none; stroke-dasharray: 9.6,2.4,1.5,2.4; stroke-dashoffset: 0; stroke: #2ca02c; stroke-width: 1.5\"/>\n   </g>\n   <g id=\"line2d_89\">\n    <path d=\"M 34.954394 65.440157 \nL 44.698573 94.134861 \nL 54.442752 104.282859 \nL 64.186931 105.57892 \nL 73.93111 112.563965 \nL 83.675289 112.888802 \nL 93.419468 119.37079 \nL 103.163647 118.737886 \nL 112.907826 124.306645 \nL 122.652006 123.901654 \nL 132.396185 128.984755 \nL 142.140364 128.082016 \nL 151.884543 132.89704 \nL 161.628722 131.588102 \n\" clip-path=\"url(#pb23c2b4ada)\" style=\"fill: none; stroke: #1f77b4; stroke-width: 1.5; stroke-linecap: square\"/>\n   </g>\n   <g id=\"line2d_90\">\n    <path d=\"M 49.633125 94.685512 \nL 69.163125 85.566735 \nL 88.693125 100.720837 \nL 108.223125 91.834575 \nL 127.753125 103.720757 \nL 147.283125 104.119011 \nL 166.813125 103.285541 \n\" clip-path=\"url(#pb23c2b4ada)\" style=\"fill: none; stroke-dasharray: 5.55,2.4; stroke-dashoffset: 0; stroke: #ff7f0e; stroke-width: 1.5\"/>\n   </g>\n   <g id=\"line2d_91\">\n    <path d=\"M 49.633125 18.928759 \nL 69.163125 22.888394 \nL 88.693125 17.053878 \nL 108.223125 19.684308 \nL 127.753125 15.137023 \nL 147.283125 14.227566 \nL 166.813125 14.325507 \n\" clip-path=\"url(#pb23c2b4ada)\" style=\"fill: none; stroke-dasharray: 9.6,2.4,1.5,2.4; stroke-dashoffset: 0; stroke: #2ca02c; stroke-width: 1.5\"/>\n   </g>\n   <g id=\"line2d_92\">\n    <path d=\"M 34.954394 65.440157 \nL 44.698573 94.134861 \nL 54.442752 104.282859 \nL 64.186931 105.57892 \nL 73.93111 112.563965 \nL 83.675289 112.888802 \nL 93.419468 119.37079 \nL 103.163647 118.737886 \nL 112.907826 124.306645 \nL 122.652006 123.901654 \nL 132.396185 128.984755 \nL 142.140364 128.082016 \nL 151.884543 132.89704 \nL 161.628722 131.588102 \nL 171.372901 135.460082 \n\" clip-path=\"url(#pb23c2b4ada)\" style=\"fill: none; stroke: #1f77b4; stroke-width: 1.5; stroke-linecap: square\"/>\n   </g>\n   <g id=\"line2d_93\">\n    <path d=\"M 49.633125 94.685512 \nL 69.163125 85.566735 \nL 88.693125 100.720837 \nL 108.223125 91.834575 \nL 127.753125 103.720757 \nL 147.283125 104.119011 \nL 166.813125 103.285541 \n\" clip-path=\"url(#pb23c2b4ada)\" style=\"fill: none; stroke-dasharray: 5.55,2.4; stroke-dashoffset: 0; stroke: #ff7f0e; stroke-width: 1.5\"/>\n   </g>\n   <g id=\"line2d_94\">\n    <path d=\"M 49.633125 18.928759 \nL 69.163125 22.888394 \nL 88.693125 17.053878 \nL 108.223125 19.684308 \nL 127.753125 15.137023 \nL 147.283125 14.227566 \nL 166.813125 14.325507 \n\" clip-path=\"url(#pb23c2b4ada)\" style=\"fill: none; stroke-dasharray: 9.6,2.4,1.5,2.4; stroke-dashoffset: 0; stroke: #2ca02c; stroke-width: 1.5\"/>\n   </g>\n   <g id=\"line2d_95\">\n    <path d=\"M 34.954394 65.440157 \nL 44.698573 94.134861 \nL 54.442752 104.282859 \nL 64.186931 105.57892 \nL 73.93111 112.563965 \nL 83.675289 112.888802 \nL 93.419468 119.37079 \nL 103.163647 118.737886 \nL 112.907826 124.306645 \nL 122.652006 123.901654 \nL 132.396185 128.984755 \nL 142.140364 128.082016 \nL 151.884543 132.89704 \nL 161.628722 131.588102 \nL 171.372901 135.460082 \nL 181.11708 134.54962 \n\" clip-path=\"url(#pb23c2b4ada)\" style=\"fill: none; stroke: #1f77b4; stroke-width: 1.5; stroke-linecap: square\"/>\n   </g>\n   <g id=\"line2d_96\">\n    <path d=\"M 49.633125 94.685512 \nL 69.163125 85.566735 \nL 88.693125 100.720837 \nL 108.223125 91.834575 \nL 127.753125 103.720757 \nL 147.283125 104.119011 \nL 166.813125 103.285541 \n\" clip-path=\"url(#pb23c2b4ada)\" style=\"fill: none; stroke-dasharray: 5.55,2.4; stroke-dashoffset: 0; stroke: #ff7f0e; stroke-width: 1.5\"/>\n   </g>\n   <g id=\"line2d_97\">\n    <path d=\"M 49.633125 18.928759 \nL 69.163125 22.888394 \nL 88.693125 17.053878 \nL 108.223125 19.684308 \nL 127.753125 15.137023 \nL 147.283125 14.227566 \nL 166.813125 14.325507 \n\" clip-path=\"url(#pb23c2b4ada)\" style=\"fill: none; stroke-dasharray: 9.6,2.4,1.5,2.4; stroke-dashoffset: 0; stroke: #2ca02c; stroke-width: 1.5\"/>\n   </g>\n   <g id=\"line2d_98\">\n    <path d=\"M 34.954394 65.440157 \nL 44.698573 94.134861 \nL 54.442752 104.282859 \nL 64.186931 105.57892 \nL 73.93111 112.563965 \nL 83.675289 112.888802 \nL 93.419468 119.37079 \nL 103.163647 118.737886 \nL 112.907826 124.306645 \nL 122.652006 123.901654 \nL 132.396185 128.984755 \nL 142.140364 128.082016 \nL 151.884543 132.89704 \nL 161.628722 131.588102 \nL 171.372901 135.460082 \nL 181.11708 134.54962 \n\" clip-path=\"url(#pb23c2b4ada)\" style=\"fill: none; stroke: #1f77b4; stroke-width: 1.5; stroke-linecap: square\"/>\n   </g>\n   <g id=\"line2d_99\">\n    <path d=\"M 49.633125 94.685512 \nL 69.163125 85.566735 \nL 88.693125 100.720837 \nL 108.223125 91.834575 \nL 127.753125 103.720757 \nL 147.283125 104.119011 \nL 166.813125 103.285541 \nL 186.343125 100.396628 \n\" clip-path=\"url(#pb23c2b4ada)\" style=\"fill: none; stroke-dasharray: 5.55,2.4; stroke-dashoffset: 0; stroke: #ff7f0e; stroke-width: 1.5\"/>\n   </g>\n   <g id=\"line2d_100\">\n    <path d=\"M 49.633125 18.928759 \nL 69.163125 22.888394 \nL 88.693125 17.053878 \nL 108.223125 19.684308 \nL 127.753125 15.137023 \nL 147.283125 14.227566 \nL 166.813125 14.325507 \n\" clip-path=\"url(#pb23c2b4ada)\" style=\"fill: none; stroke-dasharray: 9.6,2.4,1.5,2.4; stroke-dashoffset: 0; stroke: #2ca02c; stroke-width: 1.5\"/>\n   </g>\n   <g id=\"line2d_101\">\n    <path d=\"M 34.954394 65.440157 \nL 44.698573 94.134861 \nL 54.442752 104.282859 \nL 64.186931 105.57892 \nL 73.93111 112.563965 \nL 83.675289 112.888802 \nL 93.419468 119.37079 \nL 103.163647 118.737886 \nL 112.907826 124.306645 \nL 122.652006 123.901654 \nL 132.396185 128.984755 \nL 142.140364 128.082016 \nL 151.884543 132.89704 \nL 161.628722 131.588102 \nL 171.372901 135.460082 \nL 181.11708 134.54962 \n\" clip-path=\"url(#pb23c2b4ada)\" style=\"fill: none; stroke: #1f77b4; stroke-width: 1.5; stroke-linecap: square\"/>\n   </g>\n   <g id=\"line2d_102\">\n    <path d=\"M 49.633125 94.685512 \nL 69.163125 85.566735 \nL 88.693125 100.720837 \nL 108.223125 91.834575 \nL 127.753125 103.720757 \nL 147.283125 104.119011 \nL 166.813125 103.285541 \nL 186.343125 100.396628 \n\" clip-path=\"url(#pb23c2b4ada)\" style=\"fill: none; stroke-dasharray: 5.55,2.4; stroke-dashoffset: 0; stroke: #ff7f0e; stroke-width: 1.5\"/>\n   </g>\n   <g id=\"line2d_103\">\n    <path d=\"M 49.633125 18.928759 \nL 69.163125 22.888394 \nL 88.693125 17.053878 \nL 108.223125 19.684308 \nL 127.753125 15.137023 \nL 147.283125 14.227566 \nL 166.813125 14.325507 \nL 186.343125 14.77324 \n\" clip-path=\"url(#pb23c2b4ada)\" style=\"fill: none; stroke-dasharray: 9.6,2.4,1.5,2.4; stroke-dashoffset: 0; stroke: #2ca02c; stroke-width: 1.5\"/>\n   </g>\n   <g id=\"line2d_104\">\n    <path d=\"M 34.954394 65.440157 \nL 44.698573 94.134861 \nL 54.442752 104.282859 \nL 64.186931 105.57892 \nL 73.93111 112.563965 \nL 83.675289 112.888802 \nL 93.419468 119.37079 \nL 103.163647 118.737886 \nL 112.907826 124.306645 \nL 122.652006 123.901654 \nL 132.396185 128.984755 \nL 142.140364 128.082016 \nL 151.884543 132.89704 \nL 161.628722 131.588102 \nL 171.372901 135.460082 \nL 181.11708 134.54962 \nL 190.861259 138.282051 \n\" clip-path=\"url(#pb23c2b4ada)\" style=\"fill: none; stroke: #1f77b4; stroke-width: 1.5; stroke-linecap: square\"/>\n   </g>\n   <g id=\"line2d_105\">\n    <path d=\"M 49.633125 94.685512 \nL 69.163125 85.566735 \nL 88.693125 100.720837 \nL 108.223125 91.834575 \nL 127.753125 103.720757 \nL 147.283125 104.119011 \nL 166.813125 103.285541 \nL 186.343125 100.396628 \n\" clip-path=\"url(#pb23c2b4ada)\" style=\"fill: none; stroke-dasharray: 5.55,2.4; stroke-dashoffset: 0; stroke: #ff7f0e; stroke-width: 1.5\"/>\n   </g>\n   <g id=\"line2d_106\">\n    <path d=\"M 49.633125 18.928759 \nL 69.163125 22.888394 \nL 88.693125 17.053878 \nL 108.223125 19.684308 \nL 127.753125 15.137023 \nL 147.283125 14.227566 \nL 166.813125 14.325507 \nL 186.343125 14.77324 \n\" clip-path=\"url(#pb23c2b4ada)\" style=\"fill: none; stroke-dasharray: 9.6,2.4,1.5,2.4; stroke-dashoffset: 0; stroke: #2ca02c; stroke-width: 1.5\"/>\n   </g>\n   <g id=\"line2d_107\">\n    <path d=\"M 34.954394 65.440157 \nL 44.698573 94.134861 \nL 54.442752 104.282859 \nL 64.186931 105.57892 \nL 73.93111 112.563965 \nL 83.675289 112.888802 \nL 93.419468 119.37079 \nL 103.163647 118.737886 \nL 112.907826 124.306645 \nL 122.652006 123.901654 \nL 132.396185 128.984755 \nL 142.140364 128.082016 \nL 151.884543 132.89704 \nL 161.628722 131.588102 \nL 171.372901 135.460082 \nL 181.11708 134.54962 \nL 190.861259 138.282051 \nL 200.605438 136.693176 \n\" clip-path=\"url(#pb23c2b4ada)\" style=\"fill: none; stroke: #1f77b4; stroke-width: 1.5; stroke-linecap: square\"/>\n   </g>\n   <g id=\"line2d_108\">\n    <path d=\"M 49.633125 94.685512 \nL 69.163125 85.566735 \nL 88.693125 100.720837 \nL 108.223125 91.834575 \nL 127.753125 103.720757 \nL 147.283125 104.119011 \nL 166.813125 103.285541 \nL 186.343125 100.396628 \n\" clip-path=\"url(#pb23c2b4ada)\" style=\"fill: none; stroke-dasharray: 5.55,2.4; stroke-dashoffset: 0; stroke: #ff7f0e; stroke-width: 1.5\"/>\n   </g>\n   <g id=\"line2d_109\">\n    <path d=\"M 49.633125 18.928759 \nL 69.163125 22.888394 \nL 88.693125 17.053878 \nL 108.223125 19.684308 \nL 127.753125 15.137023 \nL 147.283125 14.227566 \nL 166.813125 14.325507 \nL 186.343125 14.77324 \n\" clip-path=\"url(#pb23c2b4ada)\" style=\"fill: none; stroke-dasharray: 9.6,2.4,1.5,2.4; stroke-dashoffset: 0; stroke: #2ca02c; stroke-width: 1.5\"/>\n   </g>\n   <g id=\"line2d_110\">\n    <path d=\"M 34.954394 65.440157 \nL 44.698573 94.134861 \nL 54.442752 104.282859 \nL 64.186931 105.57892 \nL 73.93111 112.563965 \nL 83.675289 112.888802 \nL 93.419468 119.37079 \nL 103.163647 118.737886 \nL 112.907826 124.306645 \nL 122.652006 123.901654 \nL 132.396185 128.984755 \nL 142.140364 128.082016 \nL 151.884543 132.89704 \nL 161.628722 131.588102 \nL 171.372901 135.460082 \nL 181.11708 134.54962 \nL 190.861259 138.282051 \nL 200.605438 136.693176 \n\" clip-path=\"url(#pb23c2b4ada)\" style=\"fill: none; stroke: #1f77b4; stroke-width: 1.5; stroke-linecap: square\"/>\n   </g>\n   <g id=\"line2d_111\">\n    <path d=\"M 49.633125 94.685512 \nL 69.163125 85.566735 \nL 88.693125 100.720837 \nL 108.223125 91.834575 \nL 127.753125 103.720757 \nL 147.283125 104.119011 \nL 166.813125 103.285541 \nL 186.343125 100.396628 \nL 205.873125 101.971546 \n\" clip-path=\"url(#pb23c2b4ada)\" style=\"fill: none; stroke-dasharray: 5.55,2.4; stroke-dashoffset: 0; stroke: #ff7f0e; stroke-width: 1.5\"/>\n   </g>\n   <g id=\"line2d_112\">\n    <path d=\"M 49.633125 18.928759 \nL 69.163125 22.888394 \nL 88.693125 17.053878 \nL 108.223125 19.684308 \nL 127.753125 15.137023 \nL 147.283125 14.227566 \nL 166.813125 14.325507 \nL 186.343125 14.77324 \n\" clip-path=\"url(#pb23c2b4ada)\" style=\"fill: none; stroke-dasharray: 9.6,2.4,1.5,2.4; stroke-dashoffset: 0; stroke: #2ca02c; stroke-width: 1.5\"/>\n   </g>\n   <g id=\"line2d_113\">\n    <path d=\"M 34.954394 65.440157 \nL 44.698573 94.134861 \nL 54.442752 104.282859 \nL 64.186931 105.57892 \nL 73.93111 112.563965 \nL 83.675289 112.888802 \nL 93.419468 119.37079 \nL 103.163647 118.737886 \nL 112.907826 124.306645 \nL 122.652006 123.901654 \nL 132.396185 128.984755 \nL 142.140364 128.082016 \nL 151.884543 132.89704 \nL 161.628722 131.588102 \nL 171.372901 135.460082 \nL 181.11708 134.54962 \nL 190.861259 138.282051 \nL 200.605438 136.693176 \n\" clip-path=\"url(#pb23c2b4ada)\" style=\"fill: none; stroke: #1f77b4; stroke-width: 1.5; stroke-linecap: square\"/>\n   </g>\n   <g id=\"line2d_114\">\n    <path d=\"M 49.633125 94.685512 \nL 69.163125 85.566735 \nL 88.693125 100.720837 \nL 108.223125 91.834575 \nL 127.753125 103.720757 \nL 147.283125 104.119011 \nL 166.813125 103.285541 \nL 186.343125 100.396628 \nL 205.873125 101.971546 \n\" clip-path=\"url(#pb23c2b4ada)\" style=\"fill: none; stroke-dasharray: 5.55,2.4; stroke-dashoffset: 0; stroke: #ff7f0e; stroke-width: 1.5\"/>\n   </g>\n   <g id=\"line2d_115\">\n    <path d=\"M 49.633125 18.928759 \nL 69.163125 22.888394 \nL 88.693125 17.053878 \nL 108.223125 19.684308 \nL 127.753125 15.137023 \nL 147.283125 14.227566 \nL 166.813125 14.325507 \nL 186.343125 14.77324 \nL 205.873125 13.5 \n\" clip-path=\"url(#pb23c2b4ada)\" style=\"fill: none; stroke-dasharray: 9.6,2.4,1.5,2.4; stroke-dashoffset: 0; stroke: #2ca02c; stroke-width: 1.5\"/>\n   </g>\n   <g id=\"line2d_116\">\n    <path d=\"M 34.954394 65.440157 \nL 44.698573 94.134861 \nL 54.442752 104.282859 \nL 64.186931 105.57892 \nL 73.93111 112.563965 \nL 83.675289 112.888802 \nL 93.419468 119.37079 \nL 103.163647 118.737886 \nL 112.907826 124.306645 \nL 122.652006 123.901654 \nL 132.396185 128.984755 \nL 142.140364 128.082016 \nL 151.884543 132.89704 \nL 161.628722 131.588102 \nL 171.372901 135.460082 \nL 181.11708 134.54962 \nL 190.861259 138.282051 \nL 200.605438 136.693176 \nL 210.349618 139.5 \n\" clip-path=\"url(#pb23c2b4ada)\" style=\"fill: none; stroke: #1f77b4; stroke-width: 1.5; stroke-linecap: square\"/>\n   </g>\n   <g id=\"line2d_117\">\n    <path d=\"M 49.633125 94.685512 \nL 69.163125 85.566735 \nL 88.693125 100.720837 \nL 108.223125 91.834575 \nL 127.753125 103.720757 \nL 147.283125 104.119011 \nL 166.813125 103.285541 \nL 186.343125 100.396628 \nL 205.873125 101.971546 \n\" clip-path=\"url(#pb23c2b4ada)\" style=\"fill: none; stroke-dasharray: 5.55,2.4; stroke-dashoffset: 0; stroke: #ff7f0e; stroke-width: 1.5\"/>\n   </g>\n   <g id=\"line2d_118\">\n    <path d=\"M 49.633125 18.928759 \nL 69.163125 22.888394 \nL 88.693125 17.053878 \nL 108.223125 19.684308 \nL 127.753125 15.137023 \nL 147.283125 14.227566 \nL 166.813125 14.325507 \nL 186.343125 14.77324 \nL 205.873125 13.5 \n\" clip-path=\"url(#pb23c2b4ada)\" style=\"fill: none; stroke-dasharray: 9.6,2.4,1.5,2.4; stroke-dashoffset: 0; stroke: #2ca02c; stroke-width: 1.5\"/>\n   </g>\n   <g id=\"line2d_119\">\n    <path d=\"M 34.954394 65.440157 \nL 44.698573 94.134861 \nL 54.442752 104.282859 \nL 64.186931 105.57892 \nL 73.93111 112.563965 \nL 83.675289 112.888802 \nL 93.419468 119.37079 \nL 103.163647 118.737886 \nL 112.907826 124.306645 \nL 122.652006 123.901654 \nL 132.396185 128.984755 \nL 142.140364 128.082016 \nL 151.884543 132.89704 \nL 161.628722 131.588102 \nL 171.372901 135.460082 \nL 181.11708 134.54962 \nL 190.861259 138.282051 \nL 200.605438 136.693176 \nL 210.349618 139.5 \nL 220.093797 138.631866 \n\" clip-path=\"url(#pb23c2b4ada)\" style=\"fill: none; stroke: #1f77b4; stroke-width: 1.5; stroke-linecap: square\"/>\n   </g>\n   <g id=\"line2d_120\">\n    <path d=\"M 49.633125 94.685512 \nL 69.163125 85.566735 \nL 88.693125 100.720837 \nL 108.223125 91.834575 \nL 127.753125 103.720757 \nL 147.283125 104.119011 \nL 166.813125 103.285541 \nL 186.343125 100.396628 \nL 205.873125 101.971546 \n\" clip-path=\"url(#pb23c2b4ada)\" style=\"fill: none; stroke-dasharray: 5.55,2.4; stroke-dashoffset: 0; stroke: #ff7f0e; stroke-width: 1.5\"/>\n   </g>\n   <g id=\"line2d_121\">\n    <path d=\"M 49.633125 18.928759 \nL 69.163125 22.888394 \nL 88.693125 17.053878 \nL 108.223125 19.684308 \nL 127.753125 15.137023 \nL 147.283125 14.227566 \nL 166.813125 14.325507 \nL 186.343125 14.77324 \nL 205.873125 13.5 \n\" clip-path=\"url(#pb23c2b4ada)\" style=\"fill: none; stroke-dasharray: 9.6,2.4,1.5,2.4; stroke-dashoffset: 0; stroke: #2ca02c; stroke-width: 1.5\"/>\n   </g>\n   <g id=\"line2d_122\">\n    <path d=\"M 34.954394 65.440157 \nL 44.698573 94.134861 \nL 54.442752 104.282859 \nL 64.186931 105.57892 \nL 73.93111 112.563965 \nL 83.675289 112.888802 \nL 93.419468 119.37079 \nL 103.163647 118.737886 \nL 112.907826 124.306645 \nL 122.652006 123.901654 \nL 132.396185 128.984755 \nL 142.140364 128.082016 \nL 151.884543 132.89704 \nL 161.628722 131.588102 \nL 171.372901 135.460082 \nL 181.11708 134.54962 \nL 190.861259 138.282051 \nL 200.605438 136.693176 \nL 210.349618 139.5 \nL 220.093797 138.631866 \n\" clip-path=\"url(#pb23c2b4ada)\" style=\"fill: none; stroke: #1f77b4; stroke-width: 1.5; stroke-linecap: square\"/>\n   </g>\n   <g id=\"line2d_123\">\n    <path d=\"M 49.633125 94.685512 \nL 69.163125 85.566735 \nL 88.693125 100.720837 \nL 108.223125 91.834575 \nL 127.753125 103.720757 \nL 147.283125 104.119011 \nL 166.813125 103.285541 \nL 186.343125 100.396628 \nL 205.873125 101.971546 \nL 225.403125 84.581291 \n\" clip-path=\"url(#pb23c2b4ada)\" style=\"fill: none; stroke-dasharray: 5.55,2.4; stroke-dashoffset: 0; stroke: #ff7f0e; stroke-width: 1.5\"/>\n   </g>\n   <g id=\"line2d_124\">\n    <path d=\"M 49.633125 18.928759 \nL 69.163125 22.888394 \nL 88.693125 17.053878 \nL 108.223125 19.684308 \nL 127.753125 15.137023 \nL 147.283125 14.227566 \nL 166.813125 14.325507 \nL 186.343125 14.77324 \nL 205.873125 13.5 \n\" clip-path=\"url(#pb23c2b4ada)\" style=\"fill: none; stroke-dasharray: 9.6,2.4,1.5,2.4; stroke-dashoffset: 0; stroke: #2ca02c; stroke-width: 1.5\"/>\n   </g>\n   <g id=\"line2d_125\">\n    <path d=\"M 34.954394 65.440157 \nL 44.698573 94.134861 \nL 54.442752 104.282859 \nL 64.186931 105.57892 \nL 73.93111 112.563965 \nL 83.675289 112.888802 \nL 93.419468 119.37079 \nL 103.163647 118.737886 \nL 112.907826 124.306645 \nL 122.652006 123.901654 \nL 132.396185 128.984755 \nL 142.140364 128.082016 \nL 151.884543 132.89704 \nL 161.628722 131.588102 \nL 171.372901 135.460082 \nL 181.11708 134.54962 \nL 190.861259 138.282051 \nL 200.605438 136.693176 \nL 210.349618 139.5 \nL 220.093797 138.631866 \n\" clip-path=\"url(#pb23c2b4ada)\" style=\"fill: none; stroke: #1f77b4; stroke-width: 1.5; stroke-linecap: square\"/>\n   </g>\n   <g id=\"line2d_126\">\n    <path d=\"M 49.633125 94.685512 \nL 69.163125 85.566735 \nL 88.693125 100.720837 \nL 108.223125 91.834575 \nL 127.753125 103.720757 \nL 147.283125 104.119011 \nL 166.813125 103.285541 \nL 186.343125 100.396628 \nL 205.873125 101.971546 \nL 225.403125 84.581291 \n\" clip-path=\"url(#pb23c2b4ada)\" style=\"fill: none; stroke-dasharray: 5.55,2.4; stroke-dashoffset: 0; stroke: #ff7f0e; stroke-width: 1.5\"/>\n   </g>\n   <g id=\"line2d_127\">\n    <path d=\"M 49.633125 18.928759 \nL 69.163125 22.888394 \nL 88.693125 17.053878 \nL 108.223125 19.684308 \nL 127.753125 15.137023 \nL 147.283125 14.227566 \nL 166.813125 14.325507 \nL 186.343125 14.77324 \nL 205.873125 13.5 \nL 225.403125 16.89997 \n\" clip-path=\"url(#pb23c2b4ada)\" style=\"fill: none; stroke-dasharray: 9.6,2.4,1.5,2.4; stroke-dashoffset: 0; stroke: #2ca02c; stroke-width: 1.5\"/>\n   </g>\n   <g id=\"patch_3\">\n    <path d=\"M 30.103125 145.8 \nL 30.103125 7.2 \n\" style=\"fill: none; stroke: #000000; stroke-width: 0.8; stroke-linejoin: miter; stroke-linecap: square\"/>\n   </g>\n   <g id=\"patch_4\">\n    <path d=\"M 225.403125 145.8 \nL 225.403125 7.2 \n\" style=\"fill: none; stroke: #000000; stroke-width: 0.8; stroke-linejoin: miter; stroke-linecap: square\"/>\n   </g>\n   <g id=\"patch_5\">\n    <path d=\"M 30.103125 145.8 \nL 225.403125 145.8 \n\" style=\"fill: none; stroke: #000000; stroke-width: 0.8; stroke-linejoin: miter; stroke-linecap: square\"/>\n   </g>\n   <g id=\"patch_6\">\n    <path d=\"M 30.103125 7.2 \nL 225.403125 7.2 \n\" style=\"fill: none; stroke: #000000; stroke-width: 0.8; stroke-linejoin: miter; stroke-linecap: square\"/>\n   </g>\n   <g id=\"legend_1\">\n    <g id=\"patch_7\">\n     <path d=\"M 138.8125 100.434375 \nL 218.403125 100.434375 \nQ 220.403125 100.434375 220.403125 98.434375 \nL 220.403125 54.565625 \nQ 220.403125 52.565625 218.403125 52.565625 \nL 138.8125 52.565625 \nQ 136.8125 52.565625 136.8125 54.565625 \nL 136.8125 98.434375 \nQ 136.8125 100.434375 138.8125 100.434375 \nz\n\" style=\"fill: #ffffff; opacity: 0.8; stroke: #cccccc; stroke-linejoin: miter\"/>\n    </g>\n    <g id=\"line2d_128\">\n     <path d=\"M 140.8125 60.664063 \nL 150.8125 60.664063 \nL 160.8125 60.664063 \n\" style=\"fill: none; stroke: #1f77b4; stroke-width: 1.5; stroke-linecap: square\"/>\n    </g>\n    <g id=\"text_13\">\n     <!-- train_loss -->\n     <g transform=\"translate(168.8125 64.164063) scale(0.1 -0.1)\">\n      <defs>\n       <path id=\"DejaVuSans-74\" d=\"M 1172 4494 \nL 1172 3500 \nL 2356 3500 \nL 2356 3053 \nL 1172 3053 \nL 1172 1153 \nQ 1172 725 1289 603 \nQ 1406 481 1766 481 \nL 2356 481 \nL 2356 0 \nL 1766 0 \nQ 1100 0 847 248 \nQ 594 497 594 1153 \nL 594 3053 \nL 172 3053 \nL 172 3500 \nL 594 3500 \nL 594 4494 \nL 1172 4494 \nz\n\" transform=\"scale(0.015625)\"/>\n       <path id=\"DejaVuSans-72\" d=\"M 2631 2963 \nQ 2534 3019 2420 3045 \nQ 2306 3072 2169 3072 \nQ 1681 3072 1420 2755 \nQ 1159 2438 1159 1844 \nL 1159 0 \nL 581 0 \nL 581 3500 \nL 1159 3500 \nL 1159 2956 \nQ 1341 3275 1631 3429 \nQ 1922 3584 2338 3584 \nQ 2397 3584 2469 3576 \nQ 2541 3569 2628 3553 \nL 2631 2963 \nz\n\" transform=\"scale(0.015625)\"/>\n       <path id=\"DejaVuSans-61\" d=\"M 2194 1759 \nQ 1497 1759 1228 1600 \nQ 959 1441 959 1056 \nQ 959 750 1161 570 \nQ 1363 391 1709 391 \nQ 2188 391 2477 730 \nQ 2766 1069 2766 1631 \nL 2766 1759 \nL 2194 1759 \nz\nM 3341 1997 \nL 3341 0 \nL 2766 0 \nL 2766 531 \nQ 2569 213 2275 61 \nQ 1981 -91 1556 -91 \nQ 1019 -91 701 211 \nQ 384 513 384 1019 \nQ 384 1609 779 1909 \nQ 1175 2209 1959 2209 \nL 2766 2209 \nL 2766 2266 \nQ 2766 2663 2505 2880 \nQ 2244 3097 1772 3097 \nQ 1472 3097 1187 3025 \nQ 903 2953 641 2809 \nL 641 3341 \nQ 956 3463 1253 3523 \nQ 1550 3584 1831 3584 \nQ 2591 3584 2966 3190 \nQ 3341 2797 3341 1997 \nz\n\" transform=\"scale(0.015625)\"/>\n       <path id=\"DejaVuSans-69\" d=\"M 603 3500 \nL 1178 3500 \nL 1178 0 \nL 603 0 \nL 603 3500 \nz\nM 603 4863 \nL 1178 4863 \nL 1178 4134 \nL 603 4134 \nL 603 4863 \nz\n\" transform=\"scale(0.015625)\"/>\n       <path id=\"DejaVuSans-6e\" d=\"M 3513 2113 \nL 3513 0 \nL 2938 0 \nL 2938 2094 \nQ 2938 2591 2744 2837 \nQ 2550 3084 2163 3084 \nQ 1697 3084 1428 2787 \nQ 1159 2491 1159 1978 \nL 1159 0 \nL 581 0 \nL 581 3500 \nL 1159 3500 \nL 1159 2956 \nQ 1366 3272 1645 3428 \nQ 1925 3584 2291 3584 \nQ 2894 3584 3203 3211 \nQ 3513 2838 3513 2113 \nz\n\" transform=\"scale(0.015625)\"/>\n       <path id=\"DejaVuSans-5f\" d=\"M 3263 -1063 \nL 3263 -1509 \nL -63 -1509 \nL -63 -1063 \nL 3263 -1063 \nz\n\" transform=\"scale(0.015625)\"/>\n       <path id=\"DejaVuSans-6c\" d=\"M 603 4863 \nL 1178 4863 \nL 1178 0 \nL 603 0 \nL 603 4863 \nz\n\" transform=\"scale(0.015625)\"/>\n       <path id=\"DejaVuSans-73\" d=\"M 2834 3397 \nL 2834 2853 \nQ 2591 2978 2328 3040 \nQ 2066 3103 1784 3103 \nQ 1356 3103 1142 2972 \nQ 928 2841 928 2578 \nQ 928 2378 1081 2264 \nQ 1234 2150 1697 2047 \nL 1894 2003 \nQ 2506 1872 2764 1633 \nQ 3022 1394 3022 966 \nQ 3022 478 2636 193 \nQ 2250 -91 1575 -91 \nQ 1294 -91 989 -36 \nQ 684 19 347 128 \nL 347 722 \nQ 666 556 975 473 \nQ 1284 391 1588 391 \nQ 1994 391 2212 530 \nQ 2431 669 2431 922 \nQ 2431 1156 2273 1281 \nQ 2116 1406 1581 1522 \nL 1381 1569 \nQ 847 1681 609 1914 \nQ 372 2147 372 2553 \nQ 372 3047 722 3315 \nQ 1072 3584 1716 3584 \nQ 2034 3584 2315 3537 \nQ 2597 3491 2834 3397 \nz\n\" transform=\"scale(0.015625)\"/>\n      </defs>\n      <use xlink:href=\"#DejaVuSans-74\"/>\n      <use xlink:href=\"#DejaVuSans-72\" x=\"39.208984\"/>\n      <use xlink:href=\"#DejaVuSans-61\" x=\"80.322266\"/>\n      <use xlink:href=\"#DejaVuSans-69\" x=\"141.601562\"/>\n      <use xlink:href=\"#DejaVuSans-6e\" x=\"169.384766\"/>\n      <use xlink:href=\"#DejaVuSans-5f\" x=\"232.763672\"/>\n      <use xlink:href=\"#DejaVuSans-6c\" x=\"282.763672\"/>\n      <use xlink:href=\"#DejaVuSans-6f\" x=\"310.546875\"/>\n      <use xlink:href=\"#DejaVuSans-73\" x=\"371.728516\"/>\n      <use xlink:href=\"#DejaVuSans-73\" x=\"423.828125\"/>\n     </g>\n    </g>\n    <g id=\"line2d_129\">\n     <path d=\"M 140.8125 75.620313 \nL 150.8125 75.620313 \nL 160.8125 75.620313 \n\" style=\"fill: none; stroke-dasharray: 5.55,2.4; stroke-dashoffset: 0; stroke: #ff7f0e; stroke-width: 1.5\"/>\n    </g>\n    <g id=\"text_14\">\n     <!-- val_loss -->\n     <g transform=\"translate(168.8125 79.120313) scale(0.1 -0.1)\">\n      <defs>\n       <path id=\"DejaVuSans-76\" d=\"M 191 3500 \nL 800 3500 \nL 1894 563 \nL 2988 3500 \nL 3597 3500 \nL 2284 0 \nL 1503 0 \nL 191 3500 \nz\n\" transform=\"scale(0.015625)\"/>\n      </defs>\n      <use xlink:href=\"#DejaVuSans-76\"/>\n      <use xlink:href=\"#DejaVuSans-61\" x=\"59.179688\"/>\n      <use xlink:href=\"#DejaVuSans-6c\" x=\"120.458984\"/>\n      <use xlink:href=\"#DejaVuSans-5f\" x=\"148.242188\"/>\n      <use xlink:href=\"#DejaVuSans-6c\" x=\"198.242188\"/>\n      <use xlink:href=\"#DejaVuSans-6f\" x=\"226.025391\"/>\n      <use xlink:href=\"#DejaVuSans-73\" x=\"287.207031\"/>\n      <use xlink:href=\"#DejaVuSans-73\" x=\"339.306641\"/>\n     </g>\n    </g>\n    <g id=\"line2d_130\">\n     <path d=\"M 140.8125 90.576563 \nL 150.8125 90.576563 \nL 160.8125 90.576563 \n\" style=\"fill: none; stroke-dasharray: 9.6,2.4,1.5,2.4; stroke-dashoffset: 0; stroke: #2ca02c; stroke-width: 1.5\"/>\n    </g>\n    <g id=\"text_15\">\n     <!-- val_acc -->\n     <g transform=\"translate(168.8125 94.076563) scale(0.1 -0.1)\">\n      <use xlink:href=\"#DejaVuSans-76\"/>\n      <use xlink:href=\"#DejaVuSans-61\" x=\"59.179688\"/>\n      <use xlink:href=\"#DejaVuSans-6c\" x=\"120.458984\"/>\n      <use xlink:href=\"#DejaVuSans-5f\" x=\"148.242188\"/>\n      <use xlink:href=\"#DejaVuSans-61\" x=\"198.242188\"/>\n      <use xlink:href=\"#DejaVuSans-63\" x=\"259.521484\"/>\n      <use xlink:href=\"#DejaVuSans-63\" x=\"314.501953\"/>\n     </g>\n    </g>\n   </g>\n  </g>\n </g>\n <defs>\n  <clipPath id=\"pb23c2b4ada\">\n   <rect x=\"30.103125\" y=\"7.2\" width=\"195.3\" height=\"138.6\"/>\n  </clipPath>\n </defs>\n</svg>\n"
          },
          "metadata": {}
        }
      ]
    },
    {
      "cell_type": "markdown",
      "source": [
        "## 8.6.5. ResNeXt"
      ],
      "metadata": {
        "id": "hyZ6TflYXjWT"
      }
    },
    {
      "cell_type": "code",
      "source": [
        "class ResNeXtBlock(nn.Module):  #@save\n",
        "    \"\"\"The ResNeXt block.\"\"\"\n",
        "    def __init__(self, num_channels, groups, bot_mul, use_1x1conv=False,\n",
        "                 strides=1):\n",
        "        super().__init__()\n",
        "        bot_channels = int(round(num_channels * bot_mul))\n",
        "        self.conv1 = nn.LazyConv2d(bot_channels, kernel_size=1, stride=1)\n",
        "        self.conv2 = nn.LazyConv2d(bot_channels, kernel_size=3,\n",
        "                                   stride=strides, padding=1,\n",
        "                                   groups=bot_channels//groups)\n",
        "        self.conv3 = nn.LazyConv2d(num_channels, kernel_size=1, stride=1)\n",
        "        self.bn1 = nn.LazyBatchNorm2d()\n",
        "        self.bn2 = nn.LazyBatchNorm2d()\n",
        "        self.bn3 = nn.LazyBatchNorm2d()\n",
        "        if use_1x1conv:\n",
        "            self.conv4 = nn.LazyConv2d(num_channels, kernel_size=1,\n",
        "                                       stride=strides)\n",
        "            self.bn4 = nn.LazyBatchNorm2d()\n",
        "        else:\n",
        "            self.conv4 = None\n",
        "\n",
        "    def forward(self, X):\n",
        "        Y = F.relu(self.bn1(self.conv1(X)))\n",
        "        Y = F.relu(self.bn2(self.conv2(Y)))\n",
        "        Y = self.bn3(self.conv3(Y))\n",
        "        if self.conv4:\n",
        "            X = self.bn4(self.conv4(X))\n",
        "        return F.relu(Y + X)"
      ],
      "metadata": {
        "id": "gEW-RuEpXkT1"
      },
      "execution_count": 48,
      "outputs": []
    },
    {
      "cell_type": "code",
      "source": [
        "blk = ResNeXtBlock(32, 16, 1)\n",
        "X = torch.randn(4, 32, 96, 96)\n",
        "blk(X).shape"
      ],
      "metadata": {
        "id": "QIplUxO7XoYr",
        "colab": {
          "base_uri": "https://localhost:8080/"
        },
        "outputId": "9fef940f-d090-4d86-db51-05ec0e6f1b5f"
      },
      "execution_count": 49,
      "outputs": [
        {
          "output_type": "execute_result",
          "data": {
            "text/plain": [
              "torch.Size([4, 32, 96, 96])"
            ]
          },
          "metadata": {},
          "execution_count": 49
        }
      ]
    },
    {
      "cell_type": "markdown",
      "source": [
        "## 8.6.7. Exercises"
      ],
      "metadata": {
        "id": "oU9Jid7tXsMs"
      }
    },
    {
      "cell_type": "markdown",
      "source": [
        "**1.** What are the major differences between the Inception block in Fig. 8.4.1 and the residual block? How do they compare in terms of computation, accuracy, and the classes of functions they can describe?\n",
        "\n",
        "**ANSWER**\n",
        "\n",
        "Inception Block:\n",
        "\n",
        "- Structure: The Inception block consists of multiple parallel convolutional branches with varying kernel sizes (1x1, 3x3, and 5x5) and a pooling branch. This allows the model to capture features at different scales and enhances representational power.\n",
        "- Computation: Generally, Inception blocks are more computationally intensive due to the multiple branches, which can lead to increased FLOPs (floating-point operations).\n",
        "- Accuracy: Inception blocks can potentially capture more complex features due to their varied filter sizes, often leading to better performance on complex tasks.\n",
        "- Function Classes: The Inception block can represent a wider class of functions due to its multi-branch design.\n",
        "\n",
        "Residual Block:\n",
        "\n",
        "- Structure: The residual block has a simpler structure with two main convolutions and a skip connection, which allows the input to bypass one or more layers.\n",
        "- Computation: Residual blocks are generally less computationally expensive than Inception blocks because they consist of fewer convolutions, although deeper networks may require more computations overall.\n",
        "- Accuracy: They effectively mitigate the vanishing gradient problem, enabling the training of very deep networks. This often results in strong performance on a wide range of tasks.\n",
        "- Function Classes: Residual blocks are particularly good at learning identity functions, allowing the network to maintain performance as it increases in depth."
      ],
      "metadata": {
        "id": "EZAmLfVkXwkA"
      }
    },
    {
      "cell_type": "markdown",
      "source": [
        "**2.** Refer to Table 1 in the ResNet paper (He et al., 2016) to implement different variants of the network.\n",
        "\n",
        "**ANSWER**\n",
        "\n",
        "To implement different variants of ResNet as described in the ResNet paper (He et al., 2016), you can modify the architecture parameter passed to the ResNet class. For example, you can create variants like ResNet-34, ResNet-50, etc., by adjusting the number of layers."
      ],
      "metadata": {
        "id": "TCWK0TVJ38os"
      }
    },
    {
      "cell_type": "code",
      "source": [
        "class ResNet34(ResNet):\n",
        "    def __init__(self, lr=0.1, num_classes=10):\n",
        "        super().__init__(((3, 64), (4, 128), (6, 256), (3, 512)),\n",
        "                         lr, num_classes)\n",
        "\n",
        "# Create an instance of ResNet-34\n",
        "resnet34 = ResNet34(lr=0.01)"
      ],
      "metadata": {
        "id": "mRNUPqvK4gm7"
      },
      "execution_count": null,
      "outputs": []
    },
    {
      "cell_type": "markdown",
      "source": [
        "**3.** For deeper networks, ResNet introduces a “bottleneck” architecture to reduce model complexity. Try to implement it.\n",
        "\n",
        "**ANSWER**\n",
        "\n",
        "The bottleneck architecture reduces the model complexity by using 1x1 convolutions to reduce the dimensionality before applying 3x3 convolutions. You can implement this by modifying the Residual block as follows:"
      ],
      "metadata": {
        "id": "yhjcwDj13_IA"
      }
    },
    {
      "cell_type": "code",
      "source": [
        "class BottleneckResidual(nn.Module):\n",
        "    def __init__(self, num_channels, use_1x1conv=False, strides=1):\n",
        "        super().__init__()\n",
        "        self.conv1 = nn.LazyConv2d(num_channels // 4, kernel_size=1, stride=strides)\n",
        "        self.bn1 = nn.LazyBatchNorm2d()\n",
        "        self.conv2 = nn.LazyConv2d(num_channels // 4, kernel_size=3, padding=1)\n",
        "        self.bn2 = nn.LazyBatchNorm2d()\n",
        "        self.conv3 = nn.LazyConv2d(num_channels, kernel_size=1)\n",
        "        self.bn3 = nn.LazyBatchNorm2d()\n",
        "\n",
        "        if use_1x1conv:\n",
        "            self.conv4 = nn.LazyConv2d(num_channels, kernel_size=1, stride=strides)\n",
        "        else:\n",
        "            self.conv4 = None\n",
        "\n",
        "    def forward(self, X):\n",
        "        Y = F.relu(self.bn1(self.conv1(X)))\n",
        "        Y = self.bn2(self.conv2(Y))\n",
        "        Y = self.bn3(self.conv3(Y))\n",
        "        if self.conv4:\n",
        "            X = self.conv4(X)\n",
        "        return F.relu(Y + X)"
      ],
      "metadata": {
        "id": "gRv8EOpv4w3i"
      },
      "execution_count": null,
      "outputs": []
    },
    {
      "cell_type": "markdown",
      "source": [
        "**4.** In subsequent versions of ResNet, the authors changed the “convolution, batch normalization, and activation” structure to the “batch normalization, activation, and convolution” structure. Make this improvement yourself. See Figure 1 in He et al. (2016) for details.\n",
        "\n",
        "**ANSWER**\n",
        "\n",
        "You can change the structure of the residual block to the new order as follows:"
      ],
      "metadata": {
        "id": "FaabBjrZ4Bso"
      }
    },
    {
      "cell_type": "code",
      "source": [
        "class ResidualBNAC(nn.Module):  # BatchNorm, Activation, Convolution\n",
        "    def __init__(self, num_channels, use_1x1conv=False, strides=1):\n",
        "        super().__init__()\n",
        "        self.bn1 = nn.LazyBatchNorm2d()\n",
        "        self.conv1 = nn.LazyConv2d(num_channels, kernel_size=3, padding=1, stride=strides)\n",
        "        self.relu1 = F.relu\n",
        "        self.bn2 = nn.LazyBatchNorm2d()\n",
        "        self.conv2 = nn.LazyConv2d(num_channels, kernel_size=3, padding=1)\n",
        "\n",
        "        if use_1x1conv:\n",
        "            self.conv3 = nn.LazyConv2d(num_channels, kernel_size=1, stride=strides)\n",
        "        else:\n",
        "            self.conv3 = None\n",
        "\n",
        "    def forward(self, X):\n",
        "        Y = self.bn1(X)\n",
        "        Y = self.relu1(Y)\n",
        "        Y = self.conv1(Y)\n",
        "        Y = self.bn2(Y)\n",
        "        Y = self.relu1(Y)\n",
        "        Y = self.conv2(Y)\n",
        "\n",
        "        if self.conv3:\n",
        "            X = self.conv3(X)\n",
        "\n",
        "        return F.relu(Y + X)"
      ],
      "metadata": {
        "id": "QO4jbRCs46-R"
      },
      "execution_count": null,
      "outputs": []
    },
    {
      "cell_type": "markdown",
      "source": [
        "\n",
        "**5.** Why can’t we just increase the complexity of functions without bound, even if the function classes are nested?\n",
        "\n",
        "**ANSWER**\n",
        "\n",
        "Increasing the complexity of functions without bound, even in nested function classes, can lead to several issues:\n",
        "\n",
        "- Overfitting: The model may memorize the training data rather than generalizing to unseen data, resulting in poor performance on new inputs.\n",
        "- Computational Burden: More complex models require more computational resources, including memory and processing power, which may not be feasible in practical scenarios.\n",
        "- Diminishing Returns: After a certain point, increasing complexity may not yield significant improvements in performance, leading to inefficient use of resources.\n",
        "- Interpretability: As models become more complex, they become harder to interpret and understand, making it challenging to troubleshoot and validate their behavior.\n",
        "\n",
        "In summary, while increasing function complexity may allow for more expressive models, practical constraints such as overfitting, computation limits, and interpretability issues necessitate a balanced approach to model design."
      ],
      "metadata": {
        "id": "T37CmjF04ECc"
      }
    },
    {
      "cell_type": "markdown",
      "source": [
        "# 8.7. Densely Connected Networks (DenseNet)¶"
      ],
      "metadata": {
        "id": "iet4kTdqX7OA"
      }
    },
    {
      "cell_type": "markdown",
      "source": [
        "## 8.7.2. Dense Blocks"
      ],
      "metadata": {
        "id": "MO_mNRcBYJrD"
      }
    },
    {
      "cell_type": "code",
      "source": [
        "def conv_block(num_channels):\n",
        "    return nn.Sequential(\n",
        "        nn.LazyBatchNorm2d(), nn.ReLU(),\n",
        "        nn.LazyConv2d(num_channels, kernel_size=3, padding=1))"
      ],
      "metadata": {
        "id": "K1XQyqLzXtZ6"
      },
      "execution_count": 50,
      "outputs": []
    },
    {
      "cell_type": "code",
      "source": [
        "class DenseBlock(nn.Module):\n",
        "    def __init__(self, num_convs, num_channels):\n",
        "        super(DenseBlock, self).__init__()\n",
        "        layer = []\n",
        "        for i in range(num_convs):\n",
        "            layer.append(conv_block(num_channels))\n",
        "        self.net = nn.Sequential(*layer)\n",
        "\n",
        "    def forward(self, X):\n",
        "        for blk in self.net:\n",
        "            Y = blk(X)\n",
        "            # Concatenate input and output of each block along the channels\n",
        "            X = torch.cat((X, Y), dim=1)\n",
        "        return X"
      ],
      "metadata": {
        "id": "UhojU7aCYTwk"
      },
      "execution_count": 51,
      "outputs": []
    },
    {
      "cell_type": "code",
      "source": [
        "blk = DenseBlock(2, 10)\n",
        "X = torch.randn(4, 3, 8, 8)\n",
        "Y = blk(X)\n",
        "Y.shape"
      ],
      "metadata": {
        "id": "whM_bdJBYUX7",
        "colab": {
          "base_uri": "https://localhost:8080/"
        },
        "outputId": "6298a33b-5237-4b67-a1d7-29f3ddc20850"
      },
      "execution_count": 52,
      "outputs": [
        {
          "output_type": "execute_result",
          "data": {
            "text/plain": [
              "torch.Size([4, 23, 8, 8])"
            ]
          },
          "metadata": {},
          "execution_count": 52
        }
      ]
    },
    {
      "cell_type": "markdown",
      "source": [
        "## 8.7.3. Transition Layers¶"
      ],
      "metadata": {
        "id": "wlTD7M_SYZzM"
      }
    },
    {
      "cell_type": "code",
      "source": [
        "def transition_block(num_channels):\n",
        "    return nn.Sequential(\n",
        "        nn.LazyBatchNorm2d(), nn.ReLU(),\n",
        "        nn.LazyConv2d(num_channels, kernel_size=1),\n",
        "        nn.AvgPool2d(kernel_size=2, stride=2))"
      ],
      "metadata": {
        "id": "POrb7_tgYalG"
      },
      "execution_count": 53,
      "outputs": []
    },
    {
      "cell_type": "code",
      "source": [
        "blk = transition_block(10)\n",
        "blk(Y).shape"
      ],
      "metadata": {
        "id": "DzoykbQRYcmG",
        "colab": {
          "base_uri": "https://localhost:8080/"
        },
        "outputId": "de631820-c874-4823-8980-4b56a4547e5d"
      },
      "execution_count": 54,
      "outputs": [
        {
          "output_type": "execute_result",
          "data": {
            "text/plain": [
              "torch.Size([4, 10, 4, 4])"
            ]
          },
          "metadata": {},
          "execution_count": 54
        }
      ]
    },
    {
      "cell_type": "markdown",
      "source": [
        "## 8.7.4. DenseNet Model"
      ],
      "metadata": {
        "id": "TbvUfMO9YhEi"
      }
    },
    {
      "cell_type": "code",
      "source": [
        "class DenseNet(d2l.Classifier):\n",
        "    def b1(self):\n",
        "        return nn.Sequential(\n",
        "            nn.LazyConv2d(64, kernel_size=7, stride=2, padding=3),\n",
        "            nn.LazyBatchNorm2d(), nn.ReLU(),\n",
        "            nn.MaxPool2d(kernel_size=3, stride=2, padding=1))"
      ],
      "metadata": {
        "id": "3pC1gJA_Yh2u"
      },
      "execution_count": 55,
      "outputs": []
    },
    {
      "cell_type": "code",
      "source": [
        "@d2l.add_to_class(DenseNet)\n",
        "def __init__(self, num_channels=64, growth_rate=32, arch=(4, 4, 4, 4),\n",
        "             lr=0.1, num_classes=10):\n",
        "    super(DenseNet, self).__init__()\n",
        "    self.save_hyperparameters()\n",
        "    self.net = nn.Sequential(self.b1())\n",
        "    for i, num_convs in enumerate(arch):\n",
        "        self.net.add_module(f'dense_blk{i+1}', DenseBlock(num_convs,\n",
        "                                                          growth_rate))\n",
        "        # The number of output channels in the previous dense block\n",
        "        num_channels += num_convs * growth_rate\n",
        "        # A transition layer that halves the number of channels is added\n",
        "        # between the dense blocks\n",
        "        if i != len(arch) - 1:\n",
        "            num_channels //= 2\n",
        "            self.net.add_module(f'tran_blk{i+1}', transition_block(\n",
        "                num_channels))\n",
        "    self.net.add_module('last', nn.Sequential(\n",
        "        nn.LazyBatchNorm2d(), nn.ReLU(),\n",
        "        nn.AdaptiveAvgPool2d((1, 1)), nn.Flatten(),\n",
        "        nn.LazyLinear(num_classes)))\n",
        "    self.net.apply(d2l.init_cnn)"
      ],
      "metadata": {
        "id": "-CrM40U7Yk7e"
      },
      "execution_count": 56,
      "outputs": []
    },
    {
      "cell_type": "markdown",
      "source": [
        "## 8.7.5. Training"
      ],
      "metadata": {
        "id": "rKERi7AGYnaX"
      }
    },
    {
      "cell_type": "code",
      "source": [
        "model = DenseNet(lr=0.01)\n",
        "trainer = d2l.Trainer(max_epochs=10, num_gpus=1)\n",
        "data = d2l.FashionMNIST(batch_size=128, resize=(96, 96))\n",
        "trainer.fit(model, data)"
      ],
      "metadata": {
        "id": "EIML64KvYpfZ",
        "colab": {
          "base_uri": "https://localhost:8080/",
          "height": 265
        },
        "outputId": "509fc65b-2537-4d09-d8f6-7a2cb9dff7a9"
      },
      "execution_count": 57,
      "outputs": [
        {
          "output_type": "display_data",
          "data": {
            "text/plain": [
              "<Figure size 350x250 with 1 Axes>"
            ],
            "image/svg+xml": "<?xml version=\"1.0\" encoding=\"utf-8\" standalone=\"no\"?>\n<!DOCTYPE svg PUBLIC \"-//W3C//DTD SVG 1.1//EN\"\n  \"http://www.w3.org/Graphics/SVG/1.1/DTD/svg11.dtd\">\n<svg xmlns:xlink=\"http://www.w3.org/1999/xlink\" width=\"238.965625pt\" height=\"183.35625pt\" viewBox=\"0 0 238.965625 183.35625\" xmlns=\"http://www.w3.org/2000/svg\" version=\"1.1\">\n <metadata>\n  <rdf:RDF xmlns:dc=\"http://purl.org/dc/elements/1.1/\" xmlns:cc=\"http://creativecommons.org/ns#\" xmlns:rdf=\"http://www.w3.org/1999/02/22-rdf-syntax-ns#\">\n   <cc:Work>\n    <dc:type rdf:resource=\"http://purl.org/dc/dcmitype/StillImage\"/>\n    <dc:date>2024-10-05T14:52:32.209286</dc:date>\n    <dc:format>image/svg+xml</dc:format>\n    <dc:creator>\n     <cc:Agent>\n      <dc:title>Matplotlib v3.7.2, https://matplotlib.org/</dc:title>\n     </cc:Agent>\n    </dc:creator>\n   </cc:Work>\n  </rdf:RDF>\n </metadata>\n <defs>\n  <style type=\"text/css\">*{stroke-linejoin: round; stroke-linecap: butt}</style>\n </defs>\n <g id=\"figure_1\">\n  <g id=\"patch_1\">\n   <path d=\"M 0 183.35625 \nL 238.965625 183.35625 \nL 238.965625 0 \nL 0 0 \nz\n\" style=\"fill: #ffffff\"/>\n  </g>\n  <g id=\"axes_1\">\n   <g id=\"patch_2\">\n    <path d=\"M 30.103125 145.8 \nL 225.403125 145.8 \nL 225.403125 7.2 \nL 30.103125 7.2 \nz\n\" style=\"fill: #ffffff\"/>\n   </g>\n   <g id=\"matplotlib.axis_1\">\n    <g id=\"xtick_1\">\n     <g id=\"line2d_1\">\n      <defs>\n       <path id=\"mcedb4349d6\" d=\"M 0 0 \nL 0 3.5 \n\" style=\"stroke: #000000; stroke-width: 0.8\"/>\n      </defs>\n      <g>\n       <use xlink:href=\"#mcedb4349d6\" x=\"30.103125\" y=\"145.8\" style=\"stroke: #000000; stroke-width: 0.8\"/>\n      </g>\n     </g>\n     <g id=\"text_1\">\n      <!-- 0 -->\n      <g transform=\"translate(26.921875 160.398438) scale(0.1 -0.1)\">\n       <defs>\n        <path id=\"DejaVuSans-30\" d=\"M 2034 4250 \nQ 1547 4250 1301 3770 \nQ 1056 3291 1056 2328 \nQ 1056 1369 1301 889 \nQ 1547 409 2034 409 \nQ 2525 409 2770 889 \nQ 3016 1369 3016 2328 \nQ 3016 3291 2770 3770 \nQ 2525 4250 2034 4250 \nz\nM 2034 4750 \nQ 2819 4750 3233 4129 \nQ 3647 3509 3647 2328 \nQ 3647 1150 3233 529 \nQ 2819 -91 2034 -91 \nQ 1250 -91 836 529 \nQ 422 1150 422 2328 \nQ 422 3509 836 4129 \nQ 1250 4750 2034 4750 \nz\n\" transform=\"scale(0.015625)\"/>\n       </defs>\n       <use xlink:href=\"#DejaVuSans-30\"/>\n      </g>\n     </g>\n    </g>\n    <g id=\"xtick_2\">\n     <g id=\"line2d_2\">\n      <g>\n       <use xlink:href=\"#mcedb4349d6\" x=\"69.163125\" y=\"145.8\" style=\"stroke: #000000; stroke-width: 0.8\"/>\n      </g>\n     </g>\n     <g id=\"text_2\">\n      <!-- 2 -->\n      <g transform=\"translate(65.981875 160.398438) scale(0.1 -0.1)\">\n       <defs>\n        <path id=\"DejaVuSans-32\" d=\"M 1228 531 \nL 3431 531 \nL 3431 0 \nL 469 0 \nL 469 531 \nQ 828 903 1448 1529 \nQ 2069 2156 2228 2338 \nQ 2531 2678 2651 2914 \nQ 2772 3150 2772 3378 \nQ 2772 3750 2511 3984 \nQ 2250 4219 1831 4219 \nQ 1534 4219 1204 4116 \nQ 875 4013 500 3803 \nL 500 4441 \nQ 881 4594 1212 4672 \nQ 1544 4750 1819 4750 \nQ 2544 4750 2975 4387 \nQ 3406 4025 3406 3419 \nQ 3406 3131 3298 2873 \nQ 3191 2616 2906 2266 \nQ 2828 2175 2409 1742 \nQ 1991 1309 1228 531 \nz\n\" transform=\"scale(0.015625)\"/>\n       </defs>\n       <use xlink:href=\"#DejaVuSans-32\"/>\n      </g>\n     </g>\n    </g>\n    <g id=\"xtick_3\">\n     <g id=\"line2d_3\">\n      <g>\n       <use xlink:href=\"#mcedb4349d6\" x=\"108.223125\" y=\"145.8\" style=\"stroke: #000000; stroke-width: 0.8\"/>\n      </g>\n     </g>\n     <g id=\"text_3\">\n      <!-- 4 -->\n      <g transform=\"translate(105.041875 160.398438) scale(0.1 -0.1)\">\n       <defs>\n        <path id=\"DejaVuSans-34\" d=\"M 2419 4116 \nL 825 1625 \nL 2419 1625 \nL 2419 4116 \nz\nM 2253 4666 \nL 3047 4666 \nL 3047 1625 \nL 3713 1625 \nL 3713 1100 \nL 3047 1100 \nL 3047 0 \nL 2419 0 \nL 2419 1100 \nL 313 1100 \nL 313 1709 \nL 2253 4666 \nz\n\" transform=\"scale(0.015625)\"/>\n       </defs>\n       <use xlink:href=\"#DejaVuSans-34\"/>\n      </g>\n     </g>\n    </g>\n    <g id=\"xtick_4\">\n     <g id=\"line2d_4\">\n      <g>\n       <use xlink:href=\"#mcedb4349d6\" x=\"147.283125\" y=\"145.8\" style=\"stroke: #000000; stroke-width: 0.8\"/>\n      </g>\n     </g>\n     <g id=\"text_4\">\n      <!-- 6 -->\n      <g transform=\"translate(144.101875 160.398438) scale(0.1 -0.1)\">\n       <defs>\n        <path id=\"DejaVuSans-36\" d=\"M 2113 2584 \nQ 1688 2584 1439 2293 \nQ 1191 2003 1191 1497 \nQ 1191 994 1439 701 \nQ 1688 409 2113 409 \nQ 2538 409 2786 701 \nQ 3034 994 3034 1497 \nQ 3034 2003 2786 2293 \nQ 2538 2584 2113 2584 \nz\nM 3366 4563 \nL 3366 3988 \nQ 3128 4100 2886 4159 \nQ 2644 4219 2406 4219 \nQ 1781 4219 1451 3797 \nQ 1122 3375 1075 2522 \nQ 1259 2794 1537 2939 \nQ 1816 3084 2150 3084 \nQ 2853 3084 3261 2657 \nQ 3669 2231 3669 1497 \nQ 3669 778 3244 343 \nQ 2819 -91 2113 -91 \nQ 1303 -91 875 529 \nQ 447 1150 447 2328 \nQ 447 3434 972 4092 \nQ 1497 4750 2381 4750 \nQ 2619 4750 2861 4703 \nQ 3103 4656 3366 4563 \nz\n\" transform=\"scale(0.015625)\"/>\n       </defs>\n       <use xlink:href=\"#DejaVuSans-36\"/>\n      </g>\n     </g>\n    </g>\n    <g id=\"xtick_5\">\n     <g id=\"line2d_5\">\n      <g>\n       <use xlink:href=\"#mcedb4349d6\" x=\"186.343125\" y=\"145.8\" style=\"stroke: #000000; stroke-width: 0.8\"/>\n      </g>\n     </g>\n     <g id=\"text_5\">\n      <!-- 8 -->\n      <g transform=\"translate(183.161875 160.398438) scale(0.1 -0.1)\">\n       <defs>\n        <path id=\"DejaVuSans-38\" d=\"M 2034 2216 \nQ 1584 2216 1326 1975 \nQ 1069 1734 1069 1313 \nQ 1069 891 1326 650 \nQ 1584 409 2034 409 \nQ 2484 409 2743 651 \nQ 3003 894 3003 1313 \nQ 3003 1734 2745 1975 \nQ 2488 2216 2034 2216 \nz\nM 1403 2484 \nQ 997 2584 770 2862 \nQ 544 3141 544 3541 \nQ 544 4100 942 4425 \nQ 1341 4750 2034 4750 \nQ 2731 4750 3128 4425 \nQ 3525 4100 3525 3541 \nQ 3525 3141 3298 2862 \nQ 3072 2584 2669 2484 \nQ 3125 2378 3379 2068 \nQ 3634 1759 3634 1313 \nQ 3634 634 3220 271 \nQ 2806 -91 2034 -91 \nQ 1263 -91 848 271 \nQ 434 634 434 1313 \nQ 434 1759 690 2068 \nQ 947 2378 1403 2484 \nz\nM 1172 3481 \nQ 1172 3119 1398 2916 \nQ 1625 2713 2034 2713 \nQ 2441 2713 2670 2916 \nQ 2900 3119 2900 3481 \nQ 2900 3844 2670 4047 \nQ 2441 4250 2034 4250 \nQ 1625 4250 1398 4047 \nQ 1172 3844 1172 3481 \nz\n\" transform=\"scale(0.015625)\"/>\n       </defs>\n       <use xlink:href=\"#DejaVuSans-38\"/>\n      </g>\n     </g>\n    </g>\n    <g id=\"xtick_6\">\n     <g id=\"line2d_6\">\n      <g>\n       <use xlink:href=\"#mcedb4349d6\" x=\"225.403125\" y=\"145.8\" style=\"stroke: #000000; stroke-width: 0.8\"/>\n      </g>\n     </g>\n     <g id=\"text_6\">\n      <!-- 10 -->\n      <g transform=\"translate(219.040625 160.398438) scale(0.1 -0.1)\">\n       <defs>\n        <path id=\"DejaVuSans-31\" d=\"M 794 531 \nL 1825 531 \nL 1825 4091 \nL 703 3866 \nL 703 4441 \nL 1819 4666 \nL 2450 4666 \nL 2450 531 \nL 3481 531 \nL 3481 0 \nL 794 0 \nL 794 531 \nz\n\" transform=\"scale(0.015625)\"/>\n       </defs>\n       <use xlink:href=\"#DejaVuSans-31\"/>\n       <use xlink:href=\"#DejaVuSans-30\" x=\"63.623047\"/>\n      </g>\n     </g>\n    </g>\n    <g id=\"text_7\">\n     <!-- epoch -->\n     <g transform=\"translate(112.525 174.076563) scale(0.1 -0.1)\">\n      <defs>\n       <path id=\"DejaVuSans-65\" d=\"M 3597 1894 \nL 3597 1613 \nL 953 1613 \nQ 991 1019 1311 708 \nQ 1631 397 2203 397 \nQ 2534 397 2845 478 \nQ 3156 559 3463 722 \nL 3463 178 \nQ 3153 47 2828 -22 \nQ 2503 -91 2169 -91 \nQ 1331 -91 842 396 \nQ 353 884 353 1716 \nQ 353 2575 817 3079 \nQ 1281 3584 2069 3584 \nQ 2775 3584 3186 3129 \nQ 3597 2675 3597 1894 \nz\nM 3022 2063 \nQ 3016 2534 2758 2815 \nQ 2500 3097 2075 3097 \nQ 1594 3097 1305 2825 \nQ 1016 2553 972 2059 \nL 3022 2063 \nz\n\" transform=\"scale(0.015625)\"/>\n       <path id=\"DejaVuSans-70\" d=\"M 1159 525 \nL 1159 -1331 \nL 581 -1331 \nL 581 3500 \nL 1159 3500 \nL 1159 2969 \nQ 1341 3281 1617 3432 \nQ 1894 3584 2278 3584 \nQ 2916 3584 3314 3078 \nQ 3713 2572 3713 1747 \nQ 3713 922 3314 415 \nQ 2916 -91 2278 -91 \nQ 1894 -91 1617 61 \nQ 1341 213 1159 525 \nz\nM 3116 1747 \nQ 3116 2381 2855 2742 \nQ 2594 3103 2138 3103 \nQ 1681 3103 1420 2742 \nQ 1159 2381 1159 1747 \nQ 1159 1113 1420 752 \nQ 1681 391 2138 391 \nQ 2594 391 2855 752 \nQ 3116 1113 3116 1747 \nz\n\" transform=\"scale(0.015625)\"/>\n       <path id=\"DejaVuSans-6f\" d=\"M 1959 3097 \nQ 1497 3097 1228 2736 \nQ 959 2375 959 1747 \nQ 959 1119 1226 758 \nQ 1494 397 1959 397 \nQ 2419 397 2687 759 \nQ 2956 1122 2956 1747 \nQ 2956 2369 2687 2733 \nQ 2419 3097 1959 3097 \nz\nM 1959 3584 \nQ 2709 3584 3137 3096 \nQ 3566 2609 3566 1747 \nQ 3566 888 3137 398 \nQ 2709 -91 1959 -91 \nQ 1206 -91 779 398 \nQ 353 888 353 1747 \nQ 353 2609 779 3096 \nQ 1206 3584 1959 3584 \nz\n\" transform=\"scale(0.015625)\"/>\n       <path id=\"DejaVuSans-63\" d=\"M 3122 3366 \nL 3122 2828 \nQ 2878 2963 2633 3030 \nQ 2388 3097 2138 3097 \nQ 1578 3097 1268 2742 \nQ 959 2388 959 1747 \nQ 959 1106 1268 751 \nQ 1578 397 2138 397 \nQ 2388 397 2633 464 \nQ 2878 531 3122 666 \nL 3122 134 \nQ 2881 22 2623 -34 \nQ 2366 -91 2075 -91 \nQ 1284 -91 818 406 \nQ 353 903 353 1747 \nQ 353 2603 823 3093 \nQ 1294 3584 2113 3584 \nQ 2378 3584 2631 3529 \nQ 2884 3475 3122 3366 \nz\n\" transform=\"scale(0.015625)\"/>\n       <path id=\"DejaVuSans-68\" d=\"M 3513 2113 \nL 3513 0 \nL 2938 0 \nL 2938 2094 \nQ 2938 2591 2744 2837 \nQ 2550 3084 2163 3084 \nQ 1697 3084 1428 2787 \nQ 1159 2491 1159 1978 \nL 1159 0 \nL 581 0 \nL 581 4863 \nL 1159 4863 \nL 1159 2956 \nQ 1366 3272 1645 3428 \nQ 1925 3584 2291 3584 \nQ 2894 3584 3203 3211 \nQ 3513 2838 3513 2113 \nz\n\" transform=\"scale(0.015625)\"/>\n      </defs>\n      <use xlink:href=\"#DejaVuSans-65\"/>\n      <use xlink:href=\"#DejaVuSans-70\" x=\"61.523438\"/>\n      <use xlink:href=\"#DejaVuSans-6f\" x=\"125\"/>\n      <use xlink:href=\"#DejaVuSans-63\" x=\"186.181641\"/>\n      <use xlink:href=\"#DejaVuSans-68\" x=\"241.162109\"/>\n     </g>\n    </g>\n   </g>\n   <g id=\"matplotlib.axis_2\">\n    <g id=\"ytick_1\">\n     <g id=\"line2d_7\">\n      <defs>\n       <path id=\"m9b715e49e3\" d=\"M 0 0 \nL -3.5 0 \n\" style=\"stroke: #000000; stroke-width: 0.8\"/>\n      </defs>\n      <g>\n       <use xlink:href=\"#m9b715e49e3\" x=\"30.103125\" y=\"131.858689\" style=\"stroke: #000000; stroke-width: 0.8\"/>\n      </g>\n     </g>\n     <g id=\"text_8\">\n      <!-- 0.2 -->\n      <g transform=\"translate(7.2 135.657908) scale(0.1 -0.1)\">\n       <defs>\n        <path id=\"DejaVuSans-2e\" d=\"M 684 794 \nL 1344 794 \nL 1344 0 \nL 684 0 \nL 684 794 \nz\n\" transform=\"scale(0.015625)\"/>\n       </defs>\n       <use xlink:href=\"#DejaVuSans-30\"/>\n       <use xlink:href=\"#DejaVuSans-2e\" x=\"63.623047\"/>\n       <use xlink:href=\"#DejaVuSans-32\" x=\"95.410156\"/>\n      </g>\n     </g>\n    </g>\n    <g id=\"ytick_2\">\n     <g id=\"line2d_8\">\n      <g>\n       <use xlink:href=\"#m9b715e49e3\" x=\"30.103125\" y=\"99.129443\" style=\"stroke: #000000; stroke-width: 0.8\"/>\n      </g>\n     </g>\n     <g id=\"text_9\">\n      <!-- 0.4 -->\n      <g transform=\"translate(7.2 102.928662) scale(0.1 -0.1)\">\n       <use xlink:href=\"#DejaVuSans-30\"/>\n       <use xlink:href=\"#DejaVuSans-2e\" x=\"63.623047\"/>\n       <use xlink:href=\"#DejaVuSans-34\" x=\"95.410156\"/>\n      </g>\n     </g>\n    </g>\n    <g id=\"ytick_3\">\n     <g id=\"line2d_9\">\n      <g>\n       <use xlink:href=\"#m9b715e49e3\" x=\"30.103125\" y=\"66.400197\" style=\"stroke: #000000; stroke-width: 0.8\"/>\n      </g>\n     </g>\n     <g id=\"text_10\">\n      <!-- 0.6 -->\n      <g transform=\"translate(7.2 70.199416) scale(0.1 -0.1)\">\n       <use xlink:href=\"#DejaVuSans-30\"/>\n       <use xlink:href=\"#DejaVuSans-2e\" x=\"63.623047\"/>\n       <use xlink:href=\"#DejaVuSans-36\" x=\"95.410156\"/>\n      </g>\n     </g>\n    </g>\n    <g id=\"ytick_4\">\n     <g id=\"line2d_10\">\n      <g>\n       <use xlink:href=\"#m9b715e49e3\" x=\"30.103125\" y=\"33.670951\" style=\"stroke: #000000; stroke-width: 0.8\"/>\n      </g>\n     </g>\n     <g id=\"text_11\">\n      <!-- 0.8 -->\n      <g transform=\"translate(7.2 37.47017) scale(0.1 -0.1)\">\n       <use xlink:href=\"#DejaVuSans-30\"/>\n       <use xlink:href=\"#DejaVuSans-2e\" x=\"63.623047\"/>\n       <use xlink:href=\"#DejaVuSans-38\" x=\"95.410156\"/>\n      </g>\n     </g>\n    </g>\n   </g>\n   <g id=\"line2d_11\">\n    <path d=\"M 34.954394 14.203753 \n\" clip-path=\"url(#p8925447604)\" style=\"fill: none; stroke: #1f77b4; stroke-width: 1.5; stroke-linecap: square\"/>\n   </g>\n   <g id=\"line2d_12\">\n    <path d=\"M 34.954394 14.203753 \nL 44.698573 87.68817 \n\" clip-path=\"url(#p8925447604)\" style=\"fill: none; stroke: #1f77b4; stroke-width: 1.5; stroke-linecap: square\"/>\n   </g>\n   <g id=\"line2d_13\">\n    <path d=\"M 34.954394 14.203753 \nL 44.698573 87.68817 \n\" clip-path=\"url(#p8925447604)\" style=\"fill: none; stroke: #1f77b4; stroke-width: 1.5; stroke-linecap: square\"/>\n   </g>\n   <g id=\"line2d_14\">\n    <path d=\"M 49.633125 87.470188 \n\" clip-path=\"url(#p8925447604)\" style=\"fill: none; stroke-dasharray: 5.55,2.4; stroke-dashoffset: 0; stroke: #ff7f0e; stroke-width: 1.5\"/>\n   </g>\n   <g id=\"line2d_15\"/>\n   <g id=\"line2d_16\">\n    <path d=\"M 34.954394 14.203753 \nL 44.698573 87.68817 \n\" clip-path=\"url(#p8925447604)\" style=\"fill: none; stroke: #1f77b4; stroke-width: 1.5; stroke-linecap: square\"/>\n   </g>\n   <g id=\"line2d_17\">\n    <path d=\"M 49.633125 87.470188 \n\" clip-path=\"url(#p8925447604)\" style=\"fill: none; stroke-dasharray: 5.55,2.4; stroke-dashoffset: 0; stroke: #ff7f0e; stroke-width: 1.5\"/>\n   </g>\n   <g id=\"line2d_18\">\n    <path d=\"M 49.633125 28.048849 \n\" clip-path=\"url(#p8925447604)\" style=\"fill: none; stroke-dasharray: 9.6,2.4,1.5,2.4; stroke-dashoffset: 0; stroke: #2ca02c; stroke-width: 1.5\"/>\n   </g>\n   <g id=\"line2d_19\">\n    <path d=\"M 34.954394 14.203753 \nL 44.698573 87.68817 \nL 54.442752 105.32768 \n\" clip-path=\"url(#p8925447604)\" style=\"fill: none; stroke: #1f77b4; stroke-width: 1.5; stroke-linecap: square\"/>\n   </g>\n   <g id=\"line2d_20\">\n    <path d=\"M 49.633125 87.470188 \n\" clip-path=\"url(#p8925447604)\" style=\"fill: none; stroke-dasharray: 5.55,2.4; stroke-dashoffset: 0; stroke: #ff7f0e; stroke-width: 1.5\"/>\n   </g>\n   <g id=\"line2d_21\">\n    <path d=\"M 49.633125 28.048849 \n\" clip-path=\"url(#p8925447604)\" style=\"fill: none; stroke-dasharray: 9.6,2.4,1.5,2.4; stroke-dashoffset: 0; stroke: #2ca02c; stroke-width: 1.5\"/>\n   </g>\n   <g id=\"line2d_22\">\n    <path d=\"M 34.954394 14.203753 \nL 44.698573 87.68817 \nL 54.442752 105.32768 \nL 64.186931 112.177946 \n\" clip-path=\"url(#p8925447604)\" style=\"fill: none; stroke: #1f77b4; stroke-width: 1.5; stroke-linecap: square\"/>\n   </g>\n   <g id=\"line2d_23\">\n    <path d=\"M 49.633125 87.470188 \n\" clip-path=\"url(#p8925447604)\" style=\"fill: none; stroke-dasharray: 5.55,2.4; stroke-dashoffset: 0; stroke: #ff7f0e; stroke-width: 1.5\"/>\n   </g>\n   <g id=\"line2d_24\">\n    <path d=\"M 49.633125 28.048849 \n\" clip-path=\"url(#p8925447604)\" style=\"fill: none; stroke-dasharray: 9.6,2.4,1.5,2.4; stroke-dashoffset: 0; stroke: #2ca02c; stroke-width: 1.5\"/>\n   </g>\n   <g id=\"line2d_25\">\n    <path d=\"M 34.954394 14.203753 \nL 44.698573 87.68817 \nL 54.442752 105.32768 \nL 64.186931 112.177946 \n\" clip-path=\"url(#p8925447604)\" style=\"fill: none; stroke: #1f77b4; stroke-width: 1.5; stroke-linecap: square\"/>\n   </g>\n   <g id=\"line2d_26\">\n    <path d=\"M 49.633125 87.470188 \nL 69.163125 110.942873 \n\" clip-path=\"url(#p8925447604)\" style=\"fill: none; stroke-dasharray: 5.55,2.4; stroke-dashoffset: 0; stroke: #ff7f0e; stroke-width: 1.5\"/>\n   </g>\n   <g id=\"line2d_27\">\n    <path d=\"M 49.633125 28.048849 \n\" clip-path=\"url(#p8925447604)\" style=\"fill: none; stroke-dasharray: 9.6,2.4,1.5,2.4; stroke-dashoffset: 0; stroke: #2ca02c; stroke-width: 1.5\"/>\n   </g>\n   <g id=\"line2d_28\">\n    <path d=\"M 34.954394 14.203753 \nL 44.698573 87.68817 \nL 54.442752 105.32768 \nL 64.186931 112.177946 \n\" clip-path=\"url(#p8925447604)\" style=\"fill: none; stroke: #1f77b4; stroke-width: 1.5; stroke-linecap: square\"/>\n   </g>\n   <g id=\"line2d_29\">\n    <path d=\"M 49.633125 87.470188 \nL 69.163125 110.942873 \n\" clip-path=\"url(#p8925447604)\" style=\"fill: none; stroke-dasharray: 5.55,2.4; stroke-dashoffset: 0; stroke: #ff7f0e; stroke-width: 1.5\"/>\n   </g>\n   <g id=\"line2d_30\">\n    <path d=\"M 49.633125 28.048849 \nL 69.163125 19.714414 \n\" clip-path=\"url(#p8925447604)\" style=\"fill: none; stroke-dasharray: 9.6,2.4,1.5,2.4; stroke-dashoffset: 0; stroke: #2ca02c; stroke-width: 1.5\"/>\n   </g>\n   <g id=\"line2d_31\">\n    <path d=\"M 34.954394 14.203753 \nL 44.698573 87.68817 \nL 54.442752 105.32768 \nL 64.186931 112.177946 \nL 73.93111 117.868777 \n\" clip-path=\"url(#p8925447604)\" style=\"fill: none; stroke: #1f77b4; stroke-width: 1.5; stroke-linecap: square\"/>\n   </g>\n   <g id=\"line2d_32\">\n    <path d=\"M 49.633125 87.470188 \nL 69.163125 110.942873 \n\" clip-path=\"url(#p8925447604)\" style=\"fill: none; stroke-dasharray: 5.55,2.4; stroke-dashoffset: 0; stroke: #ff7f0e; stroke-width: 1.5\"/>\n   </g>\n   <g id=\"line2d_33\">\n    <path d=\"M 49.633125 28.048849 \nL 69.163125 19.714414 \n\" clip-path=\"url(#p8925447604)\" style=\"fill: none; stroke-dasharray: 9.6,2.4,1.5,2.4; stroke-dashoffset: 0; stroke: #2ca02c; stroke-width: 1.5\"/>\n   </g>\n   <g id=\"line2d_34\">\n    <path d=\"M 34.954394 14.203753 \nL 44.698573 87.68817 \nL 54.442752 105.32768 \nL 64.186931 112.177946 \nL 73.93111 117.868777 \nL 83.675289 119.937142 \n\" clip-path=\"url(#p8925447604)\" style=\"fill: none; stroke: #1f77b4; stroke-width: 1.5; stroke-linecap: square\"/>\n   </g>\n   <g id=\"line2d_35\">\n    <path d=\"M 49.633125 87.470188 \nL 69.163125 110.942873 \n\" clip-path=\"url(#p8925447604)\" style=\"fill: none; stroke-dasharray: 5.55,2.4; stroke-dashoffset: 0; stroke: #ff7f0e; stroke-width: 1.5\"/>\n   </g>\n   <g id=\"line2d_36\">\n    <path d=\"M 49.633125 28.048849 \nL 69.163125 19.714414 \n\" clip-path=\"url(#p8925447604)\" style=\"fill: none; stroke-dasharray: 9.6,2.4,1.5,2.4; stroke-dashoffset: 0; stroke: #2ca02c; stroke-width: 1.5\"/>\n   </g>\n   <g id=\"line2d_37\">\n    <path d=\"M 34.954394 14.203753 \nL 44.698573 87.68817 \nL 54.442752 105.32768 \nL 64.186931 112.177946 \nL 73.93111 117.868777 \nL 83.675289 119.937142 \n\" clip-path=\"url(#p8925447604)\" style=\"fill: none; stroke: #1f77b4; stroke-width: 1.5; stroke-linecap: square\"/>\n   </g>\n   <g id=\"line2d_38\">\n    <path d=\"M 49.633125 87.470188 \nL 69.163125 110.942873 \nL 88.693125 115.334242 \n\" clip-path=\"url(#p8925447604)\" style=\"fill: none; stroke-dasharray: 5.55,2.4; stroke-dashoffset: 0; stroke: #ff7f0e; stroke-width: 1.5\"/>\n   </g>\n   <g id=\"line2d_39\">\n    <path d=\"M 49.633125 28.048849 \nL 69.163125 19.714414 \n\" clip-path=\"url(#p8925447604)\" style=\"fill: none; stroke-dasharray: 9.6,2.4,1.5,2.4; stroke-dashoffset: 0; stroke: #2ca02c; stroke-width: 1.5\"/>\n   </g>\n   <g id=\"line2d_40\">\n    <path d=\"M 34.954394 14.203753 \nL 44.698573 87.68817 \nL 54.442752 105.32768 \nL 64.186931 112.177946 \nL 73.93111 117.868777 \nL 83.675289 119.937142 \n\" clip-path=\"url(#p8925447604)\" style=\"fill: none; stroke: #1f77b4; stroke-width: 1.5; stroke-linecap: square\"/>\n   </g>\n   <g id=\"line2d_41\">\n    <path d=\"M 49.633125 87.470188 \nL 69.163125 110.942873 \nL 88.693125 115.334242 \n\" clip-path=\"url(#p8925447604)\" style=\"fill: none; stroke-dasharray: 5.55,2.4; stroke-dashoffset: 0; stroke: #ff7f0e; stroke-width: 1.5\"/>\n   </g>\n   <g id=\"line2d_42\">\n    <path d=\"M 49.633125 28.048849 \nL 69.163125 19.714414 \nL 88.693125 18.613945 \n\" clip-path=\"url(#p8925447604)\" style=\"fill: none; stroke-dasharray: 9.6,2.4,1.5,2.4; stroke-dashoffset: 0; stroke: #2ca02c; stroke-width: 1.5\"/>\n   </g>\n   <g id=\"line2d_43\">\n    <path d=\"M 34.954394 14.203753 \nL 44.698573 87.68817 \nL 54.442752 105.32768 \nL 64.186931 112.177946 \nL 73.93111 117.868777 \nL 83.675289 119.937142 \nL 93.419468 123.4591 \n\" clip-path=\"url(#p8925447604)\" style=\"fill: none; stroke: #1f77b4; stroke-width: 1.5; stroke-linecap: square\"/>\n   </g>\n   <g id=\"line2d_44\">\n    <path d=\"M 49.633125 87.470188 \nL 69.163125 110.942873 \nL 88.693125 115.334242 \n\" clip-path=\"url(#p8925447604)\" style=\"fill: none; stroke-dasharray: 5.55,2.4; stroke-dashoffset: 0; stroke: #ff7f0e; stroke-width: 1.5\"/>\n   </g>\n   <g id=\"line2d_45\">\n    <path d=\"M 49.633125 28.048849 \nL 69.163125 19.714414 \nL 88.693125 18.613945 \n\" clip-path=\"url(#p8925447604)\" style=\"fill: none; stroke-dasharray: 9.6,2.4,1.5,2.4; stroke-dashoffset: 0; stroke: #2ca02c; stroke-width: 1.5\"/>\n   </g>\n   <g id=\"line2d_46\">\n    <path d=\"M 34.954394 14.203753 \nL 44.698573 87.68817 \nL 54.442752 105.32768 \nL 64.186931 112.177946 \nL 73.93111 117.868777 \nL 83.675289 119.937142 \nL 93.419468 123.4591 \nL 103.163647 124.864506 \n\" clip-path=\"url(#p8925447604)\" style=\"fill: none; stroke: #1f77b4; stroke-width: 1.5; stroke-linecap: square\"/>\n   </g>\n   <g id=\"line2d_47\">\n    <path d=\"M 49.633125 87.470188 \nL 69.163125 110.942873 \nL 88.693125 115.334242 \n\" clip-path=\"url(#p8925447604)\" style=\"fill: none; stroke-dasharray: 5.55,2.4; stroke-dashoffset: 0; stroke: #ff7f0e; stroke-width: 1.5\"/>\n   </g>\n   <g id=\"line2d_48\">\n    <path d=\"M 49.633125 28.048849 \nL 69.163125 19.714414 \nL 88.693125 18.613945 \n\" clip-path=\"url(#p8925447604)\" style=\"fill: none; stroke-dasharray: 9.6,2.4,1.5,2.4; stroke-dashoffset: 0; stroke: #2ca02c; stroke-width: 1.5\"/>\n   </g>\n   <g id=\"line2d_49\">\n    <path d=\"M 34.954394 14.203753 \nL 44.698573 87.68817 \nL 54.442752 105.32768 \nL 64.186931 112.177946 \nL 73.93111 117.868777 \nL 83.675289 119.937142 \nL 93.419468 123.4591 \nL 103.163647 124.864506 \n\" clip-path=\"url(#p8925447604)\" style=\"fill: none; stroke: #1f77b4; stroke-width: 1.5; stroke-linecap: square\"/>\n   </g>\n   <g id=\"line2d_50\">\n    <path d=\"M 49.633125 87.470188 \nL 69.163125 110.942873 \nL 88.693125 115.334242 \nL 108.223125 111.506637 \n\" clip-path=\"url(#p8925447604)\" style=\"fill: none; stroke-dasharray: 5.55,2.4; stroke-dashoffset: 0; stroke: #ff7f0e; stroke-width: 1.5\"/>\n   </g>\n   <g id=\"line2d_51\">\n    <path d=\"M 49.633125 28.048849 \nL 69.163125 19.714414 \nL 88.693125 18.613945 \n\" clip-path=\"url(#p8925447604)\" style=\"fill: none; stroke-dasharray: 9.6,2.4,1.5,2.4; stroke-dashoffset: 0; stroke: #2ca02c; stroke-width: 1.5\"/>\n   </g>\n   <g id=\"line2d_52\">\n    <path d=\"M 34.954394 14.203753 \nL 44.698573 87.68817 \nL 54.442752 105.32768 \nL 64.186931 112.177946 \nL 73.93111 117.868777 \nL 83.675289 119.937142 \nL 93.419468 123.4591 \nL 103.163647 124.864506 \n\" clip-path=\"url(#p8925447604)\" style=\"fill: none; stroke: #1f77b4; stroke-width: 1.5; stroke-linecap: square\"/>\n   </g>\n   <g id=\"line2d_53\">\n    <path d=\"M 49.633125 87.470188 \nL 69.163125 110.942873 \nL 88.693125 115.334242 \nL 108.223125 111.506637 \n\" clip-path=\"url(#p8925447604)\" style=\"fill: none; stroke-dasharray: 5.55,2.4; stroke-dashoffset: 0; stroke: #ff7f0e; stroke-width: 1.5\"/>\n   </g>\n   <g id=\"line2d_54\">\n    <path d=\"M 49.633125 28.048849 \nL 69.163125 19.714414 \nL 88.693125 18.613945 \nL 108.223125 20.005714 \n\" clip-path=\"url(#p8925447604)\" style=\"fill: none; stroke-dasharray: 9.6,2.4,1.5,2.4; stroke-dashoffset: 0; stroke: #2ca02c; stroke-width: 1.5\"/>\n   </g>\n   <g id=\"line2d_55\">\n    <path d=\"M 34.954394 14.203753 \nL 44.698573 87.68817 \nL 54.442752 105.32768 \nL 64.186931 112.177946 \nL 73.93111 117.868777 \nL 83.675289 119.937142 \nL 93.419468 123.4591 \nL 103.163647 124.864506 \nL 112.907826 127.604851 \n\" clip-path=\"url(#p8925447604)\" style=\"fill: none; stroke: #1f77b4; stroke-width: 1.5; stroke-linecap: square\"/>\n   </g>\n   <g id=\"line2d_56\">\n    <path d=\"M 49.633125 87.470188 \nL 69.163125 110.942873 \nL 88.693125 115.334242 \nL 108.223125 111.506637 \n\" clip-path=\"url(#p8925447604)\" style=\"fill: none; stroke-dasharray: 5.55,2.4; stroke-dashoffset: 0; stroke: #ff7f0e; stroke-width: 1.5\"/>\n   </g>\n   <g id=\"line2d_57\">\n    <path d=\"M 49.633125 28.048849 \nL 69.163125 19.714414 \nL 88.693125 18.613945 \nL 108.223125 20.005714 \n\" clip-path=\"url(#p8925447604)\" style=\"fill: none; stroke-dasharray: 9.6,2.4,1.5,2.4; stroke-dashoffset: 0; stroke: #2ca02c; stroke-width: 1.5\"/>\n   </g>\n   <g id=\"line2d_58\">\n    <path d=\"M 34.954394 14.203753 \nL 44.698573 87.68817 \nL 54.442752 105.32768 \nL 64.186931 112.177946 \nL 73.93111 117.868777 \nL 83.675289 119.937142 \nL 93.419468 123.4591 \nL 103.163647 124.864506 \nL 112.907826 127.604851 \nL 122.652006 128.36779 \n\" clip-path=\"url(#p8925447604)\" style=\"fill: none; stroke: #1f77b4; stroke-width: 1.5; stroke-linecap: square\"/>\n   </g>\n   <g id=\"line2d_59\">\n    <path d=\"M 49.633125 87.470188 \nL 69.163125 110.942873 \nL 88.693125 115.334242 \nL 108.223125 111.506637 \n\" clip-path=\"url(#p8925447604)\" style=\"fill: none; stroke-dasharray: 5.55,2.4; stroke-dashoffset: 0; stroke: #ff7f0e; stroke-width: 1.5\"/>\n   </g>\n   <g id=\"line2d_60\">\n    <path d=\"M 49.633125 28.048849 \nL 69.163125 19.714414 \nL 88.693125 18.613945 \nL 108.223125 20.005714 \n\" clip-path=\"url(#p8925447604)\" style=\"fill: none; stroke-dasharray: 9.6,2.4,1.5,2.4; stroke-dashoffset: 0; stroke: #2ca02c; stroke-width: 1.5\"/>\n   </g>\n   <g id=\"line2d_61\">\n    <path d=\"M 34.954394 14.203753 \nL 44.698573 87.68817 \nL 54.442752 105.32768 \nL 64.186931 112.177946 \nL 73.93111 117.868777 \nL 83.675289 119.937142 \nL 93.419468 123.4591 \nL 103.163647 124.864506 \nL 112.907826 127.604851 \nL 122.652006 128.36779 \n\" clip-path=\"url(#p8925447604)\" style=\"fill: none; stroke: #1f77b4; stroke-width: 1.5; stroke-linecap: square\"/>\n   </g>\n   <g id=\"line2d_62\">\n    <path d=\"M 49.633125 87.470188 \nL 69.163125 110.942873 \nL 88.693125 115.334242 \nL 108.223125 111.506637 \nL 127.753125 92.330484 \n\" clip-path=\"url(#p8925447604)\" style=\"fill: none; stroke-dasharray: 5.55,2.4; stroke-dashoffset: 0; stroke: #ff7f0e; stroke-width: 1.5\"/>\n   </g>\n   <g id=\"line2d_63\">\n    <path d=\"M 49.633125 28.048849 \nL 69.163125 19.714414 \nL 88.693125 18.613945 \nL 108.223125 20.005714 \n\" clip-path=\"url(#p8925447604)\" style=\"fill: none; stroke-dasharray: 9.6,2.4,1.5,2.4; stroke-dashoffset: 0; stroke: #2ca02c; stroke-width: 1.5\"/>\n   </g>\n   <g id=\"line2d_64\">\n    <path d=\"M 34.954394 14.203753 \nL 44.698573 87.68817 \nL 54.442752 105.32768 \nL 64.186931 112.177946 \nL 73.93111 117.868777 \nL 83.675289 119.937142 \nL 93.419468 123.4591 \nL 103.163647 124.864506 \nL 112.907826 127.604851 \nL 122.652006 128.36779 \n\" clip-path=\"url(#p8925447604)\" style=\"fill: none; stroke: #1f77b4; stroke-width: 1.5; stroke-linecap: square\"/>\n   </g>\n   <g id=\"line2d_65\">\n    <path d=\"M 49.633125 87.470188 \nL 69.163125 110.942873 \nL 88.693125 115.334242 \nL 108.223125 111.506637 \nL 127.753125 92.330484 \n\" clip-path=\"url(#p8925447604)\" style=\"fill: none; stroke-dasharray: 5.55,2.4; stroke-dashoffset: 0; stroke: #ff7f0e; stroke-width: 1.5\"/>\n   </g>\n   <g id=\"line2d_66\">\n    <path d=\"M 49.633125 28.048849 \nL 69.163125 19.714414 \nL 88.693125 18.613945 \nL 108.223125 20.005714 \nL 127.753125 26.187761 \n\" clip-path=\"url(#p8925447604)\" style=\"fill: none; stroke-dasharray: 9.6,2.4,1.5,2.4; stroke-dashoffset: 0; stroke: #2ca02c; stroke-width: 1.5\"/>\n   </g>\n   <g id=\"line2d_67\">\n    <path d=\"M 34.954394 14.203753 \nL 44.698573 87.68817 \nL 54.442752 105.32768 \nL 64.186931 112.177946 \nL 73.93111 117.868777 \nL 83.675289 119.937142 \nL 93.419468 123.4591 \nL 103.163647 124.864506 \nL 112.907826 127.604851 \nL 122.652006 128.36779 \nL 132.396185 131.508875 \n\" clip-path=\"url(#p8925447604)\" style=\"fill: none; stroke: #1f77b4; stroke-width: 1.5; stroke-linecap: square\"/>\n   </g>\n   <g id=\"line2d_68\">\n    <path d=\"M 49.633125 87.470188 \nL 69.163125 110.942873 \nL 88.693125 115.334242 \nL 108.223125 111.506637 \nL 127.753125 92.330484 \n\" clip-path=\"url(#p8925447604)\" style=\"fill: none; stroke-dasharray: 5.55,2.4; stroke-dashoffset: 0; stroke: #ff7f0e; stroke-width: 1.5\"/>\n   </g>\n   <g id=\"line2d_69\">\n    <path d=\"M 49.633125 28.048849 \nL 69.163125 19.714414 \nL 88.693125 18.613945 \nL 108.223125 20.005714 \nL 127.753125 26.187761 \n\" clip-path=\"url(#p8925447604)\" style=\"fill: none; stroke-dasharray: 9.6,2.4,1.5,2.4; stroke-dashoffset: 0; stroke: #2ca02c; stroke-width: 1.5\"/>\n   </g>\n   <g id=\"line2d_70\">\n    <path d=\"M 34.954394 14.203753 \nL 44.698573 87.68817 \nL 54.442752 105.32768 \nL 64.186931 112.177946 \nL 73.93111 117.868777 \nL 83.675289 119.937142 \nL 93.419468 123.4591 \nL 103.163647 124.864506 \nL 112.907826 127.604851 \nL 122.652006 128.36779 \nL 132.396185 131.508875 \nL 142.140364 129.970021 \n\" clip-path=\"url(#p8925447604)\" style=\"fill: none; stroke: #1f77b4; stroke-width: 1.5; stroke-linecap: square\"/>\n   </g>\n   <g id=\"line2d_71\">\n    <path d=\"M 49.633125 87.470188 \nL 69.163125 110.942873 \nL 88.693125 115.334242 \nL 108.223125 111.506637 \nL 127.753125 92.330484 \n\" clip-path=\"url(#p8925447604)\" style=\"fill: none; stroke-dasharray: 5.55,2.4; stroke-dashoffset: 0; stroke: #ff7f0e; stroke-width: 1.5\"/>\n   </g>\n   <g id=\"line2d_72\">\n    <path d=\"M 49.633125 28.048849 \nL 69.163125 19.714414 \nL 88.693125 18.613945 \nL 108.223125 20.005714 \nL 127.753125 26.187761 \n\" clip-path=\"url(#p8925447604)\" style=\"fill: none; stroke-dasharray: 9.6,2.4,1.5,2.4; stroke-dashoffset: 0; stroke: #2ca02c; stroke-width: 1.5\"/>\n   </g>\n   <g id=\"line2d_73\">\n    <path d=\"M 34.954394 14.203753 \nL 44.698573 87.68817 \nL 54.442752 105.32768 \nL 64.186931 112.177946 \nL 73.93111 117.868777 \nL 83.675289 119.937142 \nL 93.419468 123.4591 \nL 103.163647 124.864506 \nL 112.907826 127.604851 \nL 122.652006 128.36779 \nL 132.396185 131.508875 \nL 142.140364 129.970021 \n\" clip-path=\"url(#p8925447604)\" style=\"fill: none; stroke: #1f77b4; stroke-width: 1.5; stroke-linecap: square\"/>\n   </g>\n   <g id=\"line2d_74\">\n    <path d=\"M 49.633125 87.470188 \nL 69.163125 110.942873 \nL 88.693125 115.334242 \nL 108.223125 111.506637 \nL 127.753125 92.330484 \nL 147.283125 110.693966 \n\" clip-path=\"url(#p8925447604)\" style=\"fill: none; stroke-dasharray: 5.55,2.4; stroke-dashoffset: 0; stroke: #ff7f0e; stroke-width: 1.5\"/>\n   </g>\n   <g id=\"line2d_75\">\n    <path d=\"M 49.633125 28.048849 \nL 69.163125 19.714414 \nL 88.693125 18.613945 \nL 108.223125 20.005714 \nL 127.753125 26.187761 \n\" clip-path=\"url(#p8925447604)\" style=\"fill: none; stroke-dasharray: 9.6,2.4,1.5,2.4; stroke-dashoffset: 0; stroke: #2ca02c; stroke-width: 1.5\"/>\n   </g>\n   <g id=\"line2d_76\">\n    <path d=\"M 34.954394 14.203753 \nL 44.698573 87.68817 \nL 54.442752 105.32768 \nL 64.186931 112.177946 \nL 73.93111 117.868777 \nL 83.675289 119.937142 \nL 93.419468 123.4591 \nL 103.163647 124.864506 \nL 112.907826 127.604851 \nL 122.652006 128.36779 \nL 132.396185 131.508875 \nL 142.140364 129.970021 \n\" clip-path=\"url(#p8925447604)\" style=\"fill: none; stroke: #1f77b4; stroke-width: 1.5; stroke-linecap: square\"/>\n   </g>\n   <g id=\"line2d_77\">\n    <path d=\"M 49.633125 87.470188 \nL 69.163125 110.942873 \nL 88.693125 115.334242 \nL 108.223125 111.506637 \nL 127.753125 92.330484 \nL 147.283125 110.693966 \n\" clip-path=\"url(#p8925447604)\" style=\"fill: none; stroke-dasharray: 5.55,2.4; stroke-dashoffset: 0; stroke: #ff7f0e; stroke-width: 1.5\"/>\n   </g>\n   <g id=\"line2d_78\">\n    <path d=\"M 49.633125 28.048849 \nL 69.163125 19.714414 \nL 88.693125 18.613945 \nL 108.223125 20.005714 \nL 127.753125 26.187761 \nL 147.283125 19.908614 \n\" clip-path=\"url(#p8925447604)\" style=\"fill: none; stroke-dasharray: 9.6,2.4,1.5,2.4; stroke-dashoffset: 0; stroke: #2ca02c; stroke-width: 1.5\"/>\n   </g>\n   <g id=\"line2d_79\">\n    <path d=\"M 34.954394 14.203753 \nL 44.698573 87.68817 \nL 54.442752 105.32768 \nL 64.186931 112.177946 \nL 73.93111 117.868777 \nL 83.675289 119.937142 \nL 93.419468 123.4591 \nL 103.163647 124.864506 \nL 112.907826 127.604851 \nL 122.652006 128.36779 \nL 132.396185 131.508875 \nL 142.140364 129.970021 \nL 151.884543 133.738154 \n\" clip-path=\"url(#p8925447604)\" style=\"fill: none; stroke: #1f77b4; stroke-width: 1.5; stroke-linecap: square\"/>\n   </g>\n   <g id=\"line2d_80\">\n    <path d=\"M 49.633125 87.470188 \nL 69.163125 110.942873 \nL 88.693125 115.334242 \nL 108.223125 111.506637 \nL 127.753125 92.330484 \nL 147.283125 110.693966 \n\" clip-path=\"url(#p8925447604)\" style=\"fill: none; stroke-dasharray: 5.55,2.4; stroke-dashoffset: 0; stroke: #ff7f0e; stroke-width: 1.5\"/>\n   </g>\n   <g id=\"line2d_81\">\n    <path d=\"M 49.633125 28.048849 \nL 69.163125 19.714414 \nL 88.693125 18.613945 \nL 108.223125 20.005714 \nL 127.753125 26.187761 \nL 147.283125 19.908614 \n\" clip-path=\"url(#p8925447604)\" style=\"fill: none; stroke-dasharray: 9.6,2.4,1.5,2.4; stroke-dashoffset: 0; stroke: #2ca02c; stroke-width: 1.5\"/>\n   </g>\n   <g id=\"line2d_82\">\n    <path d=\"M 34.954394 14.203753 \nL 44.698573 87.68817 \nL 54.442752 105.32768 \nL 64.186931 112.177946 \nL 73.93111 117.868777 \nL 83.675289 119.937142 \nL 93.419468 123.4591 \nL 103.163647 124.864506 \nL 112.907826 127.604851 \nL 122.652006 128.36779 \nL 132.396185 131.508875 \nL 142.140364 129.970021 \nL 151.884543 133.738154 \nL 161.628722 132.72642 \n\" clip-path=\"url(#p8925447604)\" style=\"fill: none; stroke: #1f77b4; stroke-width: 1.5; stroke-linecap: square\"/>\n   </g>\n   <g id=\"line2d_83\">\n    <path d=\"M 49.633125 87.470188 \nL 69.163125 110.942873 \nL 88.693125 115.334242 \nL 108.223125 111.506637 \nL 127.753125 92.330484 \nL 147.283125 110.693966 \n\" clip-path=\"url(#p8925447604)\" style=\"fill: none; stroke-dasharray: 5.55,2.4; stroke-dashoffset: 0; stroke: #ff7f0e; stroke-width: 1.5\"/>\n   </g>\n   <g id=\"line2d_84\">\n    <path d=\"M 49.633125 28.048849 \nL 69.163125 19.714414 \nL 88.693125 18.613945 \nL 108.223125 20.005714 \nL 127.753125 26.187761 \nL 147.283125 19.908614 \n\" clip-path=\"url(#p8925447604)\" style=\"fill: none; stroke-dasharray: 9.6,2.4,1.5,2.4; stroke-dashoffset: 0; stroke: #2ca02c; stroke-width: 1.5\"/>\n   </g>\n   <g id=\"line2d_85\">\n    <path d=\"M 34.954394 14.203753 \nL 44.698573 87.68817 \nL 54.442752 105.32768 \nL 64.186931 112.177946 \nL 73.93111 117.868777 \nL 83.675289 119.937142 \nL 93.419468 123.4591 \nL 103.163647 124.864506 \nL 112.907826 127.604851 \nL 122.652006 128.36779 \nL 132.396185 131.508875 \nL 142.140364 129.970021 \nL 151.884543 133.738154 \nL 161.628722 132.72642 \n\" clip-path=\"url(#p8925447604)\" style=\"fill: none; stroke: #1f77b4; stroke-width: 1.5; stroke-linecap: square\"/>\n   </g>\n   <g id=\"line2d_86\">\n    <path d=\"M 49.633125 87.470188 \nL 69.163125 110.942873 \nL 88.693125 115.334242 \nL 108.223125 111.506637 \nL 127.753125 92.330484 \nL 147.283125 110.693966 \nL 166.813125 119.529715 \n\" clip-path=\"url(#p8925447604)\" style=\"fill: none; stroke-dasharray: 5.55,2.4; stroke-dashoffset: 0; stroke: #ff7f0e; stroke-width: 1.5\"/>\n   </g>\n   <g id=\"line2d_87\">\n    <path d=\"M 49.633125 28.048849 \nL 69.163125 19.714414 \nL 88.693125 18.613945 \nL 108.223125 20.005714 \nL 127.753125 26.187761 \nL 147.283125 19.908614 \n\" clip-path=\"url(#p8925447604)\" style=\"fill: none; stroke-dasharray: 9.6,2.4,1.5,2.4; stroke-dashoffset: 0; stroke: #2ca02c; stroke-width: 1.5\"/>\n   </g>\n   <g id=\"line2d_88\">\n    <path d=\"M 34.954394 14.203753 \nL 44.698573 87.68817 \nL 54.442752 105.32768 \nL 64.186931 112.177946 \nL 73.93111 117.868777 \nL 83.675289 119.937142 \nL 93.419468 123.4591 \nL 103.163647 124.864506 \nL 112.907826 127.604851 \nL 122.652006 128.36779 \nL 132.396185 131.508875 \nL 142.140364 129.970021 \nL 151.884543 133.738154 \nL 161.628722 132.72642 \n\" clip-path=\"url(#p8925447604)\" style=\"fill: none; stroke: #1f77b4; stroke-width: 1.5; stroke-linecap: square\"/>\n   </g>\n   <g id=\"line2d_89\">\n    <path d=\"M 49.633125 87.470188 \nL 69.163125 110.942873 \nL 88.693125 115.334242 \nL 108.223125 111.506637 \nL 127.753125 92.330484 \nL 147.283125 110.693966 \nL 166.813125 119.529715 \n\" clip-path=\"url(#p8925447604)\" style=\"fill: none; stroke-dasharray: 5.55,2.4; stroke-dashoffset: 0; stroke: #ff7f0e; stroke-width: 1.5\"/>\n   </g>\n   <g id=\"line2d_90\">\n    <path d=\"M 49.633125 28.048849 \nL 69.163125 19.714414 \nL 88.693125 18.613945 \nL 108.223125 20.005714 \nL 127.753125 26.187761 \nL 147.283125 19.908614 \nL 166.813125 16.849957 \n\" clip-path=\"url(#p8925447604)\" style=\"fill: none; stroke-dasharray: 9.6,2.4,1.5,2.4; stroke-dashoffset: 0; stroke: #2ca02c; stroke-width: 1.5\"/>\n   </g>\n   <g id=\"line2d_91\">\n    <path d=\"M 34.954394 14.203753 \nL 44.698573 87.68817 \nL 54.442752 105.32768 \nL 64.186931 112.177946 \nL 73.93111 117.868777 \nL 83.675289 119.937142 \nL 93.419468 123.4591 \nL 103.163647 124.864506 \nL 112.907826 127.604851 \nL 122.652006 128.36779 \nL 132.396185 131.508875 \nL 142.140364 129.970021 \nL 151.884543 133.738154 \nL 161.628722 132.72642 \nL 171.372901 135.550016 \n\" clip-path=\"url(#p8925447604)\" style=\"fill: none; stroke: #1f77b4; stroke-width: 1.5; stroke-linecap: square\"/>\n   </g>\n   <g id=\"line2d_92\">\n    <path d=\"M 49.633125 87.470188 \nL 69.163125 110.942873 \nL 88.693125 115.334242 \nL 108.223125 111.506637 \nL 127.753125 92.330484 \nL 147.283125 110.693966 \nL 166.813125 119.529715 \n\" clip-path=\"url(#p8925447604)\" style=\"fill: none; stroke-dasharray: 5.55,2.4; stroke-dashoffset: 0; stroke: #ff7f0e; stroke-width: 1.5\"/>\n   </g>\n   <g id=\"line2d_93\">\n    <path d=\"M 49.633125 28.048849 \nL 69.163125 19.714414 \nL 88.693125 18.613945 \nL 108.223125 20.005714 \nL 127.753125 26.187761 \nL 147.283125 19.908614 \nL 166.813125 16.849957 \n\" clip-path=\"url(#p8925447604)\" style=\"fill: none; stroke-dasharray: 9.6,2.4,1.5,2.4; stroke-dashoffset: 0; stroke: #2ca02c; stroke-width: 1.5\"/>\n   </g>\n   <g id=\"line2d_94\">\n    <path d=\"M 34.954394 14.203753 \nL 44.698573 87.68817 \nL 54.442752 105.32768 \nL 64.186931 112.177946 \nL 73.93111 117.868777 \nL 83.675289 119.937142 \nL 93.419468 123.4591 \nL 103.163647 124.864506 \nL 112.907826 127.604851 \nL 122.652006 128.36779 \nL 132.396185 131.508875 \nL 142.140364 129.970021 \nL 151.884543 133.738154 \nL 161.628722 132.72642 \nL 171.372901 135.550016 \nL 181.11708 134.849387 \n\" clip-path=\"url(#p8925447604)\" style=\"fill: none; stroke: #1f77b4; stroke-width: 1.5; stroke-linecap: square\"/>\n   </g>\n   <g id=\"line2d_95\">\n    <path d=\"M 49.633125 87.470188 \nL 69.163125 110.942873 \nL 88.693125 115.334242 \nL 108.223125 111.506637 \nL 127.753125 92.330484 \nL 147.283125 110.693966 \nL 166.813125 119.529715 \n\" clip-path=\"url(#p8925447604)\" style=\"fill: none; stroke-dasharray: 5.55,2.4; stroke-dashoffset: 0; stroke: #ff7f0e; stroke-width: 1.5\"/>\n   </g>\n   <g id=\"line2d_96\">\n    <path d=\"M 49.633125 28.048849 \nL 69.163125 19.714414 \nL 88.693125 18.613945 \nL 108.223125 20.005714 \nL 127.753125 26.187761 \nL 147.283125 19.908614 \nL 166.813125 16.849957 \n\" clip-path=\"url(#p8925447604)\" style=\"fill: none; stroke-dasharray: 9.6,2.4,1.5,2.4; stroke-dashoffset: 0; stroke: #2ca02c; stroke-width: 1.5\"/>\n   </g>\n   <g id=\"line2d_97\">\n    <path d=\"M 34.954394 14.203753 \nL 44.698573 87.68817 \nL 54.442752 105.32768 \nL 64.186931 112.177946 \nL 73.93111 117.868777 \nL 83.675289 119.937142 \nL 93.419468 123.4591 \nL 103.163647 124.864506 \nL 112.907826 127.604851 \nL 122.652006 128.36779 \nL 132.396185 131.508875 \nL 142.140364 129.970021 \nL 151.884543 133.738154 \nL 161.628722 132.72642 \nL 171.372901 135.550016 \nL 181.11708 134.849387 \n\" clip-path=\"url(#p8925447604)\" style=\"fill: none; stroke: #1f77b4; stroke-width: 1.5; stroke-linecap: square\"/>\n   </g>\n   <g id=\"line2d_98\">\n    <path d=\"M 49.633125 87.470188 \nL 69.163125 110.942873 \nL 88.693125 115.334242 \nL 108.223125 111.506637 \nL 127.753125 92.330484 \nL 147.283125 110.693966 \nL 166.813125 119.529715 \nL 186.343125 122.907349 \n\" clip-path=\"url(#p8925447604)\" style=\"fill: none; stroke-dasharray: 5.55,2.4; stroke-dashoffset: 0; stroke: #ff7f0e; stroke-width: 1.5\"/>\n   </g>\n   <g id=\"line2d_99\">\n    <path d=\"M 49.633125 28.048849 \nL 69.163125 19.714414 \nL 88.693125 18.613945 \nL 108.223125 20.005714 \nL 127.753125 26.187761 \nL 147.283125 19.908614 \nL 166.813125 16.849957 \n\" clip-path=\"url(#p8925447604)\" style=\"fill: none; stroke-dasharray: 9.6,2.4,1.5,2.4; stroke-dashoffset: 0; stroke: #2ca02c; stroke-width: 1.5\"/>\n   </g>\n   <g id=\"line2d_100\">\n    <path d=\"M 34.954394 14.203753 \nL 44.698573 87.68817 \nL 54.442752 105.32768 \nL 64.186931 112.177946 \nL 73.93111 117.868777 \nL 83.675289 119.937142 \nL 93.419468 123.4591 \nL 103.163647 124.864506 \nL 112.907826 127.604851 \nL 122.652006 128.36779 \nL 132.396185 131.508875 \nL 142.140364 129.970021 \nL 151.884543 133.738154 \nL 161.628722 132.72642 \nL 171.372901 135.550016 \nL 181.11708 134.849387 \n\" clip-path=\"url(#p8925447604)\" style=\"fill: none; stroke: #1f77b4; stroke-width: 1.5; stroke-linecap: square\"/>\n   </g>\n   <g id=\"line2d_101\">\n    <path d=\"M 49.633125 87.470188 \nL 69.163125 110.942873 \nL 88.693125 115.334242 \nL 108.223125 111.506637 \nL 127.753125 92.330484 \nL 147.283125 110.693966 \nL 166.813125 119.529715 \nL 186.343125 122.907349 \n\" clip-path=\"url(#p8925447604)\" style=\"fill: none; stroke-dasharray: 5.55,2.4; stroke-dashoffset: 0; stroke: #ff7f0e; stroke-width: 1.5\"/>\n   </g>\n   <g id=\"line2d_102\">\n    <path d=\"M 49.633125 28.048849 \nL 69.163125 19.714414 \nL 88.693125 18.613945 \nL 108.223125 20.005714 \nL 127.753125 26.187761 \nL 147.283125 19.908614 \nL 166.813125 16.849957 \nL 186.343125 16.218806 \n\" clip-path=\"url(#p8925447604)\" style=\"fill: none; stroke-dasharray: 9.6,2.4,1.5,2.4; stroke-dashoffset: 0; stroke: #2ca02c; stroke-width: 1.5\"/>\n   </g>\n   <g id=\"line2d_103\">\n    <path d=\"M 34.954394 14.203753 \nL 44.698573 87.68817 \nL 54.442752 105.32768 \nL 64.186931 112.177946 \nL 73.93111 117.868777 \nL 83.675289 119.937142 \nL 93.419468 123.4591 \nL 103.163647 124.864506 \nL 112.907826 127.604851 \nL 122.652006 128.36779 \nL 132.396185 131.508875 \nL 142.140364 129.970021 \nL 151.884543 133.738154 \nL 161.628722 132.72642 \nL 171.372901 135.550016 \nL 181.11708 134.849387 \nL 190.861259 137.6111 \n\" clip-path=\"url(#p8925447604)\" style=\"fill: none; stroke: #1f77b4; stroke-width: 1.5; stroke-linecap: square\"/>\n   </g>\n   <g id=\"line2d_104\">\n    <path d=\"M 49.633125 87.470188 \nL 69.163125 110.942873 \nL 88.693125 115.334242 \nL 108.223125 111.506637 \nL 127.753125 92.330484 \nL 147.283125 110.693966 \nL 166.813125 119.529715 \nL 186.343125 122.907349 \n\" clip-path=\"url(#p8925447604)\" style=\"fill: none; stroke-dasharray: 5.55,2.4; stroke-dashoffset: 0; stroke: #ff7f0e; stroke-width: 1.5\"/>\n   </g>\n   <g id=\"line2d_105\">\n    <path d=\"M 49.633125 28.048849 \nL 69.163125 19.714414 \nL 88.693125 18.613945 \nL 108.223125 20.005714 \nL 127.753125 26.187761 \nL 147.283125 19.908614 \nL 166.813125 16.849957 \nL 186.343125 16.218806 \n\" clip-path=\"url(#p8925447604)\" style=\"fill: none; stroke-dasharray: 9.6,2.4,1.5,2.4; stroke-dashoffset: 0; stroke: #2ca02c; stroke-width: 1.5\"/>\n   </g>\n   <g id=\"line2d_106\">\n    <path d=\"M 34.954394 14.203753 \nL 44.698573 87.68817 \nL 54.442752 105.32768 \nL 64.186931 112.177946 \nL 73.93111 117.868777 \nL 83.675289 119.937142 \nL 93.419468 123.4591 \nL 103.163647 124.864506 \nL 112.907826 127.604851 \nL 122.652006 128.36779 \nL 132.396185 131.508875 \nL 142.140364 129.970021 \nL 151.884543 133.738154 \nL 161.628722 132.72642 \nL 171.372901 135.550016 \nL 181.11708 134.849387 \nL 190.861259 137.6111 \nL 200.605438 136.735557 \n\" clip-path=\"url(#p8925447604)\" style=\"fill: none; stroke: #1f77b4; stroke-width: 1.5; stroke-linecap: square\"/>\n   </g>\n   <g id=\"line2d_107\">\n    <path d=\"M 49.633125 87.470188 \nL 69.163125 110.942873 \nL 88.693125 115.334242 \nL 108.223125 111.506637 \nL 127.753125 92.330484 \nL 147.283125 110.693966 \nL 166.813125 119.529715 \nL 186.343125 122.907349 \n\" clip-path=\"url(#p8925447604)\" style=\"fill: none; stroke-dasharray: 5.55,2.4; stroke-dashoffset: 0; stroke: #ff7f0e; stroke-width: 1.5\"/>\n   </g>\n   <g id=\"line2d_108\">\n    <path d=\"M 49.633125 28.048849 \nL 69.163125 19.714414 \nL 88.693125 18.613945 \nL 108.223125 20.005714 \nL 127.753125 26.187761 \nL 147.283125 19.908614 \nL 166.813125 16.849957 \nL 186.343125 16.218806 \n\" clip-path=\"url(#p8925447604)\" style=\"fill: none; stroke-dasharray: 9.6,2.4,1.5,2.4; stroke-dashoffset: 0; stroke: #2ca02c; stroke-width: 1.5\"/>\n   </g>\n   <g id=\"line2d_109\">\n    <path d=\"M 34.954394 14.203753 \nL 44.698573 87.68817 \nL 54.442752 105.32768 \nL 64.186931 112.177946 \nL 73.93111 117.868777 \nL 83.675289 119.937142 \nL 93.419468 123.4591 \nL 103.163647 124.864506 \nL 112.907826 127.604851 \nL 122.652006 128.36779 \nL 132.396185 131.508875 \nL 142.140364 129.970021 \nL 151.884543 133.738154 \nL 161.628722 132.72642 \nL 171.372901 135.550016 \nL 181.11708 134.849387 \nL 190.861259 137.6111 \nL 200.605438 136.735557 \n\" clip-path=\"url(#p8925447604)\" style=\"fill: none; stroke: #1f77b4; stroke-width: 1.5; stroke-linecap: square\"/>\n   </g>\n   <g id=\"line2d_110\">\n    <path d=\"M 49.633125 87.470188 \nL 69.163125 110.942873 \nL 88.693125 115.334242 \nL 108.223125 111.506637 \nL 127.753125 92.330484 \nL 147.283125 110.693966 \nL 166.813125 119.529715 \nL 186.343125 122.907349 \nL 205.873125 111.993572 \n\" clip-path=\"url(#p8925447604)\" style=\"fill: none; stroke-dasharray: 5.55,2.4; stroke-dashoffset: 0; stroke: #ff7f0e; stroke-width: 1.5\"/>\n   </g>\n   <g id=\"line2d_111\">\n    <path d=\"M 49.633125 28.048849 \nL 69.163125 19.714414 \nL 88.693125 18.613945 \nL 108.223125 20.005714 \nL 127.753125 26.187761 \nL 147.283125 19.908614 \nL 166.813125 16.849957 \nL 186.343125 16.218806 \n\" clip-path=\"url(#p8925447604)\" style=\"fill: none; stroke-dasharray: 9.6,2.4,1.5,2.4; stroke-dashoffset: 0; stroke: #2ca02c; stroke-width: 1.5\"/>\n   </g>\n   <g id=\"line2d_112\">\n    <path d=\"M 34.954394 14.203753 \nL 44.698573 87.68817 \nL 54.442752 105.32768 \nL 64.186931 112.177946 \nL 73.93111 117.868777 \nL 83.675289 119.937142 \nL 93.419468 123.4591 \nL 103.163647 124.864506 \nL 112.907826 127.604851 \nL 122.652006 128.36779 \nL 132.396185 131.508875 \nL 142.140364 129.970021 \nL 151.884543 133.738154 \nL 161.628722 132.72642 \nL 171.372901 135.550016 \nL 181.11708 134.849387 \nL 190.861259 137.6111 \nL 200.605438 136.735557 \n\" clip-path=\"url(#p8925447604)\" style=\"fill: none; stroke: #1f77b4; stroke-width: 1.5; stroke-linecap: square\"/>\n   </g>\n   <g id=\"line2d_113\">\n    <path d=\"M 49.633125 87.470188 \nL 69.163125 110.942873 \nL 88.693125 115.334242 \nL 108.223125 111.506637 \nL 127.753125 92.330484 \nL 147.283125 110.693966 \nL 166.813125 119.529715 \nL 186.343125 122.907349 \nL 205.873125 111.993572 \n\" clip-path=\"url(#p8925447604)\" style=\"fill: none; stroke-dasharray: 5.55,2.4; stroke-dashoffset: 0; stroke: #ff7f0e; stroke-width: 1.5\"/>\n   </g>\n   <g id=\"line2d_114\">\n    <path d=\"M 49.633125 28.048849 \nL 69.163125 19.714414 \nL 88.693125 18.613945 \nL 108.223125 20.005714 \nL 127.753125 26.187761 \nL 147.283125 19.908614 \nL 166.813125 16.849957 \nL 186.343125 16.218806 \nL 205.873125 19.795331 \n\" clip-path=\"url(#p8925447604)\" style=\"fill: none; stroke-dasharray: 9.6,2.4,1.5,2.4; stroke-dashoffset: 0; stroke: #2ca02c; stroke-width: 1.5\"/>\n   </g>\n   <g id=\"line2d_115\">\n    <path d=\"M 34.954394 14.203753 \nL 44.698573 87.68817 \nL 54.442752 105.32768 \nL 64.186931 112.177946 \nL 73.93111 117.868777 \nL 83.675289 119.937142 \nL 93.419468 123.4591 \nL 103.163647 124.864506 \nL 112.907826 127.604851 \nL 122.652006 128.36779 \nL 132.396185 131.508875 \nL 142.140364 129.970021 \nL 151.884543 133.738154 \nL 161.628722 132.72642 \nL 171.372901 135.550016 \nL 181.11708 134.849387 \nL 190.861259 137.6111 \nL 200.605438 136.735557 \nL 210.349618 139.5 \n\" clip-path=\"url(#p8925447604)\" style=\"fill: none; stroke: #1f77b4; stroke-width: 1.5; stroke-linecap: square\"/>\n   </g>\n   <g id=\"line2d_116\">\n    <path d=\"M 49.633125 87.470188 \nL 69.163125 110.942873 \nL 88.693125 115.334242 \nL 108.223125 111.506637 \nL 127.753125 92.330484 \nL 147.283125 110.693966 \nL 166.813125 119.529715 \nL 186.343125 122.907349 \nL 205.873125 111.993572 \n\" clip-path=\"url(#p8925447604)\" style=\"fill: none; stroke-dasharray: 5.55,2.4; stroke-dashoffset: 0; stroke: #ff7f0e; stroke-width: 1.5\"/>\n   </g>\n   <g id=\"line2d_117\">\n    <path d=\"M 49.633125 28.048849 \nL 69.163125 19.714414 \nL 88.693125 18.613945 \nL 108.223125 20.005714 \nL 127.753125 26.187761 \nL 147.283125 19.908614 \nL 166.813125 16.849957 \nL 186.343125 16.218806 \nL 205.873125 19.795331 \n\" clip-path=\"url(#p8925447604)\" style=\"fill: none; stroke-dasharray: 9.6,2.4,1.5,2.4; stroke-dashoffset: 0; stroke: #2ca02c; stroke-width: 1.5\"/>\n   </g>\n   <g id=\"line2d_118\">\n    <path d=\"M 34.954394 14.203753 \nL 44.698573 87.68817 \nL 54.442752 105.32768 \nL 64.186931 112.177946 \nL 73.93111 117.868777 \nL 83.675289 119.937142 \nL 93.419468 123.4591 \nL 103.163647 124.864506 \nL 112.907826 127.604851 \nL 122.652006 128.36779 \nL 132.396185 131.508875 \nL 142.140364 129.970021 \nL 151.884543 133.738154 \nL 161.628722 132.72642 \nL 171.372901 135.550016 \nL 181.11708 134.849387 \nL 190.861259 137.6111 \nL 200.605438 136.735557 \nL 210.349618 139.5 \nL 220.093797 138.614703 \n\" clip-path=\"url(#p8925447604)\" style=\"fill: none; stroke: #1f77b4; stroke-width: 1.5; stroke-linecap: square\"/>\n   </g>\n   <g id=\"line2d_119\">\n    <path d=\"M 49.633125 87.470188 \nL 69.163125 110.942873 \nL 88.693125 115.334242 \nL 108.223125 111.506637 \nL 127.753125 92.330484 \nL 147.283125 110.693966 \nL 166.813125 119.529715 \nL 186.343125 122.907349 \nL 205.873125 111.993572 \n\" clip-path=\"url(#p8925447604)\" style=\"fill: none; stroke-dasharray: 5.55,2.4; stroke-dashoffset: 0; stroke: #ff7f0e; stroke-width: 1.5\"/>\n   </g>\n   <g id=\"line2d_120\">\n    <path d=\"M 49.633125 28.048849 \nL 69.163125 19.714414 \nL 88.693125 18.613945 \nL 108.223125 20.005714 \nL 127.753125 26.187761 \nL 147.283125 19.908614 \nL 166.813125 16.849957 \nL 186.343125 16.218806 \nL 205.873125 19.795331 \n\" clip-path=\"url(#p8925447604)\" style=\"fill: none; stroke-dasharray: 9.6,2.4,1.5,2.4; stroke-dashoffset: 0; stroke: #2ca02c; stroke-width: 1.5\"/>\n   </g>\n   <g id=\"line2d_121\">\n    <path d=\"M 34.954394 14.203753 \nL 44.698573 87.68817 \nL 54.442752 105.32768 \nL 64.186931 112.177946 \nL 73.93111 117.868777 \nL 83.675289 119.937142 \nL 93.419468 123.4591 \nL 103.163647 124.864506 \nL 112.907826 127.604851 \nL 122.652006 128.36779 \nL 132.396185 131.508875 \nL 142.140364 129.970021 \nL 151.884543 133.738154 \nL 161.628722 132.72642 \nL 171.372901 135.550016 \nL 181.11708 134.849387 \nL 190.861259 137.6111 \nL 200.605438 136.735557 \nL 210.349618 139.5 \nL 220.093797 138.614703 \n\" clip-path=\"url(#p8925447604)\" style=\"fill: none; stroke: #1f77b4; stroke-width: 1.5; stroke-linecap: square\"/>\n   </g>\n   <g id=\"line2d_122\">\n    <path d=\"M 49.633125 87.470188 \nL 69.163125 110.942873 \nL 88.693125 115.334242 \nL 108.223125 111.506637 \nL 127.753125 92.330484 \nL 147.283125 110.693966 \nL 166.813125 119.529715 \nL 186.343125 122.907349 \nL 205.873125 111.993572 \nL 225.403125 128.440619 \n\" clip-path=\"url(#p8925447604)\" style=\"fill: none; stroke-dasharray: 5.55,2.4; stroke-dashoffset: 0; stroke: #ff7f0e; stroke-width: 1.5\"/>\n   </g>\n   <g id=\"line2d_123\">\n    <path d=\"M 49.633125 28.048849 \nL 69.163125 19.714414 \nL 88.693125 18.613945 \nL 108.223125 20.005714 \nL 127.753125 26.187761 \nL 147.283125 19.908614 \nL 166.813125 16.849957 \nL 186.343125 16.218806 \nL 205.873125 19.795331 \n\" clip-path=\"url(#p8925447604)\" style=\"fill: none; stroke-dasharray: 9.6,2.4,1.5,2.4; stroke-dashoffset: 0; stroke: #2ca02c; stroke-width: 1.5\"/>\n   </g>\n   <g id=\"line2d_124\">\n    <path d=\"M 34.954394 14.203753 \nL 44.698573 87.68817 \nL 54.442752 105.32768 \nL 64.186931 112.177946 \nL 73.93111 117.868777 \nL 83.675289 119.937142 \nL 93.419468 123.4591 \nL 103.163647 124.864506 \nL 112.907826 127.604851 \nL 122.652006 128.36779 \nL 132.396185 131.508875 \nL 142.140364 129.970021 \nL 151.884543 133.738154 \nL 161.628722 132.72642 \nL 171.372901 135.550016 \nL 181.11708 134.849387 \nL 190.861259 137.6111 \nL 200.605438 136.735557 \nL 210.349618 139.5 \nL 220.093797 138.614703 \n\" clip-path=\"url(#p8925447604)\" style=\"fill: none; stroke: #1f77b4; stroke-width: 1.5; stroke-linecap: square\"/>\n   </g>\n   <g id=\"line2d_125\">\n    <path d=\"M 49.633125 87.470188 \nL 69.163125 110.942873 \nL 88.693125 115.334242 \nL 108.223125 111.506637 \nL 127.753125 92.330484 \nL 147.283125 110.693966 \nL 166.813125 119.529715 \nL 186.343125 122.907349 \nL 205.873125 111.993572 \nL 225.403125 128.440619 \n\" clip-path=\"url(#p8925447604)\" style=\"fill: none; stroke-dasharray: 5.55,2.4; stroke-dashoffset: 0; stroke: #ff7f0e; stroke-width: 1.5\"/>\n   </g>\n   <g id=\"line2d_126\">\n    <path d=\"M 49.633125 28.048849 \nL 69.163125 19.714414 \nL 88.693125 18.613945 \nL 108.223125 20.005714 \nL 127.753125 26.187761 \nL 147.283125 19.908614 \nL 166.813125 16.849957 \nL 186.343125 16.218806 \nL 205.873125 19.795331 \nL 225.403125 13.5 \n\" clip-path=\"url(#p8925447604)\" style=\"fill: none; stroke-dasharray: 9.6,2.4,1.5,2.4; stroke-dashoffset: 0; stroke: #2ca02c; stroke-width: 1.5\"/>\n   </g>\n   <g id=\"patch_3\">\n    <path d=\"M 30.103125 145.8 \nL 30.103125 7.2 \n\" style=\"fill: none; stroke: #000000; stroke-width: 0.8; stroke-linejoin: miter; stroke-linecap: square\"/>\n   </g>\n   <g id=\"patch_4\">\n    <path d=\"M 225.403125 145.8 \nL 225.403125 7.2 \n\" style=\"fill: none; stroke: #000000; stroke-width: 0.8; stroke-linejoin: miter; stroke-linecap: square\"/>\n   </g>\n   <g id=\"patch_5\">\n    <path d=\"M 30.103125 145.8 \nL 225.403125 145.8 \n\" style=\"fill: none; stroke: #000000; stroke-width: 0.8; stroke-linejoin: miter; stroke-linecap: square\"/>\n   </g>\n   <g id=\"patch_6\">\n    <path d=\"M 30.103125 7.2 \nL 225.403125 7.2 \n\" style=\"fill: none; stroke: #000000; stroke-width: 0.8; stroke-linejoin: miter; stroke-linecap: square\"/>\n   </g>\n   <g id=\"legend_1\">\n    <g id=\"patch_7\">\n     <path d=\"M 138.8125 100.434375 \nL 218.403125 100.434375 \nQ 220.403125 100.434375 220.403125 98.434375 \nL 220.403125 54.565625 \nQ 220.403125 52.565625 218.403125 52.565625 \nL 138.8125 52.565625 \nQ 136.8125 52.565625 136.8125 54.565625 \nL 136.8125 98.434375 \nQ 136.8125 100.434375 138.8125 100.434375 \nz\n\" style=\"fill: #ffffff; opacity: 0.8; stroke: #cccccc; stroke-linejoin: miter\"/>\n    </g>\n    <g id=\"line2d_127\">\n     <path d=\"M 140.8125 60.664063 \nL 150.8125 60.664063 \nL 160.8125 60.664063 \n\" style=\"fill: none; stroke: #1f77b4; stroke-width: 1.5; stroke-linecap: square\"/>\n    </g>\n    <g id=\"text_12\">\n     <!-- train_loss -->\n     <g transform=\"translate(168.8125 64.164063) scale(0.1 -0.1)\">\n      <defs>\n       <path id=\"DejaVuSans-74\" d=\"M 1172 4494 \nL 1172 3500 \nL 2356 3500 \nL 2356 3053 \nL 1172 3053 \nL 1172 1153 \nQ 1172 725 1289 603 \nQ 1406 481 1766 481 \nL 2356 481 \nL 2356 0 \nL 1766 0 \nQ 1100 0 847 248 \nQ 594 497 594 1153 \nL 594 3053 \nL 172 3053 \nL 172 3500 \nL 594 3500 \nL 594 4494 \nL 1172 4494 \nz\n\" transform=\"scale(0.015625)\"/>\n       <path id=\"DejaVuSans-72\" d=\"M 2631 2963 \nQ 2534 3019 2420 3045 \nQ 2306 3072 2169 3072 \nQ 1681 3072 1420 2755 \nQ 1159 2438 1159 1844 \nL 1159 0 \nL 581 0 \nL 581 3500 \nL 1159 3500 \nL 1159 2956 \nQ 1341 3275 1631 3429 \nQ 1922 3584 2338 3584 \nQ 2397 3584 2469 3576 \nQ 2541 3569 2628 3553 \nL 2631 2963 \nz\n\" transform=\"scale(0.015625)\"/>\n       <path id=\"DejaVuSans-61\" d=\"M 2194 1759 \nQ 1497 1759 1228 1600 \nQ 959 1441 959 1056 \nQ 959 750 1161 570 \nQ 1363 391 1709 391 \nQ 2188 391 2477 730 \nQ 2766 1069 2766 1631 \nL 2766 1759 \nL 2194 1759 \nz\nM 3341 1997 \nL 3341 0 \nL 2766 0 \nL 2766 531 \nQ 2569 213 2275 61 \nQ 1981 -91 1556 -91 \nQ 1019 -91 701 211 \nQ 384 513 384 1019 \nQ 384 1609 779 1909 \nQ 1175 2209 1959 2209 \nL 2766 2209 \nL 2766 2266 \nQ 2766 2663 2505 2880 \nQ 2244 3097 1772 3097 \nQ 1472 3097 1187 3025 \nQ 903 2953 641 2809 \nL 641 3341 \nQ 956 3463 1253 3523 \nQ 1550 3584 1831 3584 \nQ 2591 3584 2966 3190 \nQ 3341 2797 3341 1997 \nz\n\" transform=\"scale(0.015625)\"/>\n       <path id=\"DejaVuSans-69\" d=\"M 603 3500 \nL 1178 3500 \nL 1178 0 \nL 603 0 \nL 603 3500 \nz\nM 603 4863 \nL 1178 4863 \nL 1178 4134 \nL 603 4134 \nL 603 4863 \nz\n\" transform=\"scale(0.015625)\"/>\n       <path id=\"DejaVuSans-6e\" d=\"M 3513 2113 \nL 3513 0 \nL 2938 0 \nL 2938 2094 \nQ 2938 2591 2744 2837 \nQ 2550 3084 2163 3084 \nQ 1697 3084 1428 2787 \nQ 1159 2491 1159 1978 \nL 1159 0 \nL 581 0 \nL 581 3500 \nL 1159 3500 \nL 1159 2956 \nQ 1366 3272 1645 3428 \nQ 1925 3584 2291 3584 \nQ 2894 3584 3203 3211 \nQ 3513 2838 3513 2113 \nz\n\" transform=\"scale(0.015625)\"/>\n       <path id=\"DejaVuSans-5f\" d=\"M 3263 -1063 \nL 3263 -1509 \nL -63 -1509 \nL -63 -1063 \nL 3263 -1063 \nz\n\" transform=\"scale(0.015625)\"/>\n       <path id=\"DejaVuSans-6c\" d=\"M 603 4863 \nL 1178 4863 \nL 1178 0 \nL 603 0 \nL 603 4863 \nz\n\" transform=\"scale(0.015625)\"/>\n       <path id=\"DejaVuSans-73\" d=\"M 2834 3397 \nL 2834 2853 \nQ 2591 2978 2328 3040 \nQ 2066 3103 1784 3103 \nQ 1356 3103 1142 2972 \nQ 928 2841 928 2578 \nQ 928 2378 1081 2264 \nQ 1234 2150 1697 2047 \nL 1894 2003 \nQ 2506 1872 2764 1633 \nQ 3022 1394 3022 966 \nQ 3022 478 2636 193 \nQ 2250 -91 1575 -91 \nQ 1294 -91 989 -36 \nQ 684 19 347 128 \nL 347 722 \nQ 666 556 975 473 \nQ 1284 391 1588 391 \nQ 1994 391 2212 530 \nQ 2431 669 2431 922 \nQ 2431 1156 2273 1281 \nQ 2116 1406 1581 1522 \nL 1381 1569 \nQ 847 1681 609 1914 \nQ 372 2147 372 2553 \nQ 372 3047 722 3315 \nQ 1072 3584 1716 3584 \nQ 2034 3584 2315 3537 \nQ 2597 3491 2834 3397 \nz\n\" transform=\"scale(0.015625)\"/>\n      </defs>\n      <use xlink:href=\"#DejaVuSans-74\"/>\n      <use xlink:href=\"#DejaVuSans-72\" x=\"39.208984\"/>\n      <use xlink:href=\"#DejaVuSans-61\" x=\"80.322266\"/>\n      <use xlink:href=\"#DejaVuSans-69\" x=\"141.601562\"/>\n      <use xlink:href=\"#DejaVuSans-6e\" x=\"169.384766\"/>\n      <use xlink:href=\"#DejaVuSans-5f\" x=\"232.763672\"/>\n      <use xlink:href=\"#DejaVuSans-6c\" x=\"282.763672\"/>\n      <use xlink:href=\"#DejaVuSans-6f\" x=\"310.546875\"/>\n      <use xlink:href=\"#DejaVuSans-73\" x=\"371.728516\"/>\n      <use xlink:href=\"#DejaVuSans-73\" x=\"423.828125\"/>\n     </g>\n    </g>\n    <g id=\"line2d_128\">\n     <path d=\"M 140.8125 75.620313 \nL 150.8125 75.620313 \nL 160.8125 75.620313 \n\" style=\"fill: none; stroke-dasharray: 5.55,2.4; stroke-dashoffset: 0; stroke: #ff7f0e; stroke-width: 1.5\"/>\n    </g>\n    <g id=\"text_13\">\n     <!-- val_loss -->\n     <g transform=\"translate(168.8125 79.120313) scale(0.1 -0.1)\">\n      <defs>\n       <path id=\"DejaVuSans-76\" d=\"M 191 3500 \nL 800 3500 \nL 1894 563 \nL 2988 3500 \nL 3597 3500 \nL 2284 0 \nL 1503 0 \nL 191 3500 \nz\n\" transform=\"scale(0.015625)\"/>\n      </defs>\n      <use xlink:href=\"#DejaVuSans-76\"/>\n      <use xlink:href=\"#DejaVuSans-61\" x=\"59.179688\"/>\n      <use xlink:href=\"#DejaVuSans-6c\" x=\"120.458984\"/>\n      <use xlink:href=\"#DejaVuSans-5f\" x=\"148.242188\"/>\n      <use xlink:href=\"#DejaVuSans-6c\" x=\"198.242188\"/>\n      <use xlink:href=\"#DejaVuSans-6f\" x=\"226.025391\"/>\n      <use xlink:href=\"#DejaVuSans-73\" x=\"287.207031\"/>\n      <use xlink:href=\"#DejaVuSans-73\" x=\"339.306641\"/>\n     </g>\n    </g>\n    <g id=\"line2d_129\">\n     <path d=\"M 140.8125 90.576563 \nL 150.8125 90.576563 \nL 160.8125 90.576563 \n\" style=\"fill: none; stroke-dasharray: 9.6,2.4,1.5,2.4; stroke-dashoffset: 0; stroke: #2ca02c; stroke-width: 1.5\"/>\n    </g>\n    <g id=\"text_14\">\n     <!-- val_acc -->\n     <g transform=\"translate(168.8125 94.076563) scale(0.1 -0.1)\">\n      <use xlink:href=\"#DejaVuSans-76\"/>\n      <use xlink:href=\"#DejaVuSans-61\" x=\"59.179688\"/>\n      <use xlink:href=\"#DejaVuSans-6c\" x=\"120.458984\"/>\n      <use xlink:href=\"#DejaVuSans-5f\" x=\"148.242188\"/>\n      <use xlink:href=\"#DejaVuSans-61\" x=\"198.242188\"/>\n      <use xlink:href=\"#DejaVuSans-63\" x=\"259.521484\"/>\n      <use xlink:href=\"#DejaVuSans-63\" x=\"314.501953\"/>\n     </g>\n    </g>\n   </g>\n  </g>\n </g>\n <defs>\n  <clipPath id=\"p8925447604\">\n   <rect x=\"30.103125\" y=\"7.2\" width=\"195.3\" height=\"138.6\"/>\n  </clipPath>\n </defs>\n</svg>\n"
          },
          "metadata": {}
        }
      ]
    },
    {
      "cell_type": "markdown",
      "source": [
        "## 8.7.7. Exercises"
      ],
      "metadata": {
        "id": "gydfI-b-YrrQ"
      }
    },
    {
      "cell_type": "markdown",
      "source": [
        "**1.** Why do we use average pooling rather than max-pooling in the transition layer?\n",
        "\n",
        "**ANSWER**\n",
        "\n",
        "Average pooling is often used in the transition layer of DenseNet for a few reasons:\n",
        "\n",
        "- Preservation of Information: Average pooling takes the average of the values in a region, which can help retain more information compared to max pooling, which only keeps the maximum value. This is particularly beneficial in DenseNet, where the model relies on the concatenation of feature maps from previous layers.\n",
        "- Smooth Feature Learning: Average pooling can provide smoother feature maps, which can help in maintaining spatial information, especially in deeper networks.\n",
        "- Better Gradient Flow: By reducing spatial dimensions more gradually and smoothly, average pooling may contribute to better gradient flow, reducing issues like vanishing gradients during training."
      ],
      "metadata": {
        "id": "vgvESojiYvNS"
      }
    },
    {
      "cell_type": "markdown",
      "source": [
        "**2.** One of the advantages mentioned in the DenseNet paper is that its model parameters are smaller than those of ResNet. Why is this the case?\n",
        "\n",
        "**ANSWER**\n",
        "\n",
        "The primary reason DenseNet has fewer parameters compared to ResNet is due to its architecture:\n",
        "\n",
        "- Feature Reuse: In DenseNet, each layer receives input from all previous layers, enabling efficient reuse of features. This means that the model can achieve similar or better performance with fewer parameters since each layer does not need to learn redundant features.\n",
        "- Growth Rate: DenseNet utilizes a growth rate, which determines how many filters are added in each dense block. This controlled increase in parameters allows the model to maintain a relatively compact size while still being expressive.\n",
        "- Bottleneck Layers: DenseNet often employs bottleneck layers, reducing the number of feature maps before applying expensive convolutional operations, thereby further reducing the total number of parameters.\n"
      ],
      "metadata": {
        "id": "nZxqXQfN57dC"
      }
    },
    {
      "cell_type": "markdown",
      "source": [
        "**3.** One problem for which DenseNet has been criticized is its high memory consumption.\n",
        "\n",
        "**a.** Is this really the case? Try to change the input shape to 224 x 224\n",
        " to compare the actual GPU memory consumption empirically.\n",
        "\n",
        "**ANSWER**\n",
        "\n",
        "To compare the actual GPU memory consumption when changing the input shape to 224x224, you can use PyTorch and its built-in functionality. Below is a code snippet to measure GPU memory usage when passing a larger input through your DenseNet model.\n"
      ],
      "metadata": {
        "id": "lfoiIIm35-Dl"
      }
    },
    {
      "cell_type": "code",
      "source": [
        "import torch\n",
        "import torch.nn as nn\n",
        "import d2l\n",
        "\n",
        "# Assuming the DenseNet class is defined as in your original code\n",
        "# Change the input shape to 224x224\n",
        "input_shape = (4, 3, 224, 224)  # Batch size of 4, 3 color channels, 224x224 image size\n",
        "X = torch.randn(input_shape).cuda()  # Move to GPU\n",
        "\n",
        "# Create the DenseNet model\n",
        "model = DenseNet(lr=0.01).cuda()  # Move to GPU\n",
        "model.eval()  # Set model to evaluation mode\n",
        "\n",
        "# Measure memory consumption\n",
        "with torch.no_grad():\n",
        "    torch.cuda.empty_cache()  # Clear cache to measure accurately\n",
        "    torch.cuda.memory_stats()  # Optional: Get memory stats before running\n",
        "    Y = model(X)\n",
        "\n",
        "# Output the size of Y\n",
        "print(f\"Output shape: {Y.shape}\")\n",
        "print(f\"Current memory allocated: {torch.cuda.memory_allocated() / (1024**2)} MB\")\n",
        "print(f\"Current memory cached: {torch.cuda.memory_reserved() / (1024**2)} MB\")"
      ],
      "metadata": {
        "id": "TpcfRAWL8kSj"
      },
      "execution_count": null,
      "outputs": []
    },
    {
      "cell_type": "markdown",
      "source": [
        "This code snippet creates a DenseNet model and measures the GPU memory allocated after passing an input of shape 224x224. You can run this code to empirically check memory consumption."
      ],
      "metadata": {
        "id": "k2n96S0C8lQj"
      }
    },
    {
      "cell_type": "markdown",
      "source": [
        "**b.** Can you think of an alternative means of reducing the memory consumption? How would you need to change the framework?\n",
        "\n",
        "**ANSWER**\n",
        "\n",
        "There are several strategies to reduce memory consumption in DenseNet:\n",
        "\n",
        "- Gradient Checkpointing: This technique allows you to trade computation for memory by saving only a subset of intermediate activations and recomputing others during the backward pass. This can significantly lower memory usage during training.\n",
        "\n",
        "- Use Mixed Precision Training: Leveraging mixed-precision training (using torch.cuda.amp) can help reduce memory usage and speed up computations by using half-precision (float16) instead of full precision (float32) for most calculations.\n",
        "\n",
        "- Adjust Network Architecture: Reducing the number of layers or using fewer dense blocks can also help reduce memory consumption."
      ],
      "metadata": {
        "id": "8Z2S1-Q98JdU"
      }
    },
    {
      "cell_type": "markdown",
      "source": [
        "**4.** Implement the various DenseNet versions presented in Table 1 of the DenseNet paper (Huang et al., 2017).\n",
        "\n",
        "**ANSWER**\n",
        "\n",
        "To implement different DenseNet versions as described in Table 1 of the DenseNet paper (e.g., DenseNet-121, DenseNet-169, DenseNet-201, and DenseNet-264), you can create the DenseNet class with different growth rates and architectures."
      ],
      "metadata": {
        "id": "3SWu1Qpf6CAi"
      }
    },
    {
      "cell_type": "code",
      "source": [
        "def get_densenet_version(version):\n",
        "    if version == \"DenseNet-121\":\n",
        "        return DenseNet(arch=(6, 12, 24, 16))  # Growth rate = 32 (default)\n",
        "    elif version == \"DenseNet-169\":\n",
        "        return DenseNet(arch=(6, 12, 32, 32))\n",
        "    elif version == \"DenseNet-201\":\n",
        "        return DenseNet(arch=(6, 12, 48, 32))\n",
        "    elif version == \"DenseNet-264\":\n",
        "        return DenseNet(arch=(6, 12, 64, 48))\n",
        "    else:\n",
        "        raise ValueError(\"Unsupported DenseNet version.\")"
      ],
      "metadata": {
        "id": "kVWjCT7788LW"
      },
      "execution_count": null,
      "outputs": []
    },
    {
      "cell_type": "markdown",
      "source": [
        "**5.** Design an MLP-based model by applying the DenseNet idea. Apply it to the housing price prediction task in Section 5.7.\n",
        "\n",
        "**ANSWER**\n",
        "\n",
        "To design an MLP-based model inspired by DenseNet, you can implement dense connections between fully connected layers."
      ],
      "metadata": {
        "id": "nibhDEBP6GLK"
      }
    },
    {
      "cell_type": "code",
      "source": [
        "class DenseMLP(nn.Module):\n",
        "    def __init__(self, input_size, num_classes, growth_rate=32):\n",
        "        super(DenseMLP, self).__init__()\n",
        "        self.dense_layers = []\n",
        "        self.input_size = input_size\n",
        "\n",
        "        # Initial layer\n",
        "        self.dense_layers.append(nn.Linear(input_size, growth_rate))\n",
        "\n",
        "        for i in range(3):  # 3 dense layers\n",
        "            self.dense_layers.append(nn.Linear(growth_rate * (i + 1), growth_rate))  # Dense connections\n",
        "            self.dense_layers.append(nn.ReLU())\n",
        "\n",
        "        self.dense_layers.append(nn.Linear(growth_rate * 3, num_classes))\n",
        "\n",
        "        self.net = nn.Sequential(*self.dense_layers)\n",
        "\n",
        "    def forward(self, x):\n",
        "        for layer in self.net:\n",
        "            x = layer(x)\n",
        "        return x\n",
        "\n",
        "# Example usage for housing price prediction\n",
        "input_size = 30  # Example input size (e.g., number of features)\n",
        "num_classes = 1  # Regression task (housing price prediction)\n",
        "model = DenseMLP(input_size, num_classes)"
      ],
      "metadata": {
        "id": "g3VW2daj9Hfm"
      },
      "execution_count": null,
      "outputs": []
    },
    {
      "cell_type": "markdown",
      "source": [
        "In this MLP-based model, each layer's output is concatenated and passed to the next layer, similar to the DenseNet idea."
      ],
      "metadata": {
        "id": "PBsvvATR9MGY"
      }
    },
    {
      "cell_type": "markdown",
      "source": [
        "# 8.8. Designing Convolution Network Architectures"
      ],
      "metadata": {
        "id": "CjVtdM1ZY8Nm"
      }
    },
    {
      "cell_type": "code",
      "source": [
        "import torch\n",
        "from torch import nn\n",
        "from torch.nn import functional as F\n",
        "from d2l import torch as d2l"
      ],
      "metadata": {
        "id": "LqbmEznAZD6M"
      },
      "execution_count": 58,
      "outputs": []
    },
    {
      "cell_type": "markdown",
      "source": [
        "## 8.8.1. The AnyNet Design Space"
      ],
      "metadata": {
        "id": "wyIIrLWhZE9b"
      }
    },
    {
      "cell_type": "code",
      "source": [
        "class AnyNet(d2l.Classifier):\n",
        "    def stem(self, num_channels):\n",
        "        return nn.Sequential(\n",
        "            nn.LazyConv2d(num_channels, kernel_size=3, stride=2, padding=1),\n",
        "            nn.LazyBatchNorm2d(), nn.ReLU())"
      ],
      "metadata": {
        "id": "Edl5tYT3YuQK"
      },
      "execution_count": 59,
      "outputs": []
    },
    {
      "cell_type": "code",
      "source": [
        "@d2l.add_to_class(AnyNet)\n",
        "def stage(self, depth, num_channels, groups, bot_mul):\n",
        "    blk = []\n",
        "    for i in range(depth):\n",
        "        if i == 0:\n",
        "            blk.append(d2l.ResNeXtBlock(num_channels, groups, bot_mul,\n",
        "                use_1x1conv=True, strides=2))\n",
        "        else:\n",
        "            blk.append(d2l.ResNeXtBlock(num_channels, groups, bot_mul))\n",
        "    return nn.Sequential(*blk)"
      ],
      "metadata": {
        "id": "RuQ3bPp7ZLCw"
      },
      "execution_count": 60,
      "outputs": []
    },
    {
      "cell_type": "code",
      "source": [
        "@d2l.add_to_class(AnyNet)\n",
        "def __init__(self, arch, stem_channels, lr=0.1, num_classes=10):\n",
        "    super(AnyNet, self).__init__()\n",
        "    self.save_hyperparameters()\n",
        "    self.net = nn.Sequential(self.stem(stem_channels))\n",
        "    for i, s in enumerate(arch):\n",
        "        self.net.add_module(f'stage{i+1}', self.stage(*s))\n",
        "    self.net.add_module('head', nn.Sequential(\n",
        "        nn.AdaptiveAvgPool2d((1, 1)), nn.Flatten(),\n",
        "        nn.LazyLinear(num_classes)))\n",
        "    self.net.apply(d2l.init_cnn)"
      ],
      "metadata": {
        "id": "QSq2ZzhVZNUh"
      },
      "execution_count": 61,
      "outputs": []
    },
    {
      "cell_type": "markdown",
      "source": [
        "## 8.8.3. RegNet"
      ],
      "metadata": {
        "id": "qPCGGk7DZPo-"
      }
    },
    {
      "cell_type": "code",
      "source": [
        "class RegNetX32(AnyNet):\n",
        "    def __init__(self, lr=0.1, num_classes=10):\n",
        "        stem_channels, groups, bot_mul = 32, 16, 1\n",
        "        depths, channels = (4, 6), (32, 80)\n",
        "        super().__init__(\n",
        "            ((depths[0], channels[0], groups, bot_mul),\n",
        "             (depths[1], channels[1], groups, bot_mul)),\n",
        "            stem_channels, lr, num_classes)"
      ],
      "metadata": {
        "id": "jutwdYrpZU4o"
      },
      "execution_count": 62,
      "outputs": []
    },
    {
      "cell_type": "code",
      "source": [
        "RegNetX32().layer_summary((1, 1, 96, 96))"
      ],
      "metadata": {
        "id": "JeeEsZkuZXU2",
        "colab": {
          "base_uri": "https://localhost:8080/"
        },
        "outputId": "1adba766-4995-40b2-a211-c5f51a88e7fb"
      },
      "execution_count": 63,
      "outputs": [
        {
          "output_type": "stream",
          "name": "stdout",
          "text": [
            "Sequential output shape:\t torch.Size([1, 32, 48, 48])\n",
            "Sequential output shape:\t torch.Size([1, 32, 24, 24])\n",
            "Sequential output shape:\t torch.Size([1, 80, 12, 12])\n",
            "Sequential output shape:\t torch.Size([1, 10])\n"
          ]
        }
      ]
    },
    {
      "cell_type": "markdown",
      "source": [
        "## 8.8.4. Training"
      ],
      "metadata": {
        "id": "qDzznjKtZa9p"
      }
    },
    {
      "cell_type": "code",
      "source": [
        "model = RegNetX32(lr=0.05)\n",
        "trainer = d2l.Trainer(max_epochs=10, num_gpus=1)\n",
        "data = d2l.FashionMNIST(batch_size=128, resize=(96, 96))\n",
        "trainer.fit(model, data)"
      ],
      "metadata": {
        "id": "0g9SlVhUZb2t",
        "colab": {
          "base_uri": "https://localhost:8080/",
          "height": 265
        },
        "outputId": "8e0743bb-db88-4157-8321-2775da2223e5"
      },
      "execution_count": 64,
      "outputs": [
        {
          "output_type": "display_data",
          "data": {
            "text/plain": [
              "<Figure size 350x250 with 1 Axes>"
            ],
            "image/svg+xml": "<?xml version=\"1.0\" encoding=\"utf-8\" standalone=\"no\"?>\n<!DOCTYPE svg PUBLIC \"-//W3C//DTD SVG 1.1//EN\"\n  \"http://www.w3.org/Graphics/SVG/1.1/DTD/svg11.dtd\">\n<svg xmlns:xlink=\"http://www.w3.org/1999/xlink\" width=\"238.965625pt\" height=\"183.35625pt\" viewBox=\"0 0 238.965625 183.35625\" xmlns=\"http://www.w3.org/2000/svg\" version=\"1.1\">\n <metadata>\n  <rdf:RDF xmlns:dc=\"http://purl.org/dc/elements/1.1/\" xmlns:cc=\"http://creativecommons.org/ns#\" xmlns:rdf=\"http://www.w3.org/1999/02/22-rdf-syntax-ns#\">\n   <cc:Work>\n    <dc:type rdf:resource=\"http://purl.org/dc/dcmitype/StillImage\"/>\n    <dc:date>2024-10-05T14:58:49.473598</dc:date>\n    <dc:format>image/svg+xml</dc:format>\n    <dc:creator>\n     <cc:Agent>\n      <dc:title>Matplotlib v3.7.2, https://matplotlib.org/</dc:title>\n     </cc:Agent>\n    </dc:creator>\n   </cc:Work>\n  </rdf:RDF>\n </metadata>\n <defs>\n  <style type=\"text/css\">*{stroke-linejoin: round; stroke-linecap: butt}</style>\n </defs>\n <g id=\"figure_1\">\n  <g id=\"patch_1\">\n   <path d=\"M 0 183.35625 \nL 238.965625 183.35625 \nL 238.965625 0 \nL 0 0 \nz\n\" style=\"fill: #ffffff\"/>\n  </g>\n  <g id=\"axes_1\">\n   <g id=\"patch_2\">\n    <path d=\"M 30.103125 145.8 \nL 225.403125 145.8 \nL 225.403125 7.2 \nL 30.103125 7.2 \nz\n\" style=\"fill: #ffffff\"/>\n   </g>\n   <g id=\"matplotlib.axis_1\">\n    <g id=\"xtick_1\">\n     <g id=\"line2d_1\">\n      <defs>\n       <path id=\"m05fc912b1c\" d=\"M 0 0 \nL 0 3.5 \n\" style=\"stroke: #000000; stroke-width: 0.8\"/>\n      </defs>\n      <g>\n       <use xlink:href=\"#m05fc912b1c\" x=\"30.103125\" y=\"145.8\" style=\"stroke: #000000; stroke-width: 0.8\"/>\n      </g>\n     </g>\n     <g id=\"text_1\">\n      <!-- 0 -->\n      <g transform=\"translate(26.921875 160.398438) scale(0.1 -0.1)\">\n       <defs>\n        <path id=\"DejaVuSans-30\" d=\"M 2034 4250 \nQ 1547 4250 1301 3770 \nQ 1056 3291 1056 2328 \nQ 1056 1369 1301 889 \nQ 1547 409 2034 409 \nQ 2525 409 2770 889 \nQ 3016 1369 3016 2328 \nQ 3016 3291 2770 3770 \nQ 2525 4250 2034 4250 \nz\nM 2034 4750 \nQ 2819 4750 3233 4129 \nQ 3647 3509 3647 2328 \nQ 3647 1150 3233 529 \nQ 2819 -91 2034 -91 \nQ 1250 -91 836 529 \nQ 422 1150 422 2328 \nQ 422 3509 836 4129 \nQ 1250 4750 2034 4750 \nz\n\" transform=\"scale(0.015625)\"/>\n       </defs>\n       <use xlink:href=\"#DejaVuSans-30\"/>\n      </g>\n     </g>\n    </g>\n    <g id=\"xtick_2\">\n     <g id=\"line2d_2\">\n      <g>\n       <use xlink:href=\"#m05fc912b1c\" x=\"69.163125\" y=\"145.8\" style=\"stroke: #000000; stroke-width: 0.8\"/>\n      </g>\n     </g>\n     <g id=\"text_2\">\n      <!-- 2 -->\n      <g transform=\"translate(65.981875 160.398438) scale(0.1 -0.1)\">\n       <defs>\n        <path id=\"DejaVuSans-32\" d=\"M 1228 531 \nL 3431 531 \nL 3431 0 \nL 469 0 \nL 469 531 \nQ 828 903 1448 1529 \nQ 2069 2156 2228 2338 \nQ 2531 2678 2651 2914 \nQ 2772 3150 2772 3378 \nQ 2772 3750 2511 3984 \nQ 2250 4219 1831 4219 \nQ 1534 4219 1204 4116 \nQ 875 4013 500 3803 \nL 500 4441 \nQ 881 4594 1212 4672 \nQ 1544 4750 1819 4750 \nQ 2544 4750 2975 4387 \nQ 3406 4025 3406 3419 \nQ 3406 3131 3298 2873 \nQ 3191 2616 2906 2266 \nQ 2828 2175 2409 1742 \nQ 1991 1309 1228 531 \nz\n\" transform=\"scale(0.015625)\"/>\n       </defs>\n       <use xlink:href=\"#DejaVuSans-32\"/>\n      </g>\n     </g>\n    </g>\n    <g id=\"xtick_3\">\n     <g id=\"line2d_3\">\n      <g>\n       <use xlink:href=\"#m05fc912b1c\" x=\"108.223125\" y=\"145.8\" style=\"stroke: #000000; stroke-width: 0.8\"/>\n      </g>\n     </g>\n     <g id=\"text_3\">\n      <!-- 4 -->\n      <g transform=\"translate(105.041875 160.398438) scale(0.1 -0.1)\">\n       <defs>\n        <path id=\"DejaVuSans-34\" d=\"M 2419 4116 \nL 825 1625 \nL 2419 1625 \nL 2419 4116 \nz\nM 2253 4666 \nL 3047 4666 \nL 3047 1625 \nL 3713 1625 \nL 3713 1100 \nL 3047 1100 \nL 3047 0 \nL 2419 0 \nL 2419 1100 \nL 313 1100 \nL 313 1709 \nL 2253 4666 \nz\n\" transform=\"scale(0.015625)\"/>\n       </defs>\n       <use xlink:href=\"#DejaVuSans-34\"/>\n      </g>\n     </g>\n    </g>\n    <g id=\"xtick_4\">\n     <g id=\"line2d_4\">\n      <g>\n       <use xlink:href=\"#m05fc912b1c\" x=\"147.283125\" y=\"145.8\" style=\"stroke: #000000; stroke-width: 0.8\"/>\n      </g>\n     </g>\n     <g id=\"text_4\">\n      <!-- 6 -->\n      <g transform=\"translate(144.101875 160.398438) scale(0.1 -0.1)\">\n       <defs>\n        <path id=\"DejaVuSans-36\" d=\"M 2113 2584 \nQ 1688 2584 1439 2293 \nQ 1191 2003 1191 1497 \nQ 1191 994 1439 701 \nQ 1688 409 2113 409 \nQ 2538 409 2786 701 \nQ 3034 994 3034 1497 \nQ 3034 2003 2786 2293 \nQ 2538 2584 2113 2584 \nz\nM 3366 4563 \nL 3366 3988 \nQ 3128 4100 2886 4159 \nQ 2644 4219 2406 4219 \nQ 1781 4219 1451 3797 \nQ 1122 3375 1075 2522 \nQ 1259 2794 1537 2939 \nQ 1816 3084 2150 3084 \nQ 2853 3084 3261 2657 \nQ 3669 2231 3669 1497 \nQ 3669 778 3244 343 \nQ 2819 -91 2113 -91 \nQ 1303 -91 875 529 \nQ 447 1150 447 2328 \nQ 447 3434 972 4092 \nQ 1497 4750 2381 4750 \nQ 2619 4750 2861 4703 \nQ 3103 4656 3366 4563 \nz\n\" transform=\"scale(0.015625)\"/>\n       </defs>\n       <use xlink:href=\"#DejaVuSans-36\"/>\n      </g>\n     </g>\n    </g>\n    <g id=\"xtick_5\">\n     <g id=\"line2d_5\">\n      <g>\n       <use xlink:href=\"#m05fc912b1c\" x=\"186.343125\" y=\"145.8\" style=\"stroke: #000000; stroke-width: 0.8\"/>\n      </g>\n     </g>\n     <g id=\"text_5\">\n      <!-- 8 -->\n      <g transform=\"translate(183.161875 160.398438) scale(0.1 -0.1)\">\n       <defs>\n        <path id=\"DejaVuSans-38\" d=\"M 2034 2216 \nQ 1584 2216 1326 1975 \nQ 1069 1734 1069 1313 \nQ 1069 891 1326 650 \nQ 1584 409 2034 409 \nQ 2484 409 2743 651 \nQ 3003 894 3003 1313 \nQ 3003 1734 2745 1975 \nQ 2488 2216 2034 2216 \nz\nM 1403 2484 \nQ 997 2584 770 2862 \nQ 544 3141 544 3541 \nQ 544 4100 942 4425 \nQ 1341 4750 2034 4750 \nQ 2731 4750 3128 4425 \nQ 3525 4100 3525 3541 \nQ 3525 3141 3298 2862 \nQ 3072 2584 2669 2484 \nQ 3125 2378 3379 2068 \nQ 3634 1759 3634 1313 \nQ 3634 634 3220 271 \nQ 2806 -91 2034 -91 \nQ 1263 -91 848 271 \nQ 434 634 434 1313 \nQ 434 1759 690 2068 \nQ 947 2378 1403 2484 \nz\nM 1172 3481 \nQ 1172 3119 1398 2916 \nQ 1625 2713 2034 2713 \nQ 2441 2713 2670 2916 \nQ 2900 3119 2900 3481 \nQ 2900 3844 2670 4047 \nQ 2441 4250 2034 4250 \nQ 1625 4250 1398 4047 \nQ 1172 3844 1172 3481 \nz\n\" transform=\"scale(0.015625)\"/>\n       </defs>\n       <use xlink:href=\"#DejaVuSans-38\"/>\n      </g>\n     </g>\n    </g>\n    <g id=\"xtick_6\">\n     <g id=\"line2d_6\">\n      <g>\n       <use xlink:href=\"#m05fc912b1c\" x=\"225.403125\" y=\"145.8\" style=\"stroke: #000000; stroke-width: 0.8\"/>\n      </g>\n     </g>\n     <g id=\"text_6\">\n      <!-- 10 -->\n      <g transform=\"translate(219.040625 160.398438) scale(0.1 -0.1)\">\n       <defs>\n        <path id=\"DejaVuSans-31\" d=\"M 794 531 \nL 1825 531 \nL 1825 4091 \nL 703 3866 \nL 703 4441 \nL 1819 4666 \nL 2450 4666 \nL 2450 531 \nL 3481 531 \nL 3481 0 \nL 794 0 \nL 794 531 \nz\n\" transform=\"scale(0.015625)\"/>\n       </defs>\n       <use xlink:href=\"#DejaVuSans-31\"/>\n       <use xlink:href=\"#DejaVuSans-30\" x=\"63.623047\"/>\n      </g>\n     </g>\n    </g>\n    <g id=\"text_7\">\n     <!-- epoch -->\n     <g transform=\"translate(112.525 174.076563) scale(0.1 -0.1)\">\n      <defs>\n       <path id=\"DejaVuSans-65\" d=\"M 3597 1894 \nL 3597 1613 \nL 953 1613 \nQ 991 1019 1311 708 \nQ 1631 397 2203 397 \nQ 2534 397 2845 478 \nQ 3156 559 3463 722 \nL 3463 178 \nQ 3153 47 2828 -22 \nQ 2503 -91 2169 -91 \nQ 1331 -91 842 396 \nQ 353 884 353 1716 \nQ 353 2575 817 3079 \nQ 1281 3584 2069 3584 \nQ 2775 3584 3186 3129 \nQ 3597 2675 3597 1894 \nz\nM 3022 2063 \nQ 3016 2534 2758 2815 \nQ 2500 3097 2075 3097 \nQ 1594 3097 1305 2825 \nQ 1016 2553 972 2059 \nL 3022 2063 \nz\n\" transform=\"scale(0.015625)\"/>\n       <path id=\"DejaVuSans-70\" d=\"M 1159 525 \nL 1159 -1331 \nL 581 -1331 \nL 581 3500 \nL 1159 3500 \nL 1159 2969 \nQ 1341 3281 1617 3432 \nQ 1894 3584 2278 3584 \nQ 2916 3584 3314 3078 \nQ 3713 2572 3713 1747 \nQ 3713 922 3314 415 \nQ 2916 -91 2278 -91 \nQ 1894 -91 1617 61 \nQ 1341 213 1159 525 \nz\nM 3116 1747 \nQ 3116 2381 2855 2742 \nQ 2594 3103 2138 3103 \nQ 1681 3103 1420 2742 \nQ 1159 2381 1159 1747 \nQ 1159 1113 1420 752 \nQ 1681 391 2138 391 \nQ 2594 391 2855 752 \nQ 3116 1113 3116 1747 \nz\n\" transform=\"scale(0.015625)\"/>\n       <path id=\"DejaVuSans-6f\" d=\"M 1959 3097 \nQ 1497 3097 1228 2736 \nQ 959 2375 959 1747 \nQ 959 1119 1226 758 \nQ 1494 397 1959 397 \nQ 2419 397 2687 759 \nQ 2956 1122 2956 1747 \nQ 2956 2369 2687 2733 \nQ 2419 3097 1959 3097 \nz\nM 1959 3584 \nQ 2709 3584 3137 3096 \nQ 3566 2609 3566 1747 \nQ 3566 888 3137 398 \nQ 2709 -91 1959 -91 \nQ 1206 -91 779 398 \nQ 353 888 353 1747 \nQ 353 2609 779 3096 \nQ 1206 3584 1959 3584 \nz\n\" transform=\"scale(0.015625)\"/>\n       <path id=\"DejaVuSans-63\" d=\"M 3122 3366 \nL 3122 2828 \nQ 2878 2963 2633 3030 \nQ 2388 3097 2138 3097 \nQ 1578 3097 1268 2742 \nQ 959 2388 959 1747 \nQ 959 1106 1268 751 \nQ 1578 397 2138 397 \nQ 2388 397 2633 464 \nQ 2878 531 3122 666 \nL 3122 134 \nQ 2881 22 2623 -34 \nQ 2366 -91 2075 -91 \nQ 1284 -91 818 406 \nQ 353 903 353 1747 \nQ 353 2603 823 3093 \nQ 1294 3584 2113 3584 \nQ 2378 3584 2631 3529 \nQ 2884 3475 3122 3366 \nz\n\" transform=\"scale(0.015625)\"/>\n       <path id=\"DejaVuSans-68\" d=\"M 3513 2113 \nL 3513 0 \nL 2938 0 \nL 2938 2094 \nQ 2938 2591 2744 2837 \nQ 2550 3084 2163 3084 \nQ 1697 3084 1428 2787 \nQ 1159 2491 1159 1978 \nL 1159 0 \nL 581 0 \nL 581 4863 \nL 1159 4863 \nL 1159 2956 \nQ 1366 3272 1645 3428 \nQ 1925 3584 2291 3584 \nQ 2894 3584 3203 3211 \nQ 3513 2838 3513 2113 \nz\n\" transform=\"scale(0.015625)\"/>\n      </defs>\n      <use xlink:href=\"#DejaVuSans-65\"/>\n      <use xlink:href=\"#DejaVuSans-70\" x=\"61.523438\"/>\n      <use xlink:href=\"#DejaVuSans-6f\" x=\"125\"/>\n      <use xlink:href=\"#DejaVuSans-63\" x=\"186.181641\"/>\n      <use xlink:href=\"#DejaVuSans-68\" x=\"241.162109\"/>\n     </g>\n    </g>\n   </g>\n   <g id=\"matplotlib.axis_2\">\n    <g id=\"ytick_1\">\n     <g id=\"line2d_7\">\n      <defs>\n       <path id=\"mf999edba1e\" d=\"M 0 0 \nL -3.5 0 \n\" style=\"stroke: #000000; stroke-width: 0.8\"/>\n      </defs>\n      <g>\n       <use xlink:href=\"#mf999edba1e\" x=\"30.103125\" y=\"133.133774\" style=\"stroke: #000000; stroke-width: 0.8\"/>\n      </g>\n     </g>\n     <g id=\"text_8\">\n      <!-- 0.2 -->\n      <g transform=\"translate(7.2 136.932993) scale(0.1 -0.1)\">\n       <defs>\n        <path id=\"DejaVuSans-2e\" d=\"M 684 794 \nL 1344 794 \nL 1344 0 \nL 684 0 \nL 684 794 \nz\n\" transform=\"scale(0.015625)\"/>\n       </defs>\n       <use xlink:href=\"#DejaVuSans-30\"/>\n       <use xlink:href=\"#DejaVuSans-2e\" x=\"63.623047\"/>\n       <use xlink:href=\"#DejaVuSans-32\" x=\"95.410156\"/>\n      </g>\n     </g>\n    </g>\n    <g id=\"ytick_2\">\n     <g id=\"line2d_8\">\n      <g>\n       <use xlink:href=\"#mf999edba1e\" x=\"30.103125\" y=\"101.312314\" style=\"stroke: #000000; stroke-width: 0.8\"/>\n      </g>\n     </g>\n     <g id=\"text_9\">\n      <!-- 0.4 -->\n      <g transform=\"translate(7.2 105.111533) scale(0.1 -0.1)\">\n       <use xlink:href=\"#DejaVuSans-30\"/>\n       <use xlink:href=\"#DejaVuSans-2e\" x=\"63.623047\"/>\n       <use xlink:href=\"#DejaVuSans-34\" x=\"95.410156\"/>\n      </g>\n     </g>\n    </g>\n    <g id=\"ytick_3\">\n     <g id=\"line2d_9\">\n      <g>\n       <use xlink:href=\"#mf999edba1e\" x=\"30.103125\" y=\"69.490854\" style=\"stroke: #000000; stroke-width: 0.8\"/>\n      </g>\n     </g>\n     <g id=\"text_10\">\n      <!-- 0.6 -->\n      <g transform=\"translate(7.2 73.290073) scale(0.1 -0.1)\">\n       <use xlink:href=\"#DejaVuSans-30\"/>\n       <use xlink:href=\"#DejaVuSans-2e\" x=\"63.623047\"/>\n       <use xlink:href=\"#DejaVuSans-36\" x=\"95.410156\"/>\n      </g>\n     </g>\n    </g>\n    <g id=\"ytick_4\">\n     <g id=\"line2d_10\">\n      <g>\n       <use xlink:href=\"#mf999edba1e\" x=\"30.103125\" y=\"37.669394\" style=\"stroke: #000000; stroke-width: 0.8\"/>\n      </g>\n     </g>\n     <g id=\"text_11\">\n      <!-- 0.8 -->\n      <g transform=\"translate(7.2 41.468613) scale(0.1 -0.1)\">\n       <use xlink:href=\"#DejaVuSans-30\"/>\n       <use xlink:href=\"#DejaVuSans-2e\" x=\"63.623047\"/>\n       <use xlink:href=\"#DejaVuSans-38\" x=\"95.410156\"/>\n      </g>\n     </g>\n    </g>\n   </g>\n   <g id=\"line2d_11\">\n    <path d=\"M 34.954394 13.5 \n\" clip-path=\"url(#p82449108d5)\" style=\"fill: none; stroke: #1f77b4; stroke-width: 1.5; stroke-linecap: square\"/>\n   </g>\n   <g id=\"line2d_12\">\n    <path d=\"M 34.954394 13.5 \nL 44.698573 86.09332 \n\" clip-path=\"url(#p82449108d5)\" style=\"fill: none; stroke: #1f77b4; stroke-width: 1.5; stroke-linecap: square\"/>\n   </g>\n   <g id=\"line2d_13\">\n    <path d=\"M 34.954394 13.5 \nL 44.698573 86.09332 \n\" clip-path=\"url(#p82449108d5)\" style=\"fill: none; stroke: #1f77b4; stroke-width: 1.5; stroke-linecap: square\"/>\n   </g>\n   <g id=\"line2d_14\">\n    <path d=\"M 49.633125 40.618921 \n\" clip-path=\"url(#p82449108d5)\" style=\"fill: none; stroke-dasharray: 5.55,2.4; stroke-dashoffset: 0; stroke: #ff7f0e; stroke-width: 1.5\"/>\n   </g>\n   <g id=\"line2d_15\"/>\n   <g id=\"line2d_16\">\n    <path d=\"M 34.954394 13.5 \nL 44.698573 86.09332 \n\" clip-path=\"url(#p82449108d5)\" style=\"fill: none; stroke: #1f77b4; stroke-width: 1.5; stroke-linecap: square\"/>\n   </g>\n   <g id=\"line2d_17\">\n    <path d=\"M 49.633125 40.618921 \n\" clip-path=\"url(#p82449108d5)\" style=\"fill: none; stroke-dasharray: 5.55,2.4; stroke-dashoffset: 0; stroke: #ff7f0e; stroke-width: 1.5\"/>\n   </g>\n   <g id=\"line2d_18\">\n    <path d=\"M 49.633125 52.186047 \n\" clip-path=\"url(#p82449108d5)\" style=\"fill: none; stroke-dasharray: 9.6,2.4,1.5,2.4; stroke-dashoffset: 0; stroke: #2ca02c; stroke-width: 1.5\"/>\n   </g>\n   <g id=\"line2d_19\">\n    <path d=\"M 34.954394 13.5 \nL 44.698573 86.09332 \nL 54.442752 104.462686 \n\" clip-path=\"url(#p82449108d5)\" style=\"fill: none; stroke: #1f77b4; stroke-width: 1.5; stroke-linecap: square\"/>\n   </g>\n   <g id=\"line2d_20\">\n    <path d=\"M 49.633125 40.618921 \n\" clip-path=\"url(#p82449108d5)\" style=\"fill: none; stroke-dasharray: 5.55,2.4; stroke-dashoffset: 0; stroke: #ff7f0e; stroke-width: 1.5\"/>\n   </g>\n   <g id=\"line2d_21\">\n    <path d=\"M 49.633125 52.186047 \n\" clip-path=\"url(#p82449108d5)\" style=\"fill: none; stroke-dasharray: 9.6,2.4,1.5,2.4; stroke-dashoffset: 0; stroke: #2ca02c; stroke-width: 1.5\"/>\n   </g>\n   <g id=\"line2d_22\">\n    <path d=\"M 34.954394 13.5 \nL 44.698573 86.09332 \nL 54.442752 104.462686 \nL 64.186931 111.349883 \n\" clip-path=\"url(#p82449108d5)\" style=\"fill: none; stroke: #1f77b4; stroke-width: 1.5; stroke-linecap: square\"/>\n   </g>\n   <g id=\"line2d_23\">\n    <path d=\"M 49.633125 40.618921 \n\" clip-path=\"url(#p82449108d5)\" style=\"fill: none; stroke-dasharray: 5.55,2.4; stroke-dashoffset: 0; stroke: #ff7f0e; stroke-width: 1.5\"/>\n   </g>\n   <g id=\"line2d_24\">\n    <path d=\"M 49.633125 52.186047 \n\" clip-path=\"url(#p82449108d5)\" style=\"fill: none; stroke-dasharray: 9.6,2.4,1.5,2.4; stroke-dashoffset: 0; stroke: #2ca02c; stroke-width: 1.5\"/>\n   </g>\n   <g id=\"line2d_25\">\n    <path d=\"M 34.954394 13.5 \nL 44.698573 86.09332 \nL 54.442752 104.462686 \nL 64.186931 111.349883 \n\" clip-path=\"url(#p82449108d5)\" style=\"fill: none; stroke: #1f77b4; stroke-width: 1.5; stroke-linecap: square\"/>\n   </g>\n   <g id=\"line2d_26\">\n    <path d=\"M 49.633125 40.618921 \nL 69.163125 98.260935 \n\" clip-path=\"url(#p82449108d5)\" style=\"fill: none; stroke-dasharray: 5.55,2.4; stroke-dashoffset: 0; stroke: #ff7f0e; stroke-width: 1.5\"/>\n   </g>\n   <g id=\"line2d_27\">\n    <path d=\"M 49.633125 52.186047 \n\" clip-path=\"url(#p82449108d5)\" style=\"fill: none; stroke-dasharray: 9.6,2.4,1.5,2.4; stroke-dashoffset: 0; stroke: #2ca02c; stroke-width: 1.5\"/>\n   </g>\n   <g id=\"line2d_28\">\n    <path d=\"M 34.954394 13.5 \nL 44.698573 86.09332 \nL 54.442752 104.462686 \nL 64.186931 111.349883 \n\" clip-path=\"url(#p82449108d5)\" style=\"fill: none; stroke: #1f77b4; stroke-width: 1.5; stroke-linecap: square\"/>\n   </g>\n   <g id=\"line2d_29\">\n    <path d=\"M 49.633125 40.618921 \nL 69.163125 98.260935 \n\" clip-path=\"url(#p82449108d5)\" style=\"fill: none; stroke-dasharray: 5.55,2.4; stroke-dashoffset: 0; stroke: #ff7f0e; stroke-width: 1.5\"/>\n   </g>\n   <g id=\"line2d_30\">\n    <path d=\"M 49.633125 52.186047 \nL 69.163125 29.717176 \n\" clip-path=\"url(#p82449108d5)\" style=\"fill: none; stroke-dasharray: 9.6,2.4,1.5,2.4; stroke-dashoffset: 0; stroke: #2ca02c; stroke-width: 1.5\"/>\n   </g>\n   <g id=\"line2d_31\">\n    <path d=\"M 34.954394 13.5 \nL 44.698573 86.09332 \nL 54.442752 104.462686 \nL 64.186931 111.349883 \nL 73.93111 117.278989 \n\" clip-path=\"url(#p82449108d5)\" style=\"fill: none; stroke: #1f77b4; stroke-width: 1.5; stroke-linecap: square\"/>\n   </g>\n   <g id=\"line2d_32\">\n    <path d=\"M 49.633125 40.618921 \nL 69.163125 98.260935 \n\" clip-path=\"url(#p82449108d5)\" style=\"fill: none; stroke-dasharray: 5.55,2.4; stroke-dashoffset: 0; stroke: #ff7f0e; stroke-width: 1.5\"/>\n   </g>\n   <g id=\"line2d_33\">\n    <path d=\"M 49.633125 52.186047 \nL 69.163125 29.717176 \n\" clip-path=\"url(#p82449108d5)\" style=\"fill: none; stroke-dasharray: 9.6,2.4,1.5,2.4; stroke-dashoffset: 0; stroke: #2ca02c; stroke-width: 1.5\"/>\n   </g>\n   <g id=\"line2d_34\">\n    <path d=\"M 34.954394 13.5 \nL 44.698573 86.09332 \nL 54.442752 104.462686 \nL 64.186931 111.349883 \nL 73.93111 117.278989 \nL 83.675289 119.223306 \n\" clip-path=\"url(#p82449108d5)\" style=\"fill: none; stroke: #1f77b4; stroke-width: 1.5; stroke-linecap: square\"/>\n   </g>\n   <g id=\"line2d_35\">\n    <path d=\"M 49.633125 40.618921 \nL 69.163125 98.260935 \n\" clip-path=\"url(#p82449108d5)\" style=\"fill: none; stroke-dasharray: 5.55,2.4; stroke-dashoffset: 0; stroke: #ff7f0e; stroke-width: 1.5\"/>\n   </g>\n   <g id=\"line2d_36\">\n    <path d=\"M 49.633125 52.186047 \nL 69.163125 29.717176 \n\" clip-path=\"url(#p82449108d5)\" style=\"fill: none; stroke-dasharray: 9.6,2.4,1.5,2.4; stroke-dashoffset: 0; stroke: #2ca02c; stroke-width: 1.5\"/>\n   </g>\n   <g id=\"line2d_37\">\n    <path d=\"M 34.954394 13.5 \nL 44.698573 86.09332 \nL 54.442752 104.462686 \nL 64.186931 111.349883 \nL 73.93111 117.278989 \nL 83.675289 119.223306 \n\" clip-path=\"url(#p82449108d5)\" style=\"fill: none; stroke: #1f77b4; stroke-width: 1.5; stroke-linecap: square\"/>\n   </g>\n   <g id=\"line2d_38\">\n    <path d=\"M 49.633125 40.618921 \nL 69.163125 98.260935 \nL 88.693125 110.69673 \n\" clip-path=\"url(#p82449108d5)\" style=\"fill: none; stroke-dasharray: 5.55,2.4; stroke-dashoffset: 0; stroke: #ff7f0e; stroke-width: 1.5\"/>\n   </g>\n   <g id=\"line2d_39\">\n    <path d=\"M 49.633125 52.186047 \nL 69.163125 29.717176 \n\" clip-path=\"url(#p82449108d5)\" style=\"fill: none; stroke-dasharray: 9.6,2.4,1.5,2.4; stroke-dashoffset: 0; stroke: #2ca02c; stroke-width: 1.5\"/>\n   </g>\n   <g id=\"line2d_40\">\n    <path d=\"M 34.954394 13.5 \nL 44.698573 86.09332 \nL 54.442752 104.462686 \nL 64.186931 111.349883 \nL 73.93111 117.278989 \nL 83.675289 119.223306 \n\" clip-path=\"url(#p82449108d5)\" style=\"fill: none; stroke: #1f77b4; stroke-width: 1.5; stroke-linecap: square\"/>\n   </g>\n   <g id=\"line2d_41\">\n    <path d=\"M 49.633125 40.618921 \nL 69.163125 98.260935 \nL 88.693125 110.69673 \n\" clip-path=\"url(#p82449108d5)\" style=\"fill: none; stroke-dasharray: 5.55,2.4; stroke-dashoffset: 0; stroke: #ff7f0e; stroke-width: 1.5\"/>\n   </g>\n   <g id=\"line2d_42\">\n    <path d=\"M 49.633125 52.186047 \nL 69.163125 29.717176 \nL 88.693125 25.531798 \n\" clip-path=\"url(#p82449108d5)\" style=\"fill: none; stroke-dasharray: 9.6,2.4,1.5,2.4; stroke-dashoffset: 0; stroke: #2ca02c; stroke-width: 1.5\"/>\n   </g>\n   <g id=\"line2d_43\">\n    <path d=\"M 34.954394 13.5 \nL 44.698573 86.09332 \nL 54.442752 104.462686 \nL 64.186931 111.349883 \nL 73.93111 117.278989 \nL 83.675289 119.223306 \nL 93.419468 123.063743 \n\" clip-path=\"url(#p82449108d5)\" style=\"fill: none; stroke: #1f77b4; stroke-width: 1.5; stroke-linecap: square\"/>\n   </g>\n   <g id=\"line2d_44\">\n    <path d=\"M 49.633125 40.618921 \nL 69.163125 98.260935 \nL 88.693125 110.69673 \n\" clip-path=\"url(#p82449108d5)\" style=\"fill: none; stroke-dasharray: 5.55,2.4; stroke-dashoffset: 0; stroke: #ff7f0e; stroke-width: 1.5\"/>\n   </g>\n   <g id=\"line2d_45\">\n    <path d=\"M 49.633125 52.186047 \nL 69.163125 29.717176 \nL 88.693125 25.531798 \n\" clip-path=\"url(#p82449108d5)\" style=\"fill: none; stroke-dasharray: 9.6,2.4,1.5,2.4; stroke-dashoffset: 0; stroke: #2ca02c; stroke-width: 1.5\"/>\n   </g>\n   <g id=\"line2d_46\">\n    <path d=\"M 34.954394 13.5 \nL 44.698573 86.09332 \nL 54.442752 104.462686 \nL 64.186931 111.349883 \nL 73.93111 117.278989 \nL 83.675289 119.223306 \nL 93.419468 123.063743 \nL 103.163647 123.909869 \n\" clip-path=\"url(#p82449108d5)\" style=\"fill: none; stroke: #1f77b4; stroke-width: 1.5; stroke-linecap: square\"/>\n   </g>\n   <g id=\"line2d_47\">\n    <path d=\"M 49.633125 40.618921 \nL 69.163125 98.260935 \nL 88.693125 110.69673 \n\" clip-path=\"url(#p82449108d5)\" style=\"fill: none; stroke-dasharray: 5.55,2.4; stroke-dashoffset: 0; stroke: #ff7f0e; stroke-width: 1.5\"/>\n   </g>\n   <g id=\"line2d_48\">\n    <path d=\"M 49.633125 52.186047 \nL 69.163125 29.717176 \nL 88.693125 25.531798 \n\" clip-path=\"url(#p82449108d5)\" style=\"fill: none; stroke-dasharray: 9.6,2.4,1.5,2.4; stroke-dashoffset: 0; stroke: #2ca02c; stroke-width: 1.5\"/>\n   </g>\n   <g id=\"line2d_49\">\n    <path d=\"M 34.954394 13.5 \nL 44.698573 86.09332 \nL 54.442752 104.462686 \nL 64.186931 111.349883 \nL 73.93111 117.278989 \nL 83.675289 119.223306 \nL 93.419468 123.063743 \nL 103.163647 123.909869 \n\" clip-path=\"url(#p82449108d5)\" style=\"fill: none; stroke: #1f77b4; stroke-width: 1.5; stroke-linecap: square\"/>\n   </g>\n   <g id=\"line2d_50\">\n    <path d=\"M 49.633125 40.618921 \nL 69.163125 98.260935 \nL 88.693125 110.69673 \nL 108.223125 111.965243 \n\" clip-path=\"url(#p82449108d5)\" style=\"fill: none; stroke-dasharray: 5.55,2.4; stroke-dashoffset: 0; stroke: #ff7f0e; stroke-width: 1.5\"/>\n   </g>\n   <g id=\"line2d_51\">\n    <path d=\"M 49.633125 52.186047 \nL 69.163125 29.717176 \nL 88.693125 25.531798 \n\" clip-path=\"url(#p82449108d5)\" style=\"fill: none; stroke-dasharray: 9.6,2.4,1.5,2.4; stroke-dashoffset: 0; stroke: #2ca02c; stroke-width: 1.5\"/>\n   </g>\n   <g id=\"line2d_52\">\n    <path d=\"M 34.954394 13.5 \nL 44.698573 86.09332 \nL 54.442752 104.462686 \nL 64.186931 111.349883 \nL 73.93111 117.278989 \nL 83.675289 119.223306 \nL 93.419468 123.063743 \nL 103.163647 123.909869 \n\" clip-path=\"url(#p82449108d5)\" style=\"fill: none; stroke: #1f77b4; stroke-width: 1.5; stroke-linecap: square\"/>\n   </g>\n   <g id=\"line2d_53\">\n    <path d=\"M 49.633125 40.618921 \nL 69.163125 98.260935 \nL 88.693125 110.69673 \nL 108.223125 111.965243 \n\" clip-path=\"url(#p82449108d5)\" style=\"fill: none; stroke-dasharray: 5.55,2.4; stroke-dashoffset: 0; stroke: #ff7f0e; stroke-width: 1.5\"/>\n   </g>\n   <g id=\"line2d_54\">\n    <path d=\"M 49.633125 52.186047 \nL 69.163125 29.717176 \nL 88.693125 25.531798 \nL 108.223125 25.689143 \n\" clip-path=\"url(#p82449108d5)\" style=\"fill: none; stroke-dasharray: 9.6,2.4,1.5,2.4; stroke-dashoffset: 0; stroke: #2ca02c; stroke-width: 1.5\"/>\n   </g>\n   <g id=\"line2d_55\">\n    <path d=\"M 34.954394 13.5 \nL 44.698573 86.09332 \nL 54.442752 104.462686 \nL 64.186931 111.349883 \nL 73.93111 117.278989 \nL 83.675289 119.223306 \nL 93.419468 123.063743 \nL 103.163647 123.909869 \nL 112.907826 127.481365 \n\" clip-path=\"url(#p82449108d5)\" style=\"fill: none; stroke: #1f77b4; stroke-width: 1.5; stroke-linecap: square\"/>\n   </g>\n   <g id=\"line2d_56\">\n    <path d=\"M 49.633125 40.618921 \nL 69.163125 98.260935 \nL 88.693125 110.69673 \nL 108.223125 111.965243 \n\" clip-path=\"url(#p82449108d5)\" style=\"fill: none; stroke-dasharray: 5.55,2.4; stroke-dashoffset: 0; stroke: #ff7f0e; stroke-width: 1.5\"/>\n   </g>\n   <g id=\"line2d_57\">\n    <path d=\"M 49.633125 52.186047 \nL 69.163125 29.717176 \nL 88.693125 25.531798 \nL 108.223125 25.689143 \n\" clip-path=\"url(#p82449108d5)\" style=\"fill: none; stroke-dasharray: 9.6,2.4,1.5,2.4; stroke-dashoffset: 0; stroke: #2ca02c; stroke-width: 1.5\"/>\n   </g>\n   <g id=\"line2d_58\">\n    <path d=\"M 34.954394 13.5 \nL 44.698573 86.09332 \nL 54.442752 104.462686 \nL 64.186931 111.349883 \nL 73.93111 117.278989 \nL 83.675289 119.223306 \nL 93.419468 123.063743 \nL 103.163647 123.909869 \nL 112.907826 127.481365 \nL 122.652006 127.794351 \n\" clip-path=\"url(#p82449108d5)\" style=\"fill: none; stroke: #1f77b4; stroke-width: 1.5; stroke-linecap: square\"/>\n   </g>\n   <g id=\"line2d_59\">\n    <path d=\"M 49.633125 40.618921 \nL 69.163125 98.260935 \nL 88.693125 110.69673 \nL 108.223125 111.965243 \n\" clip-path=\"url(#p82449108d5)\" style=\"fill: none; stroke-dasharray: 5.55,2.4; stroke-dashoffset: 0; stroke: #ff7f0e; stroke-width: 1.5\"/>\n   </g>\n   <g id=\"line2d_60\">\n    <path d=\"M 49.633125 52.186047 \nL 69.163125 29.717176 \nL 88.693125 25.531798 \nL 108.223125 25.689143 \n\" clip-path=\"url(#p82449108d5)\" style=\"fill: none; stroke-dasharray: 9.6,2.4,1.5,2.4; stroke-dashoffset: 0; stroke: #2ca02c; stroke-width: 1.5\"/>\n   </g>\n   <g id=\"line2d_61\">\n    <path d=\"M 34.954394 13.5 \nL 44.698573 86.09332 \nL 54.442752 104.462686 \nL 64.186931 111.349883 \nL 73.93111 117.278989 \nL 83.675289 119.223306 \nL 93.419468 123.063743 \nL 103.163647 123.909869 \nL 112.907826 127.481365 \nL 122.652006 127.794351 \n\" clip-path=\"url(#p82449108d5)\" style=\"fill: none; stroke: #1f77b4; stroke-width: 1.5; stroke-linecap: square\"/>\n   </g>\n   <g id=\"line2d_62\">\n    <path d=\"M 49.633125 40.618921 \nL 69.163125 98.260935 \nL 88.693125 110.69673 \nL 108.223125 111.965243 \nL 127.753125 109.918028 \n\" clip-path=\"url(#p82449108d5)\" style=\"fill: none; stroke-dasharray: 5.55,2.4; stroke-dashoffset: 0; stroke: #ff7f0e; stroke-width: 1.5\"/>\n   </g>\n   <g id=\"line2d_63\">\n    <path d=\"M 49.633125 52.186047 \nL 69.163125 29.717176 \nL 88.693125 25.531798 \nL 108.223125 25.689143 \n\" clip-path=\"url(#p82449108d5)\" style=\"fill: none; stroke-dasharray: 9.6,2.4,1.5,2.4; stroke-dashoffset: 0; stroke: #2ca02c; stroke-width: 1.5\"/>\n   </g>\n   <g id=\"line2d_64\">\n    <path d=\"M 34.954394 13.5 \nL 44.698573 86.09332 \nL 54.442752 104.462686 \nL 64.186931 111.349883 \nL 73.93111 117.278989 \nL 83.675289 119.223306 \nL 93.419468 123.063743 \nL 103.163647 123.909869 \nL 112.907826 127.481365 \nL 122.652006 127.794351 \n\" clip-path=\"url(#p82449108d5)\" style=\"fill: none; stroke: #1f77b4; stroke-width: 1.5; stroke-linecap: square\"/>\n   </g>\n   <g id=\"line2d_65\">\n    <path d=\"M 49.633125 40.618921 \nL 69.163125 98.260935 \nL 88.693125 110.69673 \nL 108.223125 111.965243 \nL 127.753125 109.918028 \n\" clip-path=\"url(#p82449108d5)\" style=\"fill: none; stroke-dasharray: 5.55,2.4; stroke-dashoffset: 0; stroke: #ff7f0e; stroke-width: 1.5\"/>\n   </g>\n   <g id=\"line2d_66\">\n    <path d=\"M 49.633125 52.186047 \nL 69.163125 29.717176 \nL 88.693125 25.531798 \nL 108.223125 25.689143 \nL 127.753125 24.949621 \n\" clip-path=\"url(#p82449108d5)\" style=\"fill: none; stroke-dasharray: 9.6,2.4,1.5,2.4; stroke-dashoffset: 0; stroke: #2ca02c; stroke-width: 1.5\"/>\n   </g>\n   <g id=\"line2d_67\">\n    <path d=\"M 34.954394 13.5 \nL 44.698573 86.09332 \nL 54.442752 104.462686 \nL 64.186931 111.349883 \nL 73.93111 117.278989 \nL 83.675289 119.223306 \nL 93.419468 123.063743 \nL 103.163647 123.909869 \nL 112.907826 127.481365 \nL 122.652006 127.794351 \nL 132.396185 131.183015 \n\" clip-path=\"url(#p82449108d5)\" style=\"fill: none; stroke: #1f77b4; stroke-width: 1.5; stroke-linecap: square\"/>\n   </g>\n   <g id=\"line2d_68\">\n    <path d=\"M 49.633125 40.618921 \nL 69.163125 98.260935 \nL 88.693125 110.69673 \nL 108.223125 111.965243 \nL 127.753125 109.918028 \n\" clip-path=\"url(#p82449108d5)\" style=\"fill: none; stroke-dasharray: 5.55,2.4; stroke-dashoffset: 0; stroke: #ff7f0e; stroke-width: 1.5\"/>\n   </g>\n   <g id=\"line2d_69\">\n    <path d=\"M 49.633125 52.186047 \nL 69.163125 29.717176 \nL 88.693125 25.531798 \nL 108.223125 25.689143 \nL 127.753125 24.949621 \n\" clip-path=\"url(#p82449108d5)\" style=\"fill: none; stroke-dasharray: 9.6,2.4,1.5,2.4; stroke-dashoffset: 0; stroke: #2ca02c; stroke-width: 1.5\"/>\n   </g>\n   <g id=\"line2d_70\">\n    <path d=\"M 34.954394 13.5 \nL 44.698573 86.09332 \nL 54.442752 104.462686 \nL 64.186931 111.349883 \nL 73.93111 117.278989 \nL 83.675289 119.223306 \nL 93.419468 123.063743 \nL 103.163647 123.909869 \nL 112.907826 127.481365 \nL 122.652006 127.794351 \nL 132.396185 131.183015 \nL 142.140364 130.500488 \n\" clip-path=\"url(#p82449108d5)\" style=\"fill: none; stroke: #1f77b4; stroke-width: 1.5; stroke-linecap: square\"/>\n   </g>\n   <g id=\"line2d_71\">\n    <path d=\"M 49.633125 40.618921 \nL 69.163125 98.260935 \nL 88.693125 110.69673 \nL 108.223125 111.965243 \nL 127.753125 109.918028 \n\" clip-path=\"url(#p82449108d5)\" style=\"fill: none; stroke-dasharray: 5.55,2.4; stroke-dashoffset: 0; stroke: #ff7f0e; stroke-width: 1.5\"/>\n   </g>\n   <g id=\"line2d_72\">\n    <path d=\"M 49.633125 52.186047 \nL 69.163125 29.717176 \nL 88.693125 25.531798 \nL 108.223125 25.689143 \nL 127.753125 24.949621 \n\" clip-path=\"url(#p82449108d5)\" style=\"fill: none; stroke-dasharray: 9.6,2.4,1.5,2.4; stroke-dashoffset: 0; stroke: #2ca02c; stroke-width: 1.5\"/>\n   </g>\n   <g id=\"line2d_73\">\n    <path d=\"M 34.954394 13.5 \nL 44.698573 86.09332 \nL 54.442752 104.462686 \nL 64.186931 111.349883 \nL 73.93111 117.278989 \nL 83.675289 119.223306 \nL 93.419468 123.063743 \nL 103.163647 123.909869 \nL 112.907826 127.481365 \nL 122.652006 127.794351 \nL 132.396185 131.183015 \nL 142.140364 130.500488 \n\" clip-path=\"url(#p82449108d5)\" style=\"fill: none; stroke: #1f77b4; stroke-width: 1.5; stroke-linecap: square\"/>\n   </g>\n   <g id=\"line2d_74\">\n    <path d=\"M 49.633125 40.618921 \nL 69.163125 98.260935 \nL 88.693125 110.69673 \nL 108.223125 111.965243 \nL 127.753125 109.918028 \nL 147.283125 105.882515 \n\" clip-path=\"url(#p82449108d5)\" style=\"fill: none; stroke-dasharray: 5.55,2.4; stroke-dashoffset: 0; stroke: #ff7f0e; stroke-width: 1.5\"/>\n   </g>\n   <g id=\"line2d_75\">\n    <path d=\"M 49.633125 52.186047 \nL 69.163125 29.717176 \nL 88.693125 25.531798 \nL 108.223125 25.689143 \nL 127.753125 24.949621 \n\" clip-path=\"url(#p82449108d5)\" style=\"fill: none; stroke-dasharray: 9.6,2.4,1.5,2.4; stroke-dashoffset: 0; stroke: #2ca02c; stroke-width: 1.5\"/>\n   </g>\n   <g id=\"line2d_76\">\n    <path d=\"M 34.954394 13.5 \nL 44.698573 86.09332 \nL 54.442752 104.462686 \nL 64.186931 111.349883 \nL 73.93111 117.278989 \nL 83.675289 119.223306 \nL 93.419468 123.063743 \nL 103.163647 123.909869 \nL 112.907826 127.481365 \nL 122.652006 127.794351 \nL 132.396185 131.183015 \nL 142.140364 130.500488 \n\" clip-path=\"url(#p82449108d5)\" style=\"fill: none; stroke: #1f77b4; stroke-width: 1.5; stroke-linecap: square\"/>\n   </g>\n   <g id=\"line2d_77\">\n    <path d=\"M 49.633125 40.618921 \nL 69.163125 98.260935 \nL 88.693125 110.69673 \nL 108.223125 111.965243 \nL 127.753125 109.918028 \nL 147.283125 105.882515 \n\" clip-path=\"url(#p82449108d5)\" style=\"fill: none; stroke-dasharray: 5.55,2.4; stroke-dashoffset: 0; stroke: #ff7f0e; stroke-width: 1.5\"/>\n   </g>\n   <g id=\"line2d_78\">\n    <path d=\"M 49.633125 52.186047 \nL 69.163125 29.717176 \nL 88.693125 25.531798 \nL 108.223125 25.689143 \nL 127.753125 24.949621 \nL 147.283125 27.608752 \n\" clip-path=\"url(#p82449108d5)\" style=\"fill: none; stroke-dasharray: 9.6,2.4,1.5,2.4; stroke-dashoffset: 0; stroke: #2ca02c; stroke-width: 1.5\"/>\n   </g>\n   <g id=\"line2d_79\">\n    <path d=\"M 34.954394 13.5 \nL 44.698573 86.09332 \nL 54.442752 104.462686 \nL 64.186931 111.349883 \nL 73.93111 117.278989 \nL 83.675289 119.223306 \nL 93.419468 123.063743 \nL 103.163647 123.909869 \nL 112.907826 127.481365 \nL 122.652006 127.794351 \nL 132.396185 131.183015 \nL 142.140364 130.500488 \nL 151.884543 133.301336 \n\" clip-path=\"url(#p82449108d5)\" style=\"fill: none; stroke: #1f77b4; stroke-width: 1.5; stroke-linecap: square\"/>\n   </g>\n   <g id=\"line2d_80\">\n    <path d=\"M 49.633125 40.618921 \nL 69.163125 98.260935 \nL 88.693125 110.69673 \nL 108.223125 111.965243 \nL 127.753125 109.918028 \nL 147.283125 105.882515 \n\" clip-path=\"url(#p82449108d5)\" style=\"fill: none; stroke-dasharray: 5.55,2.4; stroke-dashoffset: 0; stroke: #ff7f0e; stroke-width: 1.5\"/>\n   </g>\n   <g id=\"line2d_81\">\n    <path d=\"M 49.633125 52.186047 \nL 69.163125 29.717176 \nL 88.693125 25.531798 \nL 108.223125 25.689143 \nL 127.753125 24.949621 \nL 147.283125 27.608752 \n\" clip-path=\"url(#p82449108d5)\" style=\"fill: none; stroke-dasharray: 9.6,2.4,1.5,2.4; stroke-dashoffset: 0; stroke: #2ca02c; stroke-width: 1.5\"/>\n   </g>\n   <g id=\"line2d_82\">\n    <path d=\"M 34.954394 13.5 \nL 44.698573 86.09332 \nL 54.442752 104.462686 \nL 64.186931 111.349883 \nL 73.93111 117.278989 \nL 83.675289 119.223306 \nL 93.419468 123.063743 \nL 103.163647 123.909869 \nL 112.907826 127.481365 \nL 122.652006 127.794351 \nL 132.396185 131.183015 \nL 142.140364 130.500488 \nL 151.884543 133.301336 \nL 161.628722 132.918894 \n\" clip-path=\"url(#p82449108d5)\" style=\"fill: none; stroke: #1f77b4; stroke-width: 1.5; stroke-linecap: square\"/>\n   </g>\n   <g id=\"line2d_83\">\n    <path d=\"M 49.633125 40.618921 \nL 69.163125 98.260935 \nL 88.693125 110.69673 \nL 108.223125 111.965243 \nL 127.753125 109.918028 \nL 147.283125 105.882515 \n\" clip-path=\"url(#p82449108d5)\" style=\"fill: none; stroke-dasharray: 5.55,2.4; stroke-dashoffset: 0; stroke: #ff7f0e; stroke-width: 1.5\"/>\n   </g>\n   <g id=\"line2d_84\">\n    <path d=\"M 49.633125 52.186047 \nL 69.163125 29.717176 \nL 88.693125 25.531798 \nL 108.223125 25.689143 \nL 127.753125 24.949621 \nL 147.283125 27.608752 \n\" clip-path=\"url(#p82449108d5)\" style=\"fill: none; stroke-dasharray: 9.6,2.4,1.5,2.4; stroke-dashoffset: 0; stroke: #2ca02c; stroke-width: 1.5\"/>\n   </g>\n   <g id=\"line2d_85\">\n    <path d=\"M 34.954394 13.5 \nL 44.698573 86.09332 \nL 54.442752 104.462686 \nL 64.186931 111.349883 \nL 73.93111 117.278989 \nL 83.675289 119.223306 \nL 93.419468 123.063743 \nL 103.163647 123.909869 \nL 112.907826 127.481365 \nL 122.652006 127.794351 \nL 132.396185 131.183015 \nL 142.140364 130.500488 \nL 151.884543 133.301336 \nL 161.628722 132.918894 \n\" clip-path=\"url(#p82449108d5)\" style=\"fill: none; stroke: #1f77b4; stroke-width: 1.5; stroke-linecap: square\"/>\n   </g>\n   <g id=\"line2d_86\">\n    <path d=\"M 49.633125 40.618921 \nL 69.163125 98.260935 \nL 88.693125 110.69673 \nL 108.223125 111.965243 \nL 127.753125 109.918028 \nL 147.283125 105.882515 \nL 166.813125 121.442168 \n\" clip-path=\"url(#p82449108d5)\" style=\"fill: none; stroke-dasharray: 5.55,2.4; stroke-dashoffset: 0; stroke: #ff7f0e; stroke-width: 1.5\"/>\n   </g>\n   <g id=\"line2d_87\">\n    <path d=\"M 49.633125 52.186047 \nL 69.163125 29.717176 \nL 88.693125 25.531798 \nL 108.223125 25.689143 \nL 127.753125 24.949621 \nL 147.283125 27.608752 \n\" clip-path=\"url(#p82449108d5)\" style=\"fill: none; stroke-dasharray: 9.6,2.4,1.5,2.4; stroke-dashoffset: 0; stroke: #2ca02c; stroke-width: 1.5\"/>\n   </g>\n   <g id=\"line2d_88\">\n    <path d=\"M 34.954394 13.5 \nL 44.698573 86.09332 \nL 54.442752 104.462686 \nL 64.186931 111.349883 \nL 73.93111 117.278989 \nL 83.675289 119.223306 \nL 93.419468 123.063743 \nL 103.163647 123.909869 \nL 112.907826 127.481365 \nL 122.652006 127.794351 \nL 132.396185 131.183015 \nL 142.140364 130.500488 \nL 151.884543 133.301336 \nL 161.628722 132.918894 \n\" clip-path=\"url(#p82449108d5)\" style=\"fill: none; stroke: #1f77b4; stroke-width: 1.5; stroke-linecap: square\"/>\n   </g>\n   <g id=\"line2d_89\">\n    <path d=\"M 49.633125 40.618921 \nL 69.163125 98.260935 \nL 88.693125 110.69673 \nL 108.223125 111.965243 \nL 127.753125 109.918028 \nL 147.283125 105.882515 \nL 166.813125 121.442168 \n\" clip-path=\"url(#p82449108d5)\" style=\"fill: none; stroke-dasharray: 5.55,2.4; stroke-dashoffset: 0; stroke: #ff7f0e; stroke-width: 1.5\"/>\n   </g>\n   <g id=\"line2d_90\">\n    <path d=\"M 49.633125 52.186047 \nL 69.163125 29.717176 \nL 88.693125 25.531798 \nL 108.223125 25.689143 \nL 127.753125 24.949621 \nL 147.283125 27.608752 \nL 166.813125 21.03173 \n\" clip-path=\"url(#p82449108d5)\" style=\"fill: none; stroke-dasharray: 9.6,2.4,1.5,2.4; stroke-dashoffset: 0; stroke: #2ca02c; stroke-width: 1.5\"/>\n   </g>\n   <g id=\"line2d_91\">\n    <path d=\"M 34.954394 13.5 \nL 44.698573 86.09332 \nL 54.442752 104.462686 \nL 64.186931 111.349883 \nL 73.93111 117.278989 \nL 83.675289 119.223306 \nL 93.419468 123.063743 \nL 103.163647 123.909869 \nL 112.907826 127.481365 \nL 122.652006 127.794351 \nL 132.396185 131.183015 \nL 142.140364 130.500488 \nL 151.884543 133.301336 \nL 161.628722 132.918894 \nL 171.372901 135.869296 \n\" clip-path=\"url(#p82449108d5)\" style=\"fill: none; stroke: #1f77b4; stroke-width: 1.5; stroke-linecap: square\"/>\n   </g>\n   <g id=\"line2d_92\">\n    <path d=\"M 49.633125 40.618921 \nL 69.163125 98.260935 \nL 88.693125 110.69673 \nL 108.223125 111.965243 \nL 127.753125 109.918028 \nL 147.283125 105.882515 \nL 166.813125 121.442168 \n\" clip-path=\"url(#p82449108d5)\" style=\"fill: none; stroke-dasharray: 5.55,2.4; stroke-dashoffset: 0; stroke: #ff7f0e; stroke-width: 1.5\"/>\n   </g>\n   <g id=\"line2d_93\">\n    <path d=\"M 49.633125 52.186047 \nL 69.163125 29.717176 \nL 88.693125 25.531798 \nL 108.223125 25.689143 \nL 127.753125 24.949621 \nL 147.283125 27.608752 \nL 166.813125 21.03173 \n\" clip-path=\"url(#p82449108d5)\" style=\"fill: none; stroke-dasharray: 9.6,2.4,1.5,2.4; stroke-dashoffset: 0; stroke: #2ca02c; stroke-width: 1.5\"/>\n   </g>\n   <g id=\"line2d_94\">\n    <path d=\"M 34.954394 13.5 \nL 44.698573 86.09332 \nL 54.442752 104.462686 \nL 64.186931 111.349883 \nL 73.93111 117.278989 \nL 83.675289 119.223306 \nL 93.419468 123.063743 \nL 103.163647 123.909869 \nL 112.907826 127.481365 \nL 122.652006 127.794351 \nL 132.396185 131.183015 \nL 142.140364 130.500488 \nL 151.884543 133.301336 \nL 161.628722 132.918894 \nL 171.372901 135.869296 \nL 181.11708 135.151487 \n\" clip-path=\"url(#p82449108d5)\" style=\"fill: none; stroke: #1f77b4; stroke-width: 1.5; stroke-linecap: square\"/>\n   </g>\n   <g id=\"line2d_95\">\n    <path d=\"M 49.633125 40.618921 \nL 69.163125 98.260935 \nL 88.693125 110.69673 \nL 108.223125 111.965243 \nL 127.753125 109.918028 \nL 147.283125 105.882515 \nL 166.813125 121.442168 \n\" clip-path=\"url(#p82449108d5)\" style=\"fill: none; stroke-dasharray: 5.55,2.4; stroke-dashoffset: 0; stroke: #ff7f0e; stroke-width: 1.5\"/>\n   </g>\n   <g id=\"line2d_96\">\n    <path d=\"M 49.633125 52.186047 \nL 69.163125 29.717176 \nL 88.693125 25.531798 \nL 108.223125 25.689143 \nL 127.753125 24.949621 \nL 147.283125 27.608752 \nL 166.813125 21.03173 \n\" clip-path=\"url(#p82449108d5)\" style=\"fill: none; stroke-dasharray: 9.6,2.4,1.5,2.4; stroke-dashoffset: 0; stroke: #2ca02c; stroke-width: 1.5\"/>\n   </g>\n   <g id=\"line2d_97\">\n    <path d=\"M 34.954394 13.5 \nL 44.698573 86.09332 \nL 54.442752 104.462686 \nL 64.186931 111.349883 \nL 73.93111 117.278989 \nL 83.675289 119.223306 \nL 93.419468 123.063743 \nL 103.163647 123.909869 \nL 112.907826 127.481365 \nL 122.652006 127.794351 \nL 132.396185 131.183015 \nL 142.140364 130.500488 \nL 151.884543 133.301336 \nL 161.628722 132.918894 \nL 171.372901 135.869296 \nL 181.11708 135.151487 \n\" clip-path=\"url(#p82449108d5)\" style=\"fill: none; stroke: #1f77b4; stroke-width: 1.5; stroke-linecap: square\"/>\n   </g>\n   <g id=\"line2d_98\">\n    <path d=\"M 49.633125 40.618921 \nL 69.163125 98.260935 \nL 88.693125 110.69673 \nL 108.223125 111.965243 \nL 127.753125 109.918028 \nL 147.283125 105.882515 \nL 166.813125 121.442168 \nL 186.343125 122.681223 \n\" clip-path=\"url(#p82449108d5)\" style=\"fill: none; stroke-dasharray: 5.55,2.4; stroke-dashoffset: 0; stroke: #ff7f0e; stroke-width: 1.5\"/>\n   </g>\n   <g id=\"line2d_99\">\n    <path d=\"M 49.633125 52.186047 \nL 69.163125 29.717176 \nL 88.693125 25.531798 \nL 108.223125 25.689143 \nL 127.753125 24.949621 \nL 147.283125 27.608752 \nL 166.813125 21.03173 \n\" clip-path=\"url(#p82449108d5)\" style=\"fill: none; stroke-dasharray: 9.6,2.4,1.5,2.4; stroke-dashoffset: 0; stroke: #2ca02c; stroke-width: 1.5\"/>\n   </g>\n   <g id=\"line2d_100\">\n    <path d=\"M 34.954394 13.5 \nL 44.698573 86.09332 \nL 54.442752 104.462686 \nL 64.186931 111.349883 \nL 73.93111 117.278989 \nL 83.675289 119.223306 \nL 93.419468 123.063743 \nL 103.163647 123.909869 \nL 112.907826 127.481365 \nL 122.652006 127.794351 \nL 132.396185 131.183015 \nL 142.140364 130.500488 \nL 151.884543 133.301336 \nL 161.628722 132.918894 \nL 171.372901 135.869296 \nL 181.11708 135.151487 \n\" clip-path=\"url(#p82449108d5)\" style=\"fill: none; stroke: #1f77b4; stroke-width: 1.5; stroke-linecap: square\"/>\n   </g>\n   <g id=\"line2d_101\">\n    <path d=\"M 49.633125 40.618921 \nL 69.163125 98.260935 \nL 88.693125 110.69673 \nL 108.223125 111.965243 \nL 127.753125 109.918028 \nL 147.283125 105.882515 \nL 166.813125 121.442168 \nL 186.343125 122.681223 \n\" clip-path=\"url(#p82449108d5)\" style=\"fill: none; stroke-dasharray: 5.55,2.4; stroke-dashoffset: 0; stroke: #ff7f0e; stroke-width: 1.5\"/>\n   </g>\n   <g id=\"line2d_102\">\n    <path d=\"M 49.633125 52.186047 \nL 69.163125 29.717176 \nL 88.693125 25.531798 \nL 108.223125 25.689143 \nL 127.753125 24.949621 \nL 147.283125 27.608752 \nL 166.813125 21.03173 \nL 186.343125 20.921588 \n\" clip-path=\"url(#p82449108d5)\" style=\"fill: none; stroke-dasharray: 9.6,2.4,1.5,2.4; stroke-dashoffset: 0; stroke: #2ca02c; stroke-width: 1.5\"/>\n   </g>\n   <g id=\"line2d_103\">\n    <path d=\"M 34.954394 13.5 \nL 44.698573 86.09332 \nL 54.442752 104.462686 \nL 64.186931 111.349883 \nL 73.93111 117.278989 \nL 83.675289 119.223306 \nL 93.419468 123.063743 \nL 103.163647 123.909869 \nL 112.907826 127.481365 \nL 122.652006 127.794351 \nL 132.396185 131.183015 \nL 142.140364 130.500488 \nL 151.884543 133.301336 \nL 161.628722 132.918894 \nL 171.372901 135.869296 \nL 181.11708 135.151487 \nL 190.861259 137.298928 \n\" clip-path=\"url(#p82449108d5)\" style=\"fill: none; stroke: #1f77b4; stroke-width: 1.5; stroke-linecap: square\"/>\n   </g>\n   <g id=\"line2d_104\">\n    <path d=\"M 49.633125 40.618921 \nL 69.163125 98.260935 \nL 88.693125 110.69673 \nL 108.223125 111.965243 \nL 127.753125 109.918028 \nL 147.283125 105.882515 \nL 166.813125 121.442168 \nL 186.343125 122.681223 \n\" clip-path=\"url(#p82449108d5)\" style=\"fill: none; stroke-dasharray: 5.55,2.4; stroke-dashoffset: 0; stroke: #ff7f0e; stroke-width: 1.5\"/>\n   </g>\n   <g id=\"line2d_105\">\n    <path d=\"M 49.633125 52.186047 \nL 69.163125 29.717176 \nL 88.693125 25.531798 \nL 108.223125 25.689143 \nL 127.753125 24.949621 \nL 147.283125 27.608752 \nL 166.813125 21.03173 \nL 186.343125 20.921588 \n\" clip-path=\"url(#p82449108d5)\" style=\"fill: none; stroke-dasharray: 9.6,2.4,1.5,2.4; stroke-dashoffset: 0; stroke: #2ca02c; stroke-width: 1.5\"/>\n   </g>\n   <g id=\"line2d_106\">\n    <path d=\"M 34.954394 13.5 \nL 44.698573 86.09332 \nL 54.442752 104.462686 \nL 64.186931 111.349883 \nL 73.93111 117.278989 \nL 83.675289 119.223306 \nL 93.419468 123.063743 \nL 103.163647 123.909869 \nL 112.907826 127.481365 \nL 122.652006 127.794351 \nL 132.396185 131.183015 \nL 142.140364 130.500488 \nL 151.884543 133.301336 \nL 161.628722 132.918894 \nL 171.372901 135.869296 \nL 181.11708 135.151487 \nL 190.861259 137.298928 \nL 200.605438 136.81828 \n\" clip-path=\"url(#p82449108d5)\" style=\"fill: none; stroke: #1f77b4; stroke-width: 1.5; stroke-linecap: square\"/>\n   </g>\n   <g id=\"line2d_107\">\n    <path d=\"M 49.633125 40.618921 \nL 69.163125 98.260935 \nL 88.693125 110.69673 \nL 108.223125 111.965243 \nL 127.753125 109.918028 \nL 147.283125 105.882515 \nL 166.813125 121.442168 \nL 186.343125 122.681223 \n\" clip-path=\"url(#p82449108d5)\" style=\"fill: none; stroke-dasharray: 5.55,2.4; stroke-dashoffset: 0; stroke: #ff7f0e; stroke-width: 1.5\"/>\n   </g>\n   <g id=\"line2d_108\">\n    <path d=\"M 49.633125 52.186047 \nL 69.163125 29.717176 \nL 88.693125 25.531798 \nL 108.223125 25.689143 \nL 127.753125 24.949621 \nL 147.283125 27.608752 \nL 166.813125 21.03173 \nL 186.343125 20.921588 \n\" clip-path=\"url(#p82449108d5)\" style=\"fill: none; stroke-dasharray: 9.6,2.4,1.5,2.4; stroke-dashoffset: 0; stroke: #2ca02c; stroke-width: 1.5\"/>\n   </g>\n   <g id=\"line2d_109\">\n    <path d=\"M 34.954394 13.5 \nL 44.698573 86.09332 \nL 54.442752 104.462686 \nL 64.186931 111.349883 \nL 73.93111 117.278989 \nL 83.675289 119.223306 \nL 93.419468 123.063743 \nL 103.163647 123.909869 \nL 112.907826 127.481365 \nL 122.652006 127.794351 \nL 132.396185 131.183015 \nL 142.140364 130.500488 \nL 151.884543 133.301336 \nL 161.628722 132.918894 \nL 171.372901 135.869296 \nL 181.11708 135.151487 \nL 190.861259 137.298928 \nL 200.605438 136.81828 \n\" clip-path=\"url(#p82449108d5)\" style=\"fill: none; stroke: #1f77b4; stroke-width: 1.5; stroke-linecap: square\"/>\n   </g>\n   <g id=\"line2d_110\">\n    <path d=\"M 49.633125 40.618921 \nL 69.163125 98.260935 \nL 88.693125 110.69673 \nL 108.223125 111.965243 \nL 127.753125 109.918028 \nL 147.283125 105.882515 \nL 166.813125 121.442168 \nL 186.343125 122.681223 \nL 205.873125 115.911103 \n\" clip-path=\"url(#p82449108d5)\" style=\"fill: none; stroke-dasharray: 5.55,2.4; stroke-dashoffset: 0; stroke: #ff7f0e; stroke-width: 1.5\"/>\n   </g>\n   <g id=\"line2d_111\">\n    <path d=\"M 49.633125 52.186047 \nL 69.163125 29.717176 \nL 88.693125 25.531798 \nL 108.223125 25.689143 \nL 127.753125 24.949621 \nL 147.283125 27.608752 \nL 166.813125 21.03173 \nL 186.343125 20.921588 \n\" clip-path=\"url(#p82449108d5)\" style=\"fill: none; stroke-dasharray: 9.6,2.4,1.5,2.4; stroke-dashoffset: 0; stroke: #2ca02c; stroke-width: 1.5\"/>\n   </g>\n   <g id=\"line2d_112\">\n    <path d=\"M 34.954394 13.5 \nL 44.698573 86.09332 \nL 54.442752 104.462686 \nL 64.186931 111.349883 \nL 73.93111 117.278989 \nL 83.675289 119.223306 \nL 93.419468 123.063743 \nL 103.163647 123.909869 \nL 112.907826 127.481365 \nL 122.652006 127.794351 \nL 132.396185 131.183015 \nL 142.140364 130.500488 \nL 151.884543 133.301336 \nL 161.628722 132.918894 \nL 171.372901 135.869296 \nL 181.11708 135.151487 \nL 190.861259 137.298928 \nL 200.605438 136.81828 \n\" clip-path=\"url(#p82449108d5)\" style=\"fill: none; stroke: #1f77b4; stroke-width: 1.5; stroke-linecap: square\"/>\n   </g>\n   <g id=\"line2d_113\">\n    <path d=\"M 49.633125 40.618921 \nL 69.163125 98.260935 \nL 88.693125 110.69673 \nL 108.223125 111.965243 \nL 127.753125 109.918028 \nL 147.283125 105.882515 \nL 166.813125 121.442168 \nL 186.343125 122.681223 \nL 205.873125 115.911103 \n\" clip-path=\"url(#p82449108d5)\" style=\"fill: none; stroke-dasharray: 5.55,2.4; stroke-dashoffset: 0; stroke: #ff7f0e; stroke-width: 1.5\"/>\n   </g>\n   <g id=\"line2d_114\">\n    <path d=\"M 49.633125 52.186047 \nL 69.163125 29.717176 \nL 88.693125 25.531798 \nL 108.223125 25.689143 \nL 127.753125 24.949621 \nL 147.283125 27.608752 \nL 166.813125 21.03173 \nL 186.343125 20.921588 \nL 205.873125 23.218826 \n\" clip-path=\"url(#p82449108d5)\" style=\"fill: none; stroke-dasharray: 9.6,2.4,1.5,2.4; stroke-dashoffset: 0; stroke: #2ca02c; stroke-width: 1.5\"/>\n   </g>\n   <g id=\"line2d_115\">\n    <path d=\"M 34.954394 13.5 \nL 44.698573 86.09332 \nL 54.442752 104.462686 \nL 64.186931 111.349883 \nL 73.93111 117.278989 \nL 83.675289 119.223306 \nL 93.419468 123.063743 \nL 103.163647 123.909869 \nL 112.907826 127.481365 \nL 122.652006 127.794351 \nL 132.396185 131.183015 \nL 142.140364 130.500488 \nL 151.884543 133.301336 \nL 161.628722 132.918894 \nL 171.372901 135.869296 \nL 181.11708 135.151487 \nL 190.861259 137.298928 \nL 200.605438 136.81828 \nL 210.349618 139.5 \n\" clip-path=\"url(#p82449108d5)\" style=\"fill: none; stroke: #1f77b4; stroke-width: 1.5; stroke-linecap: square\"/>\n   </g>\n   <g id=\"line2d_116\">\n    <path d=\"M 49.633125 40.618921 \nL 69.163125 98.260935 \nL 88.693125 110.69673 \nL 108.223125 111.965243 \nL 127.753125 109.918028 \nL 147.283125 105.882515 \nL 166.813125 121.442168 \nL 186.343125 122.681223 \nL 205.873125 115.911103 \n\" clip-path=\"url(#p82449108d5)\" style=\"fill: none; stroke-dasharray: 5.55,2.4; stroke-dashoffset: 0; stroke: #ff7f0e; stroke-width: 1.5\"/>\n   </g>\n   <g id=\"line2d_117\">\n    <path d=\"M 49.633125 52.186047 \nL 69.163125 29.717176 \nL 88.693125 25.531798 \nL 108.223125 25.689143 \nL 127.753125 24.949621 \nL 147.283125 27.608752 \nL 166.813125 21.03173 \nL 186.343125 20.921588 \nL 205.873125 23.218826 \n\" clip-path=\"url(#p82449108d5)\" style=\"fill: none; stroke-dasharray: 9.6,2.4,1.5,2.4; stroke-dashoffset: 0; stroke: #2ca02c; stroke-width: 1.5\"/>\n   </g>\n   <g id=\"line2d_118\">\n    <path d=\"M 34.954394 13.5 \nL 44.698573 86.09332 \nL 54.442752 104.462686 \nL 64.186931 111.349883 \nL 73.93111 117.278989 \nL 83.675289 119.223306 \nL 93.419468 123.063743 \nL 103.163647 123.909869 \nL 112.907826 127.481365 \nL 122.652006 127.794351 \nL 132.396185 131.183015 \nL 142.140364 130.500488 \nL 151.884543 133.301336 \nL 161.628722 132.918894 \nL 171.372901 135.869296 \nL 181.11708 135.151487 \nL 190.861259 137.298928 \nL 200.605438 136.81828 \nL 210.349618 139.5 \nL 220.093797 138.494271 \n\" clip-path=\"url(#p82449108d5)\" style=\"fill: none; stroke: #1f77b4; stroke-width: 1.5; stroke-linecap: square\"/>\n   </g>\n   <g id=\"line2d_119\">\n    <path d=\"M 49.633125 40.618921 \nL 69.163125 98.260935 \nL 88.693125 110.69673 \nL 108.223125 111.965243 \nL 127.753125 109.918028 \nL 147.283125 105.882515 \nL 166.813125 121.442168 \nL 186.343125 122.681223 \nL 205.873125 115.911103 \n\" clip-path=\"url(#p82449108d5)\" style=\"fill: none; stroke-dasharray: 5.55,2.4; stroke-dashoffset: 0; stroke: #ff7f0e; stroke-width: 1.5\"/>\n   </g>\n   <g id=\"line2d_120\">\n    <path d=\"M 49.633125 52.186047 \nL 69.163125 29.717176 \nL 88.693125 25.531798 \nL 108.223125 25.689143 \nL 127.753125 24.949621 \nL 147.283125 27.608752 \nL 166.813125 21.03173 \nL 186.343125 20.921588 \nL 205.873125 23.218826 \n\" clip-path=\"url(#p82449108d5)\" style=\"fill: none; stroke-dasharray: 9.6,2.4,1.5,2.4; stroke-dashoffset: 0; stroke: #2ca02c; stroke-width: 1.5\"/>\n   </g>\n   <g id=\"line2d_121\">\n    <path d=\"M 34.954394 13.5 \nL 44.698573 86.09332 \nL 54.442752 104.462686 \nL 64.186931 111.349883 \nL 73.93111 117.278989 \nL 83.675289 119.223306 \nL 93.419468 123.063743 \nL 103.163647 123.909869 \nL 112.907826 127.481365 \nL 122.652006 127.794351 \nL 132.396185 131.183015 \nL 142.140364 130.500488 \nL 151.884543 133.301336 \nL 161.628722 132.918894 \nL 171.372901 135.869296 \nL 181.11708 135.151487 \nL 190.861259 137.298928 \nL 200.605438 136.81828 \nL 210.349618 139.5 \nL 220.093797 138.494271 \n\" clip-path=\"url(#p82449108d5)\" style=\"fill: none; stroke: #1f77b4; stroke-width: 1.5; stroke-linecap: square\"/>\n   </g>\n   <g id=\"line2d_122\">\n    <path d=\"M 49.633125 40.618921 \nL 69.163125 98.260935 \nL 88.693125 110.69673 \nL 108.223125 111.965243 \nL 127.753125 109.918028 \nL 147.283125 105.882515 \nL 166.813125 121.442168 \nL 186.343125 122.681223 \nL 205.873125 115.911103 \nL 225.403125 120.655069 \n\" clip-path=\"url(#p82449108d5)\" style=\"fill: none; stroke-dasharray: 5.55,2.4; stroke-dashoffset: 0; stroke: #ff7f0e; stroke-width: 1.5\"/>\n   </g>\n   <g id=\"line2d_123\">\n    <path d=\"M 49.633125 52.186047 \nL 69.163125 29.717176 \nL 88.693125 25.531798 \nL 108.223125 25.689143 \nL 127.753125 24.949621 \nL 147.283125 27.608752 \nL 166.813125 21.03173 \nL 186.343125 20.921588 \nL 205.873125 23.218826 \n\" clip-path=\"url(#p82449108d5)\" style=\"fill: none; stroke-dasharray: 9.6,2.4,1.5,2.4; stroke-dashoffset: 0; stroke: #2ca02c; stroke-width: 1.5\"/>\n   </g>\n   <g id=\"line2d_124\">\n    <path d=\"M 34.954394 13.5 \nL 44.698573 86.09332 \nL 54.442752 104.462686 \nL 64.186931 111.349883 \nL 73.93111 117.278989 \nL 83.675289 119.223306 \nL 93.419468 123.063743 \nL 103.163647 123.909869 \nL 112.907826 127.481365 \nL 122.652006 127.794351 \nL 132.396185 131.183015 \nL 142.140364 130.500488 \nL 151.884543 133.301336 \nL 161.628722 132.918894 \nL 171.372901 135.869296 \nL 181.11708 135.151487 \nL 190.861259 137.298928 \nL 200.605438 136.81828 \nL 210.349618 139.5 \nL 220.093797 138.494271 \n\" clip-path=\"url(#p82449108d5)\" style=\"fill: none; stroke: #1f77b4; stroke-width: 1.5; stroke-linecap: square\"/>\n   </g>\n   <g id=\"line2d_125\">\n    <path d=\"M 49.633125 40.618921 \nL 69.163125 98.260935 \nL 88.693125 110.69673 \nL 108.223125 111.965243 \nL 127.753125 109.918028 \nL 147.283125 105.882515 \nL 166.813125 121.442168 \nL 186.343125 122.681223 \nL 205.873125 115.911103 \nL 225.403125 120.655069 \n\" clip-path=\"url(#p82449108d5)\" style=\"fill: none; stroke-dasharray: 5.55,2.4; stroke-dashoffset: 0; stroke: #ff7f0e; stroke-width: 1.5\"/>\n   </g>\n   <g id=\"line2d_126\">\n    <path d=\"M 49.633125 52.186047 \nL 69.163125 29.717176 \nL 88.693125 25.531798 \nL 108.223125 25.689143 \nL 127.753125 24.949621 \nL 147.283125 27.608752 \nL 166.813125 21.03173 \nL 186.343125 20.921588 \nL 205.873125 23.218826 \nL 225.403125 21.724048 \n\" clip-path=\"url(#p82449108d5)\" style=\"fill: none; stroke-dasharray: 9.6,2.4,1.5,2.4; stroke-dashoffset: 0; stroke: #2ca02c; stroke-width: 1.5\"/>\n   </g>\n   <g id=\"patch_3\">\n    <path d=\"M 30.103125 145.8 \nL 30.103125 7.2 \n\" style=\"fill: none; stroke: #000000; stroke-width: 0.8; stroke-linejoin: miter; stroke-linecap: square\"/>\n   </g>\n   <g id=\"patch_4\">\n    <path d=\"M 225.403125 145.8 \nL 225.403125 7.2 \n\" style=\"fill: none; stroke: #000000; stroke-width: 0.8; stroke-linejoin: miter; stroke-linecap: square\"/>\n   </g>\n   <g id=\"patch_5\">\n    <path d=\"M 30.103125 145.8 \nL 225.403125 145.8 \n\" style=\"fill: none; stroke: #000000; stroke-width: 0.8; stroke-linejoin: miter; stroke-linecap: square\"/>\n   </g>\n   <g id=\"patch_6\">\n    <path d=\"M 30.103125 7.2 \nL 225.403125 7.2 \n\" style=\"fill: none; stroke: #000000; stroke-width: 0.8; stroke-linejoin: miter; stroke-linecap: square\"/>\n   </g>\n   <g id=\"legend_1\">\n    <g id=\"patch_7\">\n     <path d=\"M 138.8125 100.434375 \nL 218.403125 100.434375 \nQ 220.403125 100.434375 220.403125 98.434375 \nL 220.403125 54.565625 \nQ 220.403125 52.565625 218.403125 52.565625 \nL 138.8125 52.565625 \nQ 136.8125 52.565625 136.8125 54.565625 \nL 136.8125 98.434375 \nQ 136.8125 100.434375 138.8125 100.434375 \nz\n\" style=\"fill: #ffffff; opacity: 0.8; stroke: #cccccc; stroke-linejoin: miter\"/>\n    </g>\n    <g id=\"line2d_127\">\n     <path d=\"M 140.8125 60.664063 \nL 150.8125 60.664063 \nL 160.8125 60.664063 \n\" style=\"fill: none; stroke: #1f77b4; stroke-width: 1.5; stroke-linecap: square\"/>\n    </g>\n    <g id=\"text_12\">\n     <!-- train_loss -->\n     <g transform=\"translate(168.8125 64.164063) scale(0.1 -0.1)\">\n      <defs>\n       <path id=\"DejaVuSans-74\" d=\"M 1172 4494 \nL 1172 3500 \nL 2356 3500 \nL 2356 3053 \nL 1172 3053 \nL 1172 1153 \nQ 1172 725 1289 603 \nQ 1406 481 1766 481 \nL 2356 481 \nL 2356 0 \nL 1766 0 \nQ 1100 0 847 248 \nQ 594 497 594 1153 \nL 594 3053 \nL 172 3053 \nL 172 3500 \nL 594 3500 \nL 594 4494 \nL 1172 4494 \nz\n\" transform=\"scale(0.015625)\"/>\n       <path id=\"DejaVuSans-72\" d=\"M 2631 2963 \nQ 2534 3019 2420 3045 \nQ 2306 3072 2169 3072 \nQ 1681 3072 1420 2755 \nQ 1159 2438 1159 1844 \nL 1159 0 \nL 581 0 \nL 581 3500 \nL 1159 3500 \nL 1159 2956 \nQ 1341 3275 1631 3429 \nQ 1922 3584 2338 3584 \nQ 2397 3584 2469 3576 \nQ 2541 3569 2628 3553 \nL 2631 2963 \nz\n\" transform=\"scale(0.015625)\"/>\n       <path id=\"DejaVuSans-61\" d=\"M 2194 1759 \nQ 1497 1759 1228 1600 \nQ 959 1441 959 1056 \nQ 959 750 1161 570 \nQ 1363 391 1709 391 \nQ 2188 391 2477 730 \nQ 2766 1069 2766 1631 \nL 2766 1759 \nL 2194 1759 \nz\nM 3341 1997 \nL 3341 0 \nL 2766 0 \nL 2766 531 \nQ 2569 213 2275 61 \nQ 1981 -91 1556 -91 \nQ 1019 -91 701 211 \nQ 384 513 384 1019 \nQ 384 1609 779 1909 \nQ 1175 2209 1959 2209 \nL 2766 2209 \nL 2766 2266 \nQ 2766 2663 2505 2880 \nQ 2244 3097 1772 3097 \nQ 1472 3097 1187 3025 \nQ 903 2953 641 2809 \nL 641 3341 \nQ 956 3463 1253 3523 \nQ 1550 3584 1831 3584 \nQ 2591 3584 2966 3190 \nQ 3341 2797 3341 1997 \nz\n\" transform=\"scale(0.015625)\"/>\n       <path id=\"DejaVuSans-69\" d=\"M 603 3500 \nL 1178 3500 \nL 1178 0 \nL 603 0 \nL 603 3500 \nz\nM 603 4863 \nL 1178 4863 \nL 1178 4134 \nL 603 4134 \nL 603 4863 \nz\n\" transform=\"scale(0.015625)\"/>\n       <path id=\"DejaVuSans-6e\" d=\"M 3513 2113 \nL 3513 0 \nL 2938 0 \nL 2938 2094 \nQ 2938 2591 2744 2837 \nQ 2550 3084 2163 3084 \nQ 1697 3084 1428 2787 \nQ 1159 2491 1159 1978 \nL 1159 0 \nL 581 0 \nL 581 3500 \nL 1159 3500 \nL 1159 2956 \nQ 1366 3272 1645 3428 \nQ 1925 3584 2291 3584 \nQ 2894 3584 3203 3211 \nQ 3513 2838 3513 2113 \nz\n\" transform=\"scale(0.015625)\"/>\n       <path id=\"DejaVuSans-5f\" d=\"M 3263 -1063 \nL 3263 -1509 \nL -63 -1509 \nL -63 -1063 \nL 3263 -1063 \nz\n\" transform=\"scale(0.015625)\"/>\n       <path id=\"DejaVuSans-6c\" d=\"M 603 4863 \nL 1178 4863 \nL 1178 0 \nL 603 0 \nL 603 4863 \nz\n\" transform=\"scale(0.015625)\"/>\n       <path id=\"DejaVuSans-73\" d=\"M 2834 3397 \nL 2834 2853 \nQ 2591 2978 2328 3040 \nQ 2066 3103 1784 3103 \nQ 1356 3103 1142 2972 \nQ 928 2841 928 2578 \nQ 928 2378 1081 2264 \nQ 1234 2150 1697 2047 \nL 1894 2003 \nQ 2506 1872 2764 1633 \nQ 3022 1394 3022 966 \nQ 3022 478 2636 193 \nQ 2250 -91 1575 -91 \nQ 1294 -91 989 -36 \nQ 684 19 347 128 \nL 347 722 \nQ 666 556 975 473 \nQ 1284 391 1588 391 \nQ 1994 391 2212 530 \nQ 2431 669 2431 922 \nQ 2431 1156 2273 1281 \nQ 2116 1406 1581 1522 \nL 1381 1569 \nQ 847 1681 609 1914 \nQ 372 2147 372 2553 \nQ 372 3047 722 3315 \nQ 1072 3584 1716 3584 \nQ 2034 3584 2315 3537 \nQ 2597 3491 2834 3397 \nz\n\" transform=\"scale(0.015625)\"/>\n      </defs>\n      <use xlink:href=\"#DejaVuSans-74\"/>\n      <use xlink:href=\"#DejaVuSans-72\" x=\"39.208984\"/>\n      <use xlink:href=\"#DejaVuSans-61\" x=\"80.322266\"/>\n      <use xlink:href=\"#DejaVuSans-69\" x=\"141.601562\"/>\n      <use xlink:href=\"#DejaVuSans-6e\" x=\"169.384766\"/>\n      <use xlink:href=\"#DejaVuSans-5f\" x=\"232.763672\"/>\n      <use xlink:href=\"#DejaVuSans-6c\" x=\"282.763672\"/>\n      <use xlink:href=\"#DejaVuSans-6f\" x=\"310.546875\"/>\n      <use xlink:href=\"#DejaVuSans-73\" x=\"371.728516\"/>\n      <use xlink:href=\"#DejaVuSans-73\" x=\"423.828125\"/>\n     </g>\n    </g>\n    <g id=\"line2d_128\">\n     <path d=\"M 140.8125 75.620313 \nL 150.8125 75.620313 \nL 160.8125 75.620313 \n\" style=\"fill: none; stroke-dasharray: 5.55,2.4; stroke-dashoffset: 0; stroke: #ff7f0e; stroke-width: 1.5\"/>\n    </g>\n    <g id=\"text_13\">\n     <!-- val_loss -->\n     <g transform=\"translate(168.8125 79.120313) scale(0.1 -0.1)\">\n      <defs>\n       <path id=\"DejaVuSans-76\" d=\"M 191 3500 \nL 800 3500 \nL 1894 563 \nL 2988 3500 \nL 3597 3500 \nL 2284 0 \nL 1503 0 \nL 191 3500 \nz\n\" transform=\"scale(0.015625)\"/>\n      </defs>\n      <use xlink:href=\"#DejaVuSans-76\"/>\n      <use xlink:href=\"#DejaVuSans-61\" x=\"59.179688\"/>\n      <use xlink:href=\"#DejaVuSans-6c\" x=\"120.458984\"/>\n      <use xlink:href=\"#DejaVuSans-5f\" x=\"148.242188\"/>\n      <use xlink:href=\"#DejaVuSans-6c\" x=\"198.242188\"/>\n      <use xlink:href=\"#DejaVuSans-6f\" x=\"226.025391\"/>\n      <use xlink:href=\"#DejaVuSans-73\" x=\"287.207031\"/>\n      <use xlink:href=\"#DejaVuSans-73\" x=\"339.306641\"/>\n     </g>\n    </g>\n    <g id=\"line2d_129\">\n     <path d=\"M 140.8125 90.576563 \nL 150.8125 90.576563 \nL 160.8125 90.576563 \n\" style=\"fill: none; stroke-dasharray: 9.6,2.4,1.5,2.4; stroke-dashoffset: 0; stroke: #2ca02c; stroke-width: 1.5\"/>\n    </g>\n    <g id=\"text_14\">\n     <!-- val_acc -->\n     <g transform=\"translate(168.8125 94.076563) scale(0.1 -0.1)\">\n      <use xlink:href=\"#DejaVuSans-76\"/>\n      <use xlink:href=\"#DejaVuSans-61\" x=\"59.179688\"/>\n      <use xlink:href=\"#DejaVuSans-6c\" x=\"120.458984\"/>\n      <use xlink:href=\"#DejaVuSans-5f\" x=\"148.242188\"/>\n      <use xlink:href=\"#DejaVuSans-61\" x=\"198.242188\"/>\n      <use xlink:href=\"#DejaVuSans-63\" x=\"259.521484\"/>\n      <use xlink:href=\"#DejaVuSans-63\" x=\"314.501953\"/>\n     </g>\n    </g>\n   </g>\n  </g>\n </g>\n <defs>\n  <clipPath id=\"p82449108d5\">\n   <rect x=\"30.103125\" y=\"7.2\" width=\"195.3\" height=\"138.6\"/>\n  </clipPath>\n </defs>\n</svg>\n"
          },
          "metadata": {}
        }
      ]
    },
    {
      "cell_type": "markdown",
      "source": [
        "## 8.8.6. Exercises"
      ],
      "metadata": {
        "id": "yeUZOcuVZgTH"
      }
    },
    {
      "cell_type": "markdown",
      "source": [
        "**1.** Increase the number of stages to four. Can you design a deeper RegNetX that performs better?\n",
        "\n",
        "**ANSWER**\n",
        "\n",
        "To create a deeper RegNetX model with four stages, you need to define the architecture such that it includes four stages, each with a specified number of blocks, channels, groups, and bottleneck multipliers. Here's an example of how to define a deeper RegNetX with four stages:"
      ],
      "metadata": {
        "id": "Y8Vl7dJVZjCa"
      }
    },
    {
      "cell_type": "code",
      "source": [
        "class DeeperRegNetX(AnyNet):\n",
        "    def __init__(self, lr=0.1, num_classes=10):\n",
        "        # Define the architecture for 4 stages\n",
        "        stem_channels, groups, bot_mul = 32, 16, 1\n",
        "        depths, channels = (4, 6, 8, 10), (32, 64, 128, 256)  # Adjusted for deeper model\n",
        "        super().__init__(\n",
        "            ((depths[0], channels[0], groups, bot_mul),\n",
        "             (depths[1], channels[1], groups, bot_mul),\n",
        "             (depths[2], channels[2], groups, bot_mul),\n",
        "             (depths[3], channels[3], groups, bot_mul)),\n",
        "            stem_channels, lr, num_classes)\n",
        "\n",
        "# Testing the deeper model\n",
        "model = DeeperRegNetX(lr=0.05)\n",
        "trainer = d2l.Trainer(max_epochs=10, num_gpus=1)\n",
        "data = d2l.FashionMNIST(batch_size=128, resize=(96, 96))\n",
        "trainer.fit(model, data)"
      ],
      "metadata": {
        "id": "r6_CopejAadG"
      },
      "execution_count": null,
      "outputs": []
    },
    {
      "cell_type": "markdown",
      "source": [
        "**2.** De-ResNeXt-ify RegNets by replacing the ResNeXt block with the ResNet block. How does your new model perform?\n",
        "\n",
        "**ANSWER**\n",
        "\n",
        "To replace the ResNeXt blocks with ResNet blocks, modify the stage method to use d2l.ResNetBlock instead of d2l.ResNeXtBlock."
      ],
      "metadata": {
        "id": "xtp5zV7n__Ec"
      }
    },
    {
      "cell_type": "code",
      "source": [
        "class RegNetXWithResNetBlock(AnyNet):\n",
        "    def stage(self, depth, num_channels, groups, bot_mul):\n",
        "        blk = []\n",
        "        for i in range(depth):\n",
        "            if i == 0:\n",
        "                blk.append(d2l.ResNetBlock(num_channels, use_1x1conv=True, strides=2))\n",
        "            else:\n",
        "                blk.append(d2l.ResNetBlock(num_channels))\n",
        "        return nn.Sequential(*blk)\n",
        "\n",
        "    def __init__(self, arch, stem_channels, lr=0.1, num_classes=10):\n",
        "        super(RegNetXWithResNetBlock, self).__init__()\n",
        "        self.save_hyperparameters()\n",
        "        self.net = nn.Sequential(self.stem(stem_channels))\n",
        "        for i, s in enumerate(arch):\n",
        "            self.net.add_module(f'stage{i+1}', self.stage(*s))\n",
        "        self.net.add_module('head', nn.Sequential(\n",
        "            nn.AdaptiveAvgPool2d((1, 1)), nn.Flatten(),\n",
        "            nn.LazyLinear(num_classes)))\n",
        "        self.net.apply(d2l.init_cnn)\n",
        "\n",
        "# Instantiate and train the model\n",
        "arch = [\n",
        "    (4, 32, 16, 1),  # Stage 1\n",
        "    (6, 64, 16, 1),  # Stage 2\n",
        "    (8, 128, 16, 1),  # Stage 3\n",
        "    (10, 256, 16, 1)   # Stage 4\n",
        "]\n",
        "model = RegNetXWithResNetBlock(arch, stem_channels=32, lr=0.05)\n",
        "trainer.fit(model, data)"
      ],
      "metadata": {
        "id": "sFGrHukBAkdi"
      },
      "execution_count": null,
      "outputs": []
    },
    {
      "cell_type": "markdown",
      "source": [
        "**3.** Implement multiple instances of a “VioNet” family by violating the design principles of RegNetX. How do they perform? Which of ( di, ci, gi, bi) is the most important factor?\n",
        "\n",
        "**ANSWER**\n",
        "\n",
        "The “VioNet” family can be created by intentionally violating design principles of RegNetX, such as inconsistent channel increments, uneven group sizes, and non-uniform depth."
      ],
      "metadata": {
        "id": "0rUFBd8XAB-L"
      }
    },
    {
      "cell_type": "code",
      "source": [
        "class VioNet(AnyNet):\n",
        "    def __init__(self, lr=0.1, num_classes=10):\n",
        "        # Define a \"violated\" architecture\n",
        "        stem_channels, groups, bot_mul = 32, 4, 1\n",
        "        depths, channels = (3, 5, 7, 2), (32, 64, 128, 32)  # Irregularities in depth and channels\n",
        "        super().__init__(\n",
        "            ((depths[0], channels[0], groups, bot_mul),\n",
        "             (depths[1], channels[1], groups, bot_mul),\n",
        "             (depths[2], channels[2], groups, bot_mul),\n",
        "             (depths[3], channels[3], groups, bot_mul)),\n",
        "            stem_channels, lr, num_classes)\n",
        "\n",
        "# Testing the VioNet model\n",
        "model = VioNet(lr=0.05)\n",
        "trainer.fit(model, data)"
      ],
      "metadata": {
        "id": "BgKIrGcNArBz"
      },
      "execution_count": null,
      "outputs": []
    },
    {
      "cell_type": "markdown",
      "source": [
        "Performance Analysis\n",
        "\n",
        "Evaluate how the model performs compared to the standard RegNetX."
      ],
      "metadata": {
        "id": "ok7wjWtqAzL8"
      }
    },
    {
      "cell_type": "markdown",
      "source": [
        "**4.** Your goal is to design the “perfect” MLP. Can you use the design principles introduced above to find good architectures? Is it possible to extrapolate from small to large networks?\n",
        "\n",
        "**ANSWER**\n",
        "\n",
        "To design an “MLP” that uses principles from the convolutional architectures, focus on layer sizes, activations, and potential skip connections."
      ],
      "metadata": {
        "id": "BQD_6znVAElB"
      }
    },
    {
      "cell_type": "code",
      "source": [
        "class PerfectMLP(nn.Module):\n",
        "    def __init__(self, input_dim, hidden_dims, num_classes):\n",
        "        super(PerfectMLP, self).__init__()\n",
        "        layers = []\n",
        "        in_dim = input_dim\n",
        "        for h_dim in hidden_dims:\n",
        "            layers.append(nn.Linear(in_dim, h_dim))\n",
        "            layers.append(nn.ReLU())\n",
        "            in_dim = h_dim\n",
        "        layers.append(nn.Linear(in_dim, num_classes))\n",
        "        self.net = nn.Sequential(*layers)\n",
        "\n",
        "    def forward(self, x):\n",
        "        return self.net(x)\n",
        "\n",
        "# Example usage\n",
        "input_dim = 784  # For FashionMNIST\n",
        "hidden_dims = [256, 128, 64]  # Adjust the sizes based on design principles\n",
        "num_classes = 10\n",
        "\n",
        "model = PerfectMLP(input_dim, hidden_dims, num_classes)"
      ],
      "metadata": {
        "id": "DBuzqPgsABK7"
      },
      "execution_count": null,
      "outputs": []
    },
    {
      "cell_type": "markdown",
      "source": [
        "Extrapolation from Small to Large Networks:\n",
        "\n",
        "Extrapolating from small to large networks can be accomplished by using the same principles but scaling up the number of layers, nodes, and possibly incorporating more advanced techniques like dropout, normalization, or more complex activation functions as you increase the model size."
      ],
      "metadata": {
        "id": "AWXuqS8EA-4F"
      }
    }
  ],
  "metadata": {
    "colab": {
      "provenance": [],
      "gpuType": "T4",
      "authorship_tag": "ABX9TyMFr1a47wzAS2WSy3RIN2C+",
      "include_colab_link": true
    },
    "kernelspec": {
      "display_name": "Python 3",
      "name": "python3"
    },
    "language_info": {
      "name": "python"
    },
    "accelerator": "GPU"
  },
  "nbformat": 4,
  "nbformat_minor": 0
}